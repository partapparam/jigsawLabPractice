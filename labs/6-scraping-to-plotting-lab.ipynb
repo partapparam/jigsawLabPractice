{
  "cells": [
    {
      "cell_type": "markdown",
      "metadata": {
        "id": "7acyVZPDsztg"
      },
      "source": [
        "# Scraping to Plotting Lab"
      ]
    },
    {
      "cell_type": "markdown",
      "metadata": {
        "id": "TGTn7AEMsztj"
      },
      "source": [
        "### Introduction"
      ]
    },
    {
      "cell_type": "markdown",
      "metadata": {
        "id": "5DPJ4qvBsztj"
      },
      "source": [
        "Ok, now it's time to work through scraping to plotting data on our own.  "
      ]
    },
    {
      "cell_type": "markdown",
      "metadata": {
        "id": "gfua6QxXsztj"
      },
      "source": [
        "### Collecting our Data"
      ]
    },
    {
      "cell_type": "markdown",
      "metadata": {
        "id": "BNYn89Ddsztk"
      },
      "source": [
        "Let's gather a list of popular songs.  From Wikipedia, we can gather the list of most streamed songs from Spotify.  It's located at the following url."
      ]
    },
    {
      "cell_type": "code",
      "execution_count": null,
      "metadata": {
        "id": "wS0UAzufsztk"
      },
      "outputs": [],
      "source": [
        "url = 'https://en.wikipedia.org/wiki/List_of_most-streamed_songs_on_Spotify'"
      ]
    },
    {
      "cell_type": "markdown",
      "metadata": {
        "id": "SSpveJ3Ksztl"
      },
      "source": [
        "Ok, now let's use pandas to find the list of tables from this url.  Store the list of tables to the variable `tables`."
      ]
    },
    {
      "cell_type": "code",
      "execution_count": null,
      "metadata": {
        "id": "rx4Z_3OPsztm"
      },
      "outputs": [],
      "source": [
        "import pandas as pd\n",
        "\n",
        "tables = pd.read_html(url)"
      ]
    },
    {
      "cell_type": "markdown",
      "metadata": {
        "id": "hcsGiIK0sztm"
      },
      "source": [
        "Now that we have our list of tables, find the element that has the large table of songs, and store it as the variable `songs_table`."
      ]
    },
    {
      "cell_type": "code",
      "execution_count": 13,
      "metadata": {
        "id": "K02FBbjZsztm",
        "outputId": "d9258dcf-6953-4812-f6de-2766edc61459",
        "colab": {
          "base_uri": "https://localhost:8080/"
        }
      },
      "outputs": [
        {
          "output_type": "stream",
          "name": "stdout",
          "text": [
            "                      Rank                    Song  \\\n",
            "0                        1       \"Blinding Lights\"   \n",
            "1                        2          \"Shape of You\"   \n",
            "2                        3     \"Someone You Loved\"   \n",
            "3                        4          \"Dance Monkey\"   \n",
            "4                        5             \"Sunflower\"   \n",
            "..                     ...                     ...   \n",
            "96                      97  \"Just The Way You Are\"   \n",
            "97                      98         \"See You Again\"   \n",
            "98                      99             \"I'm Yours\"   \n",
            "99                     100     \"Despacito (remix)\"   \n",
            "100  As of August 8th 2023   As of August 8th 2023   \n",
            "\n",
            "                                             Artist(s)     Streams (billions)  \\\n",
            "0                                           The Weeknd                  3.730   \n",
            "1                                           Ed Sheeran                  3.580   \n",
            "2                                        Lewis Capaldi                  2.911   \n",
            "3                                          Tones and I                  2.875   \n",
            "4                             Post Malone and Swae Lee                  2.840   \n",
            "..                                                 ...                    ...   \n",
            "96                                          Bruno Mars                  1.659   \n",
            "97                  Wiz Khalifa featuring Charlie Puth                  1.648   \n",
            "98                                          Jason Mraz                  1.640   \n",
            "99   Luis Fonsi and Daddy Yankee featuring Justin B...                  1.640   \n",
            "100                              As of August 8th 2023  As of August 8th 2023   \n",
            "\n",
            "              Release date                   Ref.  \n",
            "0        November 29, 2019                 [3][4]  \n",
            "1          January 6, 2017                    [5]  \n",
            "2         November 8, 2018                    [6]  \n",
            "3             May 10, 2019                    [7]  \n",
            "4         October 18, 2018                 [8][9]  \n",
            "..                     ...                    ...  \n",
            "96          10 August 2010                  [115]  \n",
            "97           10 March 2015             [127][128]  \n",
            "98              1 May 2008             [129][130]  \n",
            "99           17 April 2017             [131][132]  \n",
            "100  As of August 8th 2023  As of August 8th 2023  \n",
            "\n",
            "[101 rows x 6 columns]\n"
          ]
        }
      ],
      "source": [
        "songs_table = tables[0]\n",
        "print(songs_table)"
      ]
    },
    {
      "cell_type": "markdown",
      "metadata": {
        "id": "gPoK3AITsztp"
      },
      "source": [
        "Once stored, we can convert our table, which is a pandas dataframe, to a list of dictionaries.  We can do this with the line `songs_table.to_dict('records')`.  Assign the result to the variable `songs`."
      ]
    },
    {
      "cell_type": "code",
      "execution_count": 15,
      "metadata": {
        "id": "Sh_IFLJOsztp"
      },
      "outputs": [],
      "source": [
        "songs = songs_table.to_dict('records')"
      ]
    },
    {
      "cell_type": "markdown",
      "metadata": {
        "id": "K7yby2ctsztp"
      },
      "source": [
        "Check that your result matches the commented out data in the cell."
      ]
    },
    {
      "cell_type": "code",
      "execution_count": 16,
      "metadata": {
        "id": "wL5az9dCsztp",
        "outputId": "9028914b-75ae-45e5-e1a2-33f84b111736",
        "colab": {
          "base_uri": "https://localhost:8080/"
        }
      },
      "outputs": [
        {
          "output_type": "execute_result",
          "data": {
            "text/plain": [
              "[{'Rank': '1',\n",
              "  'Song': '\"Blinding Lights\"',\n",
              "  'Artist(s)': 'The Weeknd',\n",
              "  'Streams (billions)': '3.730',\n",
              "  'Release date': 'November 29, 2019',\n",
              "  'Ref.': '[3][4]'},\n",
              " {'Rank': '2',\n",
              "  'Song': '\"Shape of You\"',\n",
              "  'Artist(s)': 'Ed Sheeran',\n",
              "  'Streams (billions)': '3.580',\n",
              "  'Release date': 'January 6, 2017',\n",
              "  'Ref.': '[5]'}]"
            ]
          },
          "metadata": {},
          "execution_count": 16
        }
      ],
      "source": [
        "songs[:2]\n",
        "\n",
        "# [{'Song': '\"Flowers\"',\n",
        "#   'Artist(s)': 'Miley Cyrus',\n",
        "#   'Weeksat No. 1[152]': '1',\n",
        "#   'Average streams(millions)': '96.0',\n",
        "#   'Date published': '13 January 2023',\n",
        "#   'Date achieved': '19 January 2023',\n",
        "#   'Ref.': '[153]'},\n",
        "#  {'Song': '\"Kill Bill\"',\n",
        "#   'Artist(s)': 'SZA',\n",
        "#   'Weeksat No. 1[152]': '2',\n",
        "#   'Average streams(millions)': '44.4',\n",
        "#   'Date published': '9 December 2022',\n",
        "#   'Date achieved': '5 January 2023',\n",
        "#   'Ref.': '[154]'}]"
      ]
    },
    {
      "cell_type": "markdown",
      "metadata": {
        "id": "kY7vQNOBsztq"
      },
      "source": [
        "### Converting our list of dictionaries"
      ]
    },
    {
      "cell_type": "markdown",
      "metadata": {
        "id": "kbnRI_sUsztq"
      },
      "source": [
        "Ok, so now we have a list of dictionaries, and we would like to have two lists -- one for each of the top songs, and another for the related number of streams of that songs.\n",
        "\n",
        "First, use a for loop to create a list of the songs.  Store that as the variable `song_names`."
      ]
    },
    {
      "cell_type": "code",
      "execution_count": 17,
      "metadata": {
        "id": "U-rJLO07sztq"
      },
      "outputs": [],
      "source": [
        "song_names = []\n",
        "for song in songs:\n",
        "    song_names.append(song['Song'])"
      ]
    },
    {
      "cell_type": "code",
      "execution_count": 18,
      "metadata": {
        "id": "Ls48cy1qsztq",
        "outputId": "3764f27b-2cb6-457d-c2ca-ee97cfc93d48",
        "colab": {
          "base_uri": "https://localhost:8080/"
        }
      },
      "outputs": [
        {
          "output_type": "execute_result",
          "data": {
            "text/plain": [
              "['\"Blinding Lights\"', '\"Shape of You\"', '\"Someone You Loved\"']"
            ]
          },
          "metadata": {},
          "execution_count": 18
        }
      ],
      "source": [
        "song_names[:3]\n",
        "\n",
        "# ['\"Flowers\"', '\"Kill Bill\"', '\"Anti-Hero\"']"
      ]
    },
    {
      "cell_type": "markdown",
      "metadata": {
        "id": "PtEWDdhFsztw"
      },
      "source": [
        "Next we need a list of the number of streams."
      ]
    },
    {
      "cell_type": "code",
      "execution_count": 19,
      "metadata": {
        "id": "V2vR8vW6sztx"
      },
      "outputs": [],
      "source": [
        "streams = []\n",
        "for song in songs:\n",
        "  streams.append(song['Streams (billions)'])"
      ]
    },
    {
      "cell_type": "code",
      "execution_count": 20,
      "metadata": {
        "id": "9MplsEFKsztx",
        "outputId": "6ba705f3-2ae4-4773-9bed-fc1658603da5",
        "colab": {
          "base_uri": "https://localhost:8080/"
        }
      },
      "outputs": [
        {
          "output_type": "execute_result",
          "data": {
            "text/plain": [
              "['3.730', '3.580', '2.911']"
            ]
          },
          "metadata": {},
          "execution_count": 20
        }
      ],
      "source": [
        "streams[:3]\n",
        "# ['96.0', '44.4', '64.0']"
      ]
    },
    {
      "cell_type": "markdown",
      "metadata": {
        "id": "oy2gkd98sztx"
      },
      "source": [
        "### Plotting our Data"
      ]
    },
    {
      "cell_type": "markdown",
      "metadata": {
        "id": "97UYfEF9sztx"
      },
      "source": [
        "Ok, now it's time for plotly. We start by importing our `plotly.graph_objects` library in such a way that we can reference it as `go`."
      ]
    },
    {
      "cell_type": "code",
      "execution_count": 21,
      "metadata": {
        "id": "u0WVlo5Xsztx"
      },
      "outputs": [],
      "source": [
        "import plotly.graph_objects as go"
      ]
    },
    {
      "cell_type": "markdown",
      "metadata": {
        "id": "QQkQ4wAUszty"
      },
      "source": [
        "Now we want to create a figure, and inside of the figure, place a trace.  Change the trace so that it prints out the correct information.  Remember our two lists are `song_names` and `streams`."
      ]
    },
    {
      "cell_type": "code",
      "execution_count": 25,
      "metadata": {
        "id": "Zn3paYMGszty",
        "outputId": "e1cce24c-a519-4d87-9af6-65c9a2617250",
        "colab": {
          "base_uri": "https://localhost:8080/",
          "height": 542
        }
      },
      "outputs": [
        {
          "output_type": "display_data",
          "data": {
            "text/html": [
              "<html>\n",
              "<head><meta charset=\"utf-8\" /></head>\n",
              "<body>\n",
              "    <div>            <script src=\"https://cdnjs.cloudflare.com/ajax/libs/mathjax/2.7.5/MathJax.js?config=TeX-AMS-MML_SVG\"></script><script type=\"text/javascript\">if (window.MathJax && window.MathJax.Hub && window.MathJax.Hub.Config) {window.MathJax.Hub.Config({SVG: {font: \"STIX-Web\"}});}</script>                <script type=\"text/javascript\">window.PlotlyConfig = {MathJaxConfig: 'local'};</script>\n",
              "        <script src=\"https://cdn.plot.ly/plotly-2.18.2.min.js\"></script>                <div id=\"85c5eae4-2964-472d-aaa9-b3ee78b4105e\" class=\"plotly-graph-div\" style=\"height:525px; width:100%;\"></div>            <script type=\"text/javascript\">                                    window.PLOTLYENV=window.PLOTLYENV || {};                                    if (document.getElementById(\"85c5eae4-2964-472d-aaa9-b3ee78b4105e\")) {                    Plotly.newPlot(                        \"85c5eae4-2964-472d-aaa9-b3ee78b4105e\",                        [{\"hovertext\":[],\"mode\":\"markers\",\"y\":[[\"\\\"Blinding Lights\\\"\",\"\\\"Shape of You\\\"\",\"\\\"Someone You Loved\\\"\"],[\"3.730\",\"3.580\",\"2.911\",\"2.875\",\"2.840\",\"2.739\",\"2.731\",\"2.689\",\"2.614\",\"2.603\",\"2.595\",\"2.583\",\"2.579\",\"2.559\",\"2.497\",\"2.436\",\"2.377\",\"2.342\",\"2.322\",\"2.318\",\"2.308\",\"2.301\",\"2.291\",\"2.265\",\"2.251\",\"2.221\",\"2.211\",\"2.172\",\"2.152\",\"2.149\",\"2.136\",\"2.098\",\"2.071\",\"2.064\",\"2.047\",\"2.036\",\"2.032\",\"2.031\",\"2.003\",\"1.997\",\"1.987\",\"1.973\",\"1.961\",\"1.943\",\"1.942\",\"1.934\",\"1.925\",\"1.912\",\"1.912\",\"1.910\",\"1.901\",\"1.894\",\"1.873\",\"1.864\",\"1.862\",\"1.858\",\"1.847\",\"1.846\",\"1.842\",\"1.826\",\"1.826\",\"1.821\",\"1.819\",\"1.817\",\"1.813\",\"1.811\",\"1.806\",\"1.795\",\"1.793\",\"1.791\",\"1.786\",\"1.781\",\"1.775\",\"1.772\",\"1.771\",\"1.768\",\"1.756\",\"1.745\",\"1.735\",\"1.730\",\"1.729\",\"1.729\",\"1.719\",\"1.716\",\"1.709\",\"1.707\",\"1.707\",\"1.707\",\"1.705\",\"1.702\",\"1.691\",\"1.679\",\"1.679\",\"1.674\",\"1.671\",\"1.661\",\"1.659\",\"1.648\",\"1.640\",\"1.640\",\"As of August 8th 2023\"]],\"type\":\"scatter\"}],                        {\"template\":{\"data\":{\"histogram2dcontour\":[{\"type\":\"histogram2dcontour\",\"colorbar\":{\"outlinewidth\":0,\"ticks\":\"\"},\"colorscale\":[[0.0,\"#0d0887\"],[0.1111111111111111,\"#46039f\"],[0.2222222222222222,\"#7201a8\"],[0.3333333333333333,\"#9c179e\"],[0.4444444444444444,\"#bd3786\"],[0.5555555555555556,\"#d8576b\"],[0.6666666666666666,\"#ed7953\"],[0.7777777777777778,\"#fb9f3a\"],[0.8888888888888888,\"#fdca26\"],[1.0,\"#f0f921\"]]}],\"choropleth\":[{\"type\":\"choropleth\",\"colorbar\":{\"outlinewidth\":0,\"ticks\":\"\"}}],\"histogram2d\":[{\"type\":\"histogram2d\",\"colorbar\":{\"outlinewidth\":0,\"ticks\":\"\"},\"colorscale\":[[0.0,\"#0d0887\"],[0.1111111111111111,\"#46039f\"],[0.2222222222222222,\"#7201a8\"],[0.3333333333333333,\"#9c179e\"],[0.4444444444444444,\"#bd3786\"],[0.5555555555555556,\"#d8576b\"],[0.6666666666666666,\"#ed7953\"],[0.7777777777777778,\"#fb9f3a\"],[0.8888888888888888,\"#fdca26\"],[1.0,\"#f0f921\"]]}],\"heatmap\":[{\"type\":\"heatmap\",\"colorbar\":{\"outlinewidth\":0,\"ticks\":\"\"},\"colorscale\":[[0.0,\"#0d0887\"],[0.1111111111111111,\"#46039f\"],[0.2222222222222222,\"#7201a8\"],[0.3333333333333333,\"#9c179e\"],[0.4444444444444444,\"#bd3786\"],[0.5555555555555556,\"#d8576b\"],[0.6666666666666666,\"#ed7953\"],[0.7777777777777778,\"#fb9f3a\"],[0.8888888888888888,\"#fdca26\"],[1.0,\"#f0f921\"]]}],\"heatmapgl\":[{\"type\":\"heatmapgl\",\"colorbar\":{\"outlinewidth\":0,\"ticks\":\"\"},\"colorscale\":[[0.0,\"#0d0887\"],[0.1111111111111111,\"#46039f\"],[0.2222222222222222,\"#7201a8\"],[0.3333333333333333,\"#9c179e\"],[0.4444444444444444,\"#bd3786\"],[0.5555555555555556,\"#d8576b\"],[0.6666666666666666,\"#ed7953\"],[0.7777777777777778,\"#fb9f3a\"],[0.8888888888888888,\"#fdca26\"],[1.0,\"#f0f921\"]]}],\"contourcarpet\":[{\"type\":\"contourcarpet\",\"colorbar\":{\"outlinewidth\":0,\"ticks\":\"\"}}],\"contour\":[{\"type\":\"contour\",\"colorbar\":{\"outlinewidth\":0,\"ticks\":\"\"},\"colorscale\":[[0.0,\"#0d0887\"],[0.1111111111111111,\"#46039f\"],[0.2222222222222222,\"#7201a8\"],[0.3333333333333333,\"#9c179e\"],[0.4444444444444444,\"#bd3786\"],[0.5555555555555556,\"#d8576b\"],[0.6666666666666666,\"#ed7953\"],[0.7777777777777778,\"#fb9f3a\"],[0.8888888888888888,\"#fdca26\"],[1.0,\"#f0f921\"]]}],\"surface\":[{\"type\":\"surface\",\"colorbar\":{\"outlinewidth\":0,\"ticks\":\"\"},\"colorscale\":[[0.0,\"#0d0887\"],[0.1111111111111111,\"#46039f\"],[0.2222222222222222,\"#7201a8\"],[0.3333333333333333,\"#9c179e\"],[0.4444444444444444,\"#bd3786\"],[0.5555555555555556,\"#d8576b\"],[0.6666666666666666,\"#ed7953\"],[0.7777777777777778,\"#fb9f3a\"],[0.8888888888888888,\"#fdca26\"],[1.0,\"#f0f921\"]]}],\"mesh3d\":[{\"type\":\"mesh3d\",\"colorbar\":{\"outlinewidth\":0,\"ticks\":\"\"}}],\"scatter\":[{\"fillpattern\":{\"fillmode\":\"overlay\",\"size\":10,\"solidity\":0.2},\"type\":\"scatter\"}],\"parcoords\":[{\"type\":\"parcoords\",\"line\":{\"colorbar\":{\"outlinewidth\":0,\"ticks\":\"\"}}}],\"scatterpolargl\":[{\"type\":\"scatterpolargl\",\"marker\":{\"colorbar\":{\"outlinewidth\":0,\"ticks\":\"\"}}}],\"bar\":[{\"error_x\":{\"color\":\"#2a3f5f\"},\"error_y\":{\"color\":\"#2a3f5f\"},\"marker\":{\"line\":{\"color\":\"#E5ECF6\",\"width\":0.5},\"pattern\":{\"fillmode\":\"overlay\",\"size\":10,\"solidity\":0.2}},\"type\":\"bar\"}],\"scattergeo\":[{\"type\":\"scattergeo\",\"marker\":{\"colorbar\":{\"outlinewidth\":0,\"ticks\":\"\"}}}],\"scatterpolar\":[{\"type\":\"scatterpolar\",\"marker\":{\"colorbar\":{\"outlinewidth\":0,\"ticks\":\"\"}}}],\"histogram\":[{\"marker\":{\"pattern\":{\"fillmode\":\"overlay\",\"size\":10,\"solidity\":0.2}},\"type\":\"histogram\"}],\"scattergl\":[{\"type\":\"scattergl\",\"marker\":{\"colorbar\":{\"outlinewidth\":0,\"ticks\":\"\"}}}],\"scatter3d\":[{\"type\":\"scatter3d\",\"line\":{\"colorbar\":{\"outlinewidth\":0,\"ticks\":\"\"}},\"marker\":{\"colorbar\":{\"outlinewidth\":0,\"ticks\":\"\"}}}],\"scattermapbox\":[{\"type\":\"scattermapbox\",\"marker\":{\"colorbar\":{\"outlinewidth\":0,\"ticks\":\"\"}}}],\"scatterternary\":[{\"type\":\"scatterternary\",\"marker\":{\"colorbar\":{\"outlinewidth\":0,\"ticks\":\"\"}}}],\"scattercarpet\":[{\"type\":\"scattercarpet\",\"marker\":{\"colorbar\":{\"outlinewidth\":0,\"ticks\":\"\"}}}],\"carpet\":[{\"aaxis\":{\"endlinecolor\":\"#2a3f5f\",\"gridcolor\":\"white\",\"linecolor\":\"white\",\"minorgridcolor\":\"white\",\"startlinecolor\":\"#2a3f5f\"},\"baxis\":{\"endlinecolor\":\"#2a3f5f\",\"gridcolor\":\"white\",\"linecolor\":\"white\",\"minorgridcolor\":\"white\",\"startlinecolor\":\"#2a3f5f\"},\"type\":\"carpet\"}],\"table\":[{\"cells\":{\"fill\":{\"color\":\"#EBF0F8\"},\"line\":{\"color\":\"white\"}},\"header\":{\"fill\":{\"color\":\"#C8D4E3\"},\"line\":{\"color\":\"white\"}},\"type\":\"table\"}],\"barpolar\":[{\"marker\":{\"line\":{\"color\":\"#E5ECF6\",\"width\":0.5},\"pattern\":{\"fillmode\":\"overlay\",\"size\":10,\"solidity\":0.2}},\"type\":\"barpolar\"}],\"pie\":[{\"automargin\":true,\"type\":\"pie\"}]},\"layout\":{\"autotypenumbers\":\"strict\",\"colorway\":[\"#636efa\",\"#EF553B\",\"#00cc96\",\"#ab63fa\",\"#FFA15A\",\"#19d3f3\",\"#FF6692\",\"#B6E880\",\"#FF97FF\",\"#FECB52\"],\"font\":{\"color\":\"#2a3f5f\"},\"hovermode\":\"closest\",\"hoverlabel\":{\"align\":\"left\"},\"paper_bgcolor\":\"white\",\"plot_bgcolor\":\"#E5ECF6\",\"polar\":{\"bgcolor\":\"#E5ECF6\",\"angularaxis\":{\"gridcolor\":\"white\",\"linecolor\":\"white\",\"ticks\":\"\"},\"radialaxis\":{\"gridcolor\":\"white\",\"linecolor\":\"white\",\"ticks\":\"\"}},\"ternary\":{\"bgcolor\":\"#E5ECF6\",\"aaxis\":{\"gridcolor\":\"white\",\"linecolor\":\"white\",\"ticks\":\"\"},\"baxis\":{\"gridcolor\":\"white\",\"linecolor\":\"white\",\"ticks\":\"\"},\"caxis\":{\"gridcolor\":\"white\",\"linecolor\":\"white\",\"ticks\":\"\"}},\"coloraxis\":{\"colorbar\":{\"outlinewidth\":0,\"ticks\":\"\"}},\"colorscale\":{\"sequential\":[[0.0,\"#0d0887\"],[0.1111111111111111,\"#46039f\"],[0.2222222222222222,\"#7201a8\"],[0.3333333333333333,\"#9c179e\"],[0.4444444444444444,\"#bd3786\"],[0.5555555555555556,\"#d8576b\"],[0.6666666666666666,\"#ed7953\"],[0.7777777777777778,\"#fb9f3a\"],[0.8888888888888888,\"#fdca26\"],[1.0,\"#f0f921\"]],\"sequentialminus\":[[0.0,\"#0d0887\"],[0.1111111111111111,\"#46039f\"],[0.2222222222222222,\"#7201a8\"],[0.3333333333333333,\"#9c179e\"],[0.4444444444444444,\"#bd3786\"],[0.5555555555555556,\"#d8576b\"],[0.6666666666666666,\"#ed7953\"],[0.7777777777777778,\"#fb9f3a\"],[0.8888888888888888,\"#fdca26\"],[1.0,\"#f0f921\"]],\"diverging\":[[0,\"#8e0152\"],[0.1,\"#c51b7d\"],[0.2,\"#de77ae\"],[0.3,\"#f1b6da\"],[0.4,\"#fde0ef\"],[0.5,\"#f7f7f7\"],[0.6,\"#e6f5d0\"],[0.7,\"#b8e186\"],[0.8,\"#7fbc41\"],[0.9,\"#4d9221\"],[1,\"#276419\"]]},\"xaxis\":{\"gridcolor\":\"white\",\"linecolor\":\"white\",\"ticks\":\"\",\"title\":{\"standoff\":15},\"zerolinecolor\":\"white\",\"automargin\":true,\"zerolinewidth\":2},\"yaxis\":{\"gridcolor\":\"white\",\"linecolor\":\"white\",\"ticks\":\"\",\"title\":{\"standoff\":15},\"zerolinecolor\":\"white\",\"automargin\":true,\"zerolinewidth\":2},\"scene\":{\"xaxis\":{\"backgroundcolor\":\"#E5ECF6\",\"gridcolor\":\"white\",\"linecolor\":\"white\",\"showbackground\":true,\"ticks\":\"\",\"zerolinecolor\":\"white\",\"gridwidth\":2},\"yaxis\":{\"backgroundcolor\":\"#E5ECF6\",\"gridcolor\":\"white\",\"linecolor\":\"white\",\"showbackground\":true,\"ticks\":\"\",\"zerolinecolor\":\"white\",\"gridwidth\":2},\"zaxis\":{\"backgroundcolor\":\"#E5ECF6\",\"gridcolor\":\"white\",\"linecolor\":\"white\",\"showbackground\":true,\"ticks\":\"\",\"zerolinecolor\":\"white\",\"gridwidth\":2}},\"shapedefaults\":{\"line\":{\"color\":\"#2a3f5f\"}},\"annotationdefaults\":{\"arrowcolor\":\"#2a3f5f\",\"arrowhead\":0,\"arrowwidth\":1},\"geo\":{\"bgcolor\":\"white\",\"landcolor\":\"#E5ECF6\",\"subunitcolor\":\"white\",\"showland\":true,\"showlakes\":true,\"lakecolor\":\"white\"},\"title\":{\"x\":0.05},\"mapbox\":{\"style\":\"light\"}}}},                        {\"responsive\": true}                    ).then(function(){\n",
              "                            \n",
              "var gd = document.getElementById('85c5eae4-2964-472d-aaa9-b3ee78b4105e');\n",
              "var x = new MutationObserver(function (mutations, observer) {{\n",
              "        var display = window.getComputedStyle(gd).display;\n",
              "        if (!display || display === 'none') {{\n",
              "            console.log([gd, 'removed!']);\n",
              "            Plotly.purge(gd);\n",
              "            observer.disconnect();\n",
              "        }}\n",
              "}});\n",
              "\n",
              "// Listen for the removal of the full notebook cells\n",
              "var notebookContainer = gd.closest('#notebook-container');\n",
              "if (notebookContainer) {{\n",
              "    x.observe(notebookContainer, {childList: true});\n",
              "}}\n",
              "\n",
              "// Listen for the clearing of the current output cell\n",
              "var outputEl = gd.closest('.output');\n",
              "if (outputEl) {{\n",
              "    x.observe(outputEl, {childList: true});\n",
              "}}\n",
              "\n",
              "                        })                };                            </script>        </div>\n",
              "</body>\n",
              "</html>"
            ]
          },
          "metadata": {}
        }
      ],
      "source": [
        "import plotly.graph_objects as go\n",
        "\n",
        "scatter = go.Scatter(y = [song_names[:3], streams], mode = 'markers', hovertext = [])\n",
        "\n",
        "go.Figure(scatter)"
      ]
    },
    {
      "cell_type": "markdown",
      "metadata": {
        "id": "xV6Z3gH4szty"
      },
      "source": [
        "### Summary"
      ]
    },
    {
      "cell_type": "markdown",
      "metadata": {
        "id": "BKF2shwKszty"
      },
      "source": [
        "Well, that's a job well done.  If you started these lessons without ever having coded before, please go give yourself a well deserved reward.  You earned it.\n",
        "\n",
        "And if you'd like to keep going, check out one of our other courses or workshops.  You won't be disappointed :)"
      ]
    }
  ],
  "metadata": {
    "kernelspec": {
      "display_name": "Python 3 (ipykernel)",
      "language": "python",
      "name": "python3"
    },
    "language_info": {
      "codemirror_mode": {
        "name": "ipython",
        "version": 3
      },
      "file_extension": ".py",
      "mimetype": "text/x-python",
      "name": "python",
      "nbconvert_exporter": "python",
      "pygments_lexer": "ipython3",
      "version": "3.10.6"
    },
    "colab": {
      "provenance": []
    }
  },
  "nbformat": 4,
  "nbformat_minor": 0
}