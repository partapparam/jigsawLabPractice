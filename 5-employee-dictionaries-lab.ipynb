{
  "cells": [
    {
      "cell_type": "markdown",
      "metadata": {
        "id": "En71flo1dUHu"
      },
      "source": [
        "# Working with dictionaries lab"
      ]
    },
    {
      "cell_type": "markdown",
      "metadata": {
        "id": "nrDgOK43dUH0"
      },
      "source": [
        "### Introduction"
      ]
    },
    {
      "cell_type": "markdown",
      "metadata": {
        "id": "h7LAWRsAdUH2"
      },
      "source": [
        "Ok, so in this lesson, we'll practice working with dictionaries.  We'll start with  creating some dictionaries, and working with those.  Then, we'll move on to using our knowledge of dictionaries to explore the API."
      ]
    },
    {
      "cell_type": "markdown",
      "metadata": {
        "id": "PW9ML78ZdUH3"
      },
      "source": [
        "### Using our own dictionaries"
      ]
    },
    {
      "cell_type": "markdown",
      "metadata": {
        "id": "VbTayCt4dUH3"
      },
      "source": [
        "As we know, dictionaries are a great way to label attributes about an entity.  Let's start with a dictionary describing a restaurant employee."
      ]
    },
    {
      "cell_type": "code",
      "execution_count": 1,
      "metadata": {
        "id": "p4yw8u8LdUH3"
      },
      "outputs": [],
      "source": [
        "olivia = {'name': 'olivia', 'birthday': '11/6/1992',\n",
        "          'days_available': ['Monday', 'Tuesday', 'Saturday', 'Sunday']}"
      ]
    },
    {
      "cell_type": "markdown",
      "metadata": {
        "id": "13nA7rL_dUH5"
      },
      "source": [
        "Let's explore our data structure by looking at **all of the keys** in the data structure.  We'll assign these key values to a variable named `attributes`."
      ]
    },
    {
      "cell_type": "markdown",
      "metadata": {
        "id": "QFLAZVj3dUH6"
      },
      "source": [
        "> Remember to use dot and tab if you cannot remember the name of the method."
      ]
    },
    {
      "cell_type": "code",
      "execution_count": 2,
      "metadata": {
        "colab": {
          "base_uri": "https://localhost:8080/"
        },
        "id": "v9iatnHGdUH7",
        "outputId": "a121a296-f5e9-4724-845e-7e43afe29cfd"
      },
      "outputs": [
        {
          "output_type": "execute_result",
          "data": {
            "text/plain": [
              "NoneType"
            ]
          },
          "metadata": {},
          "execution_count": 2
        }
      ],
      "source": [
        "olivia_keys = None\n",
        "\n",
        "type(olivia_keys)\n",
        "# # dict_keys"
      ]
    },
    {
      "cell_type": "markdown",
      "metadata": {
        "id": "3T6nWsyfdUH7"
      },
      "source": [
        "So if we look at keys, we see that three attributes are available."
      ]
    },
    {
      "cell_type": "code",
      "execution_count": 3,
      "metadata": {
        "id": "lhChkLW6dUH7"
      },
      "outputs": [],
      "source": [
        "olivia_keys\n",
        "\n",
        "# dict_keys(['name', 'birthday', 'days_available'])"
      ]
    },
    {
      "cell_type": "markdown",
      "metadata": {
        "id": "Xpta9mhIdUH8"
      },
      "source": [
        "Now, retreive the value for `birthday` for `olivia` and assign it to the variable `birthday`."
      ]
    },
    {
      "cell_type": "code",
      "execution_count": 4,
      "metadata": {
        "id": "lrEYWdYHdUH9"
      },
      "outputs": [],
      "source": [
        "birthday = None\n",
        "\n",
        "birthday\n",
        "# 11/6/1992"
      ]
    },
    {
      "cell_type": "markdown",
      "metadata": {
        "id": "kBivAEXtdUH9"
      },
      "source": [
        "Now retreive the list of days that olivia is available, and assign it to the variable days available."
      ]
    },
    {
      "cell_type": "code",
      "execution_count": 5,
      "metadata": {
        "id": "DN06dU2-dUH9"
      },
      "outputs": [],
      "source": [
        "days_available = None\n",
        "days_available\n",
        "# ['Monday', 'Tuesday', 'Saturday', 'Sunday']"
      ]
    },
    {
      "cell_type": "markdown",
      "metadata": {
        "id": "9m5IKWTzdUH9"
      },
      "source": [
        "Now Olivia tells us that she is no longer availabe on Sunday.  Start with the variable `olivia` and remove the last element from the list of days she is available."
      ]
    },
    {
      "cell_type": "code",
      "execution_count": 6,
      "metadata": {
        "colab": {
          "base_uri": "https://localhost:8080/",
          "height": 35
        },
        "id": "HVk6_4rjdUH9",
        "outputId": "c1c450bb-0f5c-4033-f55e-5a59f38a418e"
      },
      "outputs": [
        {
          "output_type": "execute_result",
          "data": {
            "text/plain": [
              "'Sunday'"
            ],
            "application/vnd.google.colaboratory.intrinsic+json": {
              "type": "string"
            }
          },
          "metadata": {},
          "execution_count": 6
        }
      ],
      "source": [
        "# write code here\n",
        "olivia['days_available'].pop()"
      ]
    },
    {
      "cell_type": "code",
      "execution_count": 7,
      "metadata": {
        "colab": {
          "base_uri": "https://localhost:8080/"
        },
        "id": "Pl-HXezfdUH9",
        "outputId": "1ffd9637-20be-4239-ea9f-c0a87c80472c"
      },
      "outputs": [
        {
          "output_type": "execute_result",
          "data": {
            "text/plain": [
              "['Monday', 'Tuesday', 'Saturday']"
            ]
          },
          "metadata": {},
          "execution_count": 7
        }
      ],
      "source": [
        "olivia['days_available']\n",
        "# ['Monday', 'Tuesday', 'Saturday']"
      ]
    },
    {
      "cell_type": "markdown",
      "metadata": {
        "id": "-Y_ktBdmdUH-"
      },
      "source": [
        "Now let's create a new dictionary to represent another employee.  We'll assign it to the variable of `amelia`.  Our dictionary should have keys of `name`, `birthday`, and `days_available`.  And the corresponding values should be `amelia`, `3/18/1989` and an empty list for days available (as these are unknown to us right now.  "
      ]
    },
    {
      "cell_type": "code",
      "execution_count": 10,
      "metadata": {
        "id": "Pl__0jL2dUH-"
      },
      "outputs": [],
      "source": [
        "amelia = None\n",
        "amelia = {'name': 'amelia', 'birthday': '3/18/1989', 'days_available': []}"
      ]
    },
    {
      "cell_type": "code",
      "execution_count": 11,
      "metadata": {
        "colab": {
          "base_uri": "https://localhost:8080/"
        },
        "id": "OwQmOvtkdUH-",
        "outputId": "f42c3271-d6cc-4207-953f-4ab5f7436a2a"
      },
      "outputs": [
        {
          "output_type": "execute_result",
          "data": {
            "text/plain": [
              "dict_keys(['name', 'birthday', 'days_available'])"
            ]
          },
          "metadata": {},
          "execution_count": 11
        }
      ],
      "source": [
        "amelia.keys()\n",
        "\n",
        "# dict_keys(['name', 'birthday', 'days_available'])"
      ]
    },
    {
      "cell_type": "code",
      "execution_count": 12,
      "metadata": {
        "colab": {
          "base_uri": "https://localhost:8080/"
        },
        "id": "YOYc4kEgdUH-",
        "outputId": "2c392a6b-346a-41ae-e568-d04cde1ce7cf"
      },
      "outputs": [
        {
          "output_type": "execute_result",
          "data": {
            "text/plain": [
              "dict_values(['amelia', '3/18/1989', []])"
            ]
          },
          "metadata": {},
          "execution_count": 12
        }
      ],
      "source": [
        "amelia.values()\n",
        "\n",
        "# dict_values(['amelia', '3/18/1989', []])"
      ]
    },
    {
      "cell_type": "markdown",
      "metadata": {
        "id": "kxTgserOdUH-"
      },
      "source": [
        "Now, convert the dictionary above into the following list of nested data."
      ]
    },
    {
      "cell_type": "code",
      "execution_count": 14,
      "metadata": {
        "colab": {
          "base_uri": "https://localhost:8080/"
        },
        "id": "5y4qiYnYdUH_",
        "outputId": "892a96d5-8469-4f57-900b-6a2b09652fbc"
      },
      "outputs": [
        {
          "output_type": "execute_result",
          "data": {
            "text/plain": [
              "[('name', 'amelia'), ('birthday', '3/18/1989'), ('days_available', [])]"
            ]
          },
          "metadata": {},
          "execution_count": 14
        }
      ],
      "source": [
        "amelia_list = None\n",
        "amelia_list = list(amelia.items())\n",
        "amelia_list\n",
        "# [('name', 'amelia'), ('birthday', '3/18/1989'), ('days_available', [])]"
      ]
    },
    {
      "cell_type": "markdown",
      "metadata": {
        "id": "BLemoHkpdUH_"
      },
      "source": [
        "Then go usee this `amelia_list` to convert our data to a dictionary without the key value pair of `days_available`, `[]`."
      ]
    },
    {
      "cell_type": "code",
      "execution_count": 15,
      "metadata": {
        "colab": {
          "base_uri": "https://localhost:8080/"
        },
        "id": "5WpSnfPedUH_",
        "outputId": "e41a5229-a4af-4fa1-cf9a-9363b99f7cf2"
      },
      "outputs": [
        {
          "output_type": "execute_result",
          "data": {
            "text/plain": [
              "{'name': 'amelia', 'birthday': '3/18/1989', 'days_available': []}"
            ]
          },
          "metadata": {},
          "execution_count": 15
        }
      ],
      "source": [
        "dict(amelia_list)\n",
        "\n",
        "# {'name': 'amelia', 'birthday': '3/18/1989'}"
      ]
    },
    {
      "cell_type": "markdown",
      "metadata": {
        "id": "IyMF2Q3LdUH_"
      },
      "source": [
        "### Summary"
      ]
    },
    {
      "cell_type": "markdown",
      "metadata": {
        "id": "dUXFhvjKdUH_"
      },
      "source": [
        "In this lesson, we accessed information from dictionaries and we created our own dictionaries.  We practiced using the `keys` method, and the `values` method.  Then we moved onto nested data structures, a list of dictionaries.  We'll see in the next lesson that working with nested data structures is really one of the keys to working with APIs."
      ]
    }
  ],
  "metadata": {
    "kernelspec": {
      "display_name": "Python 3 (ipykernel)",
      "language": "python",
      "name": "python3"
    },
    "language_info": {
      "codemirror_mode": {
        "name": "ipython",
        "version": 3
      },
      "file_extension": ".py",
      "mimetype": "text/x-python",
      "name": "python",
      "nbconvert_exporter": "python",
      "pygments_lexer": "ipython3",
      "version": "3.9.7"
    },
    "colab": {
      "provenance": []
    }
  },
  "nbformat": 4,
  "nbformat_minor": 0
}