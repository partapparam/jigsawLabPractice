{
  "cells": [
    {
      "cell_type": "markdown",
      "metadata": {
        "id": "uPfKtHQ4JpdL"
      },
      "source": [
        "# Comparison Operators"
      ]
    },
    {
      "cell_type": "markdown",
      "metadata": {
        "id": "5xIl_udvJpdU"
      },
      "source": [
        "### Introduction"
      ]
    },
    {
      "cell_type": "markdown",
      "metadata": {
        "id": "H-CuJHneJpdU"
      },
      "source": [
        "> Here is an example of a conditional statement in Python."
      ]
    },
    {
      "cell_type": "code",
      "execution_count": 1,
      "metadata": {
        "id": "q1RRmbDJJpdV"
      },
      "outputs": [],
      "source": [
        "def can_drive(age):\n",
        "    if age > 16:\n",
        "        return True\n",
        "    else:\n",
        "        return False"
      ]
    },
    {
      "cell_type": "markdown",
      "metadata": {
        "id": "wgo15dzJJpdY"
      },
      "source": [
        "The function above relies on [comparison operators](https://www.tutorialspoint.com/python/python_basic_operators.htm).  Let's explore some comparison operators in Python below."
      ]
    },
    {
      "cell_type": "markdown",
      "metadata": {
        "id": "H7nO3mgKJpdY"
      },
      "source": [
        "### Comparison Operators"
      ]
    },
    {
      "cell_type": "code",
      "execution_count": 2,
      "metadata": {
        "colab": {
          "base_uri": "https://localhost:8080/"
        },
        "id": "mXrPqgCXJpdZ",
        "outputId": "7c17a891-7360-4715-c22f-33a764f62c26"
      },
      "outputs": [
        {
          "output_type": "stream",
          "name": "stdout",
          "text": [
            "yes\n"
          ]
        }
      ],
      "source": [
        "if 1 < 2:\n",
        "    print('yes')"
      ]
    },
    {
      "cell_type": "code",
      "execution_count": 3,
      "metadata": {
        "id": "CBOuJ8v-Jpda"
      },
      "outputs": [],
      "source": [
        "if 1 > 2:\n",
        "    print('yes')"
      ]
    },
    {
      "cell_type": "code",
      "execution_count": 4,
      "metadata": {
        "colab": {
          "base_uri": "https://localhost:8080/"
        },
        "id": "F0HAubosJpdb",
        "outputId": "0d75c7d0-2327-432b-d873-065377ea2a24"
      },
      "outputs": [
        {
          "output_type": "stream",
          "name": "stdout",
          "text": [
            "yes\n"
          ]
        }
      ],
      "source": [
        "if 1 < 3 < 5:\n",
        "    print('yes')"
      ]
    },
    {
      "cell_type": "code",
      "execution_count": 5,
      "metadata": {
        "id": "5t9YPZAkJpdd"
      },
      "outputs": [],
      "source": [
        "if 1 == 2:\n",
        "    print('yes')"
      ]
    },
    {
      "cell_type": "code",
      "execution_count": 6,
      "metadata": {
        "colab": {
          "base_uri": "https://localhost:8080/"
        },
        "id": "gPEm4jUwJpdd",
        "outputId": "fb8ff924-e51e-4b51-f01b-45d386f32ba9"
      },
      "outputs": [
        {
          "output_type": "stream",
          "name": "stdout",
          "text": [
            "yes\n"
          ]
        }
      ],
      "source": [
        "if 1 == 1:\n",
        "    print('yes')"
      ]
    },
    {
      "cell_type": "code",
      "execution_count": 7,
      "metadata": {
        "id": "cWRJnQMQJpde"
      },
      "outputs": [],
      "source": [
        "if 'Hello' == \"hello\":\n",
        "    print('yes')"
      ]
    },
    {
      "cell_type": "code",
      "execution_count": 8,
      "metadata": {
        "colab": {
          "base_uri": "https://localhost:8080/"
        },
        "id": "D1l1DNsvJpde",
        "outputId": "336bb14c-b546-495b-a6a2-7916077b8df6"
      },
      "outputs": [
        {
          "output_type": "stream",
          "name": "stdout",
          "text": [
            "yes\n"
          ]
        }
      ],
      "source": [
        "if 'hello' == \"hello\":\n",
        "    print('yes')"
      ]
    },
    {
      "cell_type": "code",
      "execution_count": 9,
      "metadata": {
        "id": "8zb4mWHdJpde"
      },
      "outputs": [],
      "source": [
        "if '1' == 1:\n",
        "    print('yes')"
      ]
    },
    {
      "cell_type": "code",
      "execution_count": 10,
      "metadata": {
        "colab": {
          "base_uri": "https://localhost:8080/"
        },
        "id": "kqUZhNiBJpde",
        "outputId": "5881c2be-332d-4247-ae3a-4bcb43cda357"
      },
      "outputs": [
        {
          "output_type": "stream",
          "name": "stdout",
          "text": [
            "yes\n"
          ]
        }
      ],
      "source": [
        "if '1' != 1:\n",
        "    print('yes')"
      ]
    },
    {
      "cell_type": "markdown",
      "metadata": {
        "id": "Wyj3IAoVJpdf"
      },
      "source": [
        "The above are our **comparison operators**."
      ]
    },
    {
      "cell_type": "markdown",
      "metadata": {
        "id": "dWkr1EmYJpdg"
      },
      "source": [
        "* What can we infer from `==`.\n",
        "* How do we represent non-equality."
      ]
    },
    {
      "cell_type": "markdown",
      "metadata": {
        "id": "wWi6QQjsJpdg"
      },
      "source": [
        "### Truth in Numbers"
      ]
    },
    {
      "cell_type": "code",
      "execution_count": 11,
      "metadata": {
        "colab": {
          "base_uri": "https://localhost:8080/"
        },
        "id": "hV4zV52gJpdg",
        "outputId": "8be27540-10b3-491b-e708-76ecaf5ef842"
      },
      "outputs": [
        {
          "output_type": "execute_result",
          "data": {
            "text/plain": [
              "True"
            ]
          },
          "metadata": {},
          "execution_count": 11
        }
      ],
      "source": [
        "1 == True"
      ]
    },
    {
      "cell_type": "code",
      "execution_count": 12,
      "metadata": {
        "colab": {
          "base_uri": "https://localhost:8080/"
        },
        "id": "4yz8wZG6Jpdg",
        "outputId": "82ca3b04-f657-4a99-846f-1191c2f600ef"
      },
      "outputs": [
        {
          "output_type": "execute_result",
          "data": {
            "text/plain": [
              "True"
            ]
          },
          "metadata": {},
          "execution_count": 12
        }
      ],
      "source": [
        "0 == False"
      ]
    },
    {
      "cell_type": "markdown",
      "metadata": {
        "id": "2aWVJ63jJpdg"
      },
      "source": [
        "> The last one's should be a bit of a surprise.  It means that instead of a list of True or False values, an equivalent list is one of 1s or 0s."
      ]
    },
    {
      "cell_type": "code",
      "execution_count": 13,
      "metadata": {
        "colab": {
          "base_uri": "https://localhost:8080/"
        },
        "id": "Dm0HTzrZJpdg",
        "outputId": "6093dc55-5961-43d6-f543-2cfb779d1a7c"
      },
      "outputs": [
        {
          "output_type": "execute_result",
          "data": {
            "text/plain": [
              "True"
            ]
          },
          "metadata": {},
          "execution_count": 13
        }
      ],
      "source": [
        "[True, False] == [1, 0]"
      ]
    },
    {
      "cell_type": "markdown",
      "metadata": {
        "id": "d56wWt7cJpdh"
      },
      "source": [
        "### Practice with If Else"
      ]
    },
    {
      "cell_type": "markdown",
      "metadata": {
        "id": "LQJOEmSeJpdh"
      },
      "source": [
        "So when we use an `if else` statement our code moves through the first branch if we pass `if` a True value and moves through the second branch if we pass through a False value."
      ]
    },
    {
      "cell_type": "code",
      "execution_count": 14,
      "metadata": {
        "id": "hpX95kFGJpdi"
      },
      "outputs": [],
      "source": [
        "def what():\n",
        "    if True:\n",
        "        return 1\n",
        "    else:\n",
        "        return 0"
      ]
    },
    {
      "cell_type": "code",
      "execution_count": 15,
      "metadata": {
        "colab": {
          "base_uri": "https://localhost:8080/"
        },
        "id": "iS0o97giJpdi",
        "outputId": "d585b2fa-5827-465e-96c5-35925a0fac06"
      },
      "outputs": [
        {
          "output_type": "execute_result",
          "data": {
            "text/plain": [
              "1"
            ]
          },
          "metadata": {},
          "execution_count": 15
        }
      ],
      "source": [
        "what()"
      ]
    },
    {
      "cell_type": "markdown",
      "metadata": {
        "id": "dkXTacqrJpdj"
      },
      "source": [
        "> Your turn."
      ]
    },
    {
      "cell_type": "markdown",
      "metadata": {
        "id": "ZmdMMghyJpdj"
      },
      "source": [
        "Ok, now that we know more about boolean operators.  Let's practice a bit writing some `if else` statements."
      ]
    },
    {
      "cell_type": "markdown",
      "metadata": {
        "id": "8IcvHrjAJpdj"
      },
      "source": [
        "> Write a method that checks if two first names are precisely the same.  It returns `True` if they are the same and `False` otherwise."
      ]
    },
    {
      "cell_type": "code",
      "execution_count": 17,
      "metadata": {
        "id": "bY8Cwwr_Jpdj"
      },
      "outputs": [],
      "source": [
        "def same_name(name_one, name_two):\n",
        "    return name_one == name_two"
      ]
    },
    {
      "cell_type": "code",
      "execution_count": 18,
      "metadata": {
        "colab": {
          "base_uri": "https://localhost:8080/"
        },
        "id": "-2oMgaQBJpdj",
        "outputId": "360c5757-bbc5-46fe-9f67-e0b0df0bedba"
      },
      "outputs": [
        {
          "output_type": "execute_result",
          "data": {
            "text/plain": [
              "True"
            ]
          },
          "metadata": {},
          "execution_count": 18
        }
      ],
      "source": [
        "same_name('sally', 'sally')\n",
        "# True"
      ]
    },
    {
      "cell_type": "code",
      "execution_count": 19,
      "metadata": {
        "colab": {
          "base_uri": "https://localhost:8080/"
        },
        "id": "fo69QsGWJpdk",
        "outputId": "4969b67a-bc47-41ee-893c-398fbafcc77f"
      },
      "outputs": [
        {
          "output_type": "execute_result",
          "data": {
            "text/plain": [
              "False"
            ]
          },
          "metadata": {},
          "execution_count": 19
        }
      ],
      "source": [
        "same_name('sally', 'Sally')\n",
        "# False"
      ]
    },
    {
      "cell_type": "markdown",
      "metadata": {
        "id": "A8KGOXNSJpdk"
      },
      "source": [
        "> Now write a new function that returns True even if the capitalization of the names is different."
      ]
    },
    {
      "cell_type": "code",
      "execution_count": 20,
      "metadata": {
        "id": "DvqyEonvJpdk"
      },
      "outputs": [],
      "source": [
        "def same_name_case_insensitive(name_one, name_two):\n",
        "    return name_one.lower() == name_two.lower()"
      ]
    },
    {
      "cell_type": "code",
      "execution_count": 21,
      "metadata": {
        "colab": {
          "base_uri": "https://localhost:8080/"
        },
        "id": "aeR7skWnJpdk",
        "outputId": "4f511528-af19-4675-bef2-bb5b35a9c784"
      },
      "outputs": [
        {
          "output_type": "execute_result",
          "data": {
            "text/plain": [
              "True"
            ]
          },
          "metadata": {},
          "execution_count": 21
        }
      ],
      "source": [
        "same_name_case_insensitive('Sally', 'sally')\n",
        "# True"
      ]
    },
    {
      "cell_type": "markdown",
      "metadata": {
        "id": "oKjIeGxhJpdk"
      },
      "source": [
        "### Refactoring if else"
      ]
    },
    {
      "cell_type": "markdown",
      "metadata": {
        "id": "BafDbF5bJpdk"
      },
      "source": [
        "With if else functions, we can sometimes be repetitive."
      ]
    },
    {
      "cell_type": "markdown",
      "metadata": {
        "id": "T-RgoSACJpdk"
      },
      "source": [
        "> For example, here is the `can_drive` function that we started with.  "
      ]
    },
    {
      "cell_type": "code",
      "execution_count": 22,
      "metadata": {
        "id": "TLxJ2dSZJpdl"
      },
      "outputs": [],
      "source": [
        "def can_drive(age):\n",
        "    if age > 16:\n",
        "        return True\n",
        "    else:\n",
        "        return False"
      ]
    },
    {
      "cell_type": "code",
      "execution_count": 23,
      "metadata": {
        "colab": {
          "base_uri": "https://localhost:8080/"
        },
        "id": "lbAu_wuxJpdr",
        "outputId": "d5bf735b-d27b-4ba8-d533-65fd6561dd46"
      },
      "outputs": [
        {
          "output_type": "execute_result",
          "data": {
            "text/plain": [
              "True"
            ]
          },
          "metadata": {},
          "execution_count": 23
        }
      ],
      "source": [
        "can_drive(17)"
      ]
    },
    {
      "cell_type": "markdown",
      "metadata": {
        "id": "hoJGcJszJpds"
      },
      "source": [
        "> Can you see a way that we can rewrite this in just one line, and without ever using the keywords `if else`?"
      ]
    },
    {
      "cell_type": "code",
      "execution_count": 24,
      "metadata": {
        "id": "wnezI4zBJpds"
      },
      "outputs": [],
      "source": [
        "def can_drive(age):\n",
        "    return age > 16"
      ]
    },
    {
      "cell_type": "code",
      "execution_count": 25,
      "metadata": {
        "colab": {
          "base_uri": "https://localhost:8080/"
        },
        "id": "KmjwSpIPJpds",
        "outputId": "4823ae9f-aa8f-4fd7-9d6d-a3fcf8f9d046"
      },
      "outputs": [
        {
          "output_type": "execute_result",
          "data": {
            "text/plain": [
              "False"
            ]
          },
          "metadata": {},
          "execution_count": 25
        }
      ],
      "source": [
        "can_drive(15)"
      ]
    },
    {
      "cell_type": "markdown",
      "metadata": {
        "id": "UQOTBiCqJpdt"
      },
      "source": [
        "> Can you write a function with that checks for the same name, and is case insensitive, without the keywords `if else`."
      ]
    },
    {
      "cell_type": "code",
      "execution_count": 26,
      "metadata": {
        "id": "C2PbfsoeJpdt"
      },
      "outputs": [],
      "source": [
        "def same_name_case_insensitive(name_one, name_two):\n",
        "    return name_one == name_two"
      ]
    },
    {
      "cell_type": "code",
      "execution_count": null,
      "metadata": {
        "id": "-TRYs3jRJpdt"
      },
      "outputs": [],
      "source": [
        "same_name_case_insensitive('Sally', 'sally')\n",
        "# True"
      ]
    },
    {
      "cell_type": "code",
      "execution_count": 28,
      "metadata": {
        "colab": {
          "base_uri": "https://localhost:8080/"
        },
        "id": "xOQaUOwhJpdt",
        "outputId": "3db32e4c-a50e-4886-fc74-40a29a390da3"
      },
      "outputs": [
        {
          "output_type": "execute_result",
          "data": {
            "text/plain": [
              "False"
            ]
          },
          "metadata": {},
          "execution_count": 28
        }
      ],
      "source": [
        "same_name_case_insensitive('Sally', 'fred')\n",
        "# False"
      ]
    },
    {
      "cell_type": "markdown",
      "metadata": {
        "id": "TfSJ9N7nJpdt"
      },
      "source": [
        "### Multibranch if else"
      ]
    },
    {
      "cell_type": "code",
      "execution_count": 29,
      "metadata": {
        "id": "aVNx62aKJpdu"
      },
      "outputs": [],
      "source": [
        "def discount(airline_miles):\n",
        "    if airline_miles > 20000:\n",
        "        return .2\n",
        "    elif airline_miles > 10000:\n",
        "        return .1\n",
        "    else:\n",
        "        return 0"
      ]
    },
    {
      "cell_type": "markdown",
      "metadata": {
        "id": "AmzOScIwJpdu"
      },
      "source": [
        "Practice writing your own multi-branch if else statement below."
      ]
    },
    {
      "cell_type": "markdown",
      "metadata": {
        "id": "WCwf0ZlBJpdu"
      },
      "source": [
        "> Write a function that returns places someone in a yoga class based on how long they have been practicing yoga.  \n",
        "\n",
        "* If 2 months or fewer, return `'beginner'`\n",
        "* If between 2 months and 2 years, return `'intermediate'`\n",
        "* If more than two years return `'advanced'` class"
      ]
    },
    {
      "cell_type": "code",
      "execution_count": 30,
      "metadata": {
        "id": "KSdaPzl3Jpdu"
      },
      "outputs": [],
      "source": [
        "def yoga_level(months):\n",
        "    if months <= 2:\n",
        "        return 'beginner'\n",
        "    elif 2 < months < 24:\n",
        "        return 'intermediate'\n",
        "    else:\n",
        "        return 'advanced'"
      ]
    },
    {
      "cell_type": "code",
      "execution_count": 31,
      "metadata": {
        "colab": {
          "base_uri": "https://localhost:8080/",
          "height": 35
        },
        "id": "pQwwToYrJpdu",
        "outputId": "63292739-0aed-4058-b37e-7e03372bb9c5"
      },
      "outputs": [
        {
          "output_type": "execute_result",
          "data": {
            "text/plain": [
              "'beginner'"
            ],
            "application/vnd.google.colaboratory.intrinsic+json": {
              "type": "string"
            }
          },
          "metadata": {},
          "execution_count": 31
        }
      ],
      "source": [
        "yoga_level(2)\n",
        "# 'beginner'"
      ]
    },
    {
      "cell_type": "code",
      "execution_count": 32,
      "metadata": {
        "colab": {
          "base_uri": "https://localhost:8080/",
          "height": 35
        },
        "id": "_dTy3ml9Jpdv",
        "outputId": "5b2e5d08-2934-48e8-9bb7-3d70568df37e"
      },
      "outputs": [
        {
          "output_type": "execute_result",
          "data": {
            "text/plain": [
              "'intermediate'"
            ],
            "application/vnd.google.colaboratory.intrinsic+json": {
              "type": "string"
            }
          },
          "metadata": {},
          "execution_count": 32
        }
      ],
      "source": [
        "yoga_level(3)\n",
        "# 'intermediate'"
      ]
    },
    {
      "cell_type": "code",
      "execution_count": 33,
      "metadata": {
        "colab": {
          "base_uri": "https://localhost:8080/",
          "height": 35
        },
        "id": "76XOoXRIJpdv",
        "outputId": "5e2e9820-3fb3-4e59-e74a-367b2e0a5b30"
      },
      "outputs": [
        {
          "output_type": "execute_result",
          "data": {
            "text/plain": [
              "'advanced'"
            ],
            "application/vnd.google.colaboratory.intrinsic+json": {
              "type": "string"
            }
          },
          "metadata": {},
          "execution_count": 33
        }
      ],
      "source": [
        "yoga_level(25)\n",
        "# 'advanced'"
      ]
    },
    {
      "cell_type": "markdown",
      "metadata": {
        "id": "Afyx86Q2Jpdw"
      },
      "source": [
        "### Summary"
      ]
    },
    {
      "cell_type": "markdown",
      "metadata": {
        "id": "0qs2wWyqJpdw"
      },
      "source": [
        "In this lesson, we practiced using `if else` conditionals in Python.  The general pattern for an `if else` conditional is:"
      ]
    },
    {
      "cell_type": "markdown",
      "metadata": {
        "id": "nYP32CD1Jpdw"
      },
      "source": [
        "```python\n",
        "if comparison:\n",
        "    # do     \n",
        "else:\n",
        "    # do\n",
        "```"
      ]
    },
    {
      "cell_type": "markdown",
      "metadata": {
        "id": "15fWAiwXJpdw"
      },
      "source": [
        "We saw that a lot of understanding if else statements is understanding the rules of conditionals.  We can check for equality using `==` and inequality with `!=`.  We also saw that `1 == True`."
      ]
    }
  ],
  "metadata": {
    "kernelspec": {
      "display_name": "Python 3",
      "language": "python",
      "name": "python3"
    },
    "language_info": {
      "codemirror_mode": {
        "name": "ipython",
        "version": 3
      },
      "file_extension": ".py",
      "mimetype": "text/x-python",
      "name": "python",
      "nbconvert_exporter": "python",
      "pygments_lexer": "ipython3",
      "version": "3.8.3"
    },
    "colab": {
      "provenance": []
    }
  },
  "nbformat": 4,
  "nbformat_minor": 0
}