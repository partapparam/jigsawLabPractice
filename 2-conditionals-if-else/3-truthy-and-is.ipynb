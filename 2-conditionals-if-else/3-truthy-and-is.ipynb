{
  "cells": [
    {
      "cell_type": "markdown",
      "metadata": {
        "id": "ERLL8aO_OgaA"
      },
      "source": [
        "# Truthy, Falsy, and Is Discussion Questions"
      ]
    },
    {
      "cell_type": "markdown",
      "metadata": {
        "id": "vvd7B8VDOgaH"
      },
      "source": [
        "### Introduction"
      ]
    },
    {
      "cell_type": "markdown",
      "metadata": {
        "id": "LHOMXeO4OgaI"
      },
      "source": [
        "Now let's explore comparison operators a little further."
      ]
    },
    {
      "cell_type": "markdown",
      "metadata": {
        "id": "jYJBI48cOgaI"
      },
      "source": [
        "### Truthiness and Falsiness"
      ]
    },
    {
      "cell_type": "markdown",
      "metadata": {
        "id": "XVCzazf5OgaI"
      },
      "source": [
        "Let's see the following:"
      ]
    },
    {
      "cell_type": "code",
      "execution_count": 2,
      "metadata": {
        "id": "AmK1fWeSOgaJ",
        "outputId": "90629b11-d82a-49a5-a2f0-97f0d84f1f5f",
        "colab": {
          "base_uri": "https://localhost:8080/"
        }
      },
      "outputs": [
        {
          "output_type": "stream",
          "name": "stdout",
          "text": [
            "Yes\n"
          ]
        }
      ],
      "source": [
        "if 1:\n",
        "    print('Yes')"
      ]
    },
    {
      "cell_type": "code",
      "execution_count": 4,
      "metadata": {
        "id": "kNlIDbtSOgaK"
      },
      "outputs": [],
      "source": [
        "if 0:\n",
        "    print('Yes')"
      ]
    },
    {
      "cell_type": "code",
      "execution_count": 5,
      "metadata": {
        "id": "fXr_QdQhOgaL",
        "outputId": "a9ac971e-5a3a-484a-9ba7-6c51fadde9e2",
        "colab": {
          "base_uri": "https://localhost:8080/"
        }
      },
      "outputs": [
        {
          "output_type": "stream",
          "name": "stdout",
          "text": [
            "Yes\n"
          ]
        }
      ],
      "source": [
        "if ['freddy']:\n",
        "    print('Yes')"
      ]
    },
    {
      "cell_type": "code",
      "execution_count": 6,
      "metadata": {
        "id": "JVzCvulvOgaM"
      },
      "outputs": [],
      "source": [
        "if []:\n",
        "    print('Yes')"
      ]
    },
    {
      "cell_type": "code",
      "execution_count": 7,
      "metadata": {
        "id": "4ZEBSIkqOgaM",
        "outputId": "aa5a8f6b-d146-425f-afbb-0b66e3c96a2b",
        "colab": {
          "base_uri": "https://localhost:8080/"
        }
      },
      "outputs": [
        {
          "output_type": "stream",
          "name": "stdout",
          "text": [
            "Yes\n"
          ]
        }
      ],
      "source": [
        "if 'freddy':\n",
        "    print('Yes')"
      ]
    },
    {
      "cell_type": "code",
      "execution_count": 8,
      "metadata": {
        "id": "UH5ouDaYOgaM"
      },
      "outputs": [],
      "source": [
        "if '':\n",
        "    print('Yes')"
      ]
    },
    {
      "cell_type": "code",
      "execution_count": 9,
      "metadata": {
        "id": "IABLycOdOgaM"
      },
      "outputs": [],
      "source": [
        "if {}:\n",
        "    print('Yes')"
      ]
    },
    {
      "cell_type": "code",
      "execution_count": 10,
      "metadata": {
        "id": "00TX9CLEOgaN",
        "outputId": "ee661ca1-fffa-4bc1-d376-c2c7acf1c2de",
        "colab": {
          "base_uri": "https://localhost:8080/"
        }
      },
      "outputs": [
        {
          "output_type": "stream",
          "name": "stdout",
          "text": [
            "Yes\n"
          ]
        }
      ],
      "source": [
        "if {'name': 'Freddy'}:\n",
        "    print('Yes')"
      ]
    },
    {
      "cell_type": "code",
      "execution_count": 11,
      "metadata": {
        "id": "deA5VlxKOgaN",
        "outputId": "bc4f8537-3fc4-485e-cf7a-d25a8c98331c",
        "colab": {
          "base_uri": "https://localhost:8080/"
        }
      },
      "outputs": [
        {
          "output_type": "execute_result",
          "data": {
            "text/plain": [
              "1"
            ]
          },
          "metadata": {},
          "execution_count": 11
        }
      ],
      "source": [
        "len({'name': 'Freddy'})"
      ]
    },
    {
      "cell_type": "code",
      "execution_count": 12,
      "metadata": {
        "id": "ioKwZparOgaN",
        "outputId": "14f068ac-a509-40e0-d180-f1013c84c81f",
        "colab": {
          "base_uri": "https://localhost:8080/"
        }
      },
      "outputs": [
        {
          "output_type": "execute_result",
          "data": {
            "text/plain": [
              "0"
            ]
          },
          "metadata": {},
          "execution_count": 12
        }
      ],
      "source": [
        "len({})"
      ]
    },
    {
      "cell_type": "markdown",
      "metadata": {
        "id": "11yeav7FOgaN"
      },
      "source": [
        "* What can we conclude from the above?"
      ]
    },
    {
      "cell_type": "markdown",
      "metadata": {
        "id": "ElY67B-6OgaN"
      },
      "source": [
        "### Understanding is vs =="
      ]
    },
    {
      "cell_type": "markdown",
      "metadata": {
        "id": "mzY4UAjSOgaN"
      },
      "source": [
        "> Singletons"
      ]
    },
    {
      "cell_type": "code",
      "execution_count": 13,
      "metadata": {
        "id": "I9eGSkvIOgaN",
        "outputId": "e26fbe93-ee2b-4309-89aa-ce76e378a89d",
        "colab": {
          "base_uri": "https://localhost:8080/"
        }
      },
      "outputs": [
        {
          "output_type": "execute_result",
          "data": {
            "text/plain": [
              "True"
            ]
          },
          "metadata": {},
          "execution_count": 13
        }
      ],
      "source": [
        "None is None"
      ]
    },
    {
      "cell_type": "code",
      "execution_count": 14,
      "metadata": {
        "id": "Dco_WLNyOgaO",
        "outputId": "968555e3-36ca-4dab-d25e-50d97ad0788f",
        "colab": {
          "base_uri": "https://localhost:8080/"
        }
      },
      "outputs": [
        {
          "output_type": "execute_result",
          "data": {
            "text/plain": [
              "True"
            ]
          },
          "metadata": {},
          "execution_count": 14
        }
      ],
      "source": [
        "False is False"
      ]
    },
    {
      "cell_type": "code",
      "execution_count": 15,
      "metadata": {
        "id": "yuuPZa-ROgaO",
        "outputId": "fb2a36f6-39d3-4891-da14-f06360b8074a",
        "colab": {
          "base_uri": "https://localhost:8080/"
        }
      },
      "outputs": [
        {
          "output_type": "execute_result",
          "data": {
            "text/plain": [
              "True"
            ]
          },
          "metadata": {},
          "execution_count": 15
        }
      ],
      "source": [
        "type('bob') is str"
      ]
    },
    {
      "cell_type": "markdown",
      "metadata": {
        "id": "7aWQNV4vOgaO"
      },
      "source": [
        "> Is for non-singletons, don't use them."
      ]
    },
    {
      "cell_type": "code",
      "execution_count": 16,
      "metadata": {
        "id": "F50Av6l0OgaO"
      },
      "outputs": [],
      "source": [
        "first = 'bob'\n",
        "second = 'bob'"
      ]
    },
    {
      "cell_type": "code",
      "execution_count": 17,
      "metadata": {
        "id": "6cSl4FnROgaO",
        "outputId": "23e4aad5-5a5c-4868-ea9b-749fe2f9a7c4",
        "colab": {
          "base_uri": "https://localhost:8080/"
        }
      },
      "outputs": [
        {
          "output_type": "execute_result",
          "data": {
            "text/plain": [
              "True"
            ]
          },
          "metadata": {},
          "execution_count": 17
        }
      ],
      "source": [
        "first is second"
      ]
    },
    {
      "cell_type": "code",
      "execution_count": 18,
      "metadata": {
        "id": "1jPLz-ABOgaO"
      },
      "outputs": [],
      "source": [
        "num = '190-281920890'\n",
        "other_num = '190-281920890'"
      ]
    },
    {
      "cell_type": "code",
      "execution_count": 19,
      "metadata": {
        "id": "fIecAN1wOgaO",
        "outputId": "a77220b7-45de-4545-838d-845754107be6",
        "colab": {
          "base_uri": "https://localhost:8080/"
        }
      },
      "outputs": [
        {
          "output_type": "execute_result",
          "data": {
            "text/plain": [
              "False"
            ]
          },
          "metadata": {},
          "execution_count": 19
        }
      ],
      "source": [
        "num is other_num"
      ]
    },
    {
      "cell_type": "code",
      "execution_count": 20,
      "metadata": {
        "id": "rR5RjlM5OgaO",
        "outputId": "e38cff68-3cb9-4362-8a34-94607a0b2c36",
        "colab": {
          "base_uri": "https://localhost:8080/"
        }
      },
      "outputs": [
        {
          "output_type": "execute_result",
          "data": {
            "text/plain": [
              "137455227862000"
            ]
          },
          "metadata": {},
          "execution_count": 20
        }
      ],
      "source": [
        "id(num)"
      ]
    },
    {
      "cell_type": "code",
      "execution_count": 21,
      "metadata": {
        "id": "W9UAqWQgOgaO",
        "outputId": "e75b78a8-e311-4af3-864d-2afc26d2c820",
        "colab": {
          "base_uri": "https://localhost:8080/"
        }
      },
      "outputs": [
        {
          "output_type": "execute_result",
          "data": {
            "text/plain": [
              "137455227847536"
            ]
          },
          "metadata": {},
          "execution_count": 21
        }
      ],
      "source": [
        "id(other_num)"
      ]
    },
    {
      "cell_type": "code",
      "execution_count": 22,
      "metadata": {
        "id": "cWfVfHVBOgaP",
        "outputId": "8c040645-73e4-4710-b61a-4cf07da43fdb",
        "colab": {
          "base_uri": "https://localhost:8080/"
        }
      },
      "outputs": [
        {
          "output_type": "execute_result",
          "data": {
            "text/plain": [
              "137455227821360"
            ]
          },
          "metadata": {},
          "execution_count": 22
        }
      ],
      "source": [
        "id(first)"
      ]
    },
    {
      "cell_type": "code",
      "execution_count": 23,
      "metadata": {
        "id": "C7IqzQ_5OgaP",
        "outputId": "81664ab7-83da-447f-a1d4-2d4e610df8f7",
        "colab": {
          "base_uri": "https://localhost:8080/"
        }
      },
      "outputs": [
        {
          "output_type": "execute_result",
          "data": {
            "text/plain": [
              "137455227821360"
            ]
          },
          "metadata": {},
          "execution_count": 23
        }
      ],
      "source": [
        "id(second)"
      ]
    },
    {
      "cell_type": "markdown",
      "metadata": {
        "id": "m9N4yUU8OgaP"
      },
      "source": [
        "> How do you think that `is` works?\n",
        "== compares the values of the two objects to see if they are equal. 'is' checks to see if they are the same object in memory.\n"
      ]
    },
    {
      "cell_type": "markdown",
      "metadata": {
        "id": "dcGTuItqOgaP"
      },
      "source": [
        "When should we avoid using is?"
      ]
    }
  ],
  "metadata": {
    "kernelspec": {
      "display_name": "Python 3",
      "language": "python",
      "name": "python3"
    },
    "language_info": {
      "codemirror_mode": {
        "name": "ipython",
        "version": 3
      },
      "file_extension": ".py",
      "mimetype": "text/x-python",
      "name": "python",
      "nbconvert_exporter": "python",
      "pygments_lexer": "ipython3",
      "version": "3.8.3"
    },
    "colab": {
      "provenance": []
    }
  },
  "nbformat": 4,
  "nbformat_minor": 0
}