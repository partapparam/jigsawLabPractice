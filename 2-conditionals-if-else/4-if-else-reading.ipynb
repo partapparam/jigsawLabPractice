{
  "cells": [
    {
      "cell_type": "markdown",
      "metadata": {
        "id": "GllKPhH0RWLd"
      },
      "source": [
        "# Comparison Operators"
      ]
    },
    {
      "cell_type": "markdown",
      "metadata": {
        "id": "VVLLtSyfRWLg"
      },
      "source": [
        "### Introduction"
      ]
    },
    {
      "cell_type": "markdown",
      "metadata": {
        "id": "z6Vz_LzlRWLh"
      },
      "source": [
        "We sometimes want our code to perform different operations depending on the circumstance."
      ]
    },
    {
      "cell_type": "markdown",
      "metadata": {
        "id": "askAMi20RWLh"
      },
      "source": [
        "For example, below we write a function to determine if someone can drive.  If the person is over 16, then we return True to indicate that the person can drive."
      ]
    },
    {
      "cell_type": "code",
      "execution_count": 1,
      "metadata": {
        "id": "r2PoeASXRWLi"
      },
      "outputs": [],
      "source": [
        "def can_drive(age):\n",
        "    if age > 16:\n",
        "        return True\n",
        "    else:\n",
        "        return False"
      ]
    },
    {
      "cell_type": "markdown",
      "metadata": {
        "id": "3seWYbN1RWLj"
      },
      "source": [
        "The function above relies on [comparison operators](https://www.tutorialspoint.com/python/python_basic_operators.htm).  Let's break down how the function works below."
      ]
    },
    {
      "cell_type": "markdown",
      "metadata": {
        "id": "NxNrP3kMRWLk"
      },
      "source": [
        "### Comparison Operators"
      ]
    },
    {
      "cell_type": "markdown",
      "metadata": {
        "id": "2t4wsfXBRWLk"
      },
      "source": [
        "The key component of the function is `age > 16`.  This `>` example of a comparison operator.  A comparison operator always returns either `True` or `False`.  Let's see a couple comparison operators."
      ]
    },
    {
      "cell_type": "markdown",
      "metadata": {
        "id": "sMAnhnqnRWLk"
      },
      "source": [
        "> Try to guess the return values before executing each cell."
      ]
    },
    {
      "cell_type": "code",
      "execution_count": 2,
      "metadata": {
        "id": "mSBqAd54RWLl",
        "outputId": "e16bd118-86a5-4857-d995-95951f284634",
        "colab": {
          "base_uri": "https://localhost:8080/"
        }
      },
      "outputs": [
        {
          "output_type": "execute_result",
          "data": {
            "text/plain": [
              "False"
            ]
          },
          "metadata": {},
          "execution_count": 2
        }
      ],
      "source": [
        "1 > 2"
      ]
    },
    {
      "cell_type": "code",
      "execution_count": 3,
      "metadata": {
        "id": "nlo70m9eRWLl",
        "outputId": "738cd455-7b7f-49c7-da76-ecd71647d22f",
        "colab": {
          "base_uri": "https://localhost:8080/"
        }
      },
      "outputs": [
        {
          "output_type": "execute_result",
          "data": {
            "text/plain": [
              "True"
            ]
          },
          "metadata": {},
          "execution_count": 3
        }
      ],
      "source": [
        "1 < 2"
      ]
    },
    {
      "cell_type": "code",
      "execution_count": 4,
      "metadata": {
        "id": "I6Vx3diIRWLm",
        "outputId": "e5808e6e-a41d-4ab0-d762-9e39ec161d61",
        "colab": {
          "base_uri": "https://localhost:8080/"
        }
      },
      "outputs": [
        {
          "output_type": "execute_result",
          "data": {
            "text/plain": [
              "False"
            ]
          },
          "metadata": {},
          "execution_count": 4
        }
      ],
      "source": [
        "1 == 2"
      ]
    },
    {
      "cell_type": "code",
      "execution_count": 5,
      "metadata": {
        "id": "ZSmn3QVkRWLm",
        "outputId": "5ac01aac-52ef-4a86-9c4e-0a251d67dc32",
        "colab": {
          "base_uri": "https://localhost:8080/"
        }
      },
      "outputs": [
        {
          "output_type": "execute_result",
          "data": {
            "text/plain": [
              "True"
            ]
          },
          "metadata": {},
          "execution_count": 5
        }
      ],
      "source": [
        "1 == 1"
      ]
    },
    {
      "cell_type": "code",
      "execution_count": 6,
      "metadata": {
        "id": "mDPFvjC6RWLn",
        "outputId": "cda1cc8d-4c40-4ca7-8ebd-717de468440c",
        "colab": {
          "base_uri": "https://localhost:8080/"
        }
      },
      "outputs": [
        {
          "output_type": "execute_result",
          "data": {
            "text/plain": [
              "False"
            ]
          },
          "metadata": {},
          "execution_count": 6
        }
      ],
      "source": [
        "'Hello' == \"hello\""
      ]
    },
    {
      "cell_type": "code",
      "execution_count": 7,
      "metadata": {
        "id": "ni7Qpw9mRWLn",
        "outputId": "0a1b9cd6-9ba9-45d8-caf3-6b14eaa5d8d4",
        "colab": {
          "base_uri": "https://localhost:8080/"
        }
      },
      "outputs": [
        {
          "output_type": "execute_result",
          "data": {
            "text/plain": [
              "True"
            ]
          },
          "metadata": {},
          "execution_count": 7
        }
      ],
      "source": [
        "'hello' == \"hello\""
      ]
    },
    {
      "cell_type": "code",
      "execution_count": 8,
      "metadata": {
        "id": "oifQWsMoRWLn",
        "outputId": "2d897f1b-76f4-4fcb-d87a-2c046cfd6ba7",
        "colab": {
          "base_uri": "https://localhost:8080/"
        }
      },
      "outputs": [
        {
          "output_type": "execute_result",
          "data": {
            "text/plain": [
              "False"
            ]
          },
          "metadata": {},
          "execution_count": 8
        }
      ],
      "source": [
        "'1' == 1"
      ]
    },
    {
      "cell_type": "code",
      "execution_count": 9,
      "metadata": {
        "id": "EwuPCl1mRWLn",
        "outputId": "cc933dde-3045-4feb-da16-43218dcac2ca",
        "colab": {
          "base_uri": "https://localhost:8080/"
        }
      },
      "outputs": [
        {
          "output_type": "execute_result",
          "data": {
            "text/plain": [
              "True"
            ]
          },
          "metadata": {},
          "execution_count": 9
        }
      ],
      "source": [
        "'1' != 1"
      ]
    },
    {
      "cell_type": "code",
      "execution_count": 10,
      "metadata": {
        "id": "ySJRxsNrRWLo",
        "outputId": "dc3f795d-c42b-4452-d9f6-d96158489bb6",
        "colab": {
          "base_uri": "https://localhost:8080/"
        }
      },
      "outputs": [
        {
          "output_type": "execute_result",
          "data": {
            "text/plain": [
              "True"
            ]
          },
          "metadata": {},
          "execution_count": 10
        }
      ],
      "source": [
        "1 < 3 < 5"
      ]
    },
    {
      "cell_type": "markdown",
      "metadata": {
        "id": "2P0vPb41RWLp"
      },
      "source": [
        "> We can chain comparison operators in Python"
      ]
    },
    {
      "cell_type": "code",
      "execution_count": 11,
      "metadata": {
        "id": "w9TX9-ElRWLp",
        "outputId": "bbd72aff-a85e-4c99-8216-744fc94a007c",
        "colab": {
          "base_uri": "https://localhost:8080/"
        }
      },
      "outputs": [
        {
          "output_type": "execute_result",
          "data": {
            "text/plain": [
              "True"
            ]
          },
          "metadata": {},
          "execution_count": 11
        }
      ],
      "source": [
        "1 == 1 < 3"
      ]
    },
    {
      "cell_type": "markdown",
      "metadata": {
        "id": "45bVbz8iRWLp"
      },
      "source": [
        "### Truth in Numbers"
      ]
    },
    {
      "cell_type": "code",
      "execution_count": 12,
      "metadata": {
        "id": "NavWR47uRWLp",
        "outputId": "2581b303-602b-44e0-f059-083aa4b521c5",
        "colab": {
          "base_uri": "https://localhost:8080/"
        }
      },
      "outputs": [
        {
          "output_type": "execute_result",
          "data": {
            "text/plain": [
              "True"
            ]
          },
          "metadata": {},
          "execution_count": 12
        }
      ],
      "source": [
        "1 == True"
      ]
    },
    {
      "cell_type": "code",
      "execution_count": 13,
      "metadata": {
        "id": "tSdhOrovRWLp",
        "outputId": "99c7dd09-ea36-41a9-e0b4-6ced5e9c7e18",
        "colab": {
          "base_uri": "https://localhost:8080/"
        }
      },
      "outputs": [
        {
          "output_type": "execute_result",
          "data": {
            "text/plain": [
              "True"
            ]
          },
          "metadata": {},
          "execution_count": 13
        }
      ],
      "source": [
        "0 == False"
      ]
    },
    {
      "cell_type": "markdown",
      "metadata": {
        "id": "u6eJxNOkRWLq"
      },
      "source": [
        "> The last one's should be a bit of a surprise.  It means that instead of a list of True or False values, an equivalent list is one of 1s or 0s."
      ]
    },
    {
      "cell_type": "code",
      "execution_count": null,
      "metadata": {
        "id": "yV_EJP-YRWLq",
        "outputId": "dc5d9df9-e600-4cf3-aa34-471e2dfa647e"
      },
      "outputs": [
        {
          "data": {
            "text/plain": [
              "True"
            ]
          },
          "execution_count": 42,
          "metadata": {},
          "output_type": "execute_result"
        }
      ],
      "source": [
        "[True, False] == [1, 0]"
      ]
    },
    {
      "cell_type": "markdown",
      "metadata": {
        "id": "JyR1fvlzRWLq"
      },
      "source": [
        "### Practice with If Else"
      ]
    },
    {
      "cell_type": "markdown",
      "metadata": {
        "id": "JZKVFJk_RWLq"
      },
      "source": [
        "So when we use an `if else` statement our code moves through the first branch if we pass `if` a True value and moves through the second branch if we pass through a False value."
      ]
    },
    {
      "cell_type": "code",
      "execution_count": 14,
      "metadata": {
        "id": "yOm3XLbGRWLq"
      },
      "outputs": [],
      "source": [
        "def what():\n",
        "    if True:\n",
        "        return 1\n",
        "    else:\n",
        "        return 0"
      ]
    },
    {
      "cell_type": "code",
      "execution_count": 15,
      "metadata": {
        "id": "K0tlTYxnRWLr",
        "outputId": "2e1b052e-5ca4-4257-c4a1-a91d31597854",
        "colab": {
          "base_uri": "https://localhost:8080/"
        }
      },
      "outputs": [
        {
          "output_type": "execute_result",
          "data": {
            "text/plain": [
              "1"
            ]
          },
          "metadata": {},
          "execution_count": 15
        }
      ],
      "source": [
        "what()"
      ]
    },
    {
      "cell_type": "markdown",
      "metadata": {
        "id": "ZFHM9qnBRWLr"
      },
      "source": [
        "> Your turn."
      ]
    },
    {
      "cell_type": "markdown",
      "metadata": {
        "id": "_WvckOZhRWLr"
      },
      "source": [
        "Ok, now that we know more about boolean operators.  Let's practice a bit writing some `if else` statements."
      ]
    },
    {
      "cell_type": "markdown",
      "metadata": {
        "id": "L5DWWfpNRWLr"
      },
      "source": [
        "> Write a method that checks if two first names are precisely the same.  It returns `True` if they are the same and `False` otherwise."
      ]
    },
    {
      "cell_type": "code",
      "execution_count": 16,
      "metadata": {
        "id": "D4PTLbiBRWLr"
      },
      "outputs": [],
      "source": [
        "def same_name(name_one, name_two):\n",
        "    if name_one == name_two:\n",
        "        return True\n",
        "    else:\n",
        "        return False"
      ]
    },
    {
      "cell_type": "code",
      "execution_count": 17,
      "metadata": {
        "id": "sz-6_lfWRWLr",
        "outputId": "3de65712-5acf-41b9-965d-7722eff2b3e7",
        "colab": {
          "base_uri": "https://localhost:8080/"
        }
      },
      "outputs": [
        {
          "output_type": "execute_result",
          "data": {
            "text/plain": [
              "True"
            ]
          },
          "metadata": {},
          "execution_count": 17
        }
      ],
      "source": [
        "same_name('sally', 'sally')\n",
        "# True"
      ]
    },
    {
      "cell_type": "code",
      "execution_count": 18,
      "metadata": {
        "id": "JOUt1FSNRWLr",
        "outputId": "cfa771b7-65e9-4daa-ba55-c58708ae59a5",
        "colab": {
          "base_uri": "https://localhost:8080/"
        }
      },
      "outputs": [
        {
          "output_type": "execute_result",
          "data": {
            "text/plain": [
              "False"
            ]
          },
          "metadata": {},
          "execution_count": 18
        }
      ],
      "source": [
        "same_name('sally', 'Sally')\n",
        "# False"
      ]
    },
    {
      "cell_type": "markdown",
      "metadata": {
        "id": "aqcxYo3FRWLs"
      },
      "source": [
        "> Now write a new function that returns True even if the capitalization of the names is different."
      ]
    },
    {
      "cell_type": "code",
      "execution_count": 19,
      "metadata": {
        "id": "qz6WISC9RWLs"
      },
      "outputs": [],
      "source": [
        "def same_name_case_insensitive(name_one, name_two):\n",
        "    if name_one.capitalize() == name_two.capitalize():\n",
        "        return True\n",
        "    else:\n",
        "        return False"
      ]
    },
    {
      "cell_type": "code",
      "execution_count": 20,
      "metadata": {
        "id": "2MMrTMfsRWLs",
        "outputId": "f288d533-f2cd-4e24-fbbe-0298b4052966",
        "colab": {
          "base_uri": "https://localhost:8080/"
        }
      },
      "outputs": [
        {
          "output_type": "execute_result",
          "data": {
            "text/plain": [
              "True"
            ]
          },
          "metadata": {},
          "execution_count": 20
        }
      ],
      "source": [
        "same_name_case_insensitive('Sally', 'sally')\n",
        "# True"
      ]
    },
    {
      "cell_type": "markdown",
      "metadata": {
        "id": "GBYB3Jy0RWLs"
      },
      "source": [
        "### Refactoring if else"
      ]
    },
    {
      "cell_type": "markdown",
      "metadata": {
        "id": "eZlM72bbRWLx"
      },
      "source": [
        "With if else functions, we can sometimes be repetitive."
      ]
    },
    {
      "cell_type": "markdown",
      "metadata": {
        "id": "loHc6tVERWLx"
      },
      "source": [
        "> For example, here is the function that we started with.  And here is a way to rewrite it."
      ]
    },
    {
      "cell_type": "code",
      "execution_count": 21,
      "metadata": {
        "id": "pDvVkjfYRWLy"
      },
      "outputs": [],
      "source": [
        "def can_drive(age):\n",
        "    if age > 16:\n",
        "        return True\n",
        "    else:\n",
        "        return False"
      ]
    },
    {
      "cell_type": "code",
      "execution_count": 22,
      "metadata": {
        "id": "aKGuHIJVRWLy",
        "outputId": "8d86e84e-8ce9-499c-a269-366103448e6a",
        "colab": {
          "base_uri": "https://localhost:8080/"
        }
      },
      "outputs": [
        {
          "output_type": "execute_result",
          "data": {
            "text/plain": [
              "True"
            ]
          },
          "metadata": {},
          "execution_count": 22
        }
      ],
      "source": [
        "can_drive(17)"
      ]
    },
    {
      "cell_type": "code",
      "execution_count": 23,
      "metadata": {
        "id": "4BcavJzKRWLy"
      },
      "outputs": [],
      "source": [
        "def can_drive(age):\n",
        "    return age > 16"
      ]
    },
    {
      "cell_type": "code",
      "execution_count": 24,
      "metadata": {
        "id": "vdmOTjLHRWLy",
        "outputId": "914150b2-053f-46a1-f620-dbe7e25cacf7",
        "colab": {
          "base_uri": "https://localhost:8080/"
        }
      },
      "outputs": [
        {
          "output_type": "execute_result",
          "data": {
            "text/plain": [
              "False"
            ]
          },
          "metadata": {},
          "execution_count": 24
        }
      ],
      "source": [
        "can_drive(15)"
      ]
    },
    {
      "cell_type": "markdown",
      "metadata": {
        "id": "wwaAhJ86RWLy"
      },
      "source": [
        "Do you see why this works?"
      ]
    },
    {
      "cell_type": "markdown",
      "metadata": {
        "id": "0-f5v6EzRWLz"
      },
      "source": [
        "```python\n",
        "def can_drive(age):\n",
        "    if age > 16:\n",
        "        return True\n",
        "    else:\n",
        "        return False\n",
        "```"
      ]
    },
    {
      "cell_type": "markdown",
      "metadata": {
        "id": "lRbeD5_bRWLz"
      },
      "source": [
        "In our first version of our function, we were essentially saying, if `age > 16` evaluates to True return True, and if it evaluates to `False` return `False`.  In the second version we say, just return the value that our statement evaluates."
      ]
    },
    {
      "cell_type": "code",
      "execution_count": 25,
      "metadata": {
        "id": "MTnr5NAnRWLz"
      },
      "outputs": [],
      "source": [
        "def can_drive(age):\n",
        "    return age > 16"
      ]
    },
    {
      "cell_type": "markdown",
      "metadata": {
        "id": "2CgCfOL1RWLz"
      },
      "source": [
        "> Your turn."
      ]
    },
    {
      "cell_type": "markdown",
      "metadata": {
        "id": "ybwTYNCzRWLz"
      },
      "source": [
        "If you can shorten the `same_name_case_insensitive` function above, give it a shot below."
      ]
    },
    {
      "cell_type": "code",
      "execution_count": 26,
      "metadata": {
        "id": "AvHk-nDaRWLz"
      },
      "outputs": [],
      "source": [
        "def same_name_case_insensitive(name_one, name_two):\n",
        "    return name_one.capitalize() == name_two.capitalize()"
      ]
    },
    {
      "cell_type": "code",
      "execution_count": null,
      "metadata": {
        "id": "OkwtBuPIRWLz"
      },
      "outputs": [],
      "source": [
        "same_name_case_insensitive('Sally', 'sally')\n",
        "# True"
      ]
    },
    {
      "cell_type": "code",
      "execution_count": 28,
      "metadata": {
        "id": "u7mgoddqRWLz",
        "outputId": "f774fbf2-f140-455a-9ce3-23c64d3800bc",
        "colab": {
          "base_uri": "https://localhost:8080/"
        }
      },
      "outputs": [
        {
          "output_type": "execute_result",
          "data": {
            "text/plain": [
              "False"
            ]
          },
          "metadata": {},
          "execution_count": 28
        }
      ],
      "source": [
        "same_name_case_insensitive('Sally', 'fred')\n",
        "# False"
      ]
    },
    {
      "cell_type": "markdown",
      "metadata": {
        "id": "-vAfFS2uRWL0"
      },
      "source": [
        "### Multibranch if else"
      ]
    },
    {
      "cell_type": "code",
      "execution_count": 29,
      "metadata": {
        "id": "76_Z7xLARWL0"
      },
      "outputs": [],
      "source": [
        "def discount(airline_miles):\n",
        "    if airline_miles > 20000:\n",
        "        return .2\n",
        "    elif airline_miles > 10000:\n",
        "        return .1\n",
        "    else:\n",
        "        return 0"
      ]
    }
  ],
  "metadata": {
    "kernelspec": {
      "display_name": "Python 3 (ipykernel)",
      "language": "python",
      "name": "python3"
    },
    "language_info": {
      "codemirror_mode": {
        "name": "ipython",
        "version": 3
      },
      "file_extension": ".py",
      "mimetype": "text/x-python",
      "name": "python",
      "nbconvert_exporter": "python",
      "pygments_lexer": "ipython3",
      "version": "3.9.7"
    },
    "colab": {
      "provenance": []
    }
  },
  "nbformat": 4,
  "nbformat_minor": 0
}