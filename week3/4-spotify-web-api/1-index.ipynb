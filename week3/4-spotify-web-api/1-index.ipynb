{
  "cells": [
    {
      "cell_type": "markdown",
      "metadata": {
        "id": "P6_6XePJQ8ze"
      },
      "source": [
        "# Spotify Signup"
      ]
    },
    {
      "cell_type": "markdown",
      "metadata": {
        "id": "BhI90qGfQ8zn"
      },
      "source": [
        "### Introduction"
      ]
    },
    {
      "cell_type": "markdown",
      "metadata": {
        "id": "SoO2NQRuQ8zo"
      },
      "source": [
        "In this lesson we'll work with the spotify web API.  As we'll see, uses a different authentication flow than we have previously seen."
      ]
    },
    {
      "cell_type": "markdown",
      "metadata": {
        "id": "OTuC40_WQ8zo"
      },
      "source": [
        "### Signing Up with Spotify"
      ]
    },
    {
      "cell_type": "markdown",
      "metadata": {
        "id": "tUR0aUnfQ8zo"
      },
      "source": [
        "To start, go to the [Spotify Web API](https://developer.spotify.com/documentation/web-api), and then follow the instructions below to sign up."
      ]
    },
    {
      "cell_type": "markdown",
      "metadata": {
        "id": "S24UF8nPQ8zp"
      },
      "source": [
        "<img src=\"https://github.com/jigsawlabs-student/github-apis/blob/master/4-spotify-web-api/login-create-app.png?raw=1\">"
      ]
    },
    {
      "cell_type": "markdown",
      "metadata": {
        "id": "_vXdB6ATQ8zp"
      },
      "source": [
        "You can see that it mentions to login and create an account, and then to create an app to acquire your access token."
      ]
    },
    {
      "cell_type": "markdown",
      "metadata": {
        "id": "51fTXBsVQ8zq"
      },
      "source": [
        "<img src=\"https://github.com/jigsawlabs-student/github-apis/blob/master/4-spotify-web-api/create-app.png?raw=1\" width=\"60%\">"
      ]
    },
    {
      "cell_type": "markdown",
      "metadata": {
        "id": "jvMA0H58Q8zq"
      },
      "source": [
        "From there, you can click on settings -- the purple text in the top right --  to acquire your client id and client secret."
      ]
    },
    {
      "cell_type": "markdown",
      "metadata": {
        "id": "JNDukZgKQ8z_"
      },
      "source": [
        "<img src=\"https://github.com/jigsawlabs-student/github-apis/blob/master/4-spotify-web-api/client-secret.png?raw=1\" width=\"60%\">"
      ]
    },
    {
      "cell_type": "markdown",
      "metadata": {
        "id": "sl21MiGWQ8z_"
      },
      "source": [
        "### Authenticating with the API"
      ]
    },
    {
      "cell_type": "markdown",
      "metadata": {
        "id": "2vq4Q4wmQ8z_"
      },
      "source": [
        "To see how to use them, read through the [client credentials flow on Spotify](https://developer.spotify.com/documentation/general/guides/authorization-guide/#client-credentials-flow).  You can also read through their documentation on the access token here.\n",
        "\n",
        "Don't worry, we'll wait."
      ]
    },
    {
      "cell_type": "markdown",
      "metadata": {
        "id": "bbuG_-5uQ80A"
      },
      "source": [
        "> It explains that before making a request, we need to use the `client_id` and `client_secret` to retreive an auth token."
      ]
    },
    {
      "cell_type": "markdown",
      "metadata": {
        "id": "5uEtpT0bQ80A"
      },
      "source": [
        "The documentation does not explicitly show us how to get an auth token using Python.  But lucky for us, this [this stackoverflow post](https://stackoverflow.com/questions/30557409/spotify-api-post-call-response-415) does."
      ]
    },
    {
      "cell_type": "markdown",
      "metadata": {
        "id": "5JV_YNY_Q80A"
      },
      "source": [
        "Copy the code below and confirm that you can return an access token with the code."
      ]
    },
    {
      "cell_type": "code",
      "execution_count": 4,
      "metadata": {
        "id": "hbvbPLlBQ80C",
        "outputId": "f58b5014-0120-458c-82ba-82e19ff03f50",
        "colab": {
          "base_uri": "https://localhost:8080/"
        }
      },
      "outputs": [
        {
          "output_type": "stream",
          "name": "stdout",
          "text": [
            "{'access_token': 'BQDw8Plr9qEXXLe91qdTbchoVnVQ5dSwwSIVyYSnayWMFBl_5Zfzdb0mPSHmvm8fDkhtq7IqgJ6e0gBbqsFTjq9xQJDS2A6qWmuxohS2nilcDt7iBNY', 'token_type': 'Bearer', 'expires_in': 3600}\n"
          ]
        }
      ],
      "source": [
        "import requests\n",
        "\n",
        "client_id = '78211e6ae8a84420a8ab963521bc8f17'\n",
        "client_secret = '60083087989244e681ff802ddb4850e6'\n",
        "\n",
        "grant_type = 'client_credentials'\n",
        "\n",
        "#Request based on Client Credentials Flow from https://developer.spotify.com/web-api/authorization-guide/\n",
        "\n",
        "#Request body parameter: grant_type Value: Required. Set it to client_credentials\n",
        "body_params = {'grant_type' : grant_type}\n",
        "\n",
        "url='https://accounts.spotify.com/api/token'\n",
        "\n",
        "response=requests.post(url, data=body_params, auth = (client_id, client_secret))\n",
        "print(response.json())\n"
      ]
    },
    {
      "cell_type": "markdown",
      "metadata": {
        "id": "ZszjaKbpQ80I"
      },
      "source": [
        "After confirming that you can retrieve an access token, turn the code into a function called `get_access_token` that takes in arguments of `client_id` and `client_secret` and returns the access token."
      ]
    },
    {
      "cell_type": "code",
      "execution_count": 5,
      "metadata": {
        "id": "t9gSXsI5Q80I"
      },
      "outputs": [],
      "source": [
        "import requests\n",
        "\n",
        "def get_access_token(client_id, client_secret):\n",
        "    client_id = '78211e6ae8a84420a8ab963521bc8f17'\n",
        "    client_secret = '60083087989244e681ff802ddb4850e6'\n",
        "\n",
        "    grant_type = 'client_credentials'\n",
        "\n",
        "    #Request based on Client Credentials Flow from https://developer.spotify.com/web-api/authorization-guide/\n",
        "\n",
        "    #Request body parameter: grant_type Value: Required. Set it to client_credentials\n",
        "    body_params = {'grant_type' : grant_type}\n",
        "\n",
        "    url='https://accounts.spotify.com/api/token'\n",
        "\n",
        "    response=requests.post(url, data=body_params, auth = (client_id, client_secret))\n",
        "    return response.json()['access_token']"
      ]
    },
    {
      "cell_type": "code",
      "execution_count": 6,
      "metadata": {
        "id": "b95Rpb2HQ80I",
        "outputId": "0425853a-767d-45b2-8850-cbd88de0a290",
        "colab": {
          "base_uri": "https://localhost:8080/",
          "height": 36
        }
      },
      "outputs": [
        {
          "output_type": "execute_result",
          "data": {
            "text/plain": [
              "'BQCZiY7FPDQrxsaFIi6IoUfCEf-QdXGfvD0X345sCfYe0I1Tym8qWr--UXPDqeWrZ2XV_uNDAMe60Ec3HsturmIKJU8l7GRojdE3oaootRN4kbtQfSc'"
            ],
            "application/vnd.google.colaboratory.intrinsic+json": {
              "type": "string"
            }
          },
          "metadata": {},
          "execution_count": 6
        }
      ],
      "source": [
        "token = get_access_token(client_id, client_secret)\n",
        "\n",
        "\n",
        "token\n",
        "# Your access token will be different\n",
        "# 'BQAXehpLzlIKmW5MPQfLaCbyOO-VJAUl6Sgl-jpkYNwHONFXycKso59RR_qt5XNnhNK77I1wdj1drERSiEI'"
      ]
    },
    {
      "cell_type": "markdown",
      "metadata": {
        "id": "xGNzzyv3Q80J"
      },
      "source": [
        "### Making a search"
      ]
    },
    {
      "cell_type": "markdown",
      "metadata": {
        "id": "tpACx2euQ80J"
      },
      "source": [
        "Now that we have an access token, it's time for us to use the Spotify API to get some information about music.  The main component that we would like to use in the API is the [discover page](https://developer.spotify.com/discover/#search).\n",
        "\n",
        "We can start by making a request for information about an musical artist.  Look at the [search documents for an artist](https://developer.spotify.com/documentation/web-api/reference/search/) to see how."
      ]
    },
    {
      "cell_type": "markdown",
      "metadata": {
        "id": "KgmbN2oOQ80J"
      },
      "source": [
        "Write a function called `artist_search_url` that takes in an `artist_name`, and returns the corresponding correct url to search for the artist."
      ]
    },
    {
      "cell_type": "code",
      "execution_count": 15,
      "metadata": {
        "id": "uR00LHheQ80J"
      },
      "outputs": [],
      "source": [
        "def artist_search_url(artist_name):\n",
        "    url = 'https://api.spotify.com/v1/search?'\n",
        "    name_str = artist_name.replace(' ', '%20')\n",
        "    return f'{url}q={name_str}&type=artist'"
      ]
    },
    {
      "cell_type": "code",
      "execution_count": 16,
      "metadata": {
        "id": "qPA9G0h9Q80K",
        "outputId": "2fa83300-b881-448e-9c06-40b64babb379",
        "colab": {
          "base_uri": "https://localhost:8080/",
          "height": 36
        }
      },
      "outputs": [
        {
          "output_type": "execute_result",
          "data": {
            "text/plain": [
              "'https://api.spotify.com/v1/search?q=paul%20simon&type=artist'"
            ],
            "application/vnd.google.colaboratory.intrinsic+json": {
              "type": "string"
            }
          },
          "metadata": {},
          "execution_count": 16
        }
      ],
      "source": [
        "paul_simon_request_url = artist_search_url('paul simon')\n",
        "paul_simon_request_url\n",
        "# 'https://api.spotify.com/v1/search?q=paul simon&type=artist'"
      ]
    },
    {
      "cell_type": "markdown",
      "metadata": {
        "id": "FrDF_k_wQ80K"
      },
      "source": [
        "Write a function called `make_request` that takes in the token, and url and makes the request.  You can reference [this stackoverflow post](https://stackoverflow.com/questions/29931671/making-an-api-call-in-python-with-an-api-that-requires-a-bearer-token) to see how to provide the access token into headers.  Just use a `get` request instead of a post request."
      ]
    },
    {
      "cell_type": "code",
      "execution_count": 21,
      "metadata": {
        "id": "4K2HoMs4Q80K"
      },
      "outputs": [],
      "source": [
        "import requests\n",
        "\n",
        "def make_request(token, url):\n",
        "    headers = {\"Authorization\": f\"Bearer {token}\"}\n",
        "    response = requests.get(url, headers=headers)\n",
        "    return response.json()"
      ]
    },
    {
      "cell_type": "markdown",
      "metadata": {
        "id": "--R6IIlJQ80L"
      },
      "source": [
        "You can check that you write the functin correctly with the following by checking the return value of the function below."
      ]
    },
    {
      "cell_type": "code",
      "execution_count": 27,
      "metadata": {
        "id": "XE8gCQv6Q80L",
        "outputId": "b65ac6aa-f3eb-4371-dce4-91314bde7ca5",
        "colab": {
          "base_uri": "https://localhost:8080/"
        }
      },
      "outputs": [
        {
          "output_type": "execute_result",
          "data": {
            "text/plain": [
              "{'external_urls': {'spotify': 'https://open.spotify.com/artist/2CvCyf1gEVhI0mX6aFXmVI'},\n",
              " 'followers': {'href': None, 'total': 2199572},\n",
              " 'genres': ['classic rock',\n",
              "  'folk',\n",
              "  'folk rock',\n",
              "  'mellow gold',\n",
              "  'permanent wave',\n",
              "  'rock',\n",
              "  'singer-songwriter',\n",
              "  'soft rock'],\n",
              " 'href': 'https://api.spotify.com/v1/artists/2CvCyf1gEVhI0mX6aFXmVI',\n",
              " 'id': '2CvCyf1gEVhI0mX6aFXmVI',\n",
              " 'images': [{'height': 640,\n",
              "   'url': 'https://i.scdn.co/image/ab6761610000e5ebddc148cfa465c2065846c636',\n",
              "   'width': 640},\n",
              "  {'height': 320,\n",
              "   'url': 'https://i.scdn.co/image/ab67616100005174ddc148cfa465c2065846c636',\n",
              "   'width': 320},\n",
              "  {'height': 160,\n",
              "   'url': 'https://i.scdn.co/image/ab6761610000f178ddc148cfa465c2065846c636',\n",
              "   'width': 160}],\n",
              " 'name': 'Paul Simon',\n",
              " 'popularity': 65,\n",
              " 'type': 'artist',\n",
              " 'uri': 'spotify:artist:2CvCyf1gEVhI0mX6aFXmVI'}"
            ]
          },
          "metadata": {},
          "execution_count": 27
        }
      ],
      "source": [
        "paul_simon_data = make_request(token, paul_simon_request_url)\n",
        "# paul_simon_data['artists']['items'][0]"
      ]
    },
    {
      "cell_type": "code",
      "execution_count": null,
      "metadata": {
        "id": "9j07nEaKQ80M"
      },
      "outputs": [],
      "source": [
        "# paul_simon_data\n",
        "\n",
        "# {'artists': {'href': 'https://api.spotify.com/v1/search?query=paul+simon&type=artist&offset=0&limit=20',\n",
        "#   'items': [{'external_urls': {'spotify': 'https://open.spotify.com/artist/2CvCyf1gEVhI0mX6aFXmVI'},\n",
        "#     'followers': {'href': None, 'total': 1219295},\n",
        "#     'genres': ['classic rock',\n",
        "#      'folk',\n",
        "#      'folk rock',\n",
        "#      'mellow gold',\n",
        "#      'permanent wave',\n",
        "#      'rock',\n",
        "#      'roots rock'"
      ]
    },
    {
      "cell_type": "markdown",
      "metadata": {
        "id": "c0t8L9C5Q80M"
      },
      "source": [
        "> When you see that it's correct, feel free to comment out the output."
      ]
    },
    {
      "cell_type": "markdown",
      "metadata": {
        "id": "-muiI4PuQ80M"
      },
      "source": [
        "Next write a method that extracts the `name`, `id` and popularity from the json response for an artist."
      ]
    },
    {
      "cell_type": "code",
      "execution_count": 30,
      "metadata": {
        "id": "m3m_gML1Q80N"
      },
      "outputs": [],
      "source": [
        "def extract_artist_info(search_resp):\n",
        "    artist = search_resp['artists']['items'][0]\n",
        "    return {\n",
        "        'name': artist['name'],\n",
        "        'id': artist['id'],\n",
        "        'popularity': artist['popularity']\n",
        "    }"
      ]
    },
    {
      "cell_type": "code",
      "execution_count": 31,
      "metadata": {
        "id": "43xbuyGiQ80N",
        "outputId": "dc4f383b-2d96-4cbd-8a54-2faff715630a",
        "colab": {
          "base_uri": "https://localhost:8080/"
        }
      },
      "outputs": [
        {
          "output_type": "execute_result",
          "data": {
            "text/plain": [
              "{'name': 'Paul Simon', 'id': '2CvCyf1gEVhI0mX6aFXmVI', 'popularity': 65}"
            ]
          },
          "metadata": {},
          "execution_count": 31
        }
      ],
      "source": [
        "paul_simon_info = extract_artist_info(paul_simon_data)\n",
        "paul_simon_info\n",
        "# {'name': 'Paul Simon', 'id': '2CvCyf1gEVhI0mX6aFXmVI', 'popularity': 74}"
      ]
    },
    {
      "cell_type": "markdown",
      "metadata": {
        "id": "xEPriz3iQ80N"
      },
      "source": [
        "## Digging Deeper"
      ]
    },
    {
      "cell_type": "markdown",
      "metadata": {
        "id": "C6XIaxcGQ80N"
      },
      "source": [
        "Now that we have successfully requested and extracted information from the Spotify API, it's time to go deeper.  \n",
        "\n",
        "Let's use the artist's `id`, to search for more information about the artist."
      ]
    },
    {
      "cell_type": "markdown",
      "metadata": {
        "id": "HYFp4DWjQ80N"
      },
      "source": [
        "* Finding the `top_tracks`"
      ]
    },
    {
      "cell_type": "markdown",
      "metadata": {
        "id": "QgIt3kflQ80N"
      },
      "source": [
        "With the Spotify API, we can find the top tracks of an artist.  Write a method that takes in an `artist_id`, and returns url to request an artist's top tracks."
      ]
    },
    {
      "cell_type": "code",
      "execution_count": 40,
      "metadata": {
        "id": "aDzQGXmRQ80N"
      },
      "outputs": [],
      "source": [
        "# https://api.spotify.com/v1/artists/{id}/top-tracks\n",
        "headers = {\"Authorization\": f\"Bearer {token}\"}\n",
        "\n",
        "def top_tracks_url(artist_id):\n",
        "    return f'https://api.spotify.com/v1/artists/{artist_id}/top-tracks?country=US'\n",
        ""
      ]
    },
    {
      "cell_type": "code",
      "execution_count": 41,
      "metadata": {
        "tags": [],
        "id": "N7VBBdo3Q80O",
        "outputId": "678de675-d17d-4cc5-8147-7a0718a252d8",
        "colab": {
          "base_uri": "https://localhost:8080/",
          "height": 36
        }
      },
      "outputs": [
        {
          "output_type": "execute_result",
          "data": {
            "text/plain": [
              "'https://api.spotify.com/v1/artists/2CvCyf1gEVhI0mX6aFXmVI/top-tracks?country=US'"
            ],
            "application/vnd.google.colaboratory.intrinsic+json": {
              "type": "string"
            }
          },
          "metadata": {},
          "execution_count": 41
        }
      ],
      "source": [
        "simon_id = paul_simon_info['id']\n",
        "\n",
        "\n",
        "simon_artist_url = top_tracks_url(simon_id)\n",
        "simon_artist_url\n",
        "# 'https://api.spotify.com/v1/artists/2CvCyf1gEVhI0mX6aFXmVI/top-tracks?country=US'"
      ]
    },
    {
      "cell_type": "markdown",
      "metadata": {
        "id": "plKBsGBNQ80X"
      },
      "source": [
        "Now use the url to make the request to the API."
      ]
    },
    {
      "cell_type": "code",
      "execution_count": 48,
      "metadata": {
        "id": "0j7H9_hBQ80Y"
      },
      "outputs": [],
      "source": [
        "simon_tracks = make_request(token, simon_artist_url)"
      ]
    },
    {
      "cell_type": "code",
      "execution_count": 46,
      "metadata": {
        "id": "QlEHTpg-Q80Y",
        "outputId": "56f261eb-73e5-4c1b-aad4-64e31c773a25",
        "colab": {
          "base_uri": "https://localhost:8080/"
        }
      },
      "outputs": [
        {
          "output_type": "execute_result",
          "data": {
            "text/plain": [
              "{'album': {'album_type': 'album',\n",
              "  'artists': [{'external_urls': {'spotify': 'https://open.spotify.com/artist/2CvCyf1gEVhI0mX6aFXmVI'},\n",
              "    'href': 'https://api.spotify.com/v1/artists/2CvCyf1gEVhI0mX6aFXmVI',\n",
              "    'id': '2CvCyf1gEVhI0mX6aFXmVI',\n",
              "    'name': 'Paul Simon',\n",
              "    'type': 'artist',\n",
              "    'uri': 'spotify:artist:2CvCyf1gEVhI0mX6aFXmVI'}],\n",
              "  'external_urls': {'spotify': 'https://open.spotify.com/album/6WgGWYw6XXQyLTsWt7tXky'},\n",
              "  'href': 'https://api.spotify.com/v1/albums/6WgGWYw6XXQyLTsWt7tXky',\n",
              "  'id': '6WgGWYw6XXQyLTsWt7tXky',\n",
              "  'images': [{'height': 640,\n",
              "    'url': 'https://i.scdn.co/image/ab67616d0000b27309880a7b8636c5a0615dc0c8',\n",
              "    'width': 640},\n",
              "   {'height': 300,\n",
              "    'url': 'https://i.scdn.co/image/ab67616d00001e0209880a7b8636c5a0615dc0c8',\n",
              "    'width': 300},\n",
              "   {'height': 64,\n",
              "    'url': 'https://i.scdn.co/image/ab67616d0000485109880a7b8636c5a0615dc0c8',\n",
              "    'width': 64}],\n",
              "  'is_playable': True,\n",
              "  'name': 'Graceland (25th Anniversary Deluxe Edition)',\n",
              "  'release_date': '1986-08-12',\n",
              "  'release_date_precision': 'day',\n",
              "  'total_tracks': 17,\n",
              "  'type': 'album',\n",
              "  'uri': 'spotify:album:6WgGWYw6XXQyLTsWt7tXky'},\n",
              " 'artists': [{'external_urls': {'spotify': 'https://open.spotify.com/artist/2CvCyf1gEVhI0mX6aFXmVI'},\n",
              "   'href': 'https://api.spotify.com/v1/artists/2CvCyf1gEVhI0mX6aFXmVI',\n",
              "   'id': '2CvCyf1gEVhI0mX6aFXmVI',\n",
              "   'name': 'Paul Simon',\n",
              "   'type': 'artist',\n",
              "   'uri': 'spotify:artist:2CvCyf1gEVhI0mX6aFXmVI'}],\n",
              " 'disc_number': 1,\n",
              " 'duration_ms': 280000,\n",
              " 'explicit': False,\n",
              " 'external_ids': {'isrc': 'USSM11002274'},\n",
              " 'external_urls': {'spotify': 'https://open.spotify.com/track/0qxYx4F3vm1AOnfux6dDxP'},\n",
              " 'href': 'https://api.spotify.com/v1/tracks/0qxYx4F3vm1AOnfux6dDxP',\n",
              " 'id': '0qxYx4F3vm1AOnfux6dDxP',\n",
              " 'is_local': False,\n",
              " 'is_playable': True,\n",
              " 'name': 'You Can Call Me Al',\n",
              " 'popularity': 77,\n",
              " 'preview_url': 'https://p.scdn.co/mp3-preview/6a17ed2e1ee8d45a933c4a86dd268ba8f12299a4?cid=78211e6ae8a84420a8ab963521bc8f17',\n",
              " 'track_number': 6,\n",
              " 'type': 'track',\n",
              " 'uri': 'spotify:track:0qxYx4F3vm1AOnfux6dDxP'}"
            ]
          },
          "metadata": {},
          "execution_count": 46
        }
      ],
      "source": [
        "simon_tracks\n",
        "\n",
        "# {'tracks': [{'album': {'album_type': 'album',\n",
        "#     'artists': [{'external_urls': {'spotify': 'https://open.spotify.com/artist/2CvCyf1gEVhI0mX6aFXmVI'},\n",
        "#       'href': 'https://api.spotify.com/v1/artists/2CvCyf1gEVhI0mX6aFXmVI',\n",
        "#       'id': '2CvCyf1gEVhI0mX6aFXmVI',\n",
        "#       'name': 'Paul Simon',\n",
        "#       'type': 'artist',\n",
        "#       'uri': 'spotify:artist:2CvCyf1gEVhI0mX6aFXmVI'}],"
      ]
    },
    {
      "cell_type": "markdown",
      "metadata": {
        "id": "fzPuxpbxQ80Y"
      },
      "source": [
        "Write a method called `extract_track_info` that takes in a single track from the response, and returns a smaller dictionary of specified keys.  We'll provide a default argument of `keys = ['name', 'id', 'popularity]`, but if provided a list of different keys, it should extract them.\n",
        "\n",
        "> Look up dictionary comprehension to see how to do this."
      ]
    },
    {
      "cell_type": "code",
      "execution_count": 49,
      "metadata": {
        "id": "eeajpM6YQ80Y",
        "outputId": "1b98fa42-a1ce-44af-9914-fb3b1c117d79",
        "colab": {
          "base_uri": "https://localhost:8080/"
        }
      },
      "outputs": [
        {
          "output_type": "execute_result",
          "data": {
            "text/plain": [
              "dict_keys(['album', 'artists', 'disc_number', 'duration_ms', 'explicit', 'external_ids', 'external_urls', 'href', 'id', 'is_local', 'is_playable', 'name', 'popularity', 'preview_url', 'track_number', 'type', 'uri'])"
            ]
          },
          "metadata": {},
          "execution_count": 49
        }
      ],
      "source": [
        "tracks = simon_tracks['tracks']\n",
        "\n",
        "first_track = tracks[0]\n",
        "\n",
        "first_track.keys()\n",
        "\n",
        "# dict_keys(['album', 'artists', 'disc_number', 'duration_ms',\n",
        "# 'explicit', 'external_ids', 'external_urls', 'href', 'id',\n",
        "# 'is_local', 'is_playable', 'name', 'popularity',\n",
        "# 'preview_url', 'track_number', 'type', 'uri'])"
      ]
    },
    {
      "cell_type": "code",
      "execution_count": 54,
      "metadata": {
        "id": "ANRe5HiHQ80Z"
      },
      "outputs": [],
      "source": [
        "def extract_track_info(track_response, keys = ['name', 'id', 'popularity']):\n",
        "    # artist_info = {}\n",
        "    # for key in keys:\n",
        "    #   artist_info[key] = track_response[key]\n",
        "\n",
        "    # return artist_info\n",
        "    return {k:v for k,v in track_response.items() if k in keys}"
      ]
    },
    {
      "cell_type": "code",
      "execution_count": 55,
      "metadata": {
        "id": "rG0AZ2g5Q80Z",
        "outputId": "2347ee9f-e3fe-4292-f06d-1ca5ab5851bd",
        "colab": {
          "base_uri": "https://localhost:8080/"
        }
      },
      "outputs": [
        {
          "output_type": "execute_result",
          "data": {
            "text/plain": [
              "{'id': '0qxYx4F3vm1AOnfux6dDxP',\n",
              " 'name': 'You Can Call Me Al',\n",
              " 'popularity': 77}"
            ]
          },
          "metadata": {},
          "execution_count": 55
        }
      ],
      "source": [
        "extract_track_info(first_track)"
      ]
    },
    {
      "cell_type": "code",
      "execution_count": null,
      "metadata": {
        "id": "DVnnWxoxQ80Z",
        "outputId": "ce8e8f8e-3fc8-4d58-fad6-df9423b4f666"
      },
      "outputs": [
        {
          "data": {
            "text/plain": [
              "{'duration_ms': 280000, 'name': 'You Can Call Me Al', 'popularity': 74}"
            ]
          },
          "execution_count": 55,
          "metadata": {},
          "output_type": "execute_result"
        }
      ],
      "source": [
        "extract_track_info(first_track, keys = ['name', 'popularity', 'duration_ms'])\n",
        "# {'duration_ms': 280000, 'name': 'You Can Call Me Al', 'popularity': 74}"
      ]
    },
    {
      "cell_type": "markdown",
      "metadata": {
        "id": "qzyDD2n6Q80Z"
      },
      "source": [
        "Now write a method called `extract_tracks_info` that takes in an argument of a list of tracks, and has a default argument of `keys = ['name', 'id', 'popularity']` and retrieves the corresponding data for a list of tracks."
      ]
    },
    {
      "cell_type": "code",
      "execution_count": 58,
      "metadata": {
        "id": "0Vq2jVQ_Q80Z"
      },
      "outputs": [],
      "source": [
        "def extract_tracks_info(tracks_response, keys = ['name', 'id', 'popularity']):\n",
        "    return [extract_track_info(track, keys) for track in tracks_response]"
      ]
    },
    {
      "cell_type": "code",
      "execution_count": 59,
      "metadata": {
        "id": "N_ryIeB6Q80a",
        "outputId": "79fc720a-ee8b-461d-da7a-bd0858103dc6",
        "colab": {
          "base_uri": "https://localhost:8080/"
        }
      },
      "outputs": [
        {
          "output_type": "execute_result",
          "data": {
            "text/plain": [
              "[{'id': '0qxYx4F3vm1AOnfux6dDxP',\n",
              "  'name': 'You Can Call Me Al',\n",
              "  'popularity': 77},\n",
              " {'id': '6vxHp3CDNo0afgKGp2yi1E',\n",
              "  'name': 'Me and Julio Down by the Schoolyard',\n",
              "  'popularity': 74}]"
            ]
          },
          "metadata": {},
          "execution_count": 59
        }
      ],
      "source": [
        "top_songs_info = extract_tracks_info(simon_tracks['tracks'])\n",
        "\n",
        "top_songs_info[:2]\n",
        "# [{'song': 'You Can Call Me Al',\n",
        "#   'id': '0qxYx4F3vm1AOnfux6dDxP',\n",
        "#   'popularity': 74},\n",
        "#  {'song': 'Me and Julio Down by the Schoolyard',\n",
        "#   'id': '6vxHp3CDNo0afgKGp2yi1E',\n",
        "#   'popularity': 70},"
      ]
    },
    {
      "cell_type": "markdown",
      "metadata": {
        "id": "AtTKp5G8Q80a"
      },
      "source": [
        "## Song Analysis"
      ]
    },
    {
      "cell_type": "markdown",
      "metadata": {
        "id": "I4IsO_qcQ80a"
      },
      "source": [
        "Now write a function that takes in a `track_id` and returns the url to retrieve the features of a track."
      ]
    },
    {
      "cell_type": "code",
      "execution_count": 67,
      "metadata": {
        "id": "eqI6EgKxQ80a"
      },
      "outputs": [],
      "source": [
        "def audio_features(track_id):\n",
        "    url = 'https://api.spotify.com/v1/audio-features/'\n",
        "    return f'{url}{track_id}/'"
      ]
    },
    {
      "cell_type": "code",
      "execution_count": 68,
      "metadata": {
        "id": "OIROWvTOQ80a",
        "outputId": "ed83b6b0-e446-4391-e1c3-646b9df5a70c",
        "colab": {
          "base_uri": "https://localhost:8080/",
          "height": 36
        }
      },
      "outputs": [
        {
          "output_type": "execute_result",
          "data": {
            "text/plain": [
              "'https://api.spotify.com/v1/audio-features/0qxYx4F3vm1AOnfux6dDxP/'"
            ],
            "application/vnd.google.colaboratory.intrinsic+json": {
              "type": "string"
            }
          },
          "metadata": {},
          "execution_count": 68
        }
      ],
      "source": [
        "top_song_id = top_songs_info[0]['id']\n",
        "audio_url = audio_features(top_song_id)\n",
        "\n",
        "audio_url\n",
        "# 'https://api.spotify.com/v1/audio-features/0qxYx4F3vm1AOnfux6dDxP'"
      ]
    },
    {
      "cell_type": "markdown",
      "metadata": {
        "id": "7G1UNjwSQ80a"
      },
      "source": [
        "Now use this url to retrieve the characteristics of this song."
      ]
    },
    {
      "cell_type": "code",
      "execution_count": 69,
      "metadata": {
        "id": "g8lWXxFhQ80b"
      },
      "outputs": [],
      "source": [
        "audio_data = make_request(token, audio_url)"
      ]
    },
    {
      "cell_type": "code",
      "execution_count": null,
      "metadata": {
        "id": "P-R2PX3uQ80b",
        "outputId": "e2c3b9eb-95e2-44dc-b925-ea8bf5fe654d"
      },
      "outputs": [
        {
          "data": {
            "text/plain": [
              "{'danceability': 0.776,\n",
              " 'energy': 0.763,\n",
              " 'key': 5,\n",
              " 'loudness': -8.124,\n",
              " 'mode': 1,\n",
              " 'speechiness': 0.0535,\n",
              " 'acousticness': 0.182,\n",
              " 'instrumentalness': 0.0065,\n",
              " 'liveness': 0.077,\n",
              " 'valence': 0.82,\n",
              " 'tempo': 128.433,\n",
              " 'type': 'audio_features',\n",
              " 'id': '0qxYx4F3vm1AOnfux6dDxP',\n",
              " 'uri': 'spotify:track:0qxYx4F3vm1AOnfux6dDxP',\n",
              " 'track_href': 'https://api.spotify.com/v1/tracks/0qxYx4F3vm1AOnfux6dDxP',\n",
              " 'analysis_url': 'https://api.spotify.com/v1/audio-analysis/0qxYx4F3vm1AOnfux6dDxP',\n",
              " 'duration_ms': 280000,\n",
              " 'time_signature': 4}"
            ]
          },
          "execution_count": 63,
          "metadata": {},
          "output_type": "execute_result"
        }
      ],
      "source": [
        "audio_data\n",
        "# {'danceability': 0.776,\n",
        "#  'energy': 0.763,\n",
        "#  'key': 5,\n",
        "#  'loudness': -8.124,\n",
        "#  'mode': 1,\n",
        "#  'speechiness': 0.0535,\n",
        "#  'acousticness': 0.182,\n",
        "#  'instrumentalness': 0.0065,\n",
        "#  'liveness': 0.077,\n",
        "#  'valence': 0.82,\n",
        "#  'tempo': 128.433,\n",
        "#  'type': 'audio_features',\n",
        "#  'id': '0qxYx4F3vm1AOnfux6dDxP',\n",
        "#  'uri': 'spotify:track:0qxYx4F3vm1AOnfux6dDxP',\n",
        "#  'track_href': 'https://api.spotify.com/v1/tracks/0qxYx4F3vm1AOnfux6dDxP',\n",
        "#  'analysis_url': 'https://api.spotify.com/v1/audio-analysis/0qxYx4F3vm1AOnfux6dDxP',\n",
        "#  'duration_ms': 280000,\n",
        "#  'time_signature': 4}"
      ]
    },
    {
      "cell_type": "markdown",
      "metadata": {
        "id": "nkJeF4wPQ80b"
      },
      "source": [
        "Next write a function called `extract_audio_data` that takes in a track features response, and only returns the following selected attributes by default:\n",
        "\n",
        "`['danceability', 'energy', 'loudness', 'speechiness', 'acousticness', 'instrumentalness', 'liveness', 'valence']`\n",
        "\n",
        "But can also return a list of other attributes if provided."
      ]
    },
    {
      "cell_type": "code",
      "execution_count": 102,
      "metadata": {
        "id": "KGVEne7fQ80b"
      },
      "outputs": [],
      "source": [
        "def extract_audio_data(audio_data, selected_attrs=['danceability', 'energy', 'loudness', 'speechiness', 'acousticness', 'instrumentalness', 'liveness', 'valence']):\n",
        "    return {k:v for k,v in audio_data.items() if k in selected_attrs }"
      ]
    },
    {
      "cell_type": "code",
      "execution_count": 72,
      "metadata": {
        "id": "fwKkyBELQ80c",
        "outputId": "0882d707-be00-472c-d6fe-56133ba7e179",
        "colab": {
          "base_uri": "https://localhost:8080/"
        }
      },
      "outputs": [
        {
          "output_type": "execute_result",
          "data": {
            "text/plain": [
              "{'danceability': 0.776,\n",
              " 'energy': 0.763,\n",
              " 'loudness': -8.124,\n",
              " 'speechiness': 0.0534,\n",
              " 'acousticness': 0.182,\n",
              " 'instrumentalness': 0.00647,\n",
              " 'liveness': 0.077,\n",
              " 'valence': 0.82}"
            ]
          },
          "metadata": {},
          "execution_count": 72
        }
      ],
      "source": [
        "extract_audio_data(audio_data, ['danceability', 'energy', 'loudness', 'speechiness', 'acousticness', 'instrumentalness', 'liveness', 'valence'])\n",
        "# {'danceability': 0.776,\n",
        "#  'energy': 0.763,\n",
        "#  'loudness': -8.124,\n",
        "#  'speechiness': 0.0535,\n",
        "#  'acousticness': 0.182,\n",
        "#  'instrumentalness': 0.0065,\n",
        "#  'liveness': 0.077,\n",
        "#  'valence': 0.82}"
      ]
    },
    {
      "cell_type": "code",
      "execution_count": 97,
      "metadata": {
        "id": "Mx7nHoXwQ80c",
        "outputId": "aafd99fa-e38a-46fa-df41-3e086e57a41f",
        "colab": {
          "base_uri": "https://localhost:8080/"
        }
      },
      "outputs": [
        {
          "output_type": "execute_result",
          "data": {
            "text/plain": [
              "{'danceability': 0.776,\n",
              " 'energy': 0.763,\n",
              " 'loudness': -8.124,\n",
              " 'instrumentalness': 0.00647}"
            ]
          },
          "metadata": {},
          "execution_count": 97
        }
      ],
      "source": [
        "alt_attrs = ['danceability', 'energy', 'loudness', 'instrumentalness']\n",
        "extract_audio_data(audio_data, selected_attrs = alt_attrs)\n",
        "# {'danceability': 0.776,\n",
        "#  'energy': 0.763,\n",
        "#  'loudness': -8.124,\n",
        "#  'instrumentalness': 0.0065}"
      ]
    },
    {
      "cell_type": "markdown",
      "metadata": {
        "id": "uTYph2XYQ80c"
      },
      "source": [
        "Now let's work on constructing a request to retreive the song features for a list of songs.  First, let's get a list of the song ids for our top songs."
      ]
    },
    {
      "cell_type": "code",
      "execution_count": 76,
      "metadata": {
        "id": "WWxrHATJQ80c"
      },
      "outputs": [],
      "source": [
        "top_song_ids = [top_song['id'] for top_song in top_songs_info]\n",
        "# ['0qxYx4F3vm1AOnfux6dDxP',\n",
        "#  '6vxHp3CDNo0afgKGp2yi1E',\n",
        "#  '6Qb7gtV6Q4MnUjSbkFcopl',\n",
        "#  '51KKQAgYFoJHgVIuJWHdHb',\n",
        "#  '71GvlH0VdeClloLIkHrAVu',\n",
        "#  '3f0U5NaD1bCk8nmKpn2ZJY',\n",
        "#  '3gIBSlXYIN1mru35l4LWPB',\n",
        "#  '2h23bjG8B3bcD47HBu6bHG',\n",
        "#  '0zb2kpEQMnqJPiLACKMiFM',\n",
        "#  '00IrSynHsun7DpDrLkRIjM']"
      ]
    },
    {
      "cell_type": "markdown",
      "metadata": {
        "id": "dKxFKO5gQ80d"
      },
      "source": [
        "From there let's write a function that takes in a list of track ids and constructs the url to retreive each of the provided songs' features -- we can see how to do that [here](https://developer.spotify.com/documentation/web-api/reference/tracks/get-several-audio-features/)."
      ]
    },
    {
      "cell_type": "code",
      "execution_count": 93,
      "metadata": {
        "id": "EDbVsaP-Q80d"
      },
      "outputs": [],
      "source": [
        "def audio_data_url(track_ids):\n",
        "    url = 'https://api.spotify.com/v1/audio-features/?ids='\n",
        "    return url+','.join(track_ids)\n",
        "    # for track_id in track_ids:\n",
        "    #   url = url + track_id + ','\n",
        "    # return url"
      ]
    },
    {
      "cell_type": "code",
      "execution_count": 94,
      "metadata": {
        "id": "E3Hv47ZgQ80d",
        "outputId": "d24d7d7c-877a-43a4-fd84-ecdc579a75b5",
        "colab": {
          "base_uri": "https://localhost:8080/",
          "height": 53
        }
      },
      "outputs": [
        {
          "output_type": "execute_result",
          "data": {
            "text/plain": [
              "'https://api.spotify.com/v1/audio-features/?ids=0qxYx4F3vm1AOnfux6dDxP,6vxHp3CDNo0afgKGp2yi1E,6Qb7gtV6Q4MnUjSbkFcopl,3f0U5NaD1bCk8nmKpn2ZJY,51KKQAgYFoJHgVIuJWHdHb,71GvlH0VdeClloLIkHrAVu,2h23bjG8B3bcD47HBu6bHG,5vZ1BKMSLgrxxPYGMR904n,5F4ksIKmuXEtgBf6SfEQRr,3gIBSlXYIN1mru35l4LWPB'"
            ],
            "application/vnd.google.colaboratory.intrinsic+json": {
              "type": "string"
            }
          },
          "metadata": {},
          "execution_count": 94
        }
      ],
      "source": [
        "songs_url = audio_data_url(top_song_ids)\n",
        "songs_url\n",
        "# 'https://api.spotify.com/v1/audio-features/?ids=\n",
        "# 0qxYx4F3vm1AOnfux6dDxP,6vxHp3CDNo0afgKGp2yi1E,\n",
        "# 6Qb7gtV6Q4MnUjSbkFcopl,51KKQAgYFoJHgVIuJWHdHb,71GvlH0VdeClloLIkHrAVu,\n",
        "# 3f0U5NaD1bCk8nmKpn2ZJY,3gIBSlXYIN1mru35l4LWPB,2h23bjG8B3bcD47HBu6bHG,\n",
        "# 0zb2kpEQMnqJPiLACKMiFM,00IrSynHsun7DpDrLkRIjM'"
      ]
    },
    {
      "cell_type": "markdown",
      "metadata": {
        "id": "QZIL0sukQ80e"
      },
      "source": [
        "From there, let's request the song information."
      ]
    },
    {
      "cell_type": "code",
      "execution_count": 95,
      "metadata": {
        "id": "pmWGHMLYQ80f"
      },
      "outputs": [],
      "source": [
        "songs_features = make_request(token, songs_url)\n",
        "# songs_features\n",
        "\n",
        "# [{'danceability': 0.776,\n",
        "#   'energy': 0.763,\n",
        "#   'key': 5,\n",
        "#   'loudness': -8.124,\n",
        "#   'mode': 1,\n",
        "#   'speechiness': 0.0535,\n",
        "#   'acousticness': 0.182,\n",
        "#   'instrumentalness': 0.0065,\n",
        "#   'liveness': 0.077,\n",
        "#   'valence': 0.82,\n",
        "#   'tempo': 128.433,\n",
        "#   'type': 'audio_features',\n",
        "#   'id': '0qxYx4F3vm1AOnfux6dDxP',\n",
        "#   'uri': 'spotify:track:0qxYx4F3vm1AOnfux6dDxP',\n",
        "#   'track_href': 'https://api.spotify.com/v1/tracks/0qxYx4F3vm1AOnfux6dDxP',\n",
        "#   'analysis_url': 'https://api.spotify.com/v1/audio-analysis/0qxYx4F3vm1AOnfux6dDxP',\n",
        "#   'duration_ms': 280000,\n",
        "#   'time_signature': 4},\n",
        "#  {'danceability': 0.626,\n",
        "#   'energy': 0.816,\n",
        "#   'key': 9,\n",
        "#   'loudness': -10.593,\n",
        "#   'mode': 1,"
      ]
    },
    {
      "cell_type": "markdown",
      "metadata": {
        "id": "IO0HTNnZQ80f"
      },
      "source": [
        "From there, we can use our extract_audio_data function to limit the keys of limit the data for each song."
      ]
    },
    {
      "cell_type": "code",
      "execution_count": 104,
      "metadata": {
        "id": "1RFlCIvCQ80g",
        "outputId": "ee0b1f3e-09dd-4405-9a2d-f6730c47f997",
        "colab": {
          "base_uri": "https://localhost:8080/"
        }
      },
      "outputs": [
        {
          "output_type": "execute_result",
          "data": {
            "text/plain": [
              "[{'danceability': 0.776,\n",
              "  'energy': 0.763,\n",
              "  'loudness': -8.124,\n",
              "  'speechiness': 0.0534,\n",
              "  'acousticness': 0.182,\n",
              "  'instrumentalness': 0.00647,\n",
              "  'liveness': 0.077,\n",
              "  'valence': 0.82},\n",
              " {'danceability': 0.626,\n",
              "  'energy': 0.816,\n",
              "  'loudness': -10.593,\n",
              "  'speechiness': 0.131,\n",
              "  'acousticness': 0.237,\n",
              "  'instrumentalness': 1.8e-06,\n",
              "  'liveness': 0.104,\n",
              "  'valence': 0.798},\n",
              " {'danceability': 0.815,\n",
              "  'energy': 0.372,\n",
              "  'loudness': -12.814,\n",
              "  'speechiness': 0.0752,\n",
              "  'acousticness': 0.166,\n",
              "  'instrumentalness': 0.000116,\n",
              "  'liveness': 0.0767,\n",
              "  'valence': 0.293}]"
            ]
          },
          "metadata": {},
          "execution_count": 104
        }
      ],
      "source": [
        "[extract_audio_data(audio_data) for audio_data in songs_features['audio_features']][:3]"
      ]
    },
    {
      "cell_type": "markdown",
      "metadata": {
        "id": "94WhMRJfQ80u"
      },
      "source": [
        "### Resources"
      ]
    },
    {
      "cell_type": "markdown",
      "metadata": {
        "id": "N3fJ84XWQ80u"
      },
      "source": [
        "[StackOverflow Post](https://stackoverflow.com/questions/30557409/spotify-api-post-call-response-415)"
      ]
    },
    {
      "cell_type": "markdown",
      "metadata": {
        "id": "2CXZqqICQ80u"
      },
      "source": [
        "[Spotify Tutorial Python](https://kholinlabs.com/how-oauth-works-with-spotify-as-an-example)"
      ]
    }
  ],
  "metadata": {
    "kernelspec": {
      "display_name": "Python 3 (ipykernel)",
      "language": "python",
      "name": "python3"
    },
    "language_info": {
      "codemirror_mode": {
        "name": "ipython",
        "version": 3
      },
      "file_extension": ".py",
      "mimetype": "text/x-python",
      "name": "python",
      "nbconvert_exporter": "python",
      "pygments_lexer": "ipython3",
      "version": "3.11.5"
    },
    "colab": {
      "provenance": []
    }
  },
  "nbformat": 4,
  "nbformat_minor": 0
}