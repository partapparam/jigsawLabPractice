{
  "cells": [
    {
      "cell_type": "markdown",
      "metadata": {
        "id": "w-Dp-gbEfPJB"
      },
      "source": [
        "# Moe's Bar Lab"
      ]
    },
    {
      "cell_type": "markdown",
      "metadata": {
        "id": "8e6uvds-fPJG"
      },
      "source": [
        "### Introduction"
      ]
    },
    {
      "cell_type": "markdown",
      "metadata": {
        "id": "5-anpFB4fPJK"
      },
      "source": [
        "In this lesson, we'll apply our knowledge of querying tables with has many through to ask questions of customers and bartenders at a bar."
      ]
    },
    {
      "cell_type": "markdown",
      "metadata": {
        "id": "uH2AwzR4fPJL"
      },
      "source": [
        "### Loading Our Data"
      ]
    },
    {
      "cell_type": "markdown",
      "metadata": {
        "id": "DX9OrTaLfPJL"
      },
      "source": [
        "Then we can connect to our database with the following."
      ]
    },
    {
      "cell_type": "code",
      "execution_count": 1,
      "metadata": {
        "id": "-6IciR9sfPJN"
      },
      "outputs": [],
      "source": [
        "import sqlite3\n",
        "conn = sqlite3.connect('./moes_bar.db')\n",
        "cursor = conn.cursor()"
      ]
    },
    {
      "cell_type": "markdown",
      "metadata": {
        "id": "EndStuCKfPJS"
      },
      "source": [
        "Next we load our data."
      ]
    },
    {
      "cell_type": "code",
      "execution_count": 2,
      "metadata": {
        "id": "TsPVJpfTfPJT"
      },
      "outputs": [],
      "source": [
        "import pandas as pd\n",
        "root_url = \"https://raw.githubusercontent.com/jigsawlabs-student/curriculum-images/main/has-many-through-bar/data/\"\n",
        "names = ['bartenders', 'customers', 'drinks', 'orders', 'ingredients', 'ingredients_drinks']\n",
        "loaded_dfs = [pd.read_csv(f'{root_url}{name}.csv') for name in names]"
      ]
    },
    {
      "cell_type": "code",
      "execution_count": 3,
      "metadata": {
        "id": "qqzsm2wufPKQ"
      },
      "outputs": [],
      "source": [
        "for index, name in enumerate(names):\n",
        "    loaded_dfs[index].to_sql(f'{name}', conn, index = False)"
      ]
    },
    {
      "cell_type": "code",
      "execution_count": 4,
      "metadata": {
        "id": "NIRkX71KfPKR",
        "outputId": "900355a1-72b6-4a1c-93fe-bedd68a9fd55",
        "colab": {
          "base_uri": "https://localhost:8080/"
        }
      },
      "outputs": [
        {
          "output_type": "execute_result",
          "data": {
            "text/plain": [
              "[('bartenders',),\n",
              " ('customers',),\n",
              " ('drinks',),\n",
              " ('orders',),\n",
              " ('ingredients',),\n",
              " ('ingredients_drinks',)]"
            ]
          },
          "metadata": {},
          "execution_count": 4
        }
      ],
      "source": [
        "cursor.execute(\"SELECT name FROM sqlite_master WHERE type='table';\")\n",
        "cursor.fetchall()"
      ]
    },
    {
      "cell_type": "markdown",
      "metadata": {
        "id": "rpWLivtyfPKU"
      },
      "source": [
        "### Exploring our Database"
      ]
    },
    {
      "cell_type": "markdown",
      "metadata": {
        "id": "_gSNfgWEfPKV"
      },
      "source": [
        "Now we list of all of the tables with the following."
      ]
    },
    {
      "cell_type": "code",
      "execution_count": 5,
      "metadata": {
        "id": "GxU58xQpfPKV",
        "outputId": "32fda8ef-d6b8-4a4a-beaa-f8e03b2a4e8c",
        "colab": {
          "base_uri": "https://localhost:8080/"
        }
      },
      "outputs": [
        {
          "output_type": "execute_result",
          "data": {
            "text/plain": [
              "[('bartenders',),\n",
              " ('customers',),\n",
              " ('drinks',),\n",
              " ('orders',),\n",
              " ('ingredients',),\n",
              " ('ingredients_drinks',)]"
            ]
          },
          "metadata": {},
          "execution_count": 5
        }
      ],
      "source": [
        "cursor.execute(\"SELECT name FROM sqlite_master WHERE type='table';\")\n",
        "cursor.fetchall()"
      ]
    },
    {
      "cell_type": "markdown",
      "metadata": {
        "id": "uHD6B-rBfPKW"
      },
      "source": [
        "And then we can see the details of a particular table with the following."
      ]
    },
    {
      "cell_type": "code",
      "execution_count": 11,
      "metadata": {
        "id": "4a7TicF5fPKW",
        "outputId": "c9f60a50-d13a-4bf5-ffdd-08cdaf108601",
        "colab": {
          "base_uri": "https://localhost:8080/"
        }
      },
      "outputs": [
        {
          "output_type": "execute_result",
          "data": {
            "text/plain": [
              "[(0, 'id', 'INTEGER', 0, None, 0),\n",
              " (1, 'name', 'TEXT', 0, None, 0),\n",
              " (2, 'hometown', 'TEXT', 0, None, 0),\n",
              " (3, 'birthyear', 'INTEGER', 0, None, 0)]"
            ]
          },
          "metadata": {},
          "execution_count": 11
        }
      ],
      "source": [
        "cursor.execute(\"pragma table_info(customers)\")\n",
        "cursor.fetchall()"
      ]
    },
    {
      "cell_type": "code",
      "source": [
        "cursor.execute(\"pragma table_info(bartenders)\")\n",
        "cursor.fetchall()"
      ],
      "metadata": {
        "id": "jgVGweAvfqUE",
        "outputId": "130fae97-7515-41fe-ab80-94dfb3e250e8",
        "colab": {
          "base_uri": "https://localhost:8080/"
        }
      },
      "execution_count": 12,
      "outputs": [
        {
          "output_type": "execute_result",
          "data": {
            "text/plain": [
              "[(0, 'id', 'INTEGER', 0, None, 0),\n",
              " (1, 'name', 'TEXT', 0, None, 0),\n",
              " (2, 'hometown', 'TEXT', 0, None, 0),\n",
              " (3, 'birthyear', 'INTEGER', 0, None, 0)]"
            ]
          },
          "metadata": {},
          "execution_count": 12
        }
      ]
    },
    {
      "cell_type": "code",
      "source": [
        "cursor.execute(\"pragma table_info(drinks)\")\n",
        "cursor.fetchall()"
      ],
      "metadata": {
        "id": "BH5qk_pyftGB",
        "outputId": "1bb20109-a263-4673-8eaa-a9f7d3b97e1c",
        "colab": {
          "base_uri": "https://localhost:8080/"
        }
      },
      "execution_count": 14,
      "outputs": [
        {
          "output_type": "execute_result",
          "data": {
            "text/plain": [
              "[(0, 'id', 'INTEGER', 0, None, 0),\n",
              " (1, 'name', 'TEXT', 0, None, 0),\n",
              " (2, 'calories', 'INTEGER', 0, None, 0),\n",
              " (3, 'price', 'INTEGER', 0, None, 0),\n",
              " (4, 'alcoholic', 'INTEGER', 0, None, 0)]"
            ]
          },
          "metadata": {},
          "execution_count": 14
        }
      ]
    },
    {
      "cell_type": "code",
      "source": [
        "cursor.execute(\"pragma table_info(orders)\")\n",
        "cursor.fetchall()"
      ],
      "metadata": {
        "id": "gEcEI2xdfvKj",
        "outputId": "39cfe6f9-2c82-4d54-90a4-53b4bcaf0d18",
        "colab": {
          "base_uri": "https://localhost:8080/"
        }
      },
      "execution_count": 16,
      "outputs": [
        {
          "output_type": "execute_result",
          "data": {
            "text/plain": [
              "[(0, 'id', 'INTEGER', 0, None, 0),\n",
              " (1, 'customer_id', 'INTEGER', 0, None, 0),\n",
              " (2, 'drink_id', 'INTEGER', 0, None, 0),\n",
              " (3, 'bartender_id', 'INTEGER', 0, None, 0)]"
            ]
          },
          "metadata": {},
          "execution_count": 16
        }
      ]
    },
    {
      "cell_type": "code",
      "source": [
        "cursor.execute(\"pragma table_info(ingredients)\")\n",
        "cursor.fetchall()"
      ],
      "metadata": {
        "id": "T2fhpoV4fxYa",
        "outputId": "df6b5bbb-555d-4f17-a94f-a8005fcdf66b",
        "colab": {
          "base_uri": "https://localhost:8080/"
        }
      },
      "execution_count": 18,
      "outputs": [
        {
          "output_type": "execute_result",
          "data": {
            "text/plain": [
              "[(0, 'id', 'INTEGER', 0, None, 0),\n",
              " (1, 'name', 'TEXT', 0, None, 0),\n",
              " (2, 'price', 'INTEGER', 0, None, 0)]"
            ]
          },
          "metadata": {},
          "execution_count": 18
        }
      ]
    },
    {
      "cell_type": "code",
      "source": [
        "\n",
        "cursor.execute(\"pragma table_info(ingredients_drinks)\")\n",
        "cursor.fetchall()"
      ],
      "metadata": {
        "id": "LyeBk_jIf1OZ",
        "outputId": "98b2d2a6-3434-4038-96e6-e1dd5345f4a1",
        "colab": {
          "base_uri": "https://localhost:8080/"
        }
      },
      "execution_count": 19,
      "outputs": [
        {
          "output_type": "execute_result",
          "data": {
            "text/plain": [
              "[(0, 'id', 'INTEGER', 0, None, 0),\n",
              " (1, 'drink_id', 'INTEGER', 0, None, 0),\n",
              " (2, 'ingredient_id', 'INTEGER', 0, None, 0)]"
            ]
          },
          "metadata": {},
          "execution_count": 19
        }
      ]
    },
    {
      "cell_type": "markdown",
      "metadata": {
        "id": "PqsPuf1LfPKW"
      },
      "source": [
        "### Making our queries"
      ]
    },
    {
      "cell_type": "markdown",
      "metadata": {
        "id": "MjybXW-2fPKX"
      },
      "source": [
        "* Find the name of the youngest customer"
      ]
    },
    {
      "cell_type": "code",
      "execution_count": 22,
      "metadata": {
        "id": "7ztShFO4fPKX",
        "outputId": "fff66b2c-ea8d-46ba-866c-061b80c768ba",
        "colab": {
          "base_uri": "https://localhost:8080/"
        }
      },
      "outputs": [
        {
          "output_type": "execute_result",
          "data": {
            "text/plain": [
              "[('lisa simpson',)]"
            ]
          },
          "metadata": {},
          "execution_count": 22
        }
      ],
      "source": [
        "youngest_customer = \"\"\"SELECT name FROM CUSTOMERS\n",
        "ORDER BY birthyear ASC\n",
        "LIMIT 1\"\"\"\n",
        "\n",
        "cursor.execute(youngest_customer)\n",
        "cursor.fetchall()\n",
        "# # [('lisa simpson', 2006)]"
      ]
    },
    {
      "cell_type": "markdown",
      "metadata": {
        "id": "N7XM9hVifPKX"
      },
      "source": [
        "* Order the drinks from most to least expensive"
      ]
    },
    {
      "cell_type": "code",
      "execution_count": 25,
      "metadata": {
        "id": "s_nR6chofPKY",
        "outputId": "2cf2cb86-47f2-4f40-84be-a504c5ee3436",
        "colab": {
          "base_uri": "https://localhost:8080/"
        }
      },
      "outputs": [
        {
          "output_type": "execute_result",
          "data": {
            "text/plain": [
              "[('ice cream float', 8),\n",
              " ('duff beer', 7),\n",
              " ('gin and tonic', 7),\n",
              " ('rootbeer', 6),\n",
              " ('milkshake', 5),\n",
              " ('egg cream soda', 3)]"
            ]
          },
          "metadata": {},
          "execution_count": 25
        }
      ],
      "source": [
        "cheapest_drinks = \"\"\"SELECT name, price FROM drinks\n",
        "ORDER BY price DESC\"\"\"\n",
        "\n",
        "cursor.execute(cheapest_drinks)\n",
        "cursor.fetchall()\n",
        "# [('ice cream float', 8),\n",
        "#  ('duff beer', 7),\n",
        "#  ('gin and tonic', 7),\n",
        "#  ('rootbeer', 6),\n",
        "#  ('milkshake', 5),\n",
        "#  ('egg cream soda', 3)]"
      ]
    },
    {
      "cell_type": "markdown",
      "metadata": {
        "id": "5Ir7_-9RfPKZ"
      },
      "source": [
        "* Find the most expensive drink that bart simpson ordered"
      ]
    },
    {
      "cell_type": "code",
      "execution_count": 33,
      "metadata": {
        "id": "exVCitlufPK7",
        "outputId": "513deac8-a53f-410b-aece-d8ec5fa35281",
        "colab": {
          "base_uri": "https://localhost:8080/"
        }
      },
      "outputs": [
        {
          "output_type": "execute_result",
          "data": {
            "text/plain": [
              "[('milkshake', 5)]"
            ]
          },
          "metadata": {},
          "execution_count": 33
        }
      ],
      "source": [
        "barts_orders = \"\"\"SELECT d.name, d.price FROM customers AS c\n",
        "JOIN orders AS o ON c.id = o.customer_id\n",
        "JOIN drinks AS d ON d.id = o.drink_id\n",
        "WHERE c.name = 'bart simpson'\n",
        "ORDER BY d.price DESC\n",
        "LIMIT 1\"\"\"\n",
        "\n",
        "cursor.execute(barts_orders)\n",
        "cursor.fetchall()\n",
        "# [('milkshake', 5)]"
      ]
    },
    {
      "cell_type": "markdown",
      "metadata": {
        "id": "Qe_Rl1LWfPK-"
      },
      "source": [
        "* Find a list of all of the customers of moe"
      ]
    },
    {
      "cell_type": "code",
      "execution_count": 38,
      "metadata": {
        "id": "5BIfe6v4fPK-",
        "outputId": "ba3ceadf-55ef-4d12-daeb-fdb346365e44",
        "colab": {
          "base_uri": "https://localhost:8080/"
        }
      },
      "outputs": [
        {
          "output_type": "execute_result",
          "data": {
            "text/plain": [
              "[('bart simpson',), ('maggie simpson',)]"
            ]
          },
          "metadata": {},
          "execution_count": 38
        }
      ],
      "source": [
        "moes_customers = \"\"\"SELECT DISTINCT(c.name) FROM bartenders AS b\n",
        "JOIN orders AS o on b.id = o.bartender_id\n",
        "JOIN customers AS c on c.id = o.customer_id\n",
        "WHERE b.name = 'moe'\n",
        "\"\"\"\n",
        "\n",
        "cursor.execute(moes_customers)\n",
        "cursor.fetchall()\n",
        "# [('bart simpson',), ('maggie simpson',)]"
      ]
    }
  ],
  "metadata": {
    "kernelspec": {
      "display_name": "Python 3 (ipykernel)",
      "language": "python",
      "name": "python3"
    },
    "language_info": {
      "codemirror_mode": {
        "name": "ipython",
        "version": 3
      },
      "file_extension": ".py",
      "mimetype": "text/x-python",
      "name": "python",
      "nbconvert_exporter": "python",
      "pygments_lexer": "ipython3",
      "version": "3.10.6"
    },
    "colab": {
      "provenance": []
    }
  },
  "nbformat": 4,
  "nbformat_minor": 0
}