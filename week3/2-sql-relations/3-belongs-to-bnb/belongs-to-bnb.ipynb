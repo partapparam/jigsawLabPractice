{
  "cells": [
    {
      "cell_type": "markdown",
      "metadata": {
        "id": "hKPS9ofgNp8R"
      },
      "source": [
        "# Belongs to Airbnb Lab"
      ]
    },
    {
      "cell_type": "markdown",
      "metadata": {
        "jp-MarkdownHeadingCollapsed": true,
        "tags": [],
        "id": "zA4vutcoNp8h"
      },
      "source": [
        "### Introduction\n",
        "In this lab we will continue to explore the relationships between data in different tables of a database. The Airbnb database for this lab contains four tables, `hosts`, `listings`, `locations`, and `neighborhoods`. In order to understand and analyze the data, we need to first understand the relationships between the tables. Relationships include \"Has One\" and \"Has Many\". For example, the `listings` table has a column \"host_id\" which HAS ONE record in hosts table that it corresponds to (a listing will only have one host). The `locations` table has an id column which HAS MANY corresponding records in the `listings` table (a location will have more than one listing)."
      ]
    },
    {
      "cell_type": "markdown",
      "metadata": {
        "id": "2hEj5u3bNp8i"
      },
      "source": [
        "Let's begin by connecting to the database and reviewing the schema of the tables."
      ]
    },
    {
      "cell_type": "markdown",
      "metadata": {
        "id": "zqhAkCBRNp8k"
      },
      "source": [
        "### Loading Data"
      ]
    },
    {
      "cell_type": "code",
      "execution_count": 1,
      "metadata": {
        "id": "6Qc58G4hNp8l"
      },
      "outputs": [],
      "source": [
        "import pandas as pd\n",
        "neighborhoods_url = \"https://raw.githubusercontent.com/sql-fundamentals-jigsaw/mod-1-sql-curriculum/master/2-sql-relations/3-belongs-to-bnb/data/neighborhoods.csv\"\n",
        "hosts_url = \"https://raw.githubusercontent.com/sql-fundamentals-jigsaw/mod-1-sql-curriculum/master/2-sql-relations/3-belongs-to-bnb/data/hosts.csv\"\n",
        "locations_url = \"https://raw.githubusercontent.com/sql-fundamentals-jigsaw/mod-1-sql-curriculum/master/2-sql-relations/3-belongs-to-bnb/data/locations.csv\"\n",
        "listings_url = \"https://raw.githubusercontent.com/sql-fundamentals-jigsaw/mod-1-sql-curriculum/master/2-sql-relations/3-belongs-to-bnb/data/listings.csv\"\n",
        "\n",
        "\n",
        "hosts_df = pd.read_csv(hosts_url)\n",
        "neighborhoods_df = pd.read_csv(neighborhoods_url)\n",
        "\n",
        "locations_df = pd.read_csv(locations_url)\n",
        "listings_df = pd.read_csv(listings_url)"
      ]
    },
    {
      "cell_type": "code",
      "source": [],
      "metadata": {
        "id": "CsSbUyzIWSP8"
      },
      "execution_count": null,
      "outputs": []
    },
    {
      "cell_type": "code",
      "execution_count": 2,
      "metadata": {
        "id": "DS2tlQI0Np8q"
      },
      "outputs": [],
      "source": [
        "import sqlite3\n",
        "conn = sqlite3.connect('listings.db')\n",
        "cursor = conn.cursor()"
      ]
    },
    {
      "cell_type": "code",
      "execution_count": 3,
      "metadata": {
        "id": "jXMBTMETNp8q",
        "outputId": "92ed5544-cdd0-4561-b201-50d9c8aa1df5",
        "colab": {
          "base_uri": "https://localhost:8080/"
        }
      },
      "outputs": [
        {
          "output_type": "execute_result",
          "data": {
            "text/plain": [
              "48895"
            ]
          },
          "metadata": {},
          "execution_count": 3
        }
      ],
      "source": [
        "hosts_df.to_sql('hosts',conn, index = False, if_exists = 'replace')\n",
        "neighborhoods_df.to_sql('neighborhoods',conn, index = False, if_exists = 'replace')\n",
        "locations_df.to_sql('locations',conn, index = False, if_exists = 'replace')\n",
        "listings_df.to_sql('listings', conn, index = False, if_exists = 'replace')"
      ]
    },
    {
      "cell_type": "markdown",
      "metadata": {
        "id": "_IxRIFZgNp8t"
      },
      "source": [
        "### Exploring Data"
      ]
    },
    {
      "cell_type": "code",
      "execution_count": 25,
      "metadata": {
        "id": "vWH26soBNp8u",
        "outputId": "6d7418d0-fe49-4329-d26b-6cfc5d08f55a",
        "colab": {
          "base_uri": "https://localhost:8080/"
        }
      },
      "outputs": [
        {
          "output_type": "execute_result",
          "data": {
            "text/plain": [
              "[('hosts',), ('neighborhoods',), ('locations',), ('listings',)]"
            ]
          },
          "metadata": {},
          "execution_count": 25
        }
      ],
      "source": [
        "cursor.execute('SELECT name from sqlite_master where type= \"table\"')\n",
        "cursor.fetchall()"
      ]
    },
    {
      "cell_type": "code",
      "execution_count": 5,
      "metadata": {
        "id": "GaEWjd-JNp8v",
        "outputId": "ce7b1631-e2dc-45aa-e1e8-4371402d8fdc",
        "colab": {
          "base_uri": "https://localhost:8080/"
        }
      },
      "outputs": [
        {
          "output_type": "execute_result",
          "data": {
            "text/plain": [
              "[(0, 'id', 'INTEGER', 0, None, 0), (1, 'host_name', 'TEXT', 0, None, 0)]"
            ]
          },
          "metadata": {},
          "execution_count": 5
        }
      ],
      "source": [
        "cursor.execute('PRAGMA table_info(hosts)')\n",
        "cursor.fetchall()"
      ]
    },
    {
      "cell_type": "code",
      "execution_count": 6,
      "metadata": {
        "id": "Slcdmmb5Np8v",
        "outputId": "06a5cf79-5511-462a-c90a-ba97513d4a18",
        "colab": {
          "base_uri": "https://localhost:8080/"
        }
      },
      "outputs": [
        {
          "output_type": "execute_result",
          "data": {
            "text/plain": [
              "[(0, 'id', 'INTEGER', 0, None, 0),\n",
              " (1, 'name', 'TEXT', 0, None, 0),\n",
              " (2, 'neighbourhood_group', 'TEXT', 0, None, 0)]"
            ]
          },
          "metadata": {},
          "execution_count": 6
        }
      ],
      "source": [
        "cursor.execute('PRAGMA table_info(neighborhoods)')\n",
        "cursor.fetchall()"
      ]
    },
    {
      "cell_type": "code",
      "execution_count": 7,
      "metadata": {
        "id": "jASnidl7Np8w",
        "outputId": "3929f6fd-c58d-4e78-b65e-30e812726593",
        "colab": {
          "base_uri": "https://localhost:8080/"
        }
      },
      "outputs": [
        {
          "output_type": "execute_result",
          "data": {
            "text/plain": [
              "[(0, 'id', 'INTEGER', 0, None, 0),\n",
              " (1, 'longitude', 'REAL', 0, None, 0),\n",
              " (2, 'latitude', 'REAL', 0, None, 0),\n",
              " (3, 'neighborhood_id', 'INTEGER', 0, None, 0)]"
            ]
          },
          "metadata": {},
          "execution_count": 7
        }
      ],
      "source": [
        "cursor.execute('PRAGMA table_info(locations)')\n",
        "cursor.fetchall()"
      ]
    },
    {
      "cell_type": "code",
      "execution_count": 8,
      "metadata": {
        "id": "dGujKVYCNp8w",
        "outputId": "6dc8b73a-b493-4dea-a254-3f501b0a5fe2",
        "colab": {
          "base_uri": "https://localhost:8080/"
        }
      },
      "outputs": [
        {
          "output_type": "execute_result",
          "data": {
            "text/plain": [
              "[(0, 'id', 'INTEGER', 0, None, 0),\n",
              " (1, 'name', 'TEXT', 0, None, 0),\n",
              " (2, 'host_id', 'INTEGER', 0, None, 0),\n",
              " (3, 'location_id', 'INTEGER', 0, None, 0),\n",
              " (4, 'number_of_reviews', 'INTEGER', 0, None, 0),\n",
              " (5, 'occupancy', 'INTEGER', 0, None, 0),\n",
              " (6, 'price', 'INTEGER', 0, None, 0),\n",
              " (7, 'room_type', 'TEXT', 0, None, 0),\n",
              " (8, 'host_listings_count', 'INTEGER', 0, None, 0)]"
            ]
          },
          "metadata": {},
          "execution_count": 8
        }
      ],
      "source": [
        "cursor.execute('PRAGMA table_info(listings)')\n",
        "cursor.fetchall()"
      ]
    },
    {
      "cell_type": "markdown",
      "metadata": {
        "id": "f53rpwa9Np8x"
      },
      "source": [
        "We'll start off with some basic one table queries:"
      ]
    },
    {
      "cell_type": "markdown",
      "metadata": {
        "id": "a3k7KUcaNp8x"
      },
      "source": [
        "* Which listing name has the highest price?"
      ]
    },
    {
      "cell_type": "code",
      "execution_count": 28,
      "metadata": {
        "id": "n-K7f3ZJNp8x",
        "outputId": "9c635dc8-f109-4543-c3f8-73f5684c967f",
        "colab": {
          "base_uri": "https://localhost:8080/"
        }
      },
      "outputs": [
        {
          "output_type": "execute_result",
          "data": {
            "text/plain": [
              "[('Furnished room in Astoria apartment',)]"
            ]
          },
          "metadata": {},
          "execution_count": 28
        }
      ],
      "source": [
        "cursor.execute('select name from listings order by price desc limit 1')\n",
        "cursor.fetchall()\n",
        "\n",
        "# [('Furnished room in Astoria apartment',)]"
      ]
    },
    {
      "cell_type": "markdown",
      "metadata": {
        "id": "rODNrmy6Np8x"
      },
      "source": [
        "* What is the id of the location with the lowest longitude?"
      ]
    },
    {
      "cell_type": "code",
      "execution_count": 29,
      "metadata": {
        "id": "ajb_8S9JNp8y",
        "outputId": "4a69ec7b-43a8-4d4a-e7dd-d9c86cf2aaa2",
        "colab": {
          "base_uri": "https://localhost:8080/"
        }
      },
      "outputs": [
        {
          "output_type": "execute_result",
          "data": {
            "text/plain": [
              "[(45652,)]"
            ]
          },
          "metadata": {},
          "execution_count": 29
        }
      ],
      "source": [
        "cursor.execute('select id from locations order by longitude asc limit 1')\n",
        "cursor.fetchall()\n",
        "\n",
        "# [(45652,)]"
      ]
    },
    {
      "cell_type": "markdown",
      "metadata": {
        "id": "DjDBI4CUNp8y"
      },
      "source": [
        "* What is the greatest occupancy of a listing?"
      ]
    },
    {
      "cell_type": "code",
      "execution_count": 30,
      "metadata": {
        "id": "_5KYRYYoNp8y",
        "outputId": "74d2adc9-81a2-45ae-a748-2413930c7303",
        "colab": {
          "base_uri": "https://localhost:8080/"
        }
      },
      "outputs": [
        {
          "output_type": "execute_result",
          "data": {
            "text/plain": [
              "[(365,)]"
            ]
          },
          "metadata": {},
          "execution_count": 30
        }
      ],
      "source": [
        "\n",
        "cursor.execute('select max(occupancy) from listings')\n",
        "cursor.fetchall()\n",
        "# [(365,)]"
      ]
    },
    {
      "cell_type": "markdown",
      "metadata": {
        "id": "dNnx4hQ7Np8y"
      },
      "source": [
        "* What is the average price of a listing?"
      ]
    },
    {
      "cell_type": "code",
      "execution_count": 32,
      "metadata": {
        "id": "8OOKOWweNp8y",
        "outputId": "d849a14e-b327-4e5f-eb6e-66ec03f6e80e",
        "colab": {
          "base_uri": "https://localhost:8080/"
        }
      },
      "outputs": [
        {
          "output_type": "execute_result",
          "data": {
            "text/plain": [
              "[(152.7206871868289,)]"
            ]
          },
          "metadata": {},
          "execution_count": 32
        }
      ],
      "source": [
        "cursor.execute('select avg(price) from listings')\n",
        "cursor.fetchall()\n",
        "\n",
        "# [(152.7206871868289,)]"
      ]
    },
    {
      "cell_type": "markdown",
      "metadata": {
        "id": "AIE_Lg7pNp8y"
      },
      "source": [
        "* What is the count of number of hosts?"
      ]
    },
    {
      "cell_type": "code",
      "execution_count": 33,
      "metadata": {
        "id": "I_BX0j-vNp8z",
        "outputId": "72ad644a-e35d-4ea3-c06f-f1462464a8e8",
        "colab": {
          "base_uri": "https://localhost:8080/"
        }
      },
      "outputs": [
        {
          "output_type": "execute_result",
          "data": {
            "text/plain": [
              "[(37457,)]"
            ]
          },
          "metadata": {},
          "execution_count": 33
        }
      ],
      "source": [
        "cursor.execute('select count(*) from hosts')\n",
        "cursor.fetchall()\n",
        "# [(37457,)]"
      ]
    },
    {
      "cell_type": "markdown",
      "metadata": {
        "id": "4PpK3pu_Np8z"
      },
      "source": [
        "### Relationships\n",
        "To help us better understand the relationships, create queries below that JOIN the tables."
      ]
    },
    {
      "cell_type": "markdown",
      "metadata": {
        "id": "Xll7R9gkNp80"
      },
      "source": [
        "### JOINs"
      ]
    },
    {
      "cell_type": "markdown",
      "metadata": {
        "id": "xyq3JJeUNp80"
      },
      "source": [
        "For the following queries, use the relationships between the tables to find the solutions"
      ]
    },
    {
      "cell_type": "markdown",
      "metadata": {
        "id": "bkZAgf-XNp80"
      },
      "source": [
        "* What is the longitude and latitude of the listing of the highest price?"
      ]
    },
    {
      "cell_type": "code",
      "execution_count": 34,
      "metadata": {
        "id": "kBTLYbMWNp9H",
        "outputId": "c86366ec-a979-4858-f439-95c4cdfe51b4",
        "colab": {
          "base_uri": "https://localhost:8080/"
        }
      },
      "outputs": [
        {
          "output_type": "execute_result",
          "data": {
            "text/plain": [
              "[(-73.91651, 40.7681)]"
            ]
          },
          "metadata": {},
          "execution_count": 34
        }
      ],
      "source": [
        "cursor.execute('select longitude, latitude from locations lo JOIN listings li ON li.location_id = lo.id order by li.price desc limit 1')\n",
        "cursor.fetchall()\n",
        "\n",
        "# [(-73.91651, 40.7681)]"
      ]
    },
    {
      "cell_type": "markdown",
      "metadata": {
        "id": "wsPorRJyNp9I"
      },
      "source": [
        "* What is the neighborhood id of the listing with the lowest price?"
      ]
    },
    {
      "cell_type": "code",
      "execution_count": 39,
      "metadata": {
        "id": "1NsCa5MgNp9I",
        "outputId": "7204e4ad-026b-4dfa-8bea-e991fe5ff529",
        "colab": {
          "base_uri": "https://localhost:8080/"
        }
      },
      "outputs": [
        {
          "output_type": "execute_result",
          "data": {
            "text/plain": [
              "[(6,)]"
            ]
          },
          "metadata": {},
          "execution_count": 39
        }
      ],
      "source": [
        "cursor.execute('select lo.neighborhood_id from locations lo JOIN listings li ON li.location_id = lo.id order by li.price asc limit 1')\n",
        "cursor.fetchall()\n",
        "# [(6,)]"
      ]
    },
    {
      "cell_type": "markdown",
      "metadata": {
        "id": "8NhezpyvNp9J"
      },
      "source": [
        "* What is the longitude and latitude of the listing of the lowest price?"
      ]
    },
    {
      "cell_type": "code",
      "execution_count": 37,
      "metadata": {
        "id": "AOL20Cy0Np9J",
        "outputId": "a2c48ae0-41d1-4802-cd0b-a02aa2ecbf56",
        "colab": {
          "base_uri": "https://localhost:8080/"
        }
      },
      "outputs": [
        {
          "output_type": "execute_result",
          "data": {
            "text/plain": [
              "[(-73.95428000000001, 40.69023)]"
            ]
          },
          "metadata": {},
          "execution_count": 37
        }
      ],
      "source": [
        "cursor.execute('select longitude, latitude from locations lo JOIN listings li ON li.location_id = lo.id order by li.price asc limit 1')\n",
        "cursor.fetchall()\n",
        "\n",
        "# [(-73.95428000000001, 40.69023)]"
      ]
    },
    {
      "cell_type": "markdown",
      "metadata": {
        "id": "fpDl9gpLNp9N"
      },
      "source": [
        "### Relations and GROUP BY"
      ]
    },
    {
      "cell_type": "markdown",
      "metadata": {
        "id": "ttUHYzDsNp9N"
      },
      "source": [
        "* What is the name of the host has the most number of reviews?"
      ]
    },
    {
      "cell_type": "code",
      "execution_count": 53,
      "metadata": {
        "id": "9NVL7HtKNp9O",
        "outputId": "08356175-2af3-463a-dddb-29ce127c1766",
        "colab": {
          "base_uri": "https://localhost:8080/"
        }
      },
      "outputs": [
        {
          "output_type": "execute_result",
          "data": {
            "text/plain": [
              "[('Maya', 2273)]"
            ]
          },
          "metadata": {},
          "execution_count": 53
        }
      ],
      "source": [
        "cursor.execute('''SELECT h.host_name, sum(l.number_of_reviews)\n",
        "FROM listings l\n",
        "JOIN hosts h ON h.id = l.host_id\n",
        "GROUP By l.host_id\n",
        "ORDER BY 2 desc\n",
        "LIMIT 1''')\n",
        "cursor.fetchall()\n",
        "\n",
        "# [('Maya', 2273)]"
      ]
    },
    {
      "cell_type": "markdown",
      "metadata": {
        "id": "MNPSemfsNp9O"
      },
      "source": [
        "* What is the name of the host with the highest average listing price?"
      ]
    },
    {
      "cell_type": "code",
      "execution_count": 54,
      "metadata": {
        "id": "hH5kKl9aNp9P",
        "outputId": "bd2a9133-3976-472a-85f7-4fb40a24e240",
        "colab": {
          "base_uri": "https://localhost:8080/"
        }
      },
      "outputs": [
        {
          "output_type": "execute_result",
          "data": {
            "text/plain": [
              "[('Jelena',)]"
            ]
          },
          "metadata": {},
          "execution_count": 54
        }
      ],
      "source": [
        "cursor.execute('''SELECT h.host_name\n",
        "FROM listings l\n",
        "JOIN hosts h ON h.id = l.host_id\n",
        "GROUP By l.host_id\n",
        "ORDER BY avg(l.price) desc\n",
        "LIMIT 1''')\n",
        "cursor.fetchall()\n",
        "\n",
        "# [('Jelena',)]"
      ]
    },
    {
      "cell_type": "markdown",
      "metadata": {
        "id": "uM3zaop4Np9c"
      },
      "source": [
        "* What is the name of the host with the lowest average listing price?"
      ]
    },
    {
      "cell_type": "code",
      "execution_count": 56,
      "metadata": {
        "id": "UaNEPDHDNp-U",
        "outputId": "faef684b-db4c-4ef1-8312-b3faeef12e8e",
        "colab": {
          "base_uri": "https://localhost:8080/"
        }
      },
      "outputs": [
        {
          "output_type": "execute_result",
          "data": {
            "text/plain": [
              "[('Aymeric',)]"
            ]
          },
          "metadata": {},
          "execution_count": 56
        }
      ],
      "source": [
        "cursor.execute('''SELECT h.host_name\n",
        "FROM listings l\n",
        "JOIN hosts h ON h.id = l.host_id\n",
        "GROUP By l.host_id\n",
        "ORDER BY avg(l.price) asc\n",
        "LIMIT 1''')\n",
        "cursor.fetchall()\n",
        "\n",
        "# [('Aymeric',)]"
      ]
    },
    {
      "cell_type": "markdown",
      "metadata": {
        "id": "YVM1koK4Np-U"
      },
      "source": [
        "* What is the name of the neighborhood with the most number of locations"
      ]
    },
    {
      "cell_type": "code",
      "execution_count": 65,
      "metadata": {
        "id": "gauCQRrCNp-U",
        "outputId": "24a646bb-b5e2-496d-cea2-09d5ea464afc",
        "colab": {
          "base_uri": "https://localhost:8080/"
        }
      },
      "outputs": [
        {
          "output_type": "execute_result",
          "data": {
            "text/plain": [
              "[('Williamsburg',)]"
            ]
          },
          "metadata": {},
          "execution_count": 65
        }
      ],
      "source": [
        "cursor.execute('''SELECT n.name\n",
        "FROM neighborhoods n\n",
        "JOIN locations l ON n.id = l.neighborhood_id\n",
        "GROUP By n.name\n",
        "ORDER BY count(l.id) desc\n",
        "LIMIT 1''')\n",
        "cursor.fetchall()\n",
        "\n",
        "\n",
        "# [('Williamsburg',)]"
      ]
    },
    {
      "cell_type": "markdown",
      "metadata": {
        "id": "7ENQfP3cNp-V"
      },
      "source": [
        "* What are the names of the neighborhoods with 10 locations?"
      ]
    },
    {
      "cell_type": "code",
      "execution_count": 67,
      "metadata": {
        "id": "psVwfMyCNp-V",
        "outputId": "296d2b35-fd19-4c72-c3e7-6d6bc7ebe292",
        "colab": {
          "base_uri": "https://localhost:8080/"
        }
      },
      "outputs": [
        {
          "output_type": "execute_result",
          "data": {
            "text/plain": [
              "[('Bergen Beach',),\n",
              " ('East Morrisania',),\n",
              " ('Great Kills',),\n",
              " ('Melrose',),\n",
              " ('North Riverdale',),\n",
              " ('Westchester Square',)]"
            ]
          },
          "metadata": {},
          "execution_count": 67
        }
      ],
      "source": [
        "cursor.execute('''SELECT n.name\n",
        "FROM neighborhoods n\n",
        "JOIN locations l ON n.id = l.neighborhood_id\n",
        "GROUP by n.name\n",
        "HAVING count(l.id) = 10\n",
        "''')\n",
        "cursor.fetchall()\n",
        "\n",
        "# [('North Riverdale',),\n",
        "#  ('Great Kills',),\n",
        "#  ('East Morrisania',),\n",
        "#  ('Melrose',),\n",
        "#  ('Bergen Beach',),\n",
        "#  ('Westchester Square',)]"
      ]
    },
    {
      "cell_type": "markdown",
      "metadata": {
        "id": "IdzHvVUTNp-V"
      },
      "source": [
        "The following questions will require joins of three tables"
      ]
    },
    {
      "cell_type": "markdown",
      "metadata": {
        "id": "t_SkVapeNp-V"
      },
      "source": [
        "* What is the average occupancy of each neighborhood (limit to the first five results)?"
      ]
    },
    {
      "cell_type": "code",
      "execution_count": 73,
      "metadata": {
        "id": "ZGL_8sOjNp-W",
        "outputId": "b8e679ee-37e1-4598-a514-184585478727",
        "colab": {
          "base_uri": "https://localhost:8080/"
        }
      },
      "outputs": [
        {
          "output_type": "execute_result",
          "data": {
            "text/plain": [
              "[('Allerton', 201.33333333333334),\n",
              " ('Arden Heights', 270.75),\n",
              " ('Arrochar', 109.19047619047619),\n",
              " ('Arverne', 176.57142857142858),\n",
              " ('Astoria', 255.8088888888889)]"
            ]
          },
          "metadata": {},
          "execution_count": 73
        }
      ],
      "source": [
        "cursor.execute('''SELECT n.name, avg(li.occupancy)\n",
        "FROM neighborhoods n\n",
        "JOIN locations l ON n.id = l.neighborhood_id\n",
        "JOIN listings li on l.id = li.location_id\n",
        "GROUP By n.name\n",
        "LIMIT 5''')\n",
        "cursor.fetchall()\n",
        "\n",
        "# [('Kensington', 281.0514285714286),\n",
        "#  ('Midtown', 207.29644012944985),\n",
        "#  ('Harlem', 258.4224981188864),\n",
        "#  ('Clinton Hill', 269.986013986014),\n",
        "#  ('East Harlem', 266.0268576544315)]"
      ]
    },
    {
      "cell_type": "markdown",
      "metadata": {
        "id": "aDMbUTOkNp-W"
      },
      "source": [
        "* What is the total number of reviews for each neighborhood (limit to the first five results)?"
      ]
    },
    {
      "cell_type": "code",
      "execution_count": 78,
      "metadata": {
        "id": "7OZpN-doNp-W",
        "outputId": "5f8b0318-ae1c-4f45-b9ca-85ffdef6b2c7",
        "colab": {
          "base_uri": "https://localhost:8080/"
        }
      },
      "outputs": [
        {
          "output_type": "execute_result",
          "data": {
            "text/plain": [
              "[('Allerton', 1803),\n",
              " ('Arden Heights', 31),\n",
              " ('Arrochar', 307),\n",
              " ('Arverne', 2253),\n",
              " ('Astoria', 19310)]"
            ]
          },
          "metadata": {},
          "execution_count": 78
        }
      ],
      "source": [
        "cursor.execute('''SELECT n.name, sum(li.number_of_reviews)\n",
        "FROM neighborhoods n\n",
        "JOIN locations l ON n.id = l.neighborhood_id\n",
        "JOIN listings li on l.id = li.location_id\n",
        "GROUP By n.name\n",
        "LIMIT 5''')\n",
        "cursor.fetchall()\n",
        "\n",
        "# [('Kensington', 2972),\n",
        "#  ('Midtown', 19444),\n",
        "#  ('Harlem', 75962),\n",
        "#  ('Clinton Hill', 14586),\n",
        "#  ('East Harlem', 36446)]"
      ]
    },
    {
      "cell_type": "markdown",
      "metadata": {
        "id": "DywGSD_eNp-W"
      },
      "source": [
        "* Write a query that returns the name and average listing price of each neighborhood (limit to the first five results)"
      ]
    },
    {
      "cell_type": "code",
      "execution_count": 81,
      "metadata": {
        "id": "TYMaY5yoNp-W",
        "outputId": "af31d67d-8052-4721-c04f-36e27469f1ba",
        "colab": {
          "base_uri": "https://localhost:8080/"
        }
      },
      "outputs": [
        {
          "output_type": "execute_result",
          "data": {
            "text/plain": [
              "[('Allerton', 87.5952380952381),\n",
              " ('Arden Heights', 67.25),\n",
              " ('Arrochar', 115.0),\n",
              " ('Arverne', 171.7792207792208),\n",
              " ('Astoria', 117.18777777777778)]"
            ]
          },
          "metadata": {},
          "execution_count": 81
        }
      ],
      "source": [
        "cursor.execute('''SELECT n.name, avg(li.price)\n",
        "FROM neighborhoods n\n",
        "JOIN locations l ON n.id = l.neighborhood_id\n",
        "JOIN listings li on l.id = li.location_id\n",
        "GROUP By n.name\n",
        "LIMIT 5''')\n",
        "cursor.fetchall()\n",
        "\n",
        "# [('Kensington', 92.88571428571429),\n",
        "#  ('Midtown', 282.7190938511327),\n",
        "#  ('Harlem', 118.97404063205417),\n",
        "#  ('Clinton Hill', 181.89335664335664),\n",
        "#  ('East Harlem', 133.1987466427932)]"
      ]
    },
    {
      "cell_type": "markdown",
      "metadata": {
        "id": "pw6DMlccNp-W"
      },
      "source": [
        "### Conclusion\n",
        "In this lab we worked on the \"Has One\" and \"Has Many\" relations in SQL. We began by mapping out the relations between the tables, which gave us a better idea of how we could then join them in our queries. We finished the lab by creating queries using JOIN clauses that connect the tables using these relationships."
      ]
    }
  ],
  "metadata": {
    "kernelspec": {
      "display_name": "Python 3 (ipykernel)",
      "language": "python",
      "name": "python3"
    },
    "language_info": {
      "codemirror_mode": {
        "name": "ipython",
        "version": 3
      },
      "file_extension": ".py",
      "mimetype": "text/x-python",
      "name": "python",
      "nbconvert_exporter": "python",
      "pygments_lexer": "ipython3",
      "version": "3.9.12"
    },
    "colab": {
      "provenance": []
    }
  },
  "nbformat": 4,
  "nbformat_minor": 0
}