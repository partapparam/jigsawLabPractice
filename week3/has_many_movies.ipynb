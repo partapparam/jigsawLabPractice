{
  "cells": [
    {
      "cell_type": "markdown",
      "metadata": {
        "id": "view-in-github",
        "colab_type": "text"
      },
      "source": [
        "<a href=\"https://colab.research.google.com/github/partapparam/jigsawLabPractice/blob/main/week3/has_many_movies.ipynb\" target=\"_parent\"><img src=\"https://colab.research.google.com/assets/colab-badge.svg\" alt=\"Open In Colab\"/></a>"
      ]
    },
    {
      "cell_type": "markdown",
      "metadata": {
        "id": "99iE0K-Tz1xl"
      },
      "source": [
        "# Has Many Movie Lab"
      ]
    },
    {
      "cell_type": "markdown",
      "metadata": {
        "id": "FTCmlG-Wz1xv"
      },
      "source": [
        "### Introduction\n",
        "In this lab we will continue to look at the \"Has-Many\" relationships in our data. The database we will be using during this lab contains information about a selection of movies and related entities such as actors, directors and writers. A movie entity will have relationships with actor, director, and writer entities. The actors, directors and writers will also have relationships with themselves (i.e. a director will have worked with many actors). In problems below, we will use our knowledge of these relationships to build SQL queries."
      ]
    },
    {
      "cell_type": "markdown",
      "metadata": {
        "id": "z4e4zfwbz1xw"
      },
      "source": [
        "Let's begin by connecting to the database and reviewing the schema of the tables."
      ]
    },
    {
      "cell_type": "code",
      "execution_count": 1,
      "metadata": {
        "id": "aR8bsQhBz1xw"
      },
      "outputs": [],
      "source": [
        "import sqlite3\n",
        "conn = sqlite3.connect('movie_films_actors.db')\n",
        "cursor = conn.cursor()"
      ]
    },
    {
      "cell_type": "code",
      "execution_count": 2,
      "metadata": {
        "id": "XwebUejgz1xy"
      },
      "outputs": [],
      "source": [
        "import pandas as pd\n",
        "root_url = \"https://raw.githubusercontent.com/jigsawlabs-student/curriculum-images/main/has-many-movies-lab/\"\n",
        "names = ['actors', 'directors', 'movies', 'writers', 'movie_actors', 'movie_directors', 'movie_writers']\n",
        "loaded_dfs = [pd.read_csv(f'{root_url}{name}.csv') for name in names]"
      ]
    },
    {
      "cell_type": "code",
      "execution_count": 3,
      "metadata": {
        "id": "P_xOY3Gmz1xy"
      },
      "outputs": [],
      "source": [
        "for index, name in enumerate(names):\n",
        "    loaded_dfs[index].to_sql(f'{name}', conn, index = False)"
      ]
    },
    {
      "cell_type": "code",
      "execution_count": 4,
      "metadata": {
        "colab": {
          "base_uri": "https://localhost:8080/"
        },
        "id": "9Ibhkd4Iz1x2",
        "outputId": "8cbf5a9e-5379-4f1f-d2c1-fb85bfef1466"
      },
      "outputs": [
        {
          "output_type": "execute_result",
          "data": {
            "text/plain": [
              "[('actors',),\n",
              " ('directors',),\n",
              " ('movies',),\n",
              " ('writers',),\n",
              " ('movie_actors',),\n",
              " ('movie_directors',),\n",
              " ('movie_writers',)]"
            ]
          },
          "metadata": {},
          "execution_count": 4
        }
      ],
      "source": [
        "cursor.execute('SELECT name from sqlite_master where type= \"table\"')\n",
        "cursor.fetchall()"
      ]
    },
    {
      "cell_type": "code",
      "execution_count": 5,
      "metadata": {
        "colab": {
          "base_uri": "https://localhost:8080/"
        },
        "id": "gqMtzafrz1x3",
        "outputId": "d41d0959-32fc-47b9-f420-57d90eab6e84"
      },
      "outputs": [
        {
          "output_type": "execute_result",
          "data": {
            "text/plain": [
              "[(0, 'id', 'INTEGER', 0, None, 0),\n",
              " (1, 'title', 'TEXT', 0, None, 0),\n",
              " (2, 'studio', 'TEXT', 0, None, 0),\n",
              " (3, 'runtime', 'REAL', 0, None, 0),\n",
              " (4, 'description', 'TEXT', 0, None, 0),\n",
              " (5, 'release_date', 'TEXT', 0, None, 0),\n",
              " (6, 'year', 'INTEGER', 0, None, 0)]"
            ]
          },
          "metadata": {},
          "execution_count": 5
        }
      ],
      "source": [
        "cursor.execute('PRAGMA table_info(movies)')\n",
        "cursor.fetchall()"
      ]
    },
    {
      "cell_type": "code",
      "execution_count": 6,
      "metadata": {
        "colab": {
          "base_uri": "https://localhost:8080/"
        },
        "id": "AI2KiZD6z1x4",
        "outputId": "7dc0aae0-308f-4a8e-9d57-0d3d68e5df19"
      },
      "outputs": [
        {
          "output_type": "execute_result",
          "data": {
            "text/plain": [
              "[(0, 'id', 'INTEGER', 0, None, 0), (1, 'name', 'TEXT', 0, None, 0)]"
            ]
          },
          "metadata": {},
          "execution_count": 6
        }
      ],
      "source": [
        "cursor.execute('PRAGMA table_info(actors)')\n",
        "cursor.fetchall()"
      ]
    },
    {
      "cell_type": "code",
      "execution_count": 7,
      "metadata": {
        "colab": {
          "base_uri": "https://localhost:8080/"
        },
        "id": "0kCjXPfUz1x4",
        "outputId": "5833d994-2364-4967-bee9-15364f5b1a85"
      },
      "outputs": [
        {
          "output_type": "execute_result",
          "data": {
            "text/plain": [
              "[(0, 'id', 'INTEGER', 0, None, 0), (1, 'name', 'TEXT', 0, None, 0)]"
            ]
          },
          "metadata": {},
          "execution_count": 7
        }
      ],
      "source": [
        "cursor.execute('PRAGMA table_info(directors)')\n",
        "cursor.fetchall()"
      ]
    },
    {
      "cell_type": "code",
      "execution_count": 8,
      "metadata": {
        "colab": {
          "base_uri": "https://localhost:8080/"
        },
        "id": "aSooG8jpz1x4",
        "outputId": "fe5d246e-33a4-4522-9c94-fddeffbcdacf"
      },
      "outputs": [
        {
          "output_type": "execute_result",
          "data": {
            "text/plain": [
              "[(0, 'id', 'INTEGER', 0, None, 0), (1, 'name', 'TEXT', 0, None, 0)]"
            ]
          },
          "metadata": {},
          "execution_count": 8
        }
      ],
      "source": [
        "cursor.execute('PRAGMA table_info(writers)')\n",
        "cursor.fetchall()"
      ]
    },
    {
      "cell_type": "code",
      "execution_count": 9,
      "metadata": {
        "colab": {
          "base_uri": "https://localhost:8080/"
        },
        "id": "AkPZ8-1gz1x5",
        "outputId": "4a622b6d-29a1-43f7-f6cf-1222f0abb838"
      },
      "outputs": [
        {
          "output_type": "execute_result",
          "data": {
            "text/plain": [
              "[(0, 'id', 'INTEGER', 0, None, 0),\n",
              " (1, 'movie_id', 'INTEGER', 0, None, 0),\n",
              " (2, 'actor_id', 'INTEGER', 0, None, 0)]"
            ]
          },
          "metadata": {},
          "execution_count": 9
        }
      ],
      "source": [
        "cursor.execute('PRAGMA table_info(movie_actors)')\n",
        "cursor.fetchall()"
      ]
    },
    {
      "cell_type": "code",
      "execution_count": 10,
      "metadata": {
        "colab": {
          "base_uri": "https://localhost:8080/"
        },
        "id": "AsZe98nRz1x5",
        "outputId": "02b1a54a-ddf5-46fd-cecd-2276d79624e3"
      },
      "outputs": [
        {
          "output_type": "execute_result",
          "data": {
            "text/plain": [
              "[(0, 'id', 'INTEGER', 0, None, 0),\n",
              " (1, 'movie_id', 'INTEGER', 0, None, 0),\n",
              " (2, 'director_id', 'INTEGER', 0, None, 0)]"
            ]
          },
          "metadata": {},
          "execution_count": 10
        }
      ],
      "source": [
        "cursor.execute('PRAGMA table_info(movie_directors)')\n",
        "cursor.fetchall()"
      ]
    },
    {
      "cell_type": "code",
      "execution_count": 11,
      "metadata": {
        "colab": {
          "base_uri": "https://localhost:8080/"
        },
        "id": "q0bqTb7jz1x6",
        "outputId": "df6a232b-742a-45dd-f1bd-5be5d86358f4"
      },
      "outputs": [
        {
          "output_type": "execute_result",
          "data": {
            "text/plain": [
              "[(0, 'id', 'INTEGER', 0, None, 0),\n",
              " (1, 'movie_id', 'INTEGER', 0, None, 0),\n",
              " (2, 'writer_id', 'INTEGER', 0, None, 0)]"
            ]
          },
          "metadata": {},
          "execution_count": 11
        }
      ],
      "source": [
        "cursor.execute('PRAGMA table_info(movie_writers)')\n",
        "cursor.fetchall()"
      ]
    },
    {
      "cell_type": "markdown",
      "metadata": {
        "id": "ulXuzvDfz1x6"
      },
      "source": [
        "Let's start off with some basic one table queries:"
      ]
    },
    {
      "cell_type": "markdown",
      "metadata": {
        "id": "EuGiyThdz1x6"
      },
      "source": [
        "* What is the title, length, and id of the movie with the longest runtime?"
      ]
    },
    {
      "cell_type": "code",
      "execution_count": 12,
      "metadata": {
        "colab": {
          "base_uri": "https://localhost:8080/"
        },
        "id": "B43Rwu9Jz1x6",
        "outputId": "8ebee292-0351-4866-b99b-b4cd9c56bb63"
      },
      "outputs": [
        {
          "output_type": "execute_result",
          "data": {
            "text/plain": [
              "[('Never Sleep Again: The Elm Street Legacy', 480.0, 11415)]"
            ]
          },
          "metadata": {},
          "execution_count": 12
        }
      ],
      "source": [
        "cursor.execute('''SELECT title, runtime, id FROM movies\n",
        "ORDER BY runtime DESC\n",
        "LIMIT 1''')\n",
        "cursor.fetchall()\n",
        "\n",
        "# [('Never Sleep Again: The Elm Street Legacy', 480.0, 11415)]"
      ]
    },
    {
      "cell_type": "markdown",
      "metadata": {
        "id": "XZwQAR3Pz1x7"
      },
      "source": [
        "* Using your answer from the previous question, how many actors were credited for the movie with the longest runtime? Hint: Use the COUNT function with the movie ID"
      ]
    },
    {
      "cell_type": "code",
      "execution_count": 13,
      "metadata": {
        "colab": {
          "base_uri": "https://localhost:8080/"
        },
        "id": "2MV18gTUz1x7",
        "outputId": "c4bba744-c9ed-4a43-8bcc-bed56b6d243d"
      },
      "outputs": [
        {
          "output_type": "execute_result",
          "data": {
            "text/plain": [
              "[(6,)]"
            ]
          },
          "metadata": {},
          "execution_count": 13
        }
      ],
      "source": [
        "cursor.execute('''SELECT count(a.movie_id) FROM movies\n",
        "JOIN movie_actors as a ON movies.id = a.movie_id\n",
        "WHERE a.movie_id = 11415''')\n",
        "cursor.fetchall()\n",
        "\n",
        "# [(6,)]"
      ]
    },
    {
      "cell_type": "markdown",
      "metadata": {
        "id": "fjiY-gvsz1x7"
      },
      "source": [
        "* What was the shortest movie released in 2006?"
      ]
    },
    {
      "cell_type": "code",
      "execution_count": 14,
      "metadata": {
        "colab": {
          "base_uri": "https://localhost:8080/"
        },
        "id": "AK8dVeBGz1x7",
        "outputId": "986e6a32-63a1-4a52-d751-65e4cf3d051c"
      },
      "outputs": [
        {
          "output_type": "execute_result",
          "data": {
            "text/plain": [
              "[('The Guardian',)]"
            ]
          },
          "metadata": {},
          "execution_count": 14
        }
      ],
      "source": [
        "cursor.execute('''SELECT title FROM movies\n",
        "WHERE year = 2006\n",
        "ORDER BY runtime ASC\n",
        "LIMIT 1 ''')\n",
        "cursor.fetchall()\n",
        "\n",
        "# [('The Guardian',)]"
      ]
    },
    {
      "cell_type": "markdown",
      "metadata": {
        "id": "uP_Gnnu0z1x7"
      },
      "source": [
        "### Has Many"
      ]
    },
    {
      "cell_type": "markdown",
      "metadata": {
        "id": "Gpi4456qz1x7"
      },
      "source": [
        "* What are the names of the actors in Toy Story?"
      ]
    },
    {
      "cell_type": "code",
      "execution_count": 32,
      "metadata": {
        "id": "nT5Kmpz6z1x8",
        "outputId": "ab82bf92-1841-4374-daad-f26cc0ca7573",
        "colab": {
          "base_uri": "https://localhost:8080/"
        }
      },
      "outputs": [
        {
          "output_type": "execute_result",
          "data": {
            "text/plain": [
              "[('Tom Hanks',),\n",
              " ('Tim Allen',),\n",
              " ('Jim Varney',),\n",
              " ('Wallace Shawn',),\n",
              " ('Don Rickles',),\n",
              " ('John Ratzenberger',)]"
            ]
          },
          "metadata": {},
          "execution_count": 32
        }
      ],
      "source": [
        "cursor.execute('''SELECT ac.name FROM movies AS m\n",
        "JOIN movie_actors AS ma ON ma.movie_id = m.id\n",
        "JOIN actors AS ac on ma.actor_id = ac.id\n",
        "WHERE m.title = \"Toy Story\"''')\n",
        "cursor.fetchall()\n",
        "\n",
        "# [('Tom Hanks',),\n",
        "#  ('Jim Varney',),\n",
        "#  ('Wallace Shawn',),\n",
        "#  ('Don Rickles',),\n",
        "#  ('John Ratzenberger',),\n",
        "#  ('Tim Allen',)]"
      ]
    },
    {
      "cell_type": "markdown",
      "metadata": {
        "id": "Fi83oA-Oz1x8"
      },
      "source": [
        "* What is the name of the director of Toy Story?"
      ]
    },
    {
      "cell_type": "code",
      "execution_count": 33,
      "metadata": {
        "id": "DUUiY9CBz1x8",
        "outputId": "d5beedee-e43b-48c3-bf09-ab3c2934f0e9",
        "colab": {
          "base_uri": "https://localhost:8080/"
        }
      },
      "outputs": [
        {
          "output_type": "execute_result",
          "data": {
            "text/plain": [
              "[('John Lasseter',)]"
            ]
          },
          "metadata": {},
          "execution_count": 33
        }
      ],
      "source": [
        "cursor.execute('''SELECT d.name FROM movies AS m\n",
        "JOIN movie_directors AS md ON md.movie_id = m.id\n",
        "JOIN directors AS d ON md.director_id = d.id\n",
        "WHERE m.title = \"Toy Story\"''')\n",
        "cursor.fetchall()\n",
        "\n",
        "# [('John Lasseter',)]"
      ]
    },
    {
      "cell_type": "markdown",
      "metadata": {
        "id": "V5aNg8Sqz1x8"
      },
      "source": [
        "* What are the names of the writers of Toy Story?"
      ]
    },
    {
      "cell_type": "code",
      "execution_count": 35,
      "metadata": {
        "id": "sC1umjlmz1x8",
        "outputId": "4e841022-19ff-458b-95bc-2de3b1d32dfe",
        "colab": {
          "base_uri": "https://localhost:8080/"
        }
      },
      "outputs": [
        {
          "output_type": "execute_result",
          "data": {
            "text/plain": [
              "[('Joss Whedon',), ('Joel Cohen',), ('Andrew Stanton',), ('Alec Sokolow',)]"
            ]
          },
          "metadata": {},
          "execution_count": 35
        }
      ],
      "source": [
        "cursor.execute('''select w.name from movies as m\n",
        "join movie_writers as mw on mw.movie_id = m.id\n",
        "join writers as w on mw.writer_id = w.id\n",
        "where m.title = \"Toy Story\"''')\n",
        "cursor.fetchall()\n",
        "\n",
        "\n",
        "# [('Joss Whedon',), ('Joel Cohen',), ('Andrew Stanton',), ('Alec Sokolow',)]"
      ]
    },
    {
      "cell_type": "markdown",
      "metadata": {
        "id": "CGNLpJuqz1x8"
      },
      "source": [
        "* What is the name and actor id of the actor with the most credits in the database?"
      ]
    },
    {
      "cell_type": "code",
      "execution_count": 40,
      "metadata": {
        "id": "gZLI2RZTz1x9",
        "outputId": "c00e2151-c48f-40d3-fbd4-203deb0fa408",
        "colab": {
          "base_uri": "https://localhost:8080/"
        }
      },
      "outputs": [
        {
          "output_type": "execute_result",
          "data": {
            "text/plain": [
              "[('Robert De Niro', 429, 78)]"
            ]
          },
          "metadata": {},
          "execution_count": 40
        }
      ],
      "source": [
        "cursor.execute('''select a.name, a.id, count(ma.id) from movie_actors as ma\n",
        "join actors as a on ma.actor_id = a.id\n",
        "group by 1\n",
        "order by 3 desc\n",
        "limit 1\n",
        "''')\n",
        "cursor.fetchall()\n",
        "\n",
        "# [('Robert De Niro', 429, 78)]"
      ]
    },
    {
      "cell_type": "markdown",
      "metadata": {
        "id": "E6-7uLT4z1x9"
      },
      "source": [
        "* What are the titles of the movies the actor from the previous question has been in, after the year 2005?"
      ]
    },
    {
      "cell_type": "code",
      "execution_count": 42,
      "metadata": {
        "id": "qPLhtwIsz1x9",
        "outputId": "36afe9ef-4cf4-4972-ae7a-2928932d3d06",
        "colab": {
          "base_uri": "https://localhost:8080/"
        }
      },
      "outputs": [
        {
          "output_type": "execute_result",
          "data": {
            "text/plain": [
              "[('Stardust',),\n",
              " ('Heist',),\n",
              " ('Hands of Stone',),\n",
              " ('Killer Elite',),\n",
              " ('Machete',),\n",
              " ('The Family',),\n",
              " ('Great Expectations',),\n",
              " ('Little Fockers',),\n",
              " ('What Just Happened?',),\n",
              " ('The Comedian',),\n",
              " ('The Big Wedding',),\n",
              " ('Dirty Grandpa',),\n",
              " ('Grudge Match',),\n",
              " (\"New Year's Eve\",),\n",
              " ('Mr. Warmth: The Don Rickles Project',),\n",
              " ('Last Vegas',),\n",
              " ('I Knew It Was You: Rediscovering John Cazale',),\n",
              " (\"Everybody's Fine\",),\n",
              " ('Stone',),\n",
              " ('Red Lights',),\n",
              " ('Righteous Kill',),\n",
              " ('The Good Shepherd',),\n",
              " ('The Bag Man',),\n",
              " ('Being Flynn',),\n",
              " ('Joy',),\n",
              " ('The Wizard of Lies',),\n",
              " ('Limitless',),\n",
              " ('Killing Season',)]"
            ]
          },
          "metadata": {},
          "execution_count": 42
        }
      ],
      "source": [
        "cursor.execute('''select m.title from movies as m\n",
        "join movie_actors as ma on ma.movie_id = m.id\n",
        "join actors as a on ma.actor_id = a.id\n",
        "where a.name = \"Robert De Niro\" and year > 2005''')\n",
        "cursor.fetchall()\n",
        "\n",
        "# [(\"New Year's Eve\",),\n",
        "#  ('Mr. Warmth: The Don Rickles Project',),\n",
        "#  ('Hands of Stone',),\n",
        "#  ('Last Vegas',),\n",
        "#  ('I Knew It Was You: Rediscovering John Cazale',),\n",
        "#  ('Stardust',),\n",
        "#  ('Killer Elite',),\n",
        "#  (\"Everybody's Fine\",),\n",
        "#  ('Stone',),\n",
        "#  ('Machete',),\n",
        "#  ('Red Lights',),\n",
        "#  ('Righteous Kill',),\n",
        "#  ('The Good Shepherd',),\n",
        "#  ('The Bag Man',),\n",
        "#  ('Being Flynn',),\n",
        "#  ('Joy',),\n",
        "#  ('The Wizard of Lies',),\n",
        "#  ('Limitless',),\n",
        "#  ('Killing Season',),\n",
        "#  ('The Family',),\n",
        "#  ('Heist',),\n",
        "#  ('Great Expectations',),\n",
        "#  ('Little Fockers',),\n",
        "#  ('What Just Happened?',),\n",
        "#  ('The Comedian',),\n",
        "#  ('The Big Wedding',),\n",
        "#  ('Dirty Grandpa',),\n",
        "#  ('Grudge Match',)]"
      ]
    },
    {
      "cell_type": "markdown",
      "metadata": {
        "id": "O9uxkqJGz1x9"
      },
      "source": [
        "* What are the titles of movies with more than two directors -- order by title ascending and limit to the first five results"
      ]
    },
    {
      "cell_type": "code",
      "execution_count": 43,
      "metadata": {
        "id": "YnsRJ_-bz1x9",
        "outputId": "5026ac0d-63b3-4bd3-b4bd-32c9017a7026",
        "colab": {
          "base_uri": "https://localhost:8080/"
        }
      },
      "outputs": [
        {
          "output_type": "execute_result",
          "data": {
            "text/plain": [
              "[('101 Dalmatians',),\n",
              " ('11/8/2016',),\n",
              " ('A Crude Awakening: The Oil Crash',),\n",
              " ('A Farewell To Arms',),\n",
              " (\"A Liar's Autobiography - The Untrue Story of Monty Python's Graham Chapman\",)]"
            ]
          },
          "metadata": {},
          "execution_count": 43
        }
      ],
      "source": [
        "cursor.execute('''select m.title from movies as m\n",
        "join movie_directors as md on md.movie_id = m.id\n",
        "group by m.title\n",
        "having count(md.director_id) > 2\n",
        "order by 1 asc\n",
        "limit 5''')\n",
        "cursor.fetchall()\n",
        "\n",
        "# [('101 Dalmatians',),\n",
        "#  ('11/8/2016',),\n",
        "#  ('A Crude Awakening: The Oil Crash',),\n",
        "#  ('A Farewell To Arms',),\n",
        "#  (\"A Liar's Autobiography - The Untrue Story of Monty Python's Graham Chapman\",)]"
      ]
    },
    {
      "cell_type": "markdown",
      "metadata": {
        "id": "gHlu28jYz1x-"
      },
      "source": [
        "### Has Many Through"
      ]
    },
    {
      "cell_type": "markdown",
      "metadata": {
        "id": "5iJ0L-OJz1x-"
      },
      "source": [
        "* What is the name of the writer in the database that has been credited the most times during the year 2018?"
      ]
    },
    {
      "cell_type": "code",
      "execution_count": 48,
      "metadata": {
        "id": "Sx9lg5Qhz1x-",
        "outputId": "bcce4467-851b-4142-80d3-aca3c160af8d",
        "colab": {
          "base_uri": "https://localhost:8080/"
        }
      },
      "outputs": [
        {
          "output_type": "execute_result",
          "data": {
            "text/plain": [
              "[('Ryan Engle', 3)]"
            ]
          },
          "metadata": {},
          "execution_count": 48
        }
      ],
      "source": [
        "cursor.execute('''select w.name, count(mw.id) from writers as w\n",
        "join movie_writers as mw on mw.writer_id = w.id\n",
        "join movies as m on m.id = mw.movie_id\n",
        "where m.year = 2018\n",
        "group by w.name\n",
        "order by 2 desc\n",
        "limit 1''')\n",
        "cursor.fetchall()\n",
        "\n",
        "# [('Ryan Engle', 3)]"
      ]
    },
    {
      "cell_type": "markdown",
      "metadata": {
        "id": "WdStB0nUz1x-"
      },
      "source": [
        "* What is the name of the actor or actress in the database that has been credited the most between 2010 and 2015 (inclusive)?"
      ]
    },
    {
      "cell_type": "code",
      "execution_count": 59,
      "metadata": {
        "id": "WqxBWun8z1yA",
        "outputId": "09e701d8-0fd5-493a-d7a8-6acde5e32624",
        "colab": {
          "base_uri": "https://localhost:8080/"
        }
      },
      "outputs": [
        {
          "output_type": "execute_result",
          "data": {
            "text/plain": [
              "[('James Franco', 22), ('Liam Neeson', 22)]"
            ]
          },
          "metadata": {},
          "execution_count": 59
        }
      ],
      "source": [
        "cursor.execute('''select a.name, count(ma.id) from actors as a\n",
        "join movie_actors as ma on ma.actor_id = a.id\n",
        "join movies as m on ma.movie_id = m.id\n",
        "where year >= 2010 and year <= 2015\n",
        "group by 1\n",
        "order by 2 desc, 1\n",
        "limit 2''')\n",
        "cursor.fetchall()\n",
        "\n",
        "# [('James Franco', 22)]"
      ]
    },
    {
      "cell_type": "markdown",
      "metadata": {
        "id": "S3DGj95Nz1yG"
      },
      "source": [
        "* What are the names of all actors who performed in more than 3 movies in 2010?"
      ]
    },
    {
      "cell_type": "code",
      "execution_count": 62,
      "metadata": {
        "id": "QzDX_TVZz1yG",
        "outputId": "b720bc52-eeea-47b5-819e-00566bbbee62",
        "colab": {
          "base_uri": "https://localhost:8080/"
        }
      },
      "outputs": [
        {
          "output_type": "execute_result",
          "data": {
            "text/plain": [
              "[('Aaron Taylor-Johnson', 4),\n",
              " ('Adam Scott', 5),\n",
              " ('Barry Pepper', 4),\n",
              " ('Ben Stiller', 4),\n",
              " ('Danny Huston', 4),\n",
              " ('Gemma Arterton', 4),\n",
              " ('Helen Mirren', 4),\n",
              " ('Jay Baruchel', 4),\n",
              " ('Jessica Alba', 4),\n",
              " ('Jonah Hill', 4),\n",
              " ('Josh Brolin', 5),\n",
              " ('Josh Duhamel', 4),\n",
              " ('Keith David', 4),\n",
              " ('Liam Neeson', 7),\n",
              " ('Matt Damon', 4),\n",
              " ('Melissa Leo', 5),\n",
              " ('Patricia Clarkson', 4),\n",
              " ('Pierce Brosnan', 5),\n",
              " ('Ralph Fiennes', 5),\n",
              " ('Susan Sarandon', 5),\n",
              " ('Zach Galifianakis', 5)]"
            ]
          },
          "metadata": {},
          "execution_count": 62
        }
      ],
      "source": [
        "cursor.execute('''select a.name, count(ma.id) from actors as a\n",
        "join movie_actors as ma on ma.actor_id = a.id\n",
        "join movies as m on ma.movie_id = m.id\n",
        "where year = 2010\n",
        "group by 1\n",
        "having count(ma.id) > 3\n",
        "''')\n",
        "cursor.fetchall()\n",
        "\n",
        "# [('Aaron Taylor-Johnson',),\n",
        "#  ('Adam Scott',),\n",
        "#  ('Barry Pepper',),\n",
        "#  ('Ben Stiller',),\n",
        "#  ('Danny Huston',),\n",
        "#  ('Gemma Arterton',),\n",
        "#  ('Helen Mirren',),\n",
        "#  ('Jay Baruchel',),\n",
        "#  ('Jessica Alba',),\n",
        "#  ('Jonah Hill',),\n",
        "#  ('Josh Brolin',),\n",
        "#  ('Josh Duhamel',),\n",
        "#  ('Keith David',),\n",
        "#  ('Liam Neeson',),\n",
        "#  ('Matt Damon',),\n",
        "#  ('Melissa Leo',),\n",
        "#  ('Patricia Clarkson',),\n",
        "#  ('Pierce Brosnan',),\n",
        "#  ('Ralph Fiennes',),\n",
        "#  ('Susan Sarandon',),\n",
        "#  ('Zach Galifianakis',)]"
      ]
    },
    {
      "cell_type": "markdown",
      "metadata": {
        "id": "bQ5tpWLDz1yH"
      },
      "source": [
        "* What studio has Steven Spielberg worked with the most?"
      ]
    },
    {
      "cell_type": "code",
      "execution_count": 65,
      "metadata": {
        "id": "c9DUKOrqz1yH",
        "outputId": "28970004-d3f8-433c-84d7-425575a19274",
        "colab": {
          "base_uri": "https://localhost:8080/"
        }
      },
      "outputs": [
        {
          "output_type": "execute_result",
          "data": {
            "text/plain": [
              "[('Universal Pictures', 7)]"
            ]
          },
          "metadata": {},
          "execution_count": 65
        }
      ],
      "source": [
        "cursor.execute('''select m.studio, count(md.id) from movies as m\n",
        "join movie_directors as md on md.movie_id = m.id\n",
        "join directors as d on md.director_id = d.id\n",
        "where d.name = \"Steven Spielberg\"\n",
        "group by 1\n",
        "order by 2 desc\n",
        "limit 1''')\n",
        "cursor.fetchall()\n",
        "\n",
        "# [('Universal Pictures', 7)]"
      ]
    },
    {
      "cell_type": "markdown",
      "metadata": {
        "id": "PFd55BiPz1yH"
      },
      "source": [
        "* What years did Steven Spielberg direct 2 movies?"
      ]
    },
    {
      "cell_type": "code",
      "execution_count": 68,
      "metadata": {
        "id": "RcikMzEkz1yH",
        "outputId": "b0694c9b-2110-4e29-a589-dfb60afae59a",
        "colab": {
          "base_uri": "https://localhost:8080/"
        }
      },
      "outputs": [
        {
          "output_type": "execute_result",
          "data": {
            "text/plain": [
              "[(1989, 2), (1993, 2), (1997, 2), (2002, 2), (2005, 2), (2011, 2), (2018, 2)]"
            ]
          },
          "metadata": {},
          "execution_count": 68
        }
      ],
      "source": [
        "cursor.execute('''select m.year, count(md.id) from movies as m\n",
        "join movie_directors as md on md.movie_id = m.id\n",
        "join directors as d on md.director_id = d.id\n",
        "where d.name = \"Steven Spielberg\"\n",
        "group by 1\n",
        "having count(md.id) = 2\n",
        "''')\n",
        "cursor.fetchall()\n",
        "\n",
        "# [(1989, 2), (1993, 2), (1997, 2), (2002, 2),\n",
        "# (2005, 2), (2011, 2), (2018, 2)]"
      ]
    },
    {
      "cell_type": "markdown",
      "metadata": {
        "id": "l32HC82Qz1yI"
      },
      "source": [
        "* How many movies has each of the actors from Toy Story been in? (movie ID is 3648)"
      ]
    },
    {
      "cell_type": "code",
      "execution_count": 76,
      "metadata": {
        "id": "LAEcaVLGz1yI",
        "outputId": "6001a3a2-9f69-45cf-b723-b4c8c82ef3bf",
        "colab": {
          "base_uri": "https://localhost:8080/"
        }
      },
      "outputs": [
        {
          "output_type": "execute_result",
          "data": {
            "text/plain": [
              "[('Don Rickles', 10),\n",
              " ('Jim Varney', 8),\n",
              " ('John Ratzenberger', 7),\n",
              " ('Tim Allen', 20),\n",
              " ('Tom Hanks', 46),\n",
              " ('Wallace Shawn', 27)]"
            ]
          },
          "metadata": {},
          "execution_count": 76
        }
      ],
      "source": [
        "cursor.execute('''select a.name, count(ma.id) from movies as m\n",
        "join movie_actors as ma on ma.movie_id = m.id\n",
        "join actors as a on a.id = ma.actor_id\n",
        "where a.id in (select a.id from actors a join movie_actors as ma on ma.actor_id = a.id where ma.movie_id = 3648)\n",
        "group by 1\n",
        "''')\n",
        "# cursor.execute('''select a.id from actors a join movie_actors as ma on ma.actor_id = a.id where ma.movie_id = 3648\n",
        "# ''')\n",
        "cursor.fetchall()\n",
        "\n",
        "# [('Tom Hanks', 46),\n",
        " # ('Jim Varney', 8),\n",
        " # ('Wallace Shawn', 27),\n",
        " # ('Don Rickles', 10),\n",
        " # ('John Ratzenberger', 7),\n",
        " # ('Tim Allen', 20)]"
      ]
    },
    {
      "cell_type": "markdown",
      "metadata": {
        "id": "76LlRnGMz1yI"
      },
      "source": [
        "* What are the names of other movies the director of Toy Story directed?"
      ]
    },
    {
      "cell_type": "code",
      "execution_count": 77,
      "metadata": {
        "id": "eupYEv68z1yI",
        "outputId": "1ab093ee-66c6-438e-cb91-c42dc798569b",
        "colab": {
          "base_uri": "https://localhost:8080/"
        }
      },
      "outputs": [
        {
          "output_type": "execute_result",
          "data": {
            "text/plain": [
              "[(\"A Bug's Life\",), ('Cars',), ('Cars 2',), ('Toy Story',), ('Toy Story 2',)]"
            ]
          },
          "metadata": {},
          "execution_count": 77
        }
      ],
      "source": [
        "cursor.execute('''select m.title from movies as m\n",
        "join movie_directors as md on md.movie_id = m.id\n",
        "join directors as d on d.id = md.director_id\n",
        "where d.id = (select d.id from directors d join movie_directors md on md.director_id = d.id where md.movie_id = 3648)\n",
        "group by 1\n",
        "''')\n",
        "\n",
        "cursor.fetchall()\n",
        "\n",
        "# [('Cars 2',), ('Cars',), (\"A Bug's Life\",), ('Toy Story 2',), ('Toy Story',)]"
      ]
    },
    {
      "cell_type": "markdown",
      "metadata": {
        "id": "DC_JzEAhz1yI"
      },
      "source": [
        "* What are the names of all the directors Tom Hanks has worked with? (Actor ID 189) -- order by the director's name ascending and limit to the first five results."
      ]
    },
    {
      "cell_type": "code",
      "execution_count": 79,
      "metadata": {
        "id": "Vdp9LpRQz1yI",
        "outputId": "5244f9ce-f4c3-4ca2-bd19-e739f3e630fc",
        "colab": {
          "base_uri": "https://localhost:8080/"
        }
      },
      "outputs": [
        {
          "output_type": "execute_result",
          "data": {
            "text/plain": [
              "[('Alexander Mackendrick',),\n",
              " ('Angus MacLane',),\n",
              " ('Brian DePalma',),\n",
              " ('Chris Paine',),\n",
              " ('Clint Eastwood',)]"
            ]
          },
          "metadata": {},
          "execution_count": 79
        }
      ],
      "source": [
        "cursor.execute('''select d.name from directors as d\n",
        "where d.id in (select d.id from directors d\n",
        "                join movie_directors as md on md.director_id = d.id\n",
        "                join movie_actors as ma on md.movie_id = ma.movie_id\n",
        "                where ma.actor_id = 189)\n",
        "order by 1\n",
        "limit 5\n",
        "''')\n",
        "\n",
        "cursor.fetchall()\n",
        "\n",
        "# [('Alexander Mackendrick',),\n",
        "#  ('Angus MacLane',),\n",
        "#  ('Brian DePalma',),\n",
        "#  ('Chris Paine',),\n",
        "#  ('Clint Eastwood',)]"
      ]
    },
    {
      "cell_type": "markdown",
      "metadata": {
        "id": "tDrMfdTyz1yJ"
      },
      "source": [
        "* What is the name of the director Tom Hanks has worked with the most?"
      ]
    },
    {
      "cell_type": "code",
      "source": [
        "cursor.execute('''select d.id, count(md.id) from directors d\n",
        "                join movie_directors as md on md.director_id = d.id\n",
        "                join movie_actors as ma on md.movie_id = ma.movie_id\n",
        "                where ma.actor_id = 189\n",
        "                group by 1\n",
        "\n",
        "''')\n",
        "cursor.fetchall()"
      ],
      "metadata": {
        "id": "ZDOeyeCZyXiU",
        "outputId": "25a664c8-d3a4-4b2f-ff2f-ee6a680c75a1",
        "colab": {
          "base_uri": "https://localhost:8080/"
        }
      },
      "execution_count": 90,
      "outputs": [
        {
          "output_type": "execute_result",
          "data": {
            "text/plain": [
              "[(9, 1),\n",
              " (23, 5),\n",
              " (45, 1),\n",
              " (98, 3),\n",
              " (141, 1),\n",
              " (262, 1),\n",
              " (378, 5),\n",
              " (511, 1),\n",
              " (514, 1),\n",
              " (535, 1),\n",
              " (540, 1),\n",
              " (561, 1),\n",
              " (622, 1),\n",
              " (652, 1),\n",
              " (725, 1),\n",
              " (774, 2),\n",
              " (911, 2),\n",
              " (1030, 1),\n",
              " (1095, 1),\n",
              " (1322, 1),\n",
              " (1535, 1),\n",
              " (1580, 1),\n",
              " (1751, 1),\n",
              " (2428, 1),\n",
              " (2771, 1),\n",
              " (3299, 1),\n",
              " (3475, 2),\n",
              " (3605, 1),\n",
              " (3766, 1),\n",
              " (3971, 1),\n",
              " (4202, 2),\n",
              " (4814, 1),\n",
              " (5259, 1),\n",
              " (5523, 1),\n",
              " (5729, 1),\n",
              " (6370, 1),\n",
              " (6485, 1)]"
            ]
          },
          "metadata": {},
          "execution_count": 90
        }
      ]
    },
    {
      "cell_type": "code",
      "execution_count": 94,
      "metadata": {
        "id": "tQsNLhpbz1yJ",
        "outputId": "70979b1b-6eb2-4874-a6d9-e64274a5bc49",
        "colab": {
          "base_uri": "https://localhost:8080/"
        }
      },
      "outputs": [
        {
          "output_type": "execute_result",
          "data": {
            "text/plain": [
              "[('Ron Howard', 5), ('Steven Spielberg', 5), ('Robert Zemeckis', 3)]"
            ]
          },
          "metadata": {},
          "execution_count": 94
        }
      ],
      "source": [
        "cursor.execute('''select dl.name, dl.cd from\n",
        "                (select d.name, count(md.id) as cd from directors d\n",
        "                join movie_directors as md on md.director_id = d.id\n",
        "                join movie_actors as ma on md.movie_id = ma.movie_id\n",
        "                where ma.actor_id = 189\n",
        "                group by 1\n",
        "                ) dl\n",
        "order by 2 desc\n",
        "limit 3\n",
        "''')\n",
        "\n",
        "cursor.fetchall()\n",
        "\n",
        "# [('Steven Spielberg', 5)]"
      ]
    },
    {
      "cell_type": "markdown",
      "metadata": {
        "id": "CxrTT58Gz1yJ"
      },
      "source": [
        "* What are the names of all the writers Tom Hanks has worked with?"
      ]
    },
    {
      "cell_type": "code",
      "execution_count": 102,
      "metadata": {
        "id": "1u8s-Z7Lz1yK",
        "outputId": "929e0698-c96b-4ef7-b72f-4396bd31ab4f",
        "colab": {
          "base_uri": "https://localhost:8080/"
        }
      },
      "outputs": [
        {
          "output_type": "execute_result",
          "data": {
            "text/plain": [
              "[('Eric Roth',),\n",
              " ('Nia Vardalos',),\n",
              " ('Tom Hanks',),\n",
              " ('Gary Ross',),\n",
              " ('Anne Spielberg',),\n",
              " ('Chris Paine',),\n",
              " ('Scott Frank',),\n",
              " ('Robert Rodat',),\n",
              " ('Frank Darabont',),\n",
              " ('Tom Tykwer',),\n",
              " ('Max Allan Collins',),\n",
              " ('David Self',),\n",
              " ('Richard Piers Rayner',),\n",
              " ('Steve Purcell (II)',),\n",
              " ('Jeff Nathanson',),\n",
              " ('Sacha Gervasi',),\n",
              " ('Nora Ephron',),\n",
              " ('Delia Ephron',),\n",
              " ('Mikls Lszl',),\n",
              " ('Billy Ray',),\n",
              " ('David Koepp',),\n",
              " ('Akiva Goldsman',),\n",
              " ('Dave Eggers',),\n",
              " ('James Ponsoldt',),\n",
              " ('Joel Coen',),\n",
              " ('Ethan Coen',),\n",
              " ('Matt Charman',),\n",
              " ('Matthew Charman',),\n",
              " ('David Seltzer',),\n",
              " ('Erik Jendresen',),\n",
              " ('Josh Singer',),\n",
              " ('Liz Hannah',),\n",
              " ('Lilly Wachowski',),\n",
              " ('Lana Wachowski',),\n",
              " ('Lowell Ganz',),\n",
              " ('Bruce Jay Friedman',),\n",
              " ('Babaloo Mandel',),\n",
              " ('Brian Grazer',),\n",
              " ('William Broyles',),\n",
              " ('Dario Argento',),\n",
              " ('Andrew Stanton',),\n",
              " ('Todd Komarnicki',),\n",
              " ('John Lasseter',),\n",
              " ('Lee Unkrich',),\n",
              " ('Michael Arndt',),\n",
              " ('Robert Zemeckis',),\n",
              " ('Joss Whedon',),\n",
              " ('Joel Cohen',),\n",
              " ('Alec Sokolow',),\n",
              " ('William Rose',),\n",
              " ('Al Reinert',),\n",
              " ('Tom Mankiewicz',),\n",
              " ('Dan Aykroyd',),\n",
              " ('Alan Zweibel',),\n",
              " ('Robert Klane',),\n",
              " ('Norman Steinberg',),\n",
              " ('Aaron Sorkin',),\n",
              " ('Kim Wilson',),\n",
              " ('Kevin Pollak',),\n",
              " ('John Varhous',),\n",
              " ('John Vorhaus',),\n",
              " ('Michael Blodgett',),\n",
              " ('Dennis Shryack',),\n",
              " ('Daniel Petrie Jr.',),\n",
              " ('Timothy Harris',),\n",
              " ('Dana Olsen',),\n",
              " ('Robert Collector',),\n",
              " ('Mitch Markowitz',),\n",
              " ('David S. Ward',),\n",
              " ('Jeff Arch',),\n",
              " ('Larry Atlas',),\n",
              " ('John Patrick Shanley',),\n",
              " ('Michael Preminger',),\n",
              " ('Larry Grusin',),\n",
              " ('Rick Podell',),\n",
              " ('Kelly Marcel',),\n",
              " ('Sue Smith',),\n",
              " ('Michael Cristofer',)]"
            ]
          },
          "metadata": {},
          "execution_count": 102
        }
      ],
      "source": [
        "cursor.execute('''select distinct(w.name) from (select movie_id from movie_actors as ma\n",
        "                where ma.actor_id = 189) as mov\n",
        "                join movie_writers as mw on mov.movie_id = mw.movie_id\n",
        "                join writers as w on w.id = mw.writer_id\n",
        "''')\n",
        "\n",
        "cursor.fetchall()\n",
        "\n",
        "# [('Eric Roth',),\n",
        "#  ('Nia Vardalos',),\n",
        "#  ('Tom Hanks',),\n",
        "#  ('Gary Ross',),\n",
        "#  ('Anne Spielberg',),\n",
        "#  ('Chris Paine',),\n",
        "#  ('Scott Frank',),\n",
        "#  ('Robert Rodat',),\n",
        "#  ('Frank Darabont',),\n",
        "#  ('Tom Tykwer',)]"
      ]
    },
    {
      "cell_type": "markdown",
      "metadata": {
        "id": "hsVI1N7Tz1yK"
      },
      "source": [
        "### Conclusion\n",
        "The movie database we queried during this lab had a multitude of relationships between the tables. We saw how we could use JOIN to connect the tables, in order query information about entities in different tables."
      ]
    }
  ],
  "metadata": {
    "kernelspec": {
      "display_name": "Python 3 (ipykernel)",
      "language": "python",
      "name": "python3"
    },
    "language_info": {
      "codemirror_mode": {
        "name": "ipython",
        "version": 3
      },
      "file_extension": ".py",
      "mimetype": "text/x-python",
      "name": "python",
      "nbconvert_exporter": "python",
      "pygments_lexer": "ipython3",
      "version": "3.10.6"
    },
    "colab": {
      "provenance": [],
      "include_colab_link": true
    }
  },
  "nbformat": 4,
  "nbformat_minor": 0
}