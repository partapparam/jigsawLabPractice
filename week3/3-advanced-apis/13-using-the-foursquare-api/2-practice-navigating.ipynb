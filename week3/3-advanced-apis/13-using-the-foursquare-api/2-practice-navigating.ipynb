{
  "cells": [
    {
      "cell_type": "markdown",
      "metadata": {
        "id": "5jWEZ4lVeZbo"
      },
      "source": [
        "# Exploring Foursquare Lab"
      ]
    },
    {
      "cell_type": "markdown",
      "metadata": {
        "id": "B6XYQTy_eZcN"
      },
      "source": [
        "### Introduction"
      ]
    },
    {
      "cell_type": "markdown",
      "metadata": {
        "id": "mwOuV2qneZcO"
      },
      "source": [
        "Ok, so in the last lesson, we practiced navigating the API."
      ]
    },
    {
      "cell_type": "markdown",
      "metadata": {
        "id": "zY6ORwpQeZcO"
      },
      "source": [
        "Now that we're able to make requests to the api, let's start pulling some data"
      ]
    },
    {
      "cell_type": "markdown",
      "metadata": {
        "id": "AAA1eFT0eZcO"
      },
      "source": [
        "### Using the API"
      ]
    },
    {
      "cell_type": "markdown",
      "metadata": {
        "id": "msC97IvxeZcP"
      },
      "source": [
        "Let's start by copying over the URL that Foursquare provided us in the documentation [here](https://location.foursquare.com/developer/reference/place-details)."
      ]
    },
    {
      "cell_type": "markdown",
      "metadata": {
        "id": "L3UaSTbZeZcP"
      },
      "source": [
        "1. First, we'll write a function that returns the root url for search."
      ]
    },
    {
      "cell_type": "markdown",
      "metadata": {
        "id": "-5hD4FrVeZcQ"
      },
      "source": [
        "> We did it for you."
      ]
    },
    {
      "cell_type": "code",
      "execution_count": 1,
      "metadata": {
        "id": "aAAciyOXeZcR"
      },
      "outputs": [],
      "source": [
        "import requests\n",
        "\n",
        "def search_url():\n",
        "    url = \"https://api.foursquare.com/v3/places/search\"\n",
        "    return url"
      ]
    },
    {
      "cell_type": "code",
      "execution_count": 2,
      "metadata": {
        "id": "7i4C2yBeeZcT",
        "outputId": "18e580d1-f751-4a90-f6f2-bc874bab218e",
        "colab": {
          "base_uri": "https://localhost:8080/",
          "height": 36
        }
      },
      "outputs": [
        {
          "output_type": "execute_result",
          "data": {
            "text/plain": [
              "'https://api.foursquare.com/v3/places/search'"
            ],
            "application/vnd.google.colaboratory.intrinsic+json": {
              "type": "string"
            }
          },
          "metadata": {},
          "execution_count": 2
        }
      ],
      "source": [
        "search_url()\n",
        "# \"url = \"https://api.foursquare.com/v3/places/search\""
      ]
    },
    {
      "cell_type": "markdown",
      "metadata": {
        "id": "P3L0gAULeZcV"
      },
      "source": [
        "2. Querying Params"
      ]
    },
    {
      "cell_type": "markdown",
      "metadata": {
        "id": "I78V9ZK-eZcW"
      },
      "source": [
        "Now write a function that will take in a dictionary of parameters (which you can see below) and then return the parameters string -- with each set of parameters separated by a `&`."
      ]
    },
    {
      "cell_type": "code",
      "source": [
        "params = {'ll': \"40.7,-74\", \"query\": \"tacos\"}\n",
        "string_sets = list(params.items())\n",
        "combinded_strings = [s[0]+ '=' + s[1] for s in string_sets]\n",
        "\"&\".join(combinded_strings )"
      ],
      "metadata": {
        "id": "DSg-RxQHe-z5",
        "outputId": "9cbb6669-bb62-486e-d8c4-8af7e21735be",
        "colab": {
          "base_uri": "https://localhost:8080/",
          "height": 36
        }
      },
      "execution_count": 7,
      "outputs": [
        {
          "output_type": "execute_result",
          "data": {
            "text/plain": [
              "'ll=40.7,-74&query=tacos'"
            ],
            "application/vnd.google.colaboratory.intrinsic+json": {
              "type": "string"
            }
          },
          "metadata": {},
          "execution_count": 7
        }
      ]
    },
    {
      "cell_type": "code",
      "execution_count": 10,
      "metadata": {
        "id": "sxZbaRWmeZcX",
        "outputId": "00b8a713-0b5c-4ea8-cd24-bf8738da4fb4",
        "colab": {
          "base_uri": "https://localhost:8080/",
          "height": 36
        }
      },
      "outputs": [
        {
          "output_type": "execute_result",
          "data": {
            "text/plain": [
              "'ll=40.7,-74&query=tacos'"
            ],
            "application/vnd.google.colaboratory.intrinsic+json": {
              "type": "string"
            }
          },
          "metadata": {},
          "execution_count": 10
        }
      ],
      "source": [
        "def params_string(params):\n",
        "  return '&'.join([s[0]+ '=' + s[1] for s in list(params.items())])\n",
        "\n",
        "\n",
        "\n",
        "\n",
        "params = {'ll': \"40.7,-74\", \"query\": \"tacos\"}\n",
        "params_string(params)\n",
        "# 'll=40.7,-74&query=tacos'"
      ]
    },
    {
      "cell_type": "markdown",
      "metadata": {
        "id": "uuq0HpEYeZcX"
      },
      "source": [
        "3. Constructing the full string"
      ]
    },
    {
      "cell_type": "markdown",
      "metadata": {
        "id": "dvQtr3hAeZcX"
      },
      "source": [
        "Ok, now let's write a function that calls the `search_url` function to return the root_url, and calls the params string function to return the full url."
      ]
    },
    {
      "cell_type": "code",
      "execution_count": null,
      "metadata": {
        "id": "oYf-oO9DeZcX"
      },
      "outputs": [],
      "source": [
        "import requests\n",
        "\n",
        "def query_venues_url(params):\n",
        "    pass"
      ]
    },
    {
      "cell_type": "code",
      "execution_count": null,
      "metadata": {
        "id": "TBGv_Nz4eZcY"
      },
      "outputs": [],
      "source": [
        "params = {'ll': \"40.7,-74\", \"query\": \"tacos\"}\n",
        "# query_venues_url()\n",
        "# # 'https://api.foursquare.com/v3/places/search?ll=40.7,-74&query=tacos'"
      ]
    },
    {
      "cell_type": "markdown",
      "metadata": {
        "id": "w3W4r-aleZcY"
      },
      "source": [
        "6. Querying the API"
      ]
    },
    {
      "cell_type": "markdown",
      "metadata": {
        "id": "0ETsD-I9eZcY"
      },
      "source": [
        "Now query the API, using the `query_venues_url` function above.  \n",
        "\n",
        "Remember that you'll also need to pass through the headers with the authorization when making the request.\n",
        "\n",
        "But the url should be generated with the `query_venues_url` function."
      ]
    },
    {
      "cell_type": "code",
      "execution_count": null,
      "metadata": {
        "id": "vIErE879eZcZ"
      },
      "outputs": [],
      "source": [
        "# fill in headers here\n",
        "headers = {\n",
        "    '':''\n",
        "}\n",
        "url = None\n",
        "response = requests.get()"
      ]
    },
    {
      "cell_type": "markdown",
      "metadata": {
        "id": "iyXE_T9YeZcZ"
      },
      "source": [
        "Finally, let's create a function called `query_api` that provided parameters returns our json response data from the API."
      ]
    },
    {
      "cell_type": "code",
      "execution_count": null,
      "metadata": {
        "id": "bmKqwddGeZcZ"
      },
      "outputs": [],
      "source": [
        "import requests\n",
        "def query_api(params):\n",
        "    pass"
      ]
    },
    {
      "cell_type": "code",
      "execution_count": null,
      "metadata": {
        "id": "iAuQdjsNeZcZ"
      },
      "outputs": [],
      "source": [
        "result = query_api(params)\n",
        "# result\n",
        "# {'results': [{'fsq_id': '5d5f24ec09484500079aee00',\n",
        "#    'categories': [{'id': 13306,\n",
        "#      'name': 'Taco Restaurant',\n",
        "#      'icon': {'prefix': 'https://ss3.4sqi.net/img/categories_v2/food/taco_',\n",
        "#       'suffix': '.png'}}],"
      ]
    },
    {
      "cell_type": "markdown",
      "metadata": {
        "id": "dmb7LuM0eZca"
      },
      "source": [
        "7. Query venues"
      ]
    },
    {
      "cell_type": "markdown",
      "metadata": {
        "id": "uLDOSdn2eZca"
      },
      "source": [
        "Now write a method that only returns a list of venues.  Notice that each venue has a key of `fsq_id` which is the foursquare id."
      ]
    },
    {
      "cell_type": "code",
      "execution_count": null,
      "metadata": {
        "id": "NSJLHiapeZca"
      },
      "outputs": [],
      "source": [
        "def venue_search(params):\n",
        "    pass"
      ]
    },
    {
      "cell_type": "code",
      "execution_count": null,
      "metadata": {
        "id": "z9BaVHNweZcd"
      },
      "outputs": [],
      "source": [
        "venues = venue_search(params)\n",
        "\n",
        "venue = venues[0]\n",
        "venue\n",
        "# {'fsq_id': '5d5f24ec09484500079aee00',\n",
        "#  'categories': [{'id': 13306,\n",
        "#    'name': 'Taco Restaurant',\n",
        "#    'icon': {'prefix': 'https://ss3.4sqi.net/img/categories_v2/food/taco_',\n",
        "#     'suffix': '.png'}}],\n",
        "#  'chains': [],\n",
        "#  'distance': 1748,\n",
        "#  'geocodes': {'main': {'latitude': 40.714345, 'longitude': -74.008688},\n",
        "#   'roof': {'latitude': 40.714345, 'longitude': -74.008688}},\n",
        "#  'link': '/v3/places/5d5f24ec09484500079aee00',\n",
        "#  'location': {'address': '136 Church St',"
      ]
    },
    {
      "cell_type": "markdown",
      "metadata": {
        "id": "EWrYEP88eZcd"
      },
      "source": [
        "8. Write a method that will take a venue, and just return the id, name, and location as values -- where the id from the api comes from the `fsq_id`."
      ]
    },
    {
      "cell_type": "code",
      "execution_count": null,
      "metadata": {
        "id": "ejw1_Th8eZcd"
      },
      "outputs": [],
      "source": [
        "def extract_details_from_venue(venue):\n",
        "    pass"
      ]
    },
    {
      "cell_type": "code",
      "execution_count": null,
      "metadata": {
        "id": "d94oFpbeeZcd"
      },
      "outputs": [],
      "source": [
        "extract_details_from_venue(venue)\n",
        "# {'id': '5b2932a0f5e9d70039787cf2',\n",
        "#  'name': 'Los Tacos Al Pastor',\n",
        "#  'location': [40.70243624175102, -73.98753900608666]}"
      ]
    },
    {
      "cell_type": "markdown",
      "metadata": {
        "id": "QY1JD5mZeZce"
      },
      "source": [
        "9. Now write a function that does this for a list of venues."
      ]
    },
    {
      "cell_type": "code",
      "execution_count": null,
      "metadata": {
        "id": "3pcqjhlZeZce"
      },
      "outputs": [],
      "source": [
        "def extract_details_from_venues(venues):\n",
        "    pass"
      ]
    },
    {
      "cell_type": "code",
      "execution_count": null,
      "metadata": {
        "id": "tYxxBpCTeZce",
        "outputId": "1a80f0da-9735-4dce-aa46-3f4c74b3626b"
      },
      "outputs": [
        {
          "data": {
            "text/plain": [
              "[{'id': '5d5f24ec09484500079aee00',\n",
              "  'name': 'Los Tacos No 1 Church',\n",
              "  'location': [40.714345, -74.008688]},\n",
              " {'id': '61d5d22d8882c054d234c406',\n",
              "  'name': 'Los Tacos No. 1',\n",
              "  'location': [40.726168, -73.99466]},\n",
              " {'id': '4c38ced2ae2da593576301c6',\n",
              "  'name': 'Tacombi',\n",
              "  'location': [40.723916, -73.993876]},\n",
              " {'id': '5519c8d2498e63bcb8cf4f58',\n",
              "  'name': \"Chilo's\",\n",
              "  'location': [40.6883, -73.956838]}]"
            ]
          },
          "execution_count": 53,
          "metadata": {},
          "output_type": "execute_result"
        }
      ],
      "source": [
        "extract_details_from_venues(venues)[:4]\n",
        "# [{'id': '5d5f24ec09484500079aee00',\n",
        "#   'name': 'Los Tacos No 1 Church',\n",
        "#   'location': [40.714345, -74.008688]},\n",
        "#  {'id': '61d5d22d8882c054d234c406',\n",
        "#   'name': 'Los Tacos No. 1',\n",
        "#   'location': [40.726168, -73.99466]},\n",
        "#  {'id': '4c38ced2ae2da593576301c6',\n",
        "#   'name': 'Tacombi',\n",
        "#   'location': [40.723916, -73.993876]},\n",
        "#  {'id': '5519c8d2498e63bcb8cf4f58',\n",
        "#   'name': \"Chilo's\",\n",
        "#   'location': [40.6883, -73.956838]}]"
      ]
    },
    {
      "cell_type": "markdown",
      "metadata": {
        "id": "GpHrxrJpeZce"
      },
      "source": [
        "### Working with an Individual Venue"
      ]
    },
    {
      "cell_type": "markdown",
      "metadata": {
        "id": "bTMQbykveZce"
      },
      "source": [
        "For this section, you will need to move from working with the Search resource, as we have been above, to working with the [Foursquare Place Details](https://location.foursquare.com/developer/reference/place-details) resource."
      ]
    },
    {
      "cell_type": "markdown",
      "metadata": {
        "id": "66izf9GNeZcf"
      },
      "source": [
        "1. Write a function that provided an id returns the corresponding json of an individual restaurant."
      ]
    },
    {
      "cell_type": "code",
      "execution_count": null,
      "metadata": {
        "id": "4DZmZIpbeZcf"
      },
      "outputs": [],
      "source": [
        "restaurant_id = \"5b2932a0f5e9d70039787cf2\"\n",
        "def get_details(restaurant_id):\n",
        "    pass"
      ]
    },
    {
      "cell_type": "code",
      "execution_count": null,
      "metadata": {
        "id": "Y0r_FKaPeZcf"
      },
      "outputs": [],
      "source": [
        "venue_details = get_details(restaurant_id)\n",
        "# venue_details\n",
        "\n",
        "# {'fsq_id': '5b2932a0f5e9d70039787cf2',\n",
        "#  'categories': [{'id': 13306,\n",
        "#    'name': 'Taco Restaurant',\n",
        "#    'icon': {'prefix': 'https://ss3.4sqi.net/img/categories_v2/food/taco_',\n",
        "#     'suffix': '.png'}}],\n",
        "#  'chains': [],\n",
        "#  'geocodes': {'main': {'latitude': 40.702628, 'longitude': -73.987366},\n",
        "#   'roof': {'latitude': 40.702628, 'longitude': -73.987366}},\n",
        "#  'link': '/v3/places/5b2932a0f5e9d70039787cf2',\n",
        "#  'location': {'address': '141 Front St',\n",
        "#   'census_block': '360470021002009',\n",
        "#   'country': 'US',\n",
        "#   'cross_street': 'Pearl St',\n",
        "#   'dma': 'New York',\n",
        "#   'formatted_address': '141 Front St (Pearl St), New York, NY 11201',\n",
        "#   'locality': 'New York',\n",
        "#   'postcode': '11201',\n",
        "#   'region': 'NY'},\n",
        "#  'name': 'Los Tacos Al Pastor',\n",
        "#  'related_places': {},\n",
        "#  'timezone': 'America/New_York'}\n"
      ]
    },
    {
      "cell_type": "markdown",
      "metadata": {
        "id": "cqH_c_aqeZcf"
      },
      "source": [
        "2. Write a function that retrieves the list of categories from an individual restaurant."
      ]
    },
    {
      "cell_type": "code",
      "execution_count": null,
      "metadata": {
        "id": "W_NNX7CleZcv"
      },
      "outputs": [],
      "source": [
        "def extract_categories(venue):\n",
        "    pass"
      ]
    },
    {
      "cell_type": "code",
      "execution_count": null,
      "metadata": {
        "id": "N5Wdwq5YeZcv",
        "outputId": "9ef6acde-ba83-4851-a688-f1a2dca49bc7"
      },
      "outputs": [
        {
          "data": {
            "text/plain": [
              "['Taco Restaurant']"
            ]
          },
          "execution_count": 85,
          "metadata": {},
          "output_type": "execute_result"
        }
      ],
      "source": [
        "extract_categories(venue_details)\n",
        "# ['Taco Restaurant']"
      ]
    },
    {
      "cell_type": "markdown",
      "metadata": {
        "id": "I7ijCe4jeZcw"
      },
      "source": [
        "3. Write a function that takes a query, and returns the restaurant name, location, and id (the fsq_id), and a list of categories.\n",
        "   \n",
        "> The list of dictionaries should be **sorted** by the id of each venue\n",
        "\n"
      ]
    },
    {
      "cell_type": "code",
      "execution_count": null,
      "metadata": {
        "id": "GDoHbRaqeZcw"
      },
      "outputs": [],
      "source": [
        "def find_and_sort(params):\n",
        "    pass"
      ]
    },
    {
      "cell_type": "code",
      "execution_count": null,
      "metadata": {
        "id": "Y6oUkT1leZcz"
      },
      "outputs": [],
      "source": [
        "sorted_vens = find_and_sort(params)\n",
        "sorted_vens[:5]\n",
        "\n",
        "# [{'id': '5196b9ff498e8a6be4336a03',\n",
        "#   'name': 'Los Tacos No. 1',\n",
        "#   'location': [40.742011, -74.004939],\n",
        "#   'categories': ['Fast Food Restaurant',\n",
        "#    'Latin American Restaurant',\n",
        "#    'Taco Restaurant']},\n",
        "#  {'id': '5519c8d2498e63bcb8cf4f58',\n",
        "#   'name': \"Chilo's\",\n",
        "#   'location': [40.6883, -73.956838],\n",
        "#   'categories': ['Bar', 'Taco Restaurant']},\n",
        "#  {'id': '59580ce6db1d8148fee3d383',\n",
        "#   'name': 'Los Tacos No. 1',\n",
        "#   'location': [40.75743, -73.987507],\n",
        "#   'categories': ['Fast Food Restaurant',\n",
        "#    'Latin American Restaurant',\n",
        "#    'Taco Restaurant']},\n",
        "#  {'id': '5d5f24ec09484500079aee00',\n",
        "#   'name': 'Los Tacos No. 1',\n",
        "#   'location': [40.71429, -74.00873],\n",
        "#   'categories': ['Taco Restaurant']},\n",
        "#  {'id': '5e2f42dd354cad00073ba473',\n",
        "#   'name': 'Taqueria Al Pastor',\n",
        "#   'location': [40.703297, -73.918103],\n",
        "#   'categories': ['Taco Restaurant']}]"
      ]
    },
    {
      "cell_type": "markdown",
      "metadata": {
        "id": "9xit2srXeZcz"
      },
      "source": [
        "4. Write a function to take a search query, and then plot the top results in a map with the folium library"
      ]
    }
  ],
  "metadata": {
    "kernelspec": {
      "display_name": "Python 3 (ipykernel)",
      "language": "python",
      "name": "python3"
    },
    "language_info": {
      "codemirror_mode": {
        "name": "ipython",
        "version": 3
      },
      "file_extension": ".py",
      "mimetype": "text/x-python",
      "name": "python",
      "nbconvert_exporter": "python",
      "pygments_lexer": "ipython3",
      "version": "3.11.5"
    },
    "colab": {
      "provenance": []
    }
  },
  "nbformat": 4,
  "nbformat_minor": 0
}