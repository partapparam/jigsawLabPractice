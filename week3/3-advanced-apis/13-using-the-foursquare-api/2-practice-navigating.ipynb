{
  "cells": [
    {
      "cell_type": "markdown",
      "metadata": {
        "id": "tHwX1LkooRw4"
      },
      "source": [
        "# Exploring Foursquare Lab"
      ]
    },
    {
      "cell_type": "markdown",
      "metadata": {
        "id": "-mArUVsloRxC"
      },
      "source": [
        "### Introduction"
      ]
    },
    {
      "cell_type": "markdown",
      "metadata": {
        "id": "x9u9JZ8JoRxC"
      },
      "source": [
        "Ok, so in the last lesson, we practiced navigating the API."
      ]
    },
    {
      "cell_type": "markdown",
      "metadata": {
        "id": "fhXSQb0EoRxV"
      },
      "source": [
        "Now that we're able to make requests to the api, let's start pulling some data"
      ]
    },
    {
      "cell_type": "markdown",
      "metadata": {
        "id": "-9t7Jeh6oRxV"
      },
      "source": [
        "### Using the API"
      ]
    },
    {
      "cell_type": "markdown",
      "metadata": {
        "id": "cTbwrxS1oRxW"
      },
      "source": [
        "Let's start by copying over the URL that Foursquare provided us in the documentation [here](https://location.foursquare.com/developer/reference/place-details)."
      ]
    },
    {
      "cell_type": "markdown",
      "metadata": {
        "id": "-ijca-C_oRxX"
      },
      "source": [
        "1. First, we'll write a function that returns the root url for search."
      ]
    },
    {
      "cell_type": "markdown",
      "metadata": {
        "id": "9QDsWlZuoRxY"
      },
      "source": [
        "> We did it for you."
      ]
    },
    {
      "cell_type": "code",
      "execution_count": 15,
      "metadata": {
        "id": "4sR6HsxjoRxY"
      },
      "outputs": [],
      "source": [
        "import requests\n",
        "\n",
        "def search_url():\n",
        "    url = \"https://api.foursquare.com/v3/places/search\"\n",
        "    return url"
      ]
    },
    {
      "cell_type": "code",
      "execution_count": 16,
      "metadata": {
        "id": "418aWQv0oRxa",
        "outputId": "56d671df-4dfe-4cff-8712-747c8599fe93",
        "colab": {
          "base_uri": "https://localhost:8080/",
          "height": 36
        }
      },
      "outputs": [
        {
          "output_type": "execute_result",
          "data": {
            "text/plain": [
              "'https://api.foursquare.com/v3/places/search'"
            ],
            "application/vnd.google.colaboratory.intrinsic+json": {
              "type": "string"
            }
          },
          "metadata": {},
          "execution_count": 16
        }
      ],
      "source": [
        "search_url()\n",
        "# \"url = \"https://api.foursquare.com/v3/places/search\""
      ]
    },
    {
      "cell_type": "code",
      "source": [],
      "metadata": {
        "id": "FCou3BI0_fpn"
      },
      "execution_count": 2,
      "outputs": []
    },
    {
      "cell_type": "markdown",
      "metadata": {
        "id": "xfHXaSYkoRxb"
      },
      "source": [
        "2. Querying Params"
      ]
    },
    {
      "cell_type": "markdown",
      "metadata": {
        "id": "rK8hJp7WoRxb"
      },
      "source": [
        "Now write a function that will take in a dictionary of parameters (which you can see below) and then return the parameters string -- with each set of parameters separated by a `&`."
      ]
    },
    {
      "cell_type": "code",
      "source": [
        "params = {'ll': \"40.7,-74\", \"query\": \"tacos\"}\n",
        "# string_sets = list(params.items())\n",
        "combinded_strings = [f'{k}={v}' for k, v in params.items()]\n",
        "\"&\".join(combinded_strings )"
      ],
      "metadata": {
        "id": "6dbjFQc4_q8w",
        "outputId": "b33cc55b-dad0-48ab-9bef-a69a9aefc96e",
        "colab": {
          "base_uri": "https://localhost:8080/",
          "height": 36
        }
      },
      "execution_count": 8,
      "outputs": [
        {
          "output_type": "execute_result",
          "data": {
            "text/plain": [
              "'ll=40.7,-74&query=tacos'"
            ],
            "application/vnd.google.colaboratory.intrinsic+json": {
              "type": "string"
            }
          },
          "metadata": {},
          "execution_count": 8
        }
      ]
    },
    {
      "cell_type": "code",
      "execution_count": 9,
      "metadata": {
        "id": "Volu1bIBoRxc",
        "outputId": "fe7e5a69-c805-493c-c338-0e9957ebc902",
        "colab": {
          "base_uri": "https://localhost:8080/",
          "height": 36
        }
      },
      "outputs": [
        {
          "output_type": "execute_result",
          "data": {
            "text/plain": [
              "'ll=40.7,-74&query=tacos'"
            ],
            "application/vnd.google.colaboratory.intrinsic+json": {
              "type": "string"
            }
          },
          "metadata": {},
          "execution_count": 9
        }
      ],
      "source": [
        "def params_string(params):\n",
        "    return '&'.join(f'{k}={v}' for k, v in params.items())\n",
        "\n",
        "\n",
        "\n",
        "params = {'ll': \"40.7,-74\", \"query\": \"tacos\"}\n",
        "params_string(params)\n",
        "# 'll=40.7,-74&query=tacos'"
      ]
    },
    {
      "cell_type": "markdown",
      "metadata": {
        "id": "pKnaZ4f1oRxc"
      },
      "source": [
        "3. Constructing the full string"
      ]
    },
    {
      "cell_type": "markdown",
      "metadata": {
        "id": "cwGiPxOvoRxc"
      },
      "source": [
        "Ok, now let's write a function that calls the `search_url` function to return the root_url, and calls the params string function to return the full url."
      ]
    },
    {
      "cell_type": "code",
      "execution_count": 22,
      "metadata": {
        "id": "cblNhMNMoRxc"
      },
      "outputs": [],
      "source": [
        "import requests\n",
        "\n",
        "def query_venues_url(params):\n",
        "    url = search_url()\n",
        "    params_str = params_string(params)\n",
        "    return '?'.join((url, params_str))"
      ]
    },
    {
      "cell_type": "code",
      "execution_count": 23,
      "metadata": {
        "id": "gax1Zg9uoRxc",
        "outputId": "2ef2718a-4433-43c8-b095-50bfb061bfe5",
        "colab": {
          "base_uri": "https://localhost:8080/",
          "height": 36
        }
      },
      "outputs": [
        {
          "output_type": "execute_result",
          "data": {
            "text/plain": [
              "'https://api.foursquare.com/v3/places/search?ll=40.7,-74&query=tacos'"
            ],
            "application/vnd.google.colaboratory.intrinsic+json": {
              "type": "string"
            }
          },
          "metadata": {},
          "execution_count": 23
        }
      ],
      "source": [
        "params = {'ll': \"40.7,-74\", \"query\": \"tacos\"}\n",
        "query_venues_url(params)\n",
        "# # 'https://api.foursquare.com/v3/places/search?ll=40.7,-74&query=tacos'"
      ]
    },
    {
      "cell_type": "markdown",
      "metadata": {
        "id": "9XROYeIjoRxd"
      },
      "source": [
        "6. Querying the API"
      ]
    },
    {
      "cell_type": "markdown",
      "metadata": {
        "id": "5OKBT6JZoRxd"
      },
      "source": [
        "Now query the API, using the `query_venues_url` function above.  \n",
        "\n",
        "Remember that you'll also need to pass through the headers with the authorization when making the request.\n",
        "\n",
        "But the url should be generated with the `query_venues_url` function."
      ]
    },
    {
      "cell_type": "code",
      "execution_count": 30,
      "metadata": {
        "id": "nC5J4v0WoRxd",
        "outputId": "c97bfbe8-acd9-4a66-9673-63529234f4b3",
        "colab": {
          "base_uri": "https://localhost:8080/"
        }
      },
      "outputs": [
        {
          "output_type": "execute_result",
          "data": {
            "text/plain": [
              "200"
            ]
          },
          "metadata": {},
          "execution_count": 30
        }
      ],
      "source": [
        "# fill in headers here\n",
        "headers = {\n",
        "    \"accept\": \"application/json\",\n",
        "    'Authorization':'fsq3nszaKfndX6pLAVOJYhQX7TbZyvSalqQkYXfkWuPD+VQ='\n",
        "}\n",
        "url = query_venues_url(params)\n",
        "response = requests.get(url, headers=headers)\n",
        "response.status_code"
      ]
    },
    {
      "cell_type": "markdown",
      "metadata": {
        "id": "U0pXiR5ZoRxd"
      },
      "source": [
        "Finally, let's create a function called `query_api` that provided parameters returns our json response data from the API."
      ]
    },
    {
      "cell_type": "code",
      "execution_count": 31,
      "metadata": {
        "id": "O1IsvTI0oRxe"
      },
      "outputs": [],
      "source": [
        "import requests\n",
        "def query_api(params):\n",
        "    headers = {\n",
        "    \"accept\": \"application/json\",\n",
        "    'Authorization':'fsq3nszaKfndX6pLAVOJYhQX7TbZyvSalqQkYXfkWuPD+VQ='\n",
        "    }\n",
        "    url = query_venues_url(params)\n",
        "    response = requests.get(url, headers=headers)\n",
        "    return response.json()"
      ]
    },
    {
      "cell_type": "code",
      "execution_count": 38,
      "metadata": {
        "id": "TBQszFTIoRxe",
        "outputId": "b2a130b6-72bd-458b-be56-0bce78dfee33",
        "colab": {
          "base_uri": "https://localhost:8080/"
        }
      },
      "outputs": [
        {
          "output_type": "execute_result",
          "data": {
            "text/plain": [
              "{'fsq_id': '5d5f24ec09484500079aee00',\n",
              " 'categories': [{'id': 13306,\n",
              "   'name': 'Taco Restaurant',\n",
              "   'short_name': 'Tacos',\n",
              "   'plural_name': 'Taco Restaurants',\n",
              "   'icon': {'prefix': 'https://ss3.4sqi.net/img/categories_v2/food/taco_',\n",
              "    'suffix': '.png'}}],\n",
              " 'chains': [],\n",
              " 'closed_bucket': 'VeryLikelyOpen',\n",
              " 'distance': 1748,\n",
              " 'geocodes': {'drop_off': {'latitude': 40.71416, 'longitude': -74.008566},\n",
              "  'main': {'latitude': 40.71429, 'longitude': -74.00873},\n",
              "  'roof': {'latitude': 40.71429, 'longitude': -74.00873}},\n",
              " 'link': '/v3/places/5d5f24ec09484500079aee00',\n",
              " 'location': {'address': '136 Church St',\n",
              "  'census_block': '360610021001006',\n",
              "  'country': 'US',\n",
              "  'cross_street': 'btw Murray & Warren',\n",
              "  'dma': 'New York',\n",
              "  'formatted_address': '136 Church St (btw Murray & Warren), New York, NY 10007',\n",
              "  'locality': 'New York',\n",
              "  'postcode': '10007',\n",
              "  'region': 'NY'},\n",
              " 'name': 'Los Tacos No. 1',\n",
              " 'related_places': {},\n",
              " 'timezone': 'America/New_York'}"
            ]
          },
          "metadata": {},
          "execution_count": 38
        }
      ],
      "source": [
        "result = query_api(params)\n",
        "# result\n",
        "result['results'][0]\n",
        "# {'results': [{'fsq_id': '5d5f24ec09484500079aee00',\n",
        "#    'categories': [{'id': 13306,\n",
        "#      'name': 'Taco Restaurant',\n",
        "#      'icon': {'prefix': 'https://ss3.4sqi.net/img/categories_v2/food/taco_',\n",
        "#       'suffix': '.png'}}],"
      ]
    },
    {
      "cell_type": "code",
      "source": [
        "headers = {\n",
        "    \"accept\": \"application/json\",\n",
        "    'Authorization':'fsq3nszaKfndX6pLAVOJYhQX7TbZyvSalqQkYXfkWuPD+VQ='\n",
        "    }"
      ],
      "metadata": {
        "id": "7GdG4J_gN4LT"
      },
      "execution_count": 60,
      "outputs": []
    },
    {
      "cell_type": "markdown",
      "metadata": {
        "id": "4vatfoZxoRxf"
      },
      "source": [
        "7. Query venues"
      ]
    },
    {
      "cell_type": "markdown",
      "metadata": {
        "id": "dP5jvg0PoRxf"
      },
      "source": [
        "Now write a method that only returns a list of venues.  Notice that each venue has a key of `fsq_id` which is the foursquare id."
      ]
    },
    {
      "cell_type": "code",
      "execution_count": 39,
      "metadata": {
        "id": "Ph3M0CKGoRxf"
      },
      "outputs": [],
      "source": [
        "def venue_search(params):\n",
        "    headers = {\n",
        "    \"accept\": \"application/json\",\n",
        "    'Authorization':'fsq3nszaKfndX6pLAVOJYhQX7TbZyvSalqQkYXfkWuPD+VQ='\n",
        "    }\n",
        "    url = query_venues_url(params)\n",
        "    response = requests.get(url, headers=headers)\n",
        "    result = response.json()\n",
        "    return result['results']"
      ]
    },
    {
      "cell_type": "code",
      "execution_count": 40,
      "metadata": {
        "id": "ny96deqMoRxf",
        "outputId": "4dc2e4a9-5b63-4d5a-eee3-b90c239fc845",
        "colab": {
          "base_uri": "https://localhost:8080/"
        }
      },
      "outputs": [
        {
          "output_type": "execute_result",
          "data": {
            "text/plain": [
              "{'fsq_id': '5d5f24ec09484500079aee00',\n",
              " 'categories': [{'id': 13306,\n",
              "   'name': 'Taco Restaurant',\n",
              "   'short_name': 'Tacos',\n",
              "   'plural_name': 'Taco Restaurants',\n",
              "   'icon': {'prefix': 'https://ss3.4sqi.net/img/categories_v2/food/taco_',\n",
              "    'suffix': '.png'}}],\n",
              " 'chains': [],\n",
              " 'closed_bucket': 'VeryLikelyOpen',\n",
              " 'distance': 1748,\n",
              " 'geocodes': {'drop_off': {'latitude': 40.71416, 'longitude': -74.008566},\n",
              "  'main': {'latitude': 40.71429, 'longitude': -74.00873},\n",
              "  'roof': {'latitude': 40.71429, 'longitude': -74.00873}},\n",
              " 'link': '/v3/places/5d5f24ec09484500079aee00',\n",
              " 'location': {'address': '136 Church St',\n",
              "  'census_block': '360610021001006',\n",
              "  'country': 'US',\n",
              "  'cross_street': 'btw Murray & Warren',\n",
              "  'dma': 'New York',\n",
              "  'formatted_address': '136 Church St (btw Murray & Warren), New York, NY 10007',\n",
              "  'locality': 'New York',\n",
              "  'postcode': '10007',\n",
              "  'region': 'NY'},\n",
              " 'name': 'Los Tacos No. 1',\n",
              " 'related_places': {},\n",
              " 'timezone': 'America/New_York'}"
            ]
          },
          "metadata": {},
          "execution_count": 40
        }
      ],
      "source": [
        "venues = venue_search(params)\n",
        "\n",
        "venue = venues[0]\n",
        "venue\n",
        "# {'fsq_id': '5d5f24ec09484500079aee00',\n",
        "#  'categories': [{'id': 13306,\n",
        "#    'name': 'Taco Restaurant',\n",
        "#    'icon': {'prefix': 'https://ss3.4sqi.net/img/categories_v2/food/taco_',\n",
        "#     'suffix': '.png'}}],\n",
        "#  'chains': [],\n",
        "#  'distance': 1748,\n",
        "#  'geocodes': {'main': {'latitude': 40.714345, 'longitude': -74.008688},\n",
        "#   'roof': {'latitude': 40.714345, 'longitude': -74.008688}},\n",
        "#  'link': '/v3/places/5d5f24ec09484500079aee00',\n",
        "#  'location': {'address': '136 Church St',"
      ]
    },
    {
      "cell_type": "markdown",
      "metadata": {
        "id": "ftEl7CtQoRxg"
      },
      "source": [
        "8. Write a method that will take a venue, and just return the id, name, and location as values -- where the id from the api comes from the `fsq_id`."
      ]
    },
    {
      "cell_type": "code",
      "execution_count": 46,
      "metadata": {
        "id": "XpF4nMCWoRxh"
      },
      "outputs": [],
      "source": [
        "def extract_details_from_venue(venue):\n",
        "  return {'id': venue['fsq_id'], 'name': venue['name'], 'location': [venue['geocodes']['main']['latitude'], venue['geocodes']['main']['longitude']]}\n"
      ]
    },
    {
      "cell_type": "code",
      "execution_count": 47,
      "metadata": {
        "id": "WVKn-0DyoRxh",
        "outputId": "7e4dc911-560b-4c05-dddd-619af600211c",
        "colab": {
          "base_uri": "https://localhost:8080/"
        }
      },
      "outputs": [
        {
          "output_type": "execute_result",
          "data": {
            "text/plain": [
              "{'id': '5d5f24ec09484500079aee00',\n",
              " 'name': 'Los Tacos No. 1',\n",
              " 'location': [40.71429, -74.00873]}"
            ]
          },
          "metadata": {},
          "execution_count": 47
        }
      ],
      "source": [
        "extract_details_from_venue(venue)\n",
        "# {'id': '5b2932a0f5e9d70039787cf2',\n",
        "#  'name': 'Los Tacos Al Pastor',\n",
        "#  'location': [40.70243624175102, -73.98753900608666]}"
      ]
    },
    {
      "cell_type": "markdown",
      "metadata": {
        "id": "Hc9xDIAJoRxh"
      },
      "source": [
        "9. Now write a function that does this for a list of venues."
      ]
    },
    {
      "cell_type": "code",
      "execution_count": 48,
      "metadata": {
        "id": "KgIzCHAaoRxh"
      },
      "outputs": [],
      "source": [
        "def extract_details_from_venues(venues):\n",
        "    return [{'id': venue['fsq_id'], 'name': venue['name'], 'location': [venue['geocodes']['main']['latitude'], venue['geocodes']['main']['longitude']]} for venue in venues]\n"
      ]
    },
    {
      "cell_type": "code",
      "execution_count": 49,
      "metadata": {
        "id": "LCRatVVToRxi",
        "outputId": "54832cac-d72d-4e46-b764-627c6720d9b3",
        "colab": {
          "base_uri": "https://localhost:8080/"
        }
      },
      "outputs": [
        {
          "output_type": "execute_result",
          "data": {
            "text/plain": [
              "[{'id': '5d5f24ec09484500079aee00',\n",
              "  'name': 'Los Tacos No. 1',\n",
              "  'location': [40.71429, -74.00873]},\n",
              " {'id': '61d5d22d8882c054d234c406',\n",
              "  'name': 'Los Tacos No. 1',\n",
              "  'location': [40.726213, -73.994709]},\n",
              " {'id': '5519c8d2498e63bcb8cf4f58',\n",
              "  'name': \"Chilo's\",\n",
              "  'location': [40.6883, -73.956838]},\n",
              " {'id': '5196b9ff498e8a6be4336a03',\n",
              "  'name': 'Los Tacos No. 1',\n",
              "  'location': [40.742011, -74.004939]}]"
            ]
          },
          "metadata": {},
          "execution_count": 49
        }
      ],
      "source": [
        "extract_details_from_venues(venues)[:4]\n",
        "# [{'id': '5d5f24ec09484500079aee00',\n",
        "#   'name': 'Los Tacos No 1 Church',\n",
        "#   'location': [40.714345, -74.008688]},\n",
        "#  {'id': '61d5d22d8882c054d234c406',\n",
        "#   'name': 'Los Tacos No. 1',\n",
        "#   'location': [40.726168, -73.99466]},\n",
        "#  {'id': '4c38ced2ae2da593576301c6',\n",
        "#   'name': 'Tacombi',\n",
        "#   'location': [40.723916, -73.993876]},\n",
        "#  {'id': '5519c8d2498e63bcb8cf4f58',\n",
        "#   'name': \"Chilo's\",\n",
        "#   'location': [40.6883, -73.956838]}]"
      ]
    },
    {
      "cell_type": "markdown",
      "metadata": {
        "id": "z2wQR3GIoRxi"
      },
      "source": [
        "### Working with an Individual Venue"
      ]
    },
    {
      "cell_type": "markdown",
      "metadata": {
        "id": "VMKrH9hZoRxj"
      },
      "source": [
        "For this section, you will need to move from working with the Search resource, as we have been above, to working with the [Foursquare Place Details](https://location.foursquare.com/developer/reference/place-details) resource."
      ]
    },
    {
      "cell_type": "markdown",
      "metadata": {
        "id": "P7qngBsroRxj"
      },
      "source": [
        "1. Write a function that provided an id returns the corresponding json of an individual restaurant."
      ]
    },
    {
      "cell_type": "code",
      "execution_count": 61,
      "metadata": {
        "id": "dsxKGfX1oRxj"
      },
      "outputs": [],
      "source": [
        "restaurant_id = \"5b2932a0f5e9d70039787cf2\"\n",
        "url = \"https://api.foursquare.com/v3/places/\"\n",
        "\n",
        "def get_details(restaurant_id):\n",
        "    response = requests.get(url+restaurant_id, headers=headers)\n",
        "    result = response.json()\n",
        "    return result\n"
      ]
    },
    {
      "cell_type": "code",
      "execution_count": 62,
      "metadata": {
        "id": "Qkc_igJGoRxj",
        "outputId": "dd65961a-eec0-4a63-af08-b62ba46fc99a",
        "colab": {
          "base_uri": "https://localhost:8080/"
        }
      },
      "outputs": [
        {
          "output_type": "execute_result",
          "data": {
            "text/plain": [
              "{'fsq_id': '5b2932a0f5e9d70039787cf2',\n",
              " 'categories': [{'id': 13306,\n",
              "   'name': 'Taco Restaurant',\n",
              "   'short_name': 'Tacos',\n",
              "   'plural_name': 'Taco Restaurants',\n",
              "   'icon': {'prefix': 'https://ss3.4sqi.net/img/categories_v2/food/taco_',\n",
              "    'suffix': '.png'}}],\n",
              " 'chains': [],\n",
              " 'closed_bucket': 'LikelyOpen',\n",
              " 'geocodes': {'drop_off': {'latitude': 40.702449, 'longitude': -73.987411},\n",
              "  'main': {'latitude': 40.702573, 'longitude': -73.987408},\n",
              "  'roof': {'latitude': 40.702573, 'longitude': -73.987408}},\n",
              " 'link': '/v3/places/5b2932a0f5e9d70039787cf2',\n",
              " 'location': {'address': '141 Front St',\n",
              "  'census_block': '360470021002009',\n",
              "  'country': 'US',\n",
              "  'cross_street': 'Pearl St',\n",
              "  'dma': 'New York',\n",
              "  'formatted_address': '141 Front St (Pearl St), New York, NY 11201',\n",
              "  'locality': 'New York',\n",
              "  'postcode': '11201',\n",
              "  'region': 'NY'},\n",
              " 'name': 'Los Tacos Al Pastor',\n",
              " 'related_places': {},\n",
              " 'timezone': 'America/New_York'}"
            ]
          },
          "metadata": {},
          "execution_count": 62
        }
      ],
      "source": [
        "venue_details = get_details(restaurant_id)\n",
        "venue_details\n",
        "\n",
        "# {'fsq_id': '5b2932a0f5e9d70039787cf2',\n",
        "#  'categories': [{'id': 13306,\n",
        "#    'name': 'Taco Restaurant',\n",
        "#    'icon': {'prefix': 'https://ss3.4sqi.net/img/categories_v2/food/taco_',\n",
        "#     'suffix': '.png'}}],\n",
        "#  'chains': [],\n",
        "#  'geocodes': {'main': {'latitude': 40.702628, 'longitude': -73.987366},\n",
        "#   'roof': {'latitude': 40.702628, 'longitude': -73.987366}},\n",
        "#  'link': '/v3/places/5b2932a0f5e9d70039787cf2',\n",
        "#  'location': {'address': '141 Front St',\n",
        "#   'census_block': '360470021002009',\n",
        "#   'country': 'US',\n",
        "#   'cross_street': 'Pearl St',\n",
        "#   'dma': 'New York',\n",
        "#   'formatted_address': '141 Front St (Pearl St), New York, NY 11201',\n",
        "#   'locality': 'New York',\n",
        "#   'postcode': '11201',\n",
        "#   'region': 'NY'},\n",
        "#  'name': 'Los Tacos Al Pastor',\n",
        "#  'related_places': {},\n",
        "#  'timezone': 'America/New_York'}\n"
      ]
    },
    {
      "cell_type": "markdown",
      "metadata": {
        "id": "2XKkdnLUoRxj"
      },
      "source": [
        "2. Write a function that retrieves the list of categories from an individual restaurant."
      ]
    },
    {
      "cell_type": "code",
      "execution_count": 63,
      "metadata": {
        "id": "ht4jB8SAoRxq"
      },
      "outputs": [],
      "source": [
        "def extract_categories(venue):\n",
        "    return [category['name'] for category in venue['categories']]"
      ]
    },
    {
      "cell_type": "code",
      "execution_count": 64,
      "metadata": {
        "id": "JD_dxV9xoRxq",
        "outputId": "b9a36656-5140-435e-f301-12422b5e23d6",
        "colab": {
          "base_uri": "https://localhost:8080/"
        }
      },
      "outputs": [
        {
          "output_type": "execute_result",
          "data": {
            "text/plain": [
              "['Taco Restaurant']"
            ]
          },
          "metadata": {},
          "execution_count": 64
        }
      ],
      "source": [
        "extract_categories(venue_details)\n",
        "# ['Taco Restaurant']"
      ]
    },
    {
      "cell_type": "markdown",
      "metadata": {
        "id": "zryCrdfyoRxr"
      },
      "source": [
        "3. Write a function that takes a query, and returns the restaurant name, location, and id (the fsq_id), and a list of categories.\n",
        "   \n",
        "> The list of dictionaries should be **sorted** by the id of each venue\n",
        "\n"
      ]
    },
    {
      "cell_type": "code",
      "execution_count": 70,
      "metadata": {
        "id": "xv8fMhMOoRxr"
      },
      "outputs": [],
      "source": [
        "def find_and_sort(params):\n",
        "    response = query_api(params)\n",
        "    venues = response['results']\n",
        "    venues_list = []\n",
        "    for venue in venues:\n",
        "      venue_details = extract_details_from_venue(venue)\n",
        "      categories = extract_categories(venue)\n",
        "      venue_details['categories'] = categories\n",
        "      venues_list.append(venue_details)\n",
        "\n",
        "    sorted_list = sorted(venues_list, key=lambda x: x['id'])\n",
        "    return sorted_list\n"
      ]
    },
    {
      "cell_type": "code",
      "execution_count": 72,
      "metadata": {
        "id": "ON1OQkQooRxr",
        "outputId": "030744b8-37b2-4078-dc6b-d2fea7846de4",
        "colab": {
          "base_uri": "https://localhost:8080/"
        }
      },
      "outputs": [
        {
          "output_type": "execute_result",
          "data": {
            "text/plain": [
              "[{'id': '5196b9ff498e8a6be4336a03',\n",
              "  'name': 'Los Tacos No. 1',\n",
              "  'location': [40.742011, -74.004939],\n",
              "  'categories': ['Fast Food Restaurant',\n",
              "   'Latin American Restaurant',\n",
              "   'Taco Restaurant']},\n",
              " {'id': '5519c8d2498e63bcb8cf4f58',\n",
              "  'name': \"Chilo's\",\n",
              "  'location': [40.6883, -73.956838],\n",
              "  'categories': ['Bar', 'Taco Restaurant']},\n",
              " {'id': '59580ce6db1d8148fee3d383',\n",
              "  'name': 'Los Tacos No. 1',\n",
              "  'location': [40.75743, -73.987507],\n",
              "  'categories': ['Fast Food Restaurant',\n",
              "   'Latin American Restaurant',\n",
              "   'Taco Restaurant']},\n",
              " {'id': '5d5f24ec09484500079aee00',\n",
              "  'name': 'Los Tacos No. 1',\n",
              "  'location': [40.71429, -74.00873],\n",
              "  'categories': ['Taco Restaurant']},\n",
              " {'id': '5e2f42dd354cad00073ba473',\n",
              "  'name': 'Taqueria Al Pastor',\n",
              "  'location': [40.703297, -73.918103],\n",
              "  'categories': ['Taco Restaurant']}]"
            ]
          },
          "metadata": {},
          "execution_count": 72
        }
      ],
      "source": [
        "sorted_vens = find_and_sort(params)\n",
        "sorted_vens[:5]\n",
        "\n",
        "# [{'id': '5196b9ff498e8a6be4336a03',\n",
        "#   'name': 'Los Tacos No. 1',\n",
        "#   'location': [40.742011, -74.004939],\n",
        "#   'categories': ['Fast Food Restaurant',\n",
        "#    'Latin American Restaurant',\n",
        "#    'Taco Restaurant']},\n",
        "#  {'id': '5519c8d2498e63bcb8cf4f58',\n",
        "#   'name': \"Chilo's\",\n",
        "#   'location': [40.6883, -73.956838],\n",
        "#   'categories': ['Bar', 'Taco Restaurant']},\n",
        "#  {'id': '59580ce6db1d8148fee3d383',\n",
        "#   'name': 'Los Tacos No. 1',\n",
        "#   'location': [40.75743, -73.987507],\n",
        "#   'categories': ['Fast Food Restaurant',\n",
        "#    'Latin American Restaurant',\n",
        "#    'Taco Restaurant']},\n",
        "#  {'id': '5d5f24ec09484500079aee00',\n",
        "#   'name': 'Los Tacos No. 1',\n",
        "#   'location': [40.71429, -74.00873],\n",
        "#   'categories': ['Taco Restaurant']},\n",
        "#  {'id': '5e2f42dd354cad00073ba473',\n",
        "#   'name': 'Taqueria Al Pastor',\n",
        "#   'location': [40.703297, -73.918103],\n",
        "#   'categories': ['Taco Restaurant']}]"
      ]
    },
    {
      "cell_type": "code",
      "source": [
        "import folium"
      ],
      "metadata": {
        "id": "3WF_PNGmYNFL"
      },
      "execution_count": 75,
      "outputs": []
    },
    {
      "cell_type": "code",
      "source": [
        "# nyc_lat_lon = (40.730610, -73.935242)\n",
        "m = folium.Map(location=(40.730610, -73.935242))\n",
        "for venue in sorted_vens:\n",
        "  lat = venue['location'][0]\n",
        "  lon = venue['location'][1]\n",
        "  folium.Marker(\n",
        "    location=[lat, lon],\n",
        "    tooltip=venue['name'],\n",
        "    # icon=folium.Icon(icon=\"cloud\"),\n",
        ").add_to(m)\n",
        "# m"
      ],
      "metadata": {
        "id": "fApjpv-CZ4qq"
      },
      "execution_count": 90,
      "outputs": []
    },
    {
      "cell_type": "code",
      "source": [
        "def get_params_location(params):\n",
        "  ll = params['ll']\n",
        "  lat, lon = ll.split(',')\n",
        "  return lat, lon\n",
        "\n"
      ],
      "metadata": {
        "id": "cge0V7LjeRZp"
      },
      "execution_count": 102,
      "outputs": []
    },
    {
      "cell_type": "code",
      "source": [
        "def plot_venues(params):\n",
        "  sorted_venues = find_and_sort(params, )\n",
        "  lat, lon = get_params_location(params)\n",
        "  m = folium.Map(location=(float(lat), float(lon)))\n",
        "  for venue in sorted_venues:\n",
        "    lat = venue['location'][0]\n",
        "    lon = venue['location'][1]\n",
        "    folium.Marker(\n",
        "      location=[lat, lon],\n",
        "      tooltip=venue['name'],\n",
        "  ).add_to(m)\n",
        "  return m"
      ],
      "metadata": {
        "id": "m-qxBkezeBf4"
      },
      "execution_count": 117,
      "outputs": []
    },
    {
      "cell_type": "code",
      "source": [
        "plot_venues(params)"
      ],
      "metadata": {
        "id": "A6d_cHKDe_4w",
        "outputId": "62b52cca-bee6-402b-8e18-837d245bd872",
        "colab": {
          "base_uri": "https://localhost:8080/",
          "height": 991
        }
      },
      "execution_count": 118,
      "outputs": [
        {
          "output_type": "execute_result",
          "data": {
            "text/plain": [
              "<folium.folium.Map at 0x77ff3fcdfca0>"
            ],
            "text/html": [
              "<div style=\"width:100%;\"><div style=\"position:relative;width:100%;height:0;padding-bottom:60%;\"><span style=\"color:#565656\">Make this Notebook Trusted to load map: File -> Trust Notebook</span><iframe srcdoc=\"&lt;!DOCTYPE html&gt;\n",
              "&lt;html&gt;\n",
              "&lt;head&gt;\n",
              "    \n",
              "    &lt;meta http-equiv=&quot;content-type&quot; content=&quot;text/html; charset=UTF-8&quot; /&gt;\n",
              "    \n",
              "        &lt;script&gt;\n",
              "            L_NO_TOUCH = false;\n",
              "            L_DISABLE_3D = false;\n",
              "        &lt;/script&gt;\n",
              "    \n",
              "    &lt;style&gt;html, body {width: 100%;height: 100%;margin: 0;padding: 0;}&lt;/style&gt;\n",
              "    &lt;style&gt;#map {position:absolute;top:0;bottom:0;right:0;left:0;}&lt;/style&gt;\n",
              "    &lt;script src=&quot;https://cdn.jsdelivr.net/npm/leaflet@1.9.3/dist/leaflet.js&quot;&gt;&lt;/script&gt;\n",
              "    &lt;script src=&quot;https://code.jquery.com/jquery-1.12.4.min.js&quot;&gt;&lt;/script&gt;\n",
              "    &lt;script src=&quot;https://cdn.jsdelivr.net/npm/bootstrap@5.2.2/dist/js/bootstrap.bundle.min.js&quot;&gt;&lt;/script&gt;\n",
              "    &lt;script src=&quot;https://cdnjs.cloudflare.com/ajax/libs/Leaflet.awesome-markers/2.0.2/leaflet.awesome-markers.js&quot;&gt;&lt;/script&gt;\n",
              "    &lt;link rel=&quot;stylesheet&quot; href=&quot;https://cdn.jsdelivr.net/npm/leaflet@1.9.3/dist/leaflet.css&quot;/&gt;\n",
              "    &lt;link rel=&quot;stylesheet&quot; href=&quot;https://cdn.jsdelivr.net/npm/bootstrap@5.2.2/dist/css/bootstrap.min.css&quot;/&gt;\n",
              "    &lt;link rel=&quot;stylesheet&quot; href=&quot;https://netdna.bootstrapcdn.com/bootstrap/3.0.0/css/bootstrap.min.css&quot;/&gt;\n",
              "    &lt;link rel=&quot;stylesheet&quot; href=&quot;https://cdn.jsdelivr.net/npm/@fortawesome/fontawesome-free@6.2.0/css/all.min.css&quot;/&gt;\n",
              "    &lt;link rel=&quot;stylesheet&quot; href=&quot;https://cdnjs.cloudflare.com/ajax/libs/Leaflet.awesome-markers/2.0.2/leaflet.awesome-markers.css&quot;/&gt;\n",
              "    &lt;link rel=&quot;stylesheet&quot; href=&quot;https://cdn.jsdelivr.net/gh/python-visualization/folium/folium/templates/leaflet.awesome.rotate.min.css&quot;/&gt;\n",
              "    \n",
              "            &lt;meta name=&quot;viewport&quot; content=&quot;width=device-width,\n",
              "                initial-scale=1.0, maximum-scale=1.0, user-scalable=no&quot; /&gt;\n",
              "            &lt;style&gt;\n",
              "                #map_c942269632fc638c43bf45dcce0b536a {\n",
              "                    position: relative;\n",
              "                    width: 100.0%;\n",
              "                    height: 100.0%;\n",
              "                    left: 0.0%;\n",
              "                    top: 0.0%;\n",
              "                }\n",
              "                .leaflet-container { font-size: 1rem; }\n",
              "            &lt;/style&gt;\n",
              "        \n",
              "&lt;/head&gt;\n",
              "&lt;body&gt;\n",
              "    \n",
              "    \n",
              "            &lt;div class=&quot;folium-map&quot; id=&quot;map_c942269632fc638c43bf45dcce0b536a&quot; &gt;&lt;/div&gt;\n",
              "        \n",
              "&lt;/body&gt;\n",
              "&lt;script&gt;\n",
              "    \n",
              "    \n",
              "            var map_c942269632fc638c43bf45dcce0b536a = L.map(\n",
              "                &quot;map_c942269632fc638c43bf45dcce0b536a&quot;,\n",
              "                {\n",
              "                    center: [40.7, -74.0],\n",
              "                    crs: L.CRS.EPSG3857,\n",
              "                    zoom: 10,\n",
              "                    zoomControl: true,\n",
              "                    preferCanvas: false,\n",
              "                }\n",
              "            );\n",
              "\n",
              "            \n",
              "\n",
              "        \n",
              "    \n",
              "            var tile_layer_e95fd32d79a6b5cf63bb59607c62a99c = L.tileLayer(\n",
              "                &quot;https://{s}.tile.openstreetmap.org/{z}/{x}/{y}.png&quot;,\n",
              "                {&quot;attribution&quot;: &quot;Data by \\u0026copy; \\u003ca target=\\&quot;_blank\\&quot; href=\\&quot;http://openstreetmap.org\\&quot;\\u003eOpenStreetMap\\u003c/a\\u003e, under \\u003ca target=\\&quot;_blank\\&quot; href=\\&quot;http://www.openstreetmap.org/copyright\\&quot;\\u003eODbL\\u003c/a\\u003e.&quot;, &quot;detectRetina&quot;: false, &quot;maxNativeZoom&quot;: 18, &quot;maxZoom&quot;: 18, &quot;minZoom&quot;: 0, &quot;noWrap&quot;: false, &quot;opacity&quot;: 1, &quot;subdomains&quot;: &quot;abc&quot;, &quot;tms&quot;: false}\n",
              "            ).addTo(map_c942269632fc638c43bf45dcce0b536a);\n",
              "        \n",
              "    \n",
              "            var marker_21f4f64019be3da298ab9a401013593e = L.marker(\n",
              "                [40.742011, -74.004939],\n",
              "                {}\n",
              "            ).addTo(map_c942269632fc638c43bf45dcce0b536a);\n",
              "        \n",
              "    \n",
              "            marker_21f4f64019be3da298ab9a401013593e.bindTooltip(\n",
              "                `&lt;div&gt;\n",
              "                     Los Tacos No. 1\n",
              "                 &lt;/div&gt;`,\n",
              "                {&quot;sticky&quot;: true}\n",
              "            );\n",
              "        \n",
              "    \n",
              "            var marker_ba9c5b0da1b642f0d49707f23f3a104c = L.marker(\n",
              "                [40.6883, -73.956838],\n",
              "                {}\n",
              "            ).addTo(map_c942269632fc638c43bf45dcce0b536a);\n",
              "        \n",
              "    \n",
              "            marker_ba9c5b0da1b642f0d49707f23f3a104c.bindTooltip(\n",
              "                `&lt;div&gt;\n",
              "                     Chilo&#x27;s\n",
              "                 &lt;/div&gt;`,\n",
              "                {&quot;sticky&quot;: true}\n",
              "            );\n",
              "        \n",
              "    \n",
              "            var marker_fbe72d89fd2de71878cfdb535dda670e = L.marker(\n",
              "                [40.75743, -73.987507],\n",
              "                {}\n",
              "            ).addTo(map_c942269632fc638c43bf45dcce0b536a);\n",
              "        \n",
              "    \n",
              "            marker_fbe72d89fd2de71878cfdb535dda670e.bindTooltip(\n",
              "                `&lt;div&gt;\n",
              "                     Los Tacos No. 1\n",
              "                 &lt;/div&gt;`,\n",
              "                {&quot;sticky&quot;: true}\n",
              "            );\n",
              "        \n",
              "    \n",
              "            var marker_e4f25828fb64a959ec14c41660c8527c = L.marker(\n",
              "                [40.71429, -74.00873],\n",
              "                {}\n",
              "            ).addTo(map_c942269632fc638c43bf45dcce0b536a);\n",
              "        \n",
              "    \n",
              "            marker_e4f25828fb64a959ec14c41660c8527c.bindTooltip(\n",
              "                `&lt;div&gt;\n",
              "                     Los Tacos No. 1\n",
              "                 &lt;/div&gt;`,\n",
              "                {&quot;sticky&quot;: true}\n",
              "            );\n",
              "        \n",
              "    \n",
              "            var marker_d74de45e249d65f8419495c9d6fd6bd3 = L.marker(\n",
              "                [40.703297, -73.918103],\n",
              "                {}\n",
              "            ).addTo(map_c942269632fc638c43bf45dcce0b536a);\n",
              "        \n",
              "    \n",
              "            marker_d74de45e249d65f8419495c9d6fd6bd3.bindTooltip(\n",
              "                `&lt;div&gt;\n",
              "                     Taqueria Al Pastor\n",
              "                 &lt;/div&gt;`,\n",
              "                {&quot;sticky&quot;: true}\n",
              "            );\n",
              "        \n",
              "    \n",
              "            var marker_3283de0e9477284caf618eecc540d4b4 = L.marker(\n",
              "                [40.751652, -73.977671],\n",
              "                {}\n",
              "            ).addTo(map_c942269632fc638c43bf45dcce0b536a);\n",
              "        \n",
              "    \n",
              "            marker_3283de0e9477284caf618eecc540d4b4.bindTooltip(\n",
              "                `&lt;div&gt;\n",
              "                     Los Tacos No. 1\n",
              "                 &lt;/div&gt;`,\n",
              "                {&quot;sticky&quot;: true}\n",
              "            );\n",
              "        \n",
              "    \n",
              "            var marker_7d6cb7274c60cb25c561cc71b2ac675e = L.marker(\n",
              "                [40.700023, -73.927665],\n",
              "                {}\n",
              "            ).addTo(map_c942269632fc638c43bf45dcce0b536a);\n",
              "        \n",
              "    \n",
              "            marker_7d6cb7274c60cb25c561cc71b2ac675e.bindTooltip(\n",
              "                `&lt;div&gt;\n",
              "                     Nene’s Deli Taqueria\n",
              "                 &lt;/div&gt;`,\n",
              "                {&quot;sticky&quot;: true}\n",
              "            );\n",
              "        \n",
              "    \n",
              "            var marker_fe6daea3b81d927b54a91f43381ca51a = L.marker(\n",
              "                [40.727878, -73.956967],\n",
              "                {}\n",
              "            ).addTo(map_c942269632fc638c43bf45dcce0b536a);\n",
              "        \n",
              "    \n",
              "            marker_fe6daea3b81d927b54a91f43381ca51a.bindTooltip(\n",
              "                `&lt;div&gt;\n",
              "                     Taqueria Ramirez\n",
              "                 &lt;/div&gt;`,\n",
              "                {&quot;sticky&quot;: true}\n",
              "            );\n",
              "        \n",
              "    \n",
              "            var marker_41077fa4716a5ba96529368d3c2c388e = L.marker(\n",
              "                [40.726213, -73.994709],\n",
              "                {}\n",
              "            ).addTo(map_c942269632fc638c43bf45dcce0b536a);\n",
              "        \n",
              "    \n",
              "            marker_41077fa4716a5ba96529368d3c2c388e.bindTooltip(\n",
              "                `&lt;div&gt;\n",
              "                     Los Tacos No. 1\n",
              "                 &lt;/div&gt;`,\n",
              "                {&quot;sticky&quot;: true}\n",
              "            );\n",
              "        \n",
              "    \n",
              "            var marker_db671fea9a20f34b8a794a354d39e8a7 = L.marker(\n",
              "                [40.678457, -73.982014],\n",
              "                {}\n",
              "            ).addTo(map_c942269632fc638c43bf45dcce0b536a);\n",
              "        \n",
              "    \n",
              "            marker_db671fea9a20f34b8a794a354d39e8a7.bindTooltip(\n",
              "                `&lt;div&gt;\n",
              "                     Nene’s Taqueria\n",
              "                 &lt;/div&gt;`,\n",
              "                {&quot;sticky&quot;: true}\n",
              "            );\n",
              "        \n",
              "&lt;/script&gt;\n",
              "&lt;/html&gt;\" style=\"position:absolute;width:100%;height:100%;left:0;top:0;border:none !important;\" allowfullscreen webkitallowfullscreen mozallowfullscreen></iframe></div></div>"
            ]
          },
          "metadata": {},
          "execution_count": 118
        }
      ]
    },
    {
      "cell_type": "markdown",
      "metadata": {
        "id": "e_TgumbzoRxr"
      },
      "source": [
        "4. Write a function to take a search query, and then plot the top results in a map with the folium library"
      ]
    }
  ],
  "metadata": {
    "kernelspec": {
      "display_name": "Python 3 (ipykernel)",
      "language": "python",
      "name": "python3"
    },
    "language_info": {
      "codemirror_mode": {
        "name": "ipython",
        "version": 3
      },
      "file_extension": ".py",
      "mimetype": "text/x-python",
      "name": "python",
      "nbconvert_exporter": "python",
      "pygments_lexer": "ipython3",
      "version": "3.11.5"
    },
    "colab": {
      "provenance": []
    }
  },
  "nbformat": 4,
  "nbformat_minor": 0
}