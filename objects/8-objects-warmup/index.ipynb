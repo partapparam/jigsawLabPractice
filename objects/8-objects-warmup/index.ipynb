{
  "cells": [
    {
      "cell_type": "markdown",
      "metadata": {
        "id": "y1H4tAaFVSUG"
      },
      "source": [
        "# Objects Warmup"
      ]
    },
    {
      "cell_type": "markdown",
      "metadata": {
        "id": "oU8V3zjPVSUM"
      },
      "source": [
        "### Selecting From an API"
      ]
    },
    {
      "cell_type": "markdown",
      "metadata": {
        "id": "3LWVqM2lVSUN"
      },
      "source": [
        "Let's start with our movies imdb dataset."
      ]
    },
    {
      "cell_type": "code",
      "execution_count": 7,
      "metadata": {
        "tags": [],
        "id": "Cs-jhDhRVSUV",
        "outputId": "d914f038-fb00-469b-f2f7-b9b8fe710281",
        "colab": {
          "base_uri": "https://localhost:8080/"
        }
      },
      "outputs": [
        {
          "output_type": "execute_result",
          "data": {
            "text/plain": [
              "[{'title': 'Avatar',\n",
              "  'genre': 'Action',\n",
              "  'budget': 237000000,\n",
              "  'runtime': 162.0,\n",
              "  'year': 2009,\n",
              "  'month': 12,\n",
              "  'revenue': 2787965087},\n",
              " {'title': \"Pirates of the Caribbean: At World's End\",\n",
              "  'genre': 'Adventure',\n",
              "  'budget': 300000000,\n",
              "  'runtime': 169.0,\n",
              "  'year': 2007,\n",
              "  'month': 5,\n",
              "  'revenue': 961000000},\n",
              " {'title': 'Spectre',\n",
              "  'genre': 'Action',\n",
              "  'budget': 245000000,\n",
              "  'runtime': 148.0,\n",
              "  'year': 2015,\n",
              "  'month': 10,\n",
              "  'revenue': 880674609}]"
            ]
          },
          "metadata": {},
          "execution_count": 7
        }
      ],
      "source": [
        "import pandas as pd\n",
        "url = \"https://raw.githubusercontent.com/python-fundamentals-jigsaw/mod-1-a-data-structures/master/3-coercing-filtering-data/imdb_movies.csv\"\n",
        "movies_df = pd.read_csv(url)\n",
        "movies = movies_df.to_dict('records')\n",
        "movies[:3]"
      ]
    },
    {
      "cell_type": "markdown",
      "metadata": {
        "id": "A5LdqlrNVSUZ"
      },
      "source": [
        "1. Begin by looping through the movies and adding a list of `movie_titles`, where each element is a different movie title."
      ]
    },
    {
      "cell_type": "code",
      "execution_count": 8,
      "metadata": {
        "id": "cJlV02hPVSUa"
      },
      "outputs": [],
      "source": [
        "titles = [movie['title'] for movie in movies]\n",
        "# titles[:3]\n",
        "# ['Avatar', \"Pirates of the Caribbean: At World's End\", 'Spectre']"
      ]
    },
    {
      "cell_type": "markdown",
      "metadata": {
        "id": "xBRZv4TrVSUb"
      },
      "source": [
        "2. Now let's select a single movie"
      ]
    },
    {
      "cell_type": "code",
      "execution_count": 3,
      "metadata": {
        "id": "T2zC0TJuVSUc"
      },
      "outputs": [],
      "source": [
        "first_movie = movies[0]"
      ]
    },
    {
      "cell_type": "code",
      "execution_count": 4,
      "metadata": {
        "id": "3xERw1TsVSUd",
        "outputId": "a23c1a6a-77cb-4db3-86ea-3cc9c62a1e70",
        "colab": {
          "base_uri": "https://localhost:8080/"
        }
      },
      "outputs": [
        {
          "output_type": "execute_result",
          "data": {
            "text/plain": [
              "{'title': 'Avatar',\n",
              " 'genre': 'Action',\n",
              " 'budget': 237000000,\n",
              " 'runtime': 162.0,\n",
              " 'year': 2009,\n",
              " 'month': 12,\n",
              " 'revenue': 2787965087}"
            ]
          },
          "metadata": {},
          "execution_count": 4
        }
      ],
      "source": [
        "first_movie"
      ]
    },
    {
      "cell_type": "markdown",
      "metadata": {
        "id": "4RKBTFxjVSUe"
      },
      "source": [
        "Now call `items` to coerce this dictionary into a list of key value tuples."
      ]
    },
    {
      "cell_type": "code",
      "execution_count": 9,
      "metadata": {
        "id": "X1Tau_2LVSUf",
        "outputId": "40cf6589-7d7e-47d4-a630-178b397cd8ff",
        "colab": {
          "base_uri": "https://localhost:8080/"
        }
      },
      "outputs": [
        {
          "output_type": "execute_result",
          "data": {
            "text/plain": [
              "[('title', 'Avatar'),\n",
              " ('genre', 'Action'),\n",
              " ('budget', 237000000),\n",
              " ('runtime', 162.0),\n",
              " ('year', 2009),\n",
              " ('month', 12),\n",
              " ('revenue', 2787965087)]"
            ]
          },
          "metadata": {},
          "execution_count": 9
        }
      ],
      "source": [
        "first_movie_items = [(k, v) for k, v in first_movie.items()]\n",
        "first_movie_items\n",
        "# dict_items([('title', 'Avatar'), ('genre', 'Action'),\n",
        "# ('budget', 237000000), ('runtime', 162.0), ('year', 2009),\n",
        "# ('month', 12), ('revenue', 2787965087)])"
      ]
    },
    {
      "cell_type": "code",
      "execution_count": 10,
      "metadata": {
        "id": "UtIJAgn4VSUg"
      },
      "outputs": [],
      "source": [
        "selected_attrs = ['title', 'budget', 'revenue']"
      ]
    },
    {
      "cell_type": "markdown",
      "metadata": {
        "id": "zxfHDBI_VSUh"
      },
      "source": [
        "Use dictionary comprehension to select only those attributes listed in `selected_attrs`."
      ]
    },
    {
      "cell_type": "markdown",
      "metadata": {
        "id": "nMhP0BGzVSUh"
      },
      "source": [
        "3. Then narrow down the list of attributes to just the `selected_attrs` for all movies."
      ]
    },
    {
      "cell_type": "code",
      "execution_count": 16,
      "metadata": {
        "id": "FEnja47aVSUh"
      },
      "outputs": [],
      "source": [
        "def get_movie_attr(movie, keys):\n",
        "  return {k: v for k, v in movie.items() if k in keys}"
      ]
    },
    {
      "cell_type": "code",
      "source": [
        "movies_list = [get_movie_attr(movie, selected_attrs) for movie in movies]\n",
        "movies_list[:3]"
      ],
      "metadata": {
        "id": "N6aSjd3LX5ZI",
        "outputId": "2e5b9910-f5e4-4095-af6f-f66acd69412f",
        "colab": {
          "base_uri": "https://localhost:8080/"
        }
      },
      "execution_count": 18,
      "outputs": [
        {
          "output_type": "execute_result",
          "data": {
            "text/plain": [
              "[{'title': 'Avatar', 'budget': 237000000, 'revenue': 2787965087},\n",
              " {'title': \"Pirates of the Caribbean: At World's End\",\n",
              "  'budget': 300000000,\n",
              "  'revenue': 961000000},\n",
              " {'title': 'Spectre', 'budget': 245000000, 'revenue': 880674609}]"
            ]
          },
          "metadata": {},
          "execution_count": 18
        }
      ]
    },
    {
      "cell_type": "markdown",
      "metadata": {
        "id": "lvXV-CnGVSUh"
      },
      "source": [
        "4. Next, create class called `Movie` that upon initialization takes the arguments of `title`, `budget` and revenue."
      ]
    },
    {
      "cell_type": "code",
      "execution_count": 20,
      "metadata": {
        "id": "AXD0DdziVSUi"
      },
      "outputs": [],
      "source": [
        "class Movie:\n",
        "  def __init__(self, title, budget, revenue):\n",
        "    self.title = title\n",
        "    self.budget = budget\n",
        "    self.revenue = revenue"
      ]
    },
    {
      "cell_type": "markdown",
      "metadata": {
        "id": "OInU9VyXVSUi"
      },
      "source": [
        "5. Finally, use `kwargs` to create a list of movies."
      ]
    },
    {
      "cell_type": "code",
      "execution_count": 22,
      "metadata": {
        "id": "JFH3Wy1CVSUi"
      },
      "outputs": [],
      "source": [
        "movie_class_list = [Movie(**movie) for movie in movies_list]"
      ]
    },
    {
      "cell_type": "code",
      "source": [
        "movie_class_list[0].__dict__"
      ],
      "metadata": {
        "id": "WShSOkp6Yg2x",
        "outputId": "4e325267-b8e9-4748-8e93-7a340324b204",
        "colab": {
          "base_uri": "https://localhost:8080/"
        }
      },
      "execution_count": 25,
      "outputs": [
        {
          "output_type": "execute_result",
          "data": {
            "text/plain": [
              "{'title': 'Avatar', 'budget': 237000000, 'revenue': 2787965087}"
            ]
          },
          "metadata": {},
          "execution_count": 25
        }
      ]
    }
  ],
  "metadata": {
    "kernelspec": {
      "display_name": "Python 3 (ipykernel)",
      "language": "python",
      "name": "python3"
    },
    "language_info": {
      "codemirror_mode": {
        "name": "ipython",
        "version": 3
      },
      "file_extension": ".py",
      "mimetype": "text/x-python",
      "name": "python",
      "nbconvert_exporter": "python",
      "pygments_lexer": "ipython3",
      "version": "3.10.9"
    },
    "colab": {
      "provenance": []
    }
  },
  "nbformat": 4,
  "nbformat_minor": 0
}