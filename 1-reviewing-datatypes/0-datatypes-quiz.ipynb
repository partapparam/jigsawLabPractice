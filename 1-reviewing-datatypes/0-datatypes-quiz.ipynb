{
  "cells": [
    {
      "cell_type": "markdown",
      "metadata": {
        "id": "oRLj-raMY0Ov"
      },
      "source": [
        "# Datatypes Quiz"
      ]
    },
    {
      "cell_type": "markdown",
      "metadata": {
        "id": "DSUlX95kY0Oz"
      },
      "source": [
        "### Introduction"
      ]
    },
    {
      "cell_type": "markdown",
      "metadata": {
        "id": "5mLajpl1Y0O0"
      },
      "source": [
        "In this lesson, we'll practice with reviewing lists, dictionaries, and loops.  Let's get started."
      ]
    },
    {
      "cell_type": "markdown",
      "metadata": {
        "id": "FhDYpZbSY0O0"
      },
      "source": [
        "### Structuring our Data"
      ]
    },
    {
      "cell_type": "markdown",
      "metadata": {
        "id": "caevGlzQY0O1"
      },
      "source": [
        "Let's take a look at the following chart:"
      ]
    },
    {
      "cell_type": "markdown",
      "metadata": {
        "id": "JtS3umMbY0O1"
      },
      "source": [
        "<img src=\"https://raw.githubusercontent.com/eng-6-22/mod-1-a-data-structures/main/1-reviewing-datatypes/presidency.png\" width=\"70%\">"
      ]
    },
    {
      "cell_type": "markdown",
      "metadata": {
        "id": "_7yCLrdbY0O1"
      },
      "source": [
        "Begin by creating a datatype to represent Thomas Jefferson.  The datatype should include information about his `name`, `party`, and `vice-presidents`."
      ]
    },
    {
      "cell_type": "markdown",
      "metadata": {
        "id": "eJYffLooY0O2"
      },
      "source": [
        "> Replace the word None below with the correct data structure."
      ]
    },
    {
      "cell_type": "code",
      "execution_count": 3,
      "metadata": {
        "colab": {
          "base_uri": "https://localhost:8080/"
        },
        "id": "sh8Ev_OaY0O2",
        "outputId": "a7a510da-fe82-4461-acbc-0815c152b031"
      },
      "outputs": [
        {
          "output_type": "execute_result",
          "data": {
            "text/plain": [
              "{'name': 'Thomas Jefferson',\n",
              " 'party': 'Democratic-Republican',\n",
              " 'vice-presidents': ['Aaron Burr', 'George Clinton']}"
            ]
          },
          "metadata": {},
          "execution_count": 3
        }
      ],
      "source": [
        "jefferson = {'name': 'Thomas Jefferson', 'party': 'Democratic-Republican', 'vice-presidents': ['Aaron Burr', 'George Clinton']}\n",
        "jefferson"
      ]
    },
    {
      "cell_type": "markdown",
      "metadata": {
        "id": "VkY6Ps_GY0O3"
      },
      "source": [
        "Next create a data structure that represents the collection of presidents.  Each of the presidents' attributes should be represented by the same datatypes -- only the actual data should change."
      ]
    },
    {
      "cell_type": "code",
      "execution_count": 12,
      "metadata": {
        "id": "b-T9fspSY0O4"
      },
      "outputs": [],
      "source": [
        "presidents = [{'name': 'George Washington', 'party': 'Unaffiliated', 'first_year': 1788, 'vice-presidents': ['John Adams']}, {'name': 'John Adams', 'party': 'Federalist','first_year': 1796, 'vice-presidents': ['Thomas Jefferson']}, {'name': 'Thomas Jefferson', 'party': 'Democratic-Republican','first_year': 1800, 'vice-presidents': ['Aaron Burr', 'George Clinton']}]"
      ]
    },
    {
      "cell_type": "markdown",
      "metadata": {
        "id": "RUd54rPNY0O4"
      },
      "source": [
        "Now, from the `presidents` created above, retrieve the middle president's `party`."
      ]
    },
    {
      "cell_type": "code",
      "execution_count": 8,
      "metadata": {
        "id": "sQgu99BEY0O4"
      },
      "outputs": [],
      "source": [
        "john_adams_party = presidents[1]['party']"
      ]
    },
    {
      "cell_type": "markdown",
      "metadata": {
        "id": "TOisQNLZY0O4"
      },
      "source": [
        "Now select the last three letters from  `john_adams_party` and make each of those letters capitalized, so you should see the following."
      ]
    },
    {
      "cell_type": "markdown",
      "metadata": {
        "id": "yHMFe5pqY0O5"
      },
      "source": [
        "> Feel free to use Google for the below."
      ]
    },
    {
      "cell_type": "code",
      "execution_count": 10,
      "metadata": {
        "colab": {
          "base_uri": "https://localhost:8080/"
        },
        "id": "nU7QLMSpY0O5",
        "outputId": "c61c6fd3-fbf8-466d-e638-d4303eb57dda"
      },
      "outputs": [
        {
          "output_type": "stream",
          "name": "stdout",
          "text": [
            "IST\n"
          ]
        }
      ],
      "source": [
        "john_adams_party_str = john_adams_party[-3:].upper()\n",
        "print(john_adams_party_str)\n",
        "\n",
        "# \"LIST\""
      ]
    },
    {
      "cell_type": "markdown",
      "metadata": {
        "id": "_1QbbJR7Y0O5"
      },
      "source": [
        "Next, write a some code that will store each of president's parties as a list."
      ]
    },
    {
      "cell_type": "code",
      "execution_count": 11,
      "metadata": {
        "colab": {
          "base_uri": "https://localhost:8080/"
        },
        "id": "UZiEyBs1Y0O5",
        "outputId": "dc8cd808-7deb-4ff5-9dab-31763ea95339"
      },
      "outputs": [
        {
          "output_type": "execute_result",
          "data": {
            "text/plain": [
              "['Unaffiliated', 'Federalist', 'Democratic-Republican']"
            ]
          },
          "metadata": {},
          "execution_count": 11
        }
      ],
      "source": [
        "parties = [president['party'] for president in presidents]\n",
        "parties\n",
        "# you should see something like the following\n",
        "# parties = ['Unaffiliated', 'Federalist', 'Democratic-Republican']"
      ]
    },
    {
      "cell_type": "markdown",
      "metadata": {
        "id": "zhoMZpLYY0O6"
      },
      "source": [
        "Now, from the `presidents` above, return a list that contains the first year of each president's presidency."
      ]
    },
    {
      "cell_type": "code",
      "execution_count": 14,
      "metadata": {
        "colab": {
          "base_uri": "https://localhost:8080/"
        },
        "id": "iz2zHq7jY0O6",
        "outputId": "40df7d8d-f38b-4231-dbca-1b200e2ebeb0"
      },
      "outputs": [
        {
          "output_type": "execute_result",
          "data": {
            "text/plain": [
              "[1788, 1796, 1800]"
            ]
          },
          "metadata": {},
          "execution_count": 14
        }
      ],
      "source": [
        "first_years = [president['first_year'] for president in presidents]\n",
        "first_years\n",
        "\n",
        "# first_years = [1788, 1796, 1800]"
      ]
    }
  ],
  "metadata": {
    "kernelspec": {
      "display_name": "Python 3 (ipykernel)",
      "language": "python",
      "name": "python3"
    },
    "language_info": {
      "codemirror_mode": {
        "name": "ipython",
        "version": 3
      },
      "file_extension": ".py",
      "mimetype": "text/x-python",
      "name": "python",
      "nbconvert_exporter": "python",
      "pygments_lexer": "ipython3",
      "version": "3.10.6"
    },
    "colab": {
      "provenance": []
    }
  },
  "nbformat": 4,
  "nbformat_minor": 0
}