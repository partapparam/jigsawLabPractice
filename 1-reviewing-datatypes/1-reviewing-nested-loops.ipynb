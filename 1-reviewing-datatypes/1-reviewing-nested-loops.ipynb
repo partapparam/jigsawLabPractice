{
  "cells": [
    {
      "cell_type": "markdown",
      "id": "4569aea3-f0c1-4f17-9d5c-0656aa8132fe",
      "metadata": {
        "id": "4569aea3-f0c1-4f17-9d5c-0656aa8132fe"
      },
      "source": [
        "# Nested Loops Lab"
      ]
    },
    {
      "cell_type": "markdown",
      "id": "f752ca01-1c1e-4f21-8072-0131624d9640",
      "metadata": {
        "id": "f752ca01-1c1e-4f21-8072-0131624d9640"
      },
      "source": [
        "### Introduction"
      ]
    },
    {
      "cell_type": "markdown",
      "id": "9baa7d1c-0e07-48c5-9db5-91dee3b5223f",
      "metadata": {
        "id": "9baa7d1c-0e07-48c5-9db5-91dee3b5223f"
      },
      "source": [
        "In this lesson, we'll review working with lists of dictionaries.  We'll be asked to select attributes from each dictionary in the list, and to coerce data in each dictionary.  When work on this task, we recommend operating on a single element before solving the problem for all of the elements -- so please, use that technique."
      ]
    },
    {
      "cell_type": "markdown",
      "id": "6ae24f21-11fb-4fdd-86aa-fa3d033ca028",
      "metadata": {
        "id": "6ae24f21-11fb-4fdd-86aa-fa3d033ca028"
      },
      "source": [
        "### Loading our Data"
      ]
    },
    {
      "cell_type": "code",
      "execution_count": 51,
      "id": "2d1c3897-f66b-4989-818d-76c7b90d7eb7",
      "metadata": {
        "id": "2d1c3897-f66b-4989-818d-76c7b90d7eb7"
      },
      "outputs": [],
      "source": [
        "url = \"https://en.wikipedia.org/wiki/List_of_most-streamed_songs_on_Spotify\"\n",
        "import pandas as pd\n",
        "\n",
        "dfs = pd.read_html(url)"
      ]
    },
    {
      "cell_type": "code",
      "execution_count": 52,
      "id": "a2942839-6c13-4d24-a6e9-db0c9a0b785d",
      "metadata": {
        "id": "a2942839-6c13-4d24-a6e9-db0c9a0b785d"
      },
      "outputs": [],
      "source": [
        "df = dfs[0]"
      ]
    },
    {
      "cell_type": "code",
      "execution_count": 53,
      "id": "fa6bd115-28e7-4901-88bd-6a1bf743cad1",
      "metadata": {
        "id": "fa6bd115-28e7-4901-88bd-6a1bf743cad1",
        "outputId": "575b3773-fcb5-47a1-a03c-ec1a377cb053",
        "colab": {
          "base_uri": "https://localhost:8080/"
        }
      },
      "outputs": [
        {
          "output_type": "execute_result",
          "data": {
            "text/plain": [
              "[{'Rank': '1',\n",
              "  'Song': '\"Blinding Lights\"',\n",
              "  'Artist(s)': 'The Weeknd',\n",
              "  'Streams (billions)': '3.730',\n",
              "  'Release date': 'November 29, 2019',\n",
              "  'Ref.': '[4][5]'},\n",
              " {'Rank': '2',\n",
              "  'Song': '\"Shape of You\"',\n",
              "  'Artist(s)': 'Ed Sheeran',\n",
              "  'Streams (billions)': '3.580',\n",
              "  'Release date': 'January 6, 2017',\n",
              "  'Ref.': '[6]'},\n",
              " {'Rank': '3',\n",
              "  'Song': '\"Someone You Loved\"',\n",
              "  'Artist(s)': 'Lewis Capaldi',\n",
              "  'Streams (billions)': '2.911',\n",
              "  'Release date': 'November 8, 2018',\n",
              "  'Ref.': '[7]'}]"
            ]
          },
          "metadata": {},
          "execution_count": 53
        }
      ],
      "source": [
        "songs = df.to_dict('records')\n",
        "songs[:3]"
      ]
    },
    {
      "cell_type": "markdown",
      "id": "57a087da-77f1-4311-a98f-5f854bc8ac14",
      "metadata": {
        "tags": [],
        "id": "57a087da-77f1-4311-a98f-5f854bc8ac14"
      },
      "source": [
        "### Working with our data"
      ]
    },
    {
      "cell_type": "markdown",
      "id": "6aea1c85-9166-425d-a7bb-a73c74edff4d",
      "metadata": {
        "id": "6aea1c85-9166-425d-a7bb-a73c74edff4d"
      },
      "source": [
        "Now that we've downloaded our data, let's start exploring it.  Begin by selecting the first element from our list of songs, and assign it to the variable `first_song`."
      ]
    },
    {
      "cell_type": "code",
      "execution_count": 54,
      "id": "3cbee826-59ff-48e1-824c-bf575d2ac501",
      "metadata": {
        "id": "3cbee826-59ff-48e1-824c-bf575d2ac501",
        "outputId": "e6e2e233-f589-40ab-e4ff-a8b8998b7c04",
        "colab": {
          "base_uri": "https://localhost:8080/"
        }
      },
      "outputs": [
        {
          "output_type": "execute_result",
          "data": {
            "text/plain": [
              "{'Rank': '1',\n",
              " 'Song': '\"Blinding Lights\"',\n",
              " 'Artist(s)': 'The Weeknd',\n",
              " 'Streams (billions)': '3.730',\n",
              " 'Release date': 'November 29, 2019',\n",
              " 'Ref.': '[4][5]'}"
            ]
          },
          "metadata": {},
          "execution_count": 54
        }
      ],
      "source": [
        "first_song = songs[0]\n",
        "\n",
        "first_song\n",
        "\n",
        "# {'Rank': '1',\n",
        "#  'Song[A]': '\"Blinding Lights\"',\n",
        "#  'Streams(billions)': '3.374',\n",
        "#  'Artist(s)': 'The Weeknd',\n",
        "#  'Release date': '29 November 2019',\n",
        "#  'Ref(s)': '[8][9]'}"
      ]
    },
    {
      "cell_type": "markdown",
      "id": "b86bc4ad-18a0-4f78-b29e-2480988549a3",
      "metadata": {
        "id": "b86bc4ad-18a0-4f78-b29e-2480988549a3"
      },
      "source": [
        "Now take a look at the last three albums in the list."
      ]
    },
    {
      "cell_type": "code",
      "execution_count": 55,
      "id": "18501091-8004-4ef4-85e3-89a4be591ca4",
      "metadata": {
        "id": "18501091-8004-4ef4-85e3-89a4be591ca4",
        "outputId": "de36e92a-9be8-4969-e321-fc8cdaf304d1",
        "colab": {
          "base_uri": "https://localhost:8080/"
        }
      },
      "outputs": [
        {
          "output_type": "execute_result",
          "data": {
            "text/plain": [
              "[{'Rank': '99',\n",
              "  'Song': '\"I\\'m Yours\"',\n",
              "  'Artist(s)': 'Jason Mraz',\n",
              "  'Streams (billions)': '1.640',\n",
              "  'Release date': '1 May 2008',\n",
              "  'Ref.': '[130][131]'},\n",
              " {'Rank': '100',\n",
              "  'Song': '\"Despacito (remix)\"',\n",
              "  'Artist(s)': 'Luis Fonsi and Daddy Yankee featuring Justin Bieber',\n",
              "  'Streams (billions)': '1.640',\n",
              "  'Release date': '17 April 2017',\n",
              "  'Ref.': '[132][133]'},\n",
              " {'Rank': 'As of August 8th 2023',\n",
              "  'Song': 'As of August 8th 2023',\n",
              "  'Artist(s)': 'As of August 8th 2023',\n",
              "  'Streams (billions)': 'As of August 8th 2023',\n",
              "  'Release date': 'As of August 8th 2023',\n",
              "  'Ref.': 'As of August 8th 2023'}]"
            ]
          },
          "metadata": {},
          "execution_count": 55
        }
      ],
      "source": [
        "songs[-3:]\n",
        "\n",
        "# [{'Rank': '99',\n",
        "#   'Song[A]': '\"Sugar\"',\n",
        "#   'Streams(billions)': '1.498',\n",
        "#   'Artist(s)': 'Maroon 5',\n",
        "#   'Release date': '29 August 2014',\n",
        "#   'Ref(s)': '[143][144]'},\n",
        "#  {'Rank': '100',\n",
        "#   'Song[A]': '\"Youngblood\"',\n",
        "#   'Streams(billions)': '1.489',\n",
        "#   'Artist(s)': '5 Seconds of Summer',\n",
        "#   'Release date': '12 April 2018',\n",
        "#   'Ref(s)': '[145][146]'},\n",
        "#  {'Rank': 'As of 25 January 2023',\n",
        "#   'Song[A]': 'As of 25 January 2023',\n",
        "#   'Streams(billions)': 'As of 25 January 2023',\n",
        "#   'Artist(s)': 'As of 25 January 2023',\n",
        "#   'Release date': 'As of 25 January 2023',\n",
        "#   'Ref(s)': nan}]"
      ]
    },
    {
      "cell_type": "markdown",
      "id": "a912803f-de51-4e88-b854-896f80f3a0ca",
      "metadata": {
        "id": "a912803f-de51-4e88-b854-896f80f3a0ca"
      },
      "source": [
        "It looks like the last song is not a song at all, so instead select all songs except for the last one and assign it to a list called `selected_songs`."
      ]
    },
    {
      "cell_type": "code",
      "execution_count": 56,
      "id": "e6fde108-f928-4c1e-97b8-894b534a2249",
      "metadata": {
        "id": "e6fde108-f928-4c1e-97b8-894b534a2249"
      },
      "outputs": [],
      "source": [
        "selected_songs = []\n",
        "songs.pop()\n",
        "selected_songs = songs"
      ]
    },
    {
      "cell_type": "code",
      "execution_count": 57,
      "id": "70f24acb-4b46-4e26-8930-c959a0ae70b0",
      "metadata": {
        "id": "70f24acb-4b46-4e26-8930-c959a0ae70b0",
        "outputId": "a57c0db1-8a1a-46c6-9eb4-0acf66aaac32",
        "colab": {
          "base_uri": "https://localhost:8080/"
        }
      },
      "outputs": [
        {
          "output_type": "execute_result",
          "data": {
            "text/plain": [
              "100"
            ]
          },
          "metadata": {},
          "execution_count": 57
        }
      ],
      "source": [
        "len(selected_songs)\n",
        "\n",
        "# 100"
      ]
    },
    {
      "cell_type": "markdown",
      "id": "6fb9f554-cf51-4743-864c-d6a9a47a34cc",
      "metadata": {
        "id": "6fb9f554-cf51-4743-864c-d6a9a47a34cc"
      },
      "source": [
        "And let's confirm that the last song is in fact a song.  Select the last song from `selected_songs`."
      ]
    },
    {
      "cell_type": "code",
      "execution_count": 58,
      "id": "34b8e191-704e-4695-900c-a1e75c688111",
      "metadata": {
        "id": "34b8e191-704e-4695-900c-a1e75c688111",
        "outputId": "efbbf0b6-de61-40b0-d279-d60d08735f36",
        "colab": {
          "base_uri": "https://localhost:8080/"
        }
      },
      "outputs": [
        {
          "output_type": "execute_result",
          "data": {
            "text/plain": [
              "{'Rank': '100',\n",
              " 'Song': '\"Despacito (remix)\"',\n",
              " 'Artist(s)': 'Luis Fonsi and Daddy Yankee featuring Justin Bieber',\n",
              " 'Streams (billions)': '1.640',\n",
              " 'Release date': '17 April 2017',\n",
              " 'Ref.': '[132][133]'}"
            ]
          },
          "metadata": {},
          "execution_count": 58
        }
      ],
      "source": [
        "last_song = selected_songs[-1]\n",
        "last_song\n",
        "\n",
        "# {'Rank': '100',\n",
        " # 'Song[A]': '\"Youngblood\"',\n",
        " # 'Streams(billions)': '1.489',\n",
        " # 'Artist(s)': '5 Seconds of Summer',\n",
        " # 'Release date': '12 April 2018',\n",
        " # 'Ref(s)': '[145][146]'}"
      ]
    },
    {
      "cell_type": "markdown",
      "id": "e0a126fe-0185-414e-822d-3a7a2de51e3a",
      "metadata": {
        "id": "e0a126fe-0185-414e-822d-3a7a2de51e3a"
      },
      "source": [
        "Selecting data.  Ok, now from the above list of dictionaries, let's create a a list of just the name of the each of the songs and assign it to the variable `names`."
      ]
    },
    {
      "cell_type": "code",
      "execution_count": 59,
      "id": "9d8ec494-d4c5-4dc2-a5e2-795da6c30075",
      "metadata": {
        "id": "9d8ec494-d4c5-4dc2-a5e2-795da6c30075"
      },
      "outputs": [],
      "source": [
        "names = []\n",
        "for song in selected_songs:\n",
        "  names.append(song['Song'])\n"
      ]
    },
    {
      "cell_type": "code",
      "execution_count": 60,
      "id": "c8dc6cfb-9484-4e37-9437-7c3d8c1a182c",
      "metadata": {
        "id": "c8dc6cfb-9484-4e37-9437-7c3d8c1a182c",
        "outputId": "06090615-903d-4e2e-cf03-8650866d2d86",
        "colab": {
          "base_uri": "https://localhost:8080/"
        }
      },
      "outputs": [
        {
          "output_type": "execute_result",
          "data": {
            "text/plain": [
              "['\"Blinding Lights\"', '\"Shape of You\"', '\"Someone You Loved\"']"
            ]
          },
          "metadata": {},
          "execution_count": 60
        }
      ],
      "source": [
        "names[:3]\n",
        "\n",
        "# ['\"Blinding Lights\"', '\"Shape of You\"', '\"Dance Monkey\"']"
      ]
    },
    {
      "cell_type": "markdown",
      "id": "24567a0e-c82d-412f-8f82-fbc1512ca025",
      "metadata": {
        "id": "24567a0e-c82d-412f-8f82-fbc1512ca025"
      },
      "source": [
        "Now find the *number* of artists that were listed more than once on the top 100 songs list."
      ]
    },
    {
      "cell_type": "code",
      "execution_count": 61,
      "id": "1866a55f-193f-45cf-a6aa-4c101d3f94f6",
      "metadata": {
        "id": "1866a55f-193f-45cf-a6aa-4c101d3f94f6",
        "outputId": "9e8c643b-1548-48ac-f4d9-bd9d90410f8b",
        "colab": {
          "base_uri": "https://localhost:8080/"
        }
      },
      "outputs": [
        {
          "output_type": "stream",
          "name": "stdout",
          "text": [
            "15\n"
          ]
        }
      ],
      "source": [
        "artists = set()\n",
        "dupes = set()\n",
        "for song in songs:\n",
        "  artist = song['Artist(s)']\n",
        "  if artist in artists:\n",
        "    dupes.add(artist)\n",
        "  else:\n",
        "    artists.add(artist)\n",
        "\n",
        "print(len(dupes))\n",
        "# 13"
      ]
    },
    {
      "cell_type": "markdown",
      "id": "112946c9-6353-4f88-a05c-6640c5d78ac3",
      "metadata": {
        "id": "112946c9-6353-4f88-a05c-6640c5d78ac3"
      },
      "source": [
        "Ok, now if we return to our original list of dictionaries, there is certain data that does not look like its of the correct type."
      ]
    },
    {
      "cell_type": "markdown",
      "id": "ac139c75-9788-434b-8a3d-4ea664d1d747",
      "metadata": {
        "id": "ac139c75-9788-434b-8a3d-4ea664d1d747"
      },
      "source": [
        "Change the `Rank` values to integers, and `Streams(billions)` to floats. It also looks like each of the songs names have an extra single or double quotation mark at the beginning and end of the songs.  Remove these extra quotation marks from each of the songs.\n",
        "\n",
        "Assign this new list of songs to the variable `coerced_songs`."
      ]
    },
    {
      "cell_type": "code",
      "execution_count": 62,
      "id": "fbeffc30-1e5e-479b-911e-af88d67fcce5",
      "metadata": {
        "id": "fbeffc30-1e5e-479b-911e-af88d67fcce5"
      },
      "outputs": [],
      "source": [
        "coerced_songs = []\n",
        "for song in songs:\n",
        "    song['Rank'] = int(song['Rank'])\n",
        "    song['Streams (billions)'] = float(song['Streams (billions)'])\n",
        "    song['Song'] = song['Song'].replace('\"', '')\n",
        "    coerced_songs.append(song)\n"
      ]
    },
    {
      "cell_type": "code",
      "execution_count": 63,
      "id": "ffdcb436-47c0-4408-a6dd-9331325075d0",
      "metadata": {
        "id": "ffdcb436-47c0-4408-a6dd-9331325075d0",
        "outputId": "7e9a2184-aee7-42b8-d33c-d1d2d1708af6",
        "colab": {
          "base_uri": "https://localhost:8080/"
        }
      },
      "outputs": [
        {
          "output_type": "execute_result",
          "data": {
            "text/plain": [
              "[{'Rank': 1,\n",
              "  'Song': 'Blinding Lights',\n",
              "  'Artist(s)': 'The Weeknd',\n",
              "  'Streams (billions)': 3.73,\n",
              "  'Release date': 'November 29, 2019',\n",
              "  'Ref.': '[4][5]'},\n",
              " {'Rank': 2,\n",
              "  'Song': 'Shape of You',\n",
              "  'Artist(s)': 'Ed Sheeran',\n",
              "  'Streams (billions)': 3.58,\n",
              "  'Release date': 'January 6, 2017',\n",
              "  'Ref.': '[6]'}]"
            ]
          },
          "metadata": {},
          "execution_count": 63
        }
      ],
      "source": [
        "coerced_songs[:2]\n",
        "\n",
        "# [{'Rank': 1,\n",
        "#   'Song[A]': 'Blinding Lights',\n",
        "#   'Streams(billions)': 3.374,\n",
        "#   'Artist(s)': 'The Weeknd',\n",
        "#   'Release date': '29 November 2019',\n",
        "#   'Ref(s)': '[8][9]'},\n",
        "#  {'Rank': 2,\n",
        "#   'Song[A]': 'Shape of You',\n",
        "#   'Streams(billions)': 3.354,\n",
        "#   'Artist(s)': 'Ed Sheeran',\n",
        "#   'Release date': '6 January 2017',\n",
        "#   'Ref(s)': '[10]'}]"
      ]
    },
    {
      "cell_type": "markdown",
      "id": "b2b19786-217f-46eb-a0eb-9e73e2c6f6b1",
      "metadata": {
        "id": "b2b19786-217f-46eb-a0eb-9e73e2c6f6b1"
      },
      "source": [
        "Now if we select the `Rank` and `Streams(Billions)` from any of the dictionaries, we should see that they are of type integer."
      ]
    },
    {
      "cell_type": "code",
      "execution_count": 64,
      "id": "ab1acf79-39f2-4e5c-8337-482006e05829",
      "metadata": {
        "id": "ab1acf79-39f2-4e5c-8337-482006e05829",
        "outputId": "124ffade-8ecc-49ff-8ada-7228fc040199",
        "colab": {
          "base_uri": "https://localhost:8080/"
        }
      },
      "outputs": [
        {
          "output_type": "execute_result",
          "data": {
            "text/plain": [
              "int"
            ]
          },
          "metadata": {},
          "execution_count": 64
        }
      ],
      "source": [
        "first_coerced = coerced_songs[0]\n",
        "\n",
        "type(first_coerced['Rank'])\n",
        "\n",
        "# int"
      ]
    },
    {
      "cell_type": "code",
      "execution_count": 65,
      "id": "3d12c7bb-e589-471b-9c26-7c9d2d6437c5",
      "metadata": {
        "id": "3d12c7bb-e589-471b-9c26-7c9d2d6437c5",
        "outputId": "97c18935-c312-415d-aeb8-e59ae9dea555",
        "colab": {
          "base_uri": "https://localhost:8080/"
        }
      },
      "outputs": [
        {
          "output_type": "execute_result",
          "data": {
            "text/plain": [
              "float"
            ]
          },
          "metadata": {},
          "execution_count": 65
        }
      ],
      "source": [
        "type(first_coerced['Streams (billions)'])\n",
        "\n",
        "# float"
      ]
    },
    {
      "cell_type": "markdown",
      "id": "f8f6eb9c-a452-40fc-8ee2-9767f5713509",
      "metadata": {
        "id": "f8f6eb9c-a452-40fc-8ee2-9767f5713509"
      },
      "source": [
        "And if we view the title of even the last song, we should see that the first character is no longer a quotation mark but a letter."
      ]
    },
    {
      "cell_type": "code",
      "execution_count": 66,
      "id": "6f5f1c50-067e-49e6-9cfd-070cc6fd0a44",
      "metadata": {
        "id": "6f5f1c50-067e-49e6-9cfd-070cc6fd0a44",
        "outputId": "f2a6587a-4ea4-4e6b-9fbf-e4bd1f5ce770",
        "colab": {
          "base_uri": "https://localhost:8080/",
          "height": 35
        }
      },
      "outputs": [
        {
          "output_type": "execute_result",
          "data": {
            "text/plain": [
              "'D'"
            ],
            "application/vnd.google.colaboratory.intrinsic+json": {
              "type": "string"
            }
          },
          "metadata": {},
          "execution_count": 66
        }
      ],
      "source": [
        "coerced_songs[-1]['Song'][:1]\n",
        "\n",
        "# 'Y'"
      ]
    },
    {
      "cell_type": "markdown",
      "id": "b6178a93-029c-4a71-8c3a-7a6f6d6e460a",
      "metadata": {
        "id": "b6178a93-029c-4a71-8c3a-7a6f6d6e460a"
      },
      "source": [
        "Now that we have this list of `coerced_songs`, let update our list of dictionaries even further.  If we look at one of the dictionaries, we'll see that date is hard to parse."
      ]
    },
    {
      "cell_type": "code",
      "execution_count": 67,
      "id": "0f59cfc0-ab7f-407b-bf82-ed1ea05cc619",
      "metadata": {
        "id": "0f59cfc0-ab7f-407b-bf82-ed1ea05cc619",
        "outputId": "62e087f1-da72-4f11-de99-a27c2ff443fd",
        "colab": {
          "base_uri": "https://localhost:8080/",
          "height": 35
        }
      },
      "outputs": [
        {
          "output_type": "execute_result",
          "data": {
            "text/plain": [
              "'November 29, 2019'"
            ],
            "application/vnd.google.colaboratory.intrinsic+json": {
              "type": "string"
            }
          },
          "metadata": {},
          "execution_count": 67
        }
      ],
      "source": [
        "coerced_songs[0]['Release date']\n",
        "\n"
      ]
    },
    {
      "cell_type": "markdown",
      "id": "a3c12a98-5eac-469f-9731-fa787547dc21",
      "metadata": {
        "id": "a3c12a98-5eac-469f-9731-fa787547dc21"
      },
      "source": [
        "We'd like to create three new keys on each of the dictionaries and of day, month and year.  Also remove the date published key, as the information in this key would then be duplicative."
      ]
    },
    {
      "cell_type": "markdown",
      "id": "b5b0f1e8-b315-44f3-b51f-9b67650ded39",
      "metadata": {
        "id": "b5b0f1e8-b315-44f3-b51f-9b67650ded39"
      },
      "source": [
        "> You can delete a key from a dictionary with the pop method."
      ]
    },
    {
      "cell_type": "code",
      "execution_count": null,
      "id": "d68dbd4d-a1f3-4173-aaac-647f5e5b413a",
      "metadata": {
        "id": "d68dbd4d-a1f3-4173-aaac-647f5e5b413a",
        "outputId": "cb3c90ab-def2-4f63-be09-1546ba9aed2b"
      },
      "outputs": [
        {
          "data": {
            "text/plain": [
              "'29 November 2019'"
            ]
          },
          "execution_count": 94,
          "metadata": {},
          "output_type": "execute_result"
        }
      ],
      "source": [
        "blinding_lights = {'Rank': 1,\n",
        " 'Song[A]': 'Blinding Lights',\n",
        " 'Streams(billions)': 3.374,\n",
        " 'Artist(s)': 'The Weeknd',\n",
        " 'Release date': '29 November 2019',\n",
        " 'Ref(s)': '[8][9]'}\n",
        "\n",
        "blinding_lights.pop('Release date')"
      ]
    },
    {
      "cell_type": "code",
      "execution_count": null,
      "id": "d488f222-23b7-46ab-8254-a3a9157291c3",
      "metadata": {
        "id": "d488f222-23b7-46ab-8254-a3a9157291c3",
        "outputId": "6690f44a-44d9-42f5-980d-36d5d39f9354"
      },
      "outputs": [
        {
          "data": {
            "text/plain": [
              "{'Rank': 1,\n",
              " 'Song[A]': 'Blinding Lights',\n",
              " 'Streams(billions)': 3.374,\n",
              " 'Artist(s)': 'The Weeknd',\n",
              " 'Ref(s)': '[8][9]'}"
            ]
          },
          "execution_count": 95,
          "metadata": {},
          "output_type": "execute_result"
        }
      ],
      "source": [
        "blinding_lights"
      ]
    },
    {
      "cell_type": "markdown",
      "id": "3a7326ea-c915-42a8-b287-61250227c34d",
      "metadata": {
        "id": "3a7326ea-c915-42a8-b287-61250227c34d"
      },
      "source": [
        "Ok, so create three new keys of `day`, `month` and year for each of our `coerced_songs` and then remove the `'Date published'` key."
      ]
    },
    {
      "cell_type": "markdown",
      "id": "0b3fe2d1-8073-4f92-b18d-6c2f8df43343",
      "metadata": {
        "id": "0b3fe2d1-8073-4f92-b18d-6c2f8df43343"
      },
      "source": [
        "Assign the new list to the variable `dated_songs`."
      ]
    },
    {
      "cell_type": "markdown",
      "id": "e7db9a2c-3171-4356-b1da-b5c088ba4cd9",
      "metadata": {
        "id": "e7db9a2c-3171-4356-b1da-b5c088ba4cd9"
      },
      "source": [
        "> Hint: It's easier if you solve accomplish this for one song first, before trying to solve this for all songs."
      ]
    },
    {
      "cell_type": "markdown",
      "id": "e55bf1d2-e080-48f4-9096-8a8a2f7e4fea",
      "metadata": {
        "id": "e55bf1d2-e080-48f4-9096-8a8a2f7e4fea"
      },
      "source": [
        "Assign the result to the variable `dated_songs`."
      ]
    },
    {
      "cell_type": "code",
      "execution_count": 68,
      "id": "f71fe086-42d9-47ea-a448-c3e818f219f8",
      "metadata": {
        "id": "f71fe086-42d9-47ea-a448-c3e818f219f8",
        "outputId": "86f7a71d-76ec-4d28-99ba-5f1e0b4889d2",
        "colab": {
          "base_uri": "https://localhost:8080/"
        }
      },
      "outputs": [
        {
          "output_type": "stream",
          "name": "stdout",
          "text": [
            "[{'Rank': 1, 'Song': 'Blinding Lights', 'Artist(s)': 'The Weeknd', 'Streams (billions)': 3.73, 'Ref.': '[4][5]', 'day': '29,', 'month': 'November', 'year': '2019'}, {'Rank': 2, 'Song': 'Shape of You', 'Artist(s)': 'Ed Sheeran', 'Streams (billions)': 3.58, 'Ref.': '[6]', 'day': '6,', 'month': 'January', 'year': '2017'}, {'Rank': 3, 'Song': 'Someone You Loved', 'Artist(s)': 'Lewis Capaldi', 'Streams (billions)': 2.911, 'Ref.': '[7]', 'day': '8,', 'month': 'November', 'year': '2018'}]\n"
          ]
        }
      ],
      "source": [
        "dated_songs = []\n",
        "for song in coerced_songs:\n",
        "    dates = song['Release date'].split(' ')\n",
        "    if (dates[0].isnumeric()):\n",
        "      song['day'] = dates[0]\n",
        "      song['month'] = dates[1]\n",
        "    if (dates[0].isalpha()):\n",
        "      song['day'] = dates[1]\n",
        "      song['month'] = dates[0]\n",
        "\n",
        "    song['year'] = dates[2]\n",
        "    song.pop('Release date')\n",
        "    dated_songs.append(song)\n",
        "print(dated_songs[:3])\n",
        "\n"
      ]
    },
    {
      "cell_type": "code",
      "execution_count": null,
      "id": "8db8940d-c3b1-46e5-b51b-cd037f41be24",
      "metadata": {
        "id": "8db8940d-c3b1-46e5-b51b-cd037f41be24"
      },
      "outputs": [],
      "source": [
        "# dated_songs[:2]\n",
        "\n",
        "# [{'Rank': 1,\n",
        "#   'Song[A]': 'Blinding Lights',\n",
        "#   'Streams(billions)': 3.374,\n",
        "#   'Artist(s)': 'The Weeknd',\n",
        "#   'Release date': '29 November 2019',\n",
        "#   'Ref(s)': '[8][9]',\n",
        "#   'day': 29,\n",
        "#   'month': 'November',\n",
        "#   'year': 2019},\n",
        "#  {'Rank': 2,\n",
        "#   'Song[A]': 'Shape of You',\n",
        "#   'Streams(billions)': 3.354,\n",
        "#   'Artist(s)': 'Ed Sheeran',\n",
        "#   'Release date': '6 January 2017',\n",
        "#   'Ref(s)': '[10]',\n",
        "#   'day': 6,\n",
        "#   'month': 'January',\n",
        "#   'year': 2017}]"
      ]
    },
    {
      "cell_type": "markdown",
      "id": "f19e4e76-e1cb-4fb1-b09c-b923a500923e",
      "metadata": {
        "id": "f19e4e76-e1cb-4fb1-b09c-b923a500923e"
      },
      "source": [
        "### Bonus"
      ]
    },
    {
      "cell_type": "markdown",
      "id": "461962a4-ebe5-460a-a032-ba0d28d47d30",
      "metadata": {
        "id": "461962a4-ebe5-460a-a032-ba0d28d47d30"
      },
      "source": [
        "Ok, now remember that we like to convert as many values as possible to numbers.  One of the attributes that perhaps should be a number is the month.  We'd like to convert `January` to `1` and `November` to `11` for example.  We'll get you started with this by creating a dictionary that has the keys and corresponding value for each month.  "
      ]
    },
    {
      "cell_type": "code",
      "execution_count": 37,
      "id": "c7d784de-f2fc-460b-a05e-0a33736c2957",
      "metadata": {
        "id": "c7d784de-f2fc-460b-a05e-0a33736c2957"
      },
      "outputs": [],
      "source": [
        "month_nums = {'January': 1, 'February': 2, 'March': 3, 'April': 4, 'May': 5, 'June': 6, 'July': 7, 'August': 8, 'September': 9, 'October': 10, 'November': 11, 'December': 12}"
      ]
    },
    {
      "cell_type": "markdown",
      "id": "52314a9a-e00c-404b-8424-3fc9adfb766f",
      "metadata": {
        "id": "52314a9a-e00c-404b-8424-3fc9adfb766f"
      },
      "source": [
        "And now notice that if we pass the month as any key, we are returned the corresponding value."
      ]
    },
    {
      "cell_type": "code",
      "execution_count": null,
      "id": "bcb97b14-ae44-4c6b-b37b-003d246ef3f3",
      "metadata": {
        "id": "bcb97b14-ae44-4c6b-b37b-003d246ef3f3",
        "outputId": "45c76b95-c0ac-4f4c-8f42-930c2d846ab6"
      },
      "outputs": [
        {
          "data": {
            "text/plain": [
              "1"
            ]
          },
          "execution_count": 97,
          "metadata": {},
          "output_type": "execute_result"
        }
      ],
      "source": [
        "month_nums['January']"
      ]
    },
    {
      "cell_type": "markdown",
      "id": "89d265fa-984c-4575-a3d1-61cf242904ba",
      "metadata": {
        "id": "89d265fa-984c-4575-a3d1-61cf242904ba"
      },
      "source": [
        "So use the above, to convert each of the `dated_songs` month attributes to the corresponding number.  Assign the result to the list `formatted_songs`."
      ]
    },
    {
      "cell_type": "code",
      "execution_count": 69,
      "id": "3a6a9fc1-9a16-43bb-a856-a6aeb04f996d",
      "metadata": {
        "id": "3a6a9fc1-9a16-43bb-a856-a6aeb04f996d",
        "outputId": "dec349af-3150-4a34-8460-71eaa670f535",
        "colab": {
          "base_uri": "https://localhost:8080/"
        }
      },
      "outputs": [
        {
          "output_type": "stream",
          "name": "stdout",
          "text": [
            "[{'Rank': 1, 'Song': 'Blinding Lights', 'Artist(s)': 'The Weeknd', 'Streams (billions)': 3.73, 'Ref.': '[4][5]', 'day': '29,', 'month': 'November', 'year': '2019'}, {'Rank': 2, 'Song': 'Shape of You', 'Artist(s)': 'Ed Sheeran', 'Streams (billions)': 3.58, 'Ref.': '[6]', 'day': '6,', 'month': 'January', 'year': '2017'}]\n",
            "[{'Rank': 1, 'Song': 'Blinding Lights', 'Artist(s)': 'The Weeknd', 'Streams (billions)': 3.73, 'Ref.': '[4][5]', 'day': '29,', 'month': 11, 'year': '2019'}, {'Rank': 2, 'Song': 'Shape of You', 'Artist(s)': 'Ed Sheeran', 'Streams (billions)': 3.58, 'Ref.': '[6]', 'day': '6,', 'month': 1, 'year': '2017'}, {'Rank': 3, 'Song': 'Someone You Loved', 'Artist(s)': 'Lewis Capaldi', 'Streams (billions)': 2.911, 'Ref.': '[7]', 'day': '8,', 'month': 11, 'year': '2018'}, {'Rank': 4, 'Song': 'Dance Monkey', 'Artist(s)': 'Tones and I', 'Streams (billions)': 2.875, 'Ref.': '[8]', 'day': '10,', 'month': 5, 'year': '2019'}, {'Rank': 5, 'Song': 'Sunflower', 'Artist(s)': 'Post Malone and Swae Lee', 'Streams (billions)': 2.84, 'Ref.': '[9][10]', 'day': '18,', 'month': 10, 'year': '2018'}, {'Rank': 6, 'Song': 'Rockstar', 'Artist(s)': 'Post Malone featuring 21 Savage', 'Streams (billions)': 2.739, 'Ref.': '[10]', 'day': '15,', 'month': 9, 'year': '2017'}, {'Rank': 7, 'Song': 'One Dance', 'Artist(s)': 'Drake featuring Wizkid and Kyla', 'Streams (billions)': 2.731, 'Ref.': '[11][12]', 'day': '5,', 'month': 4, 'year': '2016'}, {'Rank': 8, 'Song': 'Stay', 'Artist(s)': 'The Kid Laroi and Justin Bieber', 'Streams (billions)': 2.689, 'Ref.': '[13]', 'day': '9,', 'month': 7, 'year': '2021'}, {'Rank': 9, 'Song': 'Believer', 'Artist(s)': 'Imagine Dragons', 'Streams (billions)': 2.614, 'Ref.': '[14][15]', 'day': '1,', 'month': 2, 'year': '2017'}, {'Rank': 10, 'Song': 'Closer', 'Artist(s)': 'The Chainsmokers featuring Halsey', 'Streams (billions)': 2.603, 'Ref.': '[16][17]', 'day': '29,', 'month': 7, 'year': '2016'}, {'Rank': 11, 'Song': 'Starboy', 'Artist(s)': 'The Weeknd featuring Daft Punk', 'Streams (billions)': 2.595, 'Ref.': '[18][5]', 'day': '21,', 'month': 9, 'year': '2016'}, {'Rank': 12, 'Song': 'Heat Waves', 'Artist(s)': 'Glass Animals', 'Streams (billions)': 2.583, 'Ref.': '[19][20]', 'day': '29,', 'month': 6, 'year': '2020'}, {'Rank': 13, 'Song': 'Perfect', 'Artist(s)': 'Ed Sheeran', 'Streams (billions)': 2.579, 'Ref.': '[6]', 'day': '3,', 'month': 3, 'year': '2017'}, {'Rank': 14, 'Song': 'As It Was', 'Artist(s)': 'Harry Styles', 'Streams (billions)': 2.559, 'Ref.': '[21][22]', 'day': '1,', 'month': 4, 'year': '2022'}, {'Rank': 15, 'Song': 'Señorita', 'Artist(s)': 'Shawn Mendes and Camila Cabello', 'Streams (billions)': 2.497, 'Ref.': '[23][24]', 'day': '21,', 'month': 6, 'year': '2019'}, {'Rank': 16, 'Song': \"Say You Won't Let Go\", 'Artist(s)': 'James Arthur', 'Streams (billions)': 2.436, 'Ref.': '[25]', 'day': '9,', 'month': 9, 'year': '2016'}, {'Rank': 17, 'Song': 'Lovely', 'Artist(s)': 'Billie Eilish and Khalid', 'Streams (billions)': 2.377, 'Ref.': '[26][27]', 'day': '19,', 'month': 4, 'year': '2018'}, {'Rank': 18, 'Song': 'Watermelon Sugar', 'Artist(s)': 'Harry Styles', 'Streams (billions)': 2.342, 'Ref.': '[28][22]', 'day': '13,', 'month': 12, 'year': '2019'}, {'Rank': 19, 'Song': 'Bad Guy', 'Artist(s)': 'Billie Eilish', 'Streams (billions)': 2.322, 'Ref.': '[29][27]', 'day': '29,', 'month': 3, 'year': '2019'}, {'Rank': 20, 'Song': \"Don't Start Now\", 'Artist(s)': 'Dua Lipa', 'Streams (billions)': 2.318, 'Ref.': '[30][31]', 'day': '1,', 'month': 11, 'year': '2019'}, {'Rank': 21, 'Song': 'Sweater Weather', 'Artist(s)': 'The Neighbourhood', 'Streams (billions)': 2.308, 'Ref.': '[32]', 'day': '28,', 'month': 3, 'year': '2012'}, {'Rank': 22, 'Song': 'Lucid Dreams', 'Artist(s)': 'Juice WRLD', 'Streams (billions)': 2.301, 'Ref.': '[33][34]', 'day': '4,', 'month': 5, 'year': '2018'}, {'Rank': 23, 'Song': 'Thinking Out Loud', 'Artist(s)': 'Ed Sheeran', 'Streams (billions)': 2.291, 'Ref.': '[6]', 'day': '20,', 'month': 6, 'year': '2014'}, {'Rank': 24, 'Song': \"God's Plan\", 'Artist(s)': 'Drake', 'Streams (billions)': 2.265, 'Ref.': '[12]', 'day': '19,', 'month': 1, 'year': '2018'}, {'Rank': 25, 'Song': 'Photograph', 'Artist(s)': 'Ed Sheeran', 'Streams (billions)': 2.251, 'Ref.': '[6]', 'day': '20,', 'month': 6, 'year': '2014'}, {'Rank': 26, 'Song': 'Something Just Like This', 'Artist(s)': 'The Chainsmokers and Coldplay', 'Streams (billions)': 2.221, 'Ref.': '[17]', 'day': '22,', 'month': 2, 'year': '2017'}, {'Rank': 27, 'Song': 'Bohemian Rhapsody', 'Artist(s)': 'Queen', 'Streams (billions)': 2.211, 'Ref.': '[35][36]', 'day': '31,', 'month': 10, 'year': '1975'}, {'Rank': 28, 'Song': 'Shallow', 'Artist(s)': 'Lady Gaga and Bradley Cooper', 'Streams (billions)': 2.172, 'Ref.': '[37][38]', 'day': '27,', 'month': 9, 'year': '2018'}, {'Rank': 29, 'Song': 'Take Me to Church', 'Artist(s)': 'Hozier', 'Streams (billions)': 2.152, 'Ref.': '[39][40]', 'day': '13,', 'month': 9, 'year': '2013'}, {'Rank': 30, 'Song': 'Circles', 'Artist(s)': 'Post Malone', 'Streams (billions)': 2.149, 'Ref.': '[10]', 'day': '30,', 'month': 8, 'year': '2019'}, {'Rank': 31, 'Song': 'Love Yourself', 'Artist(s)': 'Justin Bieber', 'Streams (billions)': 2.136, 'Ref.': '[13]', 'day': '9,', 'month': 11, 'year': '2015'}, {'Rank': 32, 'Song': 'All of Me', 'Artist(s)': 'John Legend', 'Streams (billions)': 2.098, 'Ref.': '[41][42]', 'day': '12', 'month': 8, 'year': '2013'}, {'Rank': 33, 'Song': 'Thunder', 'Artist(s)': 'Imagine Dragons', 'Streams (billions)': 2.071, 'Ref.': '[15]', 'day': '27,', 'month': 4, 'year': '2017'}, {'Rank': 34, 'Song': 'SAD!', 'Artist(s)': 'XXXTentacion', 'Streams (billions)': 2.064, 'Ref.': '[43][44]', 'day': '1,', 'month': 3, 'year': '2018'}, {'Rank': 35, 'Song': '7 Rings', 'Artist(s)': 'Ariana Grande', 'Streams (billions)': 2.047, 'Ref.': '[45][46]', 'day': '18,', 'month': 1, 'year': '2019'}, {'Rank': 36, 'Song': 'goosebumps', 'Artist(s)': 'Travis Scott featuring Kendrick Lamar', 'Streams (billions)': 2.036, 'Ref.': '[47]', 'day': '2', 'month': 9, 'year': '2016'}, {'Rank': 37, 'Song': 'Riptide', 'Artist(s)': 'Vance Joy', 'Streams (billions)': 2.032, 'Ref.': '[48][49]', 'day': '21', 'month': 5, 'year': '2013'}, {'Rank': 38, 'Song': 'Counting Stars', 'Artist(s)': 'OneRepublic', 'Streams (billions)': 2.031, 'Ref.': '[50][51]', 'day': '25', 'month': 3, 'year': '2013'}, {'Rank': 39, 'Song': 'Stressed Out', 'Artist(s)': 'Twenty One Pilots', 'Streams (billions)': 2.003, 'Ref.': '[52]', 'day': '28', 'month': 4, 'year': '2015'}, {'Rank': 40, 'Song': 'Jocelyn Flores', 'Artist(s)': 'XXXTentacion', 'Streams (billions)': 1.997, 'Ref.': '[44]', 'day': '31', 'month': 10, 'year': '2017'}, {'Rank': 41, 'Song': 'Wake Me Up', 'Artist(s)': 'Avicii', 'Streams (billions)': 1.987, 'Ref.': '[53][54]', 'day': '17', 'month': 6, 'year': '2013'}, {'Rank': 42, 'Song': \"Can't Hold Us\", 'Artist(s)': 'Macklemore & Ryan Lewis featuring Ray Dalton', 'Streams (billions)': 1.973, 'Ref.': '[55][56]', 'day': '16', 'month': 8, 'year': '2011'}, {'Rank': 43, 'Song': 'The Hills', 'Artist(s)': 'The Weeknd', 'Streams (billions)': 1.961, 'Ref.': '[57][5]', 'day': '27', 'month': 5, 'year': '2015'}, {'Rank': 44, 'Song': 'Let Her Go', 'Artist(s)': 'Passenger', 'Streams (billions)': 1.943, 'Ref.': '[58][59]', 'day': '24', 'month': 7, 'year': '2012'}, {'Rank': 45, 'Song': 'Humble', 'Artist(s)': 'Kendrick Lamar', 'Streams (billions)': 1.942, 'Ref.': '[60][61]', 'day': '30', 'month': 3, 'year': '2017'}, {'Rank': 46, 'Song': 'XO Tour Llif3', 'Artist(s)': 'Lil Uzi Vert', 'Streams (billions)': 1.934, 'Ref.': '[62][63]', 'day': '24', 'month': 3, 'year': '2017'}, {'Rank': 47, 'Song': 'Havana', 'Artist(s)': 'Camila Cabello featuring Young Thug', 'Streams (billions)': 1.925, 'Ref.': '[64][65]', 'day': '3', 'month': 8, 'year': '2017'}, {'Rank': 48, 'Song': 'New Rules', 'Artist(s)': 'Dua Lipa', 'Streams (billions)': 1.912, 'Ref.': '[66][31]', 'day': '2', 'month': 6, 'year': '2017'}, {'Rank': 49, 'Song': 'One Kiss', 'Artist(s)': 'Calvin Harris and Dua Lipa', 'Streams (billions)': 1.912, 'Ref.': '[67][31]', 'day': '6', 'month': 4, 'year': '2018'}, {'Rank': 50, 'Song': 'Happier', 'Artist(s)': 'Marshmello and Bastille', 'Streams (billions)': 1.91, 'Ref.': '[68][69]', 'day': '17', 'month': 8, 'year': '2018'}, {'Rank': 51, 'Song': 'Good 4 U', 'Artist(s)': 'Olivia Rodrigo', 'Streams (billions)': 1.901, 'Ref.': '[70][71]', 'day': '14', 'month': 5, 'year': '2021'}, {'Rank': 52, 'Song': 'Sicko Mode', 'Artist(s)': 'Travis Scott featuring Drake', 'Streams (billions)': 1.894, 'Ref.': '[47]', 'day': '3', 'month': 8, 'year': '2018'}, {'Rank': 53, 'Song': 'Drivers License', 'Artist(s)': 'Olivia Rodrigo', 'Streams (billions)': 1.873, 'Ref.': '[72][71]', 'day': '8', 'month': 1, 'year': '2021'}, {'Rank': 54, 'Song': 'Let Me Love You', 'Artist(s)': 'DJ Snake featuring Justin Bieber', 'Streams (billions)': 1.864, 'Ref.': '[73][74]', 'day': '5', 'month': 8, 'year': '2016'}, {'Rank': 55, 'Song': 'Treat You Better', 'Artist(s)': 'Shawn Mendes', 'Streams (billions)': 1.862, 'Ref.': '[24]', 'day': '3', 'month': 6, 'year': '2016'}, {'Rank': 56, 'Song': 'Demons', 'Artist(s)': 'Imagine Dragons', 'Streams (billions)': 1.858, 'Ref.': '[15]', 'day': '4', 'month': 9, 'year': '2012'}, {'Rank': 57, 'Song': 'Sorry', 'Artist(s)': 'Justin Bieber', 'Streams (billions)': 1.847, 'Ref.': '[75][13]', 'day': '22', 'month': 10, 'year': '2015'}, {'Rank': 58, 'Song': 'Lose Yourself', 'Artist(s)': 'Eminem', 'Streams (billions)': 1.846, 'Ref.': '[76][77]', 'day': '28', 'month': 10, 'year': '2002'}, {'Rank': 59, 'Song': 'Another Love', 'Artist(s)': 'Tom Odell', 'Streams (billions)': 1.842, 'Ref.': '[78][79]', 'day': '24', 'month': 6, 'year': '2013'}, {'Rank': 60, 'Song': 'Industry Baby', 'Artist(s)': 'Lil Nas X featuring Jack Harlow', 'Streams (billions)': 1.826, 'Ref.': '[80][81]', 'day': '23', 'month': 7, 'year': '2021'}, {'Rank': 61, 'Song': 'Stay with Me', 'Artist(s)': 'Sam Smith', 'Streams (billions)': 1.826, 'Ref.': '[82][83]', 'day': '14', 'month': 4, 'year': '2014'}, {'Rank': 62, 'Song': 'Mr. Brightside', 'Artist(s)': 'The Killers', 'Streams (billions)': 1.821, 'Ref.': '[84][85]', 'day': '7', 'month': 6, 'year': '2004'}, {'Rank': 63, 'Song': 'Levitating', 'Artist(s)': 'Dua Lipa featuring DaBaby', 'Streams (billions)': 1.819, 'Ref.': '[86][31]', 'day': '1', 'month': 10, 'year': '2020'}, {'Rank': 64, 'Song': 'Lean On', 'Artist(s)': 'Major Lazer and DJ Snake featuring MØ', 'Streams (billions)': 1.817, 'Ref.': '[87][74]', 'day': '2', 'month': 3, 'year': '2015'}, {'Rank': 65, 'Song': 'Without Me', 'Artist(s)': 'Halsey', 'Streams (billions)': 1.813, 'Ref.': '[88][89]', 'day': '4', 'month': 10, 'year': '2018'}, {'Rank': 66, 'Song': 'No Role Modelz', 'Artist(s)': 'J. Cole', 'Streams (billions)': 1.811, 'Ref.': '[90][91]', 'day': '4', 'month': 8, 'year': '2014'}, {'Rank': 67, 'Song': 'Do I Wanna Know?', 'Artist(s)': 'Arctic Monkeys', 'Streams (billions)': 1.806, 'Ref.': '[92][93]', 'day': '19', 'month': 6, 'year': '2013'}, {'Rank': 68, 'Song': 'Too Good at Goodbyes', 'Artist(s)': 'Sam Smith', 'Streams (billions)': 1.795, 'Ref.': '[94][83]', 'day': '8', 'month': 9, 'year': '2017'}, {'Rank': 69, 'Song': 'Roses (Imanbek remix)', 'Artist(s)': 'Saint Jhn with Imanbek', 'Streams (billions)': 1.793, 'Ref.': '[95][96]', 'day': '18', 'month': 9, 'year': '2019'}, {'Rank': 70, 'Song': 'Congratulations', 'Artist(s)': 'Post Malone featuring Quavo', 'Streams (billions)': 1.791, 'Ref.': '[10]', 'day': '4', 'month': 11, 'year': '2016'}, {'Rank': 71, 'Song': 'Better Now', 'Artist(s)': 'Post Malone', 'Streams (billions)': 1.786, 'Ref.': '[97][10]', 'day': '27', 'month': 4, 'year': '2018'}, {'Rank': 72, 'Song': 'Yellow', 'Artist(s)': 'Coldplay', 'Streams (billions)': 1.781, 'Ref.': '[98]', 'day': '26', 'month': 6, 'year': '2000'}, {'Rank': 73, 'Song': 'Dakiti', 'Artist(s)': 'Bad Bunny and Jhay Cortez', 'Streams (billions)': 1.775, 'Ref.': '[99]', 'day': '30', 'month': 10, 'year': '2020'}, {'Rank': 74, 'Song': 'Uptown Funk', 'Artist(s)': 'Mark Ronson featuring Bruno Mars', 'Streams (billions)': 1.772, 'Ref.': '[100][101]', 'day': '10', 'month': 11, 'year': '2014'}, {'Rank': 75, 'Song': 'Memories', 'Artist(s)': 'Maroon 5', 'Streams (billions)': 1.771, 'Ref.': '[102][103]', 'day': '20', 'month': 9, 'year': '2019'}, {'Rank': 76, 'Song': 'Faded', 'Artist(s)': 'Alan Walker', 'Streams (billions)': 1.768, 'Ref.': '[104][105]', 'day': '3', 'month': 12, 'year': '2015'}, {'Rank': 77, 'Song': 'I Took a Pill in Ibiza (Seeb Remix)', 'Artist(s)': 'Mike Posner and Seeb', 'Streams (billions)': 1.756, 'Ref.': '[106][107]', 'day': '14', 'month': 4, 'year': '2015'}, {'Rank': 78, 'Song': 'Montero (Call Me by Your Name)', 'Artist(s)': 'Lil Nas X', 'Streams (billions)': 1.745, 'Ref.': '[108][81]', 'day': '26', 'month': 3, 'year': '2021'}, {'Rank': 79, 'Song': \"Don't Let Me Down\", 'Artist(s)': 'The Chainsmokers featuring Daya', 'Streams (billions)': 1.735, 'Ref.': '[17]', 'day': '5', 'month': 2, 'year': '2016'}, {'Rank': 80, 'Song': 'Thank U, Next', 'Artist(s)': 'Ariana Grande', 'Streams (billions)': 1.73, 'Ref.': '[109][46]', 'day': '3', 'month': 11, 'year': '2018'}, {'Rank': 81, 'Song': 'Unforgettable', 'Artist(s)': 'French Montana featuring Swae Lee', 'Streams (billions)': 1.729, 'Ref.': '[110][111]', 'day': '7', 'month': 4, 'year': '2017'}, {'Rank': 82, 'Song': \"There's Nothing Holdin' Me Back\", 'Artist(s)': 'Shawn Mendes', 'Streams (billions)': 1.729, 'Ref.': '[112][24]', 'day': '20', 'month': 4, 'year': '2017'}, {'Rank': 83, 'Song': 'Wonderwall', 'Artist(s)': 'Oasis', 'Streams (billions)': 1.719, 'Ref.': '[113][114]', 'day': '30', 'month': 10, 'year': '1995'}, {'Rank': 84, 'Song': \"That's What I Like\", 'Artist(s)': 'Bruno Mars', 'Streams (billions)': 1.716, 'Ref.': '[115][116]', 'day': '18', 'month': 11, 'year': '2016'}, {'Rank': 85, 'Song': \"I Don't Care\", 'Artist(s)': 'Ed Sheeran and Justin Bieber', 'Streams (billions)': 1.709, 'Ref.': '[117][6]', 'day': '10', 'month': 5, 'year': '2019'}, {'Rank': 86, 'Song': \"'Till I Collapse\", 'Artist(s)': 'Eminem featuring Nate Dogg', 'Streams (billions)': 1.707, 'Ref.': '[118][77]', 'day': '26', 'month': 5, 'year': '2002'}, {'Rank': 87, 'Song': 'Mood', 'Artist(s)': '24kGoldn and Iann Dior', 'Streams (billions)': 1.707, 'Ref.': '[119]', 'day': '24', 'month': 7, 'year': '2020'}, {'Rank': 88, 'Song': 'Without Me', 'Artist(s)': 'Eminem', 'Streams (billions)': 1.707, 'Ref.': '[77]', 'day': '15', 'month': 5, 'year': '2002'}, {'Rank': 89, 'Song': 'Smells Like Teen Spirit', 'Artist(s)': 'Nirvana', 'Streams (billions)': 1.705, 'Ref.': '[120][121]', 'day': '10', 'month': 9, 'year': '1991'}, {'Rank': 90, 'Song': 'Dynamite', 'Artist(s)': 'BTS', 'Streams (billions)': 1.702, 'Ref.': '[122][123]', 'day': '21', 'month': 8, 'year': '2020'}, {'Rank': 91, 'Song': 'Moonlight', 'Artist(s)': 'XXXTentacion', 'Streams (billions)': 1.691, 'Ref.': '[44]', 'day': '16', 'month': 3, 'year': '2018'}, {'Rank': 92, 'Song': 'When I Was Your Man', 'Artist(s)': 'Bruno Mars', 'Streams (billions)': 1.679, 'Ref.': '[116]', 'day': '7', 'month': 12, 'year': '2012'}, {'Rank': 93, 'Song': 'Die for You', 'Artist(s)': 'The Weeknd', 'Streams (billions)': 1.679, 'Ref.': '[5][124]', 'day': '25', 'month': 11, 'year': '2016'}, {'Rank': 94, 'Song': 'The Box', 'Artist(s)': 'Roddy Ricch', 'Streams (billions)': 1.674, 'Ref.': '[125][126]', 'day': '6', 'month': 12, 'year': '2019'}, {'Rank': 95, 'Song': 'Stitches', 'Artist(s)': 'Shawn Mendes', 'Streams (billions)': 1.671, 'Ref.': '[127][24]', 'day': '14', 'month': 4, 'year': '2015'}, {'Rank': 96, 'Song': \"Don't Stop Me Now\", 'Artist(s)': 'Queen', 'Streams (billions)': 1.661, 'Ref.': '[36]', 'day': '26', 'month': 1, 'year': '1979'}, {'Rank': 97, 'Song': 'Just The Way You Are', 'Artist(s)': 'Bruno Mars', 'Streams (billions)': 1.659, 'Ref.': '[116]', 'day': '10', 'month': 8, 'year': '2010'}, {'Rank': 98, 'Song': 'See You Again', 'Artist(s)': 'Wiz Khalifa featuring Charlie Puth', 'Streams (billions)': 1.648, 'Ref.': '[128][129]', 'day': '10', 'month': 3, 'year': '2015'}, {'Rank': 99, 'Song': \"I'm Yours\", 'Artist(s)': 'Jason Mraz', 'Streams (billions)': 1.64, 'Ref.': '[130][131]', 'day': '1', 'month': 5, 'year': '2008'}, {'Rank': 100, 'Song': 'Despacito (remix)', 'Artist(s)': 'Luis Fonsi and Daddy Yankee featuring Justin Bieber', 'Streams (billions)': 1.64, 'Ref.': '[132][133]', 'day': '17', 'month': 4, 'year': '2017'}]\n"
          ]
        }
      ],
      "source": [
        "formatted_songs = []\n",
        "print(coerced_songs[:2])\n",
        "for song in dated_songs:\n",
        "    song['month'] = month_nums[song['month']]\n",
        "    formatted_songs.append(song)\n",
        "print(formatted_songs)\n",
        "\n"
      ]
    },
    {
      "cell_type": "markdown",
      "id": "6bdbc201-4949-4ef1-91fd-0c2cbe16d956",
      "metadata": {
        "id": "6bdbc201-4949-4ef1-91fd-0c2cbe16d956"
      },
      "source": [
        "And now we can see that each of the songs is represented by a number."
      ]
    },
    {
      "cell_type": "code",
      "execution_count": 70,
      "id": "ddf441fe-e428-42cb-82b5-fbf07de7baab",
      "metadata": {
        "id": "ddf441fe-e428-42cb-82b5-fbf07de7baab",
        "outputId": "0176a8b2-9d4b-42e1-adcd-c8d75a6be378",
        "colab": {
          "base_uri": "https://localhost:8080/"
        }
      },
      "outputs": [
        {
          "output_type": "execute_result",
          "data": {
            "text/plain": [
              "11"
            ]
          },
          "metadata": {},
          "execution_count": 70
        }
      ],
      "source": [
        "formatted_songs[0]['month']"
      ]
    },
    {
      "cell_type": "code",
      "execution_count": 71,
      "id": "d4143fbe-c84b-47db-8920-29936bd7a22a",
      "metadata": {
        "id": "d4143fbe-c84b-47db-8920-29936bd7a22a",
        "outputId": "c714614d-465b-4eaa-8eb5-26d3436ab817",
        "colab": {
          "base_uri": "https://localhost:8080/"
        }
      },
      "outputs": [
        {
          "output_type": "execute_result",
          "data": {
            "text/plain": [
              "1"
            ]
          },
          "metadata": {},
          "execution_count": 71
        }
      ],
      "source": [
        "formatted_songs[1]['month']"
      ]
    },
    {
      "cell_type": "markdown",
      "id": "fcd2b903-0e42-443e-b35f-db1ae171b01b",
      "metadata": {
        "id": "fcd2b903-0e42-443e-b35f-db1ae171b01b"
      },
      "source": [
        "### Summary"
      ]
    },
    {
      "cell_type": "markdown",
      "id": "07d56f04-c8fb-41dd-bb4b-5fb1384f914e",
      "metadata": {
        "id": "07d56f04-c8fb-41dd-bb4b-5fb1384f914e"
      },
      "source": [
        "In this lesson, we practiced selecting and coercing individual attributes from a list of dictionaries.  Our main goal was to ensure that the attributes of each element were of the correct datatype, by coercing our data to numeric values when necessary."
      ]
    }
  ],
  "metadata": {
    "kernelspec": {
      "display_name": "Python 3 (ipykernel)",
      "language": "python",
      "name": "python3"
    },
    "language_info": {
      "codemirror_mode": {
        "name": "ipython",
        "version": 3
      },
      "file_extension": ".py",
      "mimetype": "text/x-python",
      "name": "python",
      "nbconvert_exporter": "python",
      "pygments_lexer": "ipython3",
      "version": "3.10.6"
    },
    "colab": {
      "provenance": []
    }
  },
  "nbformat": 4,
  "nbformat_minor": 5
}