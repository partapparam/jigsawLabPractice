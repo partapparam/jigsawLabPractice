{
  "cells": [
    {
      "cell_type": "markdown",
      "id": "c66a8ada-c9d4-4dc3-9ea2-967c2c015280",
      "metadata": {
        "id": "c66a8ada-c9d4-4dc3-9ea2-967c2c015280"
      },
      "source": [
        "# DataTypes Review Quiz - Strings, Dictionaries, Lists"
      ]
    },
    {
      "cell_type": "markdown",
      "id": "78db23f7-e610-4b8c-a41e-d77ce88617ad",
      "metadata": {
        "id": "78db23f7-e610-4b8c-a41e-d77ce88617ad"
      },
      "source": [
        "### Introduction"
      ]
    },
    {
      "cell_type": "markdown",
      "id": "d756cee7-8575-4b51-bb74-ce017c34889b",
      "metadata": {
        "id": "d756cee7-8575-4b51-bb74-ce017c34889b"
      },
      "source": [
        "In this quiz, we'll review some of our functions with lists, dictionaries, and strings."
      ]
    },
    {
      "cell_type": "markdown",
      "id": "3c1063e1-c4e2-4f9d-83e9-3e9e5835b27d",
      "metadata": {
        "id": "3c1063e1-c4e2-4f9d-83e9-3e9e5835b27d"
      },
      "source": [
        "### Downloading our Data"
      ]
    },
    {
      "cell_type": "code",
      "execution_count": 1,
      "id": "ac0e1bd4-05d0-4c90-b699-6796b0f610b5",
      "metadata": {
        "id": "ac0e1bd4-05d0-4c90-b699-6796b0f610b5"
      },
      "outputs": [],
      "source": [
        "import pandas as pd\n",
        "url = \"https://raw.githubusercontent.com/fivethirtyeight/data/master/congress-age/congress-terms.csv\"\n",
        "\n",
        "df = pd.read_csv(url)\n",
        "congress_persons = df.to_dict('records')"
      ]
    },
    {
      "cell_type": "code",
      "execution_count": 2,
      "id": "b7276e18-9869-4425-9628-8da9a769bb60",
      "metadata": {
        "id": "b7276e18-9869-4425-9628-8da9a769bb60",
        "outputId": "c656b236-7cc4-410d-d775-91b697f31ba7",
        "colab": {
          "base_uri": "https://localhost:8080/"
        }
      },
      "outputs": [
        {
          "output_type": "execute_result",
          "data": {
            "text/plain": [
              "[{'congress': 80,\n",
              "  'chamber': 'house',\n",
              "  'bioguide': 'M000112',\n",
              "  'firstname': 'Joseph',\n",
              "  'middlename': 'Jefferson',\n",
              "  'lastname': 'Mansfield',\n",
              "  'suffix': nan,\n",
              "  'birthday': '1861-02-09',\n",
              "  'state': 'TX',\n",
              "  'party': 'D',\n",
              "  'incumbent': 'Yes',\n",
              "  'termstart': '1947-01-03',\n",
              "  'age': 85.9},\n",
              " {'congress': 80,\n",
              "  'chamber': 'house',\n",
              "  'bioguide': 'D000448',\n",
              "  'firstname': 'Robert',\n",
              "  'middlename': 'Lee',\n",
              "  'lastname': 'Doughton',\n",
              "  'suffix': nan,\n",
              "  'birthday': '1863-11-07',\n",
              "  'state': 'NC',\n",
              "  'party': 'D',\n",
              "  'incumbent': 'Yes',\n",
              "  'termstart': '1947-01-03',\n",
              "  'age': 83.2}]"
            ]
          },
          "metadata": {},
          "execution_count": 2
        }
      ],
      "source": [
        "congress_persons[:2]"
      ]
    },
    {
      "cell_type": "markdown",
      "id": "3387e099-c56d-42f0-a777-aa204918c9b6",
      "metadata": {
        "id": "3387e099-c56d-42f0-a777-aa204918c9b6"
      },
      "source": [
        "### Exploring our Data"
      ]
    },
    {
      "cell_type": "markdown",
      "id": "40af6e4c-65a7-47b2-a0ae-321c8a2455d6",
      "metadata": {
        "id": "40af6e4c-65a7-47b2-a0ae-321c8a2455d6"
      },
      "source": [
        "Let's begin by selecting the first element in the list above."
      ]
    },
    {
      "cell_type": "code",
      "execution_count": 4,
      "id": "1d2b9968-91a7-4a55-acc5-0ac975cd5c53",
      "metadata": {
        "id": "1d2b9968-91a7-4a55-acc5-0ac975cd5c53",
        "outputId": "4aced65c-d9a3-466e-d6ee-45f969c96c00",
        "colab": {
          "base_uri": "https://localhost:8080/"
        }
      },
      "outputs": [
        {
          "output_type": "execute_result",
          "data": {
            "text/plain": [
              "{'congress': 80,\n",
              " 'chamber': 'house',\n",
              " 'bioguide': 'M000112',\n",
              " 'firstname': 'Joseph',\n",
              " 'middlename': 'Jefferson',\n",
              " 'lastname': 'Mansfield',\n",
              " 'suffix': nan,\n",
              " 'birthday': '1861-02-09',\n",
              " 'state': 'TX',\n",
              " 'party': 'D',\n",
              " 'incumbent': 'Yes',\n",
              " 'termstart': '1947-01-03',\n",
              " 'age': 85.9}"
            ]
          },
          "metadata": {},
          "execution_count": 4
        }
      ],
      "source": [
        "mansfield = congress_persons[0]\n",
        "\n",
        "mansfield\n",
        "\n",
        "# {'congress': 80,\n",
        "#  'chamber': 'house',\n",
        "#  'bioguide': 'M000112',\n",
        "#  'firstname': 'Joseph',\n",
        "#  'middlename': 'Jefferson',\n",
        "#  'lastname': 'Mansfield',\n",
        "#  'suffix': nan,\n",
        "#  'birthday': '1861-02-09',\n",
        "#  'state': 'TX',\n",
        "#  'party': 'D',\n",
        "#  'incumbent': 'Yes',\n",
        "#  'termstart': '1947-01-03',\n",
        "#  'age': 85.9}"
      ]
    },
    {
      "cell_type": "markdown",
      "id": "a52dbae6-8621-4b40-96c5-66d297e7efb2",
      "metadata": {
        "id": "a52dbae6-8621-4b40-96c5-66d297e7efb2"
      },
      "source": [
        "Now return a list of the values in the dictionary above."
      ]
    },
    {
      "cell_type": "code",
      "execution_count": 8,
      "id": "1303592e-c21b-43b0-aa10-5e6820dce437",
      "metadata": {
        "id": "1303592e-c21b-43b0-aa10-5e6820dce437"
      },
      "outputs": [],
      "source": [
        "values = mansfield.values()\n",
        "\n",
        "# [80, 'house', 'M000112', 'Joseph', 'Jefferson', 'Mansfield', nan, '1861-02-09', 'TX', 'D', 'Yes', '1947-01-03', 85.9]"
      ]
    },
    {
      "cell_type": "code",
      "source": [
        "keys = mansfield.keys()\n"
      ],
      "metadata": {
        "id": "SpMEMJpkPpvp"
      },
      "id": "SpMEMJpkPpvp",
      "execution_count": 10,
      "outputs": []
    },
    {
      "cell_type": "markdown",
      "id": "8f33cb1a-88e5-45a5-84f3-ba83338c1b94",
      "metadata": {
        "id": "8f33cb1a-88e5-45a5-84f3-ba83338c1b94"
      },
      "source": [
        "Then return a *list* of the first five keys, sorted alphabetically in the dictionary above."
      ]
    },
    {
      "cell_type": "markdown",
      "id": "185c7648-c86b-4a7c-a992-0442f6cf7822",
      "metadata": {
        "id": "185c7648-c86b-4a7c-a992-0442f6cf7822"
      },
      "source": [
        "> Remember we can use the `sorted` function to sort a list.\n",
        "\n",
        "```python\n",
        "sorted(['hello', 'everyone', 'here'])\n",
        "\n",
        "# ['everyone', 'hello', 'here']\n",
        "```"
      ]
    },
    {
      "cell_type": "code",
      "execution_count": 12,
      "id": "c0c8c09c-2030-4a2f-a165-b0de231e815d",
      "metadata": {
        "id": "c0c8c09c-2030-4a2f-a165-b0de231e815d",
        "outputId": "49ea0667-8cfa-492c-9ba3-aa6dd8860b60",
        "colab": {
          "base_uri": "https://localhost:8080/"
        }
      },
      "outputs": [
        {
          "output_type": "execute_result",
          "data": {
            "text/plain": [
              "['age', 'bioguide', 'birthday', 'chamber', 'congress']"
            ]
          },
          "metadata": {},
          "execution_count": 12
        }
      ],
      "source": [
        "sorted_keys = sorted(keys)\n",
        "sorted_keys[:5]\n",
        "\n",
        "# ['age', 'bioguide', 'birthday', 'chamber', 'congress']"
      ]
    },
    {
      "cell_type": "markdown",
      "id": "f259e89d-7585-4d36-9f4e-bc86204f8087",
      "metadata": {
        "id": "f259e89d-7585-4d36-9f4e-bc86204f8087"
      },
      "source": [
        "Next, let's select the birthday of the `Mansfield`."
      ]
    },
    {
      "cell_type": "code",
      "execution_count": 13,
      "id": "84d814ce-fcfe-4e4a-b2c5-6b355b74992c",
      "metadata": {
        "id": "84d814ce-fcfe-4e4a-b2c5-6b355b74992c",
        "outputId": "50f28f2d-71bc-4d78-abe0-06092bc0c234",
        "colab": {
          "base_uri": "https://localhost:8080/",
          "height": 35
        }
      },
      "outputs": [
        {
          "output_type": "execute_result",
          "data": {
            "text/plain": [
              "'1861-02-09'"
            ],
            "application/vnd.google.colaboratory.intrinsic+json": {
              "type": "string"
            }
          },
          "metadata": {},
          "execution_count": 13
        }
      ],
      "source": [
        "mansfield_bday = mansfield['birthday']\n",
        "mansfield_bday"
      ]
    },
    {
      "cell_type": "markdown",
      "id": "31722537-f0ee-44a1-99b0-e87cfe322664",
      "metadata": {
        "id": "31722537-f0ee-44a1-99b0-e87cfe322664"
      },
      "source": [
        "And then convert the birthday to a list that has three elements, year, month, and day."
      ]
    },
    {
      "cell_type": "code",
      "execution_count": 15,
      "id": "29d3885f-4531-4db0-9b88-1116fc7b99f6",
      "metadata": {
        "id": "29d3885f-4531-4db0-9b88-1116fc7b99f6",
        "outputId": "0d6b04d7-02a7-4bb7-b915-a6606278c0c5",
        "colab": {
          "base_uri": "https://localhost:8080/"
        }
      },
      "outputs": [
        {
          "output_type": "execute_result",
          "data": {
            "text/plain": [
              "['1861', '02', '09']"
            ]
          },
          "metadata": {},
          "execution_count": 15
        }
      ],
      "source": [
        "birthday_components = mansfield_bday.split('-')\n",
        "birthday_components\n",
        "\n",
        "# ['1861', '02', '09']"
      ]
    },
    {
      "cell_type": "markdown",
      "id": "01b821ff-1964-45b6-9db7-337030406887",
      "metadata": {
        "id": "01b821ff-1964-45b6-9db7-337030406887"
      },
      "source": [
        "Then use the list of the `birthday_components` above to create a new list, where each of the elements is an integer.  Assign the resulting list to the variable `birthday_numbers`."
      ]
    },
    {
      "cell_type": "code",
      "execution_count": 18,
      "id": "356eee48-13ec-4f2a-b93b-be43c585b253",
      "metadata": {
        "id": "356eee48-13ec-4f2a-b93b-be43c585b253",
        "outputId": "7d2198a9-8477-402b-a9cb-b368d18a7054",
        "colab": {
          "base_uri": "https://localhost:8080/"
        }
      },
      "outputs": [
        {
          "output_type": "execute_result",
          "data": {
            "text/plain": [
              "[1861, 2, 9]"
            ]
          },
          "metadata": {},
          "execution_count": 18
        }
      ],
      "source": [
        "birthday_numbers = [int(x) for x in birthday_components]\n",
        "birthday_numbers\n",
        "\n",
        "# [1861, 2, 9]"
      ]
    },
    {
      "cell_type": "markdown",
      "id": "a2a4c424-3336-450f-8920-f6b542c6f07d",
      "metadata": {
        "id": "a2a4c424-3336-450f-8920-f6b542c6f07d"
      },
      "source": [
        "Finally, use the `birthday_components` list above to create a new string where each of the elements above is separated by a comma so we get a string that looks like the following: `'1861, 02, 09'`."
      ]
    },
    {
      "cell_type": "code",
      "execution_count": 23,
      "id": "d91997fb-6a22-4736-b6bf-370a17794b4f",
      "metadata": {
        "id": "d91997fb-6a22-4736-b6bf-370a17794b4f",
        "outputId": "5db90baf-208f-47e9-fa47-29e443b9d833",
        "colab": {
          "base_uri": "https://localhost:8080/",
          "height": 35
        }
      },
      "outputs": [
        {
          "output_type": "execute_result",
          "data": {
            "text/plain": [
              "'1861, 02, 09'"
            ],
            "application/vnd.google.colaboratory.intrinsic+json": {
              "type": "string"
            }
          },
          "metadata": {},
          "execution_count": 23
        }
      ],
      "source": [
        "birthday_components\n",
        "birthday_string = ' '.join(birthday_components).replace(' ', ', ')\n",
        "\n",
        "birthday_string\n",
        "# '1861, 02, 09'"
      ]
    }
  ],
  "metadata": {
    "kernelspec": {
      "display_name": "Python 3 (ipykernel)",
      "language": "python",
      "name": "python3"
    },
    "language_info": {
      "codemirror_mode": {
        "name": "ipython",
        "version": 3
      },
      "file_extension": ".py",
      "mimetype": "text/x-python",
      "name": "python",
      "nbconvert_exporter": "python",
      "pygments_lexer": "ipython3",
      "version": "3.10.6"
    },
    "colab": {
      "provenance": []
    }
  },
  "nbformat": 4,
  "nbformat_minor": 5
}