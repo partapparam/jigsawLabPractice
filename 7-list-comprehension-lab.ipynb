{
  "cells": [
    {
      "cell_type": "markdown",
      "metadata": {
        "id": "eyOs2GaeB2NM"
      },
      "source": [
        "# List Comprehension Lab"
      ]
    },
    {
      "cell_type": "markdown",
      "metadata": {
        "id": "setFMvIuB2NV"
      },
      "source": [
        "### Introduction"
      ]
    },
    {
      "cell_type": "markdown",
      "metadata": {
        "id": "WCf72VuPB2NV"
      },
      "source": [
        "In this lesson, we'll practice working with list comprehension while working with data regarding restaurant chains.  Let's get started."
      ]
    },
    {
      "cell_type": "markdown",
      "metadata": {
        "id": "NasxQPRnB2NW"
      },
      "source": [
        "### Loading the Data"
      ]
    },
    {
      "cell_type": "markdown",
      "metadata": {
        "id": "mT25oRHqB2NX"
      },
      "source": [
        "We can get our data about restaurant chains at the following web address."
      ]
    },
    {
      "cell_type": "code",
      "execution_count": 2,
      "metadata": {
        "id": "zOFmXMKQB2NX"
      },
      "outputs": [],
      "source": [
        "url = \"https://en.wikipedia.org/wiki/List_of_the_largest_fast_food_restaurant_chains\""
      ]
    },
    {
      "cell_type": "markdown",
      "metadata": {
        "id": "YNvpPRUIB2NY"
      },
      "source": [
        "> Press shift + return on the cell above."
      ]
    },
    {
      "cell_type": "markdown",
      "metadata": {
        "id": "68vGzr9EB2NY"
      },
      "source": [
        "Then, let's scrape our data from the url using pandas."
      ]
    },
    {
      "cell_type": "code",
      "execution_count": 3,
      "metadata": {
        "id": "Amvlwv3YB2NZ"
      },
      "outputs": [],
      "source": [
        "import pandas as pd\n",
        "tables = pd.read_html(url, index_col = 0)"
      ]
    },
    {
      "cell_type": "markdown",
      "metadata": {
        "id": "X4uoRpX8B2NZ"
      },
      "source": [
        "We select the last table on the page."
      ]
    },
    {
      "cell_type": "code",
      "execution_count": 4,
      "metadata": {
        "id": "isl3XliCB2Na"
      },
      "outputs": [],
      "source": [
        "restaurant_chains_df =  tables[-1]"
      ]
    },
    {
      "cell_type": "markdown",
      "metadata": {
        "id": "CB1Dd0QjB2Na"
      },
      "source": [
        "Then convert our dataframe to a list of dictionaries."
      ]
    },
    {
      "cell_type": "code",
      "execution_count": 5,
      "metadata": {
        "id": "5jvR91doB2Na"
      },
      "outputs": [],
      "source": [
        "restaurant_chains = restaurant_chains_df.to_dict('records')"
      ]
    },
    {
      "cell_type": "code",
      "execution_count": 6,
      "metadata": {
        "id": "CowtzppUB2Na",
        "outputId": "b3ad39b0-e0bf-4567-f3c8-ed9548f2c9f8",
        "colab": {
          "base_uri": "https://localhost:8080/"
        }
      },
      "outputs": [
        {
          "output_type": "execute_result",
          "data": {
            "text/plain": [
              "[{'Country of origin': 'United States',\n",
              "  'Name': \"McDonald's\",\n",
              "  'Number of locations': '40,275 (2022)[1]',\n",
              "  'Revenue': 'US$23.2 billion (2021)[1]'},\n",
              " {'Country of origin': 'United States',\n",
              "  'Name': 'Subway',\n",
              "  'Number of locations': '37,000 (2021)[2][3]',\n",
              "  'Revenue': 'US$16.1 billion (2020)[4]'},\n",
              " {'Country of origin': 'United States',\n",
              "  'Name': 'Starbucks',\n",
              "  'Number of locations': '36,170 (2023)[5]',\n",
              "  'Revenue': 'US$32.3 billion (2022)[6]'}]"
            ]
          },
          "metadata": {},
          "execution_count": 6
        }
      ],
      "source": [
        "restaurant_chains[:3]"
      ]
    },
    {
      "cell_type": "markdown",
      "metadata": {
        "id": "2qwpgs0sB2Nb"
      },
      "source": [
        "Ok, so we now have a list dictionaries where each dictionary represents a separate restaurant chain."
      ]
    },
    {
      "cell_type": "markdown",
      "metadata": {
        "id": "uWG8MpVsB2Nb"
      },
      "source": [
        "### Coercing our Data"
      ]
    },
    {
      "cell_type": "markdown",
      "metadata": {
        "id": "MrhrfBbzB2Nc"
      },
      "source": [
        "> For this first section, do not use list comprehension."
      ]
    },
    {
      "cell_type": "markdown",
      "metadata": {
        "id": "KkpgZW6qB2Nc"
      },
      "source": [
        "Now that we have our list of dictionaries above.  Let's start by focusing on our revenue data.  Begin by simply extracting the text related to the revenue for each chain, and storing this data in a list."
      ]
    },
    {
      "cell_type": "code",
      "execution_count": 7,
      "metadata": {
        "id": "E8MLwPg9B2Nc"
      },
      "outputs": [],
      "source": [
        "revenue_texts = [restaurant['Revenue'] for restaurant in restaurant_chains]\n",
        "\n"
      ]
    },
    {
      "cell_type": "code",
      "execution_count": 8,
      "metadata": {
        "id": "vcUUB1LIB2Nc",
        "outputId": "b5aae3f1-3d85-4773-a0b5-41c6114414d9",
        "colab": {
          "base_uri": "https://localhost:8080/"
        }
      },
      "outputs": [
        {
          "output_type": "execute_result",
          "data": {
            "text/plain": [
              "['US$23.2 billion (2021)[1]',\n",
              " 'US$16.1 billion (2020)[4]',\n",
              " 'US$32.3 billion (2022)[6]',\n",
              " 'US$31.3 billion (2021)[7]',\n",
              " 'US$23.4 billion (2021)[9]',\n",
              " 'US$17.7 billion (2021)',\n",
              " 'US$12.9 billion (2021)[11]',\n",
              " 'US$1.37 billion (2020)[15]',\n",
              " 'US$1.38 billion (2021)[16]',\n",
              " nan]"
            ]
          },
          "metadata": {},
          "execution_count": 8
        }
      ],
      "source": [
        "revenue_texts[:10]\n",
        "\n",
        "# ['US$21.07 billion (2020)[2]',\n",
        " # 'US$16.1 billion (2020)[2]',\n",
        " # 'US$26.7 billion (2020)[5]',\n",
        " # 'US$27.9 billion (2020)[7]',\n",
        " # nan,\n",
        " # nan,\n",
        " # 'US$3.62 billion (2019)[11]',\n",
        " # 'US$1.37 billion (2020)[13]',\n",
        " # nan,\n",
        " # nan]"
      ]
    },
    {
      "cell_type": "markdown",
      "metadata": {
        "id": "jqLIJmeYB2Nc"
      },
      "source": [
        "Take a look at the `nan`s below.  This stands for not a number, and it is not very helpful to us.  A lotof the values after the first four are nan values.  So instead let's just select the first four restaurant chains, and then get to work with turning the data above into numbers."
      ]
    },
    {
      "cell_type": "code",
      "execution_count": 18,
      "metadata": {
        "id": "SqKmrPQ1B2Nc"
      },
      "outputs": [],
      "source": [
        "first_restaurants = restaurant_chains[:4]\n",
        "revenue_texts = [restaurant['Revenue'] for restaurant in first_restaurants]"
      ]
    },
    {
      "cell_type": "code",
      "execution_count": 19,
      "metadata": {
        "id": "UeXCgLwEB2Nd",
        "outputId": "61ba4078-b705-493b-8353-9e84c482d414",
        "colab": {
          "base_uri": "https://localhost:8080/"
        }
      },
      "outputs": [
        {
          "output_type": "execute_result",
          "data": {
            "text/plain": [
              "4"
            ]
          },
          "metadata": {},
          "execution_count": 19
        }
      ],
      "source": [
        "len(first_restaurants)\n",
        "\n",
        "# 4"
      ]
    },
    {
      "cell_type": "markdown",
      "metadata": {
        "id": "8GxA5vCMB2Nd"
      },
      "source": [
        "In the cell below extract the revenue data from `first_restaurants` and store the `revenues` in billions of revenue."
      ]
    },
    {
      "cell_type": "code",
      "execution_count": 28,
      "metadata": {
        "id": "wScNXl17B2Ne"
      },
      "outputs": [],
      "source": [
        "revenues = [float(revenue.split(' ')[0].replace('US$', '')) for revenue in revenue_texts]"
      ]
    },
    {
      "cell_type": "code",
      "execution_count": 29,
      "metadata": {
        "id": "c7Iz_fScB2Ne",
        "outputId": "2687459f-993d-4264-a2ab-640ce217cb49",
        "colab": {
          "base_uri": "https://localhost:8080/"
        }
      },
      "outputs": [
        {
          "output_type": "execute_result",
          "data": {
            "text/plain": [
              "[23.2, 16.1, 32.3, 31.3]"
            ]
          },
          "metadata": {},
          "execution_count": 29
        }
      ],
      "source": [
        "revenues\n",
        "\n",
        "# [21.07, 16.1, 26.7, 27.9]"
      ]
    },
    {
      "cell_type": "markdown",
      "metadata": {
        "id": "DovyXF0BB2Ne"
      },
      "source": [
        "### Moving to List Comprehension"
      ]
    },
    {
      "cell_type": "markdown",
      "metadata": {
        "id": "VEXwIjxAB2Ne"
      },
      "source": [
        "Let's begin by using list comprehension to create a list of the names of each restaurant chain."
      ]
    },
    {
      "cell_type": "markdown",
      "metadata": {
        "id": "3EcqR3rWB2Ne"
      },
      "source": [
        "> Assign the result to the variable `restaurant_names`."
      ]
    },
    {
      "cell_type": "code",
      "execution_count": 42,
      "metadata": {
        "id": "sR6mx9wmB2Ne"
      },
      "outputs": [],
      "source": [
        "restaurant_names = [restaurant['Name'] for restaurant in restaurant_chains]"
      ]
    },
    {
      "cell_type": "code",
      "execution_count": 43,
      "metadata": {
        "id": "l76sqwvwB2Ne",
        "outputId": "7caf7b39-8a4c-40b7-d4d2-98099c1a2509",
        "colab": {
          "base_uri": "https://localhost:8080/"
        }
      },
      "outputs": [
        {
          "output_type": "execute_result",
          "data": {
            "text/plain": [
              "[\"McDonald's\", 'Subway', 'Starbucks', 'KFC']"
            ]
          },
          "metadata": {},
          "execution_count": 43
        }
      ],
      "source": [
        "restaurant_names[:4]\n",
        "\n",
        "# [\"McDonald's\", 'Subway', 'Starbucks', 'KFC']"
      ]
    },
    {
      "cell_type": "markdown",
      "metadata": {
        "id": "hdHzsPcZB2Nf"
      },
      "source": [
        "Now use list comprehension to select the number of locations of each restaurant chain."
      ]
    },
    {
      "cell_type": "markdown",
      "metadata": {
        "id": "kw1ykRwGB2Nf"
      },
      "source": [
        "> Assign the result to the variable `franchise_amounts`."
      ]
    },
    {
      "cell_type": "code",
      "execution_count": 44,
      "metadata": {
        "id": "1gJxYkE5B2Nf"
      },
      "outputs": [],
      "source": [
        "franchise_amounts = [restaurant['Number of locations'] for restaurant in restaurant_chains]"
      ]
    },
    {
      "cell_type": "code",
      "execution_count": 45,
      "metadata": {
        "id": "XoL7092uB2Nf",
        "outputId": "04c2fc35-5138-47fb-fb26-b873a853be3d",
        "colab": {
          "base_uri": "https://localhost:8080/"
        }
      },
      "outputs": [
        {
          "output_type": "execute_result",
          "data": {
            "text/plain": [
              "['40,275 (2022)[1]', '37,000 (2021)[2][3]', '36,170 (2023)[5]']"
            ]
          },
          "metadata": {},
          "execution_count": 45
        }
      ],
      "source": [
        "franchise_amounts[:3]\n",
        "\n",
        "# ['38,348 [1]', '36,840 [3]', '33,833[4]']"
      ]
    },
    {
      "cell_type": "markdown",
      "metadata": {
        "id": "yowNnmyUB2Nf"
      },
      "source": [
        "Now remove the square brackets from the number of locations."
      ]
    },
    {
      "cell_type": "code",
      "execution_count": 51,
      "metadata": {
        "id": "0msuk7IrB2Nf"
      },
      "outputs": [],
      "source": [
        "clean_franchise_amounts = [franchise.split(' ')[0].split('[')[0] for franchise in franchise_amounts]"
      ]
    },
    {
      "cell_type": "code",
      "execution_count": 52,
      "metadata": {
        "id": "oLoMslBxB2Nf",
        "outputId": "f89554aa-f9ab-4029-e4f0-3c36586bfb6c",
        "colab": {
          "base_uri": "https://localhost:8080/"
        }
      },
      "outputs": [
        {
          "output_type": "execute_result",
          "data": {
            "text/plain": [
              "['40,275',\n",
              " '37,000',\n",
              " '36,170',\n",
              " '26,934',\n",
              " '19,247',\n",
              " '18,848',\n",
              " '18,381',\n",
              " '11,300',\n",
              " '10,427',\n",
              " '8,000+',\n",
              " '7,791',\n",
              " '7,000+',\n",
              " '7,000+',\n",
              " '6,949',\n",
              " '6700',\n",
              " '5,812',\n",
              " '5,650',\n",
              " '5,463',\n",
              " '5,291',\n",
              " '4,000']"
            ]
          },
          "metadata": {},
          "execution_count": 52
        }
      ],
      "source": [
        "clean_franchise_amounts[:20]\n",
        "\n",
        "# ['38,348 ', '36,840 ', '33,833']"
      ]
    },
    {
      "cell_type": "code",
      "execution_count": 53,
      "metadata": {
        "id": "yT3YdhaSB2Nf",
        "outputId": "fd849bd4-c57f-4430-f3be-42c80b7b89d7",
        "colab": {
          "base_uri": "https://localhost:8080/"
        }
      },
      "outputs": [
        {
          "output_type": "execute_result",
          "data": {
            "text/plain": [
              "['544', '525', '520', '515+', '514', '512+', '510+', '508', '507+', '500+']"
            ]
          },
          "metadata": {},
          "execution_count": 53
        }
      ],
      "source": [
        "clean_franchise_amounts[-10:]\n",
        "\n",
        "# ['508', '507+', '500+']"
      ]
    },
    {
      "cell_type": "markdown",
      "metadata": {
        "id": "06PAZkYFB2Nl"
      },
      "source": [
        "Now, coerce the data from a list of strings to a list of integers.\n",
        "> **Hint**: Look up the `replace` method."
      ]
    },
    {
      "cell_type": "code",
      "execution_count": 58,
      "metadata": {
        "id": "PZXWuxheB2Nm"
      },
      "outputs": [],
      "source": [
        "franchise_amount_ints = [float(amount.replace(',', '').replace('+', '').replace('~', '')) for amount in clean_franchise_amounts]"
      ]
    },
    {
      "cell_type": "code",
      "execution_count": 59,
      "metadata": {
        "id": "KF5LCdY_B2Nm",
        "outputId": "de31f34f-8950-4eac-98ad-da6772ef785f",
        "colab": {
          "base_uri": "https://localhost:8080/"
        }
      },
      "outputs": [
        {
          "output_type": "execute_result",
          "data": {
            "text/plain": [
              "[40275.0, 37000.0, 36170.0]"
            ]
          },
          "metadata": {},
          "execution_count": 59
        }
      ],
      "source": [
        "franchise_amount_ints[:3]\n",
        "\n",
        "# [38348, 36840, 33833]"
      ]
    },
    {
      "cell_type": "markdown",
      "metadata": {
        "id": "LOHsxsqZB2Nm"
      },
      "source": [
        "### Bonus: Combining our Data"
      ]
    },
    {
      "cell_type": "markdown",
      "metadata": {
        "id": "qI7t4F6jB2Nm"
      },
      "source": [
        "Ok, so now, for the first eight restaurant chains let's find the amount of revenue earned per franchise.  Remember, that we already have the revenues."
      ]
    },
    {
      "cell_type": "code",
      "execution_count": 66,
      "metadata": {
        "id": "lsDcHsF-B2Nm"
      },
      "outputs": [],
      "source": [
        "revenues\n",
        "revenues = [franchise * 1000000000 for franchise in revenues]"
      ]
    },
    {
      "cell_type": "markdown",
      "metadata": {
        "id": "3PHvVNQyB2Nn"
      },
      "source": [
        "And we have the number of franchises."
      ]
    },
    {
      "cell_type": "code",
      "execution_count": 61,
      "metadata": {
        "id": "BapXzizXB2Nn",
        "outputId": "d9cbd5f6-9e60-4147-915b-7a2e6857b3a2",
        "colab": {
          "base_uri": "https://localhost:8080/"
        }
      },
      "outputs": [
        {
          "output_type": "execute_result",
          "data": {
            "text/plain": [
              "[40275.0, 37000.0, 36170.0, 26934.0]"
            ]
          },
          "metadata": {},
          "execution_count": 61
        }
      ],
      "source": [
        "franchise_amount_ints[:4]"
      ]
    },
    {
      "cell_type": "markdown",
      "metadata": {
        "id": "Pq1aNN3iB2Nn"
      },
      "source": [
        "Create a list of where each element is the revenue per franchise, for the first eight chains."
      ]
    },
    {
      "cell_type": "code",
      "execution_count": 68,
      "metadata": {
        "id": "MKHZIerOB2Nn",
        "outputId": "0e893cac-49d9-44fe-fb56-48b29fbcaed0",
        "colab": {
          "base_uri": "https://localhost:8080/"
        }
      },
      "outputs": [
        {
          "output_type": "execute_result",
          "data": {
            "text/plain": [
              "[{'revenue': 23200000000.0, 'franchises': 40275.0},\n",
              " {'revenue': 16100000000.000002, 'franchises': 37000.0},\n",
              " {'revenue': 32299999999.999996, 'franchises': 36170.0}]"
            ]
          },
          "metadata": {},
          "execution_count": 68
        }
      ],
      "source": [
        "one_billion = 1_000_000_000\n",
        "combined_list = list(zip(revenues, franchise_amount_ints))\n",
        "keys = ['revenue', 'franchises']\n",
        "combined_list = [dict(zip(keys, franchise)) for franchise in combined_list]\n",
        "combined_list[:3]"
      ]
    },
    {
      "cell_type": "code",
      "execution_count": 71,
      "metadata": {
        "id": "1SMe2IHQB2No",
        "outputId": "c7ba6733-77fd-42d1-e52d-73c5fa052a39",
        "colab": {
          "base_uri": "https://localhost:8080/"
        }
      },
      "outputs": [
        {
          "output_type": "stream",
          "name": "stdout",
          "text": [
            "[576039.7268777157, 435135.1351351352, 893005.2529720762, 1162099.9480210885]\n"
          ]
        }
      ],
      "source": [
        "revenues_per_franchise = [float(franchise['revenue']/franchise['franchises']) for franchise in combined_list]\n",
        "print(revenues_per_franchise[:4])"
      ]
    },
    {
      "cell_type": "code",
      "execution_count": null,
      "metadata": {
        "id": "1-o-TlPeB2No"
      },
      "outputs": [],
      "source": [
        "revenues_per_franchise\n",
        "# [549441, 437024, 789170, 1116000]"
      ]
    },
    {
      "cell_type": "code",
      "execution_count": null,
      "metadata": {
        "id": "egnbeGARB2No"
      },
      "outputs": [],
      "source": [
        "# restaurant_names[:4]\n",
        "\n",
        "# [\"McDonald's\",\n",
        "#  'Subway',\n",
        "#  'Starbucks',\n",
        "#  'KFC',\n",
        "#  'Burger King',\n",
        "#  \"Domino's Pizza\",\n",
        "#  'Pizza Hut',\n",
        "#  \"Dunkin'\"]"
      ]
    },
    {
      "cell_type": "markdown",
      "metadata": {
        "id": "A06h5DsvB2No"
      },
      "source": [
        "### Summary"
      ]
    },
    {
      "cell_type": "markdown",
      "metadata": {
        "id": "3amaO-ZIB2No"
      },
      "source": [
        "In this lesson we practiced working with looping through our data and list comprehension.  We should use simple looping when performing more complex steps in our loop, and lean on list comprehension when there is not a coercion involved as we loop through each elements."
      ]
    }
  ],
  "metadata": {
    "kernelspec": {
      "display_name": "Python 3 (ipykernel)",
      "language": "python",
      "name": "python3"
    },
    "language_info": {
      "codemirror_mode": {
        "name": "ipython",
        "version": 3
      },
      "file_extension": ".py",
      "mimetype": "text/x-python",
      "name": "python",
      "nbconvert_exporter": "python",
      "pygments_lexer": "ipython3",
      "version": "3.9.10"
    },
    "colab": {
      "provenance": []
    }
  },
  "nbformat": 4,
  "nbformat_minor": 0
}