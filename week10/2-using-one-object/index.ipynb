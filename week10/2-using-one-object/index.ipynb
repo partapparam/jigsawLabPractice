{
  "cells": [
    {
      "cell_type": "markdown",
      "metadata": {
        "id": "kKjLb-fdnKhp"
      },
      "source": [
        "# Creating One Object"
      ]
    },
    {
      "cell_type": "markdown",
      "metadata": {
        "id": "zpPTcu0wnKhz"
      },
      "source": [
        "## Introduction"
      ]
    },
    {
      "cell_type": "markdown",
      "metadata": {
        "id": "9QwFBj2LnKhz"
      },
      "source": [
        "Now that we attempted to refactor on our own, let's get to it with our Texas API code."
      ]
    },
    {
      "cell_type": "markdown",
      "metadata": {
        "id": "LYOFeEEDnKh0"
      },
      "source": [
        "### Creating a single instance"
      ]
    },
    {
      "cell_type": "markdown",
      "metadata": {
        "id": "PFpDutq9nKh1"
      },
      "source": [
        "Let's start by looking at our original code that we used to call an API."
      ]
    },
    {
      "cell_type": "code",
      "execution_count": 1,
      "metadata": {
        "id": "VV8pcZWXnKh2"
      },
      "outputs": [],
      "source": [
        "import requests\n",
        "response = requests.get(\"https://data.texas.gov/resource/naix-2893.json?location_name=MAX%27S%20WINE%20DIVE\")\n",
        "restaurant_receipts = response.json()"
      ]
    },
    {
      "cell_type": "code",
      "execution_count": 2,
      "metadata": {
        "id": "HL48BK7gnKh9",
        "outputId": "b4911047-3759-427a-8d98-d7e243f1aa2f",
        "colab": {
          "base_uri": "https://localhost:8080/"
        }
      },
      "outputs": [
        {
          "output_type": "execute_result",
          "data": {
            "text/plain": [
              "dict_keys(['taxpayer_number', 'taxpayer_name', 'taxpayer_address', 'taxpayer_city', 'taxpayer_state', 'taxpayer_zip', 'taxpayer_county', 'location_number', 'location_name', 'location_address', 'location_city', 'location_state', 'location_zip', 'location_county', 'inside_outside_city_limits_code_y_n', 'tabc_permit_number', 'responsibility_begin_date_yyyymmdd', 'responsibility_end_date_yyyymmdd', 'obligation_end_date_yyyymmdd', 'liquor_receipts', 'wine_receipts', 'beer_receipts', 'cover_charge_receipts', 'total_receipts'])"
            ]
          },
          "metadata": {},
          "execution_count": 2
        }
      ],
      "source": [
        "restaurant_receipts[0].keys()"
      ]
    },
    {
      "cell_type": "markdown",
      "metadata": {
        "id": "Ix3nB5n0nKh_"
      },
      "source": [
        "### Creating our Receipt Class"
      ]
    },
    {
      "cell_type": "markdown",
      "metadata": {
        "id": "jANmzuCtnKh_"
      },
      "source": [
        "Now the first component that we would like to refactor is how we represent a receipt.  Each receipt is currently dictionary.  Instead, let's change it into an instance of a `Receipt` class."
      ]
    },
    {
      "cell_type": "markdown",
      "metadata": {
        "id": "Ssyv10NTnKiA"
      },
      "source": [
        "The first thing we do is define our class."
      ]
    },
    {
      "cell_type": "code",
      "execution_count": 4,
      "metadata": {
        "id": "qQcZVZHCnKiA"
      },
      "outputs": [],
      "source": [
        "class Receipt:\n",
        "    def __init__(self, **kwargs):\n",
        "        self.total = kwargs['total_receipts']\n",
        "        self.address = kwargs['location_address']\n",
        "        self.end_date = kwargs['obligation_end_date_yyyymmdd']\n",
        "        self.restaurant_name = kwargs['location_name']"
      ]
    },
    {
      "cell_type": "markdown",
      "metadata": {
        "id": "C0alxM8RnKiB"
      },
      "source": [
        "Then we can make sure that it works properly by passing through some data."
      ]
    },
    {
      "cell_type": "code",
      "execution_count": null,
      "metadata": {
        "id": "ConNhZS8nKiB"
      },
      "outputs": [],
      "source": [
        "receipt = Receipt('1234', '33 blue hill lane', '12/29/2018', \"Max's Wine Bar\")"
      ]
    },
    {
      "cell_type": "code",
      "execution_count": null,
      "metadata": {
        "id": "2bH9eK5_nKiO",
        "outputId": "e4daf88a-8d90-4134-9f1d-b31ba43ed084"
      },
      "outputs": [
        {
          "data": {
            "text/plain": [
              "<__main__.Receipt at 0x109de4880>"
            ]
          },
          "execution_count": 6,
          "metadata": {},
          "output_type": "execute_result"
        }
      ],
      "source": [
        "receipt"
      ]
    },
    {
      "cell_type": "code",
      "execution_count": null,
      "metadata": {
        "id": "uDQwNqeonKiO",
        "outputId": "9e023b0c-a946-49fd-fc24-597259dd5cb4"
      },
      "outputs": [
        {
          "data": {
            "text/plain": [
              "{'total': 1234,\n",
              " 'address': '33 blue hill lane',\n",
              " 'end_date': '12/29/2018',\n",
              " 'restaurant_name': \"Max's Wine Bar\"}"
            ]
          },
          "execution_count": 23,
          "metadata": {},
          "output_type": "execute_result"
        }
      ],
      "source": [
        "receipt.__dict__"
      ]
    },
    {
      "cell_type": "markdown",
      "metadata": {
        "id": "TWndMKSHnKiP"
      },
      "source": [
        "### 1. Using our API's data to create a receipt"
      ]
    },
    {
      "cell_type": "markdown",
      "metadata": {
        "id": "hjwADKXrnKiP"
      },
      "source": [
        "The next step, of course, is to pass through some of our actual data.  \n",
        "\n",
        "> Let's give that a shot here:\n",
        "\n",
        "Use the data from the first dictionary returned from our API to create a new `Receipt` instance."
      ]
    },
    {
      "cell_type": "markdown",
      "metadata": {
        "id": "_hKdVZTKnKiP"
      },
      "source": [
        "**To begin**, simply select the first receipt from the API, and assign it to the variable `first_receipt_dict`."
      ]
    },
    {
      "cell_type": "code",
      "execution_count": 3,
      "metadata": {
        "id": "zJFARvDSnKiP"
      },
      "outputs": [],
      "source": [
        "first_receipt_dict = restaurant_receipts[0]"
      ]
    },
    {
      "cell_type": "markdown",
      "metadata": {
        "id": "YuzEBBlTnKiP"
      },
      "source": [
        "* Then create a new `Receipt` instance with data from the selected dictionary. And assign it to the variable `first_receipt`.\n",
        "\n",
        "> We're not looking for anything fancy here, just get pass through the correct data when creating our instance."
      ]
    },
    {
      "cell_type": "code",
      "execution_count": 7,
      "metadata": {
        "id": "mW4o4-QnnKiP"
      },
      "outputs": [],
      "source": [
        "first_receipt = Receipt(**first_receipt_dict)"
      ]
    },
    {
      "cell_type": "code",
      "source": [
        "first_receipt.__dict__"
      ],
      "metadata": {
        "id": "Qv6DwKcErmHb",
        "outputId": "84441b4d-3767-49b1-e664-767f79d6e18e",
        "colab": {
          "base_uri": "https://localhost:8080/"
        }
      },
      "execution_count": 9,
      "outputs": [
        {
          "output_type": "execute_result",
          "data": {
            "text/plain": [
              "{'total': '120048',\n",
              " 'address': '207 SAN JACINTO BLVD STE 200',\n",
              " 'end_date': '2017-03-31T00:00:00.000',\n",
              " 'restaurant_name': \"MAX'S WINE DIVE\"}"
            ]
          },
          "metadata": {},
          "execution_count": 9
        }
      ]
    },
    {
      "cell_type": "markdown",
      "metadata": {
        "id": "wS-wavGsnKiR"
      },
      "source": [
        "### 2. Creating a list of receipts"
      ]
    },
    {
      "cell_type": "markdown",
      "metadata": {
        "id": "XC_c7bCJnKiR"
      },
      "source": [
        "Now that we have accomplished turned one dictionary into an object, let's turn our list of dictionaries into a list of objects.  Remember that the list of our receipt dictionaries is stored in the `restaurant_receipts` variable.  Coerce the list of `restaurant_receipts` into a list of objects, and assign it to a variable named `receipts`."
      ]
    },
    {
      "cell_type": "code",
      "execution_count": 11,
      "metadata": {
        "id": "QZPZ1EG9nKiR",
        "outputId": "885a5592-6409-4417-b678-22cfdfd48319",
        "colab": {
          "base_uri": "https://localhost:8080/"
        }
      },
      "outputs": [
        {
          "output_type": "execute_result",
          "data": {
            "text/plain": [
              "{'total': '120048',\n",
              " 'address': '207 SAN JACINTO BLVD STE 200',\n",
              " 'end_date': '2017-03-31T00:00:00.000',\n",
              " 'restaurant_name': \"MAX'S WINE DIVE\"}"
            ]
          },
          "metadata": {},
          "execution_count": 11
        }
      ],
      "source": [
        "receipts = []\n",
        "for receipt in restaurant_receipts:\n",
        "  receipts.append(Receipt(**receipt))\n",
        "receipts[0].__dict__"
      ]
    },
    {
      "cell_type": "markdown",
      "metadata": {
        "id": "nuwejTXonKiS"
      },
      "source": [
        "### Summary"
      ]
    },
    {
      "cell_type": "markdown",
      "metadata": {
        "id": "vDjM0wK_nKiS"
      },
      "source": [
        "In this lesson, we took the first step to using objects to clean up our code.\n",
        "We did so by creating a new `Receipt` instance out of a dictionary that we received from the API.  And we used our old approach of trying to do an operation once before looping through our data.  In the next lesson, we'll continue to refactor our codebase."
      ]
    }
  ],
  "metadata": {
    "kernelspec": {
      "display_name": "Python 3 (ipykernel)",
      "language": "python",
      "name": "python3"
    },
    "language_info": {
      "codemirror_mode": {
        "name": "ipython",
        "version": 3
      },
      "file_extension": ".py",
      "mimetype": "text/x-python",
      "name": "python",
      "nbconvert_exporter": "python",
      "pygments_lexer": "ipython3",
      "version": "3.9.7"
    },
    "colab": {
      "provenance": []
    }
  },
  "nbformat": 4,
  "nbformat_minor": 0
}