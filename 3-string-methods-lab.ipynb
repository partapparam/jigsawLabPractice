{
  "cells": [
    {
      "cell_type": "markdown",
      "metadata": {
        "id": "5e8nZ1aBUp1t"
      },
      "source": [
        "# String Methods"
      ]
    },
    {
      "cell_type": "markdown",
      "metadata": {
        "id": "QvEgo277Up1w"
      },
      "source": [
        "### Loading our some data"
      ]
    },
    {
      "cell_type": "markdown",
      "metadata": {
        "id": "3s8opMtVUp1w"
      },
      "source": [
        "In this lesson, we'll work with data regarding Midwestern cities.  Now the data we'll be working with is available on [this Wikipedia page]('https://en.wikipedia.org/wiki/List_of_Midwestern_cities_by_size').  But unfortunately, it is not formatted in a way that pandas can understand it.  \n",
        "\n",
        "So instead we just copied and pasted the data below.  And assigned it to a variable."
      ]
    },
    {
      "cell_type": "code",
      "execution_count": 2,
      "metadata": {
        "id": "WbnmUNNsUp1x"
      },
      "outputs": [],
      "source": [
        "cities_text = \"\"\"Chicago, Illinois; 2,722,586\n",
        "Indianapolis, Indiana; 853,431\n",
        "Columbus, Ohio; 852,144\n",
        "Detroit, Michigan; 679,865\n",
        "Milwaukee, Wisconsin; 599,086\n",
        "Kansas City, Missouri; 476,974\n",
        "Omaha, Nebraska; 463,081\n",
        "Minneapolis, Minnesota; 411,452\n",
        "Wichita, Kansas; 389,054\n",
        "Cleveland, Ohio; 388,812\n",
        "St. Louis, Missouri; 314,867\n",
        "St. Paul, Minnesota; 300,820\n",
        "Cincinnati, Ohio; 298,957\n",
        "Toledo, Ohio; 279,455\n",
        "Lincoln, Nebraska; 277,315\n",
        "Fort Wayne, Indiana; 262,450\n",
        "Madison, Wisconsin; 248,856\n",
        "Des Moines, Iowa; 214,778\n",
        "Aurora, Illinois; 200,946\n",
        "Grand Rapids, Michigan; 195,355\n",
        "Akron, Ohio; 198,252\n",
        "Overland Park, Kansas; 186,147\n",
        "Sioux Falls, South Dakota; 170,401\n",
        "Springfield, Missouri; 165,785\n",
        "Kansas City, Kansas; 151,042\n",
        "Rockford, Illinois; 148,640\n",
        "Joliet, Illinois; 148,172\n",
        "Naperville, Illinois; 146,431\n",
        "Dayton, Ohio; 140,939\n",
        "Warren, Michigan; 135,147\n",
        "Olathe, Kansas; 134,368\n",
        "Sterling Heights, Michigan; 131,996\n",
        "Cedar Rapids, Iowa; 130,330\n",
        "Topeka, Kansas; 127,139\n",
        "Evansville, Indiana; 119,806\n",
        "Ann Arbor, Michigan; 119,303\n",
        "Columbia, Missouri; 118,620\n",
        "Fargo, North Dakota; 118,099\n",
        "Independence, Missouri; 117,369\n",
        "Springfield, Illinois; 116,313\n",
        "Peoria, Illinois; 115,424\n",
        "Lansing, Michigan; 115,222\n",
        "Rochester, Minnesota; 112,683\n",
        "Elgin, Illinois; 112,628\n",
        "Green Bay, Wisconsin; 104,796\n",
        "Davenport, Iowa; 102,268\n",
        "South Bend, Indiana; 101,928\"\"\""
      ]
    },
    {
      "cell_type": "markdown",
      "metadata": {
        "id": "AiC_HOifUp1z"
      },
      "source": [
        "> Notice that we wrapped the string in triple quotes so that our string could span multiple lines."
      ]
    },
    {
      "cell_type": "markdown",
      "metadata": {
        "id": "cnagJW8PUp1z"
      },
      "source": [
        "To begin, select just the first 100 characters from the string to take a closer look at the data."
      ]
    },
    {
      "cell_type": "code",
      "execution_count": 3,
      "metadata": {
        "id": "AdMhI2KFUp1z",
        "outputId": "5ddfe6d5-1581-4559-e14b-e3cc037f2e06",
        "colab": {
          "base_uri": "https://localhost:8080/",
          "height": 35
        }
      },
      "outputs": [
        {
          "output_type": "execute_result",
          "data": {
            "text/plain": [
              "'Chicago, Illinois; 2,722,586\\nIndianapolis, Indiana; 853,431\\nColumbus, Ohio; 852,144\\nDetroit, Michiga'"
            ],
            "application/vnd.google.colaboratory.intrinsic+json": {
              "type": "string"
            }
          },
          "metadata": {},
          "execution_count": 3
        }
      ],
      "source": [
        "cities_text[:100]\n",
        "# 'Chicago, Illinois; 2,722,586\\nIndianapolis, Indiana; 853,431\\nColumbus, Ohio;\n",
        "# 852,144\\nDetroit, Michiga'"
      ]
    },
    {
      "cell_type": "markdown",
      "metadata": {
        "id": "Yp3DhZsBUp10"
      },
      "source": [
        "So we can see that the pattern for each row of data is:\n",
        "    \n",
        "`city, State; 9,999,999 \\n`"
      ]
    },
    {
      "cell_type": "markdown",
      "metadata": {
        "id": "cuRy8ts5Up11"
      },
      "source": [
        "Now currently our data is simply one long string.  Calculate the number of characters in the string."
      ]
    },
    {
      "cell_type": "code",
      "execution_count": 4,
      "metadata": {
        "id": "Q5CfN0wmUp11",
        "outputId": "f440b448-13e9-413c-93c2-91f32af42a2b",
        "colab": {
          "base_uri": "https://localhost:8080/"
        }
      },
      "outputs": [
        {
          "output_type": "execute_result",
          "data": {
            "text/plain": [
              "1313"
            ]
          },
          "metadata": {},
          "execution_count": 4
        }
      ],
      "source": [
        "len(cities_text)\n",
        "\n",
        "# 1313"
      ]
    },
    {
      "cell_type": "markdown",
      "metadata": {
        "id": "HQhX2NiqUp12"
      },
      "source": [
        "Ok, it's a good idea if we begin to organize this string a bit better.  Let's begin by splitting the data by each line.\n",
        "\n",
        "> It may feel a little tricky, but try some different methods.  You can always google if you get stuck."
      ]
    },
    {
      "cell_type": "code",
      "execution_count": 6,
      "metadata": {
        "id": "GIB4j0JQUp12"
      },
      "outputs": [],
      "source": [
        "city_rows = cities_text.split('\\n')"
      ]
    },
    {
      "cell_type": "code",
      "execution_count": 7,
      "metadata": {
        "id": "kokL7jibUp12",
        "outputId": "a8486517-241e-4b7c-b2e6-2a05eb381d11",
        "colab": {
          "base_uri": "https://localhost:8080/"
        }
      },
      "outputs": [
        {
          "output_type": "execute_result",
          "data": {
            "text/plain": [
              "['Chicago, Illinois; 2,722,586',\n",
              " 'Indianapolis, Indiana; 853,431',\n",
              " 'Columbus, Ohio; 852,144']"
            ]
          },
          "metadata": {},
          "execution_count": 7
        }
      ],
      "source": [
        "city_rows[:3]\n",
        "\n",
        "# ['Chicago, Illinois; 2,722,586',\n",
        "#  'Indianapolis, Indiana; 853,431',\n",
        "#  'Columbus, Ohio; 852,144']"
      ]
    },
    {
      "cell_type": "markdown",
      "metadata": {
        "id": "A5yvGnHIUp12"
      },
      "source": [
        "Next, let's select the first element from the list of strings."
      ]
    },
    {
      "cell_type": "code",
      "execution_count": 8,
      "metadata": {
        "id": "AHv3mp2aUp12",
        "outputId": "355a86f0-de96-4403-8736-389b920f3948",
        "colab": {
          "base_uri": "https://localhost:8080/",
          "height": 35
        }
      },
      "outputs": [
        {
          "output_type": "execute_result",
          "data": {
            "text/plain": [
              "'Chicago, Illinois; 2,722,586'"
            ],
            "application/vnd.google.colaboratory.intrinsic+json": {
              "type": "string"
            }
          },
          "metadata": {},
          "execution_count": 8
        }
      ],
      "source": [
        "city = city_rows[0]\n",
        "\n",
        "\n",
        "city\n",
        "# 'Chicago, Illinois; 2,722,586'"
      ]
    },
    {
      "cell_type": "markdown",
      "metadata": {
        "id": "Tsh2TUz_Up12"
      },
      "source": [
        "Ideally, we can organize this as a dictionary.  Where we have the city, state, and population values.\n",
        "\n",
        "First use split to divide the data between `city_and_state` and `population`."
      ]
    },
    {
      "cell_type": "code",
      "execution_count": 9,
      "metadata": {
        "id": "2iHPp-NcUp12"
      },
      "outputs": [],
      "source": [
        "city_and_state = city.split(';')[0]\n",
        "\n",
        "population = city.split('; ')[1]"
      ]
    },
    {
      "cell_type": "code",
      "execution_count": 10,
      "metadata": {
        "id": "HPKyS_3tUp13",
        "outputId": "3288e20e-88a1-41c0-da0b-ca6b88adcaaa",
        "colab": {
          "base_uri": "https://localhost:8080/",
          "height": 35
        }
      },
      "outputs": [
        {
          "output_type": "execute_result",
          "data": {
            "text/plain": [
              "'Chicago, Illinois'"
            ],
            "application/vnd.google.colaboratory.intrinsic+json": {
              "type": "string"
            }
          },
          "metadata": {},
          "execution_count": 10
        }
      ],
      "source": [
        "city_and_state\n",
        "# 'Chicago, Illinois'"
      ]
    },
    {
      "cell_type": "code",
      "execution_count": 11,
      "metadata": {
        "id": "964GkpnuUp13",
        "outputId": "d9218649-1281-4d3a-9458-1e76aa88139d",
        "colab": {
          "base_uri": "https://localhost:8080/",
          "height": 35
        }
      },
      "outputs": [
        {
          "output_type": "execute_result",
          "data": {
            "text/plain": [
              "'2,722,586'"
            ],
            "application/vnd.google.colaboratory.intrinsic+json": {
              "type": "string"
            }
          },
          "metadata": {},
          "execution_count": 11
        }
      ],
      "source": [
        "population\n",
        "\n",
        "# '2,722,586'"
      ]
    },
    {
      "cell_type": "markdown",
      "metadata": {
        "id": "x_BQAt0tUp13"
      },
      "source": [
        "Now separate `city_and_state` into `city_name` and `state`."
      ]
    },
    {
      "cell_type": "code",
      "execution_count": 12,
      "metadata": {
        "id": "TMBJg4jwUp13"
      },
      "outputs": [],
      "source": [
        "\n",
        "\n",
        "city_name = city_and_state.split(',')[0]\n",
        "\n",
        "state = city_and_state.split(', ')[0]\n",
        "# ['Chicago', 'Illinois']"
      ]
    },
    {
      "cell_type": "code",
      "execution_count": 13,
      "metadata": {
        "id": "H5cLNvZuUp13",
        "outputId": "0d4bd78b-e621-44f6-da48-3719bbfa9261",
        "colab": {
          "base_uri": "https://localhost:8080/",
          "height": 35
        }
      },
      "outputs": [
        {
          "output_type": "execute_result",
          "data": {
            "text/plain": [
              "'Chicago'"
            ],
            "application/vnd.google.colaboratory.intrinsic+json": {
              "type": "string"
            }
          },
          "metadata": {},
          "execution_count": 13
        }
      ],
      "source": [
        "city_name\n",
        "\n",
        "# 'Chicago'"
      ]
    },
    {
      "cell_type": "code",
      "execution_count": 14,
      "metadata": {
        "id": "sSAInQCPUp14",
        "outputId": "82dd593a-0f27-4e95-94e6-94e96c2b04b7",
        "colab": {
          "base_uri": "https://localhost:8080/",
          "height": 35
        }
      },
      "outputs": [
        {
          "output_type": "execute_result",
          "data": {
            "text/plain": [
              "'Chicago'"
            ],
            "application/vnd.google.colaboratory.intrinsic+json": {
              "type": "string"
            }
          },
          "metadata": {},
          "execution_count": 14
        }
      ],
      "source": [
        "state\n",
        "\n",
        "# 'Illinois'"
      ]
    },
    {
      "cell_type": "markdown",
      "metadata": {
        "id": "Nj4U0pq3Up14"
      },
      "source": [
        "### Now a bit harder"
      ]
    },
    {
      "cell_type": "markdown",
      "metadata": {
        "id": "lo0Gr6NoUp14"
      },
      "source": [
        "Ok, now that we explored how to work individually on a row, let's get into this.  Let's now write code to start with the text in our variable `cities_text`.  And end with the variable `cities` with cities is a list of dictionaries with keys of `city`, `state`, and `population`."
      ]
    },
    {
      "cell_type": "code",
      "execution_count": 15,
      "metadata": {
        "id": "6RUfrUNIUp14",
        "outputId": "552399eb-9f17-4ba7-ace6-41e22bfaa56e",
        "colab": {
          "base_uri": "https://localhost:8080/",
          "height": 35
        }
      },
      "outputs": [
        {
          "output_type": "execute_result",
          "data": {
            "text/plain": [
              "'Chicago, Illinois; 2,722,586\\nIndianapolis, Indiana; 853,431\\nColumbus, Ohio; 852,144\\nDetroit, Michiga'"
            ],
            "application/vnd.google.colaboratory.intrinsic+json": {
              "type": "string"
            }
          },
          "metadata": {},
          "execution_count": 15
        }
      ],
      "source": [
        "cities_text[:100]\n",
        "\n",
        "# 'Chicago, Illinois; 2,722,586\\nIndianapolis, Indiana; 853,431\\nColumbus, Ohio;\n",
        "# 852,144\\nDetroit, Michiga'"
      ]
    },
    {
      "cell_type": "code",
      "execution_count": 16,
      "metadata": {
        "id": "-G5uamFfUp14",
        "outputId": "82cba5c2-1ea0-4754-bc6d-b715bea3b6de",
        "colab": {
          "base_uri": "https://localhost:8080/"
        }
      },
      "outputs": [
        {
          "output_type": "stream",
          "name": "stdout",
          "text": [
            "[{'city': 'Chicago', 'state': 'Illinois', 'population': '2,722,586'}, {'city': 'Indianapolis', 'state': 'Indiana', 'population': '853,431'}, {'city': 'Columbus', 'state': 'Ohio', 'population': '852,144'}, {'city': 'Detroit', 'state': 'Michigan', 'population': '679,865'}, {'city': 'Milwaukee', 'state': 'Wisconsin', 'population': '599,086'}, {'city': 'Kansas City', 'state': 'Missouri', 'population': '476,974'}, {'city': 'Omaha', 'state': 'Nebraska', 'population': '463,081'}, {'city': 'Minneapolis', 'state': 'Minnesota', 'population': '411,452'}, {'city': 'Wichita', 'state': 'Kansas', 'population': '389,054'}, {'city': 'Cleveland', 'state': 'Ohio', 'population': '388,812'}, {'city': 'St. Louis', 'state': 'Missouri', 'population': '314,867'}, {'city': 'St. Paul', 'state': 'Minnesota', 'population': '300,820'}, {'city': 'Cincinnati', 'state': 'Ohio', 'population': '298,957'}, {'city': 'Toledo', 'state': 'Ohio', 'population': '279,455'}, {'city': 'Lincoln', 'state': 'Nebraska', 'population': '277,315'}, {'city': 'Fort Wayne', 'state': 'Indiana', 'population': '262,450'}, {'city': 'Madison', 'state': 'Wisconsin', 'population': '248,856'}, {'city': 'Des Moines', 'state': 'Iowa', 'population': '214,778'}, {'city': 'Aurora', 'state': 'Illinois', 'population': '200,946'}, {'city': 'Grand Rapids', 'state': 'Michigan', 'population': '195,355'}, {'city': 'Akron', 'state': 'Ohio', 'population': '198,252'}, {'city': 'Overland Park', 'state': 'Kansas', 'population': '186,147'}, {'city': 'Sioux Falls', 'state': 'South Dakota', 'population': '170,401'}, {'city': 'Springfield', 'state': 'Missouri', 'population': '165,785'}, {'city': 'Kansas City', 'state': 'Kansas', 'population': '151,042'}, {'city': 'Rockford', 'state': 'Illinois', 'population': '148,640'}, {'city': 'Joliet', 'state': 'Illinois', 'population': '148,172'}, {'city': 'Naperville', 'state': 'Illinois', 'population': '146,431'}, {'city': 'Dayton', 'state': 'Ohio', 'population': '140,939'}, {'city': 'Warren', 'state': 'Michigan', 'population': '135,147'}, {'city': 'Olathe', 'state': 'Kansas', 'population': '134,368'}, {'city': 'Sterling Heights', 'state': 'Michigan', 'population': '131,996'}, {'city': 'Cedar Rapids', 'state': 'Iowa', 'population': '130,330'}, {'city': 'Topeka', 'state': 'Kansas', 'population': '127,139'}, {'city': 'Evansville', 'state': 'Indiana', 'population': '119,806'}, {'city': 'Ann Arbor', 'state': 'Michigan', 'population': '119,303'}, {'city': 'Columbia', 'state': 'Missouri', 'population': '118,620'}, {'city': 'Fargo', 'state': 'North Dakota', 'population': '118,099'}, {'city': 'Independence', 'state': 'Missouri', 'population': '117,369'}, {'city': 'Springfield', 'state': 'Illinois', 'population': '116,313'}, {'city': 'Peoria', 'state': 'Illinois', 'population': '115,424'}, {'city': 'Lansing', 'state': 'Michigan', 'population': '115,222'}, {'city': 'Rochester', 'state': 'Minnesota', 'population': '112,683'}, {'city': 'Elgin', 'state': 'Illinois', 'population': '112,628'}, {'city': 'Green Bay', 'state': 'Wisconsin', 'population': '104,796'}, {'city': 'Davenport', 'state': 'Iowa', 'population': '102,268'}, {'city': 'South Bend', 'state': 'Indiana', 'population': '101,928'}]\n"
          ]
        }
      ],
      "source": [
        "# fill in code here\n",
        "cities_clean = (cities_text.split('\\n'))\n",
        "cities =[]\n",
        "for city in cities_clean:\n",
        "    city_state = city.split('; ')[0]\n",
        "    population = city.split('; ')[1]\n",
        "    name = city_state.split(',')[0]\n",
        "    state = city_state.split(', ')[1]\n",
        "    new = {'city': name, 'state': state, 'population': population}\n",
        "    cities.append(new)\n",
        "print(cities)"
      ]
    },
    {
      "cell_type": "code",
      "execution_count": 17,
      "metadata": {
        "id": "wONidsmpUp14",
        "outputId": "0568adf2-ec63-41e9-92e6-dcf45a7bda70",
        "colab": {
          "base_uri": "https://localhost:8080/"
        }
      },
      "outputs": [
        {
          "output_type": "execute_result",
          "data": {
            "text/plain": [
              "[{'city': 'Chicago', 'state': 'Illinois', 'population': '2,722,586'},\n",
              " {'city': 'Indianapolis', 'state': 'Indiana', 'population': '853,431'},\n",
              " {'city': 'Columbus', 'state': 'Ohio', 'population': '852,144'}]"
            ]
          },
          "metadata": {},
          "execution_count": 17
        }
      ],
      "source": [
        "cities[:3]\n",
        "\n",
        "# [{'city': 'Chicago', 'state': 'Illinois', 'population': '2,722,586'},\n",
        "#  {'city': 'Indianapolis', 'state': 'Indiana', 'population': '853,431'},\n",
        "#  {'city': 'Columbus', 'state': 'Ohio', 'population': '852,144'}]"
      ]
    },
    {
      "cell_type": "markdown",
      "metadata": {
        "id": "UK577vH5Up15"
      },
      "source": [
        "Now, one issue with the code above is that we would really like the population to be an integer, not a string.  So copy the code that we have above into the cell below, and update the code to make population an integer."
      ]
    },
    {
      "cell_type": "markdown",
      "metadata": {
        "id": "x5YljBiHUp15"
      },
      "source": [
        "> See if you can involve the `join` or the `replace` method to accomplish this step."
      ]
    },
    {
      "cell_type": "code",
      "execution_count": 18,
      "metadata": {
        "id": "sjGtEjpEUp15",
        "outputId": "869af91b-97d4-4f9d-f241-a9e9a746e046",
        "colab": {
          "base_uri": "https://localhost:8080/"
        }
      },
      "outputs": [
        {
          "output_type": "stream",
          "name": "stdout",
          "text": [
            "[{'city': 'Chicago', 'state': 'Illinois', 'population': 2722586}, {'city': 'Indianapolis', 'state': 'Indiana', 'population': 853431}, {'city': 'Columbus', 'state': 'Ohio', 'population': 852144}, {'city': 'Detroit', 'state': 'Michigan', 'population': 679865}, {'city': 'Milwaukee', 'state': 'Wisconsin', 'population': 599086}, {'city': 'Kansas City', 'state': 'Missouri', 'population': 476974}, {'city': 'Omaha', 'state': 'Nebraska', 'population': 463081}, {'city': 'Minneapolis', 'state': 'Minnesota', 'population': 411452}, {'city': 'Wichita', 'state': 'Kansas', 'population': 389054}, {'city': 'Cleveland', 'state': 'Ohio', 'population': 388812}, {'city': 'St. Louis', 'state': 'Missouri', 'population': 314867}, {'city': 'St. Paul', 'state': 'Minnesota', 'population': 300820}, {'city': 'Cincinnati', 'state': 'Ohio', 'population': 298957}, {'city': 'Toledo', 'state': 'Ohio', 'population': 279455}, {'city': 'Lincoln', 'state': 'Nebraska', 'population': 277315}, {'city': 'Fort Wayne', 'state': 'Indiana', 'population': 262450}, {'city': 'Madison', 'state': 'Wisconsin', 'population': 248856}, {'city': 'Des Moines', 'state': 'Iowa', 'population': 214778}, {'city': 'Aurora', 'state': 'Illinois', 'population': 200946}, {'city': 'Grand Rapids', 'state': 'Michigan', 'population': 195355}, {'city': 'Akron', 'state': 'Ohio', 'population': 198252}, {'city': 'Overland Park', 'state': 'Kansas', 'population': 186147}, {'city': 'Sioux Falls', 'state': 'South Dakota', 'population': 170401}, {'city': 'Springfield', 'state': 'Missouri', 'population': 165785}, {'city': 'Kansas City', 'state': 'Kansas', 'population': 151042}, {'city': 'Rockford', 'state': 'Illinois', 'population': 148640}, {'city': 'Joliet', 'state': 'Illinois', 'population': 148172}, {'city': 'Naperville', 'state': 'Illinois', 'population': 146431}, {'city': 'Dayton', 'state': 'Ohio', 'population': 140939}, {'city': 'Warren', 'state': 'Michigan', 'population': 135147}, {'city': 'Olathe', 'state': 'Kansas', 'population': 134368}, {'city': 'Sterling Heights', 'state': 'Michigan', 'population': 131996}, {'city': 'Cedar Rapids', 'state': 'Iowa', 'population': 130330}, {'city': 'Topeka', 'state': 'Kansas', 'population': 127139}, {'city': 'Evansville', 'state': 'Indiana', 'population': 119806}, {'city': 'Ann Arbor', 'state': 'Michigan', 'population': 119303}, {'city': 'Columbia', 'state': 'Missouri', 'population': 118620}, {'city': 'Fargo', 'state': 'North Dakota', 'population': 118099}, {'city': 'Independence', 'state': 'Missouri', 'population': 117369}, {'city': 'Springfield', 'state': 'Illinois', 'population': 116313}, {'city': 'Peoria', 'state': 'Illinois', 'population': 115424}, {'city': 'Lansing', 'state': 'Michigan', 'population': 115222}, {'city': 'Rochester', 'state': 'Minnesota', 'population': 112683}, {'city': 'Elgin', 'state': 'Illinois', 'population': 112628}, {'city': 'Green Bay', 'state': 'Wisconsin', 'population': 104796}, {'city': 'Davenport', 'state': 'Iowa', 'population': 102268}, {'city': 'South Bend', 'state': 'Indiana', 'population': 101928}]\n"
          ]
        }
      ],
      "source": [
        "# fill in code here\n",
        "cities_clean = (cities_text.split('\\n'))\n",
        "cities =[]\n",
        "for city in cities_clean:\n",
        "    city_state = city.split('; ')[0]\n",
        "    population = int(city.split('; ')[1].replace(',', ''))\n",
        "    name = city_state.split(',')[0]\n",
        "    state = city_state.split(', ')[1]\n",
        "    new = {'city': name, 'state': state, 'population': population}\n",
        "    cities.append(new)\n",
        "print(cities)"
      ]
    },
    {
      "cell_type": "code",
      "execution_count": 19,
      "metadata": {
        "id": "3-86UoutUp15",
        "outputId": "7e170f05-0782-4097-9271-d88796cfb880",
        "colab": {
          "base_uri": "https://localhost:8080/"
        }
      },
      "outputs": [
        {
          "output_type": "execute_result",
          "data": {
            "text/plain": [
              "[{'city': 'Chicago', 'state': 'Illinois', 'population': 2722586},\n",
              " {'city': 'Indianapolis', 'state': 'Indiana', 'population': 853431},\n",
              " {'city': 'Columbus', 'state': 'Ohio', 'population': 852144}]"
            ]
          },
          "metadata": {},
          "execution_count": 19
        }
      ],
      "source": [
        "cities[:3]\n",
        "\n",
        "# [{'city': 'Chicago', 'state': 'Illinois', 'population': 2722586},\n",
        "#  {'city': 'Indianapolis', 'state': 'Indiana', 'population': 853431},\n",
        "#  {'city': 'Columbus', 'state': 'Ohio', 'population': 852144}]"
      ]
    },
    {
      "cell_type": "markdown",
      "metadata": {
        "id": "gj7yOwL8Up15"
      },
      "source": [
        "Ok, now that's better."
      ]
    },
    {
      "cell_type": "markdown",
      "metadata": {
        "id": "C10xYoWnUp15"
      },
      "source": [
        "### Summary"
      ]
    },
    {
      "cell_type": "markdown",
      "metadata": {
        "id": "YzoyndQuUp15"
      },
      "source": [
        "In this lesson, we practiced using the split and join methods to start with some raw text and organize it into a more easy to use list of dictionaries.\n",
        "\n",
        "Also pay attention to the workflow that we used.  \n",
        "\n",
        "1. Perform on one, then all\n",
        "\n",
        "Above, we first selected a single row of data.  "
      ]
    },
    {
      "cell_type": "code",
      "execution_count": 20,
      "metadata": {
        "id": "2aNS3_RfUp15",
        "outputId": "935d652b-a573-4589-e4e4-0f84644cc790",
        "colab": {
          "base_uri": "https://localhost:8080/",
          "height": 35
        }
      },
      "outputs": [
        {
          "output_type": "execute_result",
          "data": {
            "text/plain": [
              "'Chicago, Illinois; 2,722,586'"
            ],
            "application/vnd.google.colaboratory.intrinsic+json": {
              "type": "string"
            }
          },
          "metadata": {},
          "execution_count": 20
        }
      ],
      "source": [
        "city_rows[0]"
      ]
    },
    {
      "cell_type": "markdown",
      "metadata": {
        "id": "1OFjmw6lUp16"
      },
      "source": [
        "The we worked on solving making progress with just a single row of data.  Only after feeling comfortable in working through the problem on a single element did we then move to the loop of data."
      ]
    },
    {
      "cell_type": "markdown",
      "metadata": {
        "id": "pFpkfA8JUp16"
      },
      "source": [
        "2. Iterate on our solution"
      ]
    },
    {
      "cell_type": "markdown",
      "metadata": {
        "id": "kwdrO6qEUp16"
      },
      "source": [
        "In working with through the loop of data, we first were satisfied with a partially working solution: a list of dictionaries where all data was a string.  Only after getting that working did we then move onto converting our population into an integer.  "
      ]
    },
    {
      "cell_type": "markdown",
      "metadata": {
        "id": "vNosrMLTUp1-"
      },
      "source": [
        "> Finding ways to break down our coding problems into steps and making the problem easier, will be a critical skillset moving forward."
      ]
    }
  ],
  "metadata": {
    "kernelspec": {
      "display_name": "Python 3 (ipykernel)",
      "language": "python",
      "name": "python3"
    },
    "language_info": {
      "codemirror_mode": {
        "name": "ipython",
        "version": 3
      },
      "file_extension": ".py",
      "mimetype": "text/x-python",
      "name": "python",
      "nbconvert_exporter": "python",
      "pygments_lexer": "ipython3",
      "version": "3.9.7"
    },
    "colab": {
      "provenance": []
    }
  },
  "nbformat": 4,
  "nbformat_minor": 0
}