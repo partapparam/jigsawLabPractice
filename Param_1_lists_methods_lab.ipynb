{
  "cells": [
    {
      "cell_type": "markdown",
      "metadata": {
        "id": "view-in-github",
        "colab_type": "text"
      },
      "source": [
        "<a href=\"https://colab.research.google.com/github/partapparam/jigsawLabPractice/blob/main/Param_1_lists_methods_lab.ipynb\" target=\"_parent\"><img src=\"https://colab.research.google.com/assets/colab-badge.svg\" alt=\"Open In Colab\"/></a>"
      ]
    },
    {
      "cell_type": "markdown",
      "metadata": {
        "id": "49ZNbnpk5_Om"
      },
      "source": [
        "# Introduction to Lists Lab"
      ]
    },
    {
      "cell_type": "markdown",
      "metadata": {
        "id": "nEY2Iea-5_Ot"
      },
      "source": [
        "### Introduction"
      ]
    },
    {
      "cell_type": "markdown",
      "metadata": {
        "id": "YkUc7Uie5_Ot"
      },
      "source": [
        "In this lesson, we'll see how to create and work with lists.  We'll do this working with some fake revenue data from Max's Wine Bar.\n",
        "\n",
        "Now Max's Wine Dive is a restaurant with multiple locations in Texas."
      ]
    },
    {
      "cell_type": "markdown",
      "metadata": {
        "id": "ylh-xZg85_Ot"
      },
      "source": [
        "<img src='https://raw.githubusercontent.com/eng-6-22/mod-1-fundamentals/main/max-maps.png' width=\"50%\">"
      ]
    },
    {
      "cell_type": "markdown",
      "metadata": {
        "id": "mu2-dncC5_Ou"
      },
      "source": [
        "Let's use our knowledge of lists to answer questions about the bar."
      ]
    },
    {
      "cell_type": "markdown",
      "metadata": {
        "id": "yuGbVMmF5_Ou"
      },
      "source": [
        "### Creating a list"
      ]
    },
    {
      "cell_type": "markdown",
      "metadata": {
        "id": "ECMgqHOM5_Ov"
      },
      "source": [
        "Let's imagine that we are tracking Max's revenue for the first 5 months.  The bar earned `300000` the first month, `285000` the second month, `325000` the third month, and `318000` the fourth month. Initialize a list with these numbers and assign it to the variable `revenues`."
      ]
    },
    {
      "cell_type": "code",
      "execution_count": null,
      "metadata": {
        "id": "AoLSv0gM5_Ow"
      },
      "outputs": [],
      "source": [
        "revenues = [300000, 285000, 325000, 318000]"
      ]
    },
    {
      "cell_type": "markdown",
      "metadata": {
        "id": "jZDgaW8s5_Ox"
      },
      "source": [
        "Now select the first element from the list."
      ]
    },
    {
      "cell_type": "code",
      "execution_count": null,
      "metadata": {
        "id": "X4hhTFny5_Ox",
        "outputId": "e7b8af0e-a8b6-49e4-e897-81f90c1cb991",
        "colab": {
          "base_uri": "https://localhost:8080/"
        }
      },
      "outputs": [
        {
          "output_type": "execute_result",
          "data": {
            "text/plain": [
              "300000"
            ]
          },
          "metadata": {},
          "execution_count": 2
        }
      ],
      "source": [
        "revenues[0]\n",
        "# 300000"
      ]
    },
    {
      "cell_type": "markdown",
      "metadata": {
        "id": "Py1YydB65_Ox"
      },
      "source": [
        "Ok, now it's time to select the revenue earned in the last month."
      ]
    },
    {
      "cell_type": "code",
      "execution_count": null,
      "metadata": {
        "id": "k5KQHaeE5_Ox",
        "outputId": "15b4e6d6-55a5-424a-9c56-aebd134e3edc",
        "colab": {
          "base_uri": "https://localhost:8080/"
        }
      },
      "outputs": [
        {
          "output_type": "execute_result",
          "data": {
            "text/plain": [
              "318000"
            ]
          },
          "metadata": {},
          "execution_count": 3
        }
      ],
      "source": [
        "# 318000\n",
        "revenues[-1]"
      ]
    },
    {
      "cell_type": "markdown",
      "metadata": {
        "id": "BBajsKqD5_Oy"
      },
      "source": [
        "Now, practice slicing the two middle revenues from our list."
      ]
    },
    {
      "cell_type": "code",
      "execution_count": null,
      "metadata": {
        "id": "Yq7ynaMe5_Oy",
        "outputId": "4c67f09f-af22-4ffe-a0ad-77123c3f34e2",
        "colab": {
          "base_uri": "https://localhost:8080/"
        }
      },
      "outputs": [
        {
          "output_type": "execute_result",
          "data": {
            "text/plain": [
              "[285000, 325000]"
            ]
          },
          "metadata": {},
          "execution_count": 7
        }
      ],
      "source": [
        "revenues[1:3]\n",
        "# [285000, 325000]"
      ]
    },
    {
      "cell_type": "markdown",
      "metadata": {
        "id": "MgfsECX25_Oy"
      },
      "source": [
        "Finally, calculate the length of the list."
      ]
    },
    {
      "cell_type": "code",
      "execution_count": null,
      "metadata": {
        "id": "yNgdUIrn5_Oy",
        "outputId": "6312863f-5acd-4437-9aef-7b31185ba695",
        "colab": {
          "base_uri": "https://localhost:8080/"
        }
      },
      "outputs": [
        {
          "output_type": "execute_result",
          "data": {
            "text/plain": [
              "4"
            ]
          },
          "metadata": {},
          "execution_count": 8
        }
      ],
      "source": [
        "len(revenues)\n",
        "# 4"
      ]
    },
    {
      "cell_type": "markdown",
      "metadata": {
        "id": "o72VhOyr5_Oy"
      },
      "source": [
        "### Altering the list"
      ]
    },
    {
      "cell_type": "markdown",
      "metadata": {
        "id": "-gbDdcMf5_Oy"
      },
      "source": [
        "As we may know once our list is created, we can add and remove elements to our list.  Let's imagine that we just received another the revenue for our fifth month of `21000`. Add this amount to the end of our revenues list."
      ]
    },
    {
      "cell_type": "code",
      "execution_count": null,
      "metadata": {
        "id": "HJyfCgJ15_Oy"
      },
      "outputs": [],
      "source": [
        "revenues.append(21000)\n",
        "# add the additional revenue to the end of the list in this cell\n"
      ]
    },
    {
      "cell_type": "code",
      "execution_count": null,
      "metadata": {
        "id": "9pFNxUCO5_Oz",
        "outputId": "cc9b7c32-6b17-4645-a03b-49e7e5d33b72",
        "colab": {
          "base_uri": "https://localhost:8080/"
        }
      },
      "outputs": [
        {
          "output_type": "execute_result",
          "data": {
            "text/plain": [
              "[300000, 285000, 325000, 318000, 21000]"
            ]
          },
          "metadata": {},
          "execution_count": 10
        }
      ],
      "source": [
        "revenues\n",
        "\n",
        "# [300000, 285000, 325000, 318000, 21000]"
      ]
    },
    {
      "cell_type": "markdown",
      "metadata": {
        "id": "zuY_Zd8T5_O3"
      },
      "source": [
        "Now, if we need to remove an element from a list we can do so with the `pop` method.  For example, call `revenues.pop()` and take a look at the variable revenues after doing so."
      ]
    },
    {
      "cell_type": "code",
      "execution_count": null,
      "metadata": {
        "id": "p098kKS_5_O3",
        "outputId": "d8101d8c-9b81-44e6-ed9d-89b3861d4896",
        "colab": {
          "base_uri": "https://localhost:8080/"
        }
      },
      "outputs": [
        {
          "output_type": "execute_result",
          "data": {
            "text/plain": [
              "21000"
            ]
          },
          "metadata": {},
          "execution_count": 11
        }
      ],
      "source": [
        "revenues.pop()"
      ]
    },
    {
      "cell_type": "code",
      "execution_count": null,
      "metadata": {
        "id": "br7QBbn95_O3",
        "outputId": "88484134-d10e-4b1d-eb75-52cb77478003",
        "colab": {
          "base_uri": "https://localhost:8080/"
        }
      },
      "outputs": [
        {
          "output_type": "execute_result",
          "data": {
            "text/plain": [
              "[285000, 300000, 318000, 325000]"
            ]
          },
          "metadata": {},
          "execution_count": 13
        }
      ],
      "source": [
        "sorted(revenues)\n",
        "\n",
        "\n",
        "# [300000, 285000, 325000, 318000]"
      ]
    },
    {
      "cell_type": "markdown",
      "metadata": {
        "id": "6WTDzKJC5_O3"
      },
      "source": [
        "Next, let's find largest and smallest numbers in the list with the use of the `sorted` method."
      ]
    },
    {
      "cell_type": "code",
      "execution_count": null,
      "metadata": {
        "id": "hf6kGIjZ5_PS",
        "outputId": "832a8a98-5628-4edd-eb2e-0da9b0fcf91d",
        "colab": {
          "base_uri": "https://localhost:8080/"
        }
      },
      "outputs": [
        {
          "output_type": "execute_result",
          "data": {
            "text/plain": [
              "325000"
            ]
          },
          "metadata": {},
          "execution_count": 14
        }
      ],
      "source": [
        "max_revenue = sorted(revenues)[-1]\n",
        "\n",
        "max_revenue\n",
        "\n",
        "# 325000"
      ]
    },
    {
      "cell_type": "code",
      "execution_count": null,
      "metadata": {
        "id": "7HZ4hUjV5_PS",
        "outputId": "9c06da85-c436-4926-e603-c1a78aae5d16",
        "colab": {
          "base_uri": "https://localhost:8080/"
        }
      },
      "outputs": [
        {
          "output_type": "execute_result",
          "data": {
            "text/plain": [
              "285000"
            ]
          },
          "metadata": {},
          "execution_count": 15
        }
      ],
      "source": [
        "min_revenue = sorted(revenues)[0]\n",
        "\n",
        "min_revenue\n",
        "\n",
        "# 285000"
      ]
    },
    {
      "cell_type": "markdown",
      "metadata": {
        "id": "GNNHrH1E5_PT"
      },
      "source": [
        "Now here are a list of customers that our restaurant had in the past day.  Find the number of customers that showed up more than once."
      ]
    },
    {
      "cell_type": "code",
      "execution_count": null,
      "metadata": {
        "id": "oBfuJDmF5_PT"
      },
      "outputs": [],
      "source": [
        "customers = ['Lowell Appleberry', 'Elisha Guillen', 'Benita Ryals', 'Destiny Nester',\n",
        " 'Particia Race', 'Rosemarie Dolan', 'Rachal Funderburk', 'Onie Ballerini',\n",
        "         'Lucie Lowery', 'Graham Mirsky', 'Azucena Curtis', 'Era Veillon',\n",
        " 'Whitley Ensign', 'Manie Owensby', 'Lucie Lowery', 'Niki Backman', 'Benita Ryals', 'Ulysses Wei',\n",
        " 'Florida Fryar', 'Kathrine Hyden', 'Soo Pinkney', 'Tarra Rich']"
      ]
    },
    {
      "cell_type": "code",
      "execution_count": null,
      "metadata": {
        "id": "qC1gzjvo5_PT",
        "outputId": "456d2819-287f-4628-e697-8bbb6c297f6f",
        "colab": {
          "base_uri": "https://localhost:8080/"
        }
      },
      "outputs": [
        {
          "output_type": "stream",
          "name": "stdout",
          "text": [
            "['Lucie Lowery', 'Benita Ryals']\n"
          ]
        }
      ],
      "source": [
        "exists = set()\n",
        "dupes = []\n",
        "for c in customers:\n",
        "    if c in exists:\n",
        "        dupes.append(c)\n",
        "    else:\n",
        "        exists.add(c)\n",
        "\n",
        "print(dupes)"
      ]
    },
    {
      "cell_type": "markdown",
      "metadata": {
        "id": "axbGOcb05_PT"
      },
      "source": [
        "### Summary"
      ]
    },
    {
      "cell_type": "markdown",
      "metadata": {
        "id": "rfumkigO5_PT"
      },
      "source": [
        "In this lesson we practiced some of the functions that we have available with lists.  We saw that we can add elements to a list with `append`, remove them with `pop`, and sort a list with the `sorted` method.  We also practiced slicing elements with a list."
      ]
    }
  ],
  "metadata": {
    "kernelspec": {
      "display_name": "Python 3 (ipykernel)",
      "language": "python",
      "name": "python3"
    },
    "language_info": {
      "codemirror_mode": {
        "name": "ipython",
        "version": 3
      },
      "file_extension": ".py",
      "mimetype": "text/x-python",
      "name": "python",
      "nbconvert_exporter": "python",
      "pygments_lexer": "ipython3",
      "version": "3.10.6"
    },
    "colab": {
      "provenance": [],
      "include_colab_link": true
    }
  },
  "nbformat": 4,
  "nbformat_minor": 0
}