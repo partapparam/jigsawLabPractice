{
  "cells": [
    {
      "cell_type": "markdown",
      "metadata": {
        "id": "feCIMDqYpBcm"
      },
      "source": [
        "# Holding Onto Our Data"
      ]
    },
    {
      "cell_type": "markdown",
      "metadata": {
        "id": "_fEleG3MpBct"
      },
      "source": [
        "### Introduction"
      ]
    },
    {
      "cell_type": "markdown",
      "metadata": {
        "id": "-HJzQADfpBct"
      },
      "source": [
        "In the last lesson we were able to gather data from our [Wikipedia page of city populations](https://en.wikipedia.org/wiki/List_of_United_States_cities_by_population)."
      ]
    },
    {
      "cell_type": "markdown",
      "metadata": {
        "id": "0t7P-zjGpBcu"
      },
      "source": [
        "<img src=\"https://github.com/jigsawlabs-student/code-intro/blob/master/top_cities.png?raw=1\">"
      ]
    },
    {
      "cell_type": "code",
      "execution_count": 1,
      "metadata": {
        "id": "KieSNZwEpBcw"
      },
      "outputs": [],
      "source": [
        "import pandas as pd\n",
        "tables = pd.read_html('https://en.wikipedia.org/wiki/List_of_United_States_cities_by_population')\n",
        "cities_df = tables[4]\n",
        "cities = cities_df.to_dict('records')\n",
        "# cities[:2]"
      ]
    },
    {
      "cell_type": "markdown",
      "metadata": {
        "id": "TzVJ4U8spBcy"
      },
      "source": [
        "> Press shift + enter on the code above."
      ]
    },
    {
      "cell_type": "markdown",
      "metadata": {
        "id": "Z0kaDEp4pBcy"
      },
      "source": [
        "The list of dictionaries looks like the following."
      ]
    },
    {
      "cell_type": "markdown",
      "metadata": {
        "id": "VwcJQgizpBcz"
      },
      "source": [
        "```python\n",
        "cities = [\n",
        "     {'City': 'New York', '2020census': 8804190},\n",
        "    {'City': 'Los Angeles', '2020census': 3898747}\n",
        "]\n",
        "```"
      ]
    },
    {
      "cell_type": "markdown",
      "metadata": {
        "id": "PDNX5aNRpBcz"
      },
      "source": [
        "From there, we wrote code to loop through each city, selecting the population estimate and printing it out.  \n",
        "\n",
        "> We slice the first few dictionaries so that we are not printing out the population of every city."
      ]
    },
    {
      "cell_type": "code",
      "execution_count": 4,
      "metadata": {
        "id": "fO97w80ypBcz",
        "outputId": "1b700822-20ad-4071-a4d9-e6e40c05b66a",
        "colab": {
          "base_uri": "https://localhost:8080/"
        }
      },
      "outputs": [
        {
          "output_type": "stream",
          "name": "stdout",
          "text": [
            "8804190\n",
            "3898747\n",
            "2746388\n",
            "2304580\n",
            "1608139\n",
            "1603797\n"
          ]
        }
      ],
      "source": [
        "six_cities = cities[0:6]\n",
        "\n",
        "for top_city in six_cities:\n",
        "    #print(top_city)\n",
        "    #top_city -> {'City': 'New York', '2020 census': 8804190}\n",
        "    city_pop = top_city['2020 census']\n",
        "    print(city_pop)"
      ]
    },
    {
      "cell_type": "markdown",
      "metadata": {
        "id": "MCeF9VVlpBc0"
      },
      "source": [
        "## Holding onto our data"
      ]
    },
    {
      "cell_type": "markdown",
      "metadata": {
        "id": "00Yj-TCMpBc0"
      },
      "source": [
        "Ok, we already done some great work with printing out our data.  But what we really need is **a list** of populations.  Let's walk through how to add each population to a list, so that we can hold onto our populations, and then add these populations to our plot.\n",
        "\n",
        "#### 1. Adding a single element to a list"
      ]
    },
    {
      "cell_type": "markdown",
      "metadata": {
        "id": "TUnNNxndpBc1"
      },
      "source": [
        "We can add data to a list using the append method."
      ]
    },
    {
      "cell_type": "code",
      "execution_count": 5,
      "metadata": {
        "id": "vN2nx-E9pBc1",
        "outputId": "df190f62-e3ad-4b34-9a58-05a84c73a3aa",
        "colab": {
          "base_uri": "https://localhost:8080/"
        }
      },
      "outputs": [
        {
          "output_type": "execute_result",
          "data": {
            "text/plain": [
              "[8804190]"
            ]
          },
          "metadata": {},
          "execution_count": 5
        }
      ],
      "source": [
        "populations = []\n",
        "first_pop = 8804190\n",
        "\n",
        "populations.append(first_pop)\n",
        "\n",
        "populations"
      ]
    },
    {
      "cell_type": "markdown",
      "metadata": {
        "id": "6hKDThzIpBc1"
      },
      "source": [
        "In the code above, we first created an empty list using the square brackets.  Then we used the `append` method to add in the first population."
      ]
    },
    {
      "cell_type": "markdown",
      "metadata": {
        "id": "iISA9H3-pBc1"
      },
      "source": [
        "```python\n",
        "empty_list.append(data)\n",
        "```"
      ]
    },
    {
      "cell_type": "markdown",
      "metadata": {
        "id": "QbdAUyKjpBc2"
      },
      "source": [
        "Now it's your turn.  Create an empty list and assign it to the variable `more_populations`.  Then append in the `second_pop`."
      ]
    },
    {
      "cell_type": "code",
      "execution_count": 6,
      "metadata": {
        "id": "O-gI1N3CpBc3"
      },
      "outputs": [],
      "source": [
        "more_populations = []\n",
        "\n",
        "second_pop = 3990456\n",
        "\n",
        "more_populations.append(second_pop)\n",
        "# [3990456]"
      ]
    },
    {
      "cell_type": "markdown",
      "metadata": {
        "id": "22D0Ioh-pBc3"
      },
      "source": [
        "> Replace the word None with your list.  Press shift + enter.  If you appended correctly, you will see your the population."
      ]
    },
    {
      "cell_type": "markdown",
      "metadata": {
        "id": "5HN1eZNkpBc3"
      },
      "source": [
        "#### Adding Multiple Elements to a list"
      ]
    },
    {
      "cell_type": "markdown",
      "metadata": {
        "id": "KyMpfrIBpBc3"
      },
      "source": [
        "Ok, now we don't want to just add a single population to an empty list but every population to an empty list.  Think about our mailboxes again."
      ]
    },
    {
      "cell_type": "markdown",
      "metadata": {
        "id": "I_7FASDwpBc4"
      },
      "source": [
        "<img src=\"https://github.com/jigsawlabs-student/code-intro/blob/master/mailboxes.jpg?raw=1\" width = 30%>"
      ]
    },
    {
      "cell_type": "markdown",
      "metadata": {
        "id": "ZCZVzEaRpBc4"
      },
      "source": [
        "This time as our loop opens up each mailbox one by one, we not only need to access that information but also need to add the selected information to a list."
      ]
    },
    {
      "cell_type": "markdown",
      "metadata": {
        "id": "AvHvmU8IpBc4"
      },
      "source": [
        "1. Start with our list of dictionaries called `cities`.  \n",
        "2. Create an empty list and assign it to the variable `city_names`.  \n",
        "3. As our loop moves one by one through each dictionary, we select just the information we want from the dictionary and add it to the list."
      ]
    },
    {
      "cell_type": "code",
      "execution_count": 7,
      "metadata": {
        "id": "wsp831YhpBc4"
      },
      "outputs": [],
      "source": [
        "cities\n",
        "# cities = [\n",
        "#      {'City': 'New York', '2020census': 8804190},\n",
        "#     {'City': 'Los Angeles', '2020census': 3898747}\n",
        "# ]\n",
        "city_names = []\n",
        "\n",
        "for city in cities:\n",
        "    #   each_city -> {'City': 'New York', '2020census': 8804190}\n",
        "    city_name = city['City']\n",
        "    # city_name -> 'New York'\n",
        "    city_names.append(city_name)"
      ]
    },
    {
      "cell_type": "markdown",
      "metadata": {
        "id": "ByaCjXHwpBc4"
      },
      "source": [
        "> Press shift + return on the cell above."
      ]
    },
    {
      "cell_type": "markdown",
      "metadata": {
        "id": "5ZtgrcwupBc4"
      },
      "source": [
        "Now let's take a look at the first few elements of our `city_names` list."
      ]
    },
    {
      "cell_type": "code",
      "execution_count": 8,
      "metadata": {
        "id": "LtOj1M1DpBc4",
        "outputId": "3e9ae1e0-1a11-42ba-94f2-f5cbd57e5c3b",
        "colab": {
          "base_uri": "https://localhost:8080/"
        }
      },
      "outputs": [
        {
          "output_type": "execute_result",
          "data": {
            "text/plain": [
              "['New York[d]', 'Los Angeles', 'Chicago']"
            ]
          },
          "metadata": {},
          "execution_count": 8
        }
      ],
      "source": [
        "city_names[:3]\n",
        "\n",
        "# ['New York[d]', 'Los Angeles', 'Chicago']"
      ]
    },
    {
      "cell_type": "markdown",
      "metadata": {
        "id": "_i25RPkNpBc5"
      },
      "source": [
        "> Once again, before moving, try to explain what is happening in each line in our code that loops through the cities."
      ]
    },
    {
      "cell_type": "markdown",
      "metadata": {
        "id": "4Sm3yt4bpBc5"
      },
      "source": [
        "Now it's your turn.  Create a list of `populations` by accessing the `2020census` from each element and adding them to the empty list of populations."
      ]
    },
    {
      "cell_type": "code",
      "execution_count": 9,
      "metadata": {
        "id": "vg9lldOhpBc5"
      },
      "outputs": [],
      "source": [
        "# create an empty list of populations\n",
        "populations = []\n",
        "\n",
        "# loop through the each city\n",
        "    # select the 2020census\n",
        "    # add it to the list\n",
        "for city in cities:\n",
        "    city_census = city['2020 census']\n",
        "    populations.append(city_census)"
      ]
    },
    {
      "cell_type": "code",
      "execution_count": 10,
      "metadata": {
        "id": "EWyJCQEZpBc5",
        "outputId": "328404bb-fdd8-4835-c235-cb4ff1107365",
        "colab": {
          "base_uri": "https://localhost:8080/"
        }
      },
      "outputs": [
        {
          "output_type": "execute_result",
          "data": {
            "text/plain": [
              "[8804190, 3898747, 2746388]"
            ]
          },
          "metadata": {},
          "execution_count": 10
        }
      ],
      "source": [
        "populations[:3]\n",
        "# [8804190, 3898747, 2746388]"
      ]
    },
    {
      "cell_type": "markdown",
      "metadata": {
        "id": "q9MG3DzzpBc5"
      },
      "source": [
        "This is an important task so let's loop through our `cities` once more with data listed under the key `2010Census`."
      ]
    },
    {
      "cell_type": "code",
      "execution_count": 24,
      "metadata": {
        "id": "1FbezlqzpBc5"
      },
      "outputs": [],
      "source": [
        "pops_2022 = []\n",
        "# write your code below\n",
        "# no 2010 data exists\n",
        "for city in cities:\n",
        "  city_census = city['2022 estimate']\n",
        "  pops_2022.append(city_census)\n",
        "\n",
        "\n"
      ]
    },
    {
      "cell_type": "markdown",
      "metadata": {
        "id": "nkgKSRwppBc5"
      },
      "source": [
        "> Then check to make sure that the first three populations are correct."
      ]
    },
    {
      "cell_type": "code",
      "execution_count": null,
      "metadata": {
        "id": "0wtOooJtpBc6"
      },
      "outputs": [],
      "source": [
        "pops_2010[:3]\n",
        "# [8175133, 3792621, 2695598]"
      ]
    },
    {
      "cell_type": "markdown",
      "metadata": {
        "id": "JE6ffveFpBc6"
      },
      "source": [
        "### Plotting Our Data"
      ]
    },
    {
      "cell_type": "markdown",
      "metadata": {
        "id": "SvDGe4q3pBc6"
      },
      "source": [
        "Now we have a list of city names and a list of populations."
      ]
    },
    {
      "cell_type": "code",
      "execution_count": 26,
      "metadata": {
        "id": "-L9HuczEpBc6"
      },
      "outputs": [],
      "source": [
        "city_names = []\n",
        "\n",
        "for each_city in cities:\n",
        "    city_name = each_city['City']\n",
        "    city_names.append(city_name)\n",
        "\n",
        "populations = []\n",
        "\n",
        "for each_city in cities:\n",
        "    city_pop = each_city['2020 census']\n",
        "    populations.append(city_pop)"
      ]
    },
    {
      "cell_type": "markdown",
      "metadata": {
        "id": "m_B01fq9pBc_"
      },
      "source": [
        "> Press shift + enter on the cell above."
      ]
    },
    {
      "cell_type": "code",
      "execution_count": 27,
      "metadata": {
        "id": "GuvLfE-SpBc_",
        "outputId": "dfaedf6a-eedd-48eb-b47d-4041b81e8f6e",
        "colab": {
          "base_uri": "https://localhost:8080/"
        }
      },
      "outputs": [
        {
          "output_type": "execute_result",
          "data": {
            "text/plain": [
              "['New York[d]', 'Los Angeles', 'Chicago']"
            ]
          },
          "metadata": {},
          "execution_count": 27
        }
      ],
      "source": [
        "city_names[:3]"
      ]
    },
    {
      "cell_type": "code",
      "execution_count": 28,
      "metadata": {
        "id": "FNQWhMNfpBc_",
        "outputId": "b0da8424-7ed7-4fd2-d324-283d9a102b05",
        "colab": {
          "base_uri": "https://localhost:8080/"
        }
      },
      "outputs": [
        {
          "output_type": "execute_result",
          "data": {
            "text/plain": [
              "[8804190, 3898747, 2746388]"
            ]
          },
          "metadata": {},
          "execution_count": 28
        }
      ],
      "source": [
        "populations[:3]"
      ]
    },
    {
      "cell_type": "markdown",
      "metadata": {
        "id": "ru57WRH6pBc_"
      },
      "source": [
        "Let's use them to create a plot with Plotly."
      ]
    },
    {
      "cell_type": "markdown",
      "metadata": {
        "id": "y6vbnj8XpBdA"
      },
      "source": [
        "Remember we can import our library and create a blank chart with the following code."
      ]
    },
    {
      "cell_type": "markdown",
      "metadata": {
        "id": "Rx4gUdjJpBdA"
      },
      "source": [
        "> Press shift + enter on the cell below."
      ]
    },
    {
      "cell_type": "code",
      "execution_count": 29,
      "metadata": {
        "id": "7ooDqnw3pBdA",
        "outputId": "2c9c71d2-a6e5-40c1-93cb-224c7dd1b72c",
        "colab": {
          "base_uri": "https://localhost:8080/",
          "height": 542
        }
      },
      "outputs": [
        {
          "output_type": "display_data",
          "data": {
            "text/html": [
              "<html>\n",
              "<head><meta charset=\"utf-8\" /></head>\n",
              "<body>\n",
              "    <div>            <script src=\"https://cdnjs.cloudflare.com/ajax/libs/mathjax/2.7.5/MathJax.js?config=TeX-AMS-MML_SVG\"></script><script type=\"text/javascript\">if (window.MathJax && window.MathJax.Hub && window.MathJax.Hub.Config) {window.MathJax.Hub.Config({SVG: {font: \"STIX-Web\"}});}</script>                <script type=\"text/javascript\">window.PlotlyConfig = {MathJaxConfig: 'local'};</script>\n",
              "        <script src=\"https://cdn.plot.ly/plotly-2.18.2.min.js\"></script>                <div id=\"3a113486-797e-4785-8ab1-ad563c17a43e\" class=\"plotly-graph-div\" style=\"height:525px; width:100%;\"></div>            <script type=\"text/javascript\">                                    window.PLOTLYENV=window.PLOTLYENV || {};                                    if (document.getElementById(\"3a113486-797e-4785-8ab1-ad563c17a43e\")) {                    Plotly.newPlot(                        \"3a113486-797e-4785-8ab1-ad563c17a43e\",                        [],                        {\"template\":{\"data\":{\"histogram2dcontour\":[{\"type\":\"histogram2dcontour\",\"colorbar\":{\"outlinewidth\":0,\"ticks\":\"\"},\"colorscale\":[[0.0,\"#0d0887\"],[0.1111111111111111,\"#46039f\"],[0.2222222222222222,\"#7201a8\"],[0.3333333333333333,\"#9c179e\"],[0.4444444444444444,\"#bd3786\"],[0.5555555555555556,\"#d8576b\"],[0.6666666666666666,\"#ed7953\"],[0.7777777777777778,\"#fb9f3a\"],[0.8888888888888888,\"#fdca26\"],[1.0,\"#f0f921\"]]}],\"choropleth\":[{\"type\":\"choropleth\",\"colorbar\":{\"outlinewidth\":0,\"ticks\":\"\"}}],\"histogram2d\":[{\"type\":\"histogram2d\",\"colorbar\":{\"outlinewidth\":0,\"ticks\":\"\"},\"colorscale\":[[0.0,\"#0d0887\"],[0.1111111111111111,\"#46039f\"],[0.2222222222222222,\"#7201a8\"],[0.3333333333333333,\"#9c179e\"],[0.4444444444444444,\"#bd3786\"],[0.5555555555555556,\"#d8576b\"],[0.6666666666666666,\"#ed7953\"],[0.7777777777777778,\"#fb9f3a\"],[0.8888888888888888,\"#fdca26\"],[1.0,\"#f0f921\"]]}],\"heatmap\":[{\"type\":\"heatmap\",\"colorbar\":{\"outlinewidth\":0,\"ticks\":\"\"},\"colorscale\":[[0.0,\"#0d0887\"],[0.1111111111111111,\"#46039f\"],[0.2222222222222222,\"#7201a8\"],[0.3333333333333333,\"#9c179e\"],[0.4444444444444444,\"#bd3786\"],[0.5555555555555556,\"#d8576b\"],[0.6666666666666666,\"#ed7953\"],[0.7777777777777778,\"#fb9f3a\"],[0.8888888888888888,\"#fdca26\"],[1.0,\"#f0f921\"]]}],\"heatmapgl\":[{\"type\":\"heatmapgl\",\"colorbar\":{\"outlinewidth\":0,\"ticks\":\"\"},\"colorscale\":[[0.0,\"#0d0887\"],[0.1111111111111111,\"#46039f\"],[0.2222222222222222,\"#7201a8\"],[0.3333333333333333,\"#9c179e\"],[0.4444444444444444,\"#bd3786\"],[0.5555555555555556,\"#d8576b\"],[0.6666666666666666,\"#ed7953\"],[0.7777777777777778,\"#fb9f3a\"],[0.8888888888888888,\"#fdca26\"],[1.0,\"#f0f921\"]]}],\"contourcarpet\":[{\"type\":\"contourcarpet\",\"colorbar\":{\"outlinewidth\":0,\"ticks\":\"\"}}],\"contour\":[{\"type\":\"contour\",\"colorbar\":{\"outlinewidth\":0,\"ticks\":\"\"},\"colorscale\":[[0.0,\"#0d0887\"],[0.1111111111111111,\"#46039f\"],[0.2222222222222222,\"#7201a8\"],[0.3333333333333333,\"#9c179e\"],[0.4444444444444444,\"#bd3786\"],[0.5555555555555556,\"#d8576b\"],[0.6666666666666666,\"#ed7953\"],[0.7777777777777778,\"#fb9f3a\"],[0.8888888888888888,\"#fdca26\"],[1.0,\"#f0f921\"]]}],\"surface\":[{\"type\":\"surface\",\"colorbar\":{\"outlinewidth\":0,\"ticks\":\"\"},\"colorscale\":[[0.0,\"#0d0887\"],[0.1111111111111111,\"#46039f\"],[0.2222222222222222,\"#7201a8\"],[0.3333333333333333,\"#9c179e\"],[0.4444444444444444,\"#bd3786\"],[0.5555555555555556,\"#d8576b\"],[0.6666666666666666,\"#ed7953\"],[0.7777777777777778,\"#fb9f3a\"],[0.8888888888888888,\"#fdca26\"],[1.0,\"#f0f921\"]]}],\"mesh3d\":[{\"type\":\"mesh3d\",\"colorbar\":{\"outlinewidth\":0,\"ticks\":\"\"}}],\"scatter\":[{\"fillpattern\":{\"fillmode\":\"overlay\",\"size\":10,\"solidity\":0.2},\"type\":\"scatter\"}],\"parcoords\":[{\"type\":\"parcoords\",\"line\":{\"colorbar\":{\"outlinewidth\":0,\"ticks\":\"\"}}}],\"scatterpolargl\":[{\"type\":\"scatterpolargl\",\"marker\":{\"colorbar\":{\"outlinewidth\":0,\"ticks\":\"\"}}}],\"bar\":[{\"error_x\":{\"color\":\"#2a3f5f\"},\"error_y\":{\"color\":\"#2a3f5f\"},\"marker\":{\"line\":{\"color\":\"#E5ECF6\",\"width\":0.5},\"pattern\":{\"fillmode\":\"overlay\",\"size\":10,\"solidity\":0.2}},\"type\":\"bar\"}],\"scattergeo\":[{\"type\":\"scattergeo\",\"marker\":{\"colorbar\":{\"outlinewidth\":0,\"ticks\":\"\"}}}],\"scatterpolar\":[{\"type\":\"scatterpolar\",\"marker\":{\"colorbar\":{\"outlinewidth\":0,\"ticks\":\"\"}}}],\"histogram\":[{\"marker\":{\"pattern\":{\"fillmode\":\"overlay\",\"size\":10,\"solidity\":0.2}},\"type\":\"histogram\"}],\"scattergl\":[{\"type\":\"scattergl\",\"marker\":{\"colorbar\":{\"outlinewidth\":0,\"ticks\":\"\"}}}],\"scatter3d\":[{\"type\":\"scatter3d\",\"line\":{\"colorbar\":{\"outlinewidth\":0,\"ticks\":\"\"}},\"marker\":{\"colorbar\":{\"outlinewidth\":0,\"ticks\":\"\"}}}],\"scattermapbox\":[{\"type\":\"scattermapbox\",\"marker\":{\"colorbar\":{\"outlinewidth\":0,\"ticks\":\"\"}}}],\"scatterternary\":[{\"type\":\"scatterternary\",\"marker\":{\"colorbar\":{\"outlinewidth\":0,\"ticks\":\"\"}}}],\"scattercarpet\":[{\"type\":\"scattercarpet\",\"marker\":{\"colorbar\":{\"outlinewidth\":0,\"ticks\":\"\"}}}],\"carpet\":[{\"aaxis\":{\"endlinecolor\":\"#2a3f5f\",\"gridcolor\":\"white\",\"linecolor\":\"white\",\"minorgridcolor\":\"white\",\"startlinecolor\":\"#2a3f5f\"},\"baxis\":{\"endlinecolor\":\"#2a3f5f\",\"gridcolor\":\"white\",\"linecolor\":\"white\",\"minorgridcolor\":\"white\",\"startlinecolor\":\"#2a3f5f\"},\"type\":\"carpet\"}],\"table\":[{\"cells\":{\"fill\":{\"color\":\"#EBF0F8\"},\"line\":{\"color\":\"white\"}},\"header\":{\"fill\":{\"color\":\"#C8D4E3\"},\"line\":{\"color\":\"white\"}},\"type\":\"table\"}],\"barpolar\":[{\"marker\":{\"line\":{\"color\":\"#E5ECF6\",\"width\":0.5},\"pattern\":{\"fillmode\":\"overlay\",\"size\":10,\"solidity\":0.2}},\"type\":\"barpolar\"}],\"pie\":[{\"automargin\":true,\"type\":\"pie\"}]},\"layout\":{\"autotypenumbers\":\"strict\",\"colorway\":[\"#636efa\",\"#EF553B\",\"#00cc96\",\"#ab63fa\",\"#FFA15A\",\"#19d3f3\",\"#FF6692\",\"#B6E880\",\"#FF97FF\",\"#FECB52\"],\"font\":{\"color\":\"#2a3f5f\"},\"hovermode\":\"closest\",\"hoverlabel\":{\"align\":\"left\"},\"paper_bgcolor\":\"white\",\"plot_bgcolor\":\"#E5ECF6\",\"polar\":{\"bgcolor\":\"#E5ECF6\",\"angularaxis\":{\"gridcolor\":\"white\",\"linecolor\":\"white\",\"ticks\":\"\"},\"radialaxis\":{\"gridcolor\":\"white\",\"linecolor\":\"white\",\"ticks\":\"\"}},\"ternary\":{\"bgcolor\":\"#E5ECF6\",\"aaxis\":{\"gridcolor\":\"white\",\"linecolor\":\"white\",\"ticks\":\"\"},\"baxis\":{\"gridcolor\":\"white\",\"linecolor\":\"white\",\"ticks\":\"\"},\"caxis\":{\"gridcolor\":\"white\",\"linecolor\":\"white\",\"ticks\":\"\"}},\"coloraxis\":{\"colorbar\":{\"outlinewidth\":0,\"ticks\":\"\"}},\"colorscale\":{\"sequential\":[[0.0,\"#0d0887\"],[0.1111111111111111,\"#46039f\"],[0.2222222222222222,\"#7201a8\"],[0.3333333333333333,\"#9c179e\"],[0.4444444444444444,\"#bd3786\"],[0.5555555555555556,\"#d8576b\"],[0.6666666666666666,\"#ed7953\"],[0.7777777777777778,\"#fb9f3a\"],[0.8888888888888888,\"#fdca26\"],[1.0,\"#f0f921\"]],\"sequentialminus\":[[0.0,\"#0d0887\"],[0.1111111111111111,\"#46039f\"],[0.2222222222222222,\"#7201a8\"],[0.3333333333333333,\"#9c179e\"],[0.4444444444444444,\"#bd3786\"],[0.5555555555555556,\"#d8576b\"],[0.6666666666666666,\"#ed7953\"],[0.7777777777777778,\"#fb9f3a\"],[0.8888888888888888,\"#fdca26\"],[1.0,\"#f0f921\"]],\"diverging\":[[0,\"#8e0152\"],[0.1,\"#c51b7d\"],[0.2,\"#de77ae\"],[0.3,\"#f1b6da\"],[0.4,\"#fde0ef\"],[0.5,\"#f7f7f7\"],[0.6,\"#e6f5d0\"],[0.7,\"#b8e186\"],[0.8,\"#7fbc41\"],[0.9,\"#4d9221\"],[1,\"#276419\"]]},\"xaxis\":{\"gridcolor\":\"white\",\"linecolor\":\"white\",\"ticks\":\"\",\"title\":{\"standoff\":15},\"zerolinecolor\":\"white\",\"automargin\":true,\"zerolinewidth\":2},\"yaxis\":{\"gridcolor\":\"white\",\"linecolor\":\"white\",\"ticks\":\"\",\"title\":{\"standoff\":15},\"zerolinecolor\":\"white\",\"automargin\":true,\"zerolinewidth\":2},\"scene\":{\"xaxis\":{\"backgroundcolor\":\"#E5ECF6\",\"gridcolor\":\"white\",\"linecolor\":\"white\",\"showbackground\":true,\"ticks\":\"\",\"zerolinecolor\":\"white\",\"gridwidth\":2},\"yaxis\":{\"backgroundcolor\":\"#E5ECF6\",\"gridcolor\":\"white\",\"linecolor\":\"white\",\"showbackground\":true,\"ticks\":\"\",\"zerolinecolor\":\"white\",\"gridwidth\":2},\"zaxis\":{\"backgroundcolor\":\"#E5ECF6\",\"gridcolor\":\"white\",\"linecolor\":\"white\",\"showbackground\":true,\"ticks\":\"\",\"zerolinecolor\":\"white\",\"gridwidth\":2}},\"shapedefaults\":{\"line\":{\"color\":\"#2a3f5f\"}},\"annotationdefaults\":{\"arrowcolor\":\"#2a3f5f\",\"arrowhead\":0,\"arrowwidth\":1},\"geo\":{\"bgcolor\":\"white\",\"landcolor\":\"#E5ECF6\",\"subunitcolor\":\"white\",\"showland\":true,\"showlakes\":true,\"lakecolor\":\"white\"},\"title\":{\"x\":0.05},\"mapbox\":{\"style\":\"light\"}}}},                        {\"responsive\": true}                    ).then(function(){\n",
              "                            \n",
              "var gd = document.getElementById('3a113486-797e-4785-8ab1-ad563c17a43e');\n",
              "var x = new MutationObserver(function (mutations, observer) {{\n",
              "        var display = window.getComputedStyle(gd).display;\n",
              "        if (!display || display === 'none') {{\n",
              "            console.log([gd, 'removed!']);\n",
              "            Plotly.purge(gd);\n",
              "            observer.disconnect();\n",
              "        }}\n",
              "}});\n",
              "\n",
              "// Listen for the removal of the full notebook cells\n",
              "var notebookContainer = gd.closest('#notebook-container');\n",
              "if (notebookContainer) {{\n",
              "    x.observe(notebookContainer, {childList: true});\n",
              "}}\n",
              "\n",
              "// Listen for the clearing of the current output cell\n",
              "var outputEl = gd.closest('.output');\n",
              "if (outputEl) {{\n",
              "    x.observe(outputEl, {childList: true});\n",
              "}}\n",
              "\n",
              "                        })                };                            </script>        </div>\n",
              "</body>\n",
              "</html>"
            ]
          },
          "metadata": {}
        }
      ],
      "source": [
        "import plotly.graph_objects as go\n",
        "\n",
        "go.Figure()"
      ]
    },
    {
      "cell_type": "markdown",
      "metadata": {
        "id": "9u9kVPLppBdA"
      },
      "source": [
        "Next, let's create the scatter plot of our data with our `populations` as the `y` values, and `hovertext` as the `city_names` to set a label for each marker."
      ]
    },
    {
      "cell_type": "code",
      "execution_count": 30,
      "metadata": {
        "id": "Nd3smakypBdA"
      },
      "outputs": [],
      "source": [
        "population_scatter = go.Scatter(y = populations, hovertext = city_names, mode = 'markers')"
      ]
    },
    {
      "cell_type": "markdown",
      "metadata": {
        "id": "QgUZOf1epBdA"
      },
      "source": [
        "Now we can add that scatter plot to our empty `plotly figure`."
      ]
    },
    {
      "cell_type": "code",
      "execution_count": 31,
      "metadata": {
        "id": "UD0jpuXDpBdA",
        "outputId": "46946db1-183d-434c-dcc0-c17643c78fca",
        "colab": {
          "base_uri": "https://localhost:8080/",
          "height": 542
        }
      },
      "outputs": [
        {
          "output_type": "display_data",
          "data": {
            "text/html": [
              "<html>\n",
              "<head><meta charset=\"utf-8\" /></head>\n",
              "<body>\n",
              "    <div>            <script src=\"https://cdnjs.cloudflare.com/ajax/libs/mathjax/2.7.5/MathJax.js?config=TeX-AMS-MML_SVG\"></script><script type=\"text/javascript\">if (window.MathJax && window.MathJax.Hub && window.MathJax.Hub.Config) {window.MathJax.Hub.Config({SVG: {font: \"STIX-Web\"}});}</script>                <script type=\"text/javascript\">window.PlotlyConfig = {MathJaxConfig: 'local'};</script>\n",
              "        <script src=\"https://cdn.plot.ly/plotly-2.18.2.min.js\"></script>                <div id=\"86b6ed37-e29d-43af-ba27-7cfa6c2a4aa0\" class=\"plotly-graph-div\" style=\"height:525px; width:100%;\"></div>            <script type=\"text/javascript\">                                    window.PLOTLYENV=window.PLOTLYENV || {};                                    if (document.getElementById(\"86b6ed37-e29d-43af-ba27-7cfa6c2a4aa0\")) {                    Plotly.newPlot(                        \"86b6ed37-e29d-43af-ba27-7cfa6c2a4aa0\",                        [{\"hovertext\":[\"New York[d]\",\"Los Angeles\",\"Chicago\",\"Houston\",\"Phoenix\",\"Philadelphia[e]\",\"San Antonio\",\"San Diego\",\"Dallas\",\"Austin\",\"Jacksonville[f]\",\"San Jose\",\"Fort Worth\",\"Columbus\",\"Charlotte\",\"Indianapolis[g]\",\"San Francisco[h]\",\"Seattle\",\"Denver[i]\",\"Oklahoma City\",\"Nashville[j]\",\"El Paso\",\"Washington[k]\",\"Las Vegas\",\"Boston\",\"Portland\",\"Louisville[l]\",\"Memphis\",\"Detroit\",\"Baltimore[m]\",\"Milwaukee\",\"Albuquerque\",\"Tucson\",\"Fresno\",\"Sacramento\",\"Mesa\",\"Kansas City\",\"Atlanta\",\"Colorado Springs\",\"Omaha\",\"Raleigh\",\"Virginia Beach[m]\",\"Long Beach\",\"Miami\",\"Oakland\",\"Minneapolis\",\"Tulsa\",\"Bakersfield\",\"Tampa\",\"Wichita\",\"Arlington\",\"Aurora\",\"New Orleans[n]\",\"Cleveland\",\"Anaheim\",\"Honolulu[o]\",\"Henderson\",\"Stockton\",\"Riverside\",\"Lexington[p]\",\"Corpus Christi\",\"Orlando\",\"Irvine\",\"Cincinnati\",\"Santa Ana\",\"Newark\",\"Saint Paul\",\"Pittsburgh\",\"Greensboro\",\"Lincoln\",\"Durham\",\"Plano\",\"Anchorage[q]\",\"Jersey City\",\"St. Louis[m]\",\"Chandler\",\"North Las Vegas\",\"Chula Vista\",\"Buffalo\",\"Gilbert[r]\",\"Reno\",\"Madison\",\"Fort Wayne\",\"Toledo\",\"Lubbock\",\"St. Petersburg\",\"Laredo\",\"Irving\",\"Chesapeake[m]\",\"Glendale\",\"Winston-Salem\",\"Scottsdale\",\"Garland\",\"Boise[s]\",\"Norfolk[m]\",\"Port St. Lucie\",\"Spokane\",\"Richmond[m]\",\"Fremont\",\"Huntsville\",\"Tacoma\",\"Baton Rouge[t]\",\"Santa Clarita\",\"San Bernardino\",\"Hialeah\",\"Frisco\",\"Modesto\",\"Cape Coral\",\"Fontana\",\"Moreno Valley\",\"Des Moines\",\"Rochester\",\"Fayetteville\",\"Yonkers\",\"McKinney\",\"Worcester\",\"Salt Lake City\",\"Little Rock\",\"Columbus[u]\",\"Augusta[v]\",\"Sioux Falls\",\"Grand Prairie\",\"Tallahassee\",\"Amarillo\",\"Oxnard\",\"Peoria\",\"Overland Park\",\"Montgomery\",\"Birmingham\",\"Grand Rapids\",\"Knoxville\",\"Vancouver\",\"Huntington Beach\",\"Providence\",\"Brownsville\",\"Glendale\",\"Akron\",\"Tempe\",\"Newport News[m]\",\"Chattanooga\",\"Mobile\",\"Fort Lauderdale\",\"Cary\",\"Shreveport\",\"Ontario\",\"Eugene\",\"Aurora\",\"Elk Grove\",\"Salem\",\"Santa Rosa\",\"Clarksville\",\"Rancho Cucamonga\",\"Oceanside\",\"Springfield\",\"Pembroke Pines\",\"Garden Grove\",\"Fort Collins\",\"Lancaster\",\"Palmdale\",\"Murfreesboro\",\"Salinas\",\"Corona\",\"Killeen\",\"Hayward\",\"Paterson\",\"Macon[w]\",\"Lakewood\",\"Alexandria[m]\",\"Roseville\",\"Surprise\",\"Springfield\",\"Charleston\",\"Kansas City[x]\",\"Sunnyvale\",\"Bellevue\",\"Hollywood\",\"Denton\",\"Escondido\",\"Joliet\",\"Naperville\",\"Bridgeport\",\"Savannah\",\"Mesquite\",\"Pasadena\",\"Rockford\",\"Pomona\",\"Jackson\",\"Olathe\",\"Gainesville\",\"McAllen\",\"Syracuse\",\"Waco\",\"Visalia\",\"Thornton\",\"Torrance\",\"Fullerton\",\"Columbia\",\"Lakewood\",\"New Haven\",\"Hampton[m]\",\"Miramar\",\"Victorville\",\"Warren\",\"West Valley City\",\"Cedar Rapids\",\"Stamford\",\"Orange\",\"Dayton\",\"Midland\",\"Kent\",\"Elizabeth\",\"Pasadena\",\"Carrollton\",\"Coral Springs\",\"Sterling Heights\",\"Fargo\",\"Lewisville\",\"Meridian\",\"Norman\",\"Palm Bay\",\"Athens[y]\",\"Columbia\",\"Abilene\",\"Pearland\",\"Santa Clara\",\"Round Rock\",\"Topeka\",\"Allentown\",\"Clovis\",\"Simi Valley\",\"College Station\",\"Thousand Oaks\",\"Vallejo\",\"Concord\",\"Rochester\",\"Arvada\",\"Lafayette[z]\",\"Independence\",\"West Palm Beach\",\"Hartford\",\"Wilmington\",\"Lakeland\",\"Billings\",\"Ann Arbor\",\"Fairfield\",\"Berkeley\",\"Richardson\",\"North Charleston\",\"Cambridge\",\"Broken Arrow\",\"Clearwater\",\"West Jordan\",\"Evansville\",\"League City\",\"Antioch\",\"Manchester\",\"High Point\",\"Waterbury\",\"Westminster\",\"Richmond\",\"Carlsbad\",\"Las Cruces\",\"Murrieta\",\"Lowell\",\"Provo\",\"Springfield\",\"Elgin\",\"Odessa\",\"Lansing\",\"Pompano Beach\",\"Beaumont\",\"Temecula\",\"Gresham\",\"Allen\",\"Pueblo\",\"Everett\",\"South Fulton\",\"Peoria\",\"Nampa\",\"Tuscaloosa\",\"Miami Gardens\",\"Santa Maria\",\"Downey\",\"Concord\",\"Ventura[aa]\",\"Costa Mesa\",\"Sugar Land\",\"Menifee\",\"Tyler\",\"Sparks\",\"Greeley\",\"Rio Rancho\",\"Sandy Springs\",\"Dearborn\",\"Jurupa Valley\",\"Edison\",\"Spokane Valley\",\"Hillsboro\",\"Davie\",\"Green Bay\",\"Centennial\",\"Buckeye\",\"Boulder\",\"Goodyear\",\"El Monte\",\"West Covina\",\"Brockton\",\"New Braunfels\",\"El Cajon\",\"Edinburg\",\"Renton\",\"Burbank\",\"Inglewood\",\"Rialto\",\"Lee's Summit\",\"Bend\",\"Woodbridge\",\"South Bend\",\"Wichita Falls\",\"St. George\",\"Fishers\",\"Carmel\",\"Vacaville\",\"Quincy\",\"Conroe\",\"Chico\",\"San Mateo\",\"Lynn\",\"Albany\",\"Hesperia\",\"New Bedford\",\"Davenport\",\"Daly City\"],\"mode\":\"markers\",\"y\":[8804190,3898747,2746388,2304580,1608139,1603797,1434625,1386932,1304379,961855,949611,1013240,918915,905748,874579,887642,873965,737015,715522,681054,689447,678815,689545,641903,675647,652503,633045,633104,639111,585708,577222,564559,542629,542107,524943,504258,508090,498715,478961,486051,467665,459470,466742,442241,440646,429954,413066,403455,384959,397532,394266,386261,383997,372624,346824,350964,317610,320804,314998,322570,317863,307573,307670,309317,310227,311549,311527,302971,299035,291082,283506,285494,291247,292449,301578,275987,262527,275487,278349,267918,264165,269840,263886,270871,257141,258308,255205,256684,249422,248325,249545,241361,246018,235684,238005,204851,228989,226610,230504,215006,219346,227470,228673,222101,223109,200509,218464,194016,208393,208634,214133,211328,208501,211569,195308,206518,199723,202591,206922,202081,192517,196100,196169,200393,202063,190985,197238,200603,200733,198917,190740,190915,198711,190934,186738,196543,190469,180587,186247,181099,187041,182760,174721,187593,175265,176654,180542,176124,175535,178127,166722,174453,174068,169176,171178,171949,169810,173516,169450,152769,163542,157136,153095,162954,159732,157346,155984,159467,147773,143148,155929,150227,156607,155805,151854,153067,139869,151038,150362,149540,148654,147780,150108,151950,148655,151713,153701,141290,141085,142210,148620,138486,141384,141867,147067,143617,136632,135158,134023,137148,134721,134810,139387,140230,137710,135470,139911,137644,132524,136588,137298,138699,133434,134394,134346,125990,111822,117635,128026,119760,127315,126254,125182,125828,127647,119468,126587,125845,120124,126356,120511,126966,126090,125410,121395,124402,121374,123011,117415,121054,115451,112641,117116,123851,119881,124321,119469,114852,118403,113540,117292,116961,117298,114392,115291,115644,114059,114403,116317,116448,114746,111385,110949,115554,115162,114394,114797,114428,112644,112046,115282,110003,114247,104627,111876,110629,107436,113150,100200,99600,111640,109707,114355,105240,110763,111918,111026,102527,105995,108445,108795,104046,108080,109976,105053,107588,102976,106447,105691,107395,108418,91502,108250,95294,109450,109501,105643,90403,106215,100243,106785,107337,107762,104026,101108,99178,103639,103453,102316,95342,98977,99757,102386,101636,89956,101475,105661,101253,99224,99818,101079,101724,104901],\"type\":\"scatter\"}],                        {\"template\":{\"data\":{\"histogram2dcontour\":[{\"type\":\"histogram2dcontour\",\"colorbar\":{\"outlinewidth\":0,\"ticks\":\"\"},\"colorscale\":[[0.0,\"#0d0887\"],[0.1111111111111111,\"#46039f\"],[0.2222222222222222,\"#7201a8\"],[0.3333333333333333,\"#9c179e\"],[0.4444444444444444,\"#bd3786\"],[0.5555555555555556,\"#d8576b\"],[0.6666666666666666,\"#ed7953\"],[0.7777777777777778,\"#fb9f3a\"],[0.8888888888888888,\"#fdca26\"],[1.0,\"#f0f921\"]]}],\"choropleth\":[{\"type\":\"choropleth\",\"colorbar\":{\"outlinewidth\":0,\"ticks\":\"\"}}],\"histogram2d\":[{\"type\":\"histogram2d\",\"colorbar\":{\"outlinewidth\":0,\"ticks\":\"\"},\"colorscale\":[[0.0,\"#0d0887\"],[0.1111111111111111,\"#46039f\"],[0.2222222222222222,\"#7201a8\"],[0.3333333333333333,\"#9c179e\"],[0.4444444444444444,\"#bd3786\"],[0.5555555555555556,\"#d8576b\"],[0.6666666666666666,\"#ed7953\"],[0.7777777777777778,\"#fb9f3a\"],[0.8888888888888888,\"#fdca26\"],[1.0,\"#f0f921\"]]}],\"heatmap\":[{\"type\":\"heatmap\",\"colorbar\":{\"outlinewidth\":0,\"ticks\":\"\"},\"colorscale\":[[0.0,\"#0d0887\"],[0.1111111111111111,\"#46039f\"],[0.2222222222222222,\"#7201a8\"],[0.3333333333333333,\"#9c179e\"],[0.4444444444444444,\"#bd3786\"],[0.5555555555555556,\"#d8576b\"],[0.6666666666666666,\"#ed7953\"],[0.7777777777777778,\"#fb9f3a\"],[0.8888888888888888,\"#fdca26\"],[1.0,\"#f0f921\"]]}],\"heatmapgl\":[{\"type\":\"heatmapgl\",\"colorbar\":{\"outlinewidth\":0,\"ticks\":\"\"},\"colorscale\":[[0.0,\"#0d0887\"],[0.1111111111111111,\"#46039f\"],[0.2222222222222222,\"#7201a8\"],[0.3333333333333333,\"#9c179e\"],[0.4444444444444444,\"#bd3786\"],[0.5555555555555556,\"#d8576b\"],[0.6666666666666666,\"#ed7953\"],[0.7777777777777778,\"#fb9f3a\"],[0.8888888888888888,\"#fdca26\"],[1.0,\"#f0f921\"]]}],\"contourcarpet\":[{\"type\":\"contourcarpet\",\"colorbar\":{\"outlinewidth\":0,\"ticks\":\"\"}}],\"contour\":[{\"type\":\"contour\",\"colorbar\":{\"outlinewidth\":0,\"ticks\":\"\"},\"colorscale\":[[0.0,\"#0d0887\"],[0.1111111111111111,\"#46039f\"],[0.2222222222222222,\"#7201a8\"],[0.3333333333333333,\"#9c179e\"],[0.4444444444444444,\"#bd3786\"],[0.5555555555555556,\"#d8576b\"],[0.6666666666666666,\"#ed7953\"],[0.7777777777777778,\"#fb9f3a\"],[0.8888888888888888,\"#fdca26\"],[1.0,\"#f0f921\"]]}],\"surface\":[{\"type\":\"surface\",\"colorbar\":{\"outlinewidth\":0,\"ticks\":\"\"},\"colorscale\":[[0.0,\"#0d0887\"],[0.1111111111111111,\"#46039f\"],[0.2222222222222222,\"#7201a8\"],[0.3333333333333333,\"#9c179e\"],[0.4444444444444444,\"#bd3786\"],[0.5555555555555556,\"#d8576b\"],[0.6666666666666666,\"#ed7953\"],[0.7777777777777778,\"#fb9f3a\"],[0.8888888888888888,\"#fdca26\"],[1.0,\"#f0f921\"]]}],\"mesh3d\":[{\"type\":\"mesh3d\",\"colorbar\":{\"outlinewidth\":0,\"ticks\":\"\"}}],\"scatter\":[{\"fillpattern\":{\"fillmode\":\"overlay\",\"size\":10,\"solidity\":0.2},\"type\":\"scatter\"}],\"parcoords\":[{\"type\":\"parcoords\",\"line\":{\"colorbar\":{\"outlinewidth\":0,\"ticks\":\"\"}}}],\"scatterpolargl\":[{\"type\":\"scatterpolargl\",\"marker\":{\"colorbar\":{\"outlinewidth\":0,\"ticks\":\"\"}}}],\"bar\":[{\"error_x\":{\"color\":\"#2a3f5f\"},\"error_y\":{\"color\":\"#2a3f5f\"},\"marker\":{\"line\":{\"color\":\"#E5ECF6\",\"width\":0.5},\"pattern\":{\"fillmode\":\"overlay\",\"size\":10,\"solidity\":0.2}},\"type\":\"bar\"}],\"scattergeo\":[{\"type\":\"scattergeo\",\"marker\":{\"colorbar\":{\"outlinewidth\":0,\"ticks\":\"\"}}}],\"scatterpolar\":[{\"type\":\"scatterpolar\",\"marker\":{\"colorbar\":{\"outlinewidth\":0,\"ticks\":\"\"}}}],\"histogram\":[{\"marker\":{\"pattern\":{\"fillmode\":\"overlay\",\"size\":10,\"solidity\":0.2}},\"type\":\"histogram\"}],\"scattergl\":[{\"type\":\"scattergl\",\"marker\":{\"colorbar\":{\"outlinewidth\":0,\"ticks\":\"\"}}}],\"scatter3d\":[{\"type\":\"scatter3d\",\"line\":{\"colorbar\":{\"outlinewidth\":0,\"ticks\":\"\"}},\"marker\":{\"colorbar\":{\"outlinewidth\":0,\"ticks\":\"\"}}}],\"scattermapbox\":[{\"type\":\"scattermapbox\",\"marker\":{\"colorbar\":{\"outlinewidth\":0,\"ticks\":\"\"}}}],\"scatterternary\":[{\"type\":\"scatterternary\",\"marker\":{\"colorbar\":{\"outlinewidth\":0,\"ticks\":\"\"}}}],\"scattercarpet\":[{\"type\":\"scattercarpet\",\"marker\":{\"colorbar\":{\"outlinewidth\":0,\"ticks\":\"\"}}}],\"carpet\":[{\"aaxis\":{\"endlinecolor\":\"#2a3f5f\",\"gridcolor\":\"white\",\"linecolor\":\"white\",\"minorgridcolor\":\"white\",\"startlinecolor\":\"#2a3f5f\"},\"baxis\":{\"endlinecolor\":\"#2a3f5f\",\"gridcolor\":\"white\",\"linecolor\":\"white\",\"minorgridcolor\":\"white\",\"startlinecolor\":\"#2a3f5f\"},\"type\":\"carpet\"}],\"table\":[{\"cells\":{\"fill\":{\"color\":\"#EBF0F8\"},\"line\":{\"color\":\"white\"}},\"header\":{\"fill\":{\"color\":\"#C8D4E3\"},\"line\":{\"color\":\"white\"}},\"type\":\"table\"}],\"barpolar\":[{\"marker\":{\"line\":{\"color\":\"#E5ECF6\",\"width\":0.5},\"pattern\":{\"fillmode\":\"overlay\",\"size\":10,\"solidity\":0.2}},\"type\":\"barpolar\"}],\"pie\":[{\"automargin\":true,\"type\":\"pie\"}]},\"layout\":{\"autotypenumbers\":\"strict\",\"colorway\":[\"#636efa\",\"#EF553B\",\"#00cc96\",\"#ab63fa\",\"#FFA15A\",\"#19d3f3\",\"#FF6692\",\"#B6E880\",\"#FF97FF\",\"#FECB52\"],\"font\":{\"color\":\"#2a3f5f\"},\"hovermode\":\"closest\",\"hoverlabel\":{\"align\":\"left\"},\"paper_bgcolor\":\"white\",\"plot_bgcolor\":\"#E5ECF6\",\"polar\":{\"bgcolor\":\"#E5ECF6\",\"angularaxis\":{\"gridcolor\":\"white\",\"linecolor\":\"white\",\"ticks\":\"\"},\"radialaxis\":{\"gridcolor\":\"white\",\"linecolor\":\"white\",\"ticks\":\"\"}},\"ternary\":{\"bgcolor\":\"#E5ECF6\",\"aaxis\":{\"gridcolor\":\"white\",\"linecolor\":\"white\",\"ticks\":\"\"},\"baxis\":{\"gridcolor\":\"white\",\"linecolor\":\"white\",\"ticks\":\"\"},\"caxis\":{\"gridcolor\":\"white\",\"linecolor\":\"white\",\"ticks\":\"\"}},\"coloraxis\":{\"colorbar\":{\"outlinewidth\":0,\"ticks\":\"\"}},\"colorscale\":{\"sequential\":[[0.0,\"#0d0887\"],[0.1111111111111111,\"#46039f\"],[0.2222222222222222,\"#7201a8\"],[0.3333333333333333,\"#9c179e\"],[0.4444444444444444,\"#bd3786\"],[0.5555555555555556,\"#d8576b\"],[0.6666666666666666,\"#ed7953\"],[0.7777777777777778,\"#fb9f3a\"],[0.8888888888888888,\"#fdca26\"],[1.0,\"#f0f921\"]],\"sequentialminus\":[[0.0,\"#0d0887\"],[0.1111111111111111,\"#46039f\"],[0.2222222222222222,\"#7201a8\"],[0.3333333333333333,\"#9c179e\"],[0.4444444444444444,\"#bd3786\"],[0.5555555555555556,\"#d8576b\"],[0.6666666666666666,\"#ed7953\"],[0.7777777777777778,\"#fb9f3a\"],[0.8888888888888888,\"#fdca26\"],[1.0,\"#f0f921\"]],\"diverging\":[[0,\"#8e0152\"],[0.1,\"#c51b7d\"],[0.2,\"#de77ae\"],[0.3,\"#f1b6da\"],[0.4,\"#fde0ef\"],[0.5,\"#f7f7f7\"],[0.6,\"#e6f5d0\"],[0.7,\"#b8e186\"],[0.8,\"#7fbc41\"],[0.9,\"#4d9221\"],[1,\"#276419\"]]},\"xaxis\":{\"gridcolor\":\"white\",\"linecolor\":\"white\",\"ticks\":\"\",\"title\":{\"standoff\":15},\"zerolinecolor\":\"white\",\"automargin\":true,\"zerolinewidth\":2},\"yaxis\":{\"gridcolor\":\"white\",\"linecolor\":\"white\",\"ticks\":\"\",\"title\":{\"standoff\":15},\"zerolinecolor\":\"white\",\"automargin\":true,\"zerolinewidth\":2},\"scene\":{\"xaxis\":{\"backgroundcolor\":\"#E5ECF6\",\"gridcolor\":\"white\",\"linecolor\":\"white\",\"showbackground\":true,\"ticks\":\"\",\"zerolinecolor\":\"white\",\"gridwidth\":2},\"yaxis\":{\"backgroundcolor\":\"#E5ECF6\",\"gridcolor\":\"white\",\"linecolor\":\"white\",\"showbackground\":true,\"ticks\":\"\",\"zerolinecolor\":\"white\",\"gridwidth\":2},\"zaxis\":{\"backgroundcolor\":\"#E5ECF6\",\"gridcolor\":\"white\",\"linecolor\":\"white\",\"showbackground\":true,\"ticks\":\"\",\"zerolinecolor\":\"white\",\"gridwidth\":2}},\"shapedefaults\":{\"line\":{\"color\":\"#2a3f5f\"}},\"annotationdefaults\":{\"arrowcolor\":\"#2a3f5f\",\"arrowhead\":0,\"arrowwidth\":1},\"geo\":{\"bgcolor\":\"white\",\"landcolor\":\"#E5ECF6\",\"subunitcolor\":\"white\",\"showland\":true,\"showlakes\":true,\"lakecolor\":\"white\"},\"title\":{\"x\":0.05},\"mapbox\":{\"style\":\"light\"}}}},                        {\"responsive\": true}                    ).then(function(){\n",
              "                            \n",
              "var gd = document.getElementById('86b6ed37-e29d-43af-ba27-7cfa6c2a4aa0');\n",
              "var x = new MutationObserver(function (mutations, observer) {{\n",
              "        var display = window.getComputedStyle(gd).display;\n",
              "        if (!display || display === 'none') {{\n",
              "            console.log([gd, 'removed!']);\n",
              "            Plotly.purge(gd);\n",
              "            observer.disconnect();\n",
              "        }}\n",
              "}});\n",
              "\n",
              "// Listen for the removal of the full notebook cells\n",
              "var notebookContainer = gd.closest('#notebook-container');\n",
              "if (notebookContainer) {{\n",
              "    x.observe(notebookContainer, {childList: true});\n",
              "}}\n",
              "\n",
              "// Listen for the clearing of the current output cell\n",
              "var outputEl = gd.closest('.output');\n",
              "if (outputEl) {{\n",
              "    x.observe(outputEl, {childList: true});\n",
              "}}\n",
              "\n",
              "                        })                };                            </script>        </div>\n",
              "</body>\n",
              "</html>"
            ]
          },
          "metadata": {}
        }
      ],
      "source": [
        "import plotly.graph_objects as go\n",
        "\n",
        "population_scatter = go.Scatter(y = populations, hovertext = city_names, mode = 'markers')\n",
        "\n",
        "go.Figure(data = [population_scatter])"
      ]
    },
    {
      "cell_type": "markdown",
      "metadata": {
        "id": "cG6RopZ-pBdB"
      },
      "source": [
        "### Summary"
      ]
    },
    {
      "cell_type": "markdown",
      "metadata": {
        "id": "Sj18mvB3pBdB"
      },
      "source": [
        "In this lesson we learned how to start with a list of dictionaies, and go through each one to select just the data that we want, and it to a list.  "
      ]
    },
    {
      "cell_type": "markdown",
      "metadata": {
        "id": "_CMwHMARpBdB"
      },
      "source": [
        "```python\n",
        "populations = []\n",
        "\n",
        "for each_city in cities:\n",
        "    city_pop = each_city['2020census']\n",
        "    populations.append(city_pop)\n",
        "```"
      ]
    },
    {
      "cell_type": "markdown",
      "metadata": {
        "id": "okRngHZppBdB"
      },
      "source": [
        "```python\n",
        "city_names = []\n",
        "\n",
        "for each_city in cities:\n",
        "    city_name = each_city['City']\n",
        "    city_names.append(city_name)\n",
        "```"
      ]
    },
    {
      "cell_type": "markdown",
      "metadata": {
        "id": "0Cxiz-F1pBdB"
      },
      "source": [
        "Once we have gathered our needed data into our two lists, `populations` and `city_names`.  We then use the two lists to create a plot of our data."
      ]
    },
    {
      "cell_type": "markdown",
      "metadata": {
        "id": "NV6UwcE2pBdB"
      },
      "source": [
        "```python\n",
        "import plotly.graph_objects as go\n",
        "population_scatter = go.Scatter(y = populations, hovertext = city_names, mode = 'markers')\n",
        "go.Figure(data = [population_scatter])\n",
        "```"
      ]
    },
    {
      "cell_type": "markdown",
      "metadata": {
        "id": "Tpqu98GypBdB"
      },
      "source": [
        "[Saving nested data](youtube.com/watch?v=w6qtwVW3l3w&list=PLCG6Te769p1gkVJizwSmo6GoEI9oHoAPA&index=24&ab_channel=JigsawLabs)"
      ]
    },
    {
      "cell_type": "markdown",
      "metadata": {
        "id": "P0r-5W16pBdC"
      },
      "source": [
        "<right>\n",
        "<a href=\"https://colab.research.google.com/github/jigsawlabs-student/code-intro/blob/master/10-exploring-live-data.ipynb\">\n",
        "<img src=\"https://github.com/jigsawlabs-student/code-intro/blob/master/next-yellow.jpg?raw=1\" align=\"right\" style=\"padding-right: 20px\" width=\"10%\">\n",
        "    </a>\n",
        "</right>"
      ]
    },
    {
      "cell_type": "markdown",
      "metadata": {
        "id": "vDJRSQZOpBdC"
      },
      "source": [
        "<center>\n",
        "<a href=\"https://www.jigsawlabs.io\" style=\"position: center\"><img src=\"https://github.com/jigsawlabs-student/code-intro/blob/master/jigsaw-icon.png?raw=1\" width=\"15%\" style=\"text-align: center\"></a>\n",
        "</center>"
      ]
    },
    {
      "cell_type": "markdown",
      "metadata": {
        "id": "wz4A7nGbpBdC"
      },
      "source": [
        "### Answers"
      ]
    },
    {
      "cell_type": "code",
      "execution_count": 32,
      "metadata": {
        "id": "vmNS8hMvpBdC"
      },
      "outputs": [],
      "source": [
        "second_pop = 3990456\n",
        "more_populations = []\n",
        "\n",
        "more_populations.append(second_pop)"
      ]
    },
    {
      "cell_type": "code",
      "execution_count": 33,
      "metadata": {
        "id": "oems3irypBdC",
        "outputId": "7f2749c3-1b63-4006-9f81-01fa844ce647",
        "colab": {
          "base_uri": "https://localhost:8080/"
        }
      },
      "outputs": [
        {
          "output_type": "execute_result",
          "data": {
            "text/plain": [
              "[3990456]"
            ]
          },
          "metadata": {},
          "execution_count": 33
        }
      ],
      "source": [
        "more_populations"
      ]
    },
    {
      "cell_type": "code",
      "execution_count": 37,
      "metadata": {
        "id": "jbN3hsYipBdC"
      },
      "outputs": [],
      "source": [
        "populations = []\n",
        "\n",
        "for city in cities:\n",
        "    pop = city['2022 estimate']\n",
        "    populations.append(pop)"
      ]
    },
    {
      "cell_type": "code",
      "execution_count": null,
      "metadata": {
        "id": "K99GJQEkpBdC",
        "outputId": "cb56bbf1-aa72-4fb1-8e93-7b6923f57e0c"
      },
      "outputs": [
        {
          "data": {
            "text/plain": [
              "[8398748, 3990456]"
            ]
          },
          "execution_count": 105,
          "metadata": {},
          "output_type": "execute_result"
        }
      ],
      "source": [
        "populations[:2]"
      ]
    }
  ],
  "metadata": {
    "kernelspec": {
      "display_name": "Python 3 (ipykernel)",
      "language": "python",
      "name": "python3"
    },
    "language_info": {
      "codemirror_mode": {
        "name": "ipython",
        "version": 3
      },
      "file_extension": ".py",
      "mimetype": "text/x-python",
      "name": "python",
      "nbconvert_exporter": "python",
      "pygments_lexer": "ipython3",
      "version": "3.10.6"
    },
    "colab": {
      "provenance": []
    }
  },
  "nbformat": 4,
  "nbformat_minor": 0
}