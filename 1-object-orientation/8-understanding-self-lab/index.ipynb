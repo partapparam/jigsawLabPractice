{
  "cells": [
    {
      "cell_type": "markdown",
      "metadata": {
        "id": "HNZ4vtAFe-oA"
      },
      "source": [
        "# Laundry Machine Lab"
      ]
    },
    {
      "cell_type": "markdown",
      "metadata": {
        "id": "v1rOeaUee-oM"
      },
      "source": [
        "### Introduction"
      ]
    },
    {
      "cell_type": "markdown",
      "metadata": {
        "id": "XtrOBGOte-oN"
      },
      "source": [
        "Imagine that we are building software to help laundromats keep track of the work they need to do.  \n",
        "\n",
        "Specifically, we want our system to keep track of the laundry bundles that customers drop off for the laundromat to clean.  Let's get started."
      ]
    },
    {
      "cell_type": "markdown",
      "metadata": {
        "id": "OxZMkAGde-oO"
      },
      "source": [
        "### Building the class"
      ]
    },
    {
      "cell_type": "markdown",
      "metadata": {
        "id": "erX8fMxye-oO"
      },
      "source": [
        "Start by creating a `bundle.py` file."
      ]
    },
    {
      "cell_type": "code",
      "execution_count": 1,
      "metadata": {
        "id": "_VSckkgQe-oP"
      },
      "outputs": [],
      "source": [
        "# !touch bundle.py"
      ]
    },
    {
      "cell_type": "code",
      "execution_count": 4,
      "metadata": {
        "id": "24Q_EYyQe-oT",
        "outputId": "d44e5bfe-20dc-47de-9981-5c3a1915d215",
        "colab": {
          "base_uri": "https://localhost:8080/"
        }
      },
      "outputs": [
        {
          "output_type": "stream",
          "name": "stdout",
          "text": [
            "The autoreload extension is already loaded. To reload it, use:\n",
            "  %reload_ext autoreload\n"
          ]
        }
      ],
      "source": [
        "%load_ext autoreload\n",
        "%autoreload 2"
      ]
    },
    {
      "cell_type": "markdown",
      "metadata": {
        "id": "Izb9-15Re-oT"
      },
      "source": [
        "1. Start by creating a class called `Bundle` in the `bundle.py` file."
      ]
    },
    {
      "cell_type": "markdown",
      "metadata": {
        "id": "tUyBtKFme-oU"
      },
      "source": [
        "2. The laundromat charges customers based on the weight of the dropoff.  Anything five pounds or under is 10 dollars, and the laundromat charges $1.50 for every pound over five pounds.  \n",
        "\n",
        "* Add a method called, **price** that calculates the price of a bundle."
      ]
    },
    {
      "cell_type": "code",
      "source": [
        "def number_of_days(month, day):\n",
        "    return (month * 30) + day\n",
        "\n",
        "class Bundle():\n",
        "  # def __init__(self) -> None:\n",
        "\n",
        "\n",
        "  def price(self):\n",
        "    if self.weight <= 5:\n",
        "      return 10\n",
        "    else:\n",
        "      cost = 1.5\n",
        "      weight_over = self.weight - 5\n",
        "      return (cost * weight_over) + 10\n",
        "\n",
        "  def processing_days(self):\n",
        "    dropoff = number_of_days(self.dropoff_month, self.dropoff_day)\n",
        "    pickup = number_of_days(self.ready_month, self.ready_day)\n",
        "    return pickup - dropoff\n",
        "\n",
        "  def holdingDays(self):\n",
        "    dropoff = (self.dropoff_month * 30) + self.dropoff_day\n",
        "    pickup = (self.pickup_month * 30) + self.pickup_day\n",
        "    return pickup - dropoff"
      ],
      "metadata": {
        "id": "z0bwd6-1gOID"
      },
      "execution_count": 25,
      "outputs": []
    },
    {
      "cell_type": "code",
      "execution_count": 10,
      "metadata": {
        "id": "Qk1Z4q5De-oU"
      },
      "outputs": [],
      "source": [
        "secondBundle = Bundle()\n",
        "secondBundle.weight = 8"
      ]
    },
    {
      "cell_type": "markdown",
      "metadata": {
        "id": "dI7xXNfCe-oV"
      },
      "source": [
        "We can check that we did this correctly by now chekcing the price for the corresponding weight."
      ]
    },
    {
      "cell_type": "code",
      "execution_count": 11,
      "metadata": {
        "id": "t9YC8SWee-oV",
        "outputId": "a380658f-69b2-439b-a4b2-a4fc6f7d7fb6",
        "colab": {
          "base_uri": "https://localhost:8080/"
        }
      },
      "outputs": [
        {
          "output_type": "execute_result",
          "data": {
            "text/plain": [
              "14.5"
            ]
          },
          "metadata": {},
          "execution_count": 11
        }
      ],
      "source": [
        "secondBundle.price()\n",
        "# 14.5"
      ]
    },
    {
      "cell_type": "markdown",
      "metadata": {
        "id": "MKhRlPVle-oV"
      },
      "source": [
        "Next, let's write a method that calculates the number of days between when a dropoff occurs and when a bundle is ready for pickup.  \n",
        "\n",
        "> First we add the following data."
      ]
    },
    {
      "cell_type": "code",
      "execution_count": 27,
      "metadata": {
        "id": "wQ9JsZ9We-oV"
      },
      "outputs": [],
      "source": [
        "thirdBundle = Bundle()\n",
        "thirdBundle.dropoff_month = 5\n",
        "thirdBundle.dropoff_day = 29\n",
        "thirdBundle.ready_month = 6\n",
        "thirdBundle.ready_day = 2"
      ]
    },
    {
      "cell_type": "markdown",
      "metadata": {
        "id": "tY7Uhc2Pe-oY"
      },
      "source": [
        "So above we set the dropoff month and day, as well as the day that the bundle is ready for pickup.  \n",
        "\n",
        "Now write a method called `processing_days` that calculates the number of days it took to process the bundle.  For the purposes of this problem assume that every month only has 30 days."
      ]
    },
    {
      "cell_type": "code",
      "execution_count": 20,
      "metadata": {
        "id": "liAVj0iUe-oZ",
        "outputId": "88dd5077-4ea2-467e-f67f-084977923fc7",
        "colab": {
          "base_uri": "https://localhost:8080/"
        }
      },
      "outputs": [
        {
          "output_type": "execute_result",
          "data": {
            "text/plain": [
              "3"
            ]
          },
          "metadata": {},
          "execution_count": 20
        }
      ],
      "source": [
        "thirdBundle.processing_days()\n",
        "# 3"
      ]
    },
    {
      "cell_type": "markdown",
      "metadata": {
        "id": "SXx8dVpee-oZ"
      },
      "source": [
        "Ok, now the laundromats also care about how soon the clothes get picked up.  Let's write a method called `holdingDays` that calculates from when the clothes were dropped off to when a laundromat customer picks them up."
      ]
    },
    {
      "cell_type": "code",
      "execution_count": 28,
      "metadata": {
        "id": "Wub_4qPee-oZ",
        "outputId": "97434fb3-de56-44d0-d003-33efd6cf9b49",
        "colab": {
          "base_uri": "https://localhost:8080/"
        }
      },
      "outputs": [
        {
          "output_type": "execute_result",
          "data": {
            "text/plain": [
              "{'dropoff_month': 5,\n",
              " 'dropoff_day': 29,\n",
              " 'ready_month': 6,\n",
              " 'ready_day': 2,\n",
              " 'pickup_month': 6,\n",
              " 'pickup_day': 5}"
            ]
          },
          "metadata": {},
          "execution_count": 28
        }
      ],
      "source": [
        "fourthBundle = Bundle()\n",
        "\n",
        "fourthBundle.dropoff_month = 5\n",
        "fourthBundle.dropoff_day = 29\n",
        "fourthBundle.ready_month = 6\n",
        "fourthBundle.ready_day = 2\n",
        "fourthBundle.pickup_month = 6\n",
        "fourthBundle.pickup_day = 5\n",
        "\n",
        "fourthBundle.__dict__"
      ]
    },
    {
      "cell_type": "code",
      "execution_count": 29,
      "metadata": {
        "id": "Fj3l9n5Se-oa",
        "outputId": "fc65481c-de0d-41bc-b75e-067b6c9ecfc0",
        "colab": {
          "base_uri": "https://localhost:8080/"
        }
      },
      "outputs": [
        {
          "output_type": "execute_result",
          "data": {
            "text/plain": [
              "6"
            ]
          },
          "metadata": {},
          "execution_count": 29
        }
      ],
      "source": [
        "fourthBundle.holdingDays()\n",
        "# 6"
      ]
    },
    {
      "cell_type": "markdown",
      "metadata": {
        "id": "YUYiDSApe-oc"
      },
      "source": [
        "### Summary\n",
        "\n",
        "Congratulations!  As a bonus, try to add in some of your own methods to the class."
      ]
    }
  ],
  "metadata": {
    "kernelspec": {
      "display_name": "Python 3 (ipykernel)",
      "language": "python",
      "name": "python3"
    },
    "language_info": {
      "codemirror_mode": {
        "name": "ipython",
        "version": 3
      },
      "file_extension": ".py",
      "mimetype": "text/x-python",
      "name": "python",
      "nbconvert_exporter": "python",
      "pygments_lexer": "ipython3",
      "version": "3.9.10"
    },
    "colab": {
      "provenance": []
    }
  },
  "nbformat": 4,
  "nbformat_minor": 0
}