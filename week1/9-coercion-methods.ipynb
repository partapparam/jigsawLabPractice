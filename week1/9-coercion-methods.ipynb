{
  "cells": [
    {
      "cell_type": "markdown",
      "id": "d00e4ef2-2191-4273-90a3-c432346a5145",
      "metadata": {
        "id": "d00e4ef2-2191-4273-90a3-c432346a5145"
      },
      "source": [
        "# Coercion Methods"
      ]
    },
    {
      "cell_type": "markdown",
      "id": "60bba81f-d958-4698-9688-4554e23e9f6f",
      "metadata": {
        "id": "60bba81f-d958-4698-9688-4554e23e9f6f"
      },
      "source": [
        "### Introduction"
      ]
    },
    {
      "cell_type": "markdown",
      "id": "3363e527-bc0a-459f-8e22-4dbbcd082c17",
      "metadata": {
        "id": "3363e527-bc0a-459f-8e22-4dbbcd082c17"
      },
      "source": [
        "As we move through our review of datatypes, one thing to pay attention to is our methods for changing datatypes.  Let's review them here."
      ]
    },
    {
      "cell_type": "markdown",
      "source": [],
      "metadata": {
        "id": "NShAjPenGkqj"
      },
      "id": "NShAjPenGkqj"
    },
    {
      "cell_type": "markdown",
      "id": "e4add4e2-976c-40ca-8c24-c6ebf0a99c6c",
      "metadata": {
        "id": "e4add4e2-976c-40ca-8c24-c6ebf0a99c6c"
      },
      "source": [
        "### Coercing to Lists"
      ]
    },
    {
      "cell_type": "markdown",
      "id": "01481282-f3e1-4f46-9ac7-ddec33695530",
      "metadata": {
        "id": "01481282-f3e1-4f46-9ac7-ddec33695530"
      },
      "source": [
        "Much of the time, we'll be transforming our data into lists.  Let's review some of our mechanisms for doing so."
      ]
    },
    {
      "cell_type": "code",
      "execution_count": 11,
      "id": "00f6165a-f1cd-4199-b6a6-d810d605559f",
      "metadata": {
        "id": "00f6165a-f1cd-4199-b6a6-d810d605559f",
        "outputId": "4e7b55d3-baae-48c9-fa2f-5b824f136451",
        "colab": {
          "base_uri": "https://localhost:8080/"
        }
      },
      "outputs": [
        {
          "output_type": "execute_result",
          "data": {
            "text/plain": [
              "['h', 'e', 'l', 'l', 'o']"
            ]
          },
          "metadata": {},
          "execution_count": 11
        }
      ],
      "source": [
        "list('hello')"
      ]
    },
    {
      "cell_type": "markdown",
      "id": "37ff3167-d963-4a98-a630-963571965fd2",
      "metadata": {
        "id": "37ff3167-d963-4a98-a630-963571965fd2"
      },
      "source": [
        "You can always try using the `list` constructor to transform your data.  For example, the `list` function transforms each character in the string into an element."
      ]
    },
    {
      "cell_type": "markdown",
      "id": "e10cc7e6-ec6e-4dbe-8456-b106e601b617",
      "metadata": {
        "id": "e10cc7e6-ec6e-4dbe-8456-b106e601b617"
      },
      "source": [
        "And of course, we know split is another way to coerce from string to a list."
      ]
    },
    {
      "cell_type": "code",
      "execution_count": 12,
      "id": "785f4391-fc26-4ae2-b16d-098c2766b19f",
      "metadata": {
        "id": "785f4391-fc26-4ae2-b16d-098c2766b19f",
        "outputId": "95520ef4-a29b-48ab-f583-93b352ba805b",
        "colab": {
          "base_uri": "https://localhost:8080/"
        }
      },
      "outputs": [
        {
          "output_type": "execute_result",
          "data": {
            "text/plain": [
              "['4', '25', '2016']"
            ]
          },
          "metadata": {},
          "execution_count": 12
        }
      ],
      "source": [
        "'4/25/2016'.split('/')"
      ]
    },
    {
      "cell_type": "markdown",
      "id": "29512718-cf12-42e2-ac4a-324ebb7e4300",
      "metadata": {
        "id": "29512718-cf12-42e2-ac4a-324ebb7e4300"
      },
      "source": [
        "> Notice that split removes the character we are splitting on."
      ]
    },
    {
      "cell_type": "markdown",
      "id": "33638b00-c321-4349-a3cc-7de8564a1673",
      "metadata": {
        "id": "33638b00-c321-4349-a3cc-7de8564a1673"
      },
      "source": [
        "Of course, many of our other collections also can be coerced with the list function."
      ]
    },
    {
      "cell_type": "markdown",
      "id": "7b6c5011-42bc-4663-9fc5-82dedad6d5d6",
      "metadata": {
        "id": "7b6c5011-42bc-4663-9fc5-82dedad6d5d6"
      },
      "source": [
        "* set to list"
      ]
    },
    {
      "cell_type": "code",
      "execution_count": 13,
      "id": "3a0d4a4d-f87f-46f3-974a-28bd904c91dd",
      "metadata": {
        "id": "3a0d4a4d-f87f-46f3-974a-28bd904c91dd",
        "outputId": "bc8a6667-12b9-4888-9013-adf6848b3761",
        "colab": {
          "base_uri": "https://localhost:8080/"
        }
      },
      "outputs": [
        {
          "output_type": "execute_result",
          "data": {
            "text/plain": [
              "['green', 'red', 'blue']"
            ]
          },
          "metadata": {},
          "execution_count": 13
        }
      ],
      "source": [
        "list({'red', 'green', 'blue'})"
      ]
    },
    {
      "cell_type": "markdown",
      "id": "d005450f-f8f4-485c-8a95-c7abdcf58425",
      "metadata": {
        "id": "d005450f-f8f4-485c-8a95-c7abdcf58425"
      },
      "source": [
        "* dictionary to list of tuples"
      ]
    },
    {
      "cell_type": "markdown",
      "id": "cb4693e1-af3a-406c-ad8e-344c3feb4f05",
      "metadata": {
        "id": "cb4693e1-af3a-406c-ad8e-344c3feb4f05"
      },
      "source": [
        "> For this, the closest is `{}.items()`"
      ]
    },
    {
      "cell_type": "code",
      "execution_count": 14,
      "id": "40cab7f8-67ec-4b25-ab0f-7df29341d9f9",
      "metadata": {
        "id": "40cab7f8-67ec-4b25-ab0f-7df29341d9f9",
        "outputId": "cbefa97e-9898-4e51-dce5-3223f25dd38c",
        "colab": {
          "base_uri": "https://localhost:8080/"
        }
      },
      "outputs": [
        {
          "output_type": "execute_result",
          "data": {
            "text/plain": [
              "dict_items([('name', 'sam'), ('hometown', 'nyc')])"
            ]
          },
          "metadata": {},
          "execution_count": 14
        }
      ],
      "source": [
        "{'name': 'sam', 'hometown': 'nyc'}.items()"
      ]
    },
    {
      "cell_type": "markdown",
      "id": "331d24de-7371-4bf4-87a4-8c36577afaa1",
      "metadata": {
        "id": "331d24de-7371-4bf4-87a4-8c36577afaa1"
      },
      "source": [
        "And from there, we can coerce our dict_items object into a list."
      ]
    },
    {
      "cell_type": "code",
      "execution_count": 15,
      "id": "4135c46a-526e-498c-a364-73eb11b1092d",
      "metadata": {
        "id": "4135c46a-526e-498c-a364-73eb11b1092d",
        "outputId": "69b5738a-0e19-4bc9-bc35-9159e6be48fa",
        "colab": {
          "base_uri": "https://localhost:8080/"
        }
      },
      "outputs": [
        {
          "output_type": "execute_result",
          "data": {
            "text/plain": [
              "[('name', 'sam'), ('hometown', 'nyc')]"
            ]
          },
          "metadata": {},
          "execution_count": 15
        }
      ],
      "source": [
        "list({'name': 'sam', 'hometown': 'nyc'}.items())"
      ]
    },
    {
      "cell_type": "markdown",
      "id": "003fb080-0d92-4470-95fa-89716aa4313e",
      "metadata": {
        "id": "003fb080-0d92-4470-95fa-89716aa4313e"
      },
      "source": [
        "### Coercing to dictionary"
      ]
    },
    {
      "cell_type": "markdown",
      "id": "55892c67-2e52-46a5-9360-4ef3374a456d",
      "metadata": {
        "id": "55892c67-2e52-46a5-9360-4ef3374a456d"
      },
      "source": [
        "So we can coerce a dictionary into a list of tuples.  We can also coerce a list of tuples back into a dictionary."
      ]
    },
    {
      "cell_type": "code",
      "execution_count": 16,
      "id": "d7091f1f-2f45-4443-aea9-a107b0d864e8",
      "metadata": {
        "id": "d7091f1f-2f45-4443-aea9-a107b0d864e8"
      },
      "outputs": [],
      "source": [
        "person_attrs = [('name', 'sam'), ('hometown', 'nyc')]"
      ]
    },
    {
      "cell_type": "code",
      "execution_count": 17,
      "id": "ce85d675-f6b5-4a8d-a131-6a113839848a",
      "metadata": {
        "id": "ce85d675-f6b5-4a8d-a131-6a113839848a",
        "outputId": "2b4daae5-da11-4cbb-dbf8-c52a9ac4c40a",
        "colab": {
          "base_uri": "https://localhost:8080/"
        }
      },
      "outputs": [
        {
          "output_type": "execute_result",
          "data": {
            "text/plain": [
              "{'name': 'sam', 'hometown': 'nyc'}"
            ]
          },
          "metadata": {},
          "execution_count": 17
        }
      ],
      "source": [
        "dict(person_attrs)"
      ]
    },
    {
      "cell_type": "markdown",
      "id": "80661b84-6532-40d3-bb12-256ea18acaa8",
      "metadata": {
        "id": "80661b84-6532-40d3-bb12-256ea18acaa8"
      },
      "source": [
        "And we can also generate that list of tuples by zipping together two lists."
      ]
    },
    {
      "cell_type": "code",
      "execution_count": 18,
      "id": "629cb759-7761-4287-96ab-b0d0901182d7",
      "metadata": {
        "id": "629cb759-7761-4287-96ab-b0d0901182d7",
        "outputId": "861b7a3b-1e2f-411c-e19d-4e59e792a35a",
        "colab": {
          "base_uri": "https://localhost:8080/"
        }
      },
      "outputs": [
        {
          "output_type": "execute_result",
          "data": {
            "text/plain": [
              "[('name', 'sam'), ('hometown', 'nyc')]"
            ]
          },
          "metadata": {},
          "execution_count": 18
        }
      ],
      "source": [
        "keys = ['name', 'hometown']\n",
        "\n",
        "sam_vals = ['sam', 'nyc']\n",
        "\n",
        "list(zip(keys, sam_vals))"
      ]
    },
    {
      "cell_type": "markdown",
      "id": "68ca0df8-21f3-4521-a320-a63300cd2954",
      "metadata": {
        "id": "68ca0df8-21f3-4521-a320-a63300cd2954"
      },
      "source": [
        "And from there can convert the zipped object into a dictionary."
      ]
    },
    {
      "cell_type": "code",
      "execution_count": 19,
      "id": "1451cc03-450f-41e0-93b6-a35cf40c5d50",
      "metadata": {
        "id": "1451cc03-450f-41e0-93b6-a35cf40c5d50",
        "outputId": "4ac18871-6c39-4316-cc06-dc2688e60a52",
        "colab": {
          "base_uri": "https://localhost:8080/"
        }
      },
      "outputs": [
        {
          "output_type": "execute_result",
          "data": {
            "text/plain": [
              "{'name': 'sam', 'hometown': 'nyc'}"
            ]
          },
          "metadata": {},
          "execution_count": 19
        }
      ],
      "source": [
        "dict(zip(keys, sam_vals))"
      ]
    },
    {
      "cell_type": "markdown",
      "id": "112911b5-53da-45c5-9d77-289bba3c0105",
      "metadata": {
        "id": "112911b5-53da-45c5-9d77-289bba3c0105"
      },
      "source": [
        "* Sometimes, we may want to loop through a list of values."
      ]
    },
    {
      "cell_type": "code",
      "execution_count": 20,
      "id": "d7b2ea6c-f8db-4488-a1c7-66d76be38168",
      "metadata": {
        "id": "d7b2ea6c-f8db-4488-a1c7-66d76be38168"
      },
      "outputs": [],
      "source": [
        "customer_attrs = [['sam', 'nyc'], ['lisa', 'chicago'], ['arnold', 'la']]"
      ]
    },
    {
      "cell_type": "code",
      "execution_count": 21,
      "id": "c79051fb-c3dd-4bd0-b185-42b1e0b7abc6",
      "metadata": {
        "id": "c79051fb-c3dd-4bd0-b185-42b1e0b7abc6",
        "outputId": "375e59ae-464b-48f9-f7b1-828633a9aba7",
        "colab": {
          "base_uri": "https://localhost:8080/"
        }
      },
      "outputs": [
        {
          "output_type": "execute_result",
          "data": {
            "text/plain": [
              "[{'name': 'sam', 'hometown': 'nyc'},\n",
              " {'name': 'lisa', 'hometown': 'chicago'},\n",
              " {'name': 'arnold', 'hometown': 'la'}]"
            ]
          },
          "metadata": {},
          "execution_count": 21
        }
      ],
      "source": [
        "customer_keys = ['name', 'hometown']\n",
        "\n",
        "customers = []\n",
        "for customer_attr in customer_attrs:\n",
        "    customer = dict(zip(keys, customer_attr))\n",
        "    customers.append(customer)\n",
        "customers"
      ]
    },
    {
      "cell_type": "markdown",
      "id": "e1efda40-6623-4ac4-b971-d312464ea878",
      "metadata": {
        "id": "e1efda40-6623-4ac4-b971-d312464ea878"
      },
      "source": [
        "Or with list comprehension."
      ]
    },
    {
      "cell_type": "code",
      "execution_count": 22,
      "id": "326488ee-d6be-4803-98a1-bbf2b1278701",
      "metadata": {
        "id": "326488ee-d6be-4803-98a1-bbf2b1278701",
        "outputId": "e2ceab11-a5fb-4a20-84a9-82ff4439c1f4",
        "colab": {
          "base_uri": "https://localhost:8080/"
        }
      },
      "outputs": [
        {
          "output_type": "execute_result",
          "data": {
            "text/plain": [
              "[{'name': 'sam', 'hometown': 'nyc'},\n",
              " {'name': 'lisa', 'hometown': 'chicago'},\n",
              " {'name': 'arnold', 'hometown': 'la'}]"
            ]
          },
          "metadata": {},
          "execution_count": 22
        }
      ],
      "source": [
        "customer_keys = ['name', 'hometown']\n",
        "\n",
        "customers = [dict(zip(keys, customer_attr))\n",
        "             for customer_attr in customer_attrs]\n",
        "customers"
      ]
    },
    {
      "cell_type": "markdown",
      "id": "3d2b0ae3-4bb4-4488-aaa8-1b18f239e729",
      "metadata": {
        "id": "3d2b0ae3-4bb4-4488-aaa8-1b18f239e729"
      },
      "source": [
        "### Challenge"
      ]
    },
    {
      "cell_type": "markdown",
      "id": "187cd520-fc1f-47e9-8b4c-76bd3e98158e",
      "metadata": {
        "id": "187cd520-fc1f-47e9-8b4c-76bd3e98158e"
      },
      "source": [
        "Now from the list of dictionaries of above, to a list of strings, where each string is in the format of `name is _ and hometown is _`."
      ]
    },
    {
      "cell_type": "code",
      "execution_count": 27,
      "id": "3eaebd69-9d3c-42fa-81a2-0c5a429592e9",
      "metadata": {
        "id": "3eaebd69-9d3c-42fa-81a2-0c5a429592e9",
        "outputId": "bdae7b4c-410b-41ea-a01b-184a4d531d65",
        "colab": {
          "base_uri": "https://localhost:8080/"
        }
      },
      "outputs": [
        {
          "output_type": "execute_result",
          "data": {
            "text/plain": [
              "['name is sam and hometown is nyc',\n",
              " 'name is lisa and hometown is chicago',\n",
              " 'name is arnold and hometown is la']"
            ]
          },
          "metadata": {},
          "execution_count": 27
        }
      ],
      "source": [
        "# declare empty list\n",
        "strings = []\n",
        "# intiate a for loop\n",
        "# for customer in customers:\n",
        "#   strings.append('name is ' + customer['name'] + ' and hometown is ' + customer['hometown'])\n",
        "\n",
        "['name is ' + customer['name'] + ' and hometown is ' + customer['hometown'] for customer in customers]\n",
        "\n",
        "# ['name is sam and hometown is nyc',\n",
        "#  'name is lisa and hometown is chicago',\n",
        "#  'name is arnold and hometown is la']"
      ]
    }
  ],
  "metadata": {
    "kernelspec": {
      "display_name": "Python 3 (ipykernel)",
      "language": "python",
      "name": "python3"
    },
    "language_info": {
      "codemirror_mode": {
        "name": "ipython",
        "version": 3
      },
      "file_extension": ".py",
      "mimetype": "text/x-python",
      "name": "python",
      "nbconvert_exporter": "python",
      "pygments_lexer": "ipython3",
      "version": "3.9.12"
    },
    "colab": {
      "provenance": []
    }
  },
  "nbformat": 4,
  "nbformat_minor": 5
}