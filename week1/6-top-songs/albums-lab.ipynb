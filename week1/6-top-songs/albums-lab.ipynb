{
  "cells": [
    {
      "cell_type": "markdown",
      "metadata": {
        "id": "tSj5jhbZ6KTw"
      },
      "source": [
        "# Albums and Songs Lab"
      ]
    },
    {
      "cell_type": "markdown",
      "metadata": {
        "id": "ViybBvAu6KT0"
      },
      "source": [
        "### Introduction"
      ]
    },
    {
      "cell_type": "markdown",
      "metadata": {
        "id": "9TMJl5356KT0"
      },
      "source": [
        "In this lesson, we'll use the skills we have learned over the past several lessons to answer questions about the top songs, artists and albums over the past fifty years."
      ]
    },
    {
      "cell_type": "markdown",
      "metadata": {
        "id": "tugdAi5S6KT1"
      },
      "source": [
        "### Working with Songs"
      ]
    },
    {
      "cell_type": "markdown",
      "metadata": {
        "id": "5tJrI_Hz6KT1"
      },
      "source": [
        "Let's start by working with data regarding top 500 albums according to the Rolling Stone Magazine."
      ]
    },
    {
      "cell_type": "code",
      "execution_count": 1,
      "metadata": {
        "id": "ia_umrFj6KT3"
      },
      "outputs": [],
      "source": [
        "import pandas as pd\n",
        "url = \"https://raw.githubusercontent.com/data-eng-10-21/mod-1-a-data-structures/master/6-top-songs/data.csv\"\n",
        "df = pd.read_csv(url)\n",
        "albums = df.to_dict('records')"
      ]
    },
    {
      "cell_type": "code",
      "execution_count": 3,
      "metadata": {
        "colab": {
          "base_uri": "https://localhost:8080/"
        },
        "id": "OFFOmZgH6KT4",
        "outputId": "b5cf7217-d3ff-4d7c-d3ec-148771049f2f"
      },
      "outputs": [
        {
          "output_type": "execute_result",
          "data": {
            "text/plain": [
              "[{'number': 1,\n",
              "  'year': 1967,\n",
              "  'album': \"Sgt. Pepper's Lonely Hearts Club Band\",\n",
              "  'artist': 'The Beatles',\n",
              "  'genre': 'Rock',\n",
              "  'subgenre': 'Rock & Roll, Psychedelic Rock'},\n",
              " {'number': 2,\n",
              "  'year': 1966,\n",
              "  'album': 'Pet Sounds',\n",
              "  'artist': 'The Beach Boys',\n",
              "  'genre': 'Rock',\n",
              "  'subgenre': 'Pop Rock, Psychedelic Rock'}]"
            ]
          },
          "metadata": {},
          "execution_count": 3
        }
      ],
      "source": [
        "albums[:2]"
      ]
    },
    {
      "cell_type": "code",
      "execution_count": 2,
      "metadata": {
        "colab": {
          "base_uri": "https://localhost:8080/"
        },
        "id": "Gc7wyyxT6KT5",
        "outputId": "717b895b-52cd-44ee-dc52-ffae8a63d68f"
      },
      "outputs": [
        {
          "output_type": "execute_result",
          "data": {
            "text/plain": [
              "478"
            ]
          },
          "metadata": {},
          "execution_count": 2
        }
      ],
      "source": [
        "len(albums)"
      ]
    },
    {
      "cell_type": "markdown",
      "metadata": {
        "id": "FxUFypAD6KT6"
      },
      "source": [
        "> Well, 478."
      ]
    },
    {
      "cell_type": "markdown",
      "metadata": {
        "id": "W51tuEJC6KT7"
      },
      "source": [
        "Let's write some functions to help us better explore the data."
      ]
    },
    {
      "cell_type": "markdown",
      "metadata": {
        "id": "g39mMaIN6KT7"
      },
      "source": [
        "* `all_albums` - Takes an argument of albums and returns the list of album names.\n",
        "\n",
        "* `all_artists` - Takes argument of list of albums and returns a list of all artists (where each element is a string), and no artist is repeated.\n",
        "\n",
        "* `find_by_name` - Has one argument of `album_name`. Returns a dictionary of the correct album, or `None` if no album is found.\n",
        "\n",
        "* `find_by_ranks` - Takes `begin_rank` and `end_rank` as arguments.  Also possible to execute the function by just providing the `begin_rank` or `end_rank` (and not both).  If no arguments are provided the entire list of albums are returned.\n",
        "\n",
        "* `find_by_years` - Takes `begin_year` and `end_year` as arguments, and returns a list of dictionaries for albums between those years.  Also possible to execute the function by just providing the `begin_year` or `end_year` (and not both)."
      ]
    },
    {
      "cell_type": "code",
      "source": [
        "def get_album_data_by_key(albums: list[dict], key_name: str):\n",
        "  return [album[key_name] for album in albums]"
      ],
      "metadata": {
        "id": "sp6_QxNL7TFB"
      },
      "execution_count": 4,
      "outputs": []
    },
    {
      "cell_type": "code",
      "source": [
        "def get_all_albums(albums: list[dict]):\n",
        "  album_names = get_album_data_by_key(albums, 'album' )\n",
        "  return album_names\n",
        "\n",
        "# get_all_albums(albums)"
      ],
      "metadata": {
        "id": "A4BIO4ax7t1z"
      },
      "execution_count": 6,
      "outputs": []
    },
    {
      "cell_type": "code",
      "source": [
        "def find_album_by_name(albums: list[dict], name: str) -> dict:\n",
        "  for album in albums:\n",
        "    if album['album'] == name:\n",
        "      return album"
      ],
      "metadata": {
        "id": "7DfmQvOE8SCF"
      },
      "execution_count": 13,
      "outputs": []
    },
    {
      "cell_type": "code",
      "source": [
        "find_album_by_name(albums, 'Elvis esley')"
      ],
      "metadata": {
        "id": "-E38AjH68x2T"
      },
      "execution_count": 15,
      "outputs": []
    },
    {
      "cell_type": "code",
      "source": [
        "def find_album_by_ranks(albums: list[dict], begin_rank: float=float('-inf'), end_rank: float=float('inf')):\n",
        "  return [album for album in albums if album['number'] > begin_rank and album['number'] < end_rank]\n"
      ],
      "metadata": {
        "id": "qJ1ckI5e9TqY"
      },
      "execution_count": 19,
      "outputs": []
    },
    {
      "cell_type": "code",
      "source": [
        "def find_album_by_year(albums: list[dict], begin_year: float=float('-inf'), end_year: float=float('inf')):\n",
        "  return [album for album in albums if album['year'] > begin_year and album['year'] < end_year]\n"
      ],
      "metadata": {
        "id": "wXVoP9To-XrV"
      },
      "execution_count": 20,
      "outputs": []
    },
    {
      "cell_type": "markdown",
      "metadata": {
        "id": "57_2uubj6KT7"
      },
      "source": [
        "### Working with Songs"
      ]
    },
    {
      "cell_type": "markdown",
      "metadata": {
        "id": "qEMpxWQL6KT7"
      },
      "source": [
        "Next, let's load up data related to songs, and data that connects albums and songs."
      ]
    },
    {
      "cell_type": "code",
      "execution_count": 21,
      "metadata": {
        "id": "pcroQxkS6KT8"
      },
      "outputs": [],
      "source": [
        "import pandas as pd\n",
        "songs_url = \"https://raw.githubusercontent.com/data-eng-10-21/mod-1-a-data-structures/master/6-top-songs/top-500-songs.txt\"\n",
        "songs_df = pd.read_csv(songs_url, sep='\\t', header = None, names = ['rank', 'song', 'artist', 'year'])\n",
        "songs = songs_df.to_dict('records')\n",
        "\n",
        "track_url = \"https://raw.githubusercontent.com/data-eng-10-21/mod-1-a-data-structures/master/6-top-songs/track_data.json\"\n",
        "albums_and_tracks = pd.read_json(track_url)\n",
        "albums_tracks = albums_and_tracks.to_dict('records')"
      ]
    },
    {
      "cell_type": "code",
      "execution_count": 22,
      "metadata": {
        "colab": {
          "base_uri": "https://localhost:8080/"
        },
        "id": "tUsU0r-J6KT8",
        "outputId": "4296b6bb-3ec3-45f9-a5b5-c30929e19076"
      },
      "outputs": [
        {
          "output_type": "execute_result",
          "data": {
            "text/plain": [
              "[{'rank': 1,\n",
              "  'song': 'Like a Rolling Stone',\n",
              "  'artist': 'Bob Dylan',\n",
              "  'year': 1965},\n",
              " {'rank': 2,\n",
              "  'song': 'Satisfaction',\n",
              "  'artist': 'The Rolling Stones',\n",
              "  'year': 1965}]"
            ]
          },
          "metadata": {},
          "execution_count": 22
        }
      ],
      "source": [
        "songs[:2]"
      ]
    },
    {
      "cell_type": "code",
      "execution_count": 60,
      "metadata": {
        "colab": {
          "base_uri": "https://localhost:8080/"
        },
        "id": "GR-3BSO06KT8",
        "outputId": "622266bc-6749-4bd6-c940-189f9ae56cc1"
      },
      "outputs": [
        {
          "output_type": "execute_result",
          "data": {
            "text/plain": [
              "478"
            ]
          },
          "metadata": {},
          "execution_count": 60
        }
      ],
      "source": [
        "albums_tracks[0]\n",
        "len(albums_tracks)"
      ]
    },
    {
      "cell_type": "code",
      "source": [
        "# first, we edit our data structure. Edit the album data structure so each song has an artist and album\n",
        "def edit_albums_tracks(albums: list[dict]) -> list[dict]:\n",
        "  clean_album_tracks = []\n",
        "  for album in albums_tracks:\n",
        "    filtered_tracks = [track.split(' - ')[0].split('(Reprise)')[0] for track in album['tracks']]\n",
        "    clean_tracks = [{'artist': album['artist'], 'album': album['album'], 'name': \\\n",
        "                    track} for track in filtered_tracks]\n",
        "    clean_album_tracks = clean_album_tracks + clean_tracks\n",
        "\n",
        "  return clean_album_tracks"
      ],
      "metadata": {
        "id": "qWpo3lDsBFre"
      },
      "execution_count": 47,
      "outputs": []
    },
    {
      "cell_type": "code",
      "source": [
        "tracks_list = edit_albums_tracks(albums_tracks)\n",
        "len(tracks_list)"
      ],
      "metadata": {
        "id": "tMT8wTZ4DObJ",
        "outputId": "ed515672-5d2c-4d25-ffdd-659d0f60150b",
        "colab": {
          "base_uri": "https://localhost:8080/"
        }
      },
      "execution_count": 48,
      "outputs": [
        {
          "output_type": "execute_result",
          "data": {
            "text/plain": [
              "7375"
            ]
          },
          "metadata": {},
          "execution_count": 48
        }
      ]
    },
    {
      "cell_type": "code",
      "source": [
        "def remove_duplicate_tracks(track_list):\n",
        "  seen_track_names = []\n",
        "  seen_tracks = []\n",
        "  for track in tracks_list:\n",
        "    if track['name'] not in seen_track_names:\n",
        "      seen_track_names.append(track['name'])\n",
        "      seen_tracks.append(track)\n",
        "  return seen_tracks"
      ],
      "metadata": {
        "id": "cWygSWvtETnR"
      },
      "execution_count": 54,
      "outputs": []
    },
    {
      "cell_type": "code",
      "source": [
        "clean_tracks_list = remove_duplicate_tracks(tracks_list)\n",
        "len(clean_tracks_list)"
      ],
      "metadata": {
        "id": "YtSTVptsE-mX",
        "outputId": "a9015787-97a5-4c0e-c7b7-2721abcb777c",
        "colab": {
          "base_uri": "https://localhost:8080/"
        }
      },
      "execution_count": 56,
      "outputs": [
        {
          "output_type": "execute_result",
          "data": {
            "text/plain": [
              "6402"
            ]
          },
          "metadata": {},
          "execution_count": 56
        }
      ]
    },
    {
      "cell_type": "code",
      "source": [
        "# find top albums\n",
        "top_song_names = [song['song'] for song in songs]\n",
        "# create new data struct. for album names\n",
        "album_names = {}\n",
        "for track in albums_tracks:\n",
        "  album_names[track['album']] = 0\n",
        "\n",
        "len(album_names)"
      ],
      "metadata": {
        "id": "V8I68JeoFhf9",
        "outputId": "bb1640b5-596b-4f75-827f-219e7ad89f2b",
        "colab": {
          "base_uri": "https://localhost:8080/"
        }
      },
      "execution_count": 61,
      "outputs": [
        {
          "output_type": "execute_result",
          "data": {
            "text/plain": [
              "475"
            ]
          },
          "metadata": {},
          "execution_count": 61
        }
      ]
    },
    {
      "cell_type": "code",
      "source": [
        "for track in clean_tracks_list:\n",
        "  for song in songs:\n",
        "    if track['name'] == song['song'] and song['artist'] == track['artist']:\n",
        "        album_names[track['album']] += 1\n",
        "sorted(album_names.items(), key = lambda name: name[1], reverse=True)"
      ],
      "metadata": {
        "id": "VcSm-joQGqLO",
        "outputId": "a33bfd2b-b96f-4c78-892e-ea31ca34c79f",
        "colab": {
          "base_uri": "https://localhost:8080/"
        }
      },
      "execution_count": 67,
      "outputs": [
        {
          "output_type": "execute_result",
          "data": {
            "text/plain": [
              "[('Elvis Presley', 36),\n",
              " ('The Great Twenty Eight', 30),\n",
              " ('Are You Experienced', 23),\n",
              " ('Pet Sounds', 18),\n",
              " ('Highway 61 Revisited', 18),\n",
              " ('Abbey Road', 17),\n",
              " ('Bringing It All Back Home', 17),\n",
              " ('Otis Blue: Otis Redding Sings Soul', 15),\n",
              " (\"Sgt. Pepper's Lonely Hearts Club Band\", 12),\n",
              " ('Rubber Soul', 12),\n",
              " ('London Calling', 12),\n",
              " ('Blonde on Blonde', 12),\n",
              " ('Born to Run', 12),\n",
              " ('Thriller', 12),\n",
              " ('The Joshua Tree', 12),\n",
              " (\"Who's Next\", 12),\n",
              " ('Led Zeppelin', 12),\n",
              " ('Let It Bleed', 12),\n",
              " ('Please Please Me', 12),\n",
              " (\"Here's Little Richard\", 12),\n",
              " ('Appetite for Destruction', 12),\n",
              " ('Sticky Fingers', 12),\n",
              " ('Star Time', 12),\n",
              " ('Led Zeppelin II', 12),\n",
              " ('40 Greatest Hits', 12),\n",
              " ('Portrait of a Legend 1951-1964', 12),\n",
              " ('Loaded', 12),\n",
              " ('Paranoid', 12),\n",
              " ('Live at Leeds', 12),\n",
              " ('Wheels of Fire', 12),\n",
              " (\"A Hard Day's Night\", 12),\n",
              " ('MTV Unplugged in New York', 12),\n",
              " ('The Sun Sessions', 11),\n",
              " ('Electric Ladyland', 11),\n",
              " ('Achtung Baby', 11),\n",
              " ('Purple Rain', 11),\n",
              " ('Lady Soul', 11),\n",
              " ('At Folsom Prison', 11),\n",
              " ('The Who Sell Out', 11),\n",
              " ('Pearl', 11),\n",
              " ('Every Picture Tells a Story', 11),\n",
              " (\"I'm Still in Love With You\", 11),\n",
              " ('The Anthology', 10),\n",
              " ('Bridge Over Troubled Water', 10),\n",
              " ('Greatest Hits', 10),\n",
              " ('I Never Loved a Man the Way I Love You', 10),\n",
              " ('If You Can Believe Your Eyes and Ears', 10),\n",
              " ('The Harder They Come', 10),\n",
              " ('Saturday Night Fever: The Original Movie Soundtrack Deluxe Edition', 10),\n",
              " ('The Sun Records Collection', 10),\n",
              " ('Revolver', 6),\n",
              " (\"What's Going On\", 6),\n",
              " ('The Beatles (\"The White Album\")', 6),\n",
              " ('The Velvet Underground & Nico', 6),\n",
              " ('Innervisions', 6),\n",
              " ('Rumours', 6),\n",
              " ('Music From Big Pink', 6),\n",
              " ('The Rise and Fall of Ziggy Stardust and the Spiders From Mars', 6),\n",
              " ('Tapestry', 6),\n",
              " ('Forever Changes', 6),\n",
              " ('The Doors', 6),\n",
              " ('At Fillmore East', 6),\n",
              " ('Meet The Beatles!', 6),\n",
              " ('Beggars Banquet', 6),\n",
              " ('Moondance', 6),\n",
              " ('Graceland', 6),\n",
              " ('Physical Graffiti', 6),\n",
              " ('Born in the U.S.A.', 6),\n",
              " ('The Wall', 6),\n",
              " ('Talking Book', 6),\n",
              " ('Goodbye Yellow Brick Road', 6),\n",
              " ('Sweet Baby James', 6),\n",
              " ('Aftermath', 6),\n",
              " ('The Bends', 6),\n",
              " ('Court and Spark', 6),\n",
              " ('Layla and Other Assorted Love Songs', 6),\n",
              " ('Marquee Moon', 6),\n",
              " ('Slanted and Enchanted', 6),\n",
              " ('OK Computer', 6),\n",
              " (\"Let's Get It On\", 6),\n",
              " ('My Aim Is True', 6),\n",
              " ('Red Headed Stranger', 6),\n",
              " ('The Stooges', 6),\n",
              " ('Murmur', 6),\n",
              " ('Highway to Hell', 6),\n",
              " ('Wish You Were Here', 6),\n",
              " ('New York Dolls', 6),\n",
              " ('Toys in the Attic', 6),\n",
              " ('A Night at the Opera', 6),\n",
              " ('Mr. Tambourine Man', 6),\n",
              " ('Metallica (\"The Black Album\")', 6),\n",
              " ('Crosby, Stills & Nash', 6),\n",
              " ('Tracy Chapman', 6),\n",
              " ('Some Girls', 6),\n",
              " ('Weezer (Blue Album)', 6),\n",
              " ('Sail Away', 6),\n",
              " ('Violator', 6),\n",
              " ('Between the Buttons', 6),\n",
              " ('Louder Than Bombs', 6),\n",
              " ('The Smile Sessions', 6),\n",
              " ('The Modern Lovers', 6),\n",
              " (\"(pronounced 'leh-'nerd 'skin-'nerd)\", 6),\n",
              " (\"I Do Not Want What I Haven't Got\", 6),\n",
              " ('Presenting the Fabulous Ronettes Featuring Veronica', 6),\n",
              " (\"Outlandos d'Amour\", 6),\n",
              " ('All Things Must Pass', 6),\n",
              " ('Synchronicity', 6),\n",
              " ('Love It to Death', 6),\n",
              " ('All the Young Dudes', 6),\n",
              " (\"That's the Way of the World\", 6),\n",
              " ('Live in Cook County Jail', 6),\n",
              " ('Exile on Main St.', 5),\n",
              " ('The Complete Recordings', 5),\n",
              " ('Ramones', 5),\n",
              " ('Hotel California', 5),\n",
              " ('The Birth of Soul', 5),\n",
              " ('Axis: Bold as Love', 5),\n",
              " (\"There's a Riot Goin' On\", 5),\n",
              " ('Fresh Cream', 5),\n",
              " ('Rocket to Russia', 5),\n",
              " ('At Last!', 5),\n",
              " ('Raising Hell', 5),\n",
              " ('Raw Power', 5),\n",
              " ('Tim', 5),\n",
              " ('Surrealistic Pillow', 5),\n",
              " (\"The B 52's\", 5),\n",
              " ('Close to You', 5),\n",
              " ('Doolittle', 5),\n",
              " ('Paid in Full', 5),\n",
              " ('Let It Be', 5),\n",
              " ('The Marshall Mathers LP', 5),\n",
              " ('Going to a Go-Go', 5),\n",
              " ('Nightbirds', 5),\n",
              " (\"Burnin'\", 5),\n",
              " ('Squeezing Out Sparks', 5),\n",
              " ('Berlin', 5),\n",
              " ('My Beautiful Dark Twisted Fantasy', 5),\n",
              " ('American Recordings', 5),\n",
              " ('Volunteers', 5),\n",
              " ('Van Halen', 5),\n",
              " ('The \"Chirping\" Crickets', 5),\n",
              " ('How Will the Wolf Survive?', 5),\n",
              " ('The Score', 5),\n",
              " ('Kind of Blue', 0),\n",
              " ('Blood on the Tracks', 0),\n",
              " ('Nevermind', 0),\n",
              " ('Astral Weeks', 0),\n",
              " ('John Lennon/Plastic Ono Band', 0),\n",
              " ('Live at the Apollo, 1962', 0),\n",
              " ('Blue', 0),\n",
              " (\"Never Mind the Bollocks Here's the Sex Pistols\", 0),\n",
              " ('The Dark Side of the Moon', 0),\n",
              " ('Horses', 0),\n",
              " ('The Brown Album', 0),\n",
              " ('The Best of Bob Marley and The Wailers', 0),\n",
              " ('A Love Supreme', 0),\n",
              " ('It Takes a Nation of Millions to Hold Us Back', 0),\n",
              " ('Songs in the Key of Life', 0),\n",
              " ('Chronicle: The 20 Greatest Hits', 0),\n",
              " ('Back to Mono', 0),\n",
              " ('Kid A', 0),\n",
              " ('Off the Wall', 0),\n",
              " ('[Led Zeppelin IV]', 0),\n",
              " ('The Stranger', 0),\n",
              " ('Superfly', 0),\n",
              " ('After the Gold Rush', 0),\n",
              " ('Back in Black', 0),\n",
              " ('Imagine', 0),\n",
              " ('The Clash', 0),\n",
              " ('Harvest', 0),\n",
              " ('Dusty in Memphis', 0),\n",
              " ('20 Golden Greats', 0),\n",
              " (\"Sign 'O' the Times\", 0),\n",
              " ('Bitches Brew', 0),\n",
              " ('Tommy', 0),\n",
              " (\"The Freewheelin' Bob Dylan\", 0),\n",
              " (\"This Year's Model\", 0),\n",
              " ('Odessey and Oracle', 0),\n",
              " ('In the Wee Small Hours', 0),\n",
              " ('Giant Steps', 0),\n",
              " ('Hunky Dory', 0),\n",
              " ('Disraeli Gears', 0),\n",
              " ('Out of Our Heads', 0),\n",
              " ('Late Registration', 0),\n",
              " ('Sweetheart of the Rodeo', 0),\n",
              " ('Stand!', 0),\n",
              " ('Moby Grape', 0),\n",
              " ('Catch a Fire', 0),\n",
              " ('Younger Than Yesterday', 0),\n",
              " ('Remain in Light', 0),\n",
              " ('The Wild, the Innocent & the E Street Shuffle', 0),\n",
              " ('Ready to Die', 0),\n",
              " ('The Chronic', 0),\n",
              " ('Rejuvenation', 0),\n",
              " ('Parallel Lines', 0),\n",
              " ('Live at the Regal', 0),\n",
              " ('A Christmas Gift for You From Phil Spector', 0),\n",
              " ('Gris-Gris', 0),\n",
              " ('Straight Outta Compton', 0),\n",
              " ('Aja', 0),\n",
              " ('Deja vu', 0),\n",
              " ('Houses of the Holy', 0),\n",
              " ('Santana', 0),\n",
              " ('Darkness on the Edge of Town', 0),\n",
              " ('Funeral', 0),\n",
              " ('The Low End Theory', 0),\n",
              " (\"Moanin' in the Moonlight\", 0),\n",
              " ('Pretenders', 0),\n",
              " (\"Paul's Boutique\", 0),\n",
              " ('Closer', 0),\n",
              " ('Captain Fantastic and the Brown Dirt Cowboy', 0),\n",
              " ('Alive!', 0),\n",
              " ('Electric Warrior', 0),\n",
              " ('The Dock of the Bay', 0),\n",
              " ('1999', 0),\n",
              " ('Imperial Bedroom', 0),\n",
              " ('Master of Puppets', 0),\n",
              " ('Exodus', 0),\n",
              " ('The Notorious Byrd Brothers', 0),\n",
              " ('Something/Anything?', 0),\n",
              " ('Desire', 0),\n",
              " ('Rocks', 0),\n",
              " ('One Nation Under a Groove', 0),\n",
              " ('The Anthology: 1961-1977', 0),\n",
              " ('The Definitive Collection', 0),\n",
              " ('The Rolling Stones, Now!', 0),\n",
              " ('Natty Dread', 0),\n",
              " ('Fleetwood Mac', 0),\n",
              " ('The Immaculate Collection', 0),\n",
              " ('Fresh', 0),\n",
              " ('So', 0),\n",
              " ('Buffalo Springfield Again', 0),\n",
              " ('Happy Trails', 0),\n",
              " ('From Elvis in Memphis', 0),\n",
              " ('Fun House', 0),\n",
              " ('The Gilded Palace of Sin', 0),\n",
              " ('Dookie', 0),\n",
              " ('Transformer', 0),\n",
              " ('The Beano Album', 0),\n",
              " ('Is This It', 0),\n",
              " ('The Downward Spiral', 0),\n",
              " ('Parsley, Sage, Rosemary and Thyme', 0),\n",
              " ('Bad', 0),\n",
              " ('Modern Times', 0),\n",
              " ('Dirty Mind', 0),\n",
              " ('Abraxas', 0),\n",
              " ('Tea for the Tillerman', 0),\n",
              " ('Ten', 0),\n",
              " ('Everybody Knows This Is Nowhere', 0),\n",
              " ('Crooked Rain Crooked Rain', 0),\n",
              " ('Tattoo You', 0),\n",
              " ('Bo Diddley / Go Bo Diddley', 0),\n",
              " ('Two Steps From the Blues', 0),\n",
              " ('The Queen Is Dead', 0),\n",
              " ('Licensed to Ill', 0),\n",
              " ('Look-Ka Py Py', 0),\n",
              " ('Loveless', 0),\n",
              " ('New Orleans Piano', 0),\n",
              " ('War', 0),\n",
              " ('The Neil Diamond Collection', 0),\n",
              " ('American Idiot', 0),\n",
              " ('Nebraska', 0),\n",
              " ('Nick of Time', 0),\n",
              " ('Bookends', 0),\n",
              " ('The Ultimate Collection', 0),\n",
              " ('Mr. Excitement!', 0),\n",
              " ('My Generation', 0),\n",
              " (\"Howlin' Wolf\", 0),\n",
              " ('Like a Prayer', 0),\n",
              " (\"Can't Buy a Thrill\", 0),\n",
              " ('Run D.M.C.', 0),\n",
              " ('Black Sabbath', 0),\n",
              " ('Freak Out!', 0),\n",
              " ('Live/Dead', 0),\n",
              " ('The Shape of Jazz to Come', 0),\n",
              " ('Automatic for the People', 0),\n",
              " ('Reasonable Doubt', 0),\n",
              " ('Low', 0),\n",
              " ('The Blueprint', 0),\n",
              " ('The River', 0),\n",
              " ('Complete & Unbelievable: The Otis Redding Dictionary of Soul', 0),\n",
              " ('Whitney Houston', 0),\n",
              " ('The Kinks Are The Village Green Preservation Society', 0),\n",
              " ('The Velvet Rope', 0),\n",
              " ('Stardust', 0),\n",
              " ('American Beauty', 0),\n",
              " (\"Workingman's Dead\", 0),\n",
              " ('The Genius of Ray Charles', 0),\n",
              " ('Child Is Father to the Man', 0),\n",
              " ('Quadrophenia', 0),\n",
              " ('Paul Simon', 0),\n",
              " ('Psychocandy', 0),\n",
              " ('The Beach Boys Today!', 0),\n",
              " ('Dig Me Out', 0),\n",
              " ('The Slim Shady LP', 0),\n",
              " ('Mothership Connection', 0),\n",
              " ('Rhythm Nation 1814', 0),\n",
              " ('Aladdin Sane', 0),\n",
              " (\"All That You Can't Leave Behind\", 0),\n",
              " ('My Life', 0),\n",
              " ('Folk Singer', 0),\n",
              " (\"Can't Get Enough\", 0),\n",
              " ('The Cars', 0),\n",
              " ('Music of My Mind', 0),\n",
              " ('Los Angeles', 0),\n",
              " ('Anthem of the Sun', 0),\n",
              " ('Call Me', 0),\n",
              " ('Talking Heads: 77', 0),\n",
              " ('The Basement Tapes', 0),\n",
              " ('White Light/White Heat', 0),\n",
              " ('Kick Out the Jams', 0),\n",
              " ('Songs of Love and Hate', 0),\n",
              " ('Meat Is Murder', 0),\n",
              " (\"We're Only in It for the Money\", 0),\n",
              " ('The College Dropout', 0),\n",
              " ('Master of Reality', 0),\n",
              " ('Coat of Many Colors', 0),\n",
              " ('Fear of a Black Planet', 0),\n",
              " ('John Wesley Harding', 0),\n",
              " ('Grace', 0),\n",
              " ('Car Wheels on a Gravel Road', 0),\n",
              " ('Odelay', 0),\n",
              " ('Willy and the Poor Boys', 0),\n",
              " ('Blood Sugar Sex Magik', 0),\n",
              " (\"Nothing's Shocking\", 0),\n",
              " ('The Miseducation of Lauryn Hill', 0),\n",
              " ('Damn the Torpedoes', 0),\n",
              " ('The Velvet Underground', 0),\n",
              " ('Surfer Rosa', 0),\n",
              " ('Back Stabbers', 0),\n",
              " ('Amnesiac', 0),\n",
              " ('Pink Moon', 0),\n",
              " ('Ghost in the Machine', 0),\n",
              " ('Station to Station', 0),\n",
              " ('Slowhand', 0),\n",
              " ('Disintegration', 0),\n",
              " ('Exile in Guyville', 0),\n",
              " ('Daydream Nation', 0),\n",
              " ('In the Jungle Groove', 0),\n",
              " (\"Tonight's the Night\", 0),\n",
              " ('Help!', 0),\n",
              " ('Shoot Out the Lights', 0),\n",
              " ('Wild Gift', 0),\n",
              " ('Superunknown', 0),\n",
              " ('In Rainbows', 0),\n",
              " ('Aqualung', 0),\n",
              " ('Cheap Thrills', 0),\n",
              " ('The Heart of Saturday Night', 0),\n",
              " ('Damaged', 0),\n",
              " ('Play', 0),\n",
              " ('Bat Out of Hell', 0),\n",
              " ('Stop Making Sense', 0),\n",
              " ('The Piper at the Gates of Dawn', 0),\n",
              " ('Muddy Waters at Newport 1960', 0),\n",
              " ('The Black Album', 0),\n",
              " ('Roger the Engineer', 0),\n",
              " ('Rust Never Sleeps', 0),\n",
              " ('Brothers in Arms', 0),\n",
              " ('52nd Street', 0),\n",
              " ('12 Songs', 0),\n",
              " ('Sketches of Spain', 0),\n",
              " ('Singles Going Steady', 0),\n",
              " ('Stankonia', 0),\n",
              " ('Siamese Dream', 0),\n",
              " ('L.A. Woman', 0),\n",
              " ('Rage Against the Machine', 0),\n",
              " ('Ray of Light', 0),\n",
              " ('Eagles', 0),\n",
              " ('Mott', 0),\n",
              " (\"Whatever People Say I Am, That's What I'm Not\", 0),\n",
              " ('Reggatta de Blanc', 0),\n",
              " ('Siren', 0),\n",
              " ('Late for the Sky', 0),\n",
              " ('Post', 0),\n",
              " (\"(What's the Story) Morning Glory?\", 0),\n",
              " ('CrazySexyCool', 0),\n",
              " ('Funky Kingston', 0),\n",
              " ('More Songs About Buildings and Food', 0),\n",
              " ('A Quick One', 0),\n",
              " ('\"Love and Theft\"', 0),\n",
              " ('Pretzel Logic', 0),\n",
              " ('Enter the Wu Tang: 36 Chambers', 0),\n",
              " ('The Indestructible Beat of Soweto', 0),\n",
              " ('The End of the Innocence', 0),\n",
              " ('Elephant', 0),\n",
              " ('The Pretender', 0),\n",
              " ('Kala', 0),\n",
              " ('Good Old Boys', 0),\n",
              " ('Sound of Silver', 0),\n",
              " ('For Your Pleasure', 0),\n",
              " ('Blue Lines', 0),\n",
              " ('Eliminator', 0),\n",
              " ('Rain Dogs', 0),\n",
              " ('Californication', 0),\n",
              " ('Illmatic', 0),\n",
              " (\"Dr. John's Gumbo\", 0),\n",
              " ('Radio City', 0),\n",
              " ('Rid of Me', 0),\n",
              " ('Sandinista!', 0),\n",
              " ('Strange Days', 0),\n",
              " ('Time Out of Mind', 0),\n",
              " ('461 Ocean Boulevard', 0),\n",
              " ('Pink Flag', 0),\n",
              " ('Double Nickels on the Dime', 0),\n",
              " ('Beauty and the Beat', 0),\n",
              " ('Mule Variations', 0),\n",
              " ('Boy', 0),\n",
              " ('Band on the Run', 0),\n",
              " ('Dummy', 0),\n",
              " ('Anthology', 0),\n",
              " ('The Rising', 0),\n",
              " ('Grievous Angel', 0),\n",
              " ('Sleepless', 0),\n",
              " ('Another Green World', 0),\n",
              " ('Vampire Weekend', 0),\n",
              " ('Stories From the City, Stories From the Sea', 0),\n",
              " ('Here Come the Warm Jets', 0),\n",
              " ('#1 Record', 0),\n",
              " ('In Utero', 0),\n",
              " ('Sea Change', 0),\n",
              " ('Tha Carter III', 0),\n",
              " (\"Boys Don't Cry\", 0),\n",
              " ('Live at the Harlem Square Club, 1963', 0),\n",
              " ('Rum Sodomy & the Lash', 0),\n",
              " ('Suicide', 0),\n",
              " ('Q: Are We Not Men? A: We Are Devo!', 0),\n",
              " ('In Color', 0),\n",
              " ('The World Is a Ghetto', 0),\n",
              " ('Fly Like an Eagle', 0),\n",
              " ('Back in the USA', 0),\n",
              " ('Getz / Gilberto', 0),\n",
              " ('For Everyman', 0),\n",
              " ('Back to Black', 0),\n",
              " ('John Prine', 0),\n",
              " ('Strictly Business', 0),\n",
              " ('Here, My Dear', 0),\n",
              " ('Z', 0),\n",
              " ('Tumbleweed Connection', 0),\n",
              " ('Live Through This', 0),\n",
              " ('Metal Box', 0),\n",
              " ('Document', 0),\n",
              " ('Heaven Up Here', 0),\n",
              " ('Hysteria', 0),\n",
              " ('69 Love Songs', 0),\n",
              " ('A Rush of Blood to the Head', 0),\n",
              " ('Tunnel of Love', 0),\n",
              " ('The Paul Butterfield Blues Band', 0),\n",
              " ('Radio', 0),\n",
              " ('I Want to See the Bright Lights Tonight', 0),\n",
              " ('Faith', 0),\n",
              " ('The Smiths', 0),\n",
              " ('Proxima estacion: Esperanza', 0),\n",
              " ('Armed Forces', 0),\n",
              " ('Life After Death', 0),\n",
              " ('Down Every Road', 0),\n",
              " ('All Time Greatest Hits', 0),\n",
              " ('Maggot Brain', 0),\n",
              " ('Only Built 4 Cuban Linx', 0),\n",
              " ('Voodoo', 0),\n",
              " ('Guitar Town', 0),\n",
              " ('Entertainment!', 0),\n",
              " ('Vitalogy', 0),\n",
              " (\"She's So Unusual\", 0),\n",
              " ('New Day Rising', 0),\n",
              " ('Destroyer', 0),\n",
              " ('Tres hombres', 0),\n",
              " ('Born Under a Bad Sign', 0),\n",
              " ('Touch', 0),\n",
              " ('Yankee Hotel Foxtrot', 0),\n",
              " ('Oracular Spectacular', 0),\n",
              " ('Give It Up', 0),\n",
              " ('Boz Scaggs', 0),\n",
              " ('White Blood Cells', 0),\n",
              " ('The Stone Roses', 0),\n",
              " ('Aquemini', 0)]"
            ]
          },
          "metadata": {},
          "execution_count": 67
        }
      ]
    },
    {
      "cell_type": "markdown",
      "metadata": {
        "id": "DlbDnTmP6KT9"
      },
      "source": [
        "* Write functions that perform the following:"
      ]
    },
    {
      "cell_type": "markdown",
      "metadata": {
        "id": "0mXadxKg6KT9"
      },
      "source": [
        "`album_most_top_songs` -\n",
        "    * Returns the name of the artist and album that has that most songs featured on the top 500 songs list\n",
        "\n",
        "`top_ten_albums_by_songs` - returns a dictionary with the 10 albums that have the most songs that appear in the top songs list. The album names should be the keys and the corresponding values should be the number of songs that appear on the top 500 list."
      ]
    }
  ],
  "metadata": {
    "kernelspec": {
      "display_name": "Python 3 (ipykernel)",
      "language": "python",
      "name": "python3"
    },
    "language_info": {
      "codemirror_mode": {
        "name": "ipython",
        "version": 3
      },
      "file_extension": ".py",
      "mimetype": "text/x-python",
      "name": "python",
      "nbconvert_exporter": "python",
      "pygments_lexer": "ipython3",
      "version": "3.9.7"
    },
    "colab": {
      "provenance": []
    }
  },
  "nbformat": 4,
  "nbformat_minor": 0
}