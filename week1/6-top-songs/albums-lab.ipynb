{
  "cells": [
    {
      "cell_type": "markdown",
      "metadata": {
        "id": "tSj5jhbZ6KTw"
      },
      "source": [
        "# Albums and Songs Lab"
      ]
    },
    {
      "cell_type": "markdown",
      "metadata": {
        "id": "ViybBvAu6KT0"
      },
      "source": [
        "### Introduction"
      ]
    },
    {
      "cell_type": "markdown",
      "metadata": {
        "id": "9TMJl5356KT0"
      },
      "source": [
        "In this lesson, we'll use the skills we have learned over the past several lessons to answer questions about the top songs, artists and albums over the past fifty years."
      ]
    },
    {
      "cell_type": "markdown",
      "metadata": {
        "id": "tugdAi5S6KT1"
      },
      "source": [
        "### Working with Songs"
      ]
    },
    {
      "cell_type": "markdown",
      "metadata": {
        "id": "5tJrI_Hz6KT1"
      },
      "source": [
        "Let's start by working with data regarding top 500 albums according to the Rolling Stone Magazine."
      ]
    },
    {
      "cell_type": "code",
      "execution_count": 1,
      "metadata": {
        "id": "ia_umrFj6KT3"
      },
      "outputs": [],
      "source": [
        "import pandas as pd\n",
        "url = \"https://raw.githubusercontent.com/data-eng-10-21/mod-1-a-data-structures/master/6-top-songs/data.csv\"\n",
        "df = pd.read_csv(url)\n",
        "albums = df.to_dict('records')"
      ]
    },
    {
      "cell_type": "code",
      "execution_count": 3,
      "metadata": {
        "colab": {
          "base_uri": "https://localhost:8080/"
        },
        "id": "OFFOmZgH6KT4",
        "outputId": "b5cf7217-d3ff-4d7c-d3ec-148771049f2f"
      },
      "outputs": [
        {
          "output_type": "execute_result",
          "data": {
            "text/plain": [
              "[{'number': 1,\n",
              "  'year': 1967,\n",
              "  'album': \"Sgt. Pepper's Lonely Hearts Club Band\",\n",
              "  'artist': 'The Beatles',\n",
              "  'genre': 'Rock',\n",
              "  'subgenre': 'Rock & Roll, Psychedelic Rock'},\n",
              " {'number': 2,\n",
              "  'year': 1966,\n",
              "  'album': 'Pet Sounds',\n",
              "  'artist': 'The Beach Boys',\n",
              "  'genre': 'Rock',\n",
              "  'subgenre': 'Pop Rock, Psychedelic Rock'}]"
            ]
          },
          "metadata": {},
          "execution_count": 3
        }
      ],
      "source": [
        "albums[:2]"
      ]
    },
    {
      "cell_type": "code",
      "execution_count": 2,
      "metadata": {
        "colab": {
          "base_uri": "https://localhost:8080/"
        },
        "id": "Gc7wyyxT6KT5",
        "outputId": "717b895b-52cd-44ee-dc52-ffae8a63d68f"
      },
      "outputs": [
        {
          "output_type": "execute_result",
          "data": {
            "text/plain": [
              "478"
            ]
          },
          "metadata": {},
          "execution_count": 2
        }
      ],
      "source": [
        "len(albums)"
      ]
    },
    {
      "cell_type": "markdown",
      "metadata": {
        "id": "FxUFypAD6KT6"
      },
      "source": [
        "> Well, 478."
      ]
    },
    {
      "cell_type": "markdown",
      "metadata": {
        "id": "W51tuEJC6KT7"
      },
      "source": [
        "Let's write some functions to help us better explore the data."
      ]
    },
    {
      "cell_type": "markdown",
      "metadata": {
        "id": "g39mMaIN6KT7"
      },
      "source": [
        "* `all_albums` - Takes an argument of albums and returns the list of album names.\n",
        "\n",
        "* `all_artists` - Takes argument of list of albums and returns a list of all artists (where each element is a string), and no artist is repeated.\n",
        "\n",
        "* `find_by_name` - Has one argument of `album_name`. Returns a dictionary of the correct album, or `None` if no album is found.\n",
        "\n",
        "* `find_by_ranks` - Takes `begin_rank` and `end_rank` as arguments.  Also possible to execute the function by just providing the `begin_rank` or `end_rank` (and not both).  If no arguments are provided the entire list of albums are returned.\n",
        "\n",
        "* `find_by_years` - Takes `begin_year` and `end_year` as arguments, and returns a list of dictionaries for albums between those years.  Also possible to execute the function by just providing the `begin_year` or `end_year` (and not both)."
      ]
    },
    {
      "cell_type": "code",
      "source": [
        "def get_album_data_by_key(albums: list[dict], key_name: str):\n",
        "  return [album[key_name] for album in albums]"
      ],
      "metadata": {
        "id": "sp6_QxNL7TFB"
      },
      "execution_count": 4,
      "outputs": []
    },
    {
      "cell_type": "code",
      "source": [
        "def get_all_albums(albums: list[dict]):\n",
        "  album_names = get_album_data_by_key(albums, 'album' )\n",
        "  return album_names\n",
        "\n",
        "# get_all_albums(albums)"
      ],
      "metadata": {
        "id": "A4BIO4ax7t1z"
      },
      "execution_count": 6,
      "outputs": []
    },
    {
      "cell_type": "code",
      "source": [
        "def find_album_by_name(albums: list[dict], name: str) -> dict:\n",
        "  for album in albums:\n",
        "    if album['album'] == name:\n",
        "      return album"
      ],
      "metadata": {
        "id": "7DfmQvOE8SCF"
      },
      "execution_count": 13,
      "outputs": []
    },
    {
      "cell_type": "code",
      "source": [
        "find_album_by_name(albums, 'Elvis esley')"
      ],
      "metadata": {
        "id": "-E38AjH68x2T"
      },
      "execution_count": 15,
      "outputs": []
    },
    {
      "cell_type": "code",
      "source": [
        "def find_album_by_ranks(albums: list[dict], begin_rank: float=float('-inf'), end_rank: float=float('inf')):\n",
        "  return [album for album in albums if album['number'] > begin_rank and album['number'] < end_rank]\n"
      ],
      "metadata": {
        "id": "qJ1ckI5e9TqY"
      },
      "execution_count": 19,
      "outputs": []
    },
    {
      "cell_type": "code",
      "source": [
        "def find_album_by_year(albums: list[dict], begin_year: float=float('-inf'), end_year: float=float('inf')):\n",
        "  return [album for album in albums if album['year'] > begin_year and album['year'] < end_year]\n"
      ],
      "metadata": {
        "id": "wXVoP9To-XrV"
      },
      "execution_count": 20,
      "outputs": []
    },
    {
      "cell_type": "markdown",
      "metadata": {
        "id": "57_2uubj6KT7"
      },
      "source": [
        "### Working with Songs"
      ]
    },
    {
      "cell_type": "markdown",
      "metadata": {
        "id": "qEMpxWQL6KT7"
      },
      "source": [
        "Next, let's load up data related to songs, and data that connects albums and songs."
      ]
    },
    {
      "cell_type": "code",
      "execution_count": 21,
      "metadata": {
        "id": "pcroQxkS6KT8"
      },
      "outputs": [],
      "source": [
        "import pandas as pd\n",
        "songs_url = \"https://raw.githubusercontent.com/data-eng-10-21/mod-1-a-data-structures/master/6-top-songs/top-500-songs.txt\"\n",
        "songs_df = pd.read_csv(songs_url, sep='\\t', header = None, names = ['rank', 'song', 'artist', 'year'])\n",
        "songs = songs_df.to_dict('records')\n",
        "\n",
        "track_url = \"https://raw.githubusercontent.com/data-eng-10-21/mod-1-a-data-structures/master/6-top-songs/track_data.json\"\n",
        "albums_and_tracks = pd.read_json(track_url)\n",
        "albums_tracks = albums_and_tracks.to_dict('records')"
      ]
    },
    {
      "cell_type": "code",
      "execution_count": 22,
      "metadata": {
        "colab": {
          "base_uri": "https://localhost:8080/"
        },
        "id": "tUsU0r-J6KT8",
        "outputId": "4296b6bb-3ec3-45f9-a5b5-c30929e19076"
      },
      "outputs": [
        {
          "output_type": "execute_result",
          "data": {
            "text/plain": [
              "[{'rank': 1,\n",
              "  'song': 'Like a Rolling Stone',\n",
              "  'artist': 'Bob Dylan',\n",
              "  'year': 1965},\n",
              " {'rank': 2,\n",
              "  'song': 'Satisfaction',\n",
              "  'artist': 'The Rolling Stones',\n",
              "  'year': 1965}]"
            ]
          },
          "metadata": {},
          "execution_count": 22
        }
      ],
      "source": [
        "songs[:2]"
      ]
    },
    {
      "cell_type": "code",
      "execution_count": 68,
      "metadata": {
        "colab": {
          "base_uri": "https://localhost:8080/"
        },
        "id": "GR-3BSO06KT8",
        "outputId": "13ce312f-26a4-4e78-bb16-8edf906803ba"
      },
      "outputs": [
        {
          "output_type": "execute_result",
          "data": {
            "text/plain": [
              "{'artist': 'The Beatles',\n",
              " 'album': \"Sgt. Pepper's Lonely Hearts Club Band\",\n",
              " 'tracks': [\"Sgt. Pepper's Lonely Hearts Club Band - Remix\",\n",
              "  'With A Little Help From My Friends - Remix',\n",
              "  'Lucy In The Sky With Diamonds - Remix',\n",
              "  'Getting Better - Remix',\n",
              "  'Fixing A Hole - Remix',\n",
              "  \"She's Leaving Home - Remix\",\n",
              "  'Being For The Benefit Of Mr. Kite! - Remix',\n",
              "  'Within You Without You - Remix',\n",
              "  \"When I'm Sixty-Four - Remix\",\n",
              "  'Lovely Rita - Remix',\n",
              "  'Good Morning Good Morning - Remix',\n",
              "  \"Sgt. Pepper's Lonely Hearts Club Band (Reprise) - Remix\",\n",
              "  'A Day In The Life - Remix',\n",
              "  \"Sgt. Pepper's Lonely Hearts Club Band - Take 9 And Speech\",\n",
              "  'With A Little Help From My Friends - Take 1 / False Start And Take 2 / Instrumental',\n",
              "  'Lucy In The Sky With Diamonds - Take 1',\n",
              "  'Getting Better - Take 1 / Instrumental And Speech At The End',\n",
              "  'Fixing A Hole - Speech And Take 3',\n",
              "  \"She's Leaving Home - Take 1 / Instrumental\",\n",
              "  'Being For The Benefit Of Mr. Kite! - Take 4',\n",
              "  'Within You Without You - Take 1 / Indian Instruments',\n",
              "  \"When I'm Sixty-Four - Take 2\",\n",
              "  'Lovely Rita - Speech And Take 9',\n",
              "  'Good Morning Good Morning - Take 8',\n",
              "  \"Sgt. Pepper's Lonely Hearts Club Band (Reprise) - Speech And Take 8\",\n",
              "  'A Day In The Life - Take 1 With Hums',\n",
              "  'Strawberry Fields Forever - Take 7',\n",
              "  'Strawberry Fields Forever - Take 26',\n",
              "  'Strawberry Fields Forever - Stereo Mix 2015',\n",
              "  'Penny Lane - Take 6 / Instrumental',\n",
              "  'Penny Lane - Stereo Mix 2017']}"
            ]
          },
          "metadata": {},
          "execution_count": 68
        }
      ],
      "source": [
        "albums_tracks[0]\n"
      ]
    },
    {
      "cell_type": "code",
      "source": [
        "# first, we edit our data structure. Edit the album data structure so each song has an artist and album\n",
        "def edit_albums_tracks(albums: list[dict]) -> list[dict]:\n",
        "  clean_album_tracks = []\n",
        "  for album in albums_tracks:\n",
        "    filtered_tracks = [track.split(' - ')[0].split('(Reprise)')[0] for track in album['tracks']]\n",
        "    clean_tracks = [{'artist': album['artist'], 'album': album['album'], 'name': \\\n",
        "                    track} for track in filtered_tracks]\n",
        "    clean_album_tracks = clean_album_tracks + clean_tracks\n",
        "\n",
        "  return clean_album_tracks"
      ],
      "metadata": {
        "id": "qWpo3lDsBFre"
      },
      "execution_count": 47,
      "outputs": []
    },
    {
      "cell_type": "code",
      "source": [
        "tracks_list = edit_albums_tracks(albums_tracks)\n",
        "len(tracks_list)"
      ],
      "metadata": {
        "colab": {
          "base_uri": "https://localhost:8080/"
        },
        "id": "tMT8wTZ4DObJ",
        "outputId": "ed515672-5d2c-4d25-ffdd-659d0f60150b"
      },
      "execution_count": 48,
      "outputs": [
        {
          "output_type": "execute_result",
          "data": {
            "text/plain": [
              "7375"
            ]
          },
          "metadata": {},
          "execution_count": 48
        }
      ]
    },
    {
      "cell_type": "code",
      "source": [
        "def remove_duplicate_tracks(track_list):\n",
        "  seen_track_names = []\n",
        "  seen_tracks = []\n",
        "  for track in tracks_list:\n",
        "    if track['name'] not in seen_track_names:\n",
        "      seen_track_names.append(track['name'])\n",
        "      seen_tracks.append(track)\n",
        "  return seen_tracks"
      ],
      "metadata": {
        "id": "cWygSWvtETnR"
      },
      "execution_count": 54,
      "outputs": []
    },
    {
      "cell_type": "code",
      "source": [
        "clean_tracks_list = remove_duplicate_tracks(tracks_list)\n",
        "len(clean_tracks_list)"
      ],
      "metadata": {
        "colab": {
          "base_uri": "https://localhost:8080/"
        },
        "id": "YtSTVptsE-mX",
        "outputId": "a9015787-97a5-4c0e-c7b7-2721abcb777c"
      },
      "execution_count": 56,
      "outputs": [
        {
          "output_type": "execute_result",
          "data": {
            "text/plain": [
              "6402"
            ]
          },
          "metadata": {},
          "execution_count": 56
        }
      ]
    },
    {
      "cell_type": "code",
      "source": [
        "def get_counter(albums_list):\n",
        "  albums = list(set([track['album'] for track in albums_list]))\n",
        "  album_names = {}\n",
        "  for track in albums_tracks:\n",
        "    album_names[track['album']] = 0\n",
        "  return album_names\n"
      ],
      "metadata": {
        "id": "t-XeNpIdJlUt"
      },
      "execution_count": 76,
      "outputs": []
    },
    {
      "cell_type": "code",
      "source": [
        "# find top albums\n",
        "# create new data struct. for album names\n",
        "album_names = get_counter(albums_tracks)\n",
        "\n",
        "len(album_names)"
      ],
      "metadata": {
        "colab": {
          "base_uri": "https://localhost:8080/"
        },
        "id": "V8I68JeoFhf9",
        "outputId": "42dcc13a-cb5f-4524-dbdb-7bcff54ed506"
      },
      "execution_count": 77,
      "outputs": [
        {
          "output_type": "execute_result",
          "data": {
            "text/plain": [
              "475"
            ]
          },
          "metadata": {},
          "execution_count": 77
        }
      ]
    },
    {
      "cell_type": "code",
      "source": [
        "def get_top_songs(songs_list, albums_tracks_list):\n",
        "  tracks = edit_albums_tracks(albums_tracks_list)\n",
        "  counter = get_counter(albums_tracks_list)\n",
        "  clean_tracks = remove_duplicate_tracks(tracks)\n",
        "  for song in songs_list:\n",
        "    for track in clean_tracks:\n",
        "      if track['name'] == song['song']:\n",
        "          counter[track['album']] += 1\n",
        "  return sorted(counter.items(), key = lambda name: name[1], reverse=True)\n",
        "\n",
        "\n"
      ],
      "metadata": {
        "id": "msfjfe9rKXb1"
      },
      "execution_count": 92,
      "outputs": []
    },
    {
      "cell_type": "code",
      "source": [
        "top_album = get_top_songs(songs, albums_tracks)\n",
        "top_album[:10]"
      ],
      "metadata": {
        "id": "k7ryq3ZAK7k2",
        "outputId": "3502aa95-44db-4e5e-ed28-d7c3c70d3995",
        "colab": {
          "base_uri": "https://localhost:8080/"
        }
      },
      "execution_count": 93,
      "outputs": [
        {
          "output_type": "execute_result",
          "data": {
            "text/plain": [
              "[('Elvis Presley', 6),\n",
              " ('The Great Twenty Eight', 5),\n",
              " ('Are You Experienced', 4),\n",
              " ('Bringing It All Back Home', 4),\n",
              " ('Pet Sounds', 3),\n",
              " ('Highway 61 Revisited', 3),\n",
              " ('Abbey Road', 3),\n",
              " ('Otis Blue: Otis Redding Sings Soul', 3),\n",
              " ('At Folsom Prison', 3),\n",
              " (\"Sgt. Pepper's Lonely Hearts Club Band\", 2)]"
            ]
          },
          "metadata": {},
          "execution_count": 93
        }
      ]
    },
    {
      "cell_type": "code",
      "source": [
        "def get_album_artist(albums_list):\n",
        "  album_artist = {}\n",
        "  for album in albums_list:\n",
        "    for track_album in albums_tracks:\n",
        "      if album[0] == track_album['album']:\n",
        "        print(track_album['artist'])\n"
      ],
      "metadata": {
        "id": "VcSm-joQGqLO"
      },
      "execution_count": 94,
      "outputs": []
    },
    {
      "cell_type": "code",
      "source": [
        "get_album_artist(top_album[:10])"
      ],
      "metadata": {
        "id": "XfY1rhQBMSih",
        "outputId": "16269715-e67d-4952-fd34-00eee8005bcf",
        "colab": {
          "base_uri": "https://localhost:8080/"
        }
      },
      "execution_count": 95,
      "outputs": [
        {
          "output_type": "stream",
          "name": "stdout",
          "text": [
            "Elvis Presley\n",
            "Chuck Berry\n",
            "The Jimi Hendrix Experience\n",
            "Bob Dylan\n",
            "The Beach Boys\n",
            "Bob Dylan\n",
            "The Beatles\n",
            "Otis Redding\n",
            "Johnny Cash\n",
            "The Beatles\n"
          ]
        }
      ]
    },
    {
      "cell_type": "markdown",
      "metadata": {
        "id": "DlbDnTmP6KT9"
      },
      "source": [
        "* Write functions that perform the following:"
      ]
    },
    {
      "cell_type": "markdown",
      "metadata": {
        "id": "0mXadxKg6KT9"
      },
      "source": [
        "`album_most_top_songs` -\n",
        "    * Returns the name of the artist and album that has that most songs featured on the top 500 songs list\n",
        "\n",
        "`top_ten_albums_by_songs` - returns a dictionary with the 10 albums that have the most songs that appear in the top songs list. The album names should be the keys and the corresponding values should be the number of songs that appear on the top 500 list."
      ]
    }
  ],
  "metadata": {
    "kernelspec": {
      "display_name": "Python 3 (ipykernel)",
      "language": "python",
      "name": "python3"
    },
    "language_info": {
      "codemirror_mode": {
        "name": "ipython",
        "version": 3
      },
      "file_extension": ".py",
      "mimetype": "text/x-python",
      "name": "python",
      "nbconvert_exporter": "python",
      "pygments_lexer": "ipython3",
      "version": "3.9.7"
    },
    "colab": {
      "provenance": []
    }
  },
  "nbformat": 4,
  "nbformat_minor": 0
}