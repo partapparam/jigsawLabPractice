{
  "cells": [
    {
      "cell_type": "markdown",
      "metadata": {
        "id": "RbTph9I1F8GM"
      },
      "source": [
        "# Bike Sharing Data Cleanup Lab"
      ]
    },
    {
      "cell_type": "markdown",
      "metadata": {
        "id": "zQQdqleaF8Gf"
      },
      "source": [
        "### Introduction"
      ]
    },
    {
      "cell_type": "markdown",
      "metadata": {
        "id": "0bj4SXPnF8Gf"
      },
      "source": [
        "In this lesson, we'll use our knowledge of working with data to analyze the Seoul bike sharing system.\n",
        "\n",
        "The Seoul bike sharing system, has over 800 stations all across Seoul. And it is used by many to move about in the city. We'll explore this data to try to better understand how these bikes are used, which we can use as a case study for understanding bike systems more broadly."
      ]
    },
    {
      "cell_type": "markdown",
      "metadata": {
        "id": "cPNrthqKF8Gm"
      },
      "source": [
        "> **Note**: Please do not use list comprehension at this point -- we will practice that in a later lesson."
      ]
    },
    {
      "cell_type": "markdown",
      "metadata": {
        "id": "MHKu_7YzF8Gm"
      },
      "source": [
        "### Loading our data"
      ]
    },
    {
      "cell_type": "markdown",
      "metadata": {
        "id": "topI76iJF8Gn"
      },
      "source": [
        "Let's read in the data"
      ]
    },
    {
      "cell_type": "code",
      "execution_count": 1,
      "metadata": {
        "id": "nxUVJMKSF8Gp",
        "outputId": "4da6c989-8ba3-4cec-9160-bebf58894e61",
        "colab": {
          "base_uri": "https://localhost:8080/",
          "height": 182
        }
      },
      "outputs": [
        {
          "output_type": "execute_result",
          "data": {
            "text/plain": [
              "         Date  Rented Bike Count  Hour  Temperature(°C)  Humidity(%)  \\\n",
              "0  01/12/2017                254     0             -5.2           37   \n",
              "1  01/12/2017                204     1             -5.5           38   \n",
              "\n",
              "   Wind speed (m/s)  Visibility (10m)  Dew point temperature(°C)  \\\n",
              "0               2.2              2000                      -17.6   \n",
              "1               0.8              2000                      -17.6   \n",
              "\n",
              "   Solar Radiation (MJ/m2)  Rainfall(mm)  Snowfall (cm) Seasons     Holiday  \\\n",
              "0                      0.0           0.0            0.0  Winter  No Holiday   \n",
              "1                      0.0           0.0            0.0  Winter  No Holiday   \n",
              "\n",
              "  Functioning Day  \n",
              "0             Yes  \n",
              "1             Yes  "
            ],
            "text/html": [
              "\n",
              "  <div id=\"df-381850fd-286d-45e8-a12e-b4d559a7c467\" class=\"colab-df-container\">\n",
              "    <div>\n",
              "<style scoped>\n",
              "    .dataframe tbody tr th:only-of-type {\n",
              "        vertical-align: middle;\n",
              "    }\n",
              "\n",
              "    .dataframe tbody tr th {\n",
              "        vertical-align: top;\n",
              "    }\n",
              "\n",
              "    .dataframe thead th {\n",
              "        text-align: right;\n",
              "    }\n",
              "</style>\n",
              "<table border=\"1\" class=\"dataframe\">\n",
              "  <thead>\n",
              "    <tr style=\"text-align: right;\">\n",
              "      <th></th>\n",
              "      <th>Date</th>\n",
              "      <th>Rented Bike Count</th>\n",
              "      <th>Hour</th>\n",
              "      <th>Temperature(°C)</th>\n",
              "      <th>Humidity(%)</th>\n",
              "      <th>Wind speed (m/s)</th>\n",
              "      <th>Visibility (10m)</th>\n",
              "      <th>Dew point temperature(°C)</th>\n",
              "      <th>Solar Radiation (MJ/m2)</th>\n",
              "      <th>Rainfall(mm)</th>\n",
              "      <th>Snowfall (cm)</th>\n",
              "      <th>Seasons</th>\n",
              "      <th>Holiday</th>\n",
              "      <th>Functioning Day</th>\n",
              "    </tr>\n",
              "  </thead>\n",
              "  <tbody>\n",
              "    <tr>\n",
              "      <th>0</th>\n",
              "      <td>01/12/2017</td>\n",
              "      <td>254</td>\n",
              "      <td>0</td>\n",
              "      <td>-5.2</td>\n",
              "      <td>37</td>\n",
              "      <td>2.2</td>\n",
              "      <td>2000</td>\n",
              "      <td>-17.6</td>\n",
              "      <td>0.0</td>\n",
              "      <td>0.0</td>\n",
              "      <td>0.0</td>\n",
              "      <td>Winter</td>\n",
              "      <td>No Holiday</td>\n",
              "      <td>Yes</td>\n",
              "    </tr>\n",
              "    <tr>\n",
              "      <th>1</th>\n",
              "      <td>01/12/2017</td>\n",
              "      <td>204</td>\n",
              "      <td>1</td>\n",
              "      <td>-5.5</td>\n",
              "      <td>38</td>\n",
              "      <td>0.8</td>\n",
              "      <td>2000</td>\n",
              "      <td>-17.6</td>\n",
              "      <td>0.0</td>\n",
              "      <td>0.0</td>\n",
              "      <td>0.0</td>\n",
              "      <td>Winter</td>\n",
              "      <td>No Holiday</td>\n",
              "      <td>Yes</td>\n",
              "    </tr>\n",
              "  </tbody>\n",
              "</table>\n",
              "</div>\n",
              "    <div class=\"colab-df-buttons\">\n",
              "\n",
              "  <div class=\"colab-df-container\">\n",
              "    <button class=\"colab-df-convert\" onclick=\"convertToInteractive('df-381850fd-286d-45e8-a12e-b4d559a7c467')\"\n",
              "            title=\"Convert this dataframe to an interactive table.\"\n",
              "            style=\"display:none;\">\n",
              "\n",
              "  <svg xmlns=\"http://www.w3.org/2000/svg\" height=\"24px\" viewBox=\"0 -960 960 960\">\n",
              "    <path d=\"M120-120v-720h720v720H120Zm60-500h600v-160H180v160Zm220 220h160v-160H400v160Zm0 220h160v-160H400v160ZM180-400h160v-160H180v160Zm440 0h160v-160H620v160ZM180-180h160v-160H180v160Zm440 0h160v-160H620v160Z\"/>\n",
              "  </svg>\n",
              "    </button>\n",
              "\n",
              "  <style>\n",
              "    .colab-df-container {\n",
              "      display:flex;\n",
              "      gap: 12px;\n",
              "    }\n",
              "\n",
              "    .colab-df-convert {\n",
              "      background-color: #E8F0FE;\n",
              "      border: none;\n",
              "      border-radius: 50%;\n",
              "      cursor: pointer;\n",
              "      display: none;\n",
              "      fill: #1967D2;\n",
              "      height: 32px;\n",
              "      padding: 0 0 0 0;\n",
              "      width: 32px;\n",
              "    }\n",
              "\n",
              "    .colab-df-convert:hover {\n",
              "      background-color: #E2EBFA;\n",
              "      box-shadow: 0px 1px 2px rgba(60, 64, 67, 0.3), 0px 1px 3px 1px rgba(60, 64, 67, 0.15);\n",
              "      fill: #174EA6;\n",
              "    }\n",
              "\n",
              "    .colab-df-buttons div {\n",
              "      margin-bottom: 4px;\n",
              "    }\n",
              "\n",
              "    [theme=dark] .colab-df-convert {\n",
              "      background-color: #3B4455;\n",
              "      fill: #D2E3FC;\n",
              "    }\n",
              "\n",
              "    [theme=dark] .colab-df-convert:hover {\n",
              "      background-color: #434B5C;\n",
              "      box-shadow: 0px 1px 3px 1px rgba(0, 0, 0, 0.15);\n",
              "      filter: drop-shadow(0px 1px 2px rgba(0, 0, 0, 0.3));\n",
              "      fill: #FFFFFF;\n",
              "    }\n",
              "  </style>\n",
              "\n",
              "    <script>\n",
              "      const buttonEl =\n",
              "        document.querySelector('#df-381850fd-286d-45e8-a12e-b4d559a7c467 button.colab-df-convert');\n",
              "      buttonEl.style.display =\n",
              "        google.colab.kernel.accessAllowed ? 'block' : 'none';\n",
              "\n",
              "      async function convertToInteractive(key) {\n",
              "        const element = document.querySelector('#df-381850fd-286d-45e8-a12e-b4d559a7c467');\n",
              "        const dataTable =\n",
              "          await google.colab.kernel.invokeFunction('convertToInteractive',\n",
              "                                                    [key], {});\n",
              "        if (!dataTable) return;\n",
              "\n",
              "        const docLinkHtml = 'Like what you see? Visit the ' +\n",
              "          '<a target=\"_blank\" href=https://colab.research.google.com/notebooks/data_table.ipynb>data table notebook</a>'\n",
              "          + ' to learn more about interactive tables.';\n",
              "        element.innerHTML = '';\n",
              "        dataTable['output_type'] = 'display_data';\n",
              "        await google.colab.output.renderOutput(dataTable, element);\n",
              "        const docLink = document.createElement('div');\n",
              "        docLink.innerHTML = docLinkHtml;\n",
              "        element.appendChild(docLink);\n",
              "      }\n",
              "    </script>\n",
              "  </div>\n",
              "\n",
              "\n",
              "<div id=\"df-e4b85496-ec43-4afd-8a32-6912bd224c32\">\n",
              "  <button class=\"colab-df-quickchart\" onclick=\"quickchart('df-e4b85496-ec43-4afd-8a32-6912bd224c32')\"\n",
              "            title=\"Suggest charts.\"\n",
              "            style=\"display:none;\">\n",
              "\n",
              "<svg xmlns=\"http://www.w3.org/2000/svg\" height=\"24px\"viewBox=\"0 0 24 24\"\n",
              "     width=\"24px\">\n",
              "    <g>\n",
              "        <path d=\"M19 3H5c-1.1 0-2 .9-2 2v14c0 1.1.9 2 2 2h14c1.1 0 2-.9 2-2V5c0-1.1-.9-2-2-2zM9 17H7v-7h2v7zm4 0h-2V7h2v10zm4 0h-2v-4h2v4z\"/>\n",
              "    </g>\n",
              "</svg>\n",
              "  </button>\n",
              "\n",
              "<style>\n",
              "  .colab-df-quickchart {\n",
              "      --bg-color: #E8F0FE;\n",
              "      --fill-color: #1967D2;\n",
              "      --hover-bg-color: #E2EBFA;\n",
              "      --hover-fill-color: #174EA6;\n",
              "      --disabled-fill-color: #AAA;\n",
              "      --disabled-bg-color: #DDD;\n",
              "  }\n",
              "\n",
              "  [theme=dark] .colab-df-quickchart {\n",
              "      --bg-color: #3B4455;\n",
              "      --fill-color: #D2E3FC;\n",
              "      --hover-bg-color: #434B5C;\n",
              "      --hover-fill-color: #FFFFFF;\n",
              "      --disabled-bg-color: #3B4455;\n",
              "      --disabled-fill-color: #666;\n",
              "  }\n",
              "\n",
              "  .colab-df-quickchart {\n",
              "    background-color: var(--bg-color);\n",
              "    border: none;\n",
              "    border-radius: 50%;\n",
              "    cursor: pointer;\n",
              "    display: none;\n",
              "    fill: var(--fill-color);\n",
              "    height: 32px;\n",
              "    padding: 0;\n",
              "    width: 32px;\n",
              "  }\n",
              "\n",
              "  .colab-df-quickchart:hover {\n",
              "    background-color: var(--hover-bg-color);\n",
              "    box-shadow: 0 1px 2px rgba(60, 64, 67, 0.3), 0 1px 3px 1px rgba(60, 64, 67, 0.15);\n",
              "    fill: var(--button-hover-fill-color);\n",
              "  }\n",
              "\n",
              "  .colab-df-quickchart-complete:disabled,\n",
              "  .colab-df-quickchart-complete:disabled:hover {\n",
              "    background-color: var(--disabled-bg-color);\n",
              "    fill: var(--disabled-fill-color);\n",
              "    box-shadow: none;\n",
              "  }\n",
              "\n",
              "  .colab-df-spinner {\n",
              "    border: 2px solid var(--fill-color);\n",
              "    border-color: transparent;\n",
              "    border-bottom-color: var(--fill-color);\n",
              "    animation:\n",
              "      spin 1s steps(1) infinite;\n",
              "  }\n",
              "\n",
              "  @keyframes spin {\n",
              "    0% {\n",
              "      border-color: transparent;\n",
              "      border-bottom-color: var(--fill-color);\n",
              "      border-left-color: var(--fill-color);\n",
              "    }\n",
              "    20% {\n",
              "      border-color: transparent;\n",
              "      border-left-color: var(--fill-color);\n",
              "      border-top-color: var(--fill-color);\n",
              "    }\n",
              "    30% {\n",
              "      border-color: transparent;\n",
              "      border-left-color: var(--fill-color);\n",
              "      border-top-color: var(--fill-color);\n",
              "      border-right-color: var(--fill-color);\n",
              "    }\n",
              "    40% {\n",
              "      border-color: transparent;\n",
              "      border-right-color: var(--fill-color);\n",
              "      border-top-color: var(--fill-color);\n",
              "    }\n",
              "    60% {\n",
              "      border-color: transparent;\n",
              "      border-right-color: var(--fill-color);\n",
              "    }\n",
              "    80% {\n",
              "      border-color: transparent;\n",
              "      border-right-color: var(--fill-color);\n",
              "      border-bottom-color: var(--fill-color);\n",
              "    }\n",
              "    90% {\n",
              "      border-color: transparent;\n",
              "      border-bottom-color: var(--fill-color);\n",
              "    }\n",
              "  }\n",
              "</style>\n",
              "\n",
              "  <script>\n",
              "    async function quickchart(key) {\n",
              "      const quickchartButtonEl =\n",
              "        document.querySelector('#' + key + ' button');\n",
              "      quickchartButtonEl.disabled = true;  // To prevent multiple clicks.\n",
              "      quickchartButtonEl.classList.add('colab-df-spinner');\n",
              "      try {\n",
              "        const charts = await google.colab.kernel.invokeFunction(\n",
              "            'suggestCharts', [key], {});\n",
              "      } catch (error) {\n",
              "        console.error('Error during call to suggestCharts:', error);\n",
              "      }\n",
              "      quickchartButtonEl.classList.remove('colab-df-spinner');\n",
              "      quickchartButtonEl.classList.add('colab-df-quickchart-complete');\n",
              "    }\n",
              "    (() => {\n",
              "      let quickchartButtonEl =\n",
              "        document.querySelector('#df-e4b85496-ec43-4afd-8a32-6912bd224c32 button');\n",
              "      quickchartButtonEl.style.display =\n",
              "        google.colab.kernel.accessAllowed ? 'block' : 'none';\n",
              "    })();\n",
              "  </script>\n",
              "</div>\n",
              "    </div>\n",
              "  </div>\n"
            ]
          },
          "metadata": {},
          "execution_count": 1
        }
      ],
      "source": [
        "import pandas as pd\n",
        "url = \"https://raw.githubusercontent.com/python-fundamentals-jigsaw/review-datatypes/main/SeoulBikeData.csv\"\n",
        "df = pd.read_csv(url, encoding='unicode_escape')\n",
        "df[:2]"
      ]
    },
    {
      "cell_type": "markdown",
      "metadata": {
        "id": "7Ez9WDJiF8Gu"
      },
      "source": [
        "And then we can coerce this to a list of dictionaries."
      ]
    },
    {
      "cell_type": "code",
      "execution_count": 6,
      "metadata": {
        "id": "mjfNNht7F8Gx"
      },
      "outputs": [],
      "source": [
        "bike_hours = df.to_dict('records')"
      ]
    },
    {
      "cell_type": "markdown",
      "metadata": {
        "id": "Qzo-ddscF8Gy"
      },
      "source": [
        "### Exploring our data"
      ]
    },
    {
      "cell_type": "markdown",
      "metadata": {
        "id": "CtUaW4oKF8G2"
      },
      "source": [
        "Ok, let's start off by exploring our dataset.  Select the first element from the list of dictionaries below."
      ]
    },
    {
      "cell_type": "code",
      "execution_count": 15,
      "metadata": {
        "id": "0RA4pns1F8G2",
        "outputId": "61d4c1e5-00d7-43b9-daf8-436c00e7e153",
        "colab": {
          "base_uri": "https://localhost:8080/"
        }
      },
      "outputs": [
        {
          "output_type": "stream",
          "name": "stdout",
          "text": [
            "{'Date': '01/12/2017', 'Rented Bike Count': 254, 'Hour': 0, 'Temperature(°C)': -5.2, 'Humidity(%)': 37, 'Wind speed (m/s)': 2.2, 'Visibility (10m)': 2000, 'Dew point temperature(°C)': -17.6, 'Solar Radiation (MJ/m2)': 0.0, 'Rainfall(mm)': 0.0, 'Snowfall (cm)': 0.0, 'Seasons': 'Winter', 'Holiday': 'No Holiday', 'Functioning Day': 'Yes'}\n"
          ]
        }
      ],
      "source": [
        "first_record = bike_hours[0]\n",
        "\n",
        "print(first_record)"
      ]
    },
    {
      "cell_type": "markdown",
      "metadata": {
        "id": "IZuMngCXF8G5"
      },
      "source": [
        "And then to make this easier, let's just display the keys of our `first_record`."
      ]
    },
    {
      "cell_type": "code",
      "execution_count": 16,
      "metadata": {
        "id": "wLRmABa3F8G5",
        "outputId": "0dd734c2-923d-46f8-dd05-7a0ca88bec5c",
        "colab": {
          "base_uri": "https://localhost:8080/"
        }
      },
      "outputs": [
        {
          "output_type": "execute_result",
          "data": {
            "text/plain": [
              "dict_keys(['Date', 'Rented Bike Count', 'Hour', 'Temperature(°C)', 'Humidity(%)', 'Wind speed (m/s)', 'Visibility (10m)', 'Dew point temperature(°C)', 'Solar Radiation (MJ/m2)', 'Rainfall(mm)', 'Snowfall (cm)', 'Seasons', 'Holiday', 'Functioning Day'])"
            ]
          },
          "metadata": {},
          "execution_count": 16
        }
      ],
      "source": [
        "record_keys = first_record.keys()\n",
        "\n",
        "record_keys\n",
        "\n",
        "# dict_keys(['Date', 'Rented Bike Count', 'Hour', 'Temperature(°C)', 'Humidity(%)', 'Wind speed (m/s)', 'Visibility (10m)',\n",
        "# 'Dew point temperature(°C)', 'Solar Radiation (MJ/m2)', 'Rainfall(mm)', 'Snowfall (cm)',\n",
        "# 'Seasons', 'Holiday', 'Functioning Day'])"
      ]
    },
    {
      "cell_type": "markdown",
      "metadata": {
        "id": "hu1FslS3F8G6"
      },
      "source": [
        "Ok so we can see that we have keys of `Date`, `Rented Bike Count`, and `Hour` among others.  At this point we can identify the **grain** of the data.\n",
        "\n",
        "By the grain of the data, we mean, what does each record represent.  In this case, each record indicates the number of bikes in a given hour.  Then the other attributes like windspeed and rainfall describe weather conditions of that hour."
      ]
    },
    {
      "cell_type": "markdown",
      "metadata": {
        "id": "LNfL46G4F8G7"
      },
      "source": [
        "* A discrepancy?"
      ]
    },
    {
      "cell_type": "markdown",
      "metadata": {
        "id": "AeznvKYPF8G7"
      },
      "source": [
        "It looks like there may be some overlap in our keys.  Notice that the last two attributes are `'Holiday'`, and `'Functioning Day'`. Do these represent the same thing?  \n",
        "\n",
        "Begin by creating a list of all of the values for `Holiday`.  And then create a list for all of the values for `Functioning Day`.  Slice the first five records."
      ]
    },
    {
      "cell_type": "markdown",
      "metadata": {
        "id": "11_niRQtF8G8"
      },
      "source": [
        "> Remember: Please do not use list comprehension at this point -- we will practice that in a later lesson."
      ]
    },
    {
      "cell_type": "code",
      "execution_count": 17,
      "metadata": {
        "id": "rCxefzdNF8G8",
        "outputId": "b4dba46e-43e4-4354-e4dc-f41f16eace5a",
        "colab": {
          "base_uri": "https://localhost:8080/"
        }
      },
      "outputs": [
        {
          "output_type": "execute_result",
          "data": {
            "text/plain": [
              "['No Holiday', 'No Holiday', 'No Holiday', 'No Holiday', 'No Holiday']"
            ]
          },
          "metadata": {},
          "execution_count": 17
        }
      ],
      "source": [
        "# declare an array of Holidays\n",
        "holidays = []\n",
        "\n",
        "# iterate through all bikes\n",
        "for bike in bike_hours:\n",
        "  # append bike Holiday to holidays array\n",
        "  holidays.append(bike['Holiday'])\n",
        "\n",
        "holidays[:5]\n",
        "# ['No Holiday', 'No Holiday', 'No Holiday', 'No Holiday', 'No Holiday']"
      ]
    },
    {
      "cell_type": "markdown",
      "metadata": {
        "id": "BofW6-PKF8G_"
      },
      "source": [
        "And then let's do the same thing for `'Functioning Day'`."
      ]
    },
    {
      "cell_type": "code",
      "execution_count": 19,
      "metadata": {
        "id": "mMmebCiAF8G_",
        "outputId": "ff800f88-9852-499f-bbaf-480b3e7622b6",
        "colab": {
          "base_uri": "https://localhost:8080/"
        }
      },
      "outputs": [
        {
          "output_type": "execute_result",
          "data": {
            "text/plain": [
              "['Yes', 'Yes', 'Yes', 'Yes', 'Yes']"
            ]
          },
          "metadata": {},
          "execution_count": 19
        }
      ],
      "source": [
        "functioning_days = []\n",
        "\n",
        "for bike in bike_hours:\n",
        "  functioning_days.append(bike['Functioning Day'])\n",
        "\n",
        "functioning_days[:5]\n",
        "\n",
        "# ['Yes', 'Yes', 'Yes', 'Yes', 'Yes']"
      ]
    },
    {
      "cell_type": "markdown",
      "metadata": {
        "id": "BH0l62NDF8G_"
      },
      "source": [
        "Ok, so it looks like, perhaps, when there is `No Holiday` that the value of functioning day is `Yes`."
      ]
    },
    {
      "cell_type": "markdown",
      "metadata": {
        "id": "_nyqS2RsF8G_"
      },
      "source": [
        "Let's do a little more digging --  find the unique values relating to `Holiday`."
      ]
    },
    {
      "cell_type": "code",
      "execution_count": 25,
      "metadata": {
        "id": "MuUAAMpGF8G_",
        "outputId": "b05d3a47-ac79-4c29-d9cc-287f2842de55",
        "colab": {
          "base_uri": "https://localhost:8080/"
        }
      },
      "outputs": [
        {
          "output_type": "execute_result",
          "data": {
            "text/plain": [
              "{'Holiday', 'No Holiday'}"
            ]
          },
          "metadata": {},
          "execution_count": 25
        }
      ],
      "source": [
        "set(holidays)\n",
        "\n",
        "# {'Holiday', 'No Holiday'}"
      ]
    },
    {
      "cell_type": "markdown",
      "metadata": {
        "id": "za2viFyIF8G_"
      },
      "source": [
        "And find all of the unique values relating to `Functioning Day`."
      ]
    },
    {
      "cell_type": "code",
      "execution_count": 26,
      "metadata": {
        "id": "202D_RIzF8HA",
        "outputId": "fbd39c2c-23cc-4951-9057-2f96808b1687",
        "colab": {
          "base_uri": "https://localhost:8080/"
        }
      },
      "outputs": [
        {
          "output_type": "execute_result",
          "data": {
            "text/plain": [
              "{'No', 'Yes'}"
            ]
          },
          "metadata": {},
          "execution_count": 26
        }
      ],
      "source": [
        "# {'No', 'Yes'}\n",
        "set(functioning_days)"
      ]
    },
    {
      "cell_type": "markdown",
      "metadata": {
        "id": "Uplz2vIGF8HA"
      },
      "source": [
        "Ok so they both have two values.  And remember our thought is that when holiday is `No Holiday`, that functioning day's value is always `Yes`."
      ]
    },
    {
      "cell_type": "code",
      "execution_count": 27,
      "metadata": {
        "id": "rbuXB0wiF8HA",
        "outputId": "6d03f472-ce18-433e-b1ed-38a7f5a9a03e",
        "colab": {
          "base_uri": "https://localhost:8080/"
        }
      },
      "outputs": [
        {
          "output_type": "execute_result",
          "data": {
            "text/plain": [
              "['Yes', 'Yes', 'Yes', 'Yes']"
            ]
          },
          "metadata": {},
          "execution_count": 27
        }
      ],
      "source": [
        "holidays[:4]\n",
        "# ['No Holiday', 'No Holiday', 'No Holiday', 'No Holiday']\n",
        "functioning_days[:4]\n",
        "# ['Yes', 'Yes', 'Yes', 'Yes']"
      ]
    },
    {
      "cell_type": "markdown",
      "metadata": {
        "id": "M1OM-OgwF8HB"
      },
      "source": [
        "So below, let's check this by creating a list of all of the records where there is a mismatch.  That is where we have:\n",
        "* `No Holiday` and `No`, or\n",
        "* `Holiday` and `Yes`."
      ]
    },
    {
      "cell_type": "code",
      "execution_count": 28,
      "metadata": {
        "id": "z1HgWP-vF8HB",
        "outputId": "47b87967-79f0-4640-f10d-9ff5f4c62cc8",
        "colab": {
          "base_uri": "https://localhost:8080/"
        }
      },
      "outputs": [
        {
          "output_type": "execute_result",
          "data": {
            "text/plain": [
              "[{'Date': '22/12/2017',\n",
              "  'Rented Bike Count': 196,\n",
              "  'Hour': 0,\n",
              "  'Temperature(°C)': -1.7,\n",
              "  'Humidity(%)': 79,\n",
              "  'Wind speed (m/s)': 0.5,\n",
              "  'Visibility (10m)': 794,\n",
              "  'Dew point temperature(°C)': -4.8,\n",
              "  'Solar Radiation (MJ/m2)': 0.0,\n",
              "  'Rainfall(mm)': 0.0,\n",
              "  'Snowfall (cm)': 0.8,\n",
              "  'Seasons': 'Winter',\n",
              "  'Holiday': 'Holiday',\n",
              "  'Functioning Day': 'Yes'}]"
            ]
          },
          "metadata": {},
          "execution_count": 28
        }
      ],
      "source": [
        "mismatches = []\n",
        "\n",
        "for bike in bike_hours:\n",
        "  if ((bike['Holiday'] == 'Holiday') & (bike['Functioning Day'] == 'Yes')) or ((bike['Holiday'] == 'No Holiday') & (bike['Functioning Day'] == 'No')):\n",
        "    mismatches.append(bike)\n",
        "\n",
        "\n",
        "\n",
        "mismatches[:1]\n",
        "\n",
        "# [{'Date': '22/12/2017', 'Rented Bike Count': 196, 'Hour': 0, 'Temperature(°C)': -1.7, 'Humidity(%)': 79, 'Wind speed (m/s)': 0.5, 'Visibility (10m)': 794, 'Dew point temperature(°C)': -4.8, 'Solar Radiation (MJ/m2)': 0.0, 'Rainfall(mm)': 0.0, 'Snowfall (cm)': 0.8, 'Seasons': 'Winter', 'Holiday': 'Holiday', 'Functioning Day': 'Yes'}]"
      ]
    },
    {
      "cell_type": "markdown",
      "metadata": {
        "id": "YfEoX-InF8HC"
      },
      "source": [
        "Ok, so we can see that we do have some mismatches.  That is Holiday and Functioning Day do not contain the same information."
      ]
    },
    {
      "cell_type": "markdown",
      "metadata": {
        "id": "6gq2Qu3aF8HC"
      },
      "source": [
        "### Checking Representativeness"
      ]
    },
    {
      "cell_type": "markdown",
      "metadata": {
        "id": "luFCd8u6F8HD"
      },
      "source": [
        "Now that we've used the keys to identify the grain of the data, the next step, we can check the completeness, and the time range that the dataset includes.  "
      ]
    },
    {
      "cell_type": "markdown",
      "metadata": {
        "id": "9DQAb1cvF8HD"
      },
      "source": [
        "* Completeness"
      ]
    },
    {
      "cell_type": "markdown",
      "metadata": {
        "id": "zblutVwzF8HD"
      },
      "source": [
        "A good way to determine the completeness of the data is to first make sure that we have records for all seasons.  Assign a set representing the unique seasons to a the variable below."
      ]
    },
    {
      "cell_type": "code",
      "execution_count": 29,
      "metadata": {
        "id": "iHtRPYt3F8HE",
        "outputId": "1734c9da-e753-4e46-b297-cf90f9c17963",
        "colab": {
          "base_uri": "https://localhost:8080/"
        }
      },
      "outputs": [
        {
          "output_type": "execute_result",
          "data": {
            "text/plain": [
              "{'Autumn', 'Spring', 'Summer', 'Winter'}"
            ]
          },
          "metadata": {},
          "execution_count": 29
        }
      ],
      "source": [
        "unique_seasons = set(bike['Seasons'] for bike in bike_hours)\n",
        "unique_seasons"
      ]
    },
    {
      "cell_type": "markdown",
      "metadata": {
        "id": "dcZFDiS4F8HE"
      },
      "source": [
        "Ok, so we do have records from each season.  Let's also find the range of dates that our data spans.  First return the earliest date in the dataset, and then return the latest date in the dataset.  But before we do, let's take a look at the data."
      ]
    },
    {
      "cell_type": "code",
      "execution_count": 30,
      "metadata": {
        "id": "1iwDn22CF8HE",
        "outputId": "1bcfd101-f5fd-4e53-fbfb-8573b2607e1e",
        "colab": {
          "base_uri": "https://localhost:8080/",
          "height": 35
        }
      },
      "outputs": [
        {
          "output_type": "execute_result",
          "data": {
            "text/plain": [
              "'01/12/2017'"
            ],
            "application/vnd.google.colaboratory.intrinsic+json": {
              "type": "string"
            }
          },
          "metadata": {},
          "execution_count": 30
        }
      ],
      "source": [
        "bike_hours[1]['Date']"
      ]
    },
    {
      "cell_type": "markdown",
      "metadata": {
        "id": "yk2O6LcoF8HF"
      },
      "source": [
        "Ok, so this is a little tricky, because the data is currently listed as day month year. So if try to sort the data, or use a function like max, it will return results in the wrong order.\n",
        "\n",
        "Let's see this below."
      ]
    },
    {
      "cell_type": "code",
      "execution_count": 31,
      "metadata": {
        "id": "_nwXUbBuF8HV",
        "outputId": "f949e547-959f-43d0-f67f-c1b6b6f07a61",
        "colab": {
          "base_uri": "https://localhost:8080/",
          "height": 35
        }
      },
      "outputs": [
        {
          "output_type": "execute_result",
          "data": {
            "text/plain": [
              "'03/12/2016'"
            ],
            "application/vnd.google.colaboratory.intrinsic+json": {
              "type": "string"
            }
          },
          "metadata": {},
          "execution_count": 31
        }
      ],
      "source": [
        "max(['03/12/2016', '01/12/2017'])"
      ]
    },
    {
      "cell_type": "markdown",
      "metadata": {
        "id": "fRGVjkvFF8Hc"
      },
      "source": [
        "This is because the data is effectively sorted alphabetically, so the string beginning with `03` is larger than the string beginning `01`.  So let's change our data to be `year/month/day`.\n",
        "\n",
        "First perform this for one record."
      ]
    },
    {
      "cell_type": "code",
      "execution_count": 36,
      "metadata": {
        "id": "3bm-xvx6F8He",
        "outputId": "993229b4-036b-4822-e9b6-3d8172ab273a",
        "colab": {
          "base_uri": "https://localhost:8080/",
          "height": 35
        }
      },
      "outputs": [
        {
          "output_type": "execute_result",
          "data": {
            "text/plain": [
              "'2016/12/03'"
            ],
            "application/vnd.google.colaboratory.intrinsic+json": {
              "type": "string"
            }
          },
          "metadata": {},
          "execution_count": 36
        }
      ],
      "source": [
        "sample_date = '03/12/2016'\n",
        "\n",
        "date = sample_date.split('/')\n",
        "\n",
        "formatted_date = '/'.join(formatted_date[::-1])\n",
        "formatted_date\n",
        "# '2016/12/03'"
      ]
    },
    {
      "cell_type": "markdown",
      "metadata": {
        "id": "2wVKu4DHF8Hf"
      },
      "source": [
        "And now create a list that has all of the dates in this format."
      ]
    },
    {
      "cell_type": "code",
      "execution_count": 37,
      "metadata": {
        "id": "S6EitoQKF8Hf",
        "outputId": "01bedaa4-b252-48c7-b945-476324d867e3",
        "colab": {
          "base_uri": "https://localhost:8080/"
        }
      },
      "outputs": [
        {
          "output_type": "execute_result",
          "data": {
            "text/plain": [
              "['2017/12/01', '2017/12/01', '2017/12/01']"
            ]
          },
          "metadata": {},
          "execution_count": 37
        }
      ],
      "source": [
        "formatted_dates = []\n",
        "\n",
        "for bike in bike_hours:\n",
        "  date = bike['Date'].split('/')\n",
        "  formatted_dates.append('/'.join(date[::-1]))\n",
        "\n",
        "\n",
        "formatted_dates[:3]"
      ]
    },
    {
      "cell_type": "markdown",
      "metadata": {
        "id": "It0Ro96wF8Hg"
      },
      "source": [
        "And now from here, find the max date."
      ]
    },
    {
      "cell_type": "code",
      "execution_count": 38,
      "metadata": {
        "id": "ycCde2HMF8Hg",
        "outputId": "bba75fbd-63b2-4767-b071-86d1b17d9ed8",
        "colab": {
          "base_uri": "https://localhost:8080/",
          "height": 35
        }
      },
      "outputs": [
        {
          "output_type": "execute_result",
          "data": {
            "text/plain": [
              "'2018/11/30'"
            ],
            "application/vnd.google.colaboratory.intrinsic+json": {
              "type": "string"
            }
          },
          "metadata": {},
          "execution_count": 38
        }
      ],
      "source": [
        "max_date = max(formatted_dates)\n",
        "max_date"
      ]
    },
    {
      "cell_type": "markdown",
      "metadata": {
        "id": "bRN87JlmF8Hh"
      },
      "source": [
        "And the min date."
      ]
    },
    {
      "cell_type": "code",
      "execution_count": 39,
      "metadata": {
        "id": "igRmz3FDF8Hh",
        "outputId": "6d5979cc-d68f-47d7-98fe-10a3d834655c",
        "colab": {
          "base_uri": "https://localhost:8080/",
          "height": 35
        }
      },
      "outputs": [
        {
          "output_type": "execute_result",
          "data": {
            "text/plain": [
              "'2017/12/01'"
            ],
            "application/vnd.google.colaboratory.intrinsic+json": {
              "type": "string"
            }
          },
          "metadata": {},
          "execution_count": 39
        }
      ],
      "source": [
        "min_date = min(formatted_dates)\n",
        "min_date"
      ]
    },
    {
      "cell_type": "markdown",
      "metadata": {
        "id": "c2mqVUCgF8Hk"
      },
      "source": [
        "### Summary\n",
        "\n",
        "In this lesson, we moved through some of the steps in exploring and checking a dataset.  \n",
        "\n",
        "We began by identifying *the grain* of the data, to determine what each record represented.  And we then moved onto seeing if some of our attributes represented the same information.  And finally we began to check our dataset for completeness (by exploring the seasons), as well as the recency and range of the data."
      ]
    }
  ],
  "metadata": {
    "kernelspec": {
      "display_name": "Python 3 (ipykernel)",
      "language": "python",
      "name": "python3"
    },
    "language_info": {
      "codemirror_mode": {
        "name": "ipython",
        "version": 3
      },
      "file_extension": ".py",
      "mimetype": "text/x-python",
      "name": "python",
      "nbconvert_exporter": "python",
      "pygments_lexer": "ipython3",
      "version": "3.11.5"
    },
    "colab": {
      "provenance": []
    }
  },
  "nbformat": 4,
  "nbformat_minor": 0
}