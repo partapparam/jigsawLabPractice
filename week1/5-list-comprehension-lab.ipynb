{
  "cells": [
    {
      "cell_type": "markdown",
      "id": "aaa09aec-7579-4e33-b362-5b0ca008b5a4",
      "metadata": {
        "id": "aaa09aec-7579-4e33-b362-5b0ca008b5a4"
      },
      "source": [
        "# List Comprehension Lab"
      ]
    },
    {
      "cell_type": "markdown",
      "id": "0a915a6e-a272-470b-8ca8-4a4ab25e09f0",
      "metadata": {
        "id": "0a915a6e-a272-470b-8ca8-4a4ab25e09f0"
      },
      "source": [
        "### Introduction"
      ]
    },
    {
      "cell_type": "markdown",
      "id": "9dd27dd3-c3aa-460e-bbc4-0dd4adf66e06",
      "metadata": {
        "id": "9dd27dd3-c3aa-460e-bbc4-0dd4adf66e06"
      },
      "source": [
        "In this lesson, we'll work with [this dataset](https://www.kaggle.com/datasets/rkiattisak/student-performance-in-mathematics/) on student performance in math, reading, and writing at a US high school.\n",
        "\n",
        "Let's get started."
      ]
    },
    {
      "cell_type": "markdown",
      "id": "ee27d3da-3344-4562-a5c5-a9d6fb54c140",
      "metadata": {
        "id": "ee27d3da-3344-4562-a5c5-a9d6fb54c140"
      },
      "source": [
        "### Loading our Data"
      ]
    },
    {
      "cell_type": "code",
      "execution_count": 1,
      "id": "3ecdc061-ae95-443d-8c39-00df93c8c44b",
      "metadata": {
        "colab": {
          "base_uri": "https://localhost:8080/"
        },
        "id": "3ecdc061-ae95-443d-8c39-00df93c8c44b",
        "outputId": "1bd58665-03f0-4d4b-a41c-fe1dff09dc9e"
      },
      "outputs": [
        {
          "output_type": "execute_result",
          "data": {
            "text/plain": [
              "[{'gender': 'female',\n",
              "  'race/ethnicity': 'group D',\n",
              "  'parental level of education': 'some college',\n",
              "  'lunch': 'standard',\n",
              "  'test preparation course': 'completed',\n",
              "  'math score': 59,\n",
              "  'reading score': 70,\n",
              "  'writing score': 78}]"
            ]
          },
          "metadata": {},
          "execution_count": 1
        }
      ],
      "source": [
        "import pandas as pd\n",
        "url = \"https://raw.githubusercontent.com/python-fundamentals-jigsaw/review-datatypes/main/exams.csv\"\n",
        "students_df = pd.read_csv(url)\n",
        "students = students_df.to_dict('records')\n",
        "\n",
        "students[:1]"
      ]
    },
    {
      "cell_type": "markdown",
      "id": "7815b0a1-c382-42d2-a140-60b30df90bf0",
      "metadata": {
        "id": "7815b0a1-c382-42d2-a140-60b30df90bf0"
      },
      "source": [
        "Begin by selecting the first student, and displaying the keys."
      ]
    },
    {
      "cell_type": "code",
      "execution_count": 2,
      "id": "9955e316-53d3-4b7d-8daa-76d959d8e3c4",
      "metadata": {
        "colab": {
          "base_uri": "https://localhost:8080/"
        },
        "id": "9955e316-53d3-4b7d-8daa-76d959d8e3c4",
        "outputId": "04912438-9abf-4dca-cf25-06cfa8bbac7c"
      },
      "outputs": [
        {
          "output_type": "execute_result",
          "data": {
            "text/plain": [
              "dict_keys(['gender', 'race/ethnicity', 'parental level of education', 'lunch', 'test preparation course', 'math score', 'reading score', 'writing score'])"
            ]
          },
          "metadata": {},
          "execution_count": 2
        }
      ],
      "source": [
        "students[0].keys()"
      ]
    },
    {
      "cell_type": "markdown",
      "id": "b3a3437b-bb9a-4b74-b662-040309f00a7a",
      "metadata": {
        "id": "b3a3437b-bb9a-4b74-b662-040309f00a7a"
      },
      "source": [
        "Ok, so we identify the grain of the data, by seeing that this indicates information *per student*."
      ]
    },
    {
      "cell_type": "markdown",
      "id": "0d520ea6-17c3-46fe-b289-bd1549cf3b4d",
      "metadata": {
        "id": "0d520ea6-17c3-46fe-b289-bd1549cf3b4d"
      },
      "source": [
        "### Selecting attributes"
      ]
    },
    {
      "cell_type": "markdown",
      "id": "f2c584da-8c18-462d-9cee-f677df76de6e",
      "metadata": {
        "id": "f2c584da-8c18-462d-9cee-f677df76de6e"
      },
      "source": [
        "Ok, so now let's use list comprehension to explore certain attributes of our data.  For example, below create a list of math scores."
      ]
    },
    {
      "cell_type": "code",
      "execution_count": 3,
      "id": "2c2abe81-37df-428b-a76a-39673cfc047e",
      "metadata": {
        "colab": {
          "base_uri": "https://localhost:8080/"
        },
        "id": "2c2abe81-37df-428b-a76a-39673cfc047e",
        "outputId": "46947808-0fc3-4a39-f846-d154475cc4c0"
      },
      "outputs": [
        {
          "output_type": "execute_result",
          "data": {
            "text/plain": [
              "[59, 96, 57]"
            ]
          },
          "metadata": {},
          "execution_count": 3
        }
      ],
      "source": [
        "math_scores = [student['math score'] for student in students]\n",
        "\n",
        "math_scores[:3]\n",
        "\n",
        "# [59, 96, 57]"
      ]
    },
    {
      "cell_type": "markdown",
      "id": "3ca9d5cb-5da3-4467-9b6d-9eb9d96e2d0d",
      "metadata": {
        "id": "3ca9d5cb-5da3-4467-9b6d-9eb9d96e2d0d"
      },
      "source": [
        "And then find the maximum and minimum math score of our students."
      ]
    },
    {
      "cell_type": "code",
      "execution_count": 4,
      "id": "8326a01d-404b-4633-8c27-345e0a9d1a01",
      "metadata": {
        "colab": {
          "base_uri": "https://localhost:8080/"
        },
        "id": "8326a01d-404b-4633-8c27-345e0a9d1a01",
        "outputId": "3e75a565-2254-4b6d-9854-347ce10b2e32"
      },
      "outputs": [
        {
          "output_type": "execute_result",
          "data": {
            "text/plain": [
              "15"
            ]
          },
          "metadata": {},
          "execution_count": 4
        }
      ],
      "source": [
        "min_score = min(math_scores)\n",
        "min_score\n",
        "\n",
        "# 15"
      ]
    },
    {
      "cell_type": "code",
      "execution_count": 5,
      "id": "7d4c3460-9fe9-445d-9020-eacf2bcbcb21",
      "metadata": {
        "colab": {
          "base_uri": "https://localhost:8080/"
        },
        "id": "7d4c3460-9fe9-445d-9020-eacf2bcbcb21",
        "outputId": "6104c4c6-4dbb-4cc6-ebf6-43a0ee92ec88"
      },
      "outputs": [
        {
          "output_type": "execute_result",
          "data": {
            "text/plain": [
              "100"
            ]
          },
          "metadata": {},
          "execution_count": 5
        }
      ],
      "source": [
        "max_score = max(math_scores)\n",
        "max_score\n",
        "\n",
        "# 100"
      ]
    },
    {
      "cell_type": "markdown",
      "id": "590189fe-ce0e-428c-84ce-5ab919b94e66",
      "metadata": {
        "id": "590189fe-ce0e-428c-84ce-5ab919b94e66"
      },
      "source": [
        "> That's the spirit."
      ]
    },
    {
      "cell_type": "markdown",
      "id": "b0450654-ae38-4fce-9021-030c7b9f38d1",
      "metadata": {
        "id": "b0450654-ae38-4fce-9021-030c7b9f38d1"
      },
      "source": [
        "Ok, let's explore some additional data.  Use list comprehension to select each parent's education."
      ]
    },
    {
      "cell_type": "code",
      "execution_count": 6,
      "id": "8168723b-0dc7-4f99-9156-8a234fc0423d",
      "metadata": {
        "colab": {
          "base_uri": "https://localhost:8080/"
        },
        "id": "8168723b-0dc7-4f99-9156-8a234fc0423d",
        "outputId": "2f23e1dd-7aa6-4f15-d65d-41f827246c04"
      },
      "outputs": [
        {
          "output_type": "execute_result",
          "data": {
            "text/plain": [
              "['some college', \"associate's degree\", 'some college']"
            ]
          },
          "metadata": {},
          "execution_count": 6
        }
      ],
      "source": [
        "parent_educations = [student['parental level of education'] for student in students]\n",
        "parent_educations[:3]\n",
        "\n",
        "# ['some college', \"associate's degree\", 'some college']"
      ]
    },
    {
      "cell_type": "markdown",
      "id": "9f1c69b1-7524-46d5-98b7-1b8ea31ea09f",
      "metadata": {
        "id": "9f1c69b1-7524-46d5-98b7-1b8ea31ea09f"
      },
      "source": [
        "And then let's see all of the different kinds of education listed."
      ]
    },
    {
      "cell_type": "code",
      "execution_count": 7,
      "id": "512ed390-ff50-469e-a4f0-1a4201038175",
      "metadata": {
        "colab": {
          "base_uri": "https://localhost:8080/"
        },
        "id": "512ed390-ff50-469e-a4f0-1a4201038175",
        "outputId": "94daff06-447d-4886-bac8-50e986c709c3"
      },
      "outputs": [
        {
          "output_type": "stream",
          "name": "stdout",
          "text": [
            "{'some high school', 'some college', \"bachelor's degree\", \"associate's degree\", \"master's degree\", 'high school'}\n"
          ]
        }
      ],
      "source": [
        "print(set(parent_educations))\n",
        "\n",
        "# {'high school', 'some high school', \"master's degree\", \"bachelor's degree\",\n",
        "# \"associate's degree\", 'some college'}"
      ]
    },
    {
      "cell_type": "markdown",
      "id": "47dd1579-f8c2-403c-a3bf-e9917faf8ee2",
      "metadata": {
        "id": "47dd1579-f8c2-403c-a3bf-e9917faf8ee2"
      },
      "source": [
        "### Filtering with list comprehension"
      ]
    },
    {
      "cell_type": "markdown",
      "id": "8d9c3151-1442-44a0-9428-8557acf6dbbc",
      "metadata": {
        "id": "8d9c3151-1442-44a0-9428-8557acf6dbbc"
      },
      "source": [
        "Ok, now let's get a sense of how strongly parental education is associated with student test scores.  \n",
        "\n",
        "Use list comprehension to select the students whose parents had `high school` or `some high school`."
      ]
    },
    {
      "cell_type": "code",
      "execution_count": 8,
      "id": "f7fbdccc-7cd8-4fcd-8a32-4c52b85c4993",
      "metadata": {
        "id": "f7fbdccc-7cd8-4fcd-8a32-4c52b85c4993"
      },
      "outputs": [],
      "source": [
        "# parental_hs_ed_students = [student for student in students if student['parental level of education'] == 'hi]gh school' or student['parental level of education'] == 'some high school']"
      ]
    },
    {
      "cell_type": "code",
      "source": [
        "parental_hs_ed_students = [student for student in students if 'high school' in student['parental level of education']]"
      ],
      "metadata": {
        "id": "-75lbXh5MduM"
      },
      "id": "-75lbXh5MduM",
      "execution_count": 10,
      "outputs": []
    },
    {
      "cell_type": "code",
      "execution_count": 11,
      "id": "53b7577e-5092-4dc1-b8c1-eaaabb20cac3",
      "metadata": {
        "colab": {
          "base_uri": "https://localhost:8080/"
        },
        "id": "53b7577e-5092-4dc1-b8c1-eaaabb20cac3",
        "outputId": "63e19ec5-addc-44b3-b406-d7d25976a378"
      },
      "outputs": [
        {
          "output_type": "stream",
          "name": "stdout",
          "text": [
            "[{'gender': 'male', 'race/ethnicity': 'group C', 'parental level of education': 'some high school', 'lunch': 'standard', 'test preparation course': 'none', 'math score': 68, 'reading score': 57, 'writing score': 54}]\n"
          ]
        }
      ],
      "source": [
        "print(parental_hs_ed_students[:1])\n",
        "\n",
        "# [{'gender': 'male', 'race/ethnicity': 'group C',\n",
        "# 'parental level of education': 'some high school',\n",
        "# 'lunch': 'standard', 'test preparation course': 'none',\n",
        "# 'math score': 68, 'reading score': 57, 'writing score': 54}]"
      ]
    },
    {
      "cell_type": "code",
      "execution_count": 12,
      "id": "6e6e9c92-ff4d-4a6d-a54b-67693ab1611f",
      "metadata": {
        "colab": {
          "base_uri": "https://localhost:8080/"
        },
        "id": "6e6e9c92-ff4d-4a6d-a54b-67693ab1611f",
        "outputId": "662a9924-e21c-4165-ae49-7bb072601949"
      },
      "outputs": [
        {
          "output_type": "execute_result",
          "data": {
            "text/plain": [
              "392"
            ]
          },
          "metadata": {},
          "execution_count": 12
        }
      ],
      "source": [
        "len(parental_hs_ed_students)"
      ]
    },
    {
      "cell_type": "markdown",
      "id": "f7776bc4-bb90-48f1-bf2c-7668830be5f1",
      "metadata": {
        "id": "f7776bc4-bb90-48f1-bf2c-7668830be5f1"
      },
      "source": [
        "And then select those student whose parents either have a bachelors, associates, or master's degree."
      ]
    },
    {
      "cell_type": "code",
      "execution_count": 23,
      "id": "c0c9700d-e31e-4e10-9c0f-b7a063f0287e",
      "metadata": {
        "colab": {
          "base_uri": "https://localhost:8080/"
        },
        "id": "c0c9700d-e31e-4e10-9c0f-b7a063f0287e",
        "outputId": "4db6820f-79e7-4e5e-c2e2-4ce59e05189a"
      },
      "outputs": [
        {
          "output_type": "execute_result",
          "data": {
            "text/plain": [
              "75"
            ]
          },
          "metadata": {},
          "execution_count": 23
        }
      ],
      "source": [
        "# remember you can use a \\ to split code over 2 lines eg. [for x \\\n",
        "# in list_of_x]\n",
        "parental_col_grad_students = [student for student in students \\\n",
        "                              if 'master' in student['parental level of education']]\n",
        "len(parental_col_grad_students)"
      ]
    },
    {
      "cell_type": "code",
      "source": [
        "# parental_col_grad_students = [student for student in students \\\n",
        "#                               if student['parental level of education'] == \"master's degree\" or student['parental level of education'] == \"bachelor's degree\" or student['parental level of education'] == \"associate's degree\"]"
      ],
      "metadata": {
        "id": "YZXEchQeNsXw"
      },
      "id": "YZXEchQeNsXw",
      "execution_count": 20,
      "outputs": []
    },
    {
      "cell_type": "code",
      "execution_count": 24,
      "id": "391f6e09-703d-4814-9b08-c7bfbf1af396",
      "metadata": {
        "colab": {
          "base_uri": "https://localhost:8080/"
        },
        "id": "391f6e09-703d-4814-9b08-c7bfbf1af396",
        "outputId": "f9caeb50-ad93-49e7-b812-ceb0c816fb8a"
      },
      "outputs": [
        {
          "output_type": "execute_result",
          "data": {
            "text/plain": [
              "[{'gender': 'male',\n",
              "  'race/ethnicity': 'group B',\n",
              "  'parental level of education': \"master's degree\",\n",
              "  'lunch': 'standard',\n",
              "  'test preparation course': 'none',\n",
              "  'math score': 53,\n",
              "  'reading score': 50,\n",
              "  'writing score': 49}]"
            ]
          },
          "metadata": {},
          "execution_count": 24
        }
      ],
      "source": [
        "parental_col_grad_students[:1]\n",
        "\n",
        "# [{'gender': 'male', 'race/ethnicity': 'group B',\n",
        "#   'parental level of education': \"master's degree\",\n",
        "#   'lunch': 'standard', 'test preparation course': 'none', 'math score': 53, 'reading score': 50, 'writing score': 49}]\n"
      ]
    },
    {
      "cell_type": "code",
      "execution_count": 21,
      "id": "019edf09-4bf4-4e47-bf64-db502c3e02c0",
      "metadata": {
        "colab": {
          "base_uri": "https://localhost:8080/"
        },
        "id": "019edf09-4bf4-4e47-bf64-db502c3e02c0",
        "outputId": "f72b8691-6479-47bc-802d-70489f7d4d82"
      },
      "outputs": [
        {
          "output_type": "execute_result",
          "data": {
            "text/plain": [
              "384"
            ]
          },
          "metadata": {},
          "execution_count": 21
        }
      ],
      "source": [
        "len(parental_col_grad_students)\n",
        "\n",
        "# 75"
      ]
    },
    {
      "cell_type": "markdown",
      "id": "f1655ac2-7f96-446f-8972-d410b715a9ac",
      "metadata": {
        "id": "f1655ac2-7f96-446f-8972-d410b715a9ac"
      },
      "source": [
        "Ok, so right off of the bat we can see that only 16 percent of students' parents had a college education."
      ]
    },
    {
      "cell_type": "code",
      "execution_count": 25,
      "id": "23fbaa2f-8083-4eed-93cf-79aaf04b22a8",
      "metadata": {
        "colab": {
          "base_uri": "https://localhost:8080/"
        },
        "id": "23fbaa2f-8083-4eed-93cf-79aaf04b22a8",
        "outputId": "967ab1de-efa7-44c4-fc05-7186adc5387e"
      },
      "outputs": [
        {
          "output_type": "execute_result",
          "data": {
            "text/plain": [
              "0.16"
            ]
          },
          "metadata": {},
          "execution_count": 25
        }
      ],
      "source": [
        "round(75/(392 + 75), 2)"
      ]
    },
    {
      "cell_type": "markdown",
      "id": "c6bb167f-b4db-41b6-b7ab-439715a74448",
      "metadata": {
        "id": "c6bb167f-b4db-41b6-b7ab-439715a74448"
      },
      "source": [
        "Ok, so now that we've selected two groups of students."
      ]
    },
    {
      "cell_type": "code",
      "execution_count": null,
      "id": "d059960e-2afa-4e7f-a0d3-2d527c7dec6c",
      "metadata": {
        "id": "d059960e-2afa-4e7f-a0d3-2d527c7dec6c"
      },
      "outputs": [],
      "source": [
        "# parental_col_grad_students\n",
        "\n",
        "# parental_hs_ed_students"
      ]
    },
    {
      "cell_type": "markdown",
      "id": "f196f6e7-d12d-432f-a36e-f3c6518d1ad3",
      "metadata": {
        "id": "f196f6e7-d12d-432f-a36e-f3c6518d1ad3"
      },
      "source": [
        "Next select the math scores of the our college grad students."
      ]
    },
    {
      "cell_type": "code",
      "execution_count": 26,
      "id": "d4d071c3-6d6d-4ee1-9d2d-06cb2c2d6c2d",
      "metadata": {
        "colab": {
          "base_uri": "https://localhost:8080/"
        },
        "id": "d4d071c3-6d6d-4ee1-9d2d-06cb2c2d6c2d",
        "outputId": "7a40e337-7bdb-4e70-9a8c-95004c03f5da"
      },
      "outputs": [
        {
          "output_type": "execute_result",
          "data": {
            "text/plain": [
              "[53, 55, 56]"
            ]
          },
          "metadata": {},
          "execution_count": 26
        }
      ],
      "source": [
        "par_col_grad_math_scores = [student['math score'] for student in parental_col_grad_students]\n",
        "par_col_grad_math_scores[:3]\n",
        "\n",
        "# [53, 55, 56]"
      ]
    },
    {
      "cell_type": "markdown",
      "id": "1060cb33-5e46-406d-b078-40af4e02afec",
      "metadata": {
        "id": "1060cb33-5e46-406d-b078-40af4e02afec"
      },
      "source": [
        "And from there we can find the average score by adding up all of the scores and dividing by their length."
      ]
    },
    {
      "cell_type": "code",
      "execution_count": 27,
      "id": "40a2eff2-a9ad-41f9-84b4-2174f7e38617",
      "metadata": {
        "colab": {
          "base_uri": "https://localhost:8080/"
        },
        "id": "40a2eff2-a9ad-41f9-84b4-2174f7e38617",
        "outputId": "c8d0ee1c-1ea1-48e9-99e5-18f81c70dfc8"
      },
      "outputs": [
        {
          "output_type": "execute_result",
          "data": {
            "text/plain": [
              "71.02666666666667"
            ]
          },
          "metadata": {},
          "execution_count": 27
        }
      ],
      "source": [
        "sum(par_col_grad_math_scores)/len(par_col_grad_math_scores)\n",
        "\n",
        "# 71.02666666666667"
      ]
    },
    {
      "cell_type": "markdown",
      "id": "5c5553a0-09fa-45ea-ba39-1c32eeb90988",
      "metadata": {
        "id": "5c5553a0-09fa-45ea-ba39-1c32eeb90988"
      },
      "source": [
        "Ok, so an average score of 71."
      ]
    },
    {
      "cell_type": "markdown",
      "id": "77cbe190-2cf0-4123-a415-74b218135b60",
      "metadata": {
        "id": "77cbe190-2cf0-4123-a415-74b218135b60"
      },
      "source": [
        "Now, it's your turn.  Select the math scores from the `parental_hs_ed_students`, and then find the average score."
      ]
    },
    {
      "cell_type": "code",
      "execution_count": 28,
      "id": "15314b6f-9e33-4b50-b6a3-5be605dd70ab",
      "metadata": {
        "colab": {
          "base_uri": "https://localhost:8080/"
        },
        "id": "15314b6f-9e33-4b50-b6a3-5be605dd70ab",
        "outputId": "bf52491f-0fb9-47df-9e77-f1d075261030"
      },
      "outputs": [
        {
          "output_type": "execute_result",
          "data": {
            "text/plain": [
              "[68, 46, 80]"
            ]
          },
          "metadata": {},
          "execution_count": 28
        }
      ],
      "source": [
        "parental_hs_ed_math_scores = [student['math score'] for student in parental_hs_ed_students]\n",
        "parental_hs_ed_math_scores[:3]"
      ]
    },
    {
      "cell_type": "code",
      "execution_count": 29,
      "id": "c21e3ca5-211a-4856-b300-67cbb693e06e",
      "metadata": {
        "colab": {
          "base_uri": "https://localhost:8080/"
        },
        "id": "c21e3ca5-211a-4856-b300-67cbb693e06e",
        "outputId": "24fa4b1d-4533-4b8e-b692-50bde169d50d"
      },
      "outputs": [
        {
          "output_type": "execute_result",
          "data": {
            "text/plain": [
              "64.84693877551021"
            ]
          },
          "metadata": {},
          "execution_count": 29
        }
      ],
      "source": [
        "# calculate average score here\n",
        "sum(parental_hs_ed_math_scores)/len(parental_hs_ed_math_scores)\n",
        "\n",
        "# 64.84693877551021"
      ]
    },
    {
      "cell_type": "markdown",
      "id": "dd6b7074-96ac-4580-a17f-54c51c01fd8d",
      "metadata": {
        "id": "dd6b7074-96ac-4580-a17f-54c51c01fd8d"
      },
      "source": [
        "Ok, so we see a decrease of around 7 points on the math scores."
      ]
    },
    {
      "cell_type": "markdown",
      "id": "40a93f16-7ee5-455f-819f-a600fa97e878",
      "metadata": {
        "id": "40a93f16-7ee5-455f-819f-a600fa97e878"
      },
      "source": [
        "### Summary"
      ]
    },
    {
      "cell_type": "markdown",
      "id": "2a58fad0-8e6a-4930-9892-5f95bffabf4b",
      "metadata": {
        "id": "2a58fad0-8e6a-4930-9892-5f95bffabf4b"
      },
      "source": [
        "In this lesson, we practiced working with list comprehensions both with selecting data, and filtering our data with if statements."
      ]
    }
  ],
  "metadata": {
    "kernelspec": {
      "display_name": "Python 3 (ipykernel)",
      "language": "python",
      "name": "python3"
    },
    "language_info": {
      "codemirror_mode": {
        "name": "ipython",
        "version": 3
      },
      "file_extension": ".py",
      "mimetype": "text/x-python",
      "name": "python",
      "nbconvert_exporter": "python",
      "pygments_lexer": "ipython3",
      "version": "3.11.5"
    },
    "colab": {
      "provenance": []
    }
  },
  "nbformat": 4,
  "nbformat_minor": 5
}