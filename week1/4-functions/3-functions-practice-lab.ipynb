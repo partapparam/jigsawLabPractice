{
  "cells": [
    {
      "cell_type": "markdown",
      "metadata": {
        "id": "2bXS0AZzsi3b"
      },
      "source": [
        "# Functions Practice Lab"
      ]
    },
    {
      "cell_type": "markdown",
      "metadata": {
        "id": "SVVLgbAAsi3w"
      },
      "source": [
        "### Introduction"
      ]
    },
    {
      "cell_type": "markdown",
      "metadata": {
        "id": "O1POmtyLsi3x"
      },
      "source": [
        "In this lesson, let's continue to practice using functions to both automate operations and to make our codebase more flexible.  We'll do so by working with our Spotify data."
      ]
    },
    {
      "cell_type": "markdown",
      "metadata": {
        "id": "--tT2YSusi3y"
      },
      "source": [
        "### Loading our Data"
      ]
    },
    {
      "cell_type": "markdown",
      "metadata": {
        "id": "4uOyt-TOsi3z"
      },
      "source": [
        "Let's get started by just practicing how to writing a function.  Write a function called `get_songs` that returns has a return value of  `['song 1', 'song 2']`."
      ]
    },
    {
      "cell_type": "code",
      "execution_count": 7,
      "metadata": {
        "id": "RBFIIp00si31"
      },
      "outputs": [],
      "source": [
        "def get_songs():\n",
        "    return ['song 1', 'song 2']"
      ]
    },
    {
      "cell_type": "markdown",
      "metadata": {
        "id": "92lyYUZZsi33"
      },
      "source": [
        "Then we'll test that we set our function up correctly."
      ]
    },
    {
      "cell_type": "code",
      "execution_count": 8,
      "metadata": {
        "id": "2W0Br_tWsi34",
        "outputId": "9063a4b8-fa29-49e7-ae81-dd6aa29399aa",
        "colab": {
          "base_uri": "https://localhost:8080/"
        }
      },
      "outputs": [
        {
          "output_type": "execute_result",
          "data": {
            "text/plain": [
              "['song 1', 'song 2']"
            ]
          },
          "metadata": {},
          "execution_count": 8
        }
      ],
      "source": [
        "get_songs()\n",
        "\n",
        "# ['song 1', 'song 2']"
      ]
    },
    {
      "cell_type": "markdown",
      "metadata": {
        "id": "Utb8KdeTsi36"
      },
      "source": [
        "Now let's write a function called `scrape_songs` that pulls the list of songs from spotify and returns a list of dictionaries representing the top streaming songs.  We can write the function based off of the following code."
      ]
    },
    {
      "cell_type": "code",
      "execution_count": 3,
      "metadata": {
        "id": "wXQJBXa9si37"
      },
      "outputs": [],
      "source": [
        "import pandas as pd"
      ]
    },
    {
      "cell_type": "code",
      "execution_count": 4,
      "metadata": {
        "id": "1v8IQFm8si37"
      },
      "outputs": [],
      "source": [
        "url = 'https://en.wikipedia.org/wiki/List_of_most-streamed_songs_on_Spotify'\n",
        "songs_table = pd.read_html(url)[0]\n",
        "top_songs = songs_table.to_dict('records')"
      ]
    },
    {
      "cell_type": "code",
      "execution_count": 5,
      "metadata": {
        "id": "McMom5SNsi38"
      },
      "outputs": [],
      "source": [
        "def scrape_songs():\n",
        "    url = 'https://en.wikipedia.org/wiki/List_of_most-streamed_songs_on_Spotify'\n",
        "    songs_table = pd.read_html(url)[0]\n",
        "    top_songs = songs_table.to_dict('records')[:-1]\n",
        "    return top_songs"
      ]
    },
    {
      "cell_type": "markdown",
      "metadata": {
        "id": "ca-Mzxidsi4B"
      },
      "source": [
        "Then let's test out the code.  We can assign the result to the variable `top_songs`."
      ]
    },
    {
      "cell_type": "code",
      "execution_count": 6,
      "metadata": {
        "id": "CUft7RlSsi4B"
      },
      "outputs": [],
      "source": [
        "top_songs = scrape_songs()"
      ]
    },
    {
      "cell_type": "code",
      "execution_count": null,
      "metadata": {
        "id": "U5b9gW6qsi4C",
        "outputId": "888a4ffd-8aac-4c33-8175-c72593d77b58"
      },
      "outputs": [
        {
          "data": {
            "text/plain": [
              "[{'Rank': '1',\n",
              "  'Song': '\"Blinding Lights\"',\n",
              "  'Artist(s)': 'The Weeknd',\n",
              "  'Streams (billions)': '3.861',\n",
              "  'Release date': '29 November 2019',\n",
              "  'Ref.': '[2][3]'},\n",
              " {'Rank': '2',\n",
              "  'Song': '\"Shape of You\"',\n",
              "  'Artist(s)': 'Ed Sheeran',\n",
              "  'Streams (billions)': '3.666',\n",
              "  'Release date': '6 January 2017',\n",
              "  'Ref.': '[4]'}]"
            ]
          },
          "execution_count": 9,
          "metadata": {},
          "output_type": "execute_result"
        }
      ],
      "source": [
        "top_songs[:2]"
      ]
    },
    {
      "cell_type": "code",
      "execution_count": 9,
      "metadata": {
        "id": "TvvbUuvrsi4D",
        "outputId": "04ca8794-2895-4638-d58d-1751428d9591",
        "colab": {
          "base_uri": "https://localhost:8080/"
        }
      },
      "outputs": [
        {
          "output_type": "execute_result",
          "data": {
            "text/plain": [
              "{'Rank': '100',\n",
              " 'Song': '\"In the End\"',\n",
              " 'Artist(s)': 'Linkin Park',\n",
              " 'Streams (billions)': '1.718',\n",
              " 'Release date': '24 October 2000',\n",
              " 'Ref.': '[131][132]'}"
            ]
          },
          "metadata": {},
          "execution_count": 9
        }
      ],
      "source": [
        "top_songs[-1]\n",
        "\n",
        "# {'Rank': '100',\n",
        "#  'Song': '\"In the End\"',\n",
        "#  'Artist(s)': 'Linkin Park',\n",
        "#  'Streams (billions)': '1.718',\n",
        "#  'Release date': '24 October 2000',\n",
        "#  'Ref.': '[131][132]'}"
      ]
    },
    {
      "cell_type": "markdown",
      "metadata": {
        "id": "Qj6QpuCxsi4D"
      },
      "source": [
        "> Notice that it takes a little while to run the above code.  This is because each time we call the function, it scrapes data from the Wikipedia page."
      ]
    },
    {
      "cell_type": "markdown",
      "metadata": {
        "id": "-A1oeQMKsi4E"
      },
      "source": [
        "### Querying our Data"
      ]
    },
    {
      "cell_type": "markdown",
      "metadata": {
        "id": "_iG2yRvisi4F"
      },
      "source": [
        "Now let's write some functions to query our data.  We can write a function called `stream_numbers_for(song)` that takes in a single song dictionary, and returns the corresponding number of streams as a float."
      ]
    },
    {
      "cell_type": "code",
      "execution_count": 14,
      "metadata": {
        "id": "2zOS253esi4F"
      },
      "outputs": [],
      "source": [
        "def stream_number_for(song):\n",
        "    return float(song['Streams (billions)'])"
      ]
    },
    {
      "cell_type": "markdown",
      "metadata": {
        "id": "COfnDGkWsi4G"
      },
      "source": [
        "Then we can test this out below."
      ]
    },
    {
      "cell_type": "code",
      "execution_count": 11,
      "metadata": {
        "id": "TUP7AEmOsi4H"
      },
      "outputs": [],
      "source": [
        "first_song = top_songs[0]\n",
        "\n",
        "second_song = top_songs[1]\n",
        "# second_song"
      ]
    },
    {
      "cell_type": "code",
      "execution_count": 15,
      "metadata": {
        "id": "mniuPXe7si4H",
        "outputId": "2f5a9395-f400-4f74-da64-3570b2851ee7",
        "colab": {
          "base_uri": "https://localhost:8080/"
        }
      },
      "outputs": [
        {
          "output_type": "execute_result",
          "data": {
            "text/plain": [
              "3.861"
            ]
          },
          "metadata": {},
          "execution_count": 15
        }
      ],
      "source": [
        "stream_number_for(first_song)\n",
        "# 3.861"
      ]
    },
    {
      "cell_type": "code",
      "execution_count": 13,
      "metadata": {
        "id": "vK2gddp_si4H",
        "outputId": "b7b3e264-217e-42f3-a92f-6724b28a7207",
        "colab": {
          "base_uri": "https://localhost:8080/",
          "height": 35
        }
      },
      "outputs": [
        {
          "output_type": "execute_result",
          "data": {
            "text/plain": [
              "'3.666'"
            ],
            "application/vnd.google.colaboratory.intrinsic+json": {
              "type": "string"
            }
          },
          "metadata": {},
          "execution_count": 13
        }
      ],
      "source": [
        "stream_number_for(second_song)\n",
        "# 3.666"
      ]
    },
    {
      "cell_type": "markdown",
      "metadata": {
        "id": "zvbt1hD8si4I"
      },
      "source": [
        "Next write a function called `stream_numbers_for(songs)` that takes in a list of songs and returns the corresponding stream numbers.\n",
        "\n",
        "> Try to use the `stream_number_for` function above in solving this."
      ]
    },
    {
      "cell_type": "code",
      "execution_count": 19,
      "metadata": {
        "id": "mSpzEnl8si4I"
      },
      "outputs": [],
      "source": [
        "def stream_numbers_for(songs):\n",
        "    return [float(song['Streams (billions)']) for song in songs]"
      ]
    },
    {
      "cell_type": "code",
      "execution_count": 17,
      "metadata": {
        "id": "dfJfI_RTsi4I"
      },
      "outputs": [],
      "source": [
        "top_five_songs = top_songs[:5]"
      ]
    },
    {
      "cell_type": "code",
      "execution_count": 20,
      "metadata": {
        "id": "eOy49I4osi4I",
        "outputId": "1f1fcf75-2bae-4774-bbf9-6a8b2976bedf",
        "colab": {
          "base_uri": "https://localhost:8080/"
        }
      },
      "outputs": [
        {
          "output_type": "execute_result",
          "data": {
            "text/plain": [
              "[3.861, 3.666, 3.028, 2.973, 2.924]"
            ]
          },
          "metadata": {},
          "execution_count": 20
        }
      ],
      "source": [
        "stream_numbers_for(top_five_songs)\n",
        "\n",
        "# [3.861, 3.666, 3.028, 2.973, 2.924]"
      ]
    },
    {
      "cell_type": "markdown",
      "metadata": {
        "id": "Tfh87Xbhsi4I"
      },
      "source": [
        "Next let's use functions to filter our data.  Write a function called `songs_streamed_more_than(songs, number)` that returns a list of names of songs that were streamed more than that number of times."
      ]
    },
    {
      "cell_type": "code",
      "execution_count": 23,
      "metadata": {
        "id": "u8k3RURAsi4I"
      },
      "outputs": [],
      "source": [
        "def songs_streamed_more_than(songs, number):\n",
        "    return [song['Song'] for song in songs if float(song['Streams (billions)']) > number]"
      ]
    },
    {
      "cell_type": "code",
      "execution_count": 24,
      "metadata": {
        "id": "hzWuPVbnsi4J",
        "outputId": "4d560307-e3ce-4483-cfb1-ead2ce519467",
        "colab": {
          "base_uri": "https://localhost:8080/"
        }
      },
      "outputs": [
        {
          "output_type": "stream",
          "name": "stdout",
          "text": [
            "['\"Blinding Lights\"', '\"Shape of You\"', '\"Someone You Loved\"', '\"Sunflower\"', '\"Dance Monkey\"', '\"One Dance\"', '\"Stay\"', '\"Rockstar\"', '\"Starboy\"', '\"As It Was\"', '\"Believer\"', '\"Heat Waves\"', '\"Perfect\"', '\"Closer\"', '\"Señorita\"', '\"Say You Won\\'t Let Go\"', '\"Lovely\"', '\"Sweater Weather\"', '\"Watermelon Sugar\"', '\"Don\\'t Start Now\"', '\"Bad Guy\"', '\"Lucid Dreams\"', '\"Thinking Out Loud\"', '\"God\\'s Plan\"', '\"Photograph\"', '\"Something Just Like This\"', '\"Bohemian Rhapsody\"', '\"Take Me to Church\"', '\"Shallow\"', '\"Circles\"', '\"Love Yourself\"', '\"All of Me\"', '\"Thunder\"', '\"Riptide\"', '\"Counting Stars\"', '\"goosebumps\"', '\"7 Rings\"', '\"SAD!\"']\n"
          ]
        }
      ],
      "source": [
        "print(songs_streamed_more_than(top_songs, 2.1))\n",
        "\n",
        "# ['\"Blinding Lights\"', '\"Shape of You\"', '\"Someone You Loved\"', '\"Sunflower\"', '\"Dance Monkey\"', '\"One Dance\"', '\"Stay\"', '\"Rockstar\"',\n",
        "# '\"Starboy\"', '\"As It Was\"', '\"Believer\"', '\"Heat Waves\"', '\"Perfect\"', '\"Closer\"', '\"Señorita\"', '\"Say You Won\\'t Let Go\"', '\"Lovely\"', '\"Sweater Weather\"', '\"Watermelon Sugar\"', '\"Don\\'t Start Now\"', '\"Bad Guy\"', '\"Lucid Dreams\"', '\"Thinking Out Loud\"', '\"God\\'s Plan\"', '\"Photograph\"', '\"Something Just Like This\"', '\"Bohemian Rhapsody\"', '\"Take Me to Church\"', '\"Shallow\"', '\"Circles\"', '\"Love Yourself\"', '\"All of Me\"', '\"Thunder\"', '\"Riptide\"', '\"Counting Stars\"', '\"goosebumps\"', '\"7 Rings\"', '\"SAD!\"']"
      ]
    },
    {
      "cell_type": "markdown",
      "metadata": {
        "id": "338Aj6alsi4J"
      },
      "source": [
        "Next return the **year number** for each song streamed more than a specified number of times."
      ]
    },
    {
      "cell_type": "code",
      "execution_count": 27,
      "metadata": {
        "id": "PxRWmTHtsi4J"
      },
      "outputs": [],
      "source": [
        "def song_years_for_songs_streamed_more_than(songs, number):\n",
        "  # 'Release date': '24 October 2000'\n",
        "  # Release date\n",
        "    return [int(song['Release date'].split(' ')[-1]) for song in songs if float(song['Streams (billions)']) > number]\n",
        ""
      ]
    },
    {
      "cell_type": "code",
      "execution_count": 28,
      "metadata": {
        "id": "4GV8cFFYsi4J",
        "outputId": "16edf2d3-0d08-443d-b217-2b5d962b23ed",
        "colab": {
          "base_uri": "https://localhost:8080/"
        }
      },
      "outputs": [
        {
          "output_type": "stream",
          "name": "stdout",
          "text": [
            "[2019, 2017, 2018, 2018, 2019, 2016, 2021, 2017, 2016, 2022, 2017, 2020, 2017, 2016, 2019, 2016, 2018, 2012, 2019, 2019, 2019, 2018, 2014, 2018, 2014, 2017, 1975, 2013, 2018, 2019, 2015, 2013, 2017, 2013, 2013, 2016, 2019, 2018]\n"
          ]
        }
      ],
      "source": [
        "print(song_years_for_songs_streamed_more_than(top_songs, 2.1))\n",
        "# [2019, 2017, 2018, 2018, 2019, 2016, 2021,\n",
        "# 2017, 2016, 2022, 2017, 2020, 2017, 2016, 2019, 2016, 2018, 2012, 2019, 2019, 2019, 2018, 2014, 2018, 2014, 2017, 1975, 2013, 2018, 2019, 2015, 2013, 2017, 2013, 2013, 2016, 2019, 2018]"
      ]
    },
    {
      "cell_type": "markdown",
      "metadata": {
        "id": "x6QBeciPsi4J"
      },
      "source": [
        "So we can see that each of the top songs were streamed relatively recently.  Next write a function that given a list of songs and a key, returns just the corresponding value of each song.  "
      ]
    },
    {
      "cell_type": "code",
      "execution_count": 29,
      "metadata": {
        "id": "u5CQ0nM4si4J"
      },
      "outputs": [],
      "source": [
        "def values_of(songs, key_name):\n",
        "    return [song[key_name] for song in songs]"
      ]
    },
    {
      "cell_type": "code",
      "execution_count": 30,
      "metadata": {
        "id": "9oRVXlUzsi4S",
        "outputId": "536a4a2a-03bb-4361-eb45-51ece8bb596e",
        "colab": {
          "base_uri": "https://localhost:8080/"
        }
      },
      "outputs": [
        {
          "output_type": "stream",
          "name": "stdout",
          "text": [
            "['\"Blinding Lights\"', '\"Shape of You\"', '\"Someone You Loved\"', '\"Sunflower\"', '\"Dance Monkey\"']\n"
          ]
        }
      ],
      "source": [
        "print(values_of(top_songs, 'Song')[:5])\n",
        "\n",
        "# ['\"Blinding Lights\"', '\"Shape of You\"', '\"Someone You Loved\"', '\"Sunflower\"', '\"Dance Monkey\"']"
      ]
    },
    {
      "cell_type": "code",
      "execution_count": 31,
      "metadata": {
        "id": "_x13BSOOsi4W",
        "outputId": "f8078894-ec48-4763-8e68-886790a7656e",
        "colab": {
          "base_uri": "https://localhost:8080/"
        }
      },
      "outputs": [
        {
          "output_type": "execute_result",
          "data": {
            "text/plain": [
              "['29 November 2019',\n",
              " '6 January 2017',\n",
              " '8 November 2018',\n",
              " '18 October 2018',\n",
              " '10 May 2019']"
            ]
          },
          "metadata": {},
          "execution_count": 31
        }
      ],
      "source": [
        "values_of(top_songs, 'Release date')[:5]\n",
        "\n",
        "# ['29 November 2019',\n",
        "#  '6 January 2017',\n",
        "#  '8 November 2018',\n",
        "#  '18 October 2018',\n",
        "#  '10 May 2019']\n"
      ]
    },
    {
      "cell_type": "markdown",
      "metadata": {
        "id": "RjR4Z3C9si4Z"
      },
      "source": [
        "### Summary"
      ]
    },
    {
      "cell_type": "markdown",
      "metadata": {
        "id": "l7Uvfmsnsi4e"
      },
      "source": [
        "In this lesson we saw how we can use functions to both automate procedures and to make our code more flexible.  For example, it now only takes a call to our `scrape_songs` function for us to gather our data from Wikipedia and transform it to a list of dictionaries.  And with our `values_of` function we decide when we call the function which value from the data we wish to abstract."
      ]
    }
  ],
  "metadata": {
    "kernelspec": {
      "display_name": "Python 3 (ipykernel)",
      "language": "python",
      "name": "python3"
    },
    "language_info": {
      "codemirror_mode": {
        "name": "ipython",
        "version": 3
      },
      "file_extension": ".py",
      "mimetype": "text/x-python",
      "name": "python",
      "nbconvert_exporter": "python",
      "pygments_lexer": "ipython3",
      "version": "3.9.12"
    },
    "colab": {
      "provenance": []
    }
  },
  "nbformat": 4,
  "nbformat_minor": 0
}