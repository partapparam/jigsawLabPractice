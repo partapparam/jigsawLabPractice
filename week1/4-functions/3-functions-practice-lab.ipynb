{
  "cells": [
    {
      "cell_type": "markdown",
      "metadata": {
        "id": "-b74SaOJ1prA"
      },
      "source": [
        "# Functions Practice Lab"
      ]
    },
    {
      "cell_type": "markdown",
      "metadata": {
        "id": "nFE5WHd51prF"
      },
      "source": [
        "### Introduction"
      ]
    },
    {
      "cell_type": "markdown",
      "metadata": {
        "id": "fD1gSy871prF"
      },
      "source": [
        "In this lesson, let's continue to practice using functions to both automate operations and to make our codebase more flexible.  We'll do so by working with our Spotify data."
      ]
    },
    {
      "cell_type": "markdown",
      "metadata": {
        "id": "JiltWuQ-1prG"
      },
      "source": [
        "### Loading our Data"
      ]
    },
    {
      "cell_type": "markdown",
      "metadata": {
        "id": "AWvoaF-U1prH"
      },
      "source": [
        "Let's get started by just practicing how to writing a function.  Write a function called `get_songs` that returns has a return value of  `['song 1', 'song 2']`."
      ]
    },
    {
      "cell_type": "code",
      "execution_count": 24,
      "metadata": {
        "id": "_AlnQbkk1prH"
      },
      "outputs": [],
      "source": [
        "def get_songs():\n",
        "    return ['song 1', 'song 2']"
      ]
    },
    {
      "cell_type": "markdown",
      "metadata": {
        "id": "FpVaY1k91prJ"
      },
      "source": [
        "Then we'll test that we set our function up correctly."
      ]
    },
    {
      "cell_type": "code",
      "execution_count": 25,
      "metadata": {
        "id": "xjKb2byz1prJ",
        "outputId": "cf0de759-3a44-48e2-b065-4c01283ebf1b",
        "colab": {
          "base_uri": "https://localhost:8080/"
        }
      },
      "outputs": [
        {
          "output_type": "execute_result",
          "data": {
            "text/plain": [
              "['song 1', 'song 2']"
            ]
          },
          "metadata": {},
          "execution_count": 25
        }
      ],
      "source": [
        "get_songs()\n",
        "\n",
        "# ['song 1', 'song 2']"
      ]
    },
    {
      "cell_type": "markdown",
      "metadata": {
        "id": "mdSbrBm-1prL"
      },
      "source": [
        "Now let's write a function called `scrape_songs` that pulls the list of songs from spotify and returns a list of dictionaries representing the top streaming songs.  We can write the function based off of the following code."
      ]
    },
    {
      "cell_type": "code",
      "execution_count": 3,
      "metadata": {
        "id": "HyIALLWW1prL"
      },
      "outputs": [],
      "source": [
        "import pandas as pd"
      ]
    },
    {
      "cell_type": "code",
      "execution_count": 4,
      "metadata": {
        "id": "vGu-0GQQ1prM"
      },
      "outputs": [],
      "source": [
        "url = 'https://en.wikipedia.org/wiki/List_of_most-streamed_songs_on_Spotify'\n",
        "songs_table = pd.read_html(url)[0]\n",
        "top_songs = songs_table.to_dict('records')"
      ]
    },
    {
      "cell_type": "code",
      "execution_count": 5,
      "metadata": {
        "id": "JZFimXw01prM"
      },
      "outputs": [],
      "source": [
        "def scrape_songs():\n",
        "    url = 'https://en.wikipedia.org/wiki/List_of_most-streamed_songs_on_Spotify'\n",
        "    songs_table = pd.read_html(url)[0]\n",
        "    top_songs = songs_table.to_dict('records')[:-1]\n",
        "    return top_songs"
      ]
    },
    {
      "cell_type": "markdown",
      "metadata": {
        "id": "khfCPSr61prM"
      },
      "source": [
        "Then let's test out the code.  We can assign the result to the variable `top_songs`."
      ]
    },
    {
      "cell_type": "code",
      "execution_count": 26,
      "metadata": {
        "id": "CY9sZQ6H1prM"
      },
      "outputs": [],
      "source": [
        "top_songs = scrape_songs()"
      ]
    },
    {
      "cell_type": "code",
      "execution_count": 27,
      "metadata": {
        "id": "zzdC463h1prN",
        "outputId": "6de5b4af-2d81-4cc7-d57b-3335bd28bb56",
        "colab": {
          "base_uri": "https://localhost:8080/"
        }
      },
      "outputs": [
        {
          "output_type": "execute_result",
          "data": {
            "text/plain": [
              "[{'Rank': '1',\n",
              "  'Song': '\"Blinding Lights\"',\n",
              "  'Artist(s)': 'The Weeknd',\n",
              "  'Streams (billions)': '3.868',\n",
              "  'Release date': '29 November 2019',\n",
              "  'Ref.': '[2][3]'},\n",
              " {'Rank': '2',\n",
              "  'Song': '\"Shape of You\"',\n",
              "  'Artist(s)': 'Ed Sheeran',\n",
              "  'Streams (billions)': '3.670',\n",
              "  'Release date': '6 January 2017',\n",
              "  'Ref.': '[4]'}]"
            ]
          },
          "metadata": {},
          "execution_count": 27
        }
      ],
      "source": [
        "top_songs[:2]"
      ]
    },
    {
      "cell_type": "code",
      "execution_count": 8,
      "metadata": {
        "id": "Yc-dh2AP1prN",
        "outputId": "10ab1eac-bfe4-485b-b777-95125999ae0b",
        "colab": {
          "base_uri": "https://localhost:8080/"
        }
      },
      "outputs": [
        {
          "output_type": "execute_result",
          "data": {
            "text/plain": [
              "{'Rank': '100',\n",
              " 'Song': '\"In the End\"',\n",
              " 'Artist(s)': 'Linkin Park',\n",
              " 'Streams (billions)': '1.723',\n",
              " 'Release date': '24 October 2000',\n",
              " 'Ref.': '[131][132]'}"
            ]
          },
          "metadata": {},
          "execution_count": 8
        }
      ],
      "source": [
        "top_songs[-1]\n",
        "\n",
        "# {'Rank': '100',\n",
        "#  'Song': '\"In the End\"',\n",
        "#  'Artist(s)': 'Linkin Park',\n",
        "#  'Streams (billions)': '1.718',\n",
        "#  'Release date': '24 October 2000',\n",
        "#  'Ref.': '[131][132]'}"
      ]
    },
    {
      "cell_type": "markdown",
      "metadata": {
        "id": "f0Hw04731prN"
      },
      "source": [
        "> Notice that it takes a little while to run the above code.  This is because each time we call the function, it scrapes data from the Wikipedia page."
      ]
    },
    {
      "cell_type": "markdown",
      "metadata": {
        "id": "SEWn0ILQ1prN"
      },
      "source": [
        "### Querying our Data"
      ]
    },
    {
      "cell_type": "markdown",
      "metadata": {
        "id": "38bWeRY-1prO"
      },
      "source": [
        "Now let's write some functions to query our data.  We can write a function called `stream_numbers_for(song)` that takes in a single song dictionary, and returns the corresponding number of streams as a float."
      ]
    },
    {
      "cell_type": "code",
      "execution_count": 28,
      "metadata": {
        "id": "ar4QpPyj1prO"
      },
      "outputs": [],
      "source": [
        "def stream_number_for(song):\n",
        "    return float(song['Streams (billions)'])"
      ]
    },
    {
      "cell_type": "markdown",
      "metadata": {
        "id": "8RKck9ww1prO"
      },
      "source": [
        "Then we can test this out below."
      ]
    },
    {
      "cell_type": "code",
      "execution_count": 29,
      "metadata": {
        "id": "9TvT0Dg_1prO"
      },
      "outputs": [],
      "source": [
        "first_song = top_songs[0]\n",
        "\n",
        "second_song = top_songs[1]\n",
        "# second_song"
      ]
    },
    {
      "cell_type": "code",
      "execution_count": 30,
      "metadata": {
        "id": "ufwQKjeu1prO",
        "outputId": "41db2425-19a2-46fc-d8fe-1a93177bff3e",
        "colab": {
          "base_uri": "https://localhost:8080/"
        }
      },
      "outputs": [
        {
          "output_type": "execute_result",
          "data": {
            "text/plain": [
              "3.868"
            ]
          },
          "metadata": {},
          "execution_count": 30
        }
      ],
      "source": [
        "stream_number_for(first_song)\n",
        "# 3.861"
      ]
    },
    {
      "cell_type": "code",
      "execution_count": 31,
      "metadata": {
        "id": "_NIUZXHF1prO",
        "outputId": "8c096159-026f-417c-b664-48b1efe55854",
        "colab": {
          "base_uri": "https://localhost:8080/"
        }
      },
      "outputs": [
        {
          "output_type": "execute_result",
          "data": {
            "text/plain": [
              "3.67"
            ]
          },
          "metadata": {},
          "execution_count": 31
        }
      ],
      "source": [
        "stream_number_for(second_song)\n",
        "# 3.666"
      ]
    },
    {
      "cell_type": "markdown",
      "metadata": {
        "id": "siPnu8xd1prP"
      },
      "source": [
        "Next write a function called `stream_numbers_for(songs)` that takes in a list of songs and returns the corresponding stream numbers.\n",
        "\n",
        "> Try to use the `stream_number_for` function above in solving this."
      ]
    },
    {
      "cell_type": "code",
      "execution_count": 32,
      "metadata": {
        "id": "bwsIhvE91prP"
      },
      "outputs": [],
      "source": [
        "def stream_numbers_for(songs):\n",
        "    return [float(song['Streams (billions)']) for song in songs]"
      ]
    },
    {
      "cell_type": "code",
      "execution_count": 33,
      "metadata": {
        "id": "1klDeFjU1prP"
      },
      "outputs": [],
      "source": [
        "top_five_songs = top_songs[:5]"
      ]
    },
    {
      "cell_type": "code",
      "execution_count": 34,
      "metadata": {
        "id": "XHLMlxsj1prP",
        "outputId": "99421858-451d-40b4-ea0e-2fe83b8b2a19",
        "colab": {
          "base_uri": "https://localhost:8080/"
        }
      },
      "outputs": [
        {
          "output_type": "execute_result",
          "data": {
            "text/plain": [
              "[3.868, 3.67, 3.035, 2.98, 2.926]"
            ]
          },
          "metadata": {},
          "execution_count": 34
        }
      ],
      "source": [
        "stream_numbers_for(top_five_songs)\n",
        "\n",
        "# [3.861, 3.666, 3.028, 2.973, 2.924]"
      ]
    },
    {
      "cell_type": "markdown",
      "metadata": {
        "id": "3a2oEVkx1prP"
      },
      "source": [
        "Next let's use functions to filter our data.  Write a function called `songs_streamed_more_than(songs, number)` that returns a list of names of songs that were streamed more than that number of times."
      ]
    },
    {
      "cell_type": "code",
      "execution_count": 39,
      "metadata": {
        "id": "OyupLJL11prP"
      },
      "outputs": [],
      "source": [
        "def songs_streamed_more_than(songs, number):\n",
        "    return [song['Song'] for song in songs if float(song['Streams (billions)']) > number]"
      ]
    },
    {
      "cell_type": "code",
      "execution_count": 40,
      "metadata": {
        "id": "kd99GPM91prP",
        "outputId": "6b29d1f8-fc3e-4bd9-c502-5ad59e766c60",
        "colab": {
          "base_uri": "https://localhost:8080/"
        }
      },
      "outputs": [
        {
          "output_type": "stream",
          "name": "stdout",
          "text": [
            "['\"Blinding Lights\"', '\"Shape of You\"', '\"Someone You Loved\"', '\"Sunflower\"', '\"Dance Monkey\"', '\"One Dance\"', '\"Stay\"', '\"Rockstar\"', '\"Starboy\"', '\"As It Was\"', '\"Believer\"', '\"Heat Waves\"', '\"Perfect\"', '\"Closer\"', '\"Señorita\"', '\"Say You Won\\'t Let Go\"', '\"Lovely\"', '\"Sweater Weather\"', '\"Watermelon Sugar\"', '\"Don\\'t Start Now\"', '\"Bad Guy\"', '\"Lucid Dreams\"', '\"Thinking Out Loud\"', '\"God\\'s Plan\"', '\"Photograph\"', '\"Something Just Like This\"', '\"Bohemian Rhapsody\"', '\"Take Me to Church\"', '\"Shallow\"', '\"Circles\"', '\"Love Yourself\"', '\"All of Me\"', '\"Thunder\"', '\"Riptide\"', '\"Counting Stars\"', '\"goosebumps\"', '\"7 Rings\"', '\"SAD!\"']\n"
          ]
        }
      ],
      "source": [
        "print(songs_streamed_more_than(top_songs, 2.1))\n",
        "\n",
        "# ['\"Blinding Lights\"', '\"Shape of You\"', '\"Someone You Loved\"', '\"Sunflower\"', '\"Dance Monkey\"', '\"One Dance\"', '\"Stay\"', '\"Rockstar\"',\n",
        "# '\"Starboy\"', '\"As It Was\"', '\"Believer\"', '\"Heat Waves\"', '\"Perfect\"', '\"Closer\"', '\"Señorita\"', '\"Say You Won\\'t Let Go\"', '\"Lovely\"', '\"Sweater Weather\"', '\"Watermelon Sugar\"', '\"Don\\'t Start Now\"', '\"Bad Guy\"', '\"Lucid Dreams\"', '\"Thinking Out Loud\"', '\"God\\'s Plan\"', '\"Photograph\"', '\"Something Just Like This\"', '\"Bohemian Rhapsody\"', '\"Take Me to Church\"', '\"Shallow\"', '\"Circles\"', '\"Love Yourself\"', '\"All of Me\"', '\"Thunder\"', '\"Riptide\"', '\"Counting Stars\"', '\"goosebumps\"', '\"7 Rings\"', '\"SAD!\"']"
      ]
    },
    {
      "cell_type": "markdown",
      "metadata": {
        "id": "keRVqbkT1prQ"
      },
      "source": [
        "Next return the **year number** for each song streamed more than a specified number of times."
      ]
    },
    {
      "cell_type": "code",
      "execution_count": 45,
      "metadata": {
        "id": "ejD953Hb1prQ"
      },
      "outputs": [],
      "source": [
        "def song_years_for_songs_streamed_more_than(songs, number):\n",
        "    return [int(song['Release date'].split(' ')[-1]) for song in songs if float(song['Streams (billions)']) > number]"
      ]
    },
    {
      "cell_type": "code",
      "execution_count": 46,
      "metadata": {
        "id": "SQT-nVnV1prQ",
        "outputId": "e86f9da6-cac0-49d0-b82b-19fb9295514b",
        "colab": {
          "base_uri": "https://localhost:8080/"
        }
      },
      "outputs": [
        {
          "output_type": "stream",
          "name": "stdout",
          "text": [
            "[2019, 2017, 2018, 2018, 2019, 2016, 2021, 2017, 2016, 2022, 2017, 2020, 2017, 2016, 2019, 2016, 2018, 2012, 2019, 2019, 2019, 2018, 2014, 2018, 2014, 2017, 1975, 2013, 2018, 2019, 2015, 2013, 2017, 2013, 2013, 2016, 2019, 2018]\n"
          ]
        }
      ],
      "source": [
        "print(song_years_for_songs_streamed_more_than(top_songs, 2.1))\n",
        "# [2019, 2017, 2018, 2018, 2019, 2016, 2021,\n",
        "# 2017, 2016, 2022, 2017, 2020, 2017, 2016, 2019, 2016, 2018, 2012, 2019, 2019, 2019, 2018, 2014, 2018, 2014, 2017, 1975, 2013, 2018, 2019, 2015, 2013, 2017, 2013, 2013, 2016, 2019, 2018]"
      ]
    },
    {
      "cell_type": "markdown",
      "metadata": {
        "id": "qQGevraO1prQ"
      },
      "source": [
        "So we can see that each of the top songs were streamed relatively recently.  Next write a function that given a list of songs and a key, returns just the corresponding value of each song.  "
      ]
    },
    {
      "cell_type": "code",
      "execution_count": 47,
      "metadata": {
        "id": "2FOF7Y-e1prQ"
      },
      "outputs": [],
      "source": [
        "def values_of(songs, key_name):\n",
        "    return [song[key_name] for song in songs]"
      ]
    },
    {
      "cell_type": "code",
      "execution_count": 48,
      "metadata": {
        "id": "v8pIIsmU1prQ",
        "outputId": "77dbcb33-bf11-4368-8d98-95583275a88a",
        "colab": {
          "base_uri": "https://localhost:8080/"
        }
      },
      "outputs": [
        {
          "output_type": "stream",
          "name": "stdout",
          "text": [
            "['\"Blinding Lights\"', '\"Shape of You\"', '\"Someone You Loved\"', '\"Sunflower\"', '\"Dance Monkey\"']\n"
          ]
        }
      ],
      "source": [
        "print(values_of(top_songs, 'Song')[:5])\n",
        "\n",
        "# ['\"Blinding Lights\"', '\"Shape of You\"', '\"Someone You Loved\"', '\"Sunflower\"', '\"Dance Monkey\"']"
      ]
    },
    {
      "cell_type": "code",
      "execution_count": 49,
      "metadata": {
        "id": "_ERKkLLc1prR",
        "outputId": "864c41a8-ea56-475f-dbaa-e998d5935cd3",
        "colab": {
          "base_uri": "https://localhost:8080/"
        }
      },
      "outputs": [
        {
          "output_type": "execute_result",
          "data": {
            "text/plain": [
              "['29 November 2019',\n",
              " '6 January 2017',\n",
              " '8 November 2018',\n",
              " '18 October 2018',\n",
              " '10 May 2019']"
            ]
          },
          "metadata": {},
          "execution_count": 49
        }
      ],
      "source": [
        "values_of(top_songs, 'Release date')[:5]\n",
        "\n",
        "# ['29 November 2019',\n",
        "#  '6 January 2017',\n",
        "#  '8 November 2018',\n",
        "#  '18 October 2018',\n",
        "#  '10 May 2019']\n"
      ]
    },
    {
      "cell_type": "markdown",
      "metadata": {
        "id": "-9esSH271prR"
      },
      "source": [
        "### Summary"
      ]
    },
    {
      "cell_type": "markdown",
      "metadata": {
        "id": "oDSJwvSf1prV"
      },
      "source": [
        "In this lesson we saw how we can use functions to both automate procedures and to make our code more flexible.  For example, it now only takes a call to our `scrape_songs` function for us to gather our data from Wikipedia and transform it to a list of dictionaries.  And with our `values_of` function we decide when we call the function which value from the data we wish to abstract."
      ]
    }
  ],
  "metadata": {
    "kernelspec": {
      "display_name": "Python 3 (ipykernel)",
      "language": "python",
      "name": "python3"
    },
    "language_info": {
      "codemirror_mode": {
        "name": "ipython",
        "version": 3
      },
      "file_extension": ".py",
      "mimetype": "text/x-python",
      "name": "python",
      "nbconvert_exporter": "python",
      "pygments_lexer": "ipython3",
      "version": "3.9.12"
    },
    "colab": {
      "provenance": []
    }
  },
  "nbformat": 4,
  "nbformat_minor": 0
}