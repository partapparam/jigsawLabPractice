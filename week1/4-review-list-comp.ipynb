{
  "cells": [
    {
      "cell_type": "markdown",
      "metadata": {
        "id": "4WicNLBk76cy"
      },
      "source": [
        "# Reviewing List Comprehensions"
      ]
    },
    {
      "cell_type": "markdown",
      "metadata": {
        "id": "LnG2Ja0376c0"
      },
      "source": [
        "### Introduction"
      ]
    },
    {
      "cell_type": "markdown",
      "metadata": {
        "id": "nA-vWSdW7st2"
      },
      "source": [
        "In this lesson, we'll review list comprehensions.  Let's work with the movies dataset to do so."
      ]
    },
    {
      "cell_type": "markdown",
      "metadata": {
        "id": "6g26xKpf76c1"
      },
      "source": [
        "### Loading the data"
      ]
    },
    {
      "cell_type": "code",
      "execution_count": 2,
      "metadata": {
        "id": "2RdWjad07st4"
      },
      "outputs": [],
      "source": [
        "import pandas as pd\n",
        "movies_df = pd.read_csv(\"https://raw.githubusercontent.com/jigsawlabs-student/tech-interview/main/movies.csv\")\n",
        "\n",
        "movies = movies_df.to_dict('records')"
      ]
    },
    {
      "cell_type": "markdown",
      "metadata": {
        "id": "hQWcxEpR7st6"
      },
      "source": [
        "And now let's look at our data."
      ]
    },
    {
      "cell_type": "code",
      "execution_count": 3,
      "metadata": {
        "id": "wkktCe867st6",
        "outputId": "6c12fc4d-0010-4ad3-b6bd-ac984bd5801e",
        "colab": {
          "base_uri": "https://localhost:8080/"
        }
      },
      "outputs": [
        {
          "output_type": "execute_result",
          "data": {
            "text/plain": [
              "[{'title': 'Oliver Twist',\n",
              "  'genre': 'Crime',\n",
              "  'budget': 50000000,\n",
              "  'runtime': 130.0,\n",
              "  'year': 2005,\n",
              "  'month': 9,\n",
              "  'revenue': 42093706}]"
            ]
          },
          "metadata": {},
          "execution_count": 3
        }
      ],
      "source": [
        "movies[:1]"
      ]
    },
    {
      "cell_type": "markdown",
      "metadata": {
        "id": "IIkeDQvR7st7"
      },
      "source": [
        "Ok, so movies is a list of dictionaries with attributes describing each movie."
      ]
    },
    {
      "cell_type": "markdown",
      "metadata": {
        "id": "upXAqxrT7st8"
      },
      "source": [
        "### Loops to List Comprehension"
      ]
    },
    {
      "cell_type": "markdown",
      "metadata": {
        "id": "9KaAfku37st8"
      },
      "source": [
        "Now, as we know we can select attributes from our list of dictionaries with something like the following:\n",
        "\n",
        "> Below we select each movie's title."
      ]
    },
    {
      "cell_type": "code",
      "execution_count": 4,
      "metadata": {
        "id": "RKo-xjJo7st8",
        "outputId": "f04215c8-7065-40d3-90ac-95d76ae58d12",
        "colab": {
          "base_uri": "https://localhost:8080/"
        }
      },
      "outputs": [
        {
          "output_type": "execute_result",
          "data": {
            "text/plain": [
              "['Oliver Twist', 'X-Men: Apocalypse', 'Man on the Moon']"
            ]
          },
          "metadata": {},
          "execution_count": 4
        }
      ],
      "source": [
        "titles = []\n",
        "# block variable, input_list\n",
        "for movie in movies:\n",
        "    title = movie['title'] # each_output\n",
        "    titles.append(title)\n",
        "titles[:3]"
      ]
    },
    {
      "cell_type": "markdown",
      "metadata": {
        "id": "YqF45DHs7st8"
      },
      "source": [
        "And now if we move to using list comprehension, we can do the following:"
      ]
    },
    {
      "cell_type": "code",
      "execution_count": 5,
      "metadata": {
        "id": "eXiCiq5r7st9",
        "outputId": "e4aee080-8484-4573-f98b-1ea6edcfc304",
        "colab": {
          "base_uri": "https://localhost:8080/"
        }
      },
      "outputs": [
        {
          "output_type": "execute_result",
          "data": {
            "text/plain": [
              "['Oliver Twist', 'X-Men: Apocalypse', 'Man on the Moon', 'The Tree of Life']"
            ]
          },
          "metadata": {},
          "execution_count": 5
        }
      ],
      "source": [
        "titles = [movie['title'] for movie in movies]\n",
        "### each_output    block_var, input_list\n",
        "\n",
        "titles[:4]"
      ]
    },
    {
      "cell_type": "markdown",
      "metadata": {
        "id": "ABx8mjsz7st9"
      },
      "source": [
        "So this is very useful, because we can mainly look at the very beginning of the list comprehension to see the logic of our for loop."
      ]
    },
    {
      "cell_type": "markdown",
      "metadata": {
        "id": "Q8u3s-Nz7st9"
      },
      "source": [
        "> Tip: when writing the list comprehension, it's often easier if you write out the logic at the end.\n",
        "\n",
        "For example, below see how we select the revenue of each movie."
      ]
    },
    {
      "cell_type": "code",
      "execution_count": 6,
      "metadata": {
        "id": "bbtrJ6cG7st9"
      },
      "outputs": [],
      "source": [
        "# 1. write the loop component\n",
        "# revenues = [... for movie in movies]\n",
        "\n",
        "# 2. And then fill in the logic\n",
        "# revenues = [movie['revenue'] for movie in movies]"
      ]
    },
    {
      "cell_type": "markdown",
      "metadata": {
        "id": "Sh0PesQ27st9"
      },
      "source": [
        "Now it's your turn.  "
      ]
    },
    {
      "cell_type": "markdown",
      "metadata": {
        "id": "eQ9bI7sT7st9"
      },
      "source": [
        "Use a list comprehension to coerce our data.  Some of our titles are a mix of uppercase and lowercase values.  Below, use a list comprehension to `title` each of the movies."
      ]
    },
    {
      "cell_type": "code",
      "execution_count": 9,
      "metadata": {
        "id": "UBVJ4UmE7st9",
        "outputId": "ce35cee2-0bde-4e7c-a8d8-80194203609e",
        "colab": {
          "base_uri": "https://localhost:8080/"
        }
      },
      "outputs": [
        {
          "output_type": "execute_result",
          "data": {
            "text/plain": [
              "['Oliver Twist', 'X-Men: Apocalypse', 'Man on the Moon', 'The Tree of Life']"
            ]
          },
          "metadata": {},
          "execution_count": 9
        }
      ],
      "source": [
        "upper_titles = [movie['title'] for movie in movies]\n",
        "\n",
        "upper_titles[:4]\n",
        "\n",
        "# ['Oliver Twist', 'X-Men: Apocalypse', 'Man On The Moon', 'The Tree Of Life']"
      ]
    },
    {
      "cell_type": "markdown",
      "metadata": {
        "id": "QsegczFZ7st-"
      },
      "source": [
        "When performing a list comprehension, it's still useful to try implementing the logic for a single record before performing for all of the records.\n",
        "\n",
        "For example, let's say that we want to change the movie data to round to the nearest thousand.  We can first try to accomplish it for one movie."
      ]
    },
    {
      "cell_type": "code",
      "execution_count": 10,
      "metadata": {
        "id": "SONC3Sp-7st-",
        "outputId": "700f7571-c77d-4234-d366-22b6d40f6555",
        "colab": {
          "base_uri": "https://localhost:8080/"
        }
      },
      "outputs": [
        {
          "output_type": "execute_result",
          "data": {
            "text/plain": [
              "543934787"
            ]
          },
          "metadata": {},
          "execution_count": 10
        }
      ],
      "source": [
        "first_movie = movies[1]\n",
        "first_movie['revenue']"
      ]
    },
    {
      "cell_type": "code",
      "execution_count": 11,
      "metadata": {
        "id": "quyXd51_7st-",
        "outputId": "db915cad-fc2a-4f6c-b807-48aca6eacee1",
        "colab": {
          "base_uri": "https://localhost:8080/"
        }
      },
      "outputs": [
        {
          "output_type": "execute_result",
          "data": {
            "text/plain": [
              "543934.787"
            ]
          },
          "metadata": {},
          "execution_count": 11
        }
      ],
      "source": [
        "first_movie = movies[1]\n",
        "\n",
        "first_movie['revenue']/1000 # divide by 1000"
      ]
    },
    {
      "cell_type": "markdown",
      "metadata": {
        "id": "McsxMh0s7st-"
      },
      "source": [
        "* Round to zero decimals"
      ]
    },
    {
      "cell_type": "code",
      "execution_count": 12,
      "metadata": {
        "id": "B2zhGnSX7st-",
        "outputId": "0269035b-ed61-455c-b2b3-3984bffcb5cc",
        "colab": {
          "base_uri": "https://localhost:8080/"
        }
      },
      "outputs": [
        {
          "output_type": "execute_result",
          "data": {
            "text/plain": [
              "543935.0"
            ]
          },
          "metadata": {},
          "execution_count": 12
        }
      ],
      "source": [
        "round(first_movie['revenue']/1000, 0)"
      ]
    },
    {
      "cell_type": "markdown",
      "metadata": {
        "id": "2Difty-G7st_"
      },
      "source": [
        "* And then multiply back by 1000, and coerce to an integer"
      ]
    },
    {
      "cell_type": "code",
      "execution_count": 13,
      "metadata": {
        "id": "BrtZCBHP7st_",
        "outputId": "b60bd546-384e-4184-acfe-672dd7245d11",
        "colab": {
          "base_uri": "https://localhost:8080/"
        }
      },
      "outputs": [
        {
          "output_type": "execute_result",
          "data": {
            "text/plain": [
              "543935000"
            ]
          },
          "metadata": {},
          "execution_count": 13
        }
      ],
      "source": [
        "int(round(first_movie['revenue']/1000, 0)*1000)\n",
        "\n",
        "# previously was 543934787, and now is 543935000"
      ]
    },
    {
      "cell_type": "markdown",
      "metadata": {
        "id": "M8bJznwU7st_"
      },
      "source": [
        "Ok, so now below, return a list of all of our movie revenue, rounded to the nearest thousand."
      ]
    },
    {
      "cell_type": "code",
      "execution_count": 14,
      "metadata": {
        "id": "x8m5ZbWh7st_",
        "outputId": "24889912-0f25-484e-faa0-3531b8dbc088",
        "colab": {
          "base_uri": "https://localhost:8080/"
        }
      },
      "outputs": [
        {
          "output_type": "execute_result",
          "data": {
            "text/plain": [
              "[42094000, 543935000, 47434000, 54674000, 527069000]"
            ]
          },
          "metadata": {},
          "execution_count": 14
        }
      ],
      "source": [
        "rounded_revenues = [int(round(movie['revenue']/1000, 0)*1000) for movie in movies]\n",
        "rounded_revenues[:5]\n",
        "\n",
        "# [42094000, 543935000, 47434000, 54674000, 527069000]"
      ]
    },
    {
      "cell_type": "markdown",
      "metadata": {
        "id": "q-mTwBLW7st_"
      },
      "source": [
        "> Note that these operations do not change the original data, but rather return a new list of data.  Our revenues in the dictionary are unchanged."
      ]
    },
    {
      "cell_type": "code",
      "execution_count": 15,
      "metadata": {
        "id": "dSptR0AJ7suA",
        "outputId": "9158ef7c-5dca-400f-a07a-d48eadca76a8",
        "colab": {
          "base_uri": "https://localhost:8080/"
        }
      },
      "outputs": [
        {
          "output_type": "execute_result",
          "data": {
            "text/plain": [
              "42093706"
            ]
          },
          "metadata": {},
          "execution_count": 15
        }
      ],
      "source": [
        "# original unrounded revenue is still there\n",
        "movies[0]['revenue']"
      ]
    },
    {
      "cell_type": "markdown",
      "metadata": {
        "id": "Iyq3v_tr7suA"
      },
      "source": [
        "### Filtering with List Comprehensions"
      ]
    },
    {
      "cell_type": "markdown",
      "metadata": {
        "id": "4pccF_6w7suA"
      },
      "source": [
        "Now another thing we can do with list comprehension is to add an if statement.  Let's see how we can do this.\n",
        "\n",
        "Below let's only select the movies from the year 2000."
      ]
    },
    {
      "cell_type": "code",
      "execution_count": 16,
      "metadata": {
        "id": "XaMuz8y_7suB",
        "outputId": "5c2b2977-d897-4438-cc89-acec909e94c9",
        "colab": {
          "base_uri": "https://localhost:8080/"
        }
      },
      "outputs": [
        {
          "output_type": "execute_result",
          "data": {
            "text/plain": [
              "[{'title': 'X-Men',\n",
              "  'genre': 'Adventure',\n",
              "  'budget': 75000000,\n",
              "  'runtime': 104.0,\n",
              "  'year': 2000,\n",
              "  'month': 7,\n",
              "  'revenue': 296339527}]"
            ]
          },
          "metadata": {},
          "execution_count": 16
        }
      ],
      "source": [
        "movies_2000 = [movie for movie in movies if movie['year'] == 2000]\n",
        "\n",
        "movies_2000[:1]"
      ]
    },
    {
      "cell_type": "markdown",
      "metadata": {
        "id": "h3SEWD9T7suB"
      },
      "source": [
        "Let's see make sure that we understand the format."
      ]
    },
    {
      "cell_type": "code",
      "execution_count": 17,
      "metadata": {
        "id": "R6Jj-DoR7suB"
      },
      "outputs": [],
      "source": [
        "#              return_val, for loop,         if condition\n",
        "movies_2000 = [movie for movie in movies if movie['year'] == 2000]"
      ]
    },
    {
      "cell_type": "markdown",
      "metadata": {
        "id": "c0-L6gLl7suC"
      },
      "source": [
        "Again, we can write this out, working on the easier components to the more difficult components."
      ]
    },
    {
      "cell_type": "code",
      "execution_count": 18,
      "metadata": {
        "id": "JBGMxct_7suC"
      },
      "outputs": [],
      "source": [
        "# 1. For loop\n",
        "# movies_2000 = [ ...for movie in movies ...]\n",
        "\n",
        "# 2. if statement\n",
        "# movies_2000 = [movie for movie in movies if movie['year'] == 2000]\n",
        "\n",
        "# 3. update return value\n",
        "# movies_2000 = [movie['title'] for movie in movies if movie['year'] == 2000]"
      ]
    },
    {
      "cell_type": "markdown",
      "metadata": {
        "id": "WK69N9uP7suC"
      },
      "source": [
        "Now it's your turn.  Write out a list comprehension that selects the movies that have a runtime less than 80 minutes."
      ]
    },
    {
      "cell_type": "code",
      "execution_count": 19,
      "metadata": {
        "id": "N6lqwQdr7suD",
        "outputId": "3088d804-cf78-4078-885f-91c7d620bd98",
        "colab": {
          "base_uri": "https://localhost:8080/"
        }
      },
      "outputs": [
        {
          "output_type": "execute_result",
          "data": {
            "text/plain": [
              "[{'title': 'Winnie the Pooh',\n",
              "  'genre': 'Animation',\n",
              "  'budget': 30000000,\n",
              "  'runtime': 63.0,\n",
              "  'year': 2011,\n",
              "  'month': 4,\n",
              "  'revenue': 14460000}]"
            ]
          },
          "metadata": {},
          "execution_count": 19
        }
      ],
      "source": [
        "short_movies = [movie for movie in movies if movie['runtime'] < 80]\n",
        "short_movies[:1]"
      ]
    },
    {
      "cell_type": "markdown",
      "metadata": {
        "id": "0lMHL5tr7suJ"
      },
      "source": [
        "Finally, let's alter the return value as well.  This time, we'll just return the title of movies that are less than 80 minutes."
      ]
    },
    {
      "cell_type": "code",
      "execution_count": 20,
      "metadata": {
        "id": "f_5IPFlr7suJ",
        "outputId": "6f9266a2-3ee9-4f28-d749-62ec963411f7",
        "colab": {
          "base_uri": "https://localhost:8080/"
        }
      },
      "outputs": [
        {
          "output_type": "execute_result",
          "data": {
            "text/plain": [
              "['Winnie the Pooh', 'Fantasia 2000', 'The Thief and the Cobbler']"
            ]
          },
          "metadata": {},
          "execution_count": 20
        }
      ],
      "source": [
        "short_movie_titles = [movie['title'] for movie in movies if movie['runtime'] < 80]\n",
        "short_movie_titles[:3]"
      ]
    },
    {
      "cell_type": "markdown",
      "metadata": {
        "id": "urxrr2-f7suL"
      },
      "source": [
        "> So as you can see, we just had to update the code in the very beginning of our list comprehension."
      ]
    },
    {
      "cell_type": "markdown",
      "metadata": {
        "id": "dYgLXhln7suL"
      },
      "source": [
        "### A Challenge"
      ]
    },
    {
      "cell_type": "markdown",
      "metadata": {
        "id": "ZuqI-YSH7suM"
      },
      "source": [
        "Now let's try to select the genre of all of our movies and make sure they are `title`ized."
      ]
    },
    {
      "cell_type": "code",
      "execution_count": 21,
      "metadata": {
        "id": "qfI_GwoN7suM",
        "outputId": "584b3129-edc8-4373-c44d-1525076452bf",
        "colab": {
          "base_uri": "https://localhost:8080/",
          "height": 35
        }
      },
      "outputs": [
        {
          "output_type": "execute_result",
          "data": {
            "text/plain": [
              "'Crime'"
            ],
            "application/vnd.google.colaboratory.intrinsic+json": {
              "type": "string"
            }
          },
          "metadata": {},
          "execution_count": 21
        }
      ],
      "source": [
        "movies[0]['genre']"
      ]
    },
    {
      "cell_type": "markdown",
      "metadata": {
        "id": "v3cq8kG37suN"
      },
      "source": [
        "> Uh oh."
      ]
    },
    {
      "cell_type": "code",
      "execution_count": 22,
      "metadata": {
        "id": "OHFq4Rlu7suN",
        "outputId": "b66f7120-a44f-4894-cf43-f43202363d59",
        "colab": {
          "base_uri": "https://localhost:8080/",
          "height": 228
        }
      },
      "outputs": [
        {
          "output_type": "error",
          "ename": "AttributeError",
          "evalue": "ignored",
          "traceback": [
            "\u001b[0;31m---------------------------------------------------------------------------\u001b[0m",
            "\u001b[0;31mAttributeError\u001b[0m                            Traceback (most recent call last)",
            "\u001b[0;32m<ipython-input-22-7fc55519640c>\u001b[0m in \u001b[0;36m<cell line: 1>\u001b[0;34m()\u001b[0m\n\u001b[0;32m----> 1\u001b[0;31m \u001b[0;34m[\u001b[0m\u001b[0mmovie\u001b[0m\u001b[0;34m[\u001b[0m\u001b[0;34m'genre'\u001b[0m\u001b[0;34m]\u001b[0m\u001b[0;34m.\u001b[0m\u001b[0mtitle\u001b[0m\u001b[0;34m(\u001b[0m\u001b[0;34m)\u001b[0m \u001b[0;32mfor\u001b[0m \u001b[0mmovie\u001b[0m \u001b[0;32min\u001b[0m \u001b[0mmovies\u001b[0m\u001b[0;34m]\u001b[0m\u001b[0;34m\u001b[0m\u001b[0;34m\u001b[0m\u001b[0m\n\u001b[0m",
            "\u001b[0;32m<ipython-input-22-7fc55519640c>\u001b[0m in \u001b[0;36m<listcomp>\u001b[0;34m(.0)\u001b[0m\n\u001b[0;32m----> 1\u001b[0;31m \u001b[0;34m[\u001b[0m\u001b[0mmovie\u001b[0m\u001b[0;34m[\u001b[0m\u001b[0;34m'genre'\u001b[0m\u001b[0;34m]\u001b[0m\u001b[0;34m.\u001b[0m\u001b[0mtitle\u001b[0m\u001b[0;34m(\u001b[0m\u001b[0;34m)\u001b[0m \u001b[0;32mfor\u001b[0m \u001b[0mmovie\u001b[0m \u001b[0;32min\u001b[0m \u001b[0mmovies\u001b[0m\u001b[0;34m]\u001b[0m\u001b[0;34m\u001b[0m\u001b[0;34m\u001b[0m\u001b[0m\n\u001b[0m",
            "\u001b[0;31mAttributeError\u001b[0m: 'float' object has no attribute 'title'"
          ]
        }
      ],
      "source": [
        "[movie['genre'].title() for movie in movies]"
      ]
    },
    {
      "cell_type": "markdown",
      "metadata": {
        "id": "0rWlCfk17suO"
      },
      "source": [
        "Ok, so we see an error message -- saying the `float` object has no attribute capitalize.  The real problem is that apparently we are working with a float, where we thought we were working with a string.\n",
        "\n",
        "And this is likely because, somewhere in our list of dictionaries, genre is a float -- perhaps a `nan` (not a number)  value."
      ]
    },
    {
      "cell_type": "markdown",
      "metadata": {
        "id": "QzjMcdLR7suO"
      },
      "source": [
        "Ok, so we can work around this by adding an if condition to only call capitalize where the genre is of type string.  Try to do this with a list comprehension below."
      ]
    },
    {
      "cell_type": "code",
      "execution_count": 23,
      "metadata": {
        "id": "SI6eaJDN7suO",
        "outputId": "7033b676-0739-441b-b54b-efda3672d3bd",
        "colab": {
          "base_uri": "https://localhost:8080/"
        }
      },
      "outputs": [
        {
          "output_type": "execute_result",
          "data": {
            "text/plain": [
              "['Crime', 'Science Fiction', 'Comedy']"
            ]
          },
          "metadata": {},
          "execution_count": 23
        }
      ],
      "source": [
        "\n",
        "cap_movies = [movie['genre'].title() for movie in movies if type(movie['genre']) != float]\n",
        "cap_movies[:3]"
      ]
    },
    {
      "cell_type": "markdown",
      "metadata": {
        "id": "isUJDQc_7suO"
      },
      "source": [
        "### Summary"
      ]
    },
    {
      "cell_type": "markdown",
      "metadata": {
        "id": "7Q89rN5d7suO"
      },
      "source": [
        "In this lesson, we saw how to use list comprehensions to coerce our data."
      ]
    },
    {
      "cell_type": "code",
      "execution_count": 24,
      "metadata": {
        "id": "9Q3cPWy47suO",
        "outputId": "4396cacc-543b-4f9d-81d2-850d587d28f1",
        "colab": {
          "base_uri": "https://localhost:8080/"
        }
      },
      "outputs": [
        {
          "output_type": "execute_result",
          "data": {
            "text/plain": [
              "['Oliver Twist', 'X-Men: Apocalypse', 'Man on the Moon']"
            ]
          },
          "metadata": {},
          "execution_count": 24
        }
      ],
      "source": [
        "titles = [movie['title'] for movie in movies]\n",
        "titles[:3]"
      ]
    },
    {
      "cell_type": "markdown",
      "metadata": {
        "id": "lbAHFrJp7suP"
      },
      "source": [
        "For example, above we start with a list of dictionaries, and then use a list of dictionaries to coerce our data to a string."
      ]
    },
    {
      "cell_type": "markdown",
      "metadata": {
        "id": "lymA3mBz7suP"
      },
      "source": [
        "We then saw how we can add an if statement to filter from our list."
      ]
    },
    {
      "cell_type": "code",
      "execution_count": 25,
      "metadata": {
        "id": "L8hMPNWk7suP",
        "outputId": "0fd8ecaa-1724-4a2f-fef4-fc6f5ee08a25",
        "colab": {
          "base_uri": "https://localhost:8080/"
        }
      },
      "outputs": [
        {
          "output_type": "execute_result",
          "data": {
            "text/plain": [
              "['Winnie the Pooh', 'Fantasia 2000', 'The Thief and the Cobbler']"
            ]
          },
          "metadata": {},
          "execution_count": 25
        }
      ],
      "source": [
        "# \\ used to split statement into multiple lines\n",
        "short_movie_titles = [movie['title'] for movie in movies \\\n",
        "                      if movie['runtime'] < 80]\n",
        "short_movie_titles[:3]"
      ]
    }
  ],
  "metadata": {
    "colab": {
      "provenance": []
    },
    "kernelspec": {
      "display_name": "Python 3 (ipykernel)",
      "language": "python",
      "name": "python3"
    },
    "language_info": {
      "codemirror_mode": {
        "name": "ipython",
        "version": 3
      },
      "file_extension": ".py",
      "mimetype": "text/x-python",
      "name": "python",
      "nbconvert_exporter": "python",
      "pygments_lexer": "ipython3",
      "version": "3.11.5"
    }
  },
  "nbformat": 4,
  "nbformat_minor": 0
}