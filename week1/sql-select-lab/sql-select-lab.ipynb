{
  "cells": [
    {
      "cell_type": "markdown",
      "metadata": {
        "id": "GBN2KrNwhQO3"
      },
      "source": [
        "# Select SQL Lab"
      ]
    },
    {
      "cell_type": "markdown",
      "metadata": {
        "id": "5e8wYjXVhQPC"
      },
      "source": [
        "### Introduction\n",
        "We've learned all the basics about setting up our SQL database, creating tables, and inserting data. In this lab we will practice querying the data from our salad shop database using `SELECT` statements."
      ]
    },
    {
      "cell_type": "markdown",
      "metadata": {
        "id": "QEFq6FMdhQPD"
      },
      "source": [
        "### Loading the Data"
      ]
    },
    {
      "cell_type": "code",
      "execution_count": 20,
      "metadata": {
        "id": "9fBmj54ahQPD",
        "outputId": "be0ab3b0-6853-4876-e17b-105dc125a928",
        "colab": {
          "base_uri": "https://localhost:8080/"
        }
      },
      "outputs": [
        {
          "output_type": "execute_result",
          "data": {
            "text/plain": [
              "Index(['id', 'name', 'position', 'start_date', 'zip_code', 'phone_number'], dtype='object')"
            ]
          },
          "metadata": {},
          "execution_count": 20
        }
      ],
      "source": [
        "import sqlite3\n",
        "import pandas as pd\n",
        "\n",
        "\n",
        "conn = sqlite3.connect('./grocery.db')\n",
        "cursor = conn.cursor()\n",
        "\n",
        "employees_url = \"https://raw.githubusercontent.com/eng-6-22/mod-1-sql-curriculum/master/sql-select-lab/data/employees.csv\"\n",
        "ingredients_url = \"https://raw.githubusercontent.com/eng-6-22/mod-1-sql-curriculum/master/sql-select-lab/data/ingredients.csv\"\n",
        "ingredients_df = pd.read_csv(ingredients_url)\n",
        "employees_df = pd.read_csv(employees_url)\n",
        "ingredients_df.to_sql('ingredients', conn,\n",
        "                  index = False, if_exists = 'replace')\n",
        "employees_df.to_sql('employees', conn, index = False,\n",
        "        if_exists = 'replace')\n",
        "employees_df.columns"
      ]
    },
    {
      "cell_type": "code",
      "source": [
        "ingredients_df.columns"
      ],
      "metadata": {
        "id": "mfyjSGt_i7QS",
        "outputId": "1cd9b7b6-257b-478f-bc4b-ae873fe596a2",
        "colab": {
          "base_uri": "https://localhost:8080/"
        }
      },
      "execution_count": 21,
      "outputs": [
        {
          "output_type": "execute_result",
          "data": {
            "text/plain": [
              "Index(['id', 'name', 'cost_per_ounce', 'calories_per_ounce', 'expiration'], dtype='object')"
            ]
          },
          "metadata": {},
          "execution_count": 21
        }
      ]
    },
    {
      "cell_type": "markdown",
      "metadata": {
        "id": "c5GAvLJ4hQPJ"
      },
      "source": [
        "### Selecting data\n",
        "Our database is now ready for querying. We will use the python library `sqlite3` for running our SELECT statements.\n",
        "So to begin, let's select select the employees.\n",
        "\n",
        "Fill in the appropriate SQL statements inside of each function.\n",
        "\n",
        "> We'll help you get started with the first one."
      ]
    },
    {
      "cell_type": "code",
      "execution_count": 2,
      "metadata": {
        "id": "avuE4_v6hQPK",
        "outputId": "03acd6d0-f231-4b2d-d03e-b81af0836f9f",
        "colab": {
          "base_uri": "https://localhost:8080/"
        }
      },
      "outputs": [
        {
          "output_type": "execute_result",
          "data": {
            "text/plain": [
              "[(1, 'Tom', 'manager', '2019-05-20', 10001, '212-438-3984'),\n",
              " (2, 'Alison', 'salad maker', '2020-01-04', 10023, '212-329-2489'),\n",
              " (3, 'Jerry', 'delivery driver', '2019-12-15', 10001, '212-219-1029'),\n",
              " (4, 'Brian', 'salad maker', '2019-12-04', 10002, '646-328-2309'),\n",
              " (5, 'Vanessa', 'clerk', '2019-11-14', 11201, '718-348-2348'),\n",
              " (6, 'Cindy', 'assistant manager', '2019-11-12', 10002, '212-300-1203'),\n",
              " (7, 'Charles', 'delivery driver', '2020-01-02', 10003, '212-993-2348'),\n",
              " (8, 'Alex', 'assistant manager', '2019-06-11', 10001, '718-293-1823'),\n",
              " (9, 'Naomi', 'manager', '2019-02-12', 10002, '212-493-2922'),\n",
              " (10, 'Isabel', 'salad maker', '2020-01-04', 10001, '212-390-9122'),\n",
              " (11, 'James', 'clerk', '2020-01-10', 10023, '718-645-2929'),\n",
              " (12, 'Max', 'salad maker', '2019-10-03', 10002, '212-555-2911')]"
            ]
          },
          "metadata": {},
          "execution_count": 2
        }
      ],
      "source": [
        "# cursor = conn.cursor()\n",
        "# cursor.execute('select * from employees;')\n",
        "# cursor.fetchall()"
      ]
    },
    {
      "cell_type": "code",
      "execution_count": 5,
      "metadata": {
        "id": "frBM_Mf8hQPM"
      },
      "outputs": [],
      "source": [
        "def all_employees():\n",
        "  cursor.execute('select * from employees;')\n",
        "  return cursor.fetchall()\n"
      ]
    },
    {
      "cell_type": "code",
      "execution_count": 6,
      "metadata": {
        "id": "hapEBeH-hQPN",
        "outputId": "93a943bf-c8fe-4afa-bedc-05112c32d296",
        "colab": {
          "base_uri": "https://localhost:8080/"
        }
      },
      "outputs": [
        {
          "output_type": "execute_result",
          "data": {
            "text/plain": [
              "True"
            ]
          },
          "metadata": {},
          "execution_count": 6
        }
      ],
      "source": [
        "len(all_employees()) == 12"
      ]
    },
    {
      "cell_type": "code",
      "execution_count": 7,
      "metadata": {
        "id": "pMcvSAWkhQPO"
      },
      "outputs": [],
      "source": [
        "def all_ingredients():\n",
        "    cursor.execute('select * from ingredients')\n",
        "    return cursor.fetchall()"
      ]
    },
    {
      "cell_type": "code",
      "execution_count": 8,
      "metadata": {
        "id": "zOBVGyuShQPO",
        "outputId": "039ca59f-6eb3-461a-81b3-dba9065d3223",
        "colab": {
          "base_uri": "https://localhost:8080/"
        }
      },
      "outputs": [
        {
          "output_type": "execute_result",
          "data": {
            "text/plain": [
              "True"
            ]
          },
          "metadata": {},
          "execution_count": 8
        }
      ],
      "source": [
        "len(all_ingredients()) == 20"
      ]
    },
    {
      "cell_type": "code",
      "execution_count": 9,
      "metadata": {
        "id": "iubkhzRxhQPP"
      },
      "outputs": [],
      "source": [
        "def all_ingredient_names():\n",
        "    cursor.execute('select name from ingredients')\n",
        "    return cursor.fetchall()"
      ]
    },
    {
      "cell_type": "code",
      "execution_count": 10,
      "metadata": {
        "id": "AinXjQYVhQPP",
        "outputId": "2e1fc938-adc6-422d-a0b5-598e234760cb",
        "colab": {
          "base_uri": "https://localhost:8080/"
        }
      },
      "outputs": [
        {
          "output_type": "execute_result",
          "data": {
            "text/plain": [
              "True"
            ]
          },
          "metadata": {},
          "execution_count": 10
        }
      ],
      "source": [
        "len(all_ingredient_names()) == 20"
      ]
    },
    {
      "cell_type": "code",
      "execution_count": 15,
      "metadata": {
        "id": "W8Z-8QwshQPP"
      },
      "outputs": [],
      "source": [
        "def all_employee_start_dates():\n",
        "    cursor.execute('select start_date from employees')\n",
        "    return cursor.fetchall()"
      ]
    },
    {
      "cell_type": "code",
      "source": [],
      "metadata": {
        "id": "fLpD8QqXiQqw"
      },
      "execution_count": null,
      "outputs": []
    },
    {
      "cell_type": "code",
      "execution_count": 16,
      "metadata": {
        "id": "WbCma6j0hQPQ",
        "outputId": "96b79968-9f37-4b91-c2a6-8c939518e8f4",
        "colab": {
          "base_uri": "https://localhost:8080/"
        }
      },
      "outputs": [
        {
          "output_type": "execute_result",
          "data": {
            "text/plain": [
              "True"
            ]
          },
          "metadata": {},
          "execution_count": 16
        }
      ],
      "source": [
        "len(all_employee_start_dates()) == 12"
      ]
    },
    {
      "cell_type": "markdown",
      "metadata": {
        "id": "Qx_O-mCfhQPQ"
      },
      "source": [
        "### Select Practice"
      ]
    },
    {
      "cell_type": "markdown",
      "metadata": {
        "id": "5OIKgm2whQPQ"
      },
      "source": [
        "In the following exercises, answer the question by creating a sql select statement that will provide us with the solution. After reading each question, first create a sql statement, the run it using the cursor object to find the answer.\n",
        "\n",
        "> HINT: use the WHERE clause and boolean logic to filter the data within the select statement.\n"
      ]
    },
    {
      "cell_type": "markdown",
      "metadata": {
        "id": "NWPyHMmjhQPQ"
      },
      "source": [
        "Here's an example:\n",
        "What ingredients cost less than $1/oz?"
      ]
    },
    {
      "cell_type": "code",
      "execution_count": null,
      "metadata": {
        "id": "CTS4f8g5hQPR"
      },
      "outputs": [],
      "source": [
        "#statement = '''SELECT * FROM ingredients WHERE cost_per_ounce < 1.0'''\n",
        "#cursor.execute(statement)\n",
        "#cursor.fetchall()"
      ]
    },
    {
      "cell_type": "code",
      "execution_count": 24,
      "metadata": {
        "id": "72zv6guhhQPR"
      },
      "outputs": [],
      "source": [
        "def cheaper_ingredients():\n",
        "    statement = \"\"\"SELECT * FROM ingredients WHERE cost_per_ounce < 1.0\"\"\"\n",
        "    cursor.execute(statement)\n",
        "    return cursor.fetchall()"
      ]
    },
    {
      "cell_type": "markdown",
      "metadata": {
        "id": "ATYh22VAhQPR"
      },
      "source": [
        "What date did the employee Naomi begin working?"
      ]
    },
    {
      "cell_type": "code",
      "execution_count": 25,
      "metadata": {
        "id": "EJtN77rqhQPR"
      },
      "outputs": [],
      "source": [
        "def naomi_start_date():\n",
        "    statement = \"\"\"SELECT start_date FROM employees WHERE name = 'Naomi'\"\"\"\n",
        "    cursor.execute(statement)\n",
        "    return cursor.fetchall()"
      ]
    },
    {
      "cell_type": "code",
      "execution_count": 26,
      "metadata": {
        "id": "NSJCdBYchQPR",
        "outputId": "3789d36f-17a4-485f-c214-23179611eeb0",
        "colab": {
          "base_uri": "https://localhost:8080/"
        }
      },
      "outputs": [
        {
          "output_type": "execute_result",
          "data": {
            "text/plain": [
              "True"
            ]
          },
          "metadata": {},
          "execution_count": 26
        }
      ],
      "source": [
        "naomi_start_date() == [('2019-02-12',)]"
      ]
    },
    {
      "cell_type": "markdown",
      "metadata": {
        "id": "akIO6vDehQPS"
      },
      "source": [
        "Which ingredients expire after February 3rd 2020?"
      ]
    },
    {
      "cell_type": "code",
      "execution_count": 27,
      "metadata": {
        "id": "1zlGHfIYhQPS"
      },
      "outputs": [],
      "source": [
        "def ingredients_expiring_after_feb():\n",
        "    statement = \"\"\"SELECT * FROM ingredients WHERE expiration > '2020-02-03'\"\"\"\n",
        "    cursor.execute(statement)\n",
        "    return cursor.fetchall()"
      ]
    },
    {
      "cell_type": "code",
      "execution_count": 28,
      "metadata": {
        "id": "rU2xcMcVhQPT",
        "outputId": "af6e8187-bab5-4b5d-ba07-2dbdd76652a3",
        "colab": {
          "base_uri": "https://localhost:8080/"
        }
      },
      "outputs": [
        {
          "output_type": "execute_result",
          "data": {
            "text/plain": [
              "[(1, 'baby spinach', 0.19, 7, '2020-02-05'),\n",
              " (2, 'kale', 0.5, 10, '2020-02-10'),\n",
              " (4, 'broccoli', 1.15, 45, '2020-02-10'),\n",
              " (5, 'chicken', 3.5, 90, '2020-02-07'),\n",
              " (6, 'arugula', 0.5, 20, '2020-02-10'),\n",
              " (7, 'apples', 1.2, 30, '2020-02-08'),\n",
              " (8, 'pears', 1.1, 30, '2020-02-10'),\n",
              " (9, 'corn', 1.25, 40, '2020-02-08'),\n",
              " (14, 'avocado', 2.05, 70, '2020-02-08'),\n",
              " (15, 'romaine', 0.2, 5, '2020-02-07'),\n",
              " (20, 'balsamic vinaigrette', 1.45, 40, '2020-02-07')]"
            ]
          },
          "metadata": {},
          "execution_count": 28
        }
      ],
      "source": [
        "ingredients_expiring_after_feb()"
      ]
    },
    {
      "cell_type": "markdown",
      "metadata": {
        "id": "ExcZ4VllhQPT"
      },
      "source": [
        "Which ingredients cost more than 1.00 but less than 1.50?"
      ]
    },
    {
      "cell_type": "code",
      "execution_count": 29,
      "metadata": {
        "id": "iLRiig2QhQPT"
      },
      "outputs": [],
      "source": [
        "def ingredients_middle_price():\n",
        "    statement = \"\"\"SELECT * FROM ingredients WHERE cost_per_ounce > 1.00 and cost_per_ounce < 1.50\"\"\"\n",
        "    cursor.execute(statement)\n",
        "    return cursor.fetchall()"
      ]
    },
    {
      "cell_type": "code",
      "execution_count": 30,
      "metadata": {
        "id": "Xi4XbuDfhQPT",
        "outputId": "e497fa1b-993e-42c8-932d-0e0623bec6dd",
        "colab": {
          "base_uri": "https://localhost:8080/"
        }
      },
      "outputs": [
        {
          "output_type": "execute_result",
          "data": {
            "text/plain": [
              "True"
            ]
          },
          "metadata": {},
          "execution_count": 30
        }
      ],
      "source": [
        "all([(ingredient[2] < 1.50 or ingredient[2] > 1) for ingredient in ingredients_middle_price()])"
      ]
    },
    {
      "cell_type": "markdown",
      "metadata": {
        "id": "bEAjr2AQhQPT"
      },
      "source": [
        "Which employees' home zip code is 10001 or 10002?"
      ]
    },
    {
      "cell_type": "code",
      "execution_count": 34,
      "metadata": {
        "id": "5EQy3CBNhQPT"
      },
      "outputs": [],
      "source": [
        "def employees_in_nearby_zip_code():\n",
        "    statement = \"\"\"SELECT * FROM employees WHERE zip_code = 10001 or zip_code = 10002\"\"\"\n",
        "    cursor.execute(statement)\n",
        "    return cursor.fetchall()"
      ]
    },
    {
      "cell_type": "code",
      "execution_count": 35,
      "metadata": {
        "id": "dIpuQYjahQPT",
        "outputId": "e0b20687-130e-410b-acab-8b43a3fcb02e",
        "colab": {
          "base_uri": "https://localhost:8080/"
        }
      },
      "outputs": [
        {
          "output_type": "execute_result",
          "data": {
            "text/plain": [
              "True"
            ]
          },
          "metadata": {},
          "execution_count": 35
        }
      ],
      "source": [
        "all([(employee[-2] == 10001 or employee[-2] == 10002) for employee in employees_in_nearby_zip_code()])"
      ]
    },
    {
      "cell_type": "markdown",
      "metadata": {
        "id": "oSo3LKu4hQPT"
      },
      "source": [
        "### Conclusion"
      ]
    },
    {
      "cell_type": "markdown",
      "metadata": {
        "id": "GDBoIMj4hQPT"
      },
      "source": [
        "Using the SELECT statement in sql is how we query the data in the database. We use the SELECT statement to retrieve exactly the data we are interested in analyzing. In this lab we started off with some basic SELECT commands using `SELECT *` to select everything from a table, and `SELECT column_name` to select all the data from a specific column, or columns, in a table.\n",
        "\n",
        "Most of the time however, we are going to want to add some more complex filters to our SELECT statements, so we can be more precise in the data we are querying. For example, if our employees table had a 1,000,000 rows but we only wanted to see those rows for employees that started after a certain date, we would use a filter to limit the results of a query. The `WHERE` clause is how we filter in our SELECT statements.\n",
        "\n",
        "At the end of the lab, we used the `WHERE` clause, in conjunction with boolean logic, to apply filters to the queries."
      ]
    }
  ],
  "metadata": {
    "kernelspec": {
      "display_name": "Python 3 (ipykernel)",
      "language": "python",
      "name": "python3"
    },
    "language_info": {
      "codemirror_mode": {
        "name": "ipython",
        "version": 3
      },
      "file_extension": ".py",
      "mimetype": "text/x-python",
      "name": "python",
      "nbconvert_exporter": "python",
      "pygments_lexer": "ipython3",
      "version": "3.9.10"
    },
    "colab": {
      "provenance": []
    }
  },
  "nbformat": 4,
  "nbformat_minor": 0
}