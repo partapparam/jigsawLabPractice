{
  "cells": [
    {
      "cell_type": "markdown",
      "metadata": {
        "id": "PoCH-NHwC1KD"
      },
      "source": [
        "# Seoul Bike Sharing Lab"
      ]
    },
    {
      "cell_type": "markdown",
      "metadata": {
        "id": "LX8H7SuHC1KH"
      },
      "source": [
        "### Introduction"
      ]
    },
    {
      "cell_type": "markdown",
      "metadata": {
        "id": "yDtfCcVbC1KH"
      },
      "source": [
        "Ok, so now let's return to our Seoul bike sharing lab.  Where we last left off, we explored the initial data, identifying the grain of the data, seeing if there were overlapping attributes adn then exploring the completeness and the time period that the dataset included.\n",
        "\n",
        "Let's pick that back up.  And continue to work with our data."
      ]
    },
    {
      "cell_type": "markdown",
      "metadata": {
        "id": "4KJRIJKgC1KI"
      },
      "source": [
        "### Loading our data"
      ]
    },
    {
      "cell_type": "markdown",
      "metadata": {
        "id": "xd_tXGG6C1KI"
      },
      "source": [
        "Let's read in the data"
      ]
    },
    {
      "cell_type": "code",
      "execution_count": 15,
      "metadata": {
        "id": "JVAF5CUeC1KJ",
        "outputId": "c7312112-5b85-4b11-c875-877d11990d1d",
        "colab": {
          "base_uri": "https://localhost:8080/",
          "height": 310
        }
      },
      "outputs": [
        {
          "output_type": "execute_result",
          "data": {
            "text/plain": [
              "         Date  Rented Bike Count  Hour  Temperature(°C)  Humidity(%)  \\\n",
              "0  01/12/2017                254     0             -5.2           37   \n",
              "1  01/12/2017                204     1             -5.5           38   \n",
              "2  01/12/2017                173     2             -6.0           39   \n",
              "3  01/12/2017                107     3             -6.2           40   \n",
              "4  01/12/2017                 78     4             -6.0           36   \n",
              "\n",
              "   Wind speed (m/s)  Visibility (10m)  Dew point temperature(°C)  \\\n",
              "0               2.2              2000                      -17.6   \n",
              "1               0.8              2000                      -17.6   \n",
              "2               1.0              2000                      -17.7   \n",
              "3               0.9              2000                      -17.6   \n",
              "4               2.3              2000                      -18.6   \n",
              "\n",
              "   Solar Radiation (MJ/m2)  Rainfall(mm)  Snowfall (cm) Seasons     Holiday  \\\n",
              "0                      0.0           0.0            0.0  Winter  No Holiday   \n",
              "1                      0.0           0.0            0.0  Winter  No Holiday   \n",
              "2                      0.0           0.0            0.0  Winter  No Holiday   \n",
              "3                      0.0           0.0            0.0  Winter  No Holiday   \n",
              "4                      0.0           0.0            0.0  Winter  No Holiday   \n",
              "\n",
              "  Functioning Day  \n",
              "0             Yes  \n",
              "1             Yes  \n",
              "2             Yes  \n",
              "3             Yes  \n",
              "4             Yes  "
            ],
            "text/html": [
              "\n",
              "  <div id=\"df-14503020-5a71-4de1-8900-869e3cf63581\" class=\"colab-df-container\">\n",
              "    <div>\n",
              "<style scoped>\n",
              "    .dataframe tbody tr th:only-of-type {\n",
              "        vertical-align: middle;\n",
              "    }\n",
              "\n",
              "    .dataframe tbody tr th {\n",
              "        vertical-align: top;\n",
              "    }\n",
              "\n",
              "    .dataframe thead th {\n",
              "        text-align: right;\n",
              "    }\n",
              "</style>\n",
              "<table border=\"1\" class=\"dataframe\">\n",
              "  <thead>\n",
              "    <tr style=\"text-align: right;\">\n",
              "      <th></th>\n",
              "      <th>Date</th>\n",
              "      <th>Rented Bike Count</th>\n",
              "      <th>Hour</th>\n",
              "      <th>Temperature(°C)</th>\n",
              "      <th>Humidity(%)</th>\n",
              "      <th>Wind speed (m/s)</th>\n",
              "      <th>Visibility (10m)</th>\n",
              "      <th>Dew point temperature(°C)</th>\n",
              "      <th>Solar Radiation (MJ/m2)</th>\n",
              "      <th>Rainfall(mm)</th>\n",
              "      <th>Snowfall (cm)</th>\n",
              "      <th>Seasons</th>\n",
              "      <th>Holiday</th>\n",
              "      <th>Functioning Day</th>\n",
              "    </tr>\n",
              "  </thead>\n",
              "  <tbody>\n",
              "    <tr>\n",
              "      <th>0</th>\n",
              "      <td>01/12/2017</td>\n",
              "      <td>254</td>\n",
              "      <td>0</td>\n",
              "      <td>-5.2</td>\n",
              "      <td>37</td>\n",
              "      <td>2.2</td>\n",
              "      <td>2000</td>\n",
              "      <td>-17.6</td>\n",
              "      <td>0.0</td>\n",
              "      <td>0.0</td>\n",
              "      <td>0.0</td>\n",
              "      <td>Winter</td>\n",
              "      <td>No Holiday</td>\n",
              "      <td>Yes</td>\n",
              "    </tr>\n",
              "    <tr>\n",
              "      <th>1</th>\n",
              "      <td>01/12/2017</td>\n",
              "      <td>204</td>\n",
              "      <td>1</td>\n",
              "      <td>-5.5</td>\n",
              "      <td>38</td>\n",
              "      <td>0.8</td>\n",
              "      <td>2000</td>\n",
              "      <td>-17.6</td>\n",
              "      <td>0.0</td>\n",
              "      <td>0.0</td>\n",
              "      <td>0.0</td>\n",
              "      <td>Winter</td>\n",
              "      <td>No Holiday</td>\n",
              "      <td>Yes</td>\n",
              "    </tr>\n",
              "    <tr>\n",
              "      <th>2</th>\n",
              "      <td>01/12/2017</td>\n",
              "      <td>173</td>\n",
              "      <td>2</td>\n",
              "      <td>-6.0</td>\n",
              "      <td>39</td>\n",
              "      <td>1.0</td>\n",
              "      <td>2000</td>\n",
              "      <td>-17.7</td>\n",
              "      <td>0.0</td>\n",
              "      <td>0.0</td>\n",
              "      <td>0.0</td>\n",
              "      <td>Winter</td>\n",
              "      <td>No Holiday</td>\n",
              "      <td>Yes</td>\n",
              "    </tr>\n",
              "    <tr>\n",
              "      <th>3</th>\n",
              "      <td>01/12/2017</td>\n",
              "      <td>107</td>\n",
              "      <td>3</td>\n",
              "      <td>-6.2</td>\n",
              "      <td>40</td>\n",
              "      <td>0.9</td>\n",
              "      <td>2000</td>\n",
              "      <td>-17.6</td>\n",
              "      <td>0.0</td>\n",
              "      <td>0.0</td>\n",
              "      <td>0.0</td>\n",
              "      <td>Winter</td>\n",
              "      <td>No Holiday</td>\n",
              "      <td>Yes</td>\n",
              "    </tr>\n",
              "    <tr>\n",
              "      <th>4</th>\n",
              "      <td>01/12/2017</td>\n",
              "      <td>78</td>\n",
              "      <td>4</td>\n",
              "      <td>-6.0</td>\n",
              "      <td>36</td>\n",
              "      <td>2.3</td>\n",
              "      <td>2000</td>\n",
              "      <td>-18.6</td>\n",
              "      <td>0.0</td>\n",
              "      <td>0.0</td>\n",
              "      <td>0.0</td>\n",
              "      <td>Winter</td>\n",
              "      <td>No Holiday</td>\n",
              "      <td>Yes</td>\n",
              "    </tr>\n",
              "  </tbody>\n",
              "</table>\n",
              "</div>\n",
              "    <div class=\"colab-df-buttons\">\n",
              "\n",
              "  <div class=\"colab-df-container\">\n",
              "    <button class=\"colab-df-convert\" onclick=\"convertToInteractive('df-14503020-5a71-4de1-8900-869e3cf63581')\"\n",
              "            title=\"Convert this dataframe to an interactive table.\"\n",
              "            style=\"display:none;\">\n",
              "\n",
              "  <svg xmlns=\"http://www.w3.org/2000/svg\" height=\"24px\" viewBox=\"0 -960 960 960\">\n",
              "    <path d=\"M120-120v-720h720v720H120Zm60-500h600v-160H180v160Zm220 220h160v-160H400v160Zm0 220h160v-160H400v160ZM180-400h160v-160H180v160Zm440 0h160v-160H620v160ZM180-180h160v-160H180v160Zm440 0h160v-160H620v160Z\"/>\n",
              "  </svg>\n",
              "    </button>\n",
              "\n",
              "  <style>\n",
              "    .colab-df-container {\n",
              "      display:flex;\n",
              "      gap: 12px;\n",
              "    }\n",
              "\n",
              "    .colab-df-convert {\n",
              "      background-color: #E8F0FE;\n",
              "      border: none;\n",
              "      border-radius: 50%;\n",
              "      cursor: pointer;\n",
              "      display: none;\n",
              "      fill: #1967D2;\n",
              "      height: 32px;\n",
              "      padding: 0 0 0 0;\n",
              "      width: 32px;\n",
              "    }\n",
              "\n",
              "    .colab-df-convert:hover {\n",
              "      background-color: #E2EBFA;\n",
              "      box-shadow: 0px 1px 2px rgba(60, 64, 67, 0.3), 0px 1px 3px 1px rgba(60, 64, 67, 0.15);\n",
              "      fill: #174EA6;\n",
              "    }\n",
              "\n",
              "    .colab-df-buttons div {\n",
              "      margin-bottom: 4px;\n",
              "    }\n",
              "\n",
              "    [theme=dark] .colab-df-convert {\n",
              "      background-color: #3B4455;\n",
              "      fill: #D2E3FC;\n",
              "    }\n",
              "\n",
              "    [theme=dark] .colab-df-convert:hover {\n",
              "      background-color: #434B5C;\n",
              "      box-shadow: 0px 1px 3px 1px rgba(0, 0, 0, 0.15);\n",
              "      filter: drop-shadow(0px 1px 2px rgba(0, 0, 0, 0.3));\n",
              "      fill: #FFFFFF;\n",
              "    }\n",
              "  </style>\n",
              "\n",
              "    <script>\n",
              "      const buttonEl =\n",
              "        document.querySelector('#df-14503020-5a71-4de1-8900-869e3cf63581 button.colab-df-convert');\n",
              "      buttonEl.style.display =\n",
              "        google.colab.kernel.accessAllowed ? 'block' : 'none';\n",
              "\n",
              "      async function convertToInteractive(key) {\n",
              "        const element = document.querySelector('#df-14503020-5a71-4de1-8900-869e3cf63581');\n",
              "        const dataTable =\n",
              "          await google.colab.kernel.invokeFunction('convertToInteractive',\n",
              "                                                    [key], {});\n",
              "        if (!dataTable) return;\n",
              "\n",
              "        const docLinkHtml = 'Like what you see? Visit the ' +\n",
              "          '<a target=\"_blank\" href=https://colab.research.google.com/notebooks/data_table.ipynb>data table notebook</a>'\n",
              "          + ' to learn more about interactive tables.';\n",
              "        element.innerHTML = '';\n",
              "        dataTable['output_type'] = 'display_data';\n",
              "        await google.colab.output.renderOutput(dataTable, element);\n",
              "        const docLink = document.createElement('div');\n",
              "        docLink.innerHTML = docLinkHtml;\n",
              "        element.appendChild(docLink);\n",
              "      }\n",
              "    </script>\n",
              "  </div>\n",
              "\n",
              "\n",
              "<div id=\"df-87fe1019-a616-4bd7-bc44-bd74592bc12f\">\n",
              "  <button class=\"colab-df-quickchart\" onclick=\"quickchart('df-87fe1019-a616-4bd7-bc44-bd74592bc12f')\"\n",
              "            title=\"Suggest charts.\"\n",
              "            style=\"display:none;\">\n",
              "\n",
              "<svg xmlns=\"http://www.w3.org/2000/svg\" height=\"24px\"viewBox=\"0 0 24 24\"\n",
              "     width=\"24px\">\n",
              "    <g>\n",
              "        <path d=\"M19 3H5c-1.1 0-2 .9-2 2v14c0 1.1.9 2 2 2h14c1.1 0 2-.9 2-2V5c0-1.1-.9-2-2-2zM9 17H7v-7h2v7zm4 0h-2V7h2v10zm4 0h-2v-4h2v4z\"/>\n",
              "    </g>\n",
              "</svg>\n",
              "  </button>\n",
              "\n",
              "<style>\n",
              "  .colab-df-quickchart {\n",
              "      --bg-color: #E8F0FE;\n",
              "      --fill-color: #1967D2;\n",
              "      --hover-bg-color: #E2EBFA;\n",
              "      --hover-fill-color: #174EA6;\n",
              "      --disabled-fill-color: #AAA;\n",
              "      --disabled-bg-color: #DDD;\n",
              "  }\n",
              "\n",
              "  [theme=dark] .colab-df-quickchart {\n",
              "      --bg-color: #3B4455;\n",
              "      --fill-color: #D2E3FC;\n",
              "      --hover-bg-color: #434B5C;\n",
              "      --hover-fill-color: #FFFFFF;\n",
              "      --disabled-bg-color: #3B4455;\n",
              "      --disabled-fill-color: #666;\n",
              "  }\n",
              "\n",
              "  .colab-df-quickchart {\n",
              "    background-color: var(--bg-color);\n",
              "    border: none;\n",
              "    border-radius: 50%;\n",
              "    cursor: pointer;\n",
              "    display: none;\n",
              "    fill: var(--fill-color);\n",
              "    height: 32px;\n",
              "    padding: 0;\n",
              "    width: 32px;\n",
              "  }\n",
              "\n",
              "  .colab-df-quickchart:hover {\n",
              "    background-color: var(--hover-bg-color);\n",
              "    box-shadow: 0 1px 2px rgba(60, 64, 67, 0.3), 0 1px 3px 1px rgba(60, 64, 67, 0.15);\n",
              "    fill: var(--button-hover-fill-color);\n",
              "  }\n",
              "\n",
              "  .colab-df-quickchart-complete:disabled,\n",
              "  .colab-df-quickchart-complete:disabled:hover {\n",
              "    background-color: var(--disabled-bg-color);\n",
              "    fill: var(--disabled-fill-color);\n",
              "    box-shadow: none;\n",
              "  }\n",
              "\n",
              "  .colab-df-spinner {\n",
              "    border: 2px solid var(--fill-color);\n",
              "    border-color: transparent;\n",
              "    border-bottom-color: var(--fill-color);\n",
              "    animation:\n",
              "      spin 1s steps(1) infinite;\n",
              "  }\n",
              "\n",
              "  @keyframes spin {\n",
              "    0% {\n",
              "      border-color: transparent;\n",
              "      border-bottom-color: var(--fill-color);\n",
              "      border-left-color: var(--fill-color);\n",
              "    }\n",
              "    20% {\n",
              "      border-color: transparent;\n",
              "      border-left-color: var(--fill-color);\n",
              "      border-top-color: var(--fill-color);\n",
              "    }\n",
              "    30% {\n",
              "      border-color: transparent;\n",
              "      border-left-color: var(--fill-color);\n",
              "      border-top-color: var(--fill-color);\n",
              "      border-right-color: var(--fill-color);\n",
              "    }\n",
              "    40% {\n",
              "      border-color: transparent;\n",
              "      border-right-color: var(--fill-color);\n",
              "      border-top-color: var(--fill-color);\n",
              "    }\n",
              "    60% {\n",
              "      border-color: transparent;\n",
              "      border-right-color: var(--fill-color);\n",
              "    }\n",
              "    80% {\n",
              "      border-color: transparent;\n",
              "      border-right-color: var(--fill-color);\n",
              "      border-bottom-color: var(--fill-color);\n",
              "    }\n",
              "    90% {\n",
              "      border-color: transparent;\n",
              "      border-bottom-color: var(--fill-color);\n",
              "    }\n",
              "  }\n",
              "</style>\n",
              "\n",
              "  <script>\n",
              "    async function quickchart(key) {\n",
              "      const quickchartButtonEl =\n",
              "        document.querySelector('#' + key + ' button');\n",
              "      quickchartButtonEl.disabled = true;  // To prevent multiple clicks.\n",
              "      quickchartButtonEl.classList.add('colab-df-spinner');\n",
              "      try {\n",
              "        const charts = await google.colab.kernel.invokeFunction(\n",
              "            'suggestCharts', [key], {});\n",
              "      } catch (error) {\n",
              "        console.error('Error during call to suggestCharts:', error);\n",
              "      }\n",
              "      quickchartButtonEl.classList.remove('colab-df-spinner');\n",
              "      quickchartButtonEl.classList.add('colab-df-quickchart-complete');\n",
              "    }\n",
              "    (() => {\n",
              "      let quickchartButtonEl =\n",
              "        document.querySelector('#df-87fe1019-a616-4bd7-bc44-bd74592bc12f button');\n",
              "      quickchartButtonEl.style.display =\n",
              "        google.colab.kernel.accessAllowed ? 'block' : 'none';\n",
              "    })();\n",
              "  </script>\n",
              "</div>\n",
              "    </div>\n",
              "  </div>\n"
            ]
          },
          "metadata": {},
          "execution_count": 15
        }
      ],
      "source": [
        "import pandas as pd\n",
        "url = \"https://raw.githubusercontent.com/python-fundamentals-jigsaw/review-datatypes/main/SeoulBikeData.csv\"\n",
        "df = pd.read_csv(url, encoding='unicode_escape')\n",
        "df[:5]"
      ]
    },
    {
      "cell_type": "markdown",
      "metadata": {
        "id": "Zfz_iQQ8C1KK"
      },
      "source": [
        "And then we can coerce this to a list of dictionaries."
      ]
    },
    {
      "cell_type": "code",
      "execution_count": 2,
      "metadata": {
        "id": "8y8shJ_ZC1KL"
      },
      "outputs": [],
      "source": [
        "bike_hours = df.to_dict('records')"
      ]
    },
    {
      "cell_type": "markdown",
      "metadata": {
        "id": "lcgm6uVfC1KM"
      },
      "source": [
        "### Remembering our data"
      ]
    },
    {
      "cell_type": "markdown",
      "metadata": {
        "id": "WRxx2cYNC1KN"
      },
      "source": [
        "Ok, so let's begin by taking another look at the attributes of our bike data."
      ]
    },
    {
      "cell_type": "code",
      "execution_count": 3,
      "metadata": {
        "id": "FX9eb7H2C1KN",
        "outputId": "2eda12e4-10b5-448a-ddf6-d5c9e82e16a3",
        "colab": {
          "base_uri": "https://localhost:8080/"
        }
      },
      "outputs": [
        {
          "output_type": "stream",
          "name": "stdout",
          "text": [
            "dict_keys(['Date', 'Rented Bike Count', 'Hour', 'Temperature(°C)', 'Humidity(%)', 'Wind speed (m/s)', 'Visibility (10m)', 'Dew point temperature(°C)', 'Solar Radiation (MJ/m2)', 'Rainfall(mm)', 'Snowfall (cm)', 'Seasons', 'Holiday', 'Functioning Day'])\n"
          ]
        }
      ],
      "source": [
        "first_record = bike_hours[0]\n",
        "\n",
        "print(first_record.keys())"
      ]
    },
    {
      "cell_type": "markdown",
      "metadata": {
        "id": "IDGKHRUrC1KO"
      },
      "source": [
        "Now let's just create a list of dictionaries that has a subset of these attributes."
      ]
    },
    {
      "cell_type": "markdown",
      "metadata": {
        "id": "9I4vF7_-C1KO"
      },
      "source": [
        "Ok, so now we'll create the dictionaries with those attributes:\n",
        "\n",
        "*  `'Rented Bike Count'`, `'Hour'`, `'Temperature(°C)'`, `'Rainfall(mm)'`, `'Seasons'`, `'Holiday'` and `Formatted Date`."
      ]
    },
    {
      "cell_type": "markdown",
      "metadata": {
        "id": "siF0nflvC1KP"
      },
      "source": [
        "> We'll get you started."
      ]
    },
    {
      "cell_type": "code",
      "execution_count": 4,
      "metadata": {
        "id": "gRrhYB_iC1KP",
        "outputId": "614d4d7c-d4fd-41b6-ec2c-a3a5bafa22cf",
        "colab": {
          "base_uri": "https://localhost:8080/"
        }
      },
      "outputs": [
        {
          "output_type": "stream",
          "name": "stdout",
          "text": [
            "[{'Rented Bike Count': 254, 'Hour': 0, 'Temperature(°C)': -5.2, 'Rainfall(mm)': 0.0, 'Seasons': 'Winter', 'Holiday': 'No Holiday'}, {'Rented Bike Count': 204, 'Hour': 1, 'Temperature(°C)': -5.5, 'Rainfall(mm)': 0.0, 'Seasons': 'Winter', 'Holiday': 'No Holiday'}]\n"
          ]
        }
      ],
      "source": [
        "attrs = ['Rented Bike Count', 'Hour', 'Temperature(°C)', 'Rainfall(mm)', 'Seasons', 'Holiday']\n",
        "selected_bike_hours = []\n",
        "for bike_hour in bike_hours:\n",
        "    selected_attrs = []\n",
        "    for k, v in bike_hour.items():\n",
        "        if k in attrs:\n",
        "            selected_attrs.append((k, v))\n",
        "    selected_bike_hours.append(dict(selected_attrs))\n",
        "print(selected_bike_hours[:2])\n",
        "\n",
        "# Here we use a nested loop, because otherwise, we would have to zip together\n",
        "# many different lists, not just one or two"
      ]
    },
    {
      "cell_type": "markdown",
      "metadata": {
        "id": "P8bsd4SoC1KP"
      },
      "source": [
        "Now the only thing missing is the formatted dates, that we created in our previous Seoul lab."
      ]
    },
    {
      "cell_type": "code",
      "execution_count": 5,
      "metadata": {
        "id": "uje7yeoiC1KP",
        "outputId": "ba880f0a-1d43-4210-cda9-9f5e2979df74",
        "colab": {
          "base_uri": "https://localhost:8080/"
        }
      },
      "outputs": [
        {
          "output_type": "execute_result",
          "data": {
            "text/plain": [
              "['2017/12/01', '2017/12/01']"
            ]
          },
          "metadata": {},
          "execution_count": 5
        }
      ],
      "source": [
        "formatted_dates = []\n",
        "for bike_hour in bike_hours:\n",
        "    date = bike_hour['Date']\n",
        "    formatted_date = '/'.join(list(reversed(date.split('/'))))\n",
        "    formatted_dates.append(formatted_date)\n",
        "formatted_dates[:2]"
      ]
    },
    {
      "cell_type": "markdown",
      "metadata": {
        "id": "O-oMNBssC1KQ"
      },
      "source": [
        "So use zip to iterate through the list of `selected_bike_hours` above, and add in the `formatted_date` for each dictionary."
      ]
    },
    {
      "cell_type": "markdown",
      "metadata": {
        "id": "hqJxoSRnC1KQ"
      },
      "source": [
        "Remember, you can assign a new key value pair to a dictionary with the following:"
      ]
    },
    {
      "cell_type": "code",
      "execution_count": null,
      "metadata": {
        "id": "bez56ZrhC1KQ",
        "outputId": "42f0dc00-aa6e-4139-e44c-8bc641f0e680"
      },
      "outputs": [
        {
          "data": {
            "text/plain": [
              "{'name': 'Fred', 'hometown': 'NYC'}"
            ]
          },
          "execution_count": 4,
          "metadata": {},
          "output_type": "execute_result"
        }
      ],
      "source": [
        "original_dict = {'name': 'Fred'}\n",
        "\n",
        "original_dict['hometown'] = 'NYC'\n",
        "original_dict"
      ]
    },
    {
      "cell_type": "markdown",
      "metadata": {
        "id": "U1gIpejBC1KR"
      },
      "source": [
        "Ok, we'll let you get started.  To repeat, use zip to iterate through the list of selected_bike_hours above, and add in the formatted_date for each dictionary"
      ]
    },
    {
      "cell_type": "code",
      "execution_count": 10,
      "metadata": {
        "id": "8FJaKYuVC1KR"
      },
      "outputs": [],
      "source": [
        "selected_bike_hours_dates = []\n",
        "for bike, date in list(zip(selected_bike_hours, formatted_dates)):\n",
        "  bike_copy = bike.copy()\n",
        "  bike_copy[\"Formatted Date\"] = date\n",
        "  selected_bike_hours_dates.append(bike_copy)"
      ]
    },
    {
      "cell_type": "code",
      "execution_count": 11,
      "metadata": {
        "id": "RiCz_3elC1KR",
        "outputId": "99766f47-1602-4cda-f790-548f0acb3a13",
        "colab": {
          "base_uri": "https://localhost:8080/"
        }
      },
      "outputs": [
        {
          "output_type": "stream",
          "name": "stdout",
          "text": [
            "[{'Rented Bike Count': 254, 'Hour': 0, 'Temperature(°C)': -5.2, 'Rainfall(mm)': 0.0, 'Seasons': 'Winter', 'Holiday': 'No Holiday', 'Formatted Date': '2017/12/01'}]\n"
          ]
        }
      ],
      "source": [
        "print(selected_bike_hours_dates[:1])\n",
        "\n",
        "# [{'Rented Bike Count': 254, 'Hour': 0, 'Temperature(°C)': -5.2, 'Rainfall(mm)': 0.0, 'Seasons': 'Winter', 'Holiday': 'No Holiday', 'Formatted Date': '2017/12/01'}]"
      ]
    },
    {
      "cell_type": "code",
      "execution_count": 12,
      "metadata": {
        "id": "7lkkcyQYC1KR",
        "outputId": "bf123069-7f68-43a5-d6c4-9c3479803038",
        "colab": {
          "base_uri": "https://localhost:8080/"
        }
      },
      "outputs": [
        {
          "output_type": "execute_result",
          "data": {
            "text/plain": [
              "8760"
            ]
          },
          "metadata": {},
          "execution_count": 12
        }
      ],
      "source": [
        "len(selected_bike_hours_dates)\n",
        "\n",
        "# 8760"
      ]
    },
    {
      "cell_type": "markdown",
      "metadata": {
        "id": "VhcfS_16C1KR"
      },
      "source": [
        "Ok, so now we can see a dataset with reduced key value pairs."
      ]
    },
    {
      "cell_type": "markdown",
      "metadata": {
        "id": "BYmsg4YzC1KS"
      },
      "source": [
        "* Looking for missing data"
      ]
    },
    {
      "cell_type": "markdown",
      "metadata": {
        "id": "VeN-kAzpC1KS"
      },
      "source": [
        "Next let's look for missing data.  Let's take a look at one of our dictionaries."
      ]
    },
    {
      "cell_type": "code",
      "execution_count": 13,
      "metadata": {
        "id": "__8GE6Y8C1KS",
        "outputId": "9fd2f227-4967-4fae-c8a7-36425dda868b",
        "colab": {
          "base_uri": "https://localhost:8080/"
        }
      },
      "outputs": [
        {
          "output_type": "stream",
          "name": "stdout",
          "text": [
            "{'Rented Bike Count': 254, 'Hour': 0, 'Temperature(°C)': -5.2, 'Rainfall(mm)': 0.0, 'Seasons': 'Winter', 'Holiday': 'No Holiday', 'Formatted Date': '2017/12/01'}\n"
          ]
        }
      ],
      "source": [
        "first_hour = selected_bike_hours[0]\n",
        "\n",
        "print(first_hour)"
      ]
    },
    {
      "cell_type": "markdown",
      "metadata": {
        "id": "MWCHDGOvC1KS"
      },
      "source": [
        "Now for all of our dictionaries, iterate through the keys value pairs, and if the value is `None` or an empty string, append the key to a list."
      ]
    },
    {
      "cell_type": "code",
      "execution_count": 14,
      "metadata": {
        "scrolled": true,
        "id": "zTdyXPsEC1KS",
        "outputId": "3f435e87-ff95-4b72-a440-844e22847dc9",
        "colab": {
          "base_uri": "https://localhost:8080/"
        }
      },
      "outputs": [
        {
          "output_type": "execute_result",
          "data": {
            "text/plain": [
              "[]"
            ]
          },
          "metadata": {},
          "execution_count": 14
        }
      ],
      "source": [
        "missing_keys = []\n",
        "for selected_hour in selected_bike_hours_dates:\n",
        "    for k, v in selected_hour.items():\n",
        "        if v == None or v == '':\n",
        "            missing_keys.append(k)\n",
        "\n",
        "missing_keys[:3]"
      ]
    },
    {
      "cell_type": "markdown",
      "metadata": {
        "id": "rhV-rbQHC1KT"
      },
      "source": [
        "Ok, so no missing values were found.  That's good news."
      ]
    },
    {
      "cell_type": "markdown",
      "metadata": {
        "id": "aDgYAeWJC1KT"
      },
      "source": [
        "### Data Exploration\n",
        "\n",
        "Okay, so now let's calculate the total number of bike rentals per hour.  We'll initialize a new dictionary for you using some fancy dictionary comprehension -- whatever that is."
      ]
    },
    {
      "cell_type": "code",
      "execution_count": 21,
      "metadata": {
        "id": "4K-LdGq5C1KT",
        "outputId": "8dc3917f-7d9f-4c30-d120-0c023d1a7f41",
        "colab": {
          "base_uri": "https://localhost:8080/"
        }
      },
      "outputs": [
        {
          "output_type": "stream",
          "name": "stdout",
          "text": [
            "{0: 0, 1: 0, 2: 0, 3: 0, 4: 0, 5: 0, 6: 0, 7: 0, 8: 0, 9: 0, 10: 0, 11: 0, 12: 0, 13: 0, 14: 0, 15: 0, 16: 0, 17: 0, 18: 0, 19: 0, 20: 0, 21: 0, 22: 0, 23: 0}\n"
          ]
        }
      ],
      "source": [
        "total_bike_rentals_per_hour = {hour: 0 for hour in range(24)}\n",
        "print(total_bike_rentals_per_hour)"
      ]
    },
    {
      "cell_type": "markdown",
      "metadata": {
        "id": "W7HXWegsC1KT"
      },
      "source": [
        "So you can see that we created a dictionary that has a key for each hour, setting the value to zero."
      ]
    },
    {
      "cell_type": "markdown",
      "metadata": {
        "id": "DrdSnGPvC1KT"
      },
      "source": [
        "Now populate that dictionary with the total number of bike rentals for each hour."
      ]
    },
    {
      "cell_type": "code",
      "execution_count": 22,
      "metadata": {
        "id": "mIX0hzjAC1KT",
        "outputId": "55206a3d-c3a4-4ed0-c05e-2604e0bcae73",
        "colab": {
          "base_uri": "https://localhost:8080/"
        }
      },
      "outputs": [
        {
          "output_type": "execute_result",
          "data": {
            "text/plain": [
              "{0: 197633,\n",
              " 1: 155557,\n",
              " 2: 110095,\n",
              " 3: 74216,\n",
              " 4: 48396,\n",
              " 5: 50765,\n",
              " 6: 104961,\n",
              " 7: 221192,\n",
              " 8: 370731,\n",
              " 9: 235784,\n",
              " 10: 192655,\n",
              " 11: 219311,\n",
              " 12: 255296,\n",
              " 13: 267635,\n",
              " 14: 276971,\n",
              " 15: 302653,\n",
              " 16: 339677,\n",
              " 17: 415556,\n",
              " 18: 548568,\n",
              " 19: 436229,\n",
              " 20: 390172,\n",
              " 21: 376479,\n",
              " 22: 336821,\n",
              " 23: 244961}"
            ]
          },
          "metadata": {},
          "execution_count": 22
        }
      ],
      "source": [
        "for bike in selected_bike_hours_dates:\n",
        "  bike_hour = bike['Hour']\n",
        "  bike_rented = bike['Rented Bike Count']\n",
        "  total_bike_rentals_per_hour[bike_hour] = total_bike_rentals_per_hour[bike_hour] + bike_rented\n",
        "\n",
        "total_bike_rentals_per_hour\n",
        "# {0: 197633, 1: 155557, 2: 110095, 3: 74216,\n",
        "# 4: 48396, 5: 50765, 6: 104961, 7: 221192, 8: 370731, 9: 235784, 10: 192655, 11: 219311, 12: 255296, 13: 267635, 14: 276971, 15: 302653, 16: 339677, 17: 415556, 18: 548568, 19: 436229, 20: 390172, 21: 376479, 22: 336821, 23: 244961}"
      ]
    },
    {
      "cell_type": "markdown",
      "metadata": {
        "id": "1q5u-yLzC1KU"
      },
      "source": [
        "So these are the total number of bikes rented across all hours.  Next, find the average bike rented per each hour.  To do that create another dictionary that has a count of each time the hour was seen in the dataset."
      ]
    },
    {
      "cell_type": "markdown",
      "metadata": {
        "id": "Uq0RkaGWC1KU"
      },
      "source": [
        "This time, produce that initial dictionary yourself."
      ]
    },
    {
      "cell_type": "code",
      "execution_count": null,
      "metadata": {
        "id": "gjYLc78fC1KU",
        "outputId": "bffcf9a7-1e58-4f0a-a0b5-cdefe23eeacc"
      },
      "outputs": [
        {
          "name": "stdout",
          "output_type": "stream",
          "text": [
            "{0: 0, 1: 0, 2: 0, 3: 0, 4: 0, 5: 0, 6: 0, 7: 0, 8: 0, 9: 0, 10: 0, 11: 0, 12: 0, 13: 0, 14: 0, 15: 0, 16: 0, 17: 0, 18: 0, 19: 0, 20: 0, 21: 0, 22: 0, 23: 0}\n"
          ]
        }
      ],
      "source": [
        "count_bike_rentals_per_hour = None\n",
        "\n",
        "print(count_bike_rentals_per_hour)\n",
        "# {0: 0, 1: 0, 2: 0, 3: 0, 4: 0, 5: 0, 6: 0, 7: 0, 8: 0, 9: 0, 10: 0, 11: 0, 12: 0, 13: 0, 14: 0, 15: 0, 16: 0, 17: 0, 18: 0, 19: 0, 20: 0, 21: 0, 22: 0, 23: 0}"
      ]
    },
    {
      "cell_type": "markdown",
      "metadata": {
        "id": "yMg2-xGsC1Kf"
      },
      "source": [
        "And then count up each time the hour was seen."
      ]
    },
    {
      "cell_type": "code",
      "execution_count": null,
      "metadata": {
        "id": "IDlB_ZQqC1Kg",
        "outputId": "9bc07295-bfc3-482d-9fd4-0708f0bc11ce"
      },
      "outputs": [
        {
          "name": "stdout",
          "output_type": "stream",
          "text": [
            "{0: 365, 1: 365, 2: 365, 3: 365, 4: 365, 5: 365, 6: 365, 7: 365, 8: 365, 9: 365, 10: 365, 11: 365, 12: 365, 13: 365, 14: 365, 15: 365, 16: 365, 17: 365, 18: 365, 19: 365, 20: 365, 21: 365, 22: 365, 23: 365}\n"
          ]
        }
      ],
      "source": [
        "\n",
        "count_bike_rentals_per_hour\n",
        "\n",
        "# {0: 365, 1: 365, 2: 365, 3: 365, 4: 365, 5: 365, 6: 365, 7: 365, 8: 365, 9: 365, 10: 365, 11: 365, 12: 365, 13: 365, 14: 365, 15: 365, 16: 365, 17: 365,\n",
        "#  18: 365, 19: 365, 20: 365, 21: 365, 22: 365, 23: 365}"
      ]
    },
    {
      "cell_type": "markdown",
      "metadata": {
        "id": "xtP89SZlC1Kg"
      },
      "source": [
        "Ok, so it looks like they were each seen 365 times.  Confirm that by showing there is only one value in the dictionary -- 365."
      ]
    },
    {
      "cell_type": "code",
      "execution_count": null,
      "metadata": {
        "id": "4nHd4srXC1Kg",
        "outputId": "19c4c598-48d7-47d2-d327-f5c50a42f08f"
      },
      "outputs": [
        {
          "data": {
            "text/plain": [
              "{365}"
            ]
          },
          "execution_count": 117,
          "metadata": {},
          "output_type": "execute_result"
        }
      ],
      "source": [
        "\n",
        "\n",
        "# {365}"
      ]
    },
    {
      "cell_type": "markdown",
      "metadata": {
        "id": "0nB4WmpmC1Kg"
      },
      "source": [
        "Ok, so now divide each of the values in `total_bike_rentals_per_hour` by 365 to produce `avg_bike_rentals_per_hour`, and round to the nearest whole number."
      ]
    },
    {
      "cell_type": "code",
      "execution_count": 26,
      "metadata": {
        "id": "BCiJVbkzC1Kg",
        "outputId": "28dfe161-3ffa-4730-b5ce-0911474fa11a",
        "colab": {
          "base_uri": "https://localhost:8080/"
        }
      },
      "outputs": [
        {
          "output_type": "stream",
          "name": "stdout",
          "text": [
            "{0: 541, 1: 426, 2: 302, 3: 203, 4: 133, 5: 139, 6: 288, 7: 606, 8: 1016, 9: 646, 10: 528, 11: 601, 12: 699, 13: 733, 14: 759, 15: 829, 16: 931, 17: 1139, 18: 1503, 19: 1195, 20: 1069, 21: 1031, 22: 923, 23: 671}\n"
          ]
        }
      ],
      "source": [
        "avg_bike_rentals = {}\n",
        "for hour, val in total_bike_rentals_per_hour.items():\n",
        "  avg_bike_rentals[hour] = round(val / 365)\n",
        "print(avg_bike_rentals)\n",
        "\n",
        "# {0: 541, 1: 426, 2: 302, 3: 203, 4: 133, 5: 139, 6: 288, 7: 606, 8: 1016, 9: 646, 10: 528, 11: 601, 12: 699, 13: 733, 14: 759, 15: 829, 16: 931, 17: 1139,\n",
        "#  18: 1503, 19: 1195, 20: 1069, 21: 1031, 22: 923, 23: 671}"
      ]
    },
    {
      "cell_type": "markdown",
      "metadata": {
        "id": "SghGYxcbC1Kg"
      },
      "source": [
        "Can we plot it? Let's use a bit of plotly."
      ]
    },
    {
      "cell_type": "markdown",
      "metadata": {
        "id": "YJLd9bAbC1Kh"
      },
      "source": [
        "> You may need to uncomment and run the following two lines."
      ]
    },
    {
      "cell_type": "code",
      "execution_count": null,
      "metadata": {
        "id": "cws1gEqkC1Kh"
      },
      "outputs": [],
      "source": [
        "# !pip install plotly\n",
        "# !jupyter labextension install jupyterlab-plotly"
      ]
    },
    {
      "cell_type": "code",
      "execution_count": 27,
      "metadata": {
        "id": "0xeNuo2wC1Kh"
      },
      "outputs": [],
      "source": [
        "hours = list(avg_bike_rentals.keys())\n",
        "avg_rentals = list(avg_bike_rentals.values())"
      ]
    },
    {
      "cell_type": "code",
      "execution_count": 28,
      "metadata": {
        "id": "U7Lp8DgMC1Kh",
        "outputId": "036fe1fb-ad60-4a21-d70f-7ba26c3910d9",
        "colab": {
          "base_uri": "https://localhost:8080/",
          "height": 542
        }
      },
      "outputs": [
        {
          "output_type": "display_data",
          "data": {
            "text/html": [
              "<html>\n",
              "<head><meta charset=\"utf-8\" /></head>\n",
              "<body>\n",
              "    <div>            <script src=\"https://cdnjs.cloudflare.com/ajax/libs/mathjax/2.7.5/MathJax.js?config=TeX-AMS-MML_SVG\"></script><script type=\"text/javascript\">if (window.MathJax && window.MathJax.Hub && window.MathJax.Hub.Config) {window.MathJax.Hub.Config({SVG: {font: \"STIX-Web\"}});}</script>                <script type=\"text/javascript\">window.PlotlyConfig = {MathJaxConfig: 'local'};</script>\n",
              "        <script charset=\"utf-8\" src=\"https://cdn.plot.ly/plotly-2.24.1.min.js\"></script>                <div id=\"eb788153-4883-4bc1-a60e-1d594431b73b\" class=\"plotly-graph-div\" style=\"height:525px; width:100%;\"></div>            <script type=\"text/javascript\">                                    window.PLOTLYENV=window.PLOTLYENV || {};                                    if (document.getElementById(\"eb788153-4883-4bc1-a60e-1d594431b73b\")) {                    Plotly.newPlot(                        \"eb788153-4883-4bc1-a60e-1d594431b73b\",                        [{\"x\":[0,1,2,3,4,5,6,7,8,9,10,11,12,13,14,15,16,17,18,19,20,21,22,23],\"y\":[541,426,302,203,133,139,288,606,1016,646,528,601,699,733,759,829,931,1139,1503,1195,1069,1031,923,671],\"type\":\"scatter\"}],                        {\"template\":{\"data\":{\"histogram2dcontour\":[{\"type\":\"histogram2dcontour\",\"colorbar\":{\"outlinewidth\":0,\"ticks\":\"\"},\"colorscale\":[[0.0,\"#0d0887\"],[0.1111111111111111,\"#46039f\"],[0.2222222222222222,\"#7201a8\"],[0.3333333333333333,\"#9c179e\"],[0.4444444444444444,\"#bd3786\"],[0.5555555555555556,\"#d8576b\"],[0.6666666666666666,\"#ed7953\"],[0.7777777777777778,\"#fb9f3a\"],[0.8888888888888888,\"#fdca26\"],[1.0,\"#f0f921\"]]}],\"choropleth\":[{\"type\":\"choropleth\",\"colorbar\":{\"outlinewidth\":0,\"ticks\":\"\"}}],\"histogram2d\":[{\"type\":\"histogram2d\",\"colorbar\":{\"outlinewidth\":0,\"ticks\":\"\"},\"colorscale\":[[0.0,\"#0d0887\"],[0.1111111111111111,\"#46039f\"],[0.2222222222222222,\"#7201a8\"],[0.3333333333333333,\"#9c179e\"],[0.4444444444444444,\"#bd3786\"],[0.5555555555555556,\"#d8576b\"],[0.6666666666666666,\"#ed7953\"],[0.7777777777777778,\"#fb9f3a\"],[0.8888888888888888,\"#fdca26\"],[1.0,\"#f0f921\"]]}],\"heatmap\":[{\"type\":\"heatmap\",\"colorbar\":{\"outlinewidth\":0,\"ticks\":\"\"},\"colorscale\":[[0.0,\"#0d0887\"],[0.1111111111111111,\"#46039f\"],[0.2222222222222222,\"#7201a8\"],[0.3333333333333333,\"#9c179e\"],[0.4444444444444444,\"#bd3786\"],[0.5555555555555556,\"#d8576b\"],[0.6666666666666666,\"#ed7953\"],[0.7777777777777778,\"#fb9f3a\"],[0.8888888888888888,\"#fdca26\"],[1.0,\"#f0f921\"]]}],\"heatmapgl\":[{\"type\":\"heatmapgl\",\"colorbar\":{\"outlinewidth\":0,\"ticks\":\"\"},\"colorscale\":[[0.0,\"#0d0887\"],[0.1111111111111111,\"#46039f\"],[0.2222222222222222,\"#7201a8\"],[0.3333333333333333,\"#9c179e\"],[0.4444444444444444,\"#bd3786\"],[0.5555555555555556,\"#d8576b\"],[0.6666666666666666,\"#ed7953\"],[0.7777777777777778,\"#fb9f3a\"],[0.8888888888888888,\"#fdca26\"],[1.0,\"#f0f921\"]]}],\"contourcarpet\":[{\"type\":\"contourcarpet\",\"colorbar\":{\"outlinewidth\":0,\"ticks\":\"\"}}],\"contour\":[{\"type\":\"contour\",\"colorbar\":{\"outlinewidth\":0,\"ticks\":\"\"},\"colorscale\":[[0.0,\"#0d0887\"],[0.1111111111111111,\"#46039f\"],[0.2222222222222222,\"#7201a8\"],[0.3333333333333333,\"#9c179e\"],[0.4444444444444444,\"#bd3786\"],[0.5555555555555556,\"#d8576b\"],[0.6666666666666666,\"#ed7953\"],[0.7777777777777778,\"#fb9f3a\"],[0.8888888888888888,\"#fdca26\"],[1.0,\"#f0f921\"]]}],\"surface\":[{\"type\":\"surface\",\"colorbar\":{\"outlinewidth\":0,\"ticks\":\"\"},\"colorscale\":[[0.0,\"#0d0887\"],[0.1111111111111111,\"#46039f\"],[0.2222222222222222,\"#7201a8\"],[0.3333333333333333,\"#9c179e\"],[0.4444444444444444,\"#bd3786\"],[0.5555555555555556,\"#d8576b\"],[0.6666666666666666,\"#ed7953\"],[0.7777777777777778,\"#fb9f3a\"],[0.8888888888888888,\"#fdca26\"],[1.0,\"#f0f921\"]]}],\"mesh3d\":[{\"type\":\"mesh3d\",\"colorbar\":{\"outlinewidth\":0,\"ticks\":\"\"}}],\"scatter\":[{\"fillpattern\":{\"fillmode\":\"overlay\",\"size\":10,\"solidity\":0.2},\"type\":\"scatter\"}],\"parcoords\":[{\"type\":\"parcoords\",\"line\":{\"colorbar\":{\"outlinewidth\":0,\"ticks\":\"\"}}}],\"scatterpolargl\":[{\"type\":\"scatterpolargl\",\"marker\":{\"colorbar\":{\"outlinewidth\":0,\"ticks\":\"\"}}}],\"bar\":[{\"error_x\":{\"color\":\"#2a3f5f\"},\"error_y\":{\"color\":\"#2a3f5f\"},\"marker\":{\"line\":{\"color\":\"#E5ECF6\",\"width\":0.5},\"pattern\":{\"fillmode\":\"overlay\",\"size\":10,\"solidity\":0.2}},\"type\":\"bar\"}],\"scattergeo\":[{\"type\":\"scattergeo\",\"marker\":{\"colorbar\":{\"outlinewidth\":0,\"ticks\":\"\"}}}],\"scatterpolar\":[{\"type\":\"scatterpolar\",\"marker\":{\"colorbar\":{\"outlinewidth\":0,\"ticks\":\"\"}}}],\"histogram\":[{\"marker\":{\"pattern\":{\"fillmode\":\"overlay\",\"size\":10,\"solidity\":0.2}},\"type\":\"histogram\"}],\"scattergl\":[{\"type\":\"scattergl\",\"marker\":{\"colorbar\":{\"outlinewidth\":0,\"ticks\":\"\"}}}],\"scatter3d\":[{\"type\":\"scatter3d\",\"line\":{\"colorbar\":{\"outlinewidth\":0,\"ticks\":\"\"}},\"marker\":{\"colorbar\":{\"outlinewidth\":0,\"ticks\":\"\"}}}],\"scattermapbox\":[{\"type\":\"scattermapbox\",\"marker\":{\"colorbar\":{\"outlinewidth\":0,\"ticks\":\"\"}}}],\"scatterternary\":[{\"type\":\"scatterternary\",\"marker\":{\"colorbar\":{\"outlinewidth\":0,\"ticks\":\"\"}}}],\"scattercarpet\":[{\"type\":\"scattercarpet\",\"marker\":{\"colorbar\":{\"outlinewidth\":0,\"ticks\":\"\"}}}],\"carpet\":[{\"aaxis\":{\"endlinecolor\":\"#2a3f5f\",\"gridcolor\":\"white\",\"linecolor\":\"white\",\"minorgridcolor\":\"white\",\"startlinecolor\":\"#2a3f5f\"},\"baxis\":{\"endlinecolor\":\"#2a3f5f\",\"gridcolor\":\"white\",\"linecolor\":\"white\",\"minorgridcolor\":\"white\",\"startlinecolor\":\"#2a3f5f\"},\"type\":\"carpet\"}],\"table\":[{\"cells\":{\"fill\":{\"color\":\"#EBF0F8\"},\"line\":{\"color\":\"white\"}},\"header\":{\"fill\":{\"color\":\"#C8D4E3\"},\"line\":{\"color\":\"white\"}},\"type\":\"table\"}],\"barpolar\":[{\"marker\":{\"line\":{\"color\":\"#E5ECF6\",\"width\":0.5},\"pattern\":{\"fillmode\":\"overlay\",\"size\":10,\"solidity\":0.2}},\"type\":\"barpolar\"}],\"pie\":[{\"automargin\":true,\"type\":\"pie\"}]},\"layout\":{\"autotypenumbers\":\"strict\",\"colorway\":[\"#636efa\",\"#EF553B\",\"#00cc96\",\"#ab63fa\",\"#FFA15A\",\"#19d3f3\",\"#FF6692\",\"#B6E880\",\"#FF97FF\",\"#FECB52\"],\"font\":{\"color\":\"#2a3f5f\"},\"hovermode\":\"closest\",\"hoverlabel\":{\"align\":\"left\"},\"paper_bgcolor\":\"white\",\"plot_bgcolor\":\"#E5ECF6\",\"polar\":{\"bgcolor\":\"#E5ECF6\",\"angularaxis\":{\"gridcolor\":\"white\",\"linecolor\":\"white\",\"ticks\":\"\"},\"radialaxis\":{\"gridcolor\":\"white\",\"linecolor\":\"white\",\"ticks\":\"\"}},\"ternary\":{\"bgcolor\":\"#E5ECF6\",\"aaxis\":{\"gridcolor\":\"white\",\"linecolor\":\"white\",\"ticks\":\"\"},\"baxis\":{\"gridcolor\":\"white\",\"linecolor\":\"white\",\"ticks\":\"\"},\"caxis\":{\"gridcolor\":\"white\",\"linecolor\":\"white\",\"ticks\":\"\"}},\"coloraxis\":{\"colorbar\":{\"outlinewidth\":0,\"ticks\":\"\"}},\"colorscale\":{\"sequential\":[[0.0,\"#0d0887\"],[0.1111111111111111,\"#46039f\"],[0.2222222222222222,\"#7201a8\"],[0.3333333333333333,\"#9c179e\"],[0.4444444444444444,\"#bd3786\"],[0.5555555555555556,\"#d8576b\"],[0.6666666666666666,\"#ed7953\"],[0.7777777777777778,\"#fb9f3a\"],[0.8888888888888888,\"#fdca26\"],[1.0,\"#f0f921\"]],\"sequentialminus\":[[0.0,\"#0d0887\"],[0.1111111111111111,\"#46039f\"],[0.2222222222222222,\"#7201a8\"],[0.3333333333333333,\"#9c179e\"],[0.4444444444444444,\"#bd3786\"],[0.5555555555555556,\"#d8576b\"],[0.6666666666666666,\"#ed7953\"],[0.7777777777777778,\"#fb9f3a\"],[0.8888888888888888,\"#fdca26\"],[1.0,\"#f0f921\"]],\"diverging\":[[0,\"#8e0152\"],[0.1,\"#c51b7d\"],[0.2,\"#de77ae\"],[0.3,\"#f1b6da\"],[0.4,\"#fde0ef\"],[0.5,\"#f7f7f7\"],[0.6,\"#e6f5d0\"],[0.7,\"#b8e186\"],[0.8,\"#7fbc41\"],[0.9,\"#4d9221\"],[1,\"#276419\"]]},\"xaxis\":{\"gridcolor\":\"white\",\"linecolor\":\"white\",\"ticks\":\"\",\"title\":{\"standoff\":15},\"zerolinecolor\":\"white\",\"automargin\":true,\"zerolinewidth\":2},\"yaxis\":{\"gridcolor\":\"white\",\"linecolor\":\"white\",\"ticks\":\"\",\"title\":{\"standoff\":15},\"zerolinecolor\":\"white\",\"automargin\":true,\"zerolinewidth\":2},\"scene\":{\"xaxis\":{\"backgroundcolor\":\"#E5ECF6\",\"gridcolor\":\"white\",\"linecolor\":\"white\",\"showbackground\":true,\"ticks\":\"\",\"zerolinecolor\":\"white\",\"gridwidth\":2},\"yaxis\":{\"backgroundcolor\":\"#E5ECF6\",\"gridcolor\":\"white\",\"linecolor\":\"white\",\"showbackground\":true,\"ticks\":\"\",\"zerolinecolor\":\"white\",\"gridwidth\":2},\"zaxis\":{\"backgroundcolor\":\"#E5ECF6\",\"gridcolor\":\"white\",\"linecolor\":\"white\",\"showbackground\":true,\"ticks\":\"\",\"zerolinecolor\":\"white\",\"gridwidth\":2}},\"shapedefaults\":{\"line\":{\"color\":\"#2a3f5f\"}},\"annotationdefaults\":{\"arrowcolor\":\"#2a3f5f\",\"arrowhead\":0,\"arrowwidth\":1},\"geo\":{\"bgcolor\":\"white\",\"landcolor\":\"#E5ECF6\",\"subunitcolor\":\"white\",\"showland\":true,\"showlakes\":true,\"lakecolor\":\"white\"},\"title\":{\"x\":0.05},\"mapbox\":{\"style\":\"light\"}}}},                        {\"responsive\": true}                    ).then(function(){\n",
              "                            \n",
              "var gd = document.getElementById('eb788153-4883-4bc1-a60e-1d594431b73b');\n",
              "var x = new MutationObserver(function (mutations, observer) {{\n",
              "        var display = window.getComputedStyle(gd).display;\n",
              "        if (!display || display === 'none') {{\n",
              "            console.log([gd, 'removed!']);\n",
              "            Plotly.purge(gd);\n",
              "            observer.disconnect();\n",
              "        }}\n",
              "}});\n",
              "\n",
              "// Listen for the removal of the full notebook cells\n",
              "var notebookContainer = gd.closest('#notebook-container');\n",
              "if (notebookContainer) {{\n",
              "    x.observe(notebookContainer, {childList: true});\n",
              "}}\n",
              "\n",
              "// Listen for the clearing of the current output cell\n",
              "var outputEl = gd.closest('.output');\n",
              "if (outputEl) {{\n",
              "    x.observe(outputEl, {childList: true});\n",
              "}}\n",
              "\n",
              "                        })                };                            </script>        </div>\n",
              "</body>\n",
              "</html>"
            ]
          },
          "metadata": {}
        }
      ],
      "source": [
        "import plotly.graph_objects as go\n",
        "fig = go.Figure(data = go.Scatter(x = hours, y = avg_rentals))\n",
        "fig"
      ]
    },
    {
      "cell_type": "markdown",
      "metadata": {
        "id": "7HIz--RRC1Kh"
      },
      "source": [
        "* More analysis"
      ]
    },
    {
      "cell_type": "markdown",
      "metadata": {
        "id": "kYuH26APC1Kh"
      },
      "source": [
        "Ok, now let's see what else can do with our data.  For example, remember that we also have information on each season.  So for each season, find the total number of bikes rented.\n",
        "\n",
        "> Try not to look at your work above."
      ]
    },
    {
      "cell_type": "code",
      "execution_count": 34,
      "metadata": {
        "id": "WjSRqfk5C1Kh"
      },
      "outputs": [],
      "source": [
        "seasons = ['Winter', 'Spring', 'Summer', 'Autumn']\n",
        "# selected_bike_hours\n",
        "total_hours_per_season = {season: 0 for season in seasons}\n",
        "for bike in selected_bike_hours_dates:\n",
        "  season = bike['Seasons']\n",
        "  total_hours_per_season[season] +=  bike['Rented Bike Count']"
      ]
    },
    {
      "cell_type": "code",
      "execution_count": 35,
      "metadata": {
        "id": "2zfv3YRlC1Kh",
        "outputId": "83d39cee-725f-4a76-8369-181723e7e4e1",
        "colab": {
          "base_uri": "https://localhost:8080/"
        }
      },
      "outputs": [
        {
          "output_type": "stream",
          "name": "stdout",
          "text": [
            "{'Winter': 487169, 'Spring': 1611909, 'Summer': 2283234, 'Autumn': 1790002}\n"
          ]
        }
      ],
      "source": [
        "print(total_hours_per_season)\n",
        "\n",
        "# {'Winter': 487169, 'Spring': 1611909, 'Summer': 2283234, 'Autumn': 1790002}"
      ]
    },
    {
      "cell_type": "markdown",
      "metadata": {
        "id": "JCBCaTcGC1Ki"
      },
      "source": [
        "Then **count** the number of bike hours per season."
      ]
    },
    {
      "cell_type": "code",
      "execution_count": 50,
      "metadata": {
        "id": "LVH0HSdwC1Ki"
      },
      "outputs": [],
      "source": [
        "seasons = ['Winter', 'Spring', 'Summer', 'Autumn']\n",
        "# selected_bike_hours\n",
        "\n",
        "num_hours_per_season = {season: 0 for season in seasons}\n",
        "for bike in selected_bike_hours_dates:\n",
        "  season = bike['Seasons']\n",
        "  num_hours_per_season[season] += 1\n"
      ]
    },
    {
      "cell_type": "code",
      "execution_count": 49,
      "metadata": {
        "id": "78Qp94yOC1Ki",
        "outputId": "7f493335-fd5d-463f-8142-1a91d15695ac",
        "colab": {
          "base_uri": "https://localhost:8080/"
        }
      },
      "outputs": [
        {
          "output_type": "execute_result",
          "data": {
            "text/plain": [
              "{'Winter': 2160, 'Spring': 2208, 'Summer': 2208, 'Autumn': 2184}"
            ]
          },
          "metadata": {},
          "execution_count": 49
        }
      ],
      "source": [
        "num_hours_per_season\n",
        "# {'Winter': 2160, 'Spring': 2208,\n",
        "# 'Summer': 2208, 'Autumn': 2184}"
      ]
    },
    {
      "cell_type": "markdown",
      "metadata": {
        "id": "qw7U3Wn9C1Ki"
      },
      "source": [
        "And from here, return a dictionary of the avg bike rentals per season."
      ]
    },
    {
      "cell_type": "code",
      "execution_count": 48,
      "metadata": {
        "id": "RMsznZgSC1Ki",
        "outputId": "9e3c70c9-bdec-4885-b70c-354ad6d59532",
        "colab": {
          "base_uri": "https://localhost:8080/"
        }
      },
      "outputs": [
        {
          "output_type": "stream",
          "name": "stdout",
          "text": [
            "{'Winter': 228, 'Spring': 732, 'Summer': 1036, 'Autumn': 822}\n"
          ]
        }
      ],
      "source": [
        "avg_rentals_per_hour_season = {}\n",
        "for season, val in total_hours_per_season.items():\n",
        "  avg_rentals_per_hour_season[season] = round(val / num_hours_per_season[season])\n",
        "print(avg_rentals_per_hour_season)\n",
        "# {'Winter': 226, 'Spring': 730, 'Summer': 1034, 'Autumn': 820}"
      ]
    },
    {
      "cell_type": "markdown",
      "metadata": {
        "id": "WLAKc0AaC1Kj"
      },
      "source": [
        "Ok, that's good enough for now."
      ]
    },
    {
      "cell_type": "markdown",
      "metadata": {
        "id": "2QruW1DYC1Kj"
      },
      "source": [
        "### Summary"
      ]
    },
    {
      "cell_type": "markdown",
      "metadata": {
        "id": "J6sNY5zOC1Kj"
      },
      "source": [
        "In this lesson, we moved through formatting our data (by selecting relevant attributes, and adding in our formatted dates).  And from there, we checked to see if there was any missing data.\n",
        "\n",
        "Then we moved onto some analysis -- calculating the average rentals per hour.  And initializing with dictionary comprehension."
      ]
    },
    {
      "cell_type": "code",
      "execution_count": null,
      "metadata": {
        "id": "uqEngCn-C1Kj",
        "outputId": "b837303d-65e5-453b-d643-c99aeab702e5"
      },
      "outputs": [
        {
          "name": "stdout",
          "output_type": "stream",
          "text": [
            "{0: 0, 1: 0, 2: 0, 3: 0, 4: 0, 5: 0, 6: 0, 7: 0, 8: 0, 9: 0, 10: 0, 11: 0, 12: 0, 13: 0, 14: 0, 15: 0, 16: 0, 17: 0, 18: 0, 19: 0, 20: 0, 21: 0, 22: 0, 23: 0}\n"
          ]
        }
      ],
      "source": [
        "print({hour: 0 for hour in range(24)})"
      ]
    },
    {
      "cell_type": "markdown",
      "metadata": {
        "id": "656ISh-YC1Kj"
      },
      "source": [
        "And then performed calculations to find the average rentals per hour and per season."
      ]
    }
  ],
  "metadata": {
    "kernelspec": {
      "display_name": "Python 3 (ipykernel)",
      "language": "python",
      "name": "python3"
    },
    "language_info": {
      "codemirror_mode": {
        "name": "ipython",
        "version": 3
      },
      "file_extension": ".py",
      "mimetype": "text/x-python",
      "name": "python",
      "nbconvert_exporter": "python",
      "pygments_lexer": "ipython3",
      "version": "3.11.5"
    },
    "colab": {
      "provenance": []
    }
  },
  "nbformat": 4,
  "nbformat_minor": 0
}