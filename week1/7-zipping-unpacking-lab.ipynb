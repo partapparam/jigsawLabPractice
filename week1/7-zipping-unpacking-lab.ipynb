{
  "cells": [
    {
      "cell_type": "markdown",
      "id": "01cb9d97-2495-41c6-94e6-e967f2001084",
      "metadata": {
        "id": "01cb9d97-2495-41c6-94e6-e967f2001084"
      },
      "source": [
        "# Zipping and Unpacking Lab"
      ]
    },
    {
      "cell_type": "markdown",
      "id": "f7e00e20-c5a7-44f6-ac81-275880057fe8",
      "metadata": {
        "id": "f7e00e20-c5a7-44f6-ac81-275880057fe8"
      },
      "source": [
        "### Introduction"
      ]
    },
    {
      "cell_type": "markdown",
      "id": "713da30a-b445-4224-b950-9b2d9f20e8c4",
      "metadata": {
        "id": "713da30a-b445-4224-b950-9b2d9f20e8c4"
      },
      "source": [
        "In this lesson, we'll move practice with zipping and unpacking our data by working with some data describing the density of cities.  \n",
        "\n",
        "Let's get started."
      ]
    },
    {
      "cell_type": "markdown",
      "id": "9503b81b-25e7-48a7-9ba5-8342de9b0ecb",
      "metadata": {
        "id": "9503b81b-25e7-48a7-9ba5-8342de9b0ecb"
      },
      "source": [
        "### Loading our data"
      ]
    },
    {
      "cell_type": "markdown",
      "id": "f4c6ed8f-ff0e-43cd-b77d-34bcd7914be5",
      "metadata": {
        "id": "f4c6ed8f-ff0e-43cd-b77d-34bcd7914be5"
      },
      "source": [
        "We can begin by loading our data."
      ]
    },
    {
      "cell_type": "code",
      "execution_count": 1,
      "id": "cbf131e6-dc88-4bb9-974e-58ee50dcbca0",
      "metadata": {
        "id": "cbf131e6-dc88-4bb9-974e-58ee50dcbca0"
      },
      "outputs": [],
      "source": [
        "import pandas as pd\n",
        "url = \"https://raw.githubusercontent.com/python-fundamentals-jigsaw/review-datatypes/main/cities_dens.csv\"\n",
        "cities_df = pd.read_csv(url, index_col = 0)\n",
        "cities = cities_df.to_dict('records')"
      ]
    },
    {
      "cell_type": "code",
      "execution_count": 2,
      "id": "e9e81948-23bd-49cd-8a76-5559482fa4bc",
      "metadata": {
        "id": "e9e81948-23bd-49cd-8a76-5559482fa4bc",
        "outputId": "b626eb16-6f7c-4bb7-8731-8d8333a7ab1c",
        "colab": {
          "base_uri": "https://localhost:8080/"
        }
      },
      "outputs": [
        {
          "output_type": "execute_result",
          "data": {
            "text/plain": [
              "[{'city': 'Malé',\n",
              "  'population': '153,904[1]',\n",
              "  'area_mi': '1.956[1]',\n",
              "  'density_mi': 203846.0,\n",
              "  'country': 'Maldives'},\n",
              " {'city': 'Manila',\n",
              "  'population': '1,660,714[2]',\n",
              "  'area_mi': '38.55[3]',\n",
              "  'density_mi': 111576.0,\n",
              "  'country': 'Philippines'}]"
            ]
          },
          "metadata": {},
          "execution_count": 2
        }
      ],
      "source": [
        "cities[:2]"
      ]
    },
    {
      "cell_type": "markdown",
      "id": "23e48e76-99e7-4171-9e54-87e256f6bbc4",
      "metadata": {
        "id": "23e48e76-99e7-4171-9e54-87e256f6bbc4"
      },
      "source": [
        "And, identifying the grain of the data, we can see that each dictionary represents a different city."
      ]
    },
    {
      "cell_type": "markdown",
      "id": "dcec15a9-5f77-4abb-a84c-66170042fc6a",
      "metadata": {
        "id": "dcec15a9-5f77-4abb-a84c-66170042fc6a"
      },
      "source": [
        "### Selecting our data"
      ]
    },
    {
      "cell_type": "markdown",
      "id": "6996678d-6d31-4e83-b6fd-78cc2356a3d9",
      "metadata": {
        "id": "6996678d-6d31-4e83-b6fd-78cc2356a3d9"
      },
      "source": [
        "Now let's say that we only need the attributes of the city, and the amount of people per mile (indicated by `density_mi`).  \n",
        "\n",
        "First, select the city names."
      ]
    },
    {
      "cell_type": "code",
      "execution_count": 4,
      "id": "9192b536-7d29-4467-9f6d-5ef592101bd6",
      "metadata": {
        "id": "9192b536-7d29-4467-9f6d-5ef592101bd6",
        "outputId": "9ac077dd-357c-4b0f-87d8-c5f01422bba2",
        "colab": {
          "base_uri": "https://localhost:8080/"
        }
      },
      "outputs": [
        {
          "output_type": "execute_result",
          "data": {
            "text/plain": [
              "['Malé', 'Manila', 'Bogor']"
            ]
          },
          "metadata": {},
          "execution_count": 4
        }
      ],
      "source": [
        "city_names = [city['city'] for city in cities]\n",
        "city_names[:3]\n",
        "\n",
        "# ['Malé', 'Manila', 'Bogor']"
      ]
    },
    {
      "cell_type": "markdown",
      "id": "fcbf28d8-86a7-4e35-b2be-eddcf48d8cb4",
      "metadata": {
        "id": "fcbf28d8-86a7-4e35-b2be-eddcf48d8cb4"
      },
      "source": [
        "And then let's select the density per city."
      ]
    },
    {
      "cell_type": "code",
      "execution_count": 5,
      "id": "84f2da1f-2594-49e2-8f90-5e20520cb828",
      "metadata": {
        "id": "84f2da1f-2594-49e2-8f90-5e20520cb828",
        "outputId": "859e0b3f-6a63-4a51-85d5-2f06d95ea300",
        "colab": {
          "base_uri": "https://localhost:8080/"
        }
      },
      "outputs": [
        {
          "output_type": "execute_result",
          "data": {
            "text/plain": [
              "[203846.0, 111576.0, 104037.0]"
            ]
          },
          "metadata": {},
          "execution_count": 5
        }
      ],
      "source": [
        "densities = [city['density_mi'] for city in cities]\n",
        "densities[:3]\n",
        "\n",
        "# [203846.0, 111576.0, 104037.0]"
      ]
    },
    {
      "cell_type": "markdown",
      "id": "2ae1d042-5be3-461e-900e-6122563dcd44",
      "metadata": {
        "id": "2ae1d042-5be3-461e-900e-6122563dcd44"
      },
      "source": [
        "Next, create a list of tuples, where each tuple's first element is the city name and the second element is the density."
      ]
    },
    {
      "cell_type": "code",
      "execution_count": 7,
      "id": "8b95fe51-640d-4c15-ac3b-e7576a9edbe6",
      "metadata": {
        "id": "8b95fe51-640d-4c15-ac3b-e7576a9edbe6",
        "outputId": "fb09d1f8-54e6-4ead-9b4c-27fea38976c0",
        "colab": {
          "base_uri": "https://localhost:8080/"
        }
      },
      "outputs": [
        {
          "output_type": "execute_result",
          "data": {
            "text/plain": [
              "[('Malé', 203846.0), ('Manila', 111576.0), ('Bogor', 104037.0)]"
            ]
          },
          "metadata": {},
          "execution_count": 7
        }
      ],
      "source": [
        "city_densities = list(zip(city_names, densities))\n",
        "\n",
        "city_densities[:3]\n",
        "\n",
        "# [('Malé', 203846.0), ('Manila', 111576.0), ('Bogor', 104037.0)]"
      ]
    },
    {
      "cell_type": "markdown",
      "id": "56a7c71e-e121-4643-9616-805fbb0c86a3",
      "metadata": {
        "id": "56a7c71e-e121-4643-9616-805fbb0c86a3"
      },
      "source": [
        "Ok, and from here, we'll print our the name of and population for the first three tuples."
      ]
    },
    {
      "cell_type": "code",
      "execution_count": 9,
      "id": "54ea1525-7a1d-4d7d-a210-ef8664916b34",
      "metadata": {
        "id": "54ea1525-7a1d-4d7d-a210-ef8664916b34",
        "outputId": "7819b20c-26af-43ec-8ef7-ecc87bc4811f",
        "colab": {
          "base_uri": "https://localhost:8080/"
        }
      },
      "outputs": [
        {
          "output_type": "stream",
          "name": "stdout",
          "text": [
            "City: Malé Density 203846.0\n",
            "City: Malé Density: 203846.0\n",
            "City: Manila Density 111576.0\n",
            "City: Manila Density: 111576.0\n",
            "City: Bogor Density 104037.0\n",
            "City: Bogor Density: 104037.0\n"
          ]
        }
      ],
      "source": [
        "three_city_densities = city_densities[:3]\n",
        "\n",
        "for city, density in three_city_densities:\n",
        "    print('City:', city, 'Density', density)\n",
        "    print(f'City: {city} Density: {density}')"
      ]
    },
    {
      "cell_type": "markdown",
      "id": "d4afd88b-72c9-4247-8f0a-14f28cccea79",
      "metadata": {
        "id": "d4afd88b-72c9-4247-8f0a-14f28cccea79"
      },
      "source": [
        "Even better would be to create a list of dictionaries where the first attribute is the city and the second attribute is the density.  Do this for each of our `city_densities` and store the dictionary in a list called `densities`."
      ]
    },
    {
      "cell_type": "code",
      "execution_count": 10,
      "id": "8f39d34e-0fd3-4df0-aa84-a41d84cb865a",
      "metadata": {
        "id": "8f39d34e-0fd3-4df0-aa84-a41d84cb865a",
        "outputId": "a819e2d6-b3d7-428b-d6dc-fa27a7937f9f",
        "colab": {
          "base_uri": "https://localhost:8080/"
        }
      },
      "outputs": [
        {
          "output_type": "execute_result",
          "data": {
            "text/plain": [
              "[{'city': 'Malé', 'density': 203846.0},\n",
              " {'city': 'Manila', 'density': 111576.0},\n",
              " {'city': 'Bogor', 'density': 104037.0}]"
            ]
          },
          "metadata": {},
          "execution_count": 10
        }
      ],
      "source": [
        "densities = [{'city': city, 'density': density} for city, density in city_densities]\n",
        "\n",
        "densities[:3]\n",
        "\n",
        "# [{'city': 'Malé', 'density': 203846.0},\n",
        "#  {'city': 'Manila', 'density': 111576.0},\n",
        "#  {'city': 'Bogor', 'density': 104037.0}]"
      ]
    },
    {
      "cell_type": "code",
      "source": [
        "keys = ['city', 'density']\n",
        "densities = [dict(zip(keys, city)) for city in city_densities]\n",
        "\n",
        "densities[:3]"
      ],
      "metadata": {
        "id": "cMoDd_nhbUJB",
        "outputId": "724bcbd1-467a-466c-9102-eb7e58f2e699",
        "colab": {
          "base_uri": "https://localhost:8080/"
        }
      },
      "id": "cMoDd_nhbUJB",
      "execution_count": 11,
      "outputs": [
        {
          "output_type": "execute_result",
          "data": {
            "text/plain": [
              "[{'city': 'Malé', 'density': 203846.0},\n",
              " {'city': 'Manila', 'density': 111576.0},\n",
              " {'city': 'Bogor', 'density': 104037.0}]"
            ]
          },
          "metadata": {},
          "execution_count": 11
        }
      ]
    },
    {
      "cell_type": "markdown",
      "id": "ab5c26d1-2581-4431-88bd-235c3509c067",
      "metadata": {
        "id": "ab5c26d1-2581-4431-88bd-235c3509c067"
      },
      "source": [
        "### Working with dictionaries"
      ]
    },
    {
      "cell_type": "markdown",
      "id": "e0d2cd42-d3a5-4736-ba2b-49af559141ff",
      "metadata": {
        "id": "e0d2cd42-d3a5-4736-ba2b-49af559141ff"
      },
      "source": [
        "Ok, now let's go back to our original dictionary."
      ]
    },
    {
      "cell_type": "code",
      "execution_count": 12,
      "id": "817f06e2-d8db-4493-948a-f3916b0e11dc",
      "metadata": {
        "id": "817f06e2-d8db-4493-948a-f3916b0e11dc",
        "outputId": "7211a4e1-23aa-42fb-e67d-cbd5fb205d4e",
        "colab": {
          "base_uri": "https://localhost:8080/"
        }
      },
      "outputs": [
        {
          "output_type": "execute_result",
          "data": {
            "text/plain": [
              "{'city': 'Malé',\n",
              " 'population': '153,904[1]',\n",
              " 'area_mi': '1.956[1]',\n",
              " 'density_mi': 203846.0,\n",
              " 'country': 'Maldives'}"
            ]
          },
          "metadata": {},
          "execution_count": 12
        }
      ],
      "source": [
        "first_city = cities[0]\n",
        "\n",
        "first_city"
      ]
    },
    {
      "cell_type": "markdown",
      "id": "a41f83e4-5555-410f-99d4-4d43c5b06aa2",
      "metadata": {
        "id": "a41f83e4-5555-410f-99d4-4d43c5b06aa2"
      },
      "source": [
        "Iterate through the key value pairs, create new list of tuples for information related to the keys of `city` and `country`.  Store this in the `selected_attrs` list."
      ]
    },
    {
      "cell_type": "code",
      "execution_count": 19,
      "id": "f2b2b2f0-c0b8-448b-b380-4a9b7c258cf9",
      "metadata": {
        "id": "f2b2b2f0-c0b8-448b-b380-4a9b7c258cf9",
        "outputId": "72707d1c-cea1-4cba-ce75-deb327589e9c",
        "colab": {
          "base_uri": "https://localhost:8080/"
        }
      },
      "outputs": [
        {
          "output_type": "execute_result",
          "data": {
            "text/plain": [
              "[[('city', 'Malé'), ('country', 'Maldives')],\n",
              " [('city', 'Manila'), ('country', 'Philippines')],\n",
              " [('city', 'Bogor'), ('country', 'Indonesia')],\n",
              " [('city', 'Titagarh'), ('country', 'India')],\n",
              " [('city', 'Baranagar'), ('country', 'India')],\n",
              " [('city', 'Serampore'), ('country', 'India')],\n",
              " [('city', 'South Dumdum'), ('country', 'India')],\n",
              " [('city', 'Kamarhati'), ('country', 'India')],\n",
              " [('city', 'Kolkata'), ('country', 'India')],\n",
              " [('city', 'Levallois-Perret'), ('country', 'France')],\n",
              " [('city', 'Mandaluyong'), ('country', 'Philippines')],\n",
              " [('city', 'Neapoli'), ('country', 'Greece')],\n",
              " [('city', 'Caloocan'), ('country', 'Philippines')],\n",
              " [('city', 'Karachi'), ('country', 'Pakistan')],\n",
              " [('city', 'Chennai'), ('country', 'India')],\n",
              " [('city', 'Sukabumi'), ('country', 'Indonesia')],\n",
              " [('city', 'Hyderabad'), ('country', 'India')],\n",
              " [('city', 'Saint-Josse-ten-Noode'), ('country', 'Belgium')],\n",
              " [('city', 'Malabon'), ('country', 'Philippines')],\n",
              " [('city', 'Kallithea'), ('country', 'Greece')],\n",
              " [('city', 'Mumbai'), ('country', 'India')],\n",
              " [('city', 'Jaigaon'), ('country', 'India')],\n",
              " [('city', 'Navotas'), ('country', 'Philippines')],\n",
              " [('city', 'Ampelokipoi'), ('country', 'Greece')],\n",
              " [('city', 'Banupur'), ('country', 'India')],\n",
              " [('city', 'Bally'), ('country', 'India')],\n",
              " [('city', 'Balurghat'), ('country', 'India')],\n",
              " [('city', 'Pasay'), ('country', 'Philippines')],\n",
              " [('city', 'Nea Smyrni'), ('country', 'Greece')],\n",
              " [('city', 'Hospitalet de Llobregat'), ('country', 'Spain')],\n",
              " [('city', 'Bogota'), ('country', 'Colombia')],\n",
              " [('city', 'Paris'), ('country', 'France')],\n",
              " [('city', 'Haora'), ('country', 'India')],\n",
              " [('city', 'Howrah'), ('country', 'India')],\n",
              " [('city', 'Dhaka'), ('country', 'Bangladesh')],\n",
              " [('city', 'Ahmedabad'), ('country', 'India')],\n",
              " [('city', 'Athens'), ('country', 'Greece')],\n",
              " [('city', 'Union City'), ('country', 'United States')],\n",
              " [('city', 'Naihati'), ('country', 'India')],\n",
              " [('city', 'Saint-Gilles'), ('country', 'Belgium')],\n",
              " [('city', 'Macau'), ('country', 'China')],\n",
              " [('city', 'Prayagraj'), ('country', 'India')],\n",
              " [('city', 'Panihati'), ('country', 'India')],\n",
              " [('city', 'Rishra'), ('country', 'India')],\n",
              " [('city', 'Sylhet'), ('country', 'Bangladesh')],\n",
              " [('city', 'Patna'), ('country', 'India')],\n",
              " [('city', 'Seoul'), ('country', 'South Korea')],\n",
              " [('city', 'Dafni'), ('country', 'Greece')],\n",
              " [('city', 'Khardaha'), ('country', 'India')],\n",
              " [('city', 'Bucheon'), ('country', 'South Korea')]]"
            ]
          },
          "metadata": {},
          "execution_count": 19
        }
      ],
      "source": [
        "selected_attrs = []\n",
        "\n",
        "for city in cities:\n",
        "  attr = []\n",
        "  for k, v in city.items():\n",
        "    if k == 'city' or k == 'country':\n",
        "      attr.append((k, v))\n",
        "  selected_attrs.append(attr)\n",
        "selected_attrs\n",
        "\n",
        "# [('city', 'Malé'), ('country', 'Maldives')]"
      ]
    },
    {
      "cell_type": "markdown",
      "id": "f885e728-67cb-41e4-b2c3-fc0b8234858c",
      "metadata": {
        "id": "f885e728-67cb-41e4-b2c3-fc0b8234858c"
      },
      "source": [
        "Ok, and now coerce that list of tuples into a dictionary."
      ]
    },
    {
      "cell_type": "code",
      "execution_count": 22,
      "id": "f3e0c62d-b411-42b4-8065-bf198ba20041",
      "metadata": {
        "id": "f3e0c62d-b411-42b4-8065-bf198ba20041",
        "outputId": "5815da46-cbae-4160-aea7-ed031dadd64b",
        "colab": {
          "base_uri": "https://localhost:8080/"
        }
      },
      "outputs": [
        {
          "output_type": "execute_result",
          "data": {
            "text/plain": [
              "{('city', 'Malé'): ('country', 'Maldives'),\n",
              " ('city', 'Manila'): ('country', 'Philippines'),\n",
              " ('city', 'Bogor'): ('country', 'Indonesia'),\n",
              " ('city', 'Titagarh'): ('country', 'India'),\n",
              " ('city', 'Baranagar'): ('country', 'India'),\n",
              " ('city', 'Serampore'): ('country', 'India'),\n",
              " ('city', 'South Dumdum'): ('country', 'India'),\n",
              " ('city', 'Kamarhati'): ('country', 'India'),\n",
              " ('city', 'Kolkata'): ('country', 'India'),\n",
              " ('city', 'Levallois-Perret'): ('country', 'France'),\n",
              " ('city', 'Mandaluyong'): ('country', 'Philippines'),\n",
              " ('city', 'Neapoli'): ('country', 'Greece'),\n",
              " ('city', 'Caloocan'): ('country', 'Philippines'),\n",
              " ('city', 'Karachi'): ('country', 'Pakistan'),\n",
              " ('city', 'Chennai'): ('country', 'India'),\n",
              " ('city', 'Sukabumi'): ('country', 'Indonesia'),\n",
              " ('city', 'Hyderabad'): ('country', 'India'),\n",
              " ('city', 'Saint-Josse-ten-Noode'): ('country', 'Belgium'),\n",
              " ('city', 'Malabon'): ('country', 'Philippines'),\n",
              " ('city', 'Kallithea'): ('country', 'Greece'),\n",
              " ('city', 'Mumbai'): ('country', 'India'),\n",
              " ('city', 'Jaigaon'): ('country', 'India'),\n",
              " ('city', 'Navotas'): ('country', 'Philippines'),\n",
              " ('city', 'Ampelokipoi'): ('country', 'Greece'),\n",
              " ('city', 'Banupur'): ('country', 'India'),\n",
              " ('city', 'Bally'): ('country', 'India'),\n",
              " ('city', 'Balurghat'): ('country', 'India'),\n",
              " ('city', 'Pasay'): ('country', 'Philippines'),\n",
              " ('city', 'Nea Smyrni'): ('country', 'Greece'),\n",
              " ('city', 'Hospitalet de Llobregat'): ('country', 'Spain'),\n",
              " ('city', 'Bogota'): ('country', 'Colombia'),\n",
              " ('city', 'Paris'): ('country', 'France'),\n",
              " ('city', 'Haora'): ('country', 'India'),\n",
              " ('city', 'Howrah'): ('country', 'India'),\n",
              " ('city', 'Dhaka'): ('country', 'Bangladesh'),\n",
              " ('city', 'Ahmedabad'): ('country', 'India'),\n",
              " ('city', 'Athens'): ('country', 'Greece'),\n",
              " ('city', 'Union City'): ('country', 'United States'),\n",
              " ('city', 'Naihati'): ('country', 'India'),\n",
              " ('city', 'Saint-Gilles'): ('country', 'Belgium'),\n",
              " ('city', 'Macau'): ('country', 'China'),\n",
              " ('city', 'Prayagraj'): ('country', 'India'),\n",
              " ('city', 'Panihati'): ('country', 'India'),\n",
              " ('city', 'Rishra'): ('country', 'India'),\n",
              " ('city', 'Sylhet'): ('country', 'Bangladesh'),\n",
              " ('city', 'Patna'): ('country', 'India'),\n",
              " ('city', 'Seoul'): ('country', 'South Korea'),\n",
              " ('city', 'Dafni'): ('country', 'Greece'),\n",
              " ('city', 'Khardaha'): ('country', 'India'),\n",
              " ('city', 'Bucheon'): ('country', 'South Korea')}"
            ]
          },
          "metadata": {},
          "execution_count": 22
        }
      ],
      "source": [
        "dict(selected_attrs)"
      ]
    },
    {
      "cell_type": "markdown",
      "id": "b0b74ad0-f15a-421f-91a4-4f7230afc7dd",
      "metadata": {
        "id": "b0b74ad0-f15a-421f-91a4-4f7230afc7dd"
      },
      "source": [
        "* Do for all"
      ]
    },
    {
      "cell_type": "markdown",
      "id": "80e16e0e-de68-4956-897b-d71f35609a7b",
      "metadata": {
        "id": "80e16e0e-de68-4956-897b-d71f35609a7b"
      },
      "source": [
        "Now if we want, we can loop through all of our cities, and for each city loop through the list of items."
      ]
    },
    {
      "cell_type": "code",
      "execution_count": 23,
      "id": "9becbcf5-2c9c-4947-9bb8-9abb35e0e54c",
      "metadata": {
        "id": "9becbcf5-2c9c-4947-9bb8-9abb35e0e54c",
        "outputId": "ce8190a6-75e7-42b5-f538-16dd5228b33f",
        "colab": {
          "base_uri": "https://localhost:8080/"
        }
      },
      "outputs": [
        {
          "output_type": "execute_result",
          "data": {
            "text/plain": [
              "[{'city': 'Malé', 'country': 'Maldives'},\n",
              " {'city': 'Manila', 'country': 'Philippines'},\n",
              " {'city': 'Bogor', 'country': 'Indonesia'}]"
            ]
          },
          "metadata": {},
          "execution_count": 23
        }
      ],
      "source": [
        "selected_cities = []\n",
        "for city in cities:\n",
        "    selected_k_vs = []\n",
        "    for k, v in city.items():\n",
        "        if k in ['city', 'country']:\n",
        "            selected_k_vs.append((k, v))\n",
        "    selected_cities.append(dict(selected_k_vs))\n",
        "\n",
        "selected_cities[:3]\n",
        "# [{'city': 'Malé', 'country': 'Maldives'},\n",
        "#  {'city': 'Manila', 'country': 'Philippines'},\n",
        "#  {'city': 'Bogor', 'country': 'Indonesia'}]"
      ]
    },
    {
      "cell_type": "markdown",
      "id": "d188ffac-8b76-40ea-89e9-2a1b6764dd0a",
      "metadata": {
        "id": "d188ffac-8b76-40ea-89e9-2a1b6764dd0a"
      },
      "source": [
        "But generally, we should avoid nested loops unless we absolutely need them -- it's just too difficult to keep track of all of those variables floating around."
      ]
    },
    {
      "cell_type": "markdown",
      "id": "2b2f515a-5788-424b-8f1f-563ce0e4880b",
      "metadata": {
        "id": "2b2f515a-5788-424b-8f1f-563ce0e4880b"
      },
      "source": [
        "So instead, we can use our earlier approach.  Just use list comprehension to create a list of city names and countries.  Then we can zip them together, and turn each resulting tuple into a dictionary."
      ]
    },
    {
      "cell_type": "code",
      "execution_count": 24,
      "id": "43a7b551-9838-4224-881f-6b7d438b8a9c",
      "metadata": {
        "id": "43a7b551-9838-4224-881f-6b7d438b8a9c",
        "outputId": "d3a59173-7895-49a8-c7a9-9f5e4de287c9",
        "colab": {
          "base_uri": "https://localhost:8080/"
        }
      },
      "outputs": [
        {
          "output_type": "execute_result",
          "data": {
            "text/plain": [
              "[('Malé', 'Maldives'), ('Manila', 'Philippines')]"
            ]
          },
          "metadata": {},
          "execution_count": 24
        }
      ],
      "source": [
        "city_names = [city['city'] for city in cities]\n",
        "country_names = [city['country'] for city in cities]\n",
        "\n",
        "city_countries = list(zip(city_names, country_names))\n",
        "city_countries[:2]"
      ]
    },
    {
      "cell_type": "code",
      "execution_count": 25,
      "id": "dfe3b75a-79f1-4f5c-9e54-f5d518ab495f",
      "metadata": {
        "id": "dfe3b75a-79f1-4f5c-9e54-f5d518ab495f",
        "outputId": "2e907eed-8ea6-4d07-d333-22f28695b98c",
        "colab": {
          "base_uri": "https://localhost:8080/"
        }
      },
      "outputs": [
        {
          "output_type": "execute_result",
          "data": {
            "text/plain": [
              "[{'city': 'Malé', 'country': 'Maldives'},\n",
              " {'city': 'Manila', 'country': 'Philippines'},\n",
              " {'city': 'Bogor', 'country': 'Indonesia'}]"
            ]
          },
          "metadata": {},
          "execution_count": 25
        }
      ],
      "source": [
        "abbrev_cities = []\n",
        "for city, country in city_countries:\n",
        "    abbrev_cities.append({'city': city, 'country': country})\n",
        "\n",
        "abbrev_cities[:3]"
      ]
    },
    {
      "cell_type": "markdown",
      "id": "b8a69efd-1581-4e9d-ac4f-a56d5e72bfba",
      "metadata": {
        "id": "b8a69efd-1581-4e9d-ac4f-a56d5e72bfba"
      },
      "source": [
        "Doesn't that look easier?  Instead of looping through our key value pairs, we just select the relevant list of values, zip them together, and then iterate through the list of tuples."
      ]
    },
    {
      "cell_type": "markdown",
      "id": "65e61554-973e-41ca-86e2-6dc1447041c5",
      "metadata": {
        "id": "65e61554-973e-41ca-86e2-6dc1447041c5"
      },
      "source": [
        "And we could even create the dictionary by zipping together the keys and values."
      ]
    },
    {
      "cell_type": "code",
      "execution_count": 26,
      "id": "1ab73335-0aa4-4abf-bb55-8f46e80dbcf6",
      "metadata": {
        "id": "1ab73335-0aa4-4abf-bb55-8f46e80dbcf6",
        "outputId": "026bf573-d04f-4ebe-be72-208d409cb822",
        "colab": {
          "base_uri": "https://localhost:8080/"
        }
      },
      "outputs": [
        {
          "output_type": "execute_result",
          "data": {
            "text/plain": [
              "[{'city': 'Malé', 'country': 'Maldives'},\n",
              " {'city': 'Manila', 'country': 'Philippines'},\n",
              " {'city': 'Bogor', 'country': 'Indonesia'}]"
            ]
          },
          "metadata": {},
          "execution_count": 26
        }
      ],
      "source": [
        "abbrev_cities = []\n",
        "keys = ['city', 'country']\n",
        "for vals in city_countries:\n",
        "    abbrev_cities.append(dict(zip(keys, vals)))\n",
        "\n",
        "abbrev_cities[:3]"
      ]
    },
    {
      "cell_type": "markdown",
      "id": "116797f6-95b4-4e74-b325-bc41ca41933a",
      "metadata": {
        "id": "116797f6-95b4-4e74-b325-bc41ca41933a"
      },
      "source": [
        "### Summary"
      ]
    },
    {
      "cell_type": "markdown",
      "id": "68f9f754-3efd-494d-b98e-9e0910cdb107",
      "metadata": {
        "id": "68f9f754-3efd-494d-b98e-9e0910cdb107"
      },
      "source": [
        "In this lesson, we worked with zipping and unpacking, and saw how we can use this to create dictionaries with fewer attributes than our original dictioaries.  Our pattern for doing this was to select the relevant attributes into two separate lists, then zip them together, iterate through the resulting tuples."
      ]
    },
    {
      "cell_type": "code",
      "execution_count": null,
      "id": "33580ab2-456c-414e-9c9d-a77cf53008eb",
      "metadata": {
        "id": "33580ab2-456c-414e-9c9d-a77cf53008eb"
      },
      "outputs": [],
      "source": [
        "city_names = [city['city'] for city in cities]\n",
        "country_names = [city['country'] for city in cities]\n",
        "\n",
        "city_countries = list(zip(city_names, country_names))\n",
        "\n",
        "abbrev_cities = []\n",
        "for city, country in city_countries:\n",
        "    abbrev_cities.append({'city': city, 'country': country})"
      ]
    },
    {
      "cell_type": "markdown",
      "id": "1406f5e8-5e97-44b8-9ece-7184b20d4faa",
      "metadata": {
        "id": "1406f5e8-5e97-44b8-9ece-7184b20d4faa"
      },
      "source": [
        "We also saw how we can -- if we need to -- iterate through the key value pairs of a single dictionary.  We do that with something like the following:"
      ]
    },
    {
      "cell_type": "code",
      "execution_count": null,
      "id": "abe5a473-121a-4a55-91ee-8d87da51338e",
      "metadata": {
        "id": "abe5a473-121a-4a55-91ee-8d87da51338e",
        "outputId": "1b913639-6b90-4112-b687-18276f547875"
      },
      "outputs": [
        {
          "data": {
            "text/plain": [
              "[('city', 'Malé'), ('country', 'Maldives')]"
            ]
          },
          "execution_count": 8,
          "metadata": {},
          "output_type": "execute_result"
        }
      ],
      "source": [
        "first_city = cities[0]\n",
        "\n",
        "selected_attrs = []\n",
        "for k, v in first_city.items():\n",
        "    if k == 'city' or k == 'country':\n",
        "        selected_attrs.append((k, v))\n",
        "\n",
        "selected_attrs"
      ]
    },
    {
      "cell_type": "code",
      "execution_count": null,
      "id": "cf8913a0-8036-4473-a4a7-0d093ed00fd3",
      "metadata": {
        "id": "cf8913a0-8036-4473-a4a7-0d093ed00fd3",
        "outputId": "36b769d1-9769-450c-ac58-22dffa0d823b"
      },
      "outputs": [
        {
          "data": {
            "text/plain": [
              "{'city': 'Malé', 'country': 'Maldives'}"
            ]
          },
          "execution_count": 9,
          "metadata": {},
          "output_type": "execute_result"
        }
      ],
      "source": [
        "dict(selected_attrs)"
      ]
    },
    {
      "cell_type": "code",
      "execution_count": null,
      "id": "9dd6c5d9-ed65-41f2-9494-d8cb676076a2",
      "metadata": {
        "id": "9dd6c5d9-ed65-41f2-9494-d8cb676076a2"
      },
      "outputs": [],
      "source": []
    }
  ],
  "metadata": {
    "kernelspec": {
      "display_name": "Python 3 (ipykernel)",
      "language": "python",
      "name": "python3"
    },
    "language_info": {
      "codemirror_mode": {
        "name": "ipython",
        "version": 3
      },
      "file_extension": ".py",
      "mimetype": "text/x-python",
      "name": "python",
      "nbconvert_exporter": "python",
      "pygments_lexer": "ipython3",
      "version": "3.11.5"
    },
    "colab": {
      "provenance": []
    }
  },
  "nbformat": 4,
  "nbformat_minor": 5
}