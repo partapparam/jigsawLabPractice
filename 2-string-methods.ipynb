{
  "cells": [
    {
      "cell_type": "markdown",
      "metadata": {
        "id": "LMO0vsXNK_n9"
      },
      "source": [
        "# String Methods"
      ]
    },
    {
      "cell_type": "markdown",
      "metadata": {
        "id": "0dY3MZzbK_oD"
      },
      "source": [
        "### Introduction\n",
        "\n",
        "In this lesson, we'll go a little further into our understanding of strings.  Lots of times when we're working with data on the Internet, we're really working with strings.  So it's important for us to know the different methods for cleaning up this kind of data, and then how to coerce it into different data structures that may be easiest to work with."
      ]
    },
    {
      "cell_type": "markdown",
      "metadata": {
        "id": "yPDJ-Y65K_oF"
      },
      "source": [
        "### Loading our Data"
      ]
    },
    {
      "cell_type": "markdown",
      "metadata": {
        "id": "kXvwlI2lK_oF"
      },
      "source": [
        "For this lesson, let's work with data regarding NBA players.  We can go to a website and scrape roster data with something like the following."
      ]
    },
    {
      "cell_type": "markdown",
      "metadata": {
        "id": "kkVXRgcaK_oG"
      },
      "source": [
        "> Press `shift + return` on the following."
      ]
    },
    {
      "cell_type": "code",
      "execution_count": 1,
      "metadata": {
        "id": "HX-ekOlOK_oG"
      },
      "outputs": [],
      "source": [
        "import pandas as pd\n",
        "\n",
        "url = \"https://www.espn.com/nba/team/roster/_/name/phi\"\n",
        "\n",
        "roster = pd.read_html(url)[0]"
      ]
    },
    {
      "cell_type": "markdown",
      "metadata": {
        "id": "ZXPP7wLpK_oH"
      },
      "source": [
        "> Or we can just load the data from the following CSV file."
      ]
    },
    {
      "cell_type": "code",
      "execution_count": 2,
      "metadata": {
        "id": "XQwHmV8JK_oI"
      },
      "outputs": [],
      "source": [
        "import pandas as pd\n",
        "url = \"https://raw.githubusercontent.com/eng-6-22/mod-1-fundamentals/master/sixers_roster.csv\"\n",
        "roster_df = pd.read_csv(url)"
      ]
    },
    {
      "cell_type": "markdown",
      "metadata": {
        "id": "q09aghuAK_oI"
      },
      "source": [
        "Ok, let's work with the first list of data.\n",
        "\n",
        "> Before doing so, we'll use just a bit of pandas here to slightly clean up our data.  You can ignore what we're doing below.  Just press `shift + return`.  "
      ]
    },
    {
      "cell_type": "code",
      "execution_count": 3,
      "metadata": {
        "id": "emv9lrAVK_oJ"
      },
      "outputs": [],
      "source": [
        "players_df = roster_df[['Name', 'POS', 'Age', 'HT', 'WT', 'College', 'Salary']]"
      ]
    },
    {
      "cell_type": "markdown",
      "metadata": {
        "id": "0uifrs4MK_oJ"
      },
      "source": [
        "Then we convert our data to a list of dictionaries."
      ]
    },
    {
      "cell_type": "code",
      "execution_count": 4,
      "metadata": {
        "id": "ltdj5YceK_oJ"
      },
      "outputs": [],
      "source": [
        "players = players_df.to_dict('records')"
      ]
    },
    {
      "cell_type": "markdown",
      "metadata": {
        "id": "kw3gXxumK_oJ"
      },
      "source": [
        "Now let's look at the data in players."
      ]
    },
    {
      "cell_type": "code",
      "execution_count": 8,
      "metadata": {
        "id": "ZwMWi2DVK_oJ",
        "outputId": "39d4377a-53de-4c02-8aaa-2d54f6903397",
        "colab": {
          "base_uri": "https://localhost:8080/"
        }
      },
      "outputs": [
        {
          "output_type": "execute_result",
          "data": {
            "text/plain": [
              "[{'Name': 'Ryan Broekhoff45',\n",
              "  'POS': 'SG',\n",
              "  'Age': 30,\n",
              "  'HT': '6\\' 6\"',\n",
              "  'WT': '215 lbs',\n",
              "  'College': 'Valparaiso',\n",
              "  'Salary': '$1,416,852'},\n",
              " {'Name': 'Alec Burks20',\n",
              "  'POS': 'SG',\n",
              "  'Age': 29,\n",
              "  'HT': '6\\' 6\"',\n",
              "  'WT': '214 lbs',\n",
              "  'College': 'Colorado',\n",
              "  'Salary': '$1,620,564'}]"
            ]
          },
          "metadata": {},
          "execution_count": 8
        }
      ],
      "source": [
        "players[:2]"
      ]
    },
    {
      "cell_type": "markdown",
      "metadata": {
        "id": "wpFCr3VZK_oK"
      },
      "source": [
        "So `players` is a list of dictionaries. And if we look at the first few players, we can see that there are various issues with the text.  It would be nice, if we could programatically clean up some of this data."
      ]
    },
    {
      "cell_type": "markdown",
      "metadata": {
        "id": "4UYRJNv_K_oK"
      },
      "source": [
        "Let's focus in on the first nba player and see how we can do so."
      ]
    },
    {
      "cell_type": "code",
      "execution_count": 9,
      "metadata": {
        "id": "FQhGI8I8K_oL"
      },
      "outputs": [],
      "source": [
        "player = players[0]"
      ]
    },
    {
      "cell_type": "code",
      "execution_count": 10,
      "metadata": {
        "id": "GKydUAC5K_oL",
        "outputId": "98ad7817-31df-48d9-df55-4b1b01f3c2f8",
        "colab": {
          "base_uri": "https://localhost:8080/"
        }
      },
      "outputs": [
        {
          "output_type": "execute_result",
          "data": {
            "text/plain": [
              "{'Name': 'Ryan Broekhoff45',\n",
              " 'POS': 'SG',\n",
              " 'Age': 30,\n",
              " 'HT': '6\\' 6\"',\n",
              " 'WT': '215 lbs',\n",
              " 'College': 'Valparaiso',\n",
              " 'Salary': '$1,416,852'}"
            ]
          },
          "metadata": {},
          "execution_count": 10
        }
      ],
      "source": [
        "player"
      ]
    },
    {
      "cell_type": "markdown",
      "metadata": {
        "id": "px5J8Gg9K_oL"
      },
      "source": [
        "Now from there we can select the current player name."
      ]
    },
    {
      "cell_type": "code",
      "execution_count": 11,
      "metadata": {
        "id": "QxuwdXWrK_oL",
        "outputId": "3281369a-eb58-45f4-fddb-e40b271e6575",
        "colab": {
          "base_uri": "https://localhost:8080/",
          "height": 35
        }
      },
      "outputs": [
        {
          "output_type": "execute_result",
          "data": {
            "text/plain": [
              "'Ryan Broekhoff45'"
            ],
            "application/vnd.google.colaboratory.intrinsic+json": {
              "type": "string"
            }
          },
          "metadata": {},
          "execution_count": 11
        }
      ],
      "source": [
        "name = player['Name']\n",
        "name"
      ]
    },
    {
      "cell_type": "markdown",
      "metadata": {
        "id": "hCxy3zaVK_oL"
      },
      "source": [
        "Ok now it's time to focus on cleaning up this data.  To do so, there are few things about strings we should learn."
      ]
    },
    {
      "cell_type": "markdown",
      "metadata": {
        "id": "I0ENOL-XK_oL"
      },
      "source": [
        "### Strings are like lists"
      ]
    },
    {
      "cell_type": "markdown",
      "metadata": {
        "id": "RHV-FwFtK_oM"
      },
      "source": [
        "One thing that can help us our in working with strings is recognizing they are pretty similar to lists.  A string is really just a collection of characters.  And because of that, we can perform similar operations as we would on a list.\n",
        "\n",
        "For example, below we select the first from string."
      ]
    },
    {
      "cell_type": "code",
      "execution_count": 12,
      "metadata": {
        "id": "Gh2Ay_OGK_oV",
        "outputId": "501546d0-df99-4dd9-e50e-cdc3abcddfd4",
        "colab": {
          "base_uri": "https://localhost:8080/",
          "height": 35
        }
      },
      "outputs": [
        {
          "output_type": "execute_result",
          "data": {
            "text/plain": [
              "'R'"
            ],
            "application/vnd.google.colaboratory.intrinsic+json": {
              "type": "string"
            }
          },
          "metadata": {},
          "execution_count": 12
        }
      ],
      "source": [
        "name[0]"
      ]
    },
    {
      "cell_type": "markdown",
      "metadata": {
        "id": "HTsOZ_nMK_oV"
      },
      "source": [
        "> So just like with a list, we use the bracket accessors followed by the index."
      ]
    },
    {
      "cell_type": "markdown",
      "metadata": {
        "id": "8oGNzMP_K_oV"
      },
      "source": [
        "And, just like in a list, we can also slice elements from a string.  For example, let's slice all but the last two elements from our string above."
      ]
    },
    {
      "cell_type": "code",
      "execution_count": 13,
      "metadata": {
        "id": "Mfl7SF5qK_oV",
        "outputId": "a0a04aff-9942-4920-c560-3cc5d6fb81c3",
        "colab": {
          "base_uri": "https://localhost:8080/",
          "height": 35
        }
      },
      "outputs": [
        {
          "output_type": "execute_result",
          "data": {
            "text/plain": [
              "'Ryan Broekhoff45'"
            ],
            "application/vnd.google.colaboratory.intrinsic+json": {
              "type": "string"
            }
          },
          "metadata": {},
          "execution_count": 13
        }
      ],
      "source": [
        "name"
      ]
    },
    {
      "cell_type": "code",
      "execution_count": 14,
      "metadata": {
        "id": "VrfUQLZjK_oW",
        "outputId": "d5b80267-07a9-49fb-de95-e3e249f23a79",
        "colab": {
          "base_uri": "https://localhost:8080/",
          "height": 35
        }
      },
      "outputs": [
        {
          "output_type": "execute_result",
          "data": {
            "text/plain": [
              "'Ryan Broekhoff'"
            ],
            "application/vnd.google.colaboratory.intrinsic+json": {
              "type": "string"
            }
          },
          "metadata": {},
          "execution_count": 14
        }
      ],
      "source": [
        "name[0:-2]"
      ]
    },
    {
      "cell_type": "markdown",
      "metadata": {
        "id": "_1KVIPCqK_oW"
      },
      "source": [
        "### Changing between Strings and Lists"
      ]
    },
    {
      "cell_type": "markdown",
      "metadata": {
        "id": "IbgnSdfDK_oW"
      },
      "source": [
        "1. Splitting our Strings"
      ]
    },
    {
      "cell_type": "markdown",
      "metadata": {
        "id": "Ywc5ecnnK_oW"
      },
      "source": [
        "Often times we'll want to divide go from a string to a list of words.  We can do so with the split method.  "
      ]
    },
    {
      "cell_type": "code",
      "execution_count": 15,
      "metadata": {
        "id": "idngByBbK_oW",
        "outputId": "4b37b86d-e887-491b-c145-f251c77ecc3e",
        "colab": {
          "base_uri": "https://localhost:8080/",
          "height": 35
        }
      },
      "outputs": [
        {
          "output_type": "execute_result",
          "data": {
            "text/plain": [
              "'Ryan Broekhoff45'"
            ],
            "application/vnd.google.colaboratory.intrinsic+json": {
              "type": "string"
            }
          },
          "metadata": {},
          "execution_count": 15
        }
      ],
      "source": [
        "name"
      ]
    },
    {
      "cell_type": "code",
      "execution_count": 16,
      "metadata": {
        "id": "6CNZpsGTK_oW",
        "outputId": "3d5680b8-0ce3-4511-8913-65a6123be2c4",
        "colab": {
          "base_uri": "https://localhost:8080/"
        }
      },
      "outputs": [
        {
          "output_type": "execute_result",
          "data": {
            "text/plain": [
              "['Ryan', 'Broekhoff45']"
            ]
          },
          "metadata": {},
          "execution_count": 16
        }
      ],
      "source": [
        "name.split()"
      ]
    },
    {
      "cell_type": "markdown",
      "metadata": {
        "id": "AoNHVZVDK_oW"
      },
      "source": [
        "The default behavior with `split` is to divide the string by a space.  But really, we can split by any character that we like."
      ]
    },
    {
      "cell_type": "markdown",
      "metadata": {
        "id": "tgIrwsDvK_oX"
      },
      "source": [
        "> For example, let's select the player's salary."
      ]
    },
    {
      "cell_type": "code",
      "execution_count": 17,
      "metadata": {
        "id": "I30m_hfIK_oX",
        "outputId": "d5b8a7af-4e2e-4f50-8d01-50df7bf74ed6",
        "colab": {
          "base_uri": "https://localhost:8080/",
          "height": 35
        }
      },
      "outputs": [
        {
          "output_type": "execute_result",
          "data": {
            "text/plain": [
              "'$1,416,852'"
            ],
            "application/vnd.google.colaboratory.intrinsic+json": {
              "type": "string"
            }
          },
          "metadata": {},
          "execution_count": 17
        }
      ],
      "source": [
        "salary = player['Salary']\n",
        "salary"
      ]
    },
    {
      "cell_type": "markdown",
      "metadata": {
        "id": "V9_4MdMpK_oX"
      },
      "source": [
        "1. `replace`"
      ]
    },
    {
      "cell_type": "markdown",
      "metadata": {
        "id": "DPeY0GGNK_oY"
      },
      "source": [
        "Now one way to remove the commas is with the replace method."
      ]
    },
    {
      "cell_type": "code",
      "execution_count": 18,
      "metadata": {
        "id": "W30IyKXWK_oZ",
        "outputId": "b732f43f-0a6a-4bab-a597-b0131a25d3f9",
        "colab": {
          "base_uri": "https://localhost:8080/",
          "height": 35
        }
      },
      "outputs": [
        {
          "output_type": "execute_result",
          "data": {
            "text/plain": [
              "'$1416852'"
            ],
            "application/vnd.google.colaboratory.intrinsic+json": {
              "type": "string"
            }
          },
          "metadata": {},
          "execution_count": 18
        }
      ],
      "source": [
        "salary.replace(',', '')"
      ]
    },
    {
      "cell_type": "markdown",
      "metadata": {
        "id": "moOTsw_XK_od"
      },
      "source": [
        "So above we are replacing the `,` with an empty string `''`, which effectively removes it."
      ]
    },
    {
      "cell_type": "markdown",
      "metadata": {
        "id": "9MWgKPxNK_od"
      },
      "source": [
        "2. Split"
      ]
    },
    {
      "cell_type": "markdown",
      "metadata": {
        "id": "eUdAV7mCK_oe"
      },
      "source": [
        "Another way we can remove the commas is with the `split` method.  Below we'll start with our salary again, and then split by comma."
      ]
    },
    {
      "cell_type": "code",
      "execution_count": 19,
      "metadata": {
        "id": "vKg-GgJaK_oe",
        "outputId": "98676f6b-fa80-4ad2-940e-8f6200487b93",
        "colab": {
          "base_uri": "https://localhost:8080/",
          "height": 35
        }
      },
      "outputs": [
        {
          "output_type": "execute_result",
          "data": {
            "text/plain": [
              "'$1,416,852'"
            ],
            "application/vnd.google.colaboratory.intrinsic+json": {
              "type": "string"
            }
          },
          "metadata": {},
          "execution_count": 19
        }
      ],
      "source": [
        "salary"
      ]
    },
    {
      "cell_type": "code",
      "execution_count": 20,
      "metadata": {
        "id": "bKpwJh1hK_oe",
        "outputId": "d733b270-2209-4802-ea20-8b177e74ebae",
        "colab": {
          "base_uri": "https://localhost:8080/"
        }
      },
      "outputs": [
        {
          "output_type": "execute_result",
          "data": {
            "text/plain": [
              "['$1', '416', '852']"
            ]
          },
          "metadata": {},
          "execution_count": 20
        }
      ],
      "source": [
        "salary_div = salary.split(',')\n",
        "\n",
        "salary_div"
      ]
    },
    {
      "cell_type": "markdown",
      "metadata": {
        "id": "hHbE431gK_oe"
      },
      "source": [
        "Notice that the `split` method removes the character that we are splitting on, and turns each partition into a separate element in a list."
      ]
    },
    {
      "cell_type": "markdown",
      "metadata": {
        "id": "YVKUNqg7K_oe"
      },
      "source": [
        "2. Joining from lists"
      ]
    },
    {
      "cell_type": "markdown",
      "metadata": {
        "id": "zvnxK5ZRK_oh"
      },
      "source": [
        "Now a way to go from list to string is with the join method.  Let's take another look at our `salary_div` list."
      ]
    },
    {
      "cell_type": "code",
      "execution_count": 21,
      "metadata": {
        "id": "PvaR7yIZK_oh",
        "outputId": "e2f76196-84a8-42e8-b9e4-da71adab6978",
        "colab": {
          "base_uri": "https://localhost:8080/"
        }
      },
      "outputs": [
        {
          "output_type": "execute_result",
          "data": {
            "text/plain": [
              "['$1', '416', '852']"
            ]
          },
          "metadata": {},
          "execution_count": 21
        }
      ],
      "source": [
        "salary_div"
      ]
    },
    {
      "cell_type": "code",
      "execution_count": 22,
      "metadata": {
        "id": "r3zOe5unK_oi",
        "outputId": "08fdc1fb-a023-4c40-c2ec-5e5c1dcd74ff",
        "colab": {
          "base_uri": "https://localhost:8080/",
          "height": 35
        }
      },
      "outputs": [
        {
          "output_type": "execute_result",
          "data": {
            "text/plain": [
              "'$1416852'"
            ],
            "application/vnd.google.colaboratory.intrinsic+json": {
              "type": "string"
            }
          },
          "metadata": {},
          "execution_count": 22
        }
      ],
      "source": [
        "''.join(salary_div)"
      ]
    },
    {
      "cell_type": "markdown",
      "metadata": {
        "id": "ysRVDM9uK_oi"
      },
      "source": [
        "So with join, we start with the string we are joining by and then pass through the list as the argument.  If we want to reinsert our commas, we can simply join on a string with a comma."
      ]
    },
    {
      "cell_type": "code",
      "execution_count": 23,
      "metadata": {
        "id": "eSkN1gMQK_oi",
        "outputId": "35d03b74-0467-40af-f38f-6d4cd6a8a0f0",
        "colab": {
          "base_uri": "https://localhost:8080/",
          "height": 35
        }
      },
      "outputs": [
        {
          "output_type": "execute_result",
          "data": {
            "text/plain": [
              "'$1,416,852'"
            ],
            "application/vnd.google.colaboratory.intrinsic+json": {
              "type": "string"
            }
          },
          "metadata": {},
          "execution_count": 23
        }
      ],
      "source": [
        "','.join(salary_div)"
      ]
    },
    {
      "cell_type": "markdown",
      "metadata": {
        "id": "YjS13pMSK_oi"
      },
      "source": [
        "So moving between lists and strings can often be a good way to clean up our data.  For example, let's clean up the weight information about a player."
      ]
    },
    {
      "cell_type": "code",
      "execution_count": 24,
      "metadata": {
        "id": "v5B2e9oRK_oi",
        "outputId": "5401bd51-3659-42a9-fc7c-a8efd6e4b6d0",
        "colab": {
          "base_uri": "https://localhost:8080/",
          "height": 35
        }
      },
      "outputs": [
        {
          "output_type": "execute_result",
          "data": {
            "text/plain": [
              "'215 lbs'"
            ],
            "application/vnd.google.colaboratory.intrinsic+json": {
              "type": "string"
            }
          },
          "metadata": {},
          "execution_count": 24
        }
      ],
      "source": [
        "player['WT']"
      ]
    },
    {
      "cell_type": "code",
      "execution_count": 26,
      "metadata": {
        "id": "ovva16OEK_oj",
        "outputId": "e3e2555f-0779-4d96-b6bc-5cbf97e09f15",
        "colab": {
          "base_uri": "https://localhost:8080/"
        }
      },
      "outputs": [
        {
          "output_type": "execute_result",
          "data": {
            "text/plain": [
              "['215', 'lbs']"
            ]
          },
          "metadata": {},
          "execution_count": 26
        }
      ],
      "source": [
        "player['WT'].split(' ')"
      ]
    },
    {
      "cell_type": "code",
      "execution_count": 27,
      "metadata": {
        "id": "o3muAM8SK_oj",
        "outputId": "6c3c2b8a-5d32-4784-c42b-414577f98694",
        "colab": {
          "base_uri": "https://localhost:8080/",
          "height": 35
        }
      },
      "outputs": [
        {
          "output_type": "execute_result",
          "data": {
            "text/plain": [
              "'215'"
            ],
            "application/vnd.google.colaboratory.intrinsic+json": {
              "type": "string"
            }
          },
          "metadata": {},
          "execution_count": 27
        }
      ],
      "source": [
        "player['WT'].split(' ')[0]"
      ]
    },
    {
      "cell_type": "markdown",
      "metadata": {
        "id": "PV47nv55K_oj"
      },
      "source": [
        "And now we can even coerce this to an integer."
      ]
    },
    {
      "cell_type": "code",
      "execution_count": 28,
      "metadata": {
        "id": "zEJjA2fRK_oj",
        "outputId": "3f5071f9-0e46-4164-e02e-5b02a0080be4",
        "colab": {
          "base_uri": "https://localhost:8080/"
        }
      },
      "outputs": [
        {
          "output_type": "execute_result",
          "data": {
            "text/plain": [
              "215"
            ]
          },
          "metadata": {},
          "execution_count": 28
        }
      ],
      "source": [
        "int(player['WT'].split(' ')[0])"
      ]
    },
    {
      "cell_type": "markdown",
      "metadata": {
        "id": "edr4ZvQaK_ok"
      },
      "source": [
        "### Summary"
      ]
    },
    {
      "cell_type": "markdown",
      "metadata": {
        "id": "5zKCBqZYK_ok"
      },
      "source": [
        "In this lesson, we continued our understanding of operations we can perform using strings.  For example, we saw that we can think of strings as a collection of characters.  And to that respect, we can select certain characters from a string with our bracket accessors."
      ]
    },
    {
      "cell_type": "code",
      "execution_count": null,
      "metadata": {
        "id": "EdPlVGVRK_ok",
        "outputId": "17b52704-9d68-45fd-afa0-cf7bde9458d9"
      },
      "outputs": [
        {
          "data": {
            "text/plain": [
              "'Ryan Broekhoff'"
            ]
          },
          "execution_count": 84,
          "metadata": {},
          "output_type": "execute_result"
        }
      ],
      "source": [
        "name = 'Ryan Broekhoff45'\n",
        "\n",
        "name[0:-2]"
      ]
    },
    {
      "cell_type": "markdown",
      "metadata": {
        "id": "uAYMtJTQK_ok"
      },
      "source": [
        "We also saw that we can use the replace method to subsitute, or to simply remove characters from a string."
      ]
    },
    {
      "cell_type": "code",
      "execution_count": null,
      "metadata": {
        "id": "b8_-I1bAK_ok",
        "outputId": "bc6fd5bd-7c77-45b7-e704-455e9f55fee7"
      },
      "outputs": [
        {
          "data": {
            "text/plain": [
              "'$1416852'"
            ]
          },
          "execution_count": 22,
          "metadata": {},
          "output_type": "execute_result"
        }
      ],
      "source": [
        "salary = '$1,416,852'\n",
        "\n",
        "salary.replace(',', '')"
      ]
    },
    {
      "cell_type": "markdown",
      "metadata": {
        "id": "Cg9atARvK_ok"
      },
      "source": [
        "In addition, we can divide our string by a specified character using split."
      ]
    },
    {
      "cell_type": "code",
      "execution_count": null,
      "metadata": {
        "id": "OXxaAiCoK_ol",
        "outputId": "7816b295-d66f-4c72-9707-0821e3ca934b"
      },
      "outputs": [
        {
          "data": {
            "text/plain": [
              "['Ryan', 'Broekhoff']"
            ]
          },
          "execution_count": 91,
          "metadata": {},
          "output_type": "execute_result"
        }
      ],
      "source": [
        "name[0:-2].split(' ')"
      ]
    },
    {
      "cell_type": "code",
      "execution_count": null,
      "metadata": {
        "id": "VuyeroZxK_ol",
        "outputId": "b38ba74e-c7be-415f-ccdd-ec0a4def56bb"
      },
      "outputs": [
        {
          "data": {
            "text/plain": [
              "['Ryan ', 'roekhoff']"
            ]
          },
          "execution_count": 89,
          "metadata": {},
          "output_type": "execute_result"
        }
      ],
      "source": [
        "name[0:-2].split('B')"
      ]
    },
    {
      "cell_type": "markdown",
      "metadata": {
        "id": "Rh_S8l3kK_ol"
      },
      "source": [
        "Just be aware that the character we split by is removed.  Finally, we can go from a list back to a string with the join method.  "
      ]
    },
    {
      "cell_type": "code",
      "execution_count": null,
      "metadata": {
        "id": "6JqY_N3YK_ol",
        "outputId": "98ddd2b9-661d-4c88-caea-982c2aedac1a"
      },
      "outputs": [
        {
          "data": {
            "text/plain": [
              "'Ryan Broekhoff'"
            ]
          },
          "execution_count": 92,
          "metadata": {},
          "output_type": "execute_result"
        }
      ],
      "source": [
        "' '.join(['Ryan', 'Broekhoff'])"
      ]
    }
  ],
  "metadata": {
    "kernelspec": {
      "display_name": "Python 3 (ipykernel)",
      "language": "python",
      "name": "python3"
    },
    "language_info": {
      "codemirror_mode": {
        "name": "ipython",
        "version": 3
      },
      "file_extension": ".py",
      "mimetype": "text/x-python",
      "name": "python",
      "nbconvert_exporter": "python",
      "pygments_lexer": "ipython3",
      "version": "3.10.6"
    },
    "colab": {
      "provenance": []
    }
  },
  "nbformat": 4,
  "nbformat_minor": 0
}