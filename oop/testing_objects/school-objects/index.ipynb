{
 "cells": [
  {
   "cell_type": "code",
   "execution_count": 1,
   "metadata": {},
   "outputs": [],
   "source": [
    "import pandas as pd\n",
    "url = \"https://raw.githubusercontent.com/jigsawlabs-student/decision-trees-intro/master/3-practical-ds-4/nyc_hs_sat.csv\"\n",
    "df = pd.read_csv(url)\n",
    "schools = df.to_dict('records')\n"
   ]
  },
  {
   "cell_type": "markdown",
   "metadata": {},
   "source": [
    "\n",
    "\n"
   ]
  },
  {
   "cell_type": "code",
   "execution_count": 2,
   "metadata": {},
   "outputs": [
    {
     "data": {
      "text/plain": [
       "{'dbn': '01M292',\n",
       " 'name': 'HENRY STREET SCHOOL FOR INTERNATIONAL STUDIES',\n",
       " 'num_test_takers': 29.0,\n",
       " 'reading_avg': 355.0,\n",
       " 'math_avg': 404.0,\n",
       " 'writing_score': 363.0,\n",
       " 'boro': 'M',\n",
       " 'total_students': 171,\n",
       " 'graduation_rate': 0.66,\n",
       " 'attendance_rate': 0.87,\n",
       " 'college_career_rate': 0.36}"
      ]
     },
     "execution_count": 2,
     "metadata": {},
     "output_type": "execute_result"
    }
   ],
   "source": [
    "schools[0]\n",
    "\n"
   ]
  }
 ],
 "metadata": {
  "kernelspec": {
   "display_name": "Python 3 (ipykernel)",
   "language": "python",
   "name": "python3"
  },
  "language_info": {
   "codemirror_mode": {
    "name": "ipython",
    "version": 3
   },
   "file_extension": ".py",
   "mimetype": "text/x-python",
   "name": "python",
   "nbconvert_exporter": "python",
   "pygments_lexer": "ipython3",
   "version": "3.11.5"
  }
 },
 "nbformat": 4,
 "nbformat_minor": 2
}
