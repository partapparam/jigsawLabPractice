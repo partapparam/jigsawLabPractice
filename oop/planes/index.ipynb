{
  "cells": [
    {
      "cell_type": "markdown",
      "metadata": {
        "id": "iwi-qynQB0S2"
      },
      "source": [
        "# Objects Discussion Questions"
      ]
    },
    {
      "cell_type": "markdown",
      "metadata": {
        "id": "-Ar5S8cRB0TE"
      },
      "source": [
        "### Introduction"
      ]
    },
    {
      "cell_type": "markdown",
      "metadata": {
        "id": "YUQUYsY1B0TF"
      },
      "source": [
        "Previously, we learned about object oriented programming.  Let's do some brief review in this lesson."
      ]
    },
    {
      "cell_type": "markdown",
      "metadata": {
        "id": "PEFeHPjmB0TF"
      },
      "source": [
        "### 1. Creating Objects"
      ]
    },
    {
      "cell_type": "markdown",
      "metadata": {
        "id": "zpf2zsBYB0TI"
      },
      "source": [
        "1. Below, create a class called `Plane`, and initialize two different plane instances."
      ]
    },
    {
      "cell_type": "code",
      "execution_count": 8,
      "metadata": {
        "id": "riudUshtB0TN"
      },
      "outputs": [],
      "source": [
        "# create the plane class here\n",
        "import datetime\n",
        "class Plane:\n",
        "    def __init__(self, seats_per_row, number_of_rows, year):\n",
        "      self.seats_per_row = seats_per_row\n",
        "      self.number_of_rows = number_of_rows\n",
        "      self.year = year\n"
      ]
    },
    {
      "cell_type": "code",
      "execution_count": 3,
      "metadata": {
        "id": "fhAm48PNB0TT"
      },
      "outputs": [],
      "source": [
        "boeing = Plane()"
      ]
    },
    {
      "cell_type": "code",
      "execution_count": 4,
      "metadata": {
        "id": "EIlaoKppB0TV"
      },
      "outputs": [],
      "source": [
        "twa = Plane()"
      ]
    },
    {
      "cell_type": "code",
      "source": [
        "boeing.seats_per_row = 10\n",
        "boeing.number_of_rows = 30\n",
        "twa.seats_per_row = 6\n",
        "twa.number_of_rows = 25"
      ],
      "metadata": {
        "id": "UgWT1kQ1E2XX"
      },
      "execution_count": 5,
      "outputs": []
    },
    {
      "cell_type": "markdown",
      "metadata": {
        "id": "Iw3jyT_yB0TW"
      },
      "source": [
        "Next add a couple of attributes to the boeing plane."
      ]
    },
    {
      "cell_type": "markdown",
      "metadata": {
        "id": "wu_8IxBsB0TW"
      },
      "source": [
        "Give the Boeing instance the following attributes:\n",
        "* Assign the `seats_per_row` to be `10`\n",
        "* And assign be and `number_of_rows` to be 30."
      ]
    },
    {
      "cell_type": "markdown",
      "metadata": {
        "id": "kZAP313TB0TX"
      },
      "source": [
        "Give the `twa` instance the following attributes:\n",
        "* Assign the `seats_per_row` to be `6`\n",
        "* And assign be and `number_of_rows` to be `25`."
      ]
    },
    {
      "cell_type": "markdown",
      "metadata": {
        "id": "DYhcQMVgB0TX"
      },
      "source": [
        "### 2. Enforcing Attributes"
      ]
    },
    {
      "cell_type": "markdown",
      "metadata": {
        "id": "4HawsDOgB0TX"
      },
      "source": [
        "A. Next update the `Plane` class so that a plane cannot be created unless the `seat_per_row` is assigned.  \n",
        "\n",
        "B. The class also allows for the `number_of_rows` to be assigned upon initialization, but if not assigned, the instance assigns the default number of 20 seats to the plane.\n",
        "\n",
        "C. Finally an instance of the class must also be initialized with a `year` attribute to represent the year it was built."
      ]
    },
    {
      "cell_type": "code",
      "execution_count": 9,
      "metadata": {
        "id": "7U8_N83ZB0TX",
        "outputId": "2f7a9b36-e1ff-4d92-fbf0-1ed542a2644b",
        "colab": {
          "base_uri": "https://localhost:8080/"
        }
      },
      "outputs": [
        {
          "output_type": "execute_result",
          "data": {
            "text/plain": [
              "{'seats_per_row': 10, 'number_of_rows': 20, 'year': 2020}"
            ]
          },
          "metadata": {},
          "execution_count": 9
        }
      ],
      "source": [
        "boeing_2020 = Plane(year = 2020, number_of_rows=20, seats_per_row = 10)\n",
        "\n",
        "boeing_2020.__dict__\n",
        "# {'seats_per_row': 10, 'number_of_rows': 20, 'year': 2020}"
      ]
    },
    {
      "cell_type": "code",
      "execution_count": 10,
      "metadata": {
        "id": "e8GNIydSB0TZ",
        "outputId": "47d20d52-3d2d-4435-e40f-136baf00c21c",
        "colab": {
          "base_uri": "https://localhost:8080/"
        }
      },
      "outputs": [
        {
          "output_type": "execute_result",
          "data": {
            "text/plain": [
              "{'seats_per_row': 17, 'number_of_rows': 10, 'year': 2017}"
            ]
          },
          "metadata": {},
          "execution_count": 10
        }
      ],
      "source": [
        "twa = Plane(year = 2017, seats_per_row = 17, number_of_rows = 10)\n",
        "\n",
        "twa.__dict__\n",
        "# {'seats_per_row': 17, 'number_of_rows': 10, 'year': 2017}"
      ]
    },
    {
      "cell_type": "markdown",
      "metadata": {
        "id": "H_AMx2zAB0Tb"
      },
      "source": [
        "### 3. Adding Methods\n",
        "\n",
        "Now let's add a couple of methods to the `Plane` class.  \n",
        "\n",
        "* `total_seats`\n",
        "    * Write a method that uses the `number_of_rows` and `seats_per_row` to calculate the total number of seats in the plane.\n",
        "\n",
        "* `age`\n",
        "    * Write a method that uses the `year` attribute to return the number of years old that the plane is.\n",
        "    * Try to use the `datetime` module so that the calculation will continue to be accurate in future years"
      ]
    },
    {
      "cell_type": "code",
      "source": [
        "class Plane:\n",
        "    def __init__(self, seats_per_row, number_of_rows, year):\n",
        "      self.seats_per_row = seats_per_row\n",
        "      self.number_of_rows = number_of_rows\n",
        "      self.year = year\n",
        "\n",
        "    def total_seats(self):\n",
        "       return self.seats_per_row * self.number_of_rows\n",
        "\n",
        "    def age(self):\n",
        "       now = datetime.datetime.now()\n",
        "       return now.year - self.year"
      ],
      "metadata": {
        "id": "ImxQBXZFGO75"
      },
      "execution_count": 15,
      "outputs": []
    },
    {
      "cell_type": "code",
      "execution_count": 16,
      "metadata": {
        "id": "xjSWxHD_B0Tc"
      },
      "outputs": [],
      "source": [
        "twa = Plane(year = 2017, seats_per_row = 17, number_of_rows = 10)"
      ]
    },
    {
      "cell_type": "code",
      "execution_count": 13,
      "metadata": {
        "id": "aVr-XkQUB0Te",
        "outputId": "8f22820b-337d-4383-ba31-93ca777daf3e",
        "colab": {
          "base_uri": "https://localhost:8080/"
        }
      },
      "outputs": [
        {
          "output_type": "execute_result",
          "data": {
            "text/plain": [
              "170"
            ]
          },
          "metadata": {},
          "execution_count": 13
        }
      ],
      "source": [
        "twa.total_seats()\n",
        "# 170"
      ]
    },
    {
      "cell_type": "code",
      "execution_count": 17,
      "metadata": {
        "id": "crPlC_BXB0Tf",
        "outputId": "db0b0cf8-e213-4384-96d6-3b76010b6183",
        "colab": {
          "base_uri": "https://localhost:8080/"
        }
      },
      "outputs": [
        {
          "output_type": "execute_result",
          "data": {
            "text/plain": [
              "6"
            ]
          },
          "metadata": {},
          "execution_count": 17
        }
      ],
      "source": [
        "twa.age()\n",
        "# 5"
      ]
    }
  ],
  "metadata": {
    "kernelspec": {
      "display_name": "Python 3",
      "language": "python",
      "name": "python3"
    },
    "language_info": {
      "codemirror_mode": {
        "name": "ipython",
        "version": 3
      },
      "file_extension": ".py",
      "mimetype": "text/x-python",
      "name": "python",
      "nbconvert_exporter": "python",
      "pygments_lexer": "ipython3",
      "version": "3.7.4"
    },
    "colab": {
      "provenance": []
    }
  },
  "nbformat": 4,
  "nbformat_minor": 0
}