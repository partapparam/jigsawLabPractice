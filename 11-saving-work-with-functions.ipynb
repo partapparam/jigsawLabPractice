{
  "cells": [
    {
      "cell_type": "markdown",
      "metadata": {
        "id": "JM0uefYG-l3b"
      },
      "source": [
        "# Saving our Work With Functions"
      ]
    },
    {
      "cell_type": "markdown",
      "metadata": {
        "id": "FfcpCYCA-l3h"
      },
      "source": [
        "### Introduction"
      ]
    },
    {
      "cell_type": "markdown",
      "metadata": {
        "id": "p2Xi64US-l3h"
      },
      "source": [
        "Ok, now at this point, we have learned almost all of the work to really go forth and code.  And we did some really good work in the process.\n",
        "\n",
        "But if we're going to put this code to use, and build some nice projects, we'll need to store some of our procedures in functions."
      ]
    },
    {
      "cell_type": "markdown",
      "metadata": {
        "id": "0IE7CKEI-l3i"
      },
      "source": [
        "### Saving our Work"
      ]
    },
    {
      "cell_type": "markdown",
      "metadata": {
        "id": "Ba2OS69t-l3i"
      },
      "source": [
        "Now we've already seen how to save our work with variables."
      ]
    },
    {
      "cell_type": "code",
      "execution_count": 1,
      "metadata": {
        "id": "l01jyPa--l3i"
      },
      "outputs": [],
      "source": [
        "cities = ['nyc', 'los angeles', 'chicago']"
      ]
    },
    {
      "cell_type": "markdown",
      "metadata": {
        "id": "Qdp9Kdx4-l3j"
      },
      "source": [
        "The code above **is something**.  It is a list, and we stored it as such."
      ]
    },
    {
      "cell_type": "markdown",
      "metadata": {
        "id": "YyNPcj6n-l3k"
      },
      "source": [
        "But how do we save code that **does something**?  For example, our code below goes to Wikipedia and gathers the information then converts it to a list of dictionaries.  We may want to save that process to easily do it again and again."
      ]
    },
    {
      "cell_type": "code",
      "execution_count": 2,
      "metadata": {
        "id": "rhNNihoH-l3k",
        "outputId": "daf8148d-7d1c-425c-d6e6-02e335d7b0ec",
        "colab": {
          "base_uri": "https://localhost:8080/"
        }
      },
      "outputs": [
        {
          "output_type": "execute_result",
          "data": {
            "text/plain": [
              "[{'2022 rank': 1,\n",
              "  'City': 'New York[d]',\n",
              "  'State[c]': 'New York',\n",
              "  '2022 estimate': 8335897,\n",
              "  '2020 census': 8804190,\n",
              "  'Change': '−5.32%',\n",
              "  '2020 land area': '300.5\\xa0sq\\xa0mi',\n",
              "  '2020 land area.1': '778.3\\xa0km2',\n",
              "  '2020 population density': '29,298/sq\\xa0mi',\n",
              "  '2020 population density.1': '11,312/km2',\n",
              "  'Location': '.mw-parser-output .geo-default,.mw-parser-output .geo-dms,.mw-parser-output .geo-dec{display:inline}.mw-parser-output .geo-nondefault,.mw-parser-output .geo-multi-punct,.mw-parser-output .geo-inline-hidden{display:none}.mw-parser-output .longitude,.mw-parser-output .latitude{white-space:nowrap}40°40′N 73°56′W\\ufeff / \\ufeff40.66°N 73.94°W'},\n",
              " {'2022 rank': 2,\n",
              "  'City': 'Los Angeles',\n",
              "  'State[c]': 'California',\n",
              "  '2022 estimate': 3822238,\n",
              "  '2020 census': 3898747,\n",
              "  'Change': '−1.96%',\n",
              "  '2020 land area': '469.5\\xa0sq\\xa0mi',\n",
              "  '2020 land area.1': '1,216.0\\xa0km2',\n",
              "  '2020 population density': '8,304/sq\\xa0mi',\n",
              "  '2020 population density.1': '3,206/km2',\n",
              "  'Location': '34°01′N 118°25′W\\ufeff / \\ufeff34.02°N 118.41°W'}]"
            ]
          },
          "metadata": {},
          "execution_count": 2
        }
      ],
      "source": [
        "import pandas as pd\n",
        "url = 'https://en.wikipedia.org/wiki/List_of_United_States_cities_by_population'\n",
        "tables = pd.read_html(url)\n",
        "cities_table = tables[4]\n",
        "cities = cities_table.to_dict('records')\n",
        "cities[:2]"
      ]
    },
    {
      "cell_type": "markdown",
      "metadata": {
        "id": "fTIgWmWW-l3l"
      },
      "source": [
        "If we want to save code that does something, we can wrap it in a function.\n",
        "\n",
        "> Let's just do it.  We'll explain this code later."
      ]
    },
    {
      "cell_type": "code",
      "execution_count": 3,
      "metadata": {
        "id": "isr4WwBc-l3l"
      },
      "outputs": [],
      "source": [
        "def gather_cities():\n",
        "    url = 'https://en.wikipedia.org/wiki/List_of_United_States_cities_by_population'\n",
        "    tables = pd.read_html(url)\n",
        "    cities_table = tables[4]\n",
        "    cities = cities_table.to_dict('records')\n",
        "    return cities"
      ]
    },
    {
      "cell_type": "markdown",
      "metadata": {
        "id": "a7rpbesO-l3l"
      },
      "source": [
        "Now that it's in a function, we can execute this code whenever like.  We do so by typing the name of the function followed by parentheses `function_name()`.  \n",
        "\n",
        "> Want to go to Wikipedia and scrape the webpage?  Coming right up."
      ]
    },
    {
      "cell_type": "code",
      "execution_count": 4,
      "metadata": {
        "id": "97C9jHMg-l3m",
        "outputId": "41489cc5-6df7-4bda-95b7-175c92b92292",
        "colab": {
          "base_uri": "https://localhost:8080/"
        }
      },
      "outputs": [
        {
          "output_type": "execute_result",
          "data": {
            "text/plain": [
              "[{'2022 rank': 1,\n",
              "  'City': 'New York[d]',\n",
              "  'State[c]': 'New York',\n",
              "  '2022 estimate': 8335897,\n",
              "  '2020 census': 8804190,\n",
              "  'Change': '−5.32%',\n",
              "  '2020 land area': '300.5\\xa0sq\\xa0mi',\n",
              "  '2020 land area.1': '778.3\\xa0km2',\n",
              "  '2020 population density': '29,298/sq\\xa0mi',\n",
              "  '2020 population density.1': '11,312/km2',\n",
              "  'Location': '.mw-parser-output .geo-default,.mw-parser-output .geo-dms,.mw-parser-output .geo-dec{display:inline}.mw-parser-output .geo-nondefault,.mw-parser-output .geo-multi-punct,.mw-parser-output .geo-inline-hidden{display:none}.mw-parser-output .longitude,.mw-parser-output .latitude{white-space:nowrap}40°40′N 73°56′W\\ufeff / \\ufeff40.66°N 73.94°W'}]"
            ]
          },
          "metadata": {},
          "execution_count": 4
        }
      ],
      "source": [
        "collected_cities = gather_cities()\n",
        "collected_cities[:1]"
      ]
    },
    {
      "cell_type": "markdown",
      "metadata": {
        "id": "c7kABZcL-l3m"
      },
      "source": [
        "So you can see that we were able to store our procedure of collecting city information in our `gather_cities` function."
      ]
    },
    {
      "cell_type": "markdown",
      "metadata": {
        "id": "hoF59pJo-l3m"
      },
      "source": [
        "This is very useful, because it allows us to think of our programs as tasks.  For example, first gather the list of cities, then select the names and populations, and then plot our data.  \n",
        "\n",
        "> Remember we said a lot of coding is breaking things into steps?  Functions are a great way to do that.\n",
        "\n",
        "Ok, let's learn how to write a function."
      ]
    },
    {
      "cell_type": "markdown",
      "metadata": {
        "id": "C-HKfFAo-l3m"
      },
      "source": [
        "### Function mechanics"
      ]
    },
    {
      "cell_type": "markdown",
      "metadata": {
        "id": "4cLgXYP--l3m"
      },
      "source": [
        "Working with functions involves two steps:\n",
        "1. Defining our function\n",
        "2. Then executing our function."
      ]
    },
    {
      "cell_type": "markdown",
      "metadata": {
        "id": "-H7GS4bB-l3n"
      },
      "source": [
        "* Defining our function"
      ]
    },
    {
      "cell_type": "markdown",
      "metadata": {
        "id": "AZIx-rcz-l3n"
      },
      "source": [
        "We define our function with the following pattern."
      ]
    },
    {
      "cell_type": "code",
      "execution_count": 5,
      "metadata": {
        "id": "-V_WLGPY-l3n"
      },
      "outputs": [],
      "source": [
        "def function_name():\n",
        "    return 'data'"
      ]
    },
    {
      "cell_type": "markdown",
      "metadata": {
        "id": "9InRG22g-l3n"
      },
      "source": [
        "> Press shift + enter on the cell above.  And then the cell below."
      ]
    },
    {
      "cell_type": "markdown",
      "metadata": {
        "id": "aikgHhWq-l3o"
      },
      "source": [
        "Notice that when we define a function, we do not see an output.  This is similar to how we do not see an output when we assign a variable.  We need to execute the function to see an output.  \n",
        "\n",
        "> Press shift + enter on the cell below."
      ]
    },
    {
      "cell_type": "code",
      "execution_count": 6,
      "metadata": {
        "id": "PyGy1l28-l3o",
        "outputId": "62b5ed81-0a0c-4cf8-8c53-51cfa2c4479d",
        "colab": {
          "base_uri": "https://localhost:8080/",
          "height": 35
        }
      },
      "outputs": [
        {
          "output_type": "execute_result",
          "data": {
            "text/plain": [
              "'data'"
            ],
            "application/vnd.google.colaboratory.intrinsic+json": {
              "type": "string"
            }
          },
          "metadata": {},
          "execution_count": 6
        }
      ],
      "source": [
        "function_name()"
      ]
    },
    {
      "cell_type": "markdown",
      "metadata": {
        "id": "Lh9lE9O1-l3o"
      },
      "source": [
        "Let's focus in on the first line where we defined our function: `def function_name():`."
      ]
    },
    {
      "cell_type": "markdown",
      "metadata": {
        "id": "W3rdKLFc-l3o"
      },
      "source": [
        "* `def` is how we tell Python we are about to define a function.\n",
        "* The `function_name` is how we'll refer to the function.\n",
        "* And then we end our first line with parentheses and a colon `():`."
      ]
    },
    {
      "cell_type": "markdown",
      "metadata": {
        "id": "ImhmNlYr-l3o"
      },
      "source": [
        "Now it's your turn.  Define a function called `collect_data`.  We wrote the second line `return data` for you."
      ]
    },
    {
      "cell_type": "code",
      "execution_count": 7,
      "metadata": {
        "id": "U4rHM6ie-l3o"
      },
      "outputs": [],
      "source": [
        "# write code here\n",
        "def collect_data():\n",
        "    return 'data'"
      ]
    },
    {
      "cell_type": "markdown",
      "metadata": {
        "id": "KJtTQ5Dj-l3p"
      },
      "source": [
        "> **You can check** that you did it correctly by pressing `shift + return` on the cell above, **and then** on the cell below.  If you did it correctly, you will see the word data.  "
      ]
    },
    {
      "cell_type": "code",
      "execution_count": 8,
      "metadata": {
        "id": "hpBothtI-l3p",
        "outputId": "9741714f-ee11-4c1b-e72f-919eec9f1c09",
        "colab": {
          "base_uri": "https://localhost:8080/",
          "height": 35
        }
      },
      "outputs": [
        {
          "output_type": "execute_result",
          "data": {
            "text/plain": [
              "'data'"
            ],
            "application/vnd.google.colaboratory.intrinsic+json": {
              "type": "string"
            }
          },
          "metadata": {},
          "execution_count": 8
        }
      ],
      "source": [
        "collect_data()\n",
        "# 'data'"
      ]
    },
    {
      "cell_type": "markdown",
      "metadata": {
        "id": "q9ShlGt7-l3p"
      },
      "source": [
        "Ok, so we just saw how to write the first line of a function.  Now let's talk about that second line `return 'data'`."
      ]
    },
    {
      "cell_type": "code",
      "execution_count": 9,
      "metadata": {
        "id": "yWBmIGfB-l3p"
      },
      "outputs": [],
      "source": [
        "def function_name():\n",
        "    return 'data'"
      ]
    },
    {
      "cell_type": "markdown",
      "metadata": {
        "id": "6x_CDNGI-l3p"
      },
      "source": [
        "There middle of the function is called the body of the function.  Below `greeting` and `name` are in the body of the function.  The body of the function can be as long as we like.  But it's best to keep our functions under five lines (excluding the function name)."
      ]
    },
    {
      "cell_type": "markdown",
      "metadata": {
        "id": "at1jTuSc-l3p"
      },
      "source": [
        "### Functions are a dungeon"
      ]
    },
    {
      "cell_type": "markdown",
      "metadata": {
        "id": "gwEF5tUF-l3p"
      },
      "source": [
        "There is something interesting about functions. Functions trap everything inside of them, like the walls of a dungeon."
      ]
    },
    {
      "cell_type": "code",
      "execution_count": 10,
      "metadata": {
        "id": "Ot_cm1jW-l3q"
      },
      "outputs": [],
      "source": [
        "def function_name():\n",
        "    greeting = 'hello'\n",
        "    name = 'susan'"
      ]
    },
    {
      "cell_type": "markdown",
      "metadata": {
        "id": "Bw44ZBI4-l3q"
      },
      "source": [
        "> Press shift + enter on the cells above and below.  We'll see that the cell below results in an error."
      ]
    },
    {
      "cell_type": "code",
      "execution_count": 11,
      "metadata": {
        "id": "C8Eq4tQK-l3q",
        "outputId": "66ff9443-3bc1-4b17-f08a-a4ab7d64d43a",
        "colab": {
          "base_uri": "https://localhost:8080/",
          "height": 179
        }
      },
      "outputs": [
        {
          "output_type": "error",
          "ename": "NameError",
          "evalue": "ignored",
          "traceback": [
            "\u001b[0;31m---------------------------------------------------------------------------\u001b[0m",
            "\u001b[0;31mNameError\u001b[0m                                 Traceback (most recent call last)",
            "\u001b[0;32m<ipython-input-11-a0f7c5a79f7f>\u001b[0m in \u001b[0;36m<cell line: 1>\u001b[0;34m()\u001b[0m\n\u001b[0;32m----> 1\u001b[0;31m \u001b[0mgreeting\u001b[0m\u001b[0;34m\u001b[0m\u001b[0;34m\u001b[0m\u001b[0m\n\u001b[0m",
            "\u001b[0;31mNameError\u001b[0m: name 'greeting' is not defined"
          ]
        }
      ],
      "source": [
        "greeting"
      ]
    },
    {
      "cell_type": "markdown",
      "metadata": {
        "id": "QjFgH-yo-l3q"
      },
      "source": [
        "So you'll see that even though we defined the variable greeting above, it is not available.  This is because it is only available inside the walls of the function."
      ]
    },
    {
      "cell_type": "markdown",
      "metadata": {
        "id": "tlU9k1qh-l3q"
      },
      "source": [
        "To get to be released from the function, we must catapult a value over the walls with the word `return` followed by what we want returned."
      ]
    },
    {
      "cell_type": "code",
      "execution_count": 12,
      "metadata": {
        "id": "-P1V4vNt-l3v"
      },
      "outputs": [],
      "source": [
        "def function_name():\n",
        "    greeting = 'hello'\n",
        "    name = 'susan'\n",
        "    return name"
      ]
    },
    {
      "cell_type": "code",
      "execution_count": 13,
      "metadata": {
        "id": "vQAMsHRM-l3v",
        "outputId": "da5e99c1-7a48-4ca1-c820-a118a4b24740",
        "colab": {
          "base_uri": "https://localhost:8080/",
          "height": 35
        }
      },
      "outputs": [
        {
          "output_type": "execute_result",
          "data": {
            "text/plain": [
              "'susan'"
            ],
            "application/vnd.google.colaboratory.intrinsic+json": {
              "type": "string"
            }
          },
          "metadata": {},
          "execution_count": 13
        }
      ],
      "source": [
        "function_name()"
      ]
    },
    {
      "cell_type": "markdown",
      "metadata": {
        "id": "sfByvHbO-l3v"
      },
      "source": [
        "So now, `susan` was thrown over the walls of the function."
      ]
    },
    {
      "cell_type": "markdown",
      "metadata": {
        "id": "VHAOqQHy-l3v"
      },
      "source": [
        "> Notice that the inside of the code must be tabbed.  Or there must be two spaces for each line.  The indentation is how we indicate that something is inside of the function."
      ]
    },
    {
      "cell_type": "code",
      "execution_count": 14,
      "metadata": {
        "id": "iKVQgPp0-l3w"
      },
      "outputs": [],
      "source": [
        "def function_name():\n",
        "    trapped_inside = 'hello'\n",
        "    catapulted_over = 'susan'\n",
        "    return catapulted_over"
      ]
    },
    {
      "cell_type": "markdown",
      "metadata": {
        "id": "ip9dzzqp-l3w"
      },
      "source": [
        "So that is our pattern for a function."
      ]
    },
    {
      "cell_type": "code",
      "execution_count": 15,
      "metadata": {
        "id": "-yDRXUo3-l3w"
      },
      "outputs": [],
      "source": [
        "def function_name():\n",
        "    body_of_function = 'hello'\n",
        "    return body_of_function + ' world'"
      ]
    },
    {
      "cell_type": "code",
      "execution_count": 16,
      "metadata": {
        "id": "FeG3ZE-q-l3w",
        "outputId": "987c7a44-7e35-4bf5-99f0-92973aa3b8c7",
        "colab": {
          "base_uri": "https://localhost:8080/",
          "height": 35
        }
      },
      "outputs": [
        {
          "output_type": "execute_result",
          "data": {
            "text/plain": [
              "'hello world'"
            ],
            "application/vnd.google.colaboratory.intrinsic+json": {
              "type": "string"
            }
          },
          "metadata": {},
          "execution_count": 16
        }
      ],
      "source": [
        "function_name()"
      ]
    },
    {
      "cell_type": "markdown",
      "metadata": {
        "id": "4mbxdxtN-l3w"
      },
      "source": [
        "Now, in the cell below, write a function called `catapult` that returns the word `slime`."
      ]
    },
    {
      "cell_type": "code",
      "execution_count": 17,
      "metadata": {
        "id": "6bigPZ0s-l3w"
      },
      "outputs": [],
      "source": [
        "# write function here\n",
        "def catapult():\n",
        "  return 'slime'"
      ]
    },
    {
      "cell_type": "code",
      "execution_count": 18,
      "metadata": {
        "id": "r-2tySOq-l3x",
        "outputId": "740c4880-2e88-4c60-cdbd-a2787012cb93",
        "colab": {
          "base_uri": "https://localhost:8080/",
          "height": 35
        }
      },
      "outputs": [
        {
          "output_type": "execute_result",
          "data": {
            "text/plain": [
              "'slime'"
            ],
            "application/vnd.google.colaboratory.intrinsic+json": {
              "type": "string"
            }
          },
          "metadata": {},
          "execution_count": 18
        }
      ],
      "source": [
        "catapult()\n",
        "# slime"
      ]
    },
    {
      "cell_type": "markdown",
      "metadata": {
        "id": "-0YsjmCq-l3x"
      },
      "source": [
        "## Back to our project"
      ]
    },
    {
      "cell_type": "markdown",
      "metadata": {
        "id": "ii-9kf4W-l3x"
      },
      "source": [
        "Ok, so how can this help us?  Well functions allow us to store an entire procedure, and then name that procedure.  Once written, we can largely forget about how the function works.  \n",
        "\n",
        "All we care about is what the function does, which is execute a procedure and then throw something over the walls.\n",
        "\n",
        "So we can think of function like our cellphone: we only need to know how the wires underneath work when something breaks.  Otherwise, we can just call the function and get an output."
      ]
    },
    {
      "cell_type": "markdown",
      "metadata": {
        "id": "LK3kgPgA-l3x"
      },
      "source": [
        "Ok, so let's wrap some more code in functions, so that we can move more into the push button, get an output mode.\n",
        "\n",
        "To do so, we wrap our ordinary code with the beginning line `def name_of_function():`.  And we end our function with returning an output."
      ]
    },
    {
      "cell_type": "markdown",
      "metadata": {
        "id": "rZWEOPeG-l3x"
      },
      "source": [
        "> Here is our original code."
      ]
    },
    {
      "cell_type": "code",
      "execution_count": 19,
      "metadata": {
        "id": "6S0pC2Po-l3x"
      },
      "outputs": [],
      "source": [
        "url = 'https://en.wikipedia.org/wiki/List_of_United_States_cities_by_population'\n",
        "tables = pd.read_html(url)\n",
        "cities_table = tables[4]\n",
        "cities = cities_table.to_dict('records')"
      ]
    },
    {
      "cell_type": "markdown",
      "metadata": {
        "id": "GFAgH1ad-l3x"
      },
      "source": [
        "> And here is that code wrapped in a function."
      ]
    },
    {
      "cell_type": "code",
      "execution_count": 20,
      "metadata": {
        "id": "mIVLxoeU-l3y"
      },
      "outputs": [],
      "source": [
        "def gather_cities():\n",
        "    url = 'https://en.wikipedia.org/wiki/List_of_United_States_cities_by_population'\n",
        "    tables = pd.read_html(url)\n",
        "    cities_table = tables[4]\n",
        "    cities = cities_table.to_dict('records')\n",
        "    return cities"
      ]
    },
    {
      "cell_type": "code",
      "execution_count": 21,
      "metadata": {
        "id": "0ceF0OvK-l3y",
        "outputId": "b634f292-5b82-41aa-8b85-7e236bdb1c6a",
        "colab": {
          "base_uri": "https://localhost:8080/"
        }
      },
      "outputs": [
        {
          "output_type": "execute_result",
          "data": {
            "text/plain": [
              "[{'2022 rank': 1,\n",
              "  'City': 'New York[d]',\n",
              "  'State[c]': 'New York',\n",
              "  '2022 estimate': 8335897,\n",
              "  '2020 census': 8804190,\n",
              "  'Change': '−5.32%',\n",
              "  '2020 land area': '300.5\\xa0sq\\xa0mi',\n",
              "  '2020 land area.1': '778.3\\xa0km2',\n",
              "  '2020 population density': '29,298/sq\\xa0mi',\n",
              "  '2020 population density.1': '11,312/km2',\n",
              "  'Location': '.mw-parser-output .geo-default,.mw-parser-output .geo-dms,.mw-parser-output .geo-dec{display:inline}.mw-parser-output .geo-nondefault,.mw-parser-output .geo-multi-punct,.mw-parser-output .geo-inline-hidden{display:none}.mw-parser-output .longitude,.mw-parser-output .latitude{white-space:nowrap}40°40′N 73°56′W\\ufeff / \\ufeff40.66°N 73.94°W'}]"
            ]
          },
          "metadata": {},
          "execution_count": 21
        }
      ],
      "source": [
        "cities = gather_cities()\n",
        "cities[:1]"
      ]
    },
    {
      "cell_type": "markdown",
      "metadata": {
        "id": "08wRW3Gz-l3y"
      },
      "source": [
        "Your turn."
      ]
    },
    {
      "cell_type": "markdown",
      "metadata": {
        "id": "tEoIYK1Z-l3y"
      },
      "source": [
        "This time we'll work with the `for loop` that turns our list of dictionaries into a list of populations.  Below we'll create a new function called `get_populations`, that returns the list of the `populations`."
      ]
    },
    {
      "cell_type": "markdown",
      "metadata": {
        "id": "UarAZr6Q-l3y"
      },
      "source": [
        "Do so in the following steps:  "
      ]
    },
    {
      "cell_type": "markdown",
      "metadata": {
        "id": "r83HzqcP-l3y"
      },
      "source": [
        "1. Start at the top of the cell, and hold down your cursor dragging until the bottom of the cell, so that the entire cell turns purple.  Then press `tab` to indent the code.\n",
        "\n",
        "2. Now we need another line at the top to define our function.  Place your cursor touching the `p` in `populations = []` and press enter.\n",
        "\n",
        "3. In the new line that we created above the statement `populations = []`, write the name of the function beginning with `def` and ending with `():` and named `get_populations`.  Remember that our first line **should not** be tabbed in.  In other words, the `d` of `def` should be touching the border of our gray cell.\n",
        "\n",
        "4. Then end your function with the return value."
      ]
    },
    {
      "cell_type": "code",
      "execution_count": 25,
      "metadata": {
        "id": "6QVYzWPr-l3z"
      },
      "outputs": [],
      "source": [
        "def get_populations():\n",
        "  populations = []\n",
        "\n",
        "  for city in cities:\n",
        "      city_pop = city['2020 census']\n",
        "      populations.append(city_pop)\n",
        "  return populations\n",
        "\n"
      ]
    },
    {
      "cell_type": "code",
      "execution_count": 26,
      "metadata": {
        "id": "njd9-zL9-l3z"
      },
      "outputs": [],
      "source": [
        "pops = get_populations()\n",
        "# pops"
      ]
    },
    {
      "cell_type": "markdown",
      "metadata": {
        "id": "fNg2qr5U-l3z"
      },
      "source": [
        "Now do the same thing with the next block of code.  Write a function called `get_names` that returns the list of `city_names`."
      ]
    },
    {
      "cell_type": "code",
      "execution_count": 27,
      "metadata": {
        "id": "AuENOgBV-l3z"
      },
      "outputs": [],
      "source": [
        "def get_names():\n",
        "  city_names = []\n",
        "\n",
        "  for city in cities:\n",
        "      city_name = city['City']\n",
        "      city_names.append(city_name)\n",
        "  return city_names[:5]"
      ]
    },
    {
      "cell_type": "code",
      "execution_count": 28,
      "metadata": {
        "id": "bgBJacN3-l3z",
        "outputId": "de038dfc-a1c8-43c3-ceae-3bd88163436e",
        "colab": {
          "base_uri": "https://localhost:8080/"
        }
      },
      "outputs": [
        {
          "output_type": "execute_result",
          "data": {
            "text/plain": [
              "['New York[d]', 'Los Angeles']"
            ]
          },
          "metadata": {},
          "execution_count": 28
        }
      ],
      "source": [
        "names = get_names()\n",
        "names[:2]"
      ]
    },
    {
      "cell_type": "markdown",
      "metadata": {
        "id": "VJraPMg2-l3z"
      },
      "source": [
        "## Wrapping Up"
      ]
    },
    {
      "cell_type": "markdown",
      "metadata": {
        "id": "daLdhT9V-l30"
      },
      "source": [
        "When were finished with our code, our function definitions will look like the following."
      ]
    },
    {
      "cell_type": "code",
      "execution_count": 32,
      "metadata": {
        "id": "Xt7Y62w3-l30"
      },
      "outputs": [],
      "source": [
        "import pandas as pd\n",
        "def gather_cities():\n",
        "    url = 'https://en.wikipedia.org/wiki/List_of_United_States_cities_by_population'\n",
        "    tables = pd.read_html(url)\n",
        "    cities_table = tables[4]\n",
        "    cities = cities_table.to_dict('records')\n",
        "    return cities\n",
        "\n",
        "def get_populations():\n",
        "    populations = []\n",
        "\n",
        "    for city in cities:\n",
        "        city_pop = city['2020 census']\n",
        "        populations.append(city_pop)\n",
        "    return populations\n",
        "\n",
        "def get_names():\n",
        "    city_names = []\n",
        "\n",
        "    for city in cities:\n",
        "        city_name = city['City']\n",
        "        city_names.append(city_name)\n",
        "    return city_names"
      ]
    },
    {
      "cell_type": "markdown",
      "metadata": {
        "id": "GJ_naF9J-l30"
      },
      "source": [
        "And we can call all of our code in just a few lines."
      ]
    },
    {
      "cell_type": "code",
      "execution_count": 33,
      "metadata": {
        "id": "a2DX9riG-l30"
      },
      "outputs": [],
      "source": [
        "cities = gather_cities()\n",
        "pops = get_populations()\n",
        "city_names = get_names()"
      ]
    },
    {
      "cell_type": "code",
      "execution_count": 34,
      "metadata": {
        "id": "wz2iq5AA-l30",
        "outputId": "bc67e4ab-e157-47ed-96fd-879ed56878d6",
        "colab": {
          "base_uri": "https://localhost:8080/"
        }
      },
      "outputs": [
        {
          "output_type": "execute_result",
          "data": {
            "text/plain": [
              "[8804190, 3898747]"
            ]
          },
          "metadata": {},
          "execution_count": 34
        }
      ],
      "source": [
        "pops[:2]"
      ]
    },
    {
      "cell_type": "code",
      "execution_count": 35,
      "metadata": {
        "id": "zj7DGM1l-l30",
        "outputId": "4d60f65b-45af-408f-c7a2-7684c719c7cf",
        "colab": {
          "base_uri": "https://localhost:8080/"
        }
      },
      "outputs": [
        {
          "output_type": "execute_result",
          "data": {
            "text/plain": [
              "['New York[d]', 'Los Angeles']"
            ]
          },
          "metadata": {},
          "execution_count": 35
        }
      ],
      "source": [
        "city_names[:2]"
      ]
    },
    {
      "cell_type": "markdown",
      "metadata": {
        "id": "dz4aGri3-l33"
      },
      "source": [
        "## Summary"
      ]
    },
    {
      "cell_type": "markdown",
      "metadata": {
        "id": "siuCUF-W-l33"
      },
      "source": [
        "In this lesson, we learned about functions.  We saw that functions allow us to save a procedure underneath the walls of a function.  We do so with the following pattern."
      ]
    },
    {
      "cell_type": "markdown",
      "metadata": {
        "id": "XftCLclp-l33"
      },
      "source": [
        "```python\n",
        "def function_name():\n",
        "    body_of_function = 'hello'\n",
        "    return body_of_function + ' world'\n",
        "```"
      ]
    },
    {
      "cell_type": "markdown",
      "metadata": {
        "id": "EtGA2TP9-l33"
      },
      "source": [
        "Once we define the function, then we can execute the function with the `function_name()` and we are given the return value of the function.\n",
        "\n",
        "Functions give names to our complicated code, and allow us to summarize complicated code in just a few steps."
      ]
    },
    {
      "cell_type": "markdown",
      "metadata": {
        "id": "sx6apg0m-l33"
      },
      "source": [
        "```python\n",
        "cities = gather_cities()\n",
        "pops = get_populations()\n",
        "city_names = get_city_names()\n",
        "```"
      ]
    },
    {
      "cell_type": "markdown",
      "metadata": {
        "id": "9GanMeMl-l34"
      },
      "source": [
        "### References"
      ]
    },
    {
      "cell_type": "markdown",
      "metadata": {
        "id": "JTNsuENz-l34"
      },
      "source": [
        "Credit to [John Resig](https://johnresig.com/) for the catapult analogy, and for a bunch of other amazing things."
      ]
    },
    {
      "cell_type": "markdown",
      "metadata": {
        "id": "7swaWiLQ-l34"
      },
      "source": [
        "<right>\n",
        "<a href=\"https://colab.research.google.com/github/jigsawlabs-student/code-intro/blob/master/12-function-arguments.ipynb\">\n",
        "<img src=\"https://github.com/jigsawlabs-student/code-intro/blob/master/next-yellow.jpg?raw=1\" align=\"right\" style=\"padding-right: 20px\" width=\"10%\">\n",
        "    </a>\n",
        "</right>"
      ]
    },
    {
      "cell_type": "markdown",
      "metadata": {
        "id": "i2UD4eZB-l34"
      },
      "source": [
        "<center>\n",
        "<a href=\"https://www.jigsawlabs.io\" style=\"position: center\"><img src=\"https://github.com/jigsawlabs-student/code-intro/blob/master/jigsaw-icon.png?raw=1\" width=\"15%\" style=\"text-align: center\"></a>\n",
        "</center>"
      ]
    },
    {
      "cell_type": "markdown",
      "metadata": {
        "id": "yihp7rRO-l35"
      },
      "source": [
        "### Answers"
      ]
    },
    {
      "cell_type": "code",
      "execution_count": null,
      "metadata": {
        "id": "e50bOAwp-l35"
      },
      "outputs": [],
      "source": [
        "def collect_data():\n",
        "    return 'data'"
      ]
    },
    {
      "cell_type": "code",
      "execution_count": null,
      "metadata": {
        "id": "CexLaWcI-l35"
      },
      "outputs": [],
      "source": [
        "def catapult():\n",
        "    return 'slime'"
      ]
    },
    {
      "cell_type": "code",
      "execution_count": null,
      "metadata": {
        "id": "LPuPCumd-l35"
      },
      "outputs": [],
      "source": [
        "def get_populations():\n",
        "    populations = []\n",
        "\n",
        "    for each_city in cities:\n",
        "        city_pop = each_city['2018estimate']\n",
        "        populations.append(city_pop)\n",
        "    return populations"
      ]
    },
    {
      "cell_type": "code",
      "execution_count": null,
      "metadata": {
        "id": "gL5EyH6k-l36",
        "outputId": "c502378d-ce2c-4522-cb9d-fd32edc0d3b7"
      },
      "outputs": [
        {
          "data": {
            "text/plain": [
              "[8398748, 3990456]"
            ]
          },
          "execution_count": 86,
          "metadata": {},
          "output_type": "execute_result"
        }
      ],
      "source": [
        "get_populations()[:2]"
      ]
    },
    {
      "cell_type": "code",
      "execution_count": null,
      "metadata": {
        "id": "GE7U8WRX-l36"
      },
      "outputs": [],
      "source": [
        "def get_names():\n",
        "    city_names = []\n",
        "\n",
        "    for each_city in cities:\n",
        "        city_name = each_city['City']\n",
        "        city_names.append(city_name)\n",
        "    return city_names"
      ]
    },
    {
      "cell_type": "code",
      "execution_count": null,
      "metadata": {
        "id": "iXIMJjTW-l36",
        "outputId": "e8b0ba30-15eb-4a8a-9cd8-0a42c8563635"
      },
      "outputs": [
        {
          "data": {
            "text/plain": [
              "['New York[d]', 'Los Angeles']"
            ]
          },
          "execution_count": 89,
          "metadata": {},
          "output_type": "execute_result"
        }
      ],
      "source": [
        "get_names()[:2]"
      ]
    },
    {
      "cell_type": "code",
      "execution_count": null,
      "metadata": {
        "id": "hxFlAmdI-l36"
      },
      "outputs": [],
      "source": []
    }
  ],
  "metadata": {
    "kernelspec": {
      "display_name": "Python 3 (ipykernel)",
      "language": "python",
      "name": "python3"
    },
    "language_info": {
      "codemirror_mode": {
        "name": "ipython",
        "version": 3
      },
      "file_extension": ".py",
      "mimetype": "text/x-python",
      "name": "python",
      "nbconvert_exporter": "python",
      "pygments_lexer": "ipython3",
      "version": "3.10.6"
    },
    "colab": {
      "provenance": []
    }
  },
  "nbformat": 4,
  "nbformat_minor": 0
}