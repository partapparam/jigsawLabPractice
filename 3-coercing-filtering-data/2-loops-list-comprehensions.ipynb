{
  "cells": [
    {
      "cell_type": "markdown",
      "metadata": {
        "id": "X36Dxlv-1WJX"
      },
      "source": [
        "# Loops and List Comprehensions"
      ]
    },
    {
      "cell_type": "markdown",
      "metadata": {
        "id": "5wA9wndB1WJf"
      },
      "source": [
        "### Introduction"
      ]
    },
    {
      "cell_type": "markdown",
      "metadata": {
        "id": "Fn5mtQC01WJf"
      },
      "source": [
        "A useful tool for coercing and reducing our data is with loops.  Let's see how we can use them to do both."
      ]
    },
    {
      "cell_type": "markdown",
      "metadata": {
        "id": "bUQkm3P01WJg"
      },
      "source": [
        "### Reviewing Loops"
      ]
    },
    {
      "cell_type": "markdown",
      "metadata": {
        "id": "SIZFUdQ91WJg"
      },
      "source": [
        "As we know, we use loops to perform the same operation on each element in a list."
      ]
    },
    {
      "cell_type": "code",
      "execution_count": null,
      "metadata": {
        "id": "d3_aQcnI1WJg"
      },
      "outputs": [],
      "source": [
        "names = ['homer', 'marge', 'lisa']"
      ]
    },
    {
      "cell_type": "code",
      "execution_count": null,
      "metadata": {
        "id": "1X5ddqRA1WJm"
      },
      "outputs": [],
      "source": [
        "cap_names = []\n",
        "for name in names:\n",
        "    #variable, input\n",
        "    cap_names.append(name.capitalize())\n",
        "\n",
        "cap_names\n",
        "# output"
      ]
    },
    {
      "cell_type": "markdown",
      "metadata": {
        "id": "8gbbxr7E1WJn"
      },
      "source": [
        "For example, we can use a for loop to format each of the movies with the proper capitalization."
      ]
    },
    {
      "cell_type": "code",
      "execution_count": 2,
      "metadata": {
        "id": "ac1QgTCl1WJn"
      },
      "outputs": [],
      "source": [
        "movies = ['fast and the furious', 'the titanic', 'frozen']"
      ]
    },
    {
      "cell_type": "markdown",
      "metadata": {
        "id": "EMb_UA-X1WJo"
      },
      "source": [
        "* Give it a shot below.  Use a for loop to capitalize each movie and assign it to the list `capitalized_movies`."
      ]
    },
    {
      "cell_type": "code",
      "execution_count": 4,
      "metadata": {
        "id": "ZKHdI3Of1WJo",
        "outputId": "3e13b6f7-1f67-4671-f25d-95b222273555",
        "colab": {
          "base_uri": "https://localhost:8080/"
        }
      },
      "outputs": [
        {
          "output_type": "execute_result",
          "data": {
            "text/plain": [
              "['Fast and the furious', 'The titanic', 'Frozen']"
            ]
          },
          "metadata": {},
          "execution_count": 4
        }
      ],
      "source": [
        "capitalized_movies = []\n",
        "for movie in movies:\n",
        "  capitalized_movies.append(movie.capitalize())\n",
        "\n",
        "capitalized_movies"
      ]
    },
    {
      "cell_type": "markdown",
      "metadata": {
        "id": "FARRWT2d1WJo"
      },
      "source": [
        "### Using List Comprehension"
      ]
    },
    {
      "cell_type": "markdown",
      "metadata": {
        "id": "7be6syo71WJo"
      },
      "source": [
        "Another way to use loops is with list comprehension."
      ]
    },
    {
      "cell_type": "code",
      "execution_count": 5,
      "metadata": {
        "id": "nYEnAO111WJo"
      },
      "outputs": [],
      "source": [
        "names = ['homer', 'marge', 'lisa']"
      ]
    },
    {
      "cell_type": "code",
      "execution_count": 6,
      "metadata": {
        "id": "VwDGil0q1WJp",
        "outputId": "e8b61b7e-874b-430b-bc61-687833205a69",
        "colab": {
          "base_uri": "https://localhost:8080/"
        }
      },
      "outputs": [
        {
          "output_type": "execute_result",
          "data": {
            "text/plain": [
              "['Homer', 'Marge', 'Lisa']"
            ]
          },
          "metadata": {},
          "execution_count": 6
        }
      ],
      "source": [
        "[name.capitalize() for name in names]\n",
        "### output,           variable, input"
      ]
    },
    {
      "cell_type": "code",
      "execution_count": 7,
      "metadata": {
        "id": "MPlKUaNf1WJp"
      },
      "outputs": [],
      "source": [
        "movies = ['fast and the furious', 'the titanic', 'frozen']"
      ]
    },
    {
      "cell_type": "markdown",
      "metadata": {
        "id": "RRC90n5q1WJq"
      },
      "source": [
        "Here are the list of movies again.  Now use list comprehension to capitalize the each word of each movie."
      ]
    },
    {
      "cell_type": "code",
      "execution_count": 10,
      "metadata": {
        "id": "ap-qzazR1WJq"
      },
      "outputs": [],
      "source": [
        "movie_titles = [movie.capitalize() for movie in movies]"
      ]
    }
  ],
  "metadata": {
    "kernelspec": {
      "display_name": "Python 3 (ipykernel)",
      "language": "python",
      "name": "python3"
    },
    "language_info": {
      "codemirror_mode": {
        "name": "ipython",
        "version": 3
      },
      "file_extension": ".py",
      "mimetype": "text/x-python",
      "name": "python",
      "nbconvert_exporter": "python",
      "pygments_lexer": "ipython3",
      "version": "3.9.7"
    },
    "colab": {
      "provenance": []
    }
  },
  "nbformat": 4,
  "nbformat_minor": 0
}