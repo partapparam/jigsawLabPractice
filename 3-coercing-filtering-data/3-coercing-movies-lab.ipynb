{
  "cells": [
    {
      "cell_type": "markdown",
      "metadata": {
        "id": "MQ5joW673OFO"
      },
      "source": [
        "# Coercing and Reducing Data Lab"
      ]
    },
    {
      "cell_type": "markdown",
      "metadata": {
        "id": "zZxhNXtP3OFX"
      },
      "source": [
        "### Introduction"
      ]
    },
    {
      "cell_type": "markdown",
      "metadata": {
        "id": "Fcxr6rlD3OFY"
      },
      "source": [
        "In this lesson, we'll see how we can use loops and list comprehensions to both reduce the amount of information, and coerce our data."
      ]
    },
    {
      "cell_type": "markdown",
      "metadata": {
        "id": "T3XI-pst3OFY"
      },
      "source": [
        "### Loading the Data"
      ]
    },
    {
      "cell_type": "code",
      "execution_count": 1,
      "metadata": {
        "id": "v5RLj2If3OFY"
      },
      "outputs": [],
      "source": [
        "import pandas as pd\n",
        "df = pd.read_csv('https://raw.githubusercontent.com/eng-6-22/mod-1-a-data-structures/master/3-coercing-filtering-data/imdb_movies.csv')\n",
        "movies = df.to_dict('records')"
      ]
    },
    {
      "cell_type": "code",
      "execution_count": 2,
      "metadata": {
        "id": "lW4nA2B63OFZ",
        "outputId": "e81b46c7-e1be-4be6-ebbe-136fc5b755d1",
        "colab": {
          "base_uri": "https://localhost:8080/"
        }
      },
      "outputs": [
        {
          "output_type": "execute_result",
          "data": {
            "text/plain": [
              "[{'title': 'Avatar',\n",
              "  'genre': 'Action',\n",
              "  'budget': 237000000,\n",
              "  'runtime': 162.0,\n",
              "  'year': 2009,\n",
              "  'month': 12,\n",
              "  'revenue': 2787965087},\n",
              " {'title': \"Pirates of the Caribbean: At World's End\",\n",
              "  'genre': 'Adventure',\n",
              "  'budget': 300000000,\n",
              "  'runtime': 169.0,\n",
              "  'year': 2007,\n",
              "  'month': 5,\n",
              "  'revenue': 961000000}]"
            ]
          },
          "metadata": {},
          "execution_count": 2
        }
      ],
      "source": [
        "movies[:2]"
      ]
    },
    {
      "cell_type": "markdown",
      "metadata": {
        "id": "yt7x2plE3OFb"
      },
      "source": [
        "### Exploring Data"
      ]
    },
    {
      "cell_type": "markdown",
      "metadata": {
        "id": "Ed25mp4a3OFb"
      },
      "source": [
        "1. Start by selecting the first movie from the list of movies, this way we can get a sense of our data."
      ]
    },
    {
      "cell_type": "code",
      "execution_count": 3,
      "metadata": {
        "id": "Ljpgy9ht3OFc",
        "outputId": "4a396ef3-a729-4119-a5f7-6a2ba75fba97",
        "colab": {
          "base_uri": "https://localhost:8080/"
        }
      },
      "outputs": [
        {
          "output_type": "execute_result",
          "data": {
            "text/plain": [
              "{'title': 'Avatar',\n",
              " 'genre': 'Action',\n",
              " 'budget': 237000000,\n",
              " 'runtime': 162.0,\n",
              " 'year': 2009,\n",
              " 'month': 12,\n",
              " 'revenue': 2787965087}"
            ]
          },
          "metadata": {},
          "execution_count": 3
        }
      ],
      "source": [
        "first_movie = movies[0]\n",
        "first_movie\n",
        "# {'title': 'Avatar',\n",
        "#  'genre': 'Action',\n",
        "#  'budget': 237000000,\n",
        "#  'runtime': 162.0,\n",
        "#  'year': 2009,\n",
        "#  'month': 12,\n",
        "#  'revenue': 2787965087}"
      ]
    },
    {
      "cell_type": "markdown",
      "metadata": {
        "id": "LN0Dm6fi3OFc"
      },
      "source": [
        "Now let's just return the keys from the dictionary.."
      ]
    },
    {
      "cell_type": "code",
      "execution_count": 4,
      "metadata": {
        "id": "fIuH6de13OFc",
        "outputId": "6a2ca7ca-c54c-421b-99d9-747a1ac5b3f1",
        "colab": {
          "base_uri": "https://localhost:8080/"
        }
      },
      "outputs": [
        {
          "output_type": "execute_result",
          "data": {
            "text/plain": [
              "dict_keys(['title', 'genre', 'budget', 'runtime', 'year', 'month', 'revenue'])"
            ]
          },
          "metadata": {},
          "execution_count": 4
        }
      ],
      "source": [
        "movie_keys = first_movie.keys()\n",
        "movie_keys\n",
        "\n",
        "# dict_keys(['title', 'genre', 'budget', 'runtime', 'year', 'month', 'revenue'])"
      ]
    },
    {
      "cell_type": "markdown",
      "metadata": {
        "id": "b7HIMVZr3OFd"
      },
      "source": [
        "And then calculate the number of keys."
      ]
    },
    {
      "cell_type": "code",
      "execution_count": 6,
      "metadata": {
        "id": "NC-D_3BK3OFd",
        "outputId": "6c6d4444-cb66-4a51-e16c-0fac876bb150",
        "colab": {
          "base_uri": "https://localhost:8080/"
        }
      },
      "outputs": [
        {
          "output_type": "execute_result",
          "data": {
            "text/plain": [
              "7"
            ]
          },
          "metadata": {},
          "execution_count": 6
        }
      ],
      "source": [
        "num_keys = len(movie_keys)\n",
        "\n",
        "num_keys\n",
        "# 7"
      ]
    },
    {
      "cell_type": "markdown",
      "metadata": {
        "id": "t_iPalY93OFd"
      },
      "source": [
        "2. Now let's see how many movies we have"
      ]
    },
    {
      "cell_type": "code",
      "execution_count": 7,
      "metadata": {
        "id": "trB2pN8b3OFd",
        "outputId": "889208d2-906f-4df4-e1cb-c28b6c844ba6",
        "colab": {
          "base_uri": "https://localhost:8080/"
        }
      },
      "outputs": [
        {
          "output_type": "execute_result",
          "data": {
            "text/plain": [
              "2000"
            ]
          },
          "metadata": {},
          "execution_count": 7
        }
      ],
      "source": [
        "movies_count = len(movies)\n",
        "movies_count\n",
        "# 2000"
      ]
    },
    {
      "cell_type": "markdown",
      "metadata": {
        "id": "m3UhStHB3OFd"
      },
      "source": [
        "### 2. Using Loops to Reduce Data"
      ]
    },
    {
      "cell_type": "markdown",
      "metadata": {
        "id": "qHO-qArv3OFd"
      },
      "source": [
        "Next, let's plot the amount of money that each movie makes along with it's name.  \n",
        "\n",
        "To do so, loop through the list to select only `title` from each movie.\n",
        "> Let's practice this using first a `for` loop, and then list comprehension."
      ]
    },
    {
      "cell_type": "markdown",
      "metadata": {
        "id": "QC-agtQM3OFd"
      },
      "source": [
        "1. Use a `for` loop and the `append` method to add each title to a list."
      ]
    },
    {
      "cell_type": "code",
      "execution_count": 12,
      "metadata": {
        "id": "js1cc4Bd3OFe"
      },
      "outputs": [],
      "source": [
        "titles = []\n",
        "for movie in movies:\n",
        "  titles.append(movie['title'])\n",
        "\n"
      ]
    },
    {
      "cell_type": "code",
      "execution_count": 13,
      "metadata": {
        "id": "mzlqVVSz3OFe",
        "outputId": "bcd553f3-ee36-46f2-acbd-4d5eeb3c4f1e",
        "colab": {
          "base_uri": "https://localhost:8080/"
        }
      },
      "outputs": [
        {
          "output_type": "execute_result",
          "data": {
            "text/plain": [
              "['Avatar', \"Pirates of the Caribbean: At World's End\", 'Spectre']"
            ]
          },
          "metadata": {},
          "execution_count": 13
        }
      ],
      "source": [
        "titles[:3]\n",
        "# ['Avatar', \"Pirates of the Caribbean: At World's End\", 'Spectre']\n"
      ]
    },
    {
      "cell_type": "markdown",
      "metadata": {
        "id": "qgvD3Plq3OFe"
      },
      "source": [
        "2. Now do the same thing using list comprehension."
      ]
    },
    {
      "cell_type": "code",
      "execution_count": 14,
      "metadata": {
        "id": "oeCuakka3OFe"
      },
      "outputs": [],
      "source": [
        "titles = [movie['title'] for movie in movies]"
      ]
    },
    {
      "cell_type": "code",
      "execution_count": 15,
      "metadata": {
        "id": "RWtASv3m3OFe",
        "outputId": "52a938f8-2764-453a-acc4-796281b2bd66",
        "colab": {
          "base_uri": "https://localhost:8080/"
        }
      },
      "outputs": [
        {
          "output_type": "execute_result",
          "data": {
            "text/plain": [
              "['Avatar', \"Pirates of the Caribbean: At World's End\", 'Spectre']"
            ]
          },
          "metadata": {},
          "execution_count": 15
        }
      ],
      "source": [
        "titles[:3]\n",
        "# ['Avatar',\n",
        "# \"Pirates of the Caribbean: At World's End\",\n",
        "# 'Spectre']"
      ]
    },
    {
      "cell_type": "markdown",
      "metadata": {
        "id": "dufASgfy3OFe"
      },
      "source": [
        "3. Select the revenue from each movie using list comprehension"
      ]
    },
    {
      "cell_type": "code",
      "execution_count": 16,
      "metadata": {
        "id": "pm2hNYXb3OFf"
      },
      "outputs": [],
      "source": [
        "revenues = [movie['revenue'] for movie in movies]\n"
      ]
    },
    {
      "cell_type": "code",
      "execution_count": 17,
      "metadata": {
        "id": "cA3vfpRE3OFf",
        "outputId": "16f17c54-fafc-4c5e-dcde-6513cb76ffca",
        "colab": {
          "base_uri": "https://localhost:8080/"
        }
      },
      "outputs": [
        {
          "output_type": "execute_result",
          "data": {
            "text/plain": [
              "[2787965087, 961000000, 880674609]"
            ]
          },
          "metadata": {},
          "execution_count": 17
        }
      ],
      "source": [
        "revenues[:3]\n",
        "# [2787965087, 961000000, 880674609]"
      ]
    },
    {
      "cell_type": "markdown",
      "metadata": {
        "id": "bAC0u6X-3OFf"
      },
      "source": [
        "4. Now select the year from each movie."
      ]
    },
    {
      "cell_type": "code",
      "execution_count": 18,
      "metadata": {
        "id": "KAxzRYHR3OFf",
        "outputId": "77bcaf9a-de85-4f45-c340-bba628389b09",
        "colab": {
          "base_uri": "https://localhost:8080/"
        }
      },
      "outputs": [
        {
          "output_type": "execute_result",
          "data": {
            "text/plain": [
              "[2009, 2007, 2015]"
            ]
          },
          "metadata": {},
          "execution_count": 18
        }
      ],
      "source": [
        "years = [movie['year'] for movie in movies]\n",
        "\n",
        "years[:3]\n",
        "\n",
        "# [2009, 2007, 2015]"
      ]
    },
    {
      "cell_type": "markdown",
      "metadata": {
        "id": "1rgyyb1T3OFf"
      },
      "source": [
        "> Press `shift + return` on the cell below to plot the movie information."
      ]
    },
    {
      "cell_type": "code",
      "execution_count": 19,
      "metadata": {
        "id": "trZvWRP83OFf",
        "outputId": "e3e3ffbf-a4af-4766-a7e4-4a3f749fa7b0",
        "colab": {
          "base_uri": "https://localhost:8080/",
          "height": 542
        }
      },
      "outputs": [
        {
          "output_type": "display_data",
          "data": {
            "text/html": [
              "<html>\n",
              "<head><meta charset=\"utf-8\" /></head>\n",
              "<body>\n",
              "    <div>            <script src=\"https://cdnjs.cloudflare.com/ajax/libs/mathjax/2.7.5/MathJax.js?config=TeX-AMS-MML_SVG\"></script><script type=\"text/javascript\">if (window.MathJax && window.MathJax.Hub && window.MathJax.Hub.Config) {window.MathJax.Hub.Config({SVG: {font: \"STIX-Web\"}});}</script>                <script type=\"text/javascript\">window.PlotlyConfig = {MathJaxConfig: 'local'};</script>\n",
              "        <script src=\"https://cdn.plot.ly/plotly-2.18.2.min.js\"></script>                <div id=\"e8a7dd52-bc08-489f-a248-baf708e12fe0\" class=\"plotly-graph-div\" style=\"height:525px; width:100%;\"></div>            <script type=\"text/javascript\">                                    window.PLOTLYENV=window.PLOTLYENV || {};                                    if (document.getElementById(\"e8a7dd52-bc08-489f-a248-baf708e12fe0\")) {                    Plotly.newPlot(                        \"e8a7dd52-bc08-489f-a248-baf708e12fe0\",                        [{\"hovertext\":[\"Avatar\",\"Pirates of the Caribbean: At World's End\",\"Spectre\",\"The Dark Knight Rises\",\"John Carter\",\"Spider-Man 3\",\"Tangled\",\"Avengers: Age of Ultron\",\"Harry Potter and the Half-Blood Prince\",\"Batman v Superman: Dawn of Justice\",\"Superman Returns\",\"Quantum of Solace\",\"Pirates of the Caribbean: Dead Man's Chest\",\"The Lone Ranger\",\"Man of Steel\",\"The Chronicles of Narnia: Prince Caspian\",\"The Avengers\",\"Pirates of the Caribbean: On Stranger Tides\",\"Men in Black 3\",\"The Hobbit: The Battle of the Five Armies\",\"The Amazing Spider-Man\",\"Robin Hood\",\"The Hobbit: The Desolation of Smaug\",\"The Golden Compass\",\"King Kong\",\"Titanic\",\"Captain America: Civil War\",\"Battleship\",\"Jurassic World\",\"Skyfall\",\"Spider-Man 2\",\"Iron Man 3\",\"Alice in Wonderland\",\"X-Men: The Last Stand\",\"Monsters University\",\"Transformers: Revenge of the Fallen\",\"Transformers: Age of Extinction\",\"Oz: The Great and Powerful\",\"The Amazing Spider-Man 2\",\"TRON: Legacy\",\"Cars 2\",\"Green Lantern\",\"Toy Story 3\",\"Terminator Salvation\",\"Furious 7\",\"World War Z\",\"X-Men: Days of Future Past\",\"Star Trek Into Darkness\",\"Jack the Giant Slayer\",\"The Great Gatsby\",\"Prince of Persia: The Sands of Time\",\"Pacific Rim\",\"Transformers: Dark of the Moon\",\"Indiana Jones and the Kingdom of the Crystal Skull\",\"The Good Dinosaur\",\"Brave\",\"Star Trek Beyond\",\"WALL\\u00b7E\",\"Rush Hour 3\",\"2012\",\"A Christmas Carol\",\"Jupiter Ascending\",\"The Legend of Tarzan\",\"The Chronicles of Narnia: The Lion, the Witch and the Wardrobe\",\"X-Men: Apocalypse\",\"The Dark Knight\",\"Up\",\"Monsters vs Aliens\",\"Iron Man\",\"Hugo\",\"Wild Wild West\",\"The Mummy: Tomb of the Dragon Emperor\",\"Suicide Squad\",\"Evan Almighty\",\"Edge of Tomorrow\",\"Waterworld\",\"G.I. Joe: The Rise of Cobra\",\"Inside Out\",\"The Jungle Book\",\"Iron Man 2\",\"Snow White and the Huntsman\",\"Maleficent\",\"Dawn of the Planet of the Apes\",\"The Lovers\",\"47 Ronin\",\"Captain America: The Winter Soldier\",\"Shrek Forever After\",\"Tomorrowland\",\"Big Hero 6\",\"Wreck-It Ralph\",\"The Polar Express\",\"Independence Day: Resurgence\",\"How to Train Your Dragon\",\"Terminator 3: Rise of the Machines\",\"Guardians of the Galaxy\",\"Interstellar\",\"Inception\",\"Shin Godzilla\",\"The Hobbit: An Unexpected Journey\",\"The Fast and the Furious\",\"The Curious Case of Benjamin Button\",\"X-Men: First Class\",\"The Hunger Games: Mockingjay - Part 2\",\"The Sorcerer's Apprentice\",\"Poseidon\",\"Alice Through the Looking Glass\",\"Shrek the Third\",\"Warcraft\",\"Terminator Genisys\",\"The Chronicles of Narnia: The Voyage of the Dawn Treader\",\"Pearl Harbor\",\"Transformers\",\"Alexander\",\"Harry Potter and the Order of the Phoenix\",\"Harry Potter and the Goblet of Fire\",\"Hancock\",\"I Am Legend\",\"Charlie and the Chocolate Factory\",\"Ratatouille\",\"Batman Begins\",\"Madagascar: Escape 2 Africa\",\"Night at the Museum: Battle of the Smithsonian\",\"X-Men Origins: Wolverine\",\"The Matrix Revolutions\",\"Frozen\",\"The Matrix Reloaded\",\"Thor: The Dark World\",\"Mad Max: Fury Road\",\"Angels & Demons\",\"Thor\",\"Bolt\",\"G-Force\",\"Wrath of the Titans\",\"Dark Shadows\",\"Mission: Impossible - Rogue Nation\",\"The Wolfman\",\"Bee Movie\",\"Kung Fu Panda 2\",\"The Last Airbender\",\"Mission: Impossible III\",\"White House Down\",\"Mars Needs Moms\",\"Flushed Away\",\"Pan\",\"Mr. Peabody & Sherman\",\"Troy\",\"Madagascar 3: Europe's Most Wanted\",\"Die Another Day\",\"Ghostbusters\",\"Armageddon\",\"Men in Black II\",\"Beowulf\",\"Kung Fu Panda 3\",\"Mission: Impossible - Ghost Protocol\",\"Rise of the Guardians\",\"Fun with Dick and Jane\",\"The Last Samurai\",\"Exodus: Gods and Kings\",\"Star Trek\",\"Spider-Man\",\"How to Train Your Dragon 2\",\"Gods of Egypt\",\"Stealth\",\"Watchmen\",\"Lethal Weapon 4\",\"Hulk\",\"G.I. Joe: Retaliation\",\"Sahara\",\"Final Fantasy: The Spirits Within\",\"Captain America: The First Avenger\",\"The World Is Not Enough\",\"Master and Commander: The Far Side of the World\",\"The Twilight Saga: Breaking Dawn - Part 2\",\"Happy Feet Two\",\"The Incredible Hulk\",\"The BFG\",\"The Revenant\",\"Turbo\",\"Rango\",\"Penguins of Madagascar\",\"The Bourne Ultimatum\",\"Kung Fu Panda\",\"Ant-Man\",\"The Hunger Games: Catching Fire\",\"Home\",\"War of the Worlds\",\"Bad Boys II\",\"Puss in Boots\",\"Salt\",\"Noah\",\"The Adventures of Tintin\",\"Harry Potter and the Prisoner of Azkaban\",\"Australia\",\"After Earth\",\"Dinosaur\",\"Night at the Museum: Secret of the Tomb\",\"Megamind\",\"Harry Potter and the Philosopher's Stone\",\"R.I.P.D.\",\"Pirates of the Caribbean: The Curse of the Black Pearl\",\"The Hunger Games: Mockingjay - Part 1\",\"The Da Vinci Code\",\"Rio 2\",\"X2\",\"Fast Five\",\"Sherlock Holmes: A Game of Shadows\",\"Clash of the Titans\",\"Total Recall\",\"The 13th Warrior\",\"The Bourne Legacy\",\"Batman & Robin\",\"How the Grinch Stole Christmas\",\"The Day After Tomorrow\",\"Mission: Impossible II\",\"The Perfect Storm\",\"Fantastic 4: Rise of the Silver Surfer\",\"Life of Pi\",\"Ghost Rider\",\"Jason Bourne\",\"Charlie's Angels: Full Throttle\",\"Prometheus\",\"Stuart Little 2\",\"Elysium\",\"The Chronicles of Riddick\",\"RoboCop\",\"Speed Racer\",\"How Do You Know\",\"Knight and Day\",\"Oblivion\",\"Star Wars: Episode III - Revenge of the Sith\",\"Star Wars: Episode II - Attack of the Clones\",\"Monsters, Inc.\",\"The Wolverine\",\"Star Wars: Episode I - The Phantom Menace\",\"The Croods\",\"Asterix at the Olympic Games\",\"Windtalkers\",\"The Huntsman: Winter's War\",\"Teenage Mutant Ninja Turtles\",\"Gravity\",\"Dante's Peak\",\"Teenage Mutant Ninja Turtles: Out of the Shadows\",\"Fantastic Four\",\"Night at the Museum\",\"San Andreas\",\"Tomorrow Never Dies\",\"The Patriot\",\"Ocean's Twelve\",\"Mr. & Mrs. Smith\",\"Insurgent\",\"The Aviator\",\"Gulliver's Travels\",\"The Green Hornet\",\"300: Rise of an Empire\",\"The Smurfs\",\"Home on the Range\",\"Allegiant\",\"Real Steel\",\"The Smurfs 2\",\"Speed 2: Cruise Control\",\"Ender's Game\",\"Live Free or Die Hard\",\"The Lord of the Rings: The Fellowship of the Ring\",\"Around the World in 80 Days\",\"Ali\",\"The Cat in the Hat\",\"I, Robot\",\"Kingdom of Heaven\",\"Stuart Little\",\"The Princess and the Frog\",\"The Martian\",\"The Island\",\"Town & Country\",\"Gone in Sixty Seconds\",\"Gladiator\",\"Minority Report\",\"Harry Potter and the Chamber of Secrets\",\"Casino Royale\",\"Planet of the Apes\",\"Terminator 2: Judgment Day\",\"Public Enemies\",\"American Gangster\",\"True Lies\",\"The Taking of Pelham 1 2 3\",\"Little Fockers\",\"The Other Guys\",\"Eraser\",\"Django Unchained\",\"The Hunchback of Notre Dame\",\"The Emperor's New Groove\",\"The Expendables 2\",\"National Treasure\",\"Eragon\",\"Where the Wild Things Are\",\"Epic\",\"The Tourist\",\"End of Days\",\"Blood Diamond\",\"The Wolf of Wall Street\",\"Batman Forever\",\"Starship Troopers\",\"Cloud Atlas\",\"Legend of the Guardians: The Owls of Ga'Hoole\",\"Catwoman\",\"Hercules\",\"Treasure Planet\",\"Land of the Lost\",\"The Expendables 3\",\"Point Break\",\"Son of the Mask\",\"In the Heart of the Sea\",\"The Adventures of Pluto Nash\",\"Green Zone\",\"The Peanuts Movie\",\"The Spanish Prisoner\",\"The Mummy Returns\",\"Gangs of New York\",\"The Flowers of War\",\"Surf's Up\",\"The Stepford Wives\",\"Black Hawk Down\",\"The Campaign\",\"The Fifth Element\",\"Sex and the City 2\",\"The Road to El Dorado\",\"Ice Age: Continental Drift\",\"Cinderella\",\"The Lovely Bones\",\"Finding Nemo\",\"The Lord of the Rings: The Return of the King\",\"The Lord of the Rings: The Two Towers\",\"Seventh Son\",\"Lara Croft: Tomb Raider\",\"Transcendence\",\"Jurassic Park III\",\"Rise of the Planet of the Apes\",\"The Spiderwick Chronicles\",\"A Good Day to Die Hard\",\"The Alamo\",\"The Incredibles\",\"Cutthroat Island\",\"Percy Jackson & the Olympians: The Lightning Thief\",\"Men in Black\",\"Toy Story 2\",\"Unstoppable\",\"Rush Hour 2\",\"What Lies Beneath\",\"Cloudy with a Chance of Meatballs\",\"Ice Age: Dawn of the Dinosaurs\",\"The Secret Life of Walter Mitty\",\"Charlie's Angels\",\"The Departed\",\"Mulan\",\"Tropic Thunder\",\"The Girl with the Dragon Tattoo\",\"Die Hard: With a Vengeance\",\"Sherlock Holmes\",\"Ben-Hur\",\"Atlantis: The Lost Empire\",\"Alvin and the Chipmunks: The Road Chip\",\"Valkyrie\",\"You Don't Mess with the Zohan\",\"Pixels\",\"A.I. Artificial Intelligence\",\"The Haunted Mansion\",\"Contact\",\"Hollow Man\",\"The Interpreter\",\"Percy Jackson: Sea of Monsters\",\"Lara Croft Tomb Raider: The Cradle of Life\",\"Now You See Me 2\",\"The Saint\",\"Spy Game\",\"Mission to Mars\",\"Rio\",\"Bicentennial Man\",\"Volcano\",\"The Devil's Own\",\"K-19: The Widowmaker\",\"Conan the Barbarian\",\"Cinderella Man\",\"The Nutcracker: The Untold Story\",\"Seabiscuit\",\"Twister\",\"Cast Away\",\"Happy Feet\",\"The Bourne Supremacy\",\"Air Force One\",\"Ocean's Eleven\",\"The Three Musketeers\",\"Hotel Transylvania\",\"Enchanted\",\"Safe House\",\"102 Dalmatians\",\"Tower Heist\",\"The Holiday\",\"Enemy of the State\",\"It's Complicated\",\"Ocean's Thirteen\",\"Open Season\",\"Divergent\",\"Enemy at the Gates\",\"The Rundown\",\"Last Action Hero\",\"Memoirs of a Geisha\",\"The Fast and the Furious: Tokyo Drift\",\"Arthur Christmas\",\"Meet Joe Black\",\"Collateral Damage\",\"All That Jazz\",\"Mirror Mirror\",\"Scott Pilgrim vs. the World\",\"The Core\",\"Nutty Professor II: The Klumps\",\"Scooby-Doo\",\"Dredd\",\"Click\",\"Creepshow\",\"Cats & Dogs 2 : The Revenge of Kitty Galore\",\"Jumper\",\"Hellboy II: The Golden Army\",\"Zodiac\",\"The 6th Day\",\"Bruce Almighty\",\"The Expendables\",\"Mission: Impossible\",\"The Hunger Games\",\"The Hangover Part II\",\"Batman Returns\",\"Over the Hedge\",\"Lilo & Stitch\",\"Charlotte's Web\",\"Deep Impact\",\"RED 2\",\"The Longest Yard\",\"Alvin and the Chipmunks: Chipwrecked\",\"Grown Ups 2\",\"Get Smart\",\"Something's Gotta Give\",\"Shutter Island\",\"Four Christmases\",\"Robots\",\"Face/Off\",\"Bedtime Stories\",\"Road to Perdition\",\"Just Go with It\",\"Con Air\",\"Eagle Eye\",\"Cold Mountain\",\"The Book of Eli\",\"Flubber\",\"The Haunting\",\"Space Jam\",\"The Pink Panther\",\"The Day the Earth Stood Still\",\"Conspiracy Theory\",\"Fury\",\"Six Days Seven Nights\",\"Yogi Bear\",\"Spirit: Stallion of the Cimarron\",\"Zookeeper\",\"Lost in Space\",\"The Manchurian Candidate\",\"D\\u00e9j\\u00e0 Vu\",\"Hotel Transylvania 2\",\"Fantasia 2000\",\"The Time Machine\",\"Mighty Joe Young\",\"Swordfish\",\"The Legend of Zorro\",\"What Dreams May Come\",\"Little Nicky\",\"The Brothers Grimm\",\"Mars Attacks!\",\"Evolution\",\"The Edge\",\"Surrogates\",\"Thirteen Days\",\"Daylight\",\"Walking With Dinosaurs\",\"Battlefield Earth\",\"Looney Tunes: Back in Action\",\"Nine\",\"Timeline\",\"The Postman\",\"Babe: Pig in the City\",\"The Last Witch Hunter\",\"Red Planet\",\"Arthur and the Invisibles\",\"Oceans\",\"A Sound of Thunder\",\"Pompeii\",\"Top Cat Begins\",\"A Beautiful Mind\",\"The Lion King\",\"Journey 2: The Mysterious Island\",\"Cloudy with a Chance of Meatballs 2\",\"Red Dragon\",\"Hidalgo\",\"Jack and Jill\",\"2 Fast 2 Furious\",\"The Little Prince\",\"The Invasion\",\"The Adventures of Rocky & Bullwinkle\",\"The Secret Life of Pets\",\"The League of Extraordinary Gentlemen\",\"Despicable Me 2\",\"Independence Day\",\"The Lost World: Jurassic Park\",\"Madagascar\",\"Children of Men\",\"X-Men\",\"Wanted\",\"The Rock\",\"Ice Age: The Meltdown\",\"50 First Dates\",\"Hairspray\",\"Exorcist: The Beginning\",\"Inspector Gadget\",\"Now You See Me\",\"Grown Ups\",\"The Terminal\",\"Hotel for Dogs\",\"Vertical Limit\",\"Charlie Wilson's War\",\"Shark Tale\",\"Dreamgirls\",\"Be Cool\",\"Munich\",\"Tears of the Sun\",\"Killers\",\"The Man from U.N.C.L.E.\",\"Spanglish\",\"Monster House\",\"Bandits\",\"First Knight\",\"Anna and the King\",\"Immortals\",\"Hostage\",\"Titan A.E.\",\"Hollywood Homicide\",\"Soldier\",\"Carriers\",\"Monkeybone\",\"Flight of the Phoenix\",\"Unbreakable\",\"Minions\",\"Sucker Punch\",\"Snake Eyes\",\"Sphere\",\"The Angry Birds Movie\",\"Fool's Gold\",\"Funny People\",\"The Kingdom\",\"Talladega Nights: The Ballad of Ricky Bobby\",\"Dr. Dolittle 2\",\"Braveheart\",\"Jarhead\",\"The Simpsons Movie\",\"The Majestic\",\"Driven\",\"Two Brothers\",\"The Village\",\"Doctor Dolittle\",\"Signs\",\"Shrek 2\",\"Cars\",\"Runaway Bride\",\"xXx\",\"The SpongeBob Movie: Sponge Out of Water\",\"Ransom\",\"Inglourious Basterds\",\"Hook\",\"Die Hard 2\",\"S.W.A.T.\",\"Vanilla Sky\",\"Lady in the Water\",\"AVP: Alien vs. Predator\",\"Alvin and the Chipmunks: The Squeakquel\",\"We Were Soldiers\",\"Olympus Has Fallen\",\"Star Trek: Insurrection\",\"Battle: Los Angeles\",\"Big Fish\",\"Wolf\",\"War Horse\",\"The Monuments Men\",\"The Abyss\",\"Wall Street: Money Never Sleeps\",\"Dracula Untold\",\"The Siege\",\"Stardust\",\"Seven Years in Tibet\",\"The Dilemma\",\"Bad Company\",\"Doom\",\"I Spy\",\"Underworld: Awakening\",\"Rock of Ages\",\"Hart's War\",\"Killer Elite\",\"Rollerball\",\"Ballistic: Ecks vs. Sever\",\"Hard Rain\",\"Osmosis Jones\",\"Legends of Oz: Dorothy's Return\",\"Blackhat\",\"Sky Captain and the World of Tomorrow\",\"Basic Instinct 2\",\"Escape Plan\",\"The Legend of Hercules\",\"The Sum of All Fears\",\"The Twilight Saga: Eclipse\",\"The Score\",\"Despicable Me\",\"Money Train\",\"Ted 2\",\"Agora\",\"Mystery Men\",\"Hall Pass\",\"The Insider\",\"The Finest Hours\",\"Body of Lies\",\"Dinner for Schmucks\",\"Abraham Lincoln: Vampire Hunter\",\"Entrapment\",\"The X Files\",\"The Last Legion\",\"Saving Private Ryan\",\"Need for Speed\",\"What Women Want\",\"Ice Age\",\"Dreamcatcher\",\"Lincoln\",\"The Matrix\",\"Apollo 13\",\"The Santa Clause 2\",\"Les Mis\\u00e9rables\",\"You've Got Mail\",\"Step Brothers\",\"The Mask of Zorro\",\"Due Date\",\"Unbroken\",\"Space Cowboys\",\"Cliffhanger\",\"Broken Arrow\",\"The Kid\",\"World Trade Center\",\"Mona Lisa Smile\",\"The Dictator\",\"Eyes Wide Shut\",\"Annie\",\"Focus\",\"This Means War\",\"Blade: Trinity\",\"Red Dawn\",\"Primary Colors\",\"Resident Evil: Retribution\",\"Death Race\",\"The Long Kiss Goodnight\",\"Proof of Life\",\"Zathura: A Space Adventure\",\"Fight Club\",\"We Are Marshall\",\"Hudson Hawk\",\"Lucky Numbers\",\"I, Frankenstein\",\"Oliver Twist\",\"Elektra\",\"Sin City: A Dame to Kill For\",\"Random Hearts\",\"Everest\",\"Perfume: The Story of a Murderer\",\"Austin Powers in Goldmember\",\"Astro Boy\",\"Jurassic Park\",\"Wyatt Earp\",\"Clear and Present Danger\",\"Dragon Blade\",\"Little Man\",\"U-571\",\"The American President\",\"The Love Guru\",\"3000 Miles to Graceland\",\"The Hateful Eight\",\"Blades of Glory\",\"Hop\",\"300\",\"Meet the Fockers\",\"Marley & Me\",\"The Green Mile\",\"Wild Hogs\",\"Chicken Little\",\"Gone Girl\",\"The Bourne Identity\",\"GoldenEye\",\"The General's Daughter\",\"The Truman Show\",\"The Prince of Egypt\",\"Daddy Day Care\",\"2 Guns\",\"Cats & Dogs\",\"The Italian Job\",\"Two Weeks Notice\",\"Antz\",\"Couples Retreat\",\"Days of Thunder\",\"Cheaper by the Dozen 2\",\"Maze Runner: The Scorch Trials\",\"Eat Pray Love\",\"The Family Man\",\"RED\",\"Any Given Sunday\",\"The Horse Whisperer\",\"Collateral\",\"The Scorpion King\",\"Ladder 49\",\"Jack Reacher\",\"Deep Blue Sea\",\"This Is It\",\"Contagion\",\"Kangaroo Jack\",\"Coraline\",\"The Happening\",\"Man on Fire\",\"The Shaggy Dog\",\"Starsky & Hutch\",\"Jingle All the Way\",\"Hellboy\",\"A Civil Action\",\"ParaNorman\",\"The Jackal\",\"Paycheck\",\"Up Close & Personal\",\"The Tale of Despereaux\",\"The Tuxedo\",\"Under Siege 2: Dark Territory\",\"Jack Ryan: Shadow Recruit\",\"Joy\",\"London Has Fallen\",\"Alien: Resurrection\",\"Shooter\",\"The Boxtrolls\",\"Practical Magic\",\"The Lego Movie\",\"Miss Congeniality 2: Armed and Fabulous\",\"Reign of Fire\",\"Gangster Squad\",\"Year One\",\"Invictus\",\"State of Play\",\"Duplicity\",\"My Favorite Martian\",\"The Sentinel\",\"Planet 51\",\"Star Trek: Nemesis\",\"Intolerable Cruelty\",\"Trouble with the Curve\",\"Edge of Darkness\",\"The Relic\",\"Analyze That\",\"Righteous Kill\",\"Mercury Rising\",\"The Soloist\",\"The Legend of Bagger Vance\",\"Almost Famous\",\"Garfield: A Tail of Two Kitties\",\"xXx: State of the Union\",\"Priest\",\"Sinbad: Legend of the Seven Seas\",\"Event Horizon\",\"Dragonfly\",\"The Black Dahlia\",\"Flyboys\",\"The Last Castle\",\"Supernova\",\"Winter's Tale\",\"The Mortal Instruments: City of Bones\",\"Meet Dave\",\"Dark Water\",\"Edtv\",\"Inkheart\",\"The Spirit\",\"Mortdecai\",\"In the Name of the King: A Dungeon Siege Tale\",\"Beyond Borders\",\"The Monkey King 2\",\"The Great Raid\",\"Deadpool\",\"Holy Man\",\"American Sniper\",\"Goosebumps\",\"Just Like Heaven\",\"The Flintstones in Viva Rock Vegas\",\"Rambo III\",\"Leatherheads\",\"The Ridiculous 6\",\"Did You Hear About the Morgans?\",\"The Internship\",\"Resident Evil: Afterlife\",\"Red Tails\",\"The Devil's Advocate\",\"That's My Boy\",\"DragonHeart\",\"After the Sunset\",\"Ghost Rider: Spirit of Vengeance\",\"Captain Corelli's Mandolin\",\"The Pacifier\",\"Walking Tall\",\"Forrest Gump\",\"Alvin and the Chipmunks\",\"Meet the Parents\",\"Pocahontas\",\"Superman\",\"The Nutty Professor\",\"Hitch\",\"George of the Jungle\",\"American Wedding\",\"Captain Phillips\",\"Date Night\",\"Casper\",\"The Equalizer\",\"Maid in Manhattan\",\"Crimson Tide\",\"The Pursuit of Happyness\",\"Flightplan\",\"Disclosure\",\"City of Angels\",\"Kill Bill: Vol. 1\",\"Bowfinger\",\"Kill Bill: Vol. 2\",\"Tango & Cash\",\"Death Becomes Her\",\"Shanghai Noon\",\"Executive Decision\",\"Mr. Popper's Penguins\",\"The Forbidden Kingdom\",\"Free Birds\",\"Alien\\u00b3\",\"Evita\",\"Ronin\",\"The Ghost and the Darkness\",\"Paddington\",\"The Watch\",\"The Hunted\",\"Instinct\",\"Stuck on You\",\"Semi-Pro\",\"The Pirates! In an Adventure with Scientists!\",\"Changeling\",\"Chain Reaction\",\"The Fan\",\"The Phantom of the Opera\",\"Elizabeth: The Golden Age\",\"\\u00c6on Flux\",\"Gods and Generals\",\"Turbulence\",\"Imagine That\",\"Muppets Most Wanted\",\"Thunderbirds\",\"Burlesque\",\"A Very Long Engagement\",\"Lolita\",\"D-Tox\",\"Blade II\",\"Seven Pounds\",\"Bullet to the Head\",\"The Godfather: Part III\",\"Elizabethtown\",\"You, Me and Dupree\",\"Superman II\",\"Gigli\",\"All the King's Men\",\"Shaft\",\"Anastasia\",\"Moulin Rouge!\",\"Domestic Disturbance\",\"Black Mass\",\"Flags of Our Fathers\",\"Law Abiding Citizen\",\"Grindhouse\",\"Beloved\",\"Lucky You\",\"Catch Me If You Can\",\"Zero Dark Thirty\",\"The Break-Up\",\"Mamma Mia!\",\"Valentine's Day\",\"The Dukes of Hazzard\",\"The Thin Red Line\",\"The Change-Up\",\"Man on the Moon\",\"Casino\",\"From Paris with Love\",\"Bulletproof Monk\",\"Me, Myself & Irene\",\"Barnyard\",\"Deck the Halls\",\"The Twilight Saga: New Moon\",\"Shrek\",\"The Adjustment Bureau\",\"Robin Hood: Prince of Thieves\",\"Jerry Maguire\",\"Ted\",\"As Good as It Gets\",\"Patch Adams\",\"Anchorman 2: The Legend Continues\",\"Mr. Deeds\",\"Super 8\",\"Erin Brockovich\",\"How to Lose a Guy in 10 Days\",\"22 Jump Street\",\"Interview with the Vampire\",\"Yes Man\",\"Central Intelligence\",\"Stepmom\",\"Daddy's Home\",\"Into the Woods\",\"Inside Man\",\"Payback\",\"Congo\",\"We Bought a Zoo\",\"Knowing\",\"Failure to Launch\",\"The Ring Two\",\"Crazy, Stupid, Love.\",\"Garfield\",\"Christmas with the Kranks\",\"Moneyball\",\"Outbreak\",\"Non-Stop\",\"Race to Witch Mountain\",\"V for Vendetta\",\"Shanghai Knights\",\"Curious George\",\"Herbie Fully Loaded\",\"Don't Say a Word\",\"Hansel & Gretel: Witch Hunters\",\"Unfaithful\",\"I Am Number Four\",\"Syriana\",\"13 Hours: The Secret Soldiers of Benghazi\",\"The Book of Life\",\"Firewall\",\"Absolute Power\",\"G.I. Jane\",\"The Game\",\"Silent Hill\",\"The Replacements\",\"American Reunion\",\"The Negotiator\",\"Into the Storm\",\"Beverly Hills Cop III\",\"Gremlins 2: The New Batch\",\"The Judge\",\"The Peacemaker\",\"Resident Evil: Apocalypse\",\"Bridget Jones: The Edge of Reason\",\"Out of Time\",\"On Deadly Ground\",\"The Adventures of Sharkboy and Lavagirl\",\"The Beach\",\"Raising Helen\",\"Ninja Assassin\",\"For Love of the Game\",\"Striptease\",\"Marmaduke\",\"Hereafter\",\"Murder by Numbers\",\"Assassins\",\"Hannibal Rising\",\"The Story of Us\",\"The Host\",\"Basic\",\"Blood Work\",\"The International\",\"Escape from L.A.\",\"The Iron Giant\",\"The Life Aquatic with Steve Zissou\",\"Free State of Jones\",\"The Life of David Gale\",\"Man of the House\",\"Run All Night\",\"Eastern Promises\",\"Into the Blue\",\"The Messenger: The Story of Joan of Arc\",\"Your Highness\",\"Dream House\",\"Mad City\",\"Baby's Day Out\",\"The Scarlet Letter\",\"Fair Game\",\"Domino\",\"Jade\",\"Gamer\",\"Beautiful Creatures\",\"Death to Smoochy\",\"Zoolander 2\",\"The Big Bounce\",\"What Planet Are You From?\",\"Drive Angry\",\"Street Fighter: The Legend of Chun-Li\",\"The One\",\"The Adventures of Ford Fairlane\",\"The Boat That Rocked\",\"Traffic\",\"Indiana Jones and the Last Crusade\",\"Anna Karenina\",\"Chappie\",\"The Bone Collector\",\"Panic Room\",\"The Tooth Fairy\",\"Three Kings\",\"Child 44\",\"Rat Race\",\"K-PAX\",\"Kate & Leopold\",\"Bedazzled\",\"The Cotton Club\",\"3:10 to Yuma\",\"Taken 3\",\"Out of Sight\",\"The Cable Guy\",\"Earth\",\"Dick Tracy\",\"The Thomas Crown Affair\",\"Riding in Cars with Boys\",\"First Blood\",\"Solaris\",\"Happily N'Ever After\",\"Mary Reilly\",\"My Best Friend's Wedding\",\"America's Sweethearts\",\"Insomnia\",\"Star Trek: First Contact\",\"Jonah Hex\",\"Courage Under Fire\",\"Liar Liar\",\"The Infiltrator\",\"Inchon\",\"The Flintstones\",\"Taken 2\",\"Scary Movie 3\",\"Miss Congeniality\",\"Journey to the Center of the Earth\",\"The Princess Diaries 2: Royal Engagement\",\"The Pelican Brief\",\"The Client\",\"The Bucket List\",\"Patriot Games\",\"Monster-in-Law\",\"Prisoners\",\"Training Day\",\"Galaxy Quest\",\"Scary Movie 2\",\"The Muppets\",\"Blade\",\"Coach Carter\",\"Changing Lanes\",\"Anaconda\",\"Coyote Ugly\",\"Love Actually\",\"A Bug's Life\",\"From Hell\",\"The Specialist\",\"Tin Cup\",\"Yours, Mine and Ours\",\"Kicking & Screaming\",\"The Hitchhiker's Guide to the Galaxy\",\"Fat Albert\",\"Resident Evil: Extinction\",\"Blended\",\"Last Holiday\",\"The River Wild\",\"The Indian in the Cupboard\",\"Savages\",\"Cellular\",\"Johnny English\",\"The Ant Bully\",\"Dune\",\"Across the Universe\",\"Revolutionary Road\",\"16 Blocks\",\"Babylon A.D.\",\"The Glimmer Man\",\"Multiplicity\",\"Aliens in the Attic\",\"The Pledge\",\"The Producers\",\"The Phantom\",\"All the Pretty Horses\",\"Nixon\",\"The Ghost Writer\",\"Deep Rising\",\"Miracle at St. Anna\",\"Curse of the Golden Flower\",\"Bangkok Dangerous\",\"Big Trouble\",\"Love in the Time of Cholera\",\"Shadow Conspiracy\",\"Johnny English Reborn\",\"Foodfight!\",\"Argo\",\"The Fugitive\",\"The Bounty Hunter\",\"Sleepers\",\"Rambo: First Blood Part II\",\"The Juror\",\"Pinocchio\",\"Heaven's Gate\",\"Underworld: Evolution\",\"Victor Frankenstein\",\"Finding Forrester\",\"28 Days\",\"Unleashed\",\"The Sweetest Thing\",\"The Firm\",\"Charlie St. Cloud\",\"The Mechanic\",\"21 Jump Street\",\"Notting Hill\",\"Chicken Run\",\"Along Came Polly\",\"Boomerang\",\"The Heat\",\"Cleopatra\",\"Here Comes the Boom\",\"High Crimes\",\"The Mirror Has Two Faces\",\"The Mothman Prophecies\",\"Br\\u00fcno\",\"Licence to Kill\",\"Red Riding Hood\",\"15 Minutes\",\"Super Mario Bros.\",\"Lord of War\",\"Hero\",\"One for the Money\",\"The Interview\",\"The Warrior's Way\",\"Micmacs\",\"8 Mile\",\"Why I Did (Not) Eat My Father\",\"A Knight's Tale\",\"The Medallion\",\"The Sixth Sense\",\"Man on a Ledge\",\"The Big Year\",\"The Karate Kid\",\"American Hustle\",\"The Proposal\",\"Double Jeopardy\",\"Back to the Future Part II\",\"Lucy\",\"Fifty Shades of Grey\",\"Spy Kids 3-D: Game Over\",\"A Time to Kill\",\"Cheaper by the Dozen\",\"Lone Survivor\",\"A League of Their Own\",\"The Conjuring 2\",\"The Social Network\",\"He's Just Not That Into You\",\"Scary Movie 4\",\"Scream 3\",\"Back to the Future Part III\",\"Get Hard\",\"Dracula\",\"Julie & Julia\",\"42\",\"The Talented Mr. Ripley\",\"Dumb and Dumber To\",\"Eight Below\",\"The Intern\",\"Ride Along 2\",\"The Last of the Mohicans\",\"Ray\",\"Sin City\",\"Vantage Point\",\"I Love You, Man\",\"Shallow Hal\",\"JFK\",\"Big Momma's House 2\",\"The Mexican\",\"17 Again\",\"The Other Woman\",\"The Final Destination\",\"Bridge of Spies\",\"Behind Enemy Lines\",\"Get Him to the Greek\",\"Shall We Dance?\",\"Small Soldiers\",\"Spawn\",\"The Count of Monte Cristo\",\"The Lincoln Lawyer\",\"Unknown\",\"The Prestige\",\"Horrible Bosses 2\",\"Escape from Planet Earth\",\"Apocalypto\",\"The Living Daylights\",\"Predators\",\"Legal Eagles\",\"Secret Window\",\"The Lake House\",\"The Skeleton Key\",\"The Odd Life of Timothy Green\",\"Made of Honor\",\"Jersey Boys\",\"The Rainmaker\",\"Gothika\",\"Amistad\",\"Medicine Man\",\"Aliens vs Predator: Requiem\",\"Ri\\u00a2hie Ri\\u00a2h\",\"Autumn in New York\",\"Music and Lyrics\",\"Paul\",\"The Guilt Trip\",\"Scream 4\",\"8MM\",\"The Doors\",\"Sex Tape\",\"Hanging Up\",\"Final Destination 5\",\"Mickey Blue Eyes\",\"Pay It Forward\",\"Fever Pitch\",\"Drillbit Taylor\",\"A Million Ways to Die in the West\",\"The Shadow\",\"Extremely Loud & Incredibly Close\",\"Morning Glory\",\"Get Rich or Die Tryin'\",\"The Art of War\",\"Rent\",\"Bless the Child\",\"The Out-of-Towners\",\"The Island of Dr. Moreau\",\"The Musketeer\",\"The Other Boleyn Girl\",\"Sweet November\",\"The Reaping\",\"Mean Streets\",\"Renaissance Man\",\"Colombiana\",\"Quest for Camelot\",\"City By The Sea\",\"At First Sight\",\"Torque\",\"City Hall\",\"Showgirls\",\"Marie Antoinette\",\"Kiss of Death\",\"Get Carter\",\"The Impossible\",\"Ishtar\",\"Fantastic Mr. Fox\",\"Life or Something Like It\",\"Memoirs of an Invisible Man\",\"Am\\u00e9lie\",\"New York Minute\",\"Alfie\",\"Big Miracle\",\"The Deep End of the Ocean\",\"FearDotCom\",\"Cirque du Freak: The Vampire's Assistant\",\"Duplex\",\"Soul Men\",\"Raise the Titanic\",\"Universal Soldier: The Return\",\"Pandorum\",\"Impostor\",\"Extreme Ops\",\"Just Visiting\",\"Sunshine\",\"A Thousand Words\",\"Delgo\",\"The Gunman\",\"Stormbreaker\",\"Disturbia\",\"Hackers\",\"The Hunting Party\",\"The Hudsucker Proxy\",\"The Warlords\",\"Nomad: The Warrior\",\"Snowpiercer\",\"A Monster in Paris\",\"The Last Shot\",\"The Crow\",\"Baahubali: The Beginning\",\"The Time Traveler's Wife\",\"Because I Said So\",\"Frankenweenie\",\"Serenity\",\"Against the Ropes\",\"Superman III\",\"Grudge Match\",\"Red Cliff\",\"Sweet Home Alabama\",\"The Ugly Truth\",\"Sgt. Bilko\",\"Spy Kids 2: The Island of Lost Dreams\",\"Star Trek: Generations\",\"The Grandmaster\",\"Water for Elephants\",\"Dragon Nest: Warriors' Dawn\",\"The Hurricane\",\"Enough\",\"Heartbreakers\",\"Paul Blart: Mall Cop 2\",\"Angel Eyes\",\"Joe Somebody\",\"The Ninth Gate\",\"Extreme Measures\",\"Rock Star\",\"Precious\",\"White Squall\",\"The Thing\",\"Riddick\",\"Switchback\",\"Texas Rangers\",\"City of Ember\",\"The Master\",\"Virgin Territory\",\"The Express\",\"The 5th Wave\",\"Creed\",\"The Town\",\"What to Expect When You're Expecting\",\"Burn After Reading\",\"Nim's Island\",\"Rush\",\"Magnolia\",\"Cop Out\",\"How to Be Single\",\"Dolphin Tale\",\"Twilight\",\"John Q\",\"Blue Streak\",\"We're the Millers\",\"The Inhabited Island\",\"Breakdown\",\"Never Say Never Again\",\"Hot Tub Time Machine\",\"Dolphin Tale 2\",\"Reindeer Games\",\"A Man Apart\",\"Aloha\",\"Ghosts of Mississippi\",\"Snow Falling on Cedars\",\"The Rite\",\"Gattaca\",\"Isn't She Great\",\"Space Chimps\",\"Head of State\",\"The Hangover\",\"Ip Man 3\",\"Austin Powers: The Spy Who Shagged Me\",\"Batman\",\"There Be Dragons\",\"Lethal Weapon 3\",\"The Blind Side\",\"Spy Kids\",\"Horrible Bosses\",\"True Grit\",\"The Devil Wears Prada\",\"Star Trek: The Motion Picture\",\"Identity Thief\",\"Cape Fear\",\"21\",\"Trainwreck\",\"Guess Who\",\"The English Patient\",\"L.A. Confidential\",\"Sky High\",\"In & Out\",\"Species\",\"A Nightmare on Elm Street\",\"The Cell\",\"The Man in the Iron Mask\",\"Secretariat\",\"TMNT\",\"Radio\",\"Friends with Benefits\",\"Neighbors 2: Sorority Rising\",\"Saving Mr. Banks\",\"Malcolm X\",\"This Is 40\",\"Old Dogs\",\"Underworld: Rise of the Lycans\",\"License to Wed\",\"The Benchwarmers\",\"Must Love Dogs\",\"Donnie Brasco\",\"Resident Evil\",\"Poltergeist\",\"The Ladykillers\",\"Max Payne\",\"In Time\",\"The Back-Up Plan\",\"Something Borrowed\",\"Black Knight\",\"The Bad News Bears\",\"Street Fighter\",\"The Pianist\",\"The Nativity Story\",\"House of Wax\",\"Closer\",\"J. Edgar\",\"Mirrors\",\"Queen of the Damned\",\"Predator 2\",\"Untraceable\",\"Blast from the Past\",\"Flash Gordon\",\"Jersey Girl\",\"Alex Cross\",\"Midnight in the Garden of Good and Evil\",\"Heist\",\"Nanny McPhee and the Big Bang\",\"Hoffa\",\"The X Files: I Want to Believe\",\"Ella Enchanted\",\"Concussion\",\"Abduction\",\"Valiant\",\"Wonder Boys\",\"Superhero Movie\",\"Broken City\",\"Cursed\",\"Premium Rush\",\"Hot Pursuit\",\"The Four Feathers\",\"Parker\",\"Wimbledon\",\"Furry Vengeance\",\"Bait\",\"Krull\",\"Lions for Lambs\",\"Flight of the Intruder\",\"Walk Hard: The Dewey Cox Story\",\"The Shipping News\",\"American Outlaws\",\"The Young Victoria\",\"Whiteout\",\"The Tree of Life\",\"Knock Off\",\"Sabotage\",\"The Order\",\"Punisher: War Zone\",\"Zoom\",\"The Walk\",\"Warriors of Virtue\",\"A Good Year\",\"Radio Flyer\",\"Bound by Honor\",\"Smilla's Sense of Snow\",\"Femme Fatale\",\"Lion of the Desert\",\"The Horseman on the Roof\",\"Ride with the Devil\",\"Biutiful\",\"Bandidas\",\"Black Water Transit\",\"The Maze Runner\",\"Unfinished Business\",\"The Age of Innocence\",\"The Fountain\",\"Chill Factor\",\"Stolen\",\"Ponyo\",\"The Longest Ride\",\"The Astronaut's Wife\",\"I Dreamed of Africa\",\"Playing for Keeps\",\"Mandela: Long Walk to Freedom\",\"Reds\",\"A Few Good Men\",\"Exit Wounds\",\"Big Momma's House\",\"Thunder and the House of Magic\",\"The Darkest Hour\",\"Step Up Revolution\",\"Snakes on a Plane\",\"The Watcher\",\"The Punisher\",\"Goal!: The Dream Begins\",\"Safe\",\"Pushing Tin\",\"Return of the Jedi\",\"Doomsday\",\"The Reader\",\"Wanderlust\",\"Elf\",\"Phenomenon\",\"Snow Dogs\",\"Scrooged\",\"Nacho Libre\",\"Bridesmaids\",\"This Is the End\",\"Stigmata\",\"Men of Honor\",\"Takers\",\"The Big Wedding\",\"Big Mommas: Like Father, Like Son\",\"Source Code\",\"Alive\",\"The Number 23\",\"The Young and Prodigious T.S. Spivet\",\"1941\",\"Dreamer: Inspired By a True Story\",\"A History of Violence\",\"Transporter 2\",\"The Quick and the Dead\",\"Laws of Attraction\",\"Bringing Out the Dead\",\"Repo Men\",\"Dragon Wars: D-War\",\"Bogus\",\"The Incredible Burt Wonderstone\",\"Cats Don't Dance\",\"Cradle Will Rock\",\"The Good German\",\"George and the Dragon\",\"Apocalypse Now\",\"Going the Distance\",\"Mr. Holland's Opus\",\"Criminal\",\"Out of Africa\",\"Flight\",\"Moonraker\",\"The Grand Budapest Hotel\",\"Hearts in Atlantis\",\"Arachnophobia\",\"Frequency\",\"Vacation\",\"Get Shorty\",\"Chicago\",\"Big Daddy\",\"American Pie 2\",\"Toy Story\",\"Speed\",\"The Vow\",\"Extraordinary Measures\",\"Remember the Titans\",\"The Hunt for Red October\",\"The Butler\",\"DodgeBall: A True Underdog Story\",\"The Addams Family\",\"Ace Ventura: When Nature Calls\",\"The Princess Diaries\",\"The First Wives Club\",\"Se7en\",\"District 9\",\"The SpongeBob SquarePants Movie\",\"Mystic River\",\"Million Dollar Baby\",\"Analyze This\",\"The Notebook\",\"27 Dresses\",\"Hannah Montana: The Movie\",\"Rugrats in Paris: The Movie\",\"The Prince of Tides\",\"Legends of the Fall\",\"Up in the Air\",\"About Schmidt\",\"Warm Bodies\",\"Looper\",\"Down to Earth\",\"Babe\",\"Hope Springs\",\"Forgetting Sarah Marshall\",\"Four Brothers\",\"Baby Mama\",\"Hope Floats\",\"Bride Wars\",\"Without a Paddle\",\"13 Going on 30\",\"Midnight in Paris\",\"The Nut Job\",\"Blow\",\"Message in a Bottle\",\"Star Trek V: The Final Frontier\",\"Like Mike\",\"The Naked Gun 33\\u2153: The Final Insult\",\"A View to a Kill\",\"The Curse of the Were-Rabbit\",\"P.S. I Love You\",\"Racing Stripes\",\"Atonement\",\"Letters to Juliet\",\"Black Rain\",\"The Three Stooges\",\"Corpse Bride\",\"Glory Road\",\"Sicario\",\"Southpaw\",\"Drag Me to Hell\",\"The Age of Adaline\",\"Secondhand Lions\",\"Step Up 3D\",\"Blue Crush\",\"Stranger Than Fiction\",\"30 Days of Night\",\"The Cabin in the Woods\",\"Meet the Spartans\",\"Midnight Run\",\"The Running Man\",\"Little Shop of Horrors\",\"Hanna\",\"Mortal Kombat: Annihilation\",\"Larry Crowne\",\"Carrie\",\"Take the Lead\",\"Gridiron Gang\",\"What's the Worst That Could Happen?\",\"9\",\"Side Effects\",\"The Prince & Me\",\"Winnie the Pooh\",\"Dumb and Dumberer: When Harry Met Lloyd\",\"Bulworth\",\"Get on Up\",\"One True Thing\",\"Virtuosity\",\"My Super Ex-Girlfriend\",\"Deliver Us from Evil\",\"Sanctum\",\"Little Black Book\",\"The Five-Year Engagement\",\"Mr. 3000\",\"The Next Three Days\",\"Ultraviolet\",\"Assault on Precinct 13\",\"The Replacement Killers\",\"Fled\",\"Eight Legged Freaks\",\"Love & Other Drugs\",\"88 Minutes\",\"North Country\",\"The Whole Ten Yards\",\"Splice\",\"Howard the Duck\",\"Pride and Glory\",\"The Cave\",\"Alex & Emma\",\"Wicker Park\",\"Fright Night\",\"The New World\",\"Wing Commander\",\"In Dreams\",\"Dragonball Evolution\",\"The Last Stand\",\"Godsend\",\"Chasing Liberty\",\"Hoodwinked Too! Hood VS. Evil\",\"An Unfinished Life\",\"The Imaginarium of Doctor Parnassus\",\"Barney's Version\",\"Runner Runner\",\"Antitrust\",\"Glory\",\"Once Upon a Time in America\",\"Dead Man Down\",\"The Merchant of Venice\",\"The Good Thief\",\"Supercross\",\"Miss Potter\",\"The Promise\",\"DOA: Dead or Alive\",\"The Assassination of Jesse James by the Coward Robert Ford\",\"1911\",\"Little Nicholas\",\"Wild Card\",\"Machine Gun Preacher\",\"Animals United\",\"Goodbye Bafana\",\"United Passions\",\"Grace of Monaco\",\"Savva. Heart of the Warrior\",\"Ripley's Game\",\"Sausage Party\",\"Pitch Perfect 2\",\"Walk the Line\",\"Keeping the Faith\",\"The Borrowers\",\"Frost/Nixon\",\"Confessions of a Dangerous Mind\",\"Serving Sara\",\"The Boss\",\"Cry Freedom\",\"Mumford\",\"Seed of Chucky\",\"The Jacket\",\"Aladdin\",\"Straight Outta Compton\",\"Indiana Jones and the Temple of Doom\",\"The Rugrats Movie\",\"Along Came a Spider\",\"Florence Foster Jenkins\",\"Once Upon a Time in Mexico\",\"Die Hard\",\"Role Models\",\"The Big Short\",\"Taking Woodstock\",\"Miracle\",\"Dawn of the Dead\",\"The Wedding Planner\",\"Space Pirate Captain Harlock\",\"The Royal Tenenbaums\",\"Identity\",\"Last Vegas\",\"For Your Eyes Only\",\"Serendipity\",\"Timecop\",\"Zoolander\",\"Safe Haven\",\"Hocus Pocus\",\"No Reservations\",\"Kick-Ass\",\"30 Minutes or Less\",\"Dracula 2000\",\"Alexander and the Terrible, Horrible, No Good, Very Bad Day\",\"Pride & Prejudice\",\"Blade Runner\",\"Rob Roy\",\"3 Days to Kill\",\"We Own the Night\",\"Lost Souls\",\"Winged Migration\",\"Just My Luck\",\"Mystery, Alaska\",\"The Spy Next Door\",\"A Simple Wish\",\"Ghosts of Mars\",\"Our Brand Is Crisis\",\"Pride and Prejudice and Zombies\",\"Kundun\",\"How to Lose Friends & Alienate People\",\"Kick-Ass 2\",\"Alatriste\",\"Brick Mansions\",\"Octopussy\",\"Knocked Up\",\"My Sister's Keeper\",\"Welcome Home Roscoe Jenkins\",\"A Passage to India\",\"Notes on a Scandal\",\"Rendition\",\"Star Trek VI: The Undiscovered Country\",\"Divine Secrets of the Ya-Ya Sisterhood\",\"Kiss the Girls\",\"The Blues Brothers\",\"The Sisterhood of the Traveling Pants 2\",\"Joyful Noise\",\"About a Boy\",\"Lake Placid\",\"Lucky Number Slevin\",\"The Right Stuff\",\"Anonymous\",\"The NeverEnding Story\",\"Dark City\",\"The Duchess\",\"Return to Oz\",\"The Newton Boys\",\"Case 39\",\"Suspect Zero\",\"Martian Child\",\"Spy Kids: All the Time in the World\",\"Money Monster\",\"The 51st State\",\"Flawless\",\"Mindhunters\",\"What Just Happened\",\"The Statement\",\"The Magic Flute\",\"Paul Blart: Mall Cop\",\"Freaky Friday\",\"The 40 Year Old Virgin\",\"Shakespeare in Love\",\"A Walk Among the Tombstones\",\"Kindergarten Cop\",\"Pineapple Express\",\"Ever After: A Cinderella Story\",\"Open Range\",\"Flatliners\",\"A Bridge Too Far\",\"Red Eye\",\"Final Destination 2\",\"O Brother, Where Art Thou?\",\"Legion\",\"Pain & Gain\",\"In Good Company\",\"Clockstoppers\",\"Silverado\",\"Brothers\",\"Agent Cody Banks 2: Destination London\",\"New Year's Eve\",\"Original Sin\",\"The Raven\",\"Welcome to Mooseport\",\"Highlander: The Final Dimension\",\"Blood and Wine\",\"Snow White: A Tale of Terror\",\"The Curse of the Jade Scorpion\",\"Accidental Love\",\"Flipper\",\"Self/less\",\"The Constant Gardener\",\"The Passion of the Christ\",\"Mrs. Doubtfire\",\"Rain Man\",\"Gran Torino\",\"W.\",\"Taken\",\"The Best of Me\",\"The Bodyguard\",\"Schindler's List\",\"The Help\",\"The Fifth Estate\",\"Scooby-Doo 2: Monsters Unleashed\",\"Forbidden Kingdom\",\"Freddy vs. Jason\",\"The Face of an Angel\",\"Jimmy Neutron: Boy Genius\",\"Cloverfield\",\"Teenage Mutant Ninja Turtles II: The Secret of the Ooze\",\"The Untouchables\",\"No Country for Old Men\",\"Ride Along\",\"Bridget Jones's Diary\",\"Chocolat\",\"Legally Blonde 2: Red, White & Blonde\",\"Parental Guidance\",\"No Strings Attached\",\"Tombstone\",\"Romeo Must Die\",\"The Omen\",\"Final Destination 3\",\"The Lucky One\",\"Bridge to Terabithia\",\"Finding Neverland\",\"A Madea Christmas\",\"The Grey\",\"Hide and Seek\",\"Anchorman: The Legend of Ron Burgundy\",\"GoodFellas\",\"Agent Cody Banks\",\"Nanny McPhee\",\"Scarface\",\"Nothing to Lose\",\"The Last Emperor\",\"Contraband\",\"Money Talks\",\"There Will Be Blood\",\"The Wild Thornberrys Movie\",\"Rugrats Go Wild\",\"Undercover Brother\",\"The Sisterhood of the Traveling Pants\",\"Kiss of the Dragon\",\"The House Bunny\",\"Beauty Shop\",\"Million Dollar Arm\",\"The Giver\",\"What a Girl Wants\",\"Jeepers Creepers 2\",\"Good Luck Chuck\",\"Cradle 2 the Grave\",\"The Hours\",\"She's the Man\",\"Mr. Bean's Holiday\",\"Anacondas: The Hunt for the Blood Orchid\",\"Blood Ties\",\"August Rush\",\"Elizabeth\",\"Bride of Chucky\",\"Tora! Tora! Tora!\",\"Spice World\",\"The Sitter\",\"Dance Flick\",\"The Shawshank Redemption\",\"Crocodile Dundee in Los Angeles\",\"Kingpin\",\"The Gambler\",\"August: Osage County\",\"Ice Princess\",\"A Lot Like Love\",\"Eddie the Eagle\",\"He Got Game\",\"Don Juan DeMarco\",\"Dear John\",\"The Losers\",\"Don't Be Afraid of the Dark\",\"War\",\"Punch-Drunk Love\",\"EuroTrip\",\"Half Past Dead\",\"Unaccompanied Minors\",\"Bright Lights, Big City\",\"The Adventures of Pinocchio\",\"The Greatest Game Ever Played\",\"The Box\",\"The Ruins\",\"The Next Best Thing\",\"My Soul to Take\",\"The Girl Next Door\",\"Maximum Risk\",\"Stealing Harvard\",\"Legend\",\"Hot Rod\",\"Shark Night\",\"Angela's Ashes\",\"Draft Day\",\"Lifeforce\",\"The Conspirator\",\"Lords of Dogtown\",\"The 33\",\"Big Trouble in Little China\",\"Fly Me to the Moon\",\"Warrior\",\"Michael Collins\",\"Gettysburg\",\"Stop-Loss\",\"Abandon\",\"Brokedown Palace\",\"The Possession\",\"Mrs. Winterbourne\",\"Straw Dogs\",\"The Hoax\",\"Stone Cold\",\"The Road\",\"Sheena\",\"Underclassman\",\"Say It Isn't So\",\"The World's Fastest Indian\",\"Tank Girl\",\"King's Ransom\",\"Blindness\",\"BloodRayne\",\"Carnage\",\"Where the Truth Lies\",\"Cirque du Soleil: Worlds Away\",\"Without Limits\",\"Me and Orson Welles\",\"The Best Offer\",\"The Bad Lieutenant: Port of Call - New Orleans\",\"A Turtle's Tale: Sammy's Adventures\",\"Little White Lies\",\"Love Ranch\",\"The True Story of Puss 'n Boots\",\"Space Dogs\",\"The Counselor\",\"Ironclad\",\"Waterloo\",\"Kung Fu Jungle\",\"Red Sky\",\"Dangerous Liaisons\",\"On the Road\",\"Star Trek IV: The Voyage Home\",\"Rocky Balboa\",\"Scream 2\",\"Jane Got a Gun\",\"Think Like a Man Too\",\"The Whole Nine Yards\",\"Footloose\",\"Old School\",\"The Fisher King\",\"I Still Know What You Did Last Summer\",\"Return to Me\",\"Zack and Miri Make a Porno\",\"Nurse Betty\",\"The Men Who Stare at Goats\",\"Double Take\",\"Girl, Interrupted\",\"Win a Date with Tad Hamilton!\",\"Muppets from Space\",\"The Wiz\",\"Ready to Rumble\",\"Play It to the Bone\",\"I Don't Know How She Does It\",\"Piranha 3D\",\"Beyond the Sea\",\"Meet the Deedles\",\"The Thief and the Cobbler\",\"The Bridge of San Luis Rey\",\"Faster\",\"Howl's Moving Castle\",\"Zombieland\",\"The Waterboy\",\"The Empire Strikes Back\",\"Bad Boys\",\"The Naked Gun 2\\u00bd: The Smell of Fear\",\"Final Destination\",\"The Ides of March\",\"Pitch Black\",\"Someone Like You...\",\"Her\",\"Joy Ride\",\"The Adventurer: The Curse of the Midas Box\"],\"mode\":\"markers\",\"x\":[2009,2007,2015,2012,2012,2007,2010,2015,2009,2016,2006,2008,2006,2013,2013,2008,2012,2011,2012,2014,2012,2010,2013,2007,2005,1997,2016,2012,2015,2012,2004,2013,2010,2006,2013,2009,2014,2013,2014,2010,2011,2011,2010,2009,2015,2013,2014,2013,2013,2013,2010,2013,2011,2008,2015,2012,2016,2008,2007,2009,2009,2015,2016,2005,2016,2008,2009,2009,2008,2011,1999,2008,2016,2007,2014,1995,2009,2015,2016,2010,2012,2014,2014,2015,2013,2014,2010,2015,2014,2012,2004,2016,2010,2003,2014,2014,2010,2016,2012,2001,2008,2011,2015,2010,2006,2016,2007,2016,2015,2010,2001,2007,2004,2007,2005,2008,2007,2005,2007,2005,2008,2009,2009,2003,2013,2003,2013,2015,2009,2011,2008,2009,2012,2012,2015,2010,2007,2011,2010,2006,2013,2011,2006,2015,2014,2004,2012,2002,2016,1998,2002,2007,2016,2011,2012,2005,2003,2014,2009,2002,2014,2016,2005,2009,1998,2003,2013,2005,2001,2011,1999,2003,2012,2011,2008,2016,2015,2013,2011,2014,2007,2008,2015,2013,2015,2005,2003,2011,2010,2014,2011,2004,2008,2013,2000,2014,2010,2001,2013,2003,2014,2006,2014,2003,2011,2011,2010,1990,1999,2012,1997,2000,2004,2000,2000,2007,2012,2007,2016,2003,2012,2002,2013,2004,2014,2008,2010,2010,2013,2005,2002,2001,2013,1999,2013,2008,2002,2016,2014,2013,1997,2016,2015,2006,2015,1997,2000,2004,2005,2015,2004,2010,2011,2014,2011,2004,2016,2011,2013,1997,2013,2007,2001,2004,2001,2003,2004,2005,1999,2009,2015,2005,2001,2000,2000,2002,2002,2006,2001,1991,2009,2007,1994,2009,2010,2010,1996,2012,1996,2000,2012,2004,2006,2009,2013,2010,1999,2006,2013,1995,1997,2012,2010,2004,2014,2002,2009,2014,2015,2005,2015,2002,2010,2015,1997,2001,2002,2011,2007,2004,2001,2012,1997,2010,2000,2012,2015,2009,2003,2003,2002,2014,2001,2014,2001,2011,2008,2013,2004,2004,1995,2010,1997,1999,2010,2001,2000,2009,2009,2013,2000,2006,1998,2008,2011,1995,2009,2016,2001,2015,2008,2008,2015,2001,2003,1997,2000,2005,2013,2003,2016,1997,2001,2000,2011,1999,1997,1997,2002,1982,2005,2010,2003,1996,2000,2006,2004,1997,2001,2011,2012,2007,2012,2000,2011,2006,1998,2009,2007,2006,2014,2001,2003,1993,2005,2006,2011,1998,2002,1979,2012,2010,2003,2000,2002,2012,2006,1982,2010,2008,2008,2007,2000,2003,2010,1996,2012,2011,1992,2006,2002,2006,1998,2013,2005,2011,2013,2008,2003,2010,2008,2005,1997,2008,2002,2011,1997,2008,2003,2010,1997,1999,1996,2006,2008,1997,2014,1998,2010,2002,2011,1998,2004,1998,2015,1999,2002,1998,2001,2005,1998,2000,2005,1996,2015,1997,2009,2000,1996,2013,2000,2003,2009,2003,1997,1998,2015,2000,2006,2009,2005,2014,2015,2001,1994,2012,2013,2002,2004,2011,2003,2015,2007,2000,2016,2003,2013,1996,1997,2005,2006,2000,2008,1996,2006,2004,2007,2004,1999,2013,2010,2004,2009,2000,2007,2004,2006,2005,2005,2003,2010,2015,2004,2006,2001,1995,1999,2011,2005,2000,2003,1998,2009,2001,2004,2000,2015,2011,1998,1998,2016,2008,2009,2007,2006,2001,1995,2005,2007,2001,2001,2004,2004,1998,2002,2004,2006,1999,2002,2015,1996,2009,1991,1990,2003,2001,2006,2004,2009,2002,2013,1998,2011,2003,1994,2011,2014,1989,2010,2014,1998,2007,1997,2011,2002,2005,2002,2012,2012,2002,2011,2002,2002,1998,2001,2013,2015,2004,2006,2013,2014,2002,2010,2001,2010,1995,2015,2009,1999,2011,1999,2016,2008,2010,2012,1999,1998,2007,1998,2014,2000,2002,2003,2012,1999,1995,2002,2012,1998,2008,1998,2010,2014,2000,1993,1996,2000,2006,2003,2012,1999,2014,2015,2012,2004,1984,1998,2012,2008,1996,2000,2005,1999,2006,1991,2000,2014,2005,2005,2014,1999,2015,2006,2002,2009,1993,1994,1994,2015,2006,2000,1995,2008,2001,2015,2007,2011,2006,2004,2008,1999,2007,2005,2014,2002,1995,1999,1998,1998,2003,2013,2001,2003,2002,1998,2009,1990,2005,2015,2010,2000,2010,1999,1998,2004,2002,2004,2012,1999,2009,2011,2003,2009,2008,2004,2006,2004,1996,2004,1998,2012,1997,2003,1996,2008,2002,1995,2014,2015,2016,1997,2007,2014,1998,2014,2005,2002,2013,2009,2009,2009,2009,1999,2006,2009,2002,2003,2012,2010,1997,2002,2008,1998,2009,2000,2000,2006,2005,2011,2003,1997,2002,2006,2006,2001,2000,2014,2013,2008,2005,1999,2008,2008,2015,2007,2003,2016,2005,2016,1998,2014,2015,2005,2000,1988,2008,2015,2009,2013,2010,2012,1997,2012,1996,2004,2011,2001,2005,2004,1994,2007,2000,1995,1978,1996,2005,1997,2003,2013,2010,1995,2014,2002,1995,2006,2005,1994,1998,2003,1999,2004,1989,1992,2000,1996,2011,2008,2013,1992,1996,1998,1996,2014,2012,2003,1999,2003,2008,2012,2008,1996,1996,2004,2007,2005,2003,1997,2009,2014,2004,2010,2004,1962,2002,2002,2008,2013,1990,2005,2006,1980,2003,2006,2000,1997,2001,2001,2015,2006,2009,2007,1998,2007,2002,2012,2006,2008,2010,2005,1998,2011,1999,1995,2010,2003,2000,2006,2006,2009,2001,2011,1991,1996,2012,1997,1998,2013,2002,2011,2000,2003,2014,1994,2008,2016,1998,2015,2014,2006,1999,1995,2011,2009,2006,2005,2011,2004,2004,2011,1995,2014,2009,2006,2003,2006,2005,2001,2013,2002,2011,2005,2016,2014,2006,1997,1997,1997,2006,2000,2012,1998,2014,1994,1990,2014,1997,2004,2004,2003,1994,2005,2000,2004,2009,1999,1996,2010,2010,2002,1995,2007,1999,2013,2003,2002,2009,1996,1999,2004,2016,2003,2005,2015,2007,2005,1999,2011,2011,1997,1994,1995,2010,2005,1995,2009,2013,2002,2016,2004,2000,2011,2009,2001,1990,2009,2000,1989,2012,2015,1999,2002,2006,1999,2015,2001,2001,2001,2000,1984,2007,2014,1998,1996,1998,1990,1999,2001,1982,1972,2006,1996,1997,2001,2002,1996,2010,1996,1997,2016,1981,1994,2012,2003,2000,2008,2004,1993,1994,2007,1992,2005,2013,2001,1999,2001,2011,1998,2005,2002,1997,2000,2003,1998,2001,1994,1996,1968,2005,2005,2004,2007,2014,2006,1994,1995,2012,2004,2003,2006,1984,2007,2008,2006,2008,1996,1996,2009,2001,2005,1996,2000,1995,2010,1998,2008,2006,2008,2002,2007,1997,2011,2012,2012,1993,2010,1996,1985,1996,1940,1980,2006,2015,2000,2000,2005,2002,1993,2010,2011,2012,1999,2000,2004,1992,2013,1963,2012,2002,1996,2002,2009,1989,2011,2001,1993,2005,2002,2012,2014,2010,2009,2002,2015,2001,2003,1999,2012,2011,1984,2013,2009,1999,1989,2014,2015,2003,1996,2003,2013,1992,2016,2010,2009,2006,2000,1990,2015,1992,2009,2013,1999,2014,2006,2015,2016,1992,2004,2005,2008,2009,2001,1991,2006,2001,2009,2014,2009,2015,2001,2010,2004,1998,1997,2002,2011,2011,2006,2014,2013,2006,1987,2010,1986,2004,2006,2005,2012,2008,2014,1997,2003,1997,1992,2007,1994,2000,2007,2011,2012,2011,1999,1991,2014,2000,2011,1999,2000,2005,2008,2014,1994,2011,2010,2005,2000,2005,2000,1999,1996,2001,2008,2001,2007,1973,1994,2011,1998,2002,1999,2004,1996,1995,2006,1995,2000,2012,1987,2009,2002,1992,2001,2004,2004,2012,1999,2002,2009,2003,2008,1980,1999,2009,2001,2002,2001,2007,2012,2008,2015,2006,2007,1995,2007,1994,2007,2005,2013,2011,2004,1994,2015,2009,2007,2012,2005,2004,1983,2013,2008,2002,2009,1996,2002,1994,2013,2011,2014,1999,2002,2001,2015,2001,2001,1999,1996,2001,2009,1996,1982,2013,1997,2001,2008,2012,2007,2008,2016,2015,2010,2012,2008,2008,2013,1999,2010,2016,2011,2008,2002,1999,2013,2008,1997,1983,2010,2014,2000,2003,2015,1996,1999,2011,1997,2000,2008,2003,2009,2015,1999,1989,2011,1992,2009,2001,2011,2010,2006,1979,2013,1991,2008,2015,2005,1996,1997,2005,1997,1995,1984,2000,1998,2010,2007,2003,2011,2016,2013,1992,2012,2009,2009,2007,2006,2005,1997,2002,1982,2004,2008,2011,2010,2011,2001,1976,1994,2002,2006,2005,2004,2011,2008,2002,1990,2008,1999,1980,2004,2012,1997,2015,2010,1992,2008,2004,2015,2011,2005,2000,2008,2013,2005,2012,2015,2002,2013,2004,2010,2012,1983,2007,1991,2007,2001,2001,2009,2009,2011,1998,2014,2003,2008,2006,2015,1997,2006,1992,1993,1997,2002,1981,1995,1999,2010,2006,2009,2014,2015,1993,2006,1999,2012,2008,2015,1999,2000,2012,2013,1981,1992,2001,2000,2013,2011,2012,2006,2000,2004,2005,2012,1999,1983,2008,2008,2012,2003,1996,2002,1988,2006,2011,2013,1999,2000,2010,2013,2011,2011,1993,2007,2013,1979,2005,2005,2005,1995,2004,1999,2010,2007,1996,2013,1997,1999,2006,2004,1979,2010,1995,2016,1985,2012,1979,2014,2001,1990,2000,2015,1995,2002,1999,2001,1995,1994,2012,2010,2000,1990,2013,2004,1991,1995,2001,1996,1995,2009,2004,2003,2004,1999,2004,2008,2009,2000,1991,1994,2009,2002,2013,2012,2001,1995,2012,2008,2005,2008,1998,2009,2004,2004,2011,2014,2001,1999,1989,2002,1994,1985,2005,2007,2005,2007,2010,1989,2012,2005,2006,2015,2015,2009,2015,2003,2010,2002,2006,2007,2012,2008,1988,1987,1986,2011,1997,2011,2013,2006,2006,2001,2009,2013,2004,2011,2003,1998,2014,1998,1995,2006,2014,2011,2004,2012,2004,2010,2006,2005,1998,1996,2002,2010,2007,2005,2004,2009,1986,2008,2005,2003,2004,2011,2005,1999,1999,2009,2013,2004,2004,2011,2005,2009,2010,2013,2001,1989,1984,2013,2004,2003,2005,2006,2005,2006,2007,2011,2009,2015,2011,2010,2007,2014,2014,2015,2002,2016,2015,2005,2000,1997,2008,2002,2002,2016,1987,1999,2004,2005,1992,2015,1984,1998,2001,2016,2003,1988,2008,2015,2009,2004,2004,2001,2013,2001,2003,2013,1981,2001,1994,2001,2013,1993,2007,2010,2011,2000,2014,2005,1982,1995,2014,2007,2000,2001,2006,1999,2010,1997,2001,2015,2016,1997,2008,2013,2006,2014,1983,2007,2009,2008,1984,2006,2007,1991,2002,1997,1980,2008,2012,2002,1999,2006,1983,2011,1984,1998,2008,1985,1998,2009,2004,2007,2011,2016,2001,1999,2004,2008,2003,2006,2009,2003,2005,1998,2014,1990,2008,1998,2003,1990,1977,2005,2003,2000,2010,2013,2004,2002,1985,2009,2004,2011,2001,2012,2004,1994,1996,1997,2001,2015,1996,2015,2005,2004,1993,1988,2008,2008,2008,2014,1992,1993,2011,2013,2004,2014,2003,2014,2001,2008,1991,1987,2007,2014,2001,2000,2003,2012,2011,1993,2000,1976,2006,2012,2007,2004,2013,2012,2005,2004,1990,2003,2005,1983,1997,1987,2012,1997,2007,2002,2003,2002,2005,2001,2008,2005,2014,2014,2003,2003,2007,2003,2002,2006,2007,2004,2013,2007,1998,1998,1970,1997,2011,2009,1994,2001,1996,2014,2013,2005,2005,2016,1998,1994,2010,2010,2010,2007,2002,2004,2002,2006,1988,1996,2005,2009,2008,2000,2010,2004,1996,2002,2015,2007,2011,1999,2014,1985,2010,2005,2015,1986,2012,2011,1996,1993,2008,2002,1999,2012,1996,2011,2006,1991,2009,1984,2005,2001,2005,1995,2005,2008,2005,2011,2005,2012,1998,2009,2013,2009,2010,2010,2010,2009,2010,2013,2011,1970,2014,2014,1988,2012,1986,2006,1997,2016,2014,2000,1984,2003,1991,1998,2000,2008,2000,2009,2001,1999,2004,1999,1978,2000,1999,2011,2010,2004,1998,1993,2004,2010,2004,2009,1998,1980,1995,1991,2000,2011,2000,2001,2013,2001,2013],\"y\":[2787965087,961000000,880674609,1084939099,284139100,890871626,591794936,1405403694,933959197,873260194,391081192,586090727,1065659812,89289910,662845518,419651413,1519557910,1045713802,624026776,956019788,752215857,310669540,958400000,372234864,550000000,1845034188,1153304495,303025485,1513528810,1108561013,783766341,1215439994,1025491110,459359555,743559607,836297228,1091405097,491868548,705717432,400062763,559852396,219851172,1066969703,371353001,1506249360,531865000,747862775,467365246,197687603,351040419,335154643,407602906,1123746996,786636033,331926147,538983207,343471816,521311860,258022233,769653595,325233863,183987723,356743061,748806957,543934787,1004558444,735099082,381509870,585174222,185770160,222104681,401128639,745000000,173000000,370541256,264218220,302469017,857611174,966550600,623933331,396600000,758539785,710644566,0,150962475,714766572,752600867,209154322,652105443,471222889,305875730,389681935,494878759,435000000,773328629,675120017,825532764,77000000,1021103568,207283925,333932083,353624124,653428261,215283742,181674817,299370084,798958165,433677183,440603537,415686217,449220945,709709780,167298192,938212738,895921036,624029371,585349010,474968763,623722818,374218673,603900354,413106170,373062864,424988211,1274219009,738599701,644571402,378858340,356613439,449326618,309979994,292817841,301000000,245527149,682330139,0,287594577,665692281,318502923,397850012,205366737,38992758,64459316,128388320,272912430,497409852,746921274,431971116,229147509,553799566,441818803,195735876,521170825,694713380,306941670,202026112,456758981,268031828,385680446,821708551,609123048,150680864,76932943,185258983,285444603,245360480,371876278,119269486,85131830,370569774,361832400,212011111,829000000,150406466,163712074,183345589,532950503,282570682,245724603,373552094,442824138,631744560,519311965,847423452,368871007,591739379,273339556,554987477,293329073,362637473,371940071,789804554,49554002,243843127,354248063,349424282,321887208,976475550,61648500,655011224,752100229,767820459,500188435,407711549,626137675,334615000,232713139,261317921,61698899,276572938,238207122,345141403,544272402,546388105,325756637,289047763,609016565,228738393,415484914,259175788,403170142,169956806,286140700,115772733,242688965,93945766,48668907,261930431,286168572,850000000,649398328,562816256,415440673,924317558,585178928,132900000,77628265,164602163,477200000,716392705,178127760,245623848,167977596,574480841,470490832,333011068,215294342,362744280,478207520,295238201,102000000,237382724,227817248,337580051,563749323,103951461,179246868,299268508,347434178,164508066,125537191,383531464,871368364,72178895,87713825,0,347234916,211643158,300135367,267045765,630161890,162949164,10372291,237202299,457640427,358372926,876688482,599045960,362211740,520000000,214104620,266465037,378882411,150166126,310650585,170432927,242295562,425368238,100138851,169327687,312573423,347451894,249288105,100086793,268426634,278731369,211989043,170877916,392000694,336529144,121214377,130482868,140073390,82102379,243400000,109578115,68688831,206172544,133718711,0,93820758,7103973,94882889,246233113,13835130,433013274,193772504,95311434,149044513,102000000,172989651,104907746,263920180,288347692,76432727,877244782,543514353,93525586,940335536,1118888979,926287400,114178613,274703340,103039258,368780809,482860185,162839667,304654182,25819961,631442092,10017322,226497209,589390539,497366869,167805466,347325802,155464351,242988466,886686817,188133322,264105545,289847354,304320254,188072649,232617430,366101666,524028679,94061311,186053725,233755553,200276000,201596308,243637091,235926552,182290266,171120329,190213455,162944923,174578751,156505388,334901337,118063304,143049560,60874615,484635760,93700000,0,140807547,35168966,79114085,108539911,16178959,148336445,494471524,429632142,384335608,288500217,315156409,450717150,132274484,358375603,340487652,208076205,183611771,152930623,194168700,250649836,219103655,311312624,197309027,288747895,96976270,80916492,137298489,162242962,158468292,0,142940100,78382433,37823676,183018522,47664559,74208267,123307945,275650703,41037742,237681299,21028755,112483764,222231186,160388063,84785914,96085477,484572835,274470394,457696359,691210692,254455986,280000000,343397247,145771527,144000000,140464664,0,190320568,342695435,246984278,230685453,266728738,294804195,163733697,260696994,245676146,212874442,181001478,214918407,224012234,178066569,173013509,157107755,177977226,91188905,250200000,0,233093859,136982834,211817906,164000000,201584141,122563539,169852759,136159423,96105964,0,473226958,90874570,123729176,0,147080413,142400065,71485043,0,105316267,101371017,0,43312294,122444772,34566746,159212469,126546518,21400000,68514844,53825515,19480739,17626234,69131860,146936910,33463969,107944236,19406406,5989640,117831631,0,313542341,788241776,355692760,248384621,209196298,108103450,149673788,236350661,97571250,15071514,35134820,875958308,179265204,970761885,816969268,229074524,532680671,69959751,296339527,258270008,335062621,660940780,196482882,90450008,78000586,0,117698894,271430189,219417255,73034460,215663859,119000410,367275019,154937680,95226116,130358911,85632458,98159963,108145109,55041367,140175006,67631903,127600435,0,226904017,77944725,36754634,51142659,14567883,5802422,5409517,21009180,248118121,1156730962,89792502,103891409,13100000,349779543,111231041,61458982,86658558,162966177,176104344,210000000,96889998,527068851,37317558,54744738,62172050,256697520,294456605,408247917,919838758,461983149,309457509,277448382,311594032,309492681,319131050,300854823,240031094,116643346,203388341,42285169,171183863,443140005,114660784,161025640,118000000,202466756,122919055,0,177584879,154984035,90000098,134748021,215529201,116672912,135560026,131457682,67112664,65977295,55987321,33561137,160112671,59418613,32287044,57777106,0,19924033,19870567,13596911,18662027,17752940,57958696,38629478,122915111,61279452,193000000,698491347,71069884,543513985,35431113,217022588,39041505,29762011,83160734,60289912,52099090,113280098,86387857,112265139,212404396,189198313,25303038,481840909,203277636,374111707,383257136,75715436,275293450,463517383,355237933,172855065,441809770,250821495,128107642,250288523,211780824,163442937,128884132,255000211,150270147,69700000,162945894,0,179379533,162091208,133821816,153962963,156974557,128905366,38376497,0,240159255,73762516,89456761,0,64321501,100853753,43545364,17218080,0,71154592,42093706,56681566,39407616,74608570,203427584,132180323,296655431,44091067,920100000,25052000,215887717,121545703,101595121,127666415,107879496,41819064,18720175,155760117,0,183953723,422610419,516642939,244082376,284600000,253625427,314432665,369330363,214034224,352194034,149705852,264118201,218613188,164433867,131940411,93375151,176070171,93354918,171757863,171844840,157920733,129181830,311256926,204594016,0,71664962,100230832,186883563,217764291,165333180,74541707,218340595,73648228,0,137551594,0,124596398,163403799,130293714,61112916,170268750,129832389,99318987,56702901,107139399,159330280,96269812,0,50877145,0,104324083,50549107,101134059,205754447,162000000,95696996,108255770,46683377,469160692,0,43061982,105200903,62357900,122233971,87784194,60000000,36850101,77920346,104945765,67312826,119940815,0,74901339,33956608,55003135,73174566,0,31720158,39459427,47383689,141702264,71073932,78309131,26288320,26673242,52322400,49111202,17800000,27642707,14828081,30800231,90565421,50650079,25473093,0,57490374,39031337,30418560,0,0,193677158,10166502,783112979,0,542307423,158162788,102854431,59468275,189015611,41299492,0,85280250,44000000,300228084,50365377,152944660,58058367,115267375,61347797,149217355,62112895,113006880,57223890,677945399,361366633,330444045,346079773,300218018,128769345,368100420,0,231449203,95000000,152263880,287928194,192330738,154906693,157387195,307077295,223387299,214015089,198685114,180949000,0,152159461,63408614,149022650,56932305,121969216,187361754,127906624,110000000,159773545,141047179,41610884,75000000,259207227,68267862,34234008,0,33828318,33472850,118338361,113020255,60209334,18626419,154648887,74237563,52304001,12923936,11466088,0,80383290,28283637,89519773,0,9250000,6416302,155010032,168167691,9489829,136766062,52034889,130431368,190458706,7266209,9450897,107196498,139804348,179213434,54249294,98837872,65900249,126690726,25037897,0,5761917,352114312,132820716,204999686,609841637,216485654,110803676,98126565,75450437,47434430,116112375,52826594,0,149270999,72779000,47231070,709827462,484409218,127869379,390493908,273552592,549368315,314178011,202292902,173649015,171269535,260095987,256271286,177371441,188441614,223664608,225990978,216972543,0,242786137,212902372,184376254,161626121,152022101,120081841,155446362,88715192,161451538,142851197,200804534,0,110206216,189859560,222809600,106303988,132511035,88323487,69834815,66002004,100020092,224803475,119137784,144492830,94000000,69411370,97437106,82800000,50068310,48169156,109423648,97607453,0,234989584,44547681,160602194,119208989,41482207,83719388,0,129394835,40203020,55495563,49000000,69425966,144056873,49718611,60462347,0,113309743,83761844,105197635,56714147,30303072,82169884,58900031,63327201,42792561,26199517,60161391,42277365,23159305,34808403,25035950,38955598,0,71561644,55112356,44434439,66976317,26121638,38502340,10541523,16671505,10382407,24188922,22944502,9851610,40828540,60052138,0,55969000,6808550,0,28931401,12764201,72700000,20423389,36348784,207515725,474171806,68929150,104399548,151493655,196397415,0,108000000,3324330,85498534,50315140,0,90383208,25928721,70016220,325771424,77745568,102825796,528972,103738726,124305181,35743308,125212904,0,38085778,12379402,299288605,0,113714830,150000000,10539000,100860818,181000000,15436808,5200000,341631208,376141306,220673217,212000000,101702060,95149435,195268056,117615211,175372502,178051587,154749918,122126687,104876233,90683916,141220678,165184237,131183530,76669806,94935764,136885767,113916474,244931766,363258859,74558115,170362582,53854588,0,56070433,104478416,0,148412065,123494610,38399961,0,0,82966152,56422687,160583018,55181129,30925690,0,75225693,65664721,72108608,0,0,57881056,29400000,38058335,17300889,0,13681765,60222298,11203026,9323833,0,42487390,8493890,4607608,2154540,160078586,73706,232324128,368875760,136000000,165615285,300400432,0,84300000,3484331,111340801,34227298,80049764,0,50871113,68696770,270248367,48190704,51070807,201585328,363889678,224834564,171963386,70100000,158674180,71000000,73100172,63781810,0,55157539,0,156167015,89162162,56359980,20915465,24127895,177394432,36893721,12342632,11087569,14000000,215000000,0,117487473,0,672806292,46221189,7448385,90815558,251171807,317375031,177841558,332000000,126546825,571006128,197011982,152266007,190212113,149295601,107458785,320170008,224920315,177259441,178262620,161834276,244527583,111811453,215862692,129540499,95020213,128798265,169837010,120455994,194564672,124827316,75505856,124731534,158733820,151161491,91636986,141069860,205405498,138259062,147845033,136267476,196781193,186167139,165478348,91753202,90029656,170128460,54682547,87840042,75395048,85412898,130786397,109676311,107670357,74597643,120175290,191185897,126248813,0,92913171,114830111,91974818,51854875,84601681,67347013,45916769,141591324,74000000,0,41797066,0,0,145896422,97552050,41863726,97138686,96618699,34416893,126069509,36037909,157887643,0,55707411,50451307,0,0,48063435,55247881,58785180,46442528,30199105,31670620,0,29000000,49627779,27053815,0,65754228,62771059,3000000,24332324,60965854,38172500,22433915,0,46546197,0,20350754,60474340,0,19412993,180274123,14375181,46471023,16872671,14358033,173921954,0,13395939,24719215,28121100,18902015,28169671,19322135,0,0,10667893,20645327,0,10959475,0,32017803,22044277,0,13644292,23937870,117760134,7563728,0,0,0,0,86758912,0,0,94000000,100000000,101229792,69485490,35287788,38869464,6614280,75850624,44907260,127814609,180622424,205298907,0,119723358,120000000,64076736,114156230,0,73956241,51801187,0,107597242,29700000,0,58401898,17380126,16991902,47536959,10300000,19629760,98337295,6482195,0,17869048,28258060,5410749,9793496,109906372,173567581,154026136,79700000,163720069,100076342,90247624,48451803,55583804,112343513,95404397,392616625,102244770,117758500,269994119,21834845,50159144,160000000,64572262,52424533,32168970,44350926,26250020,0,0,96047633,12532777,3003296,63800345,0,459270619,156844753,310940086,411348924,0,321731527,309208309,147934180,117000000,252276927,326551094,139000000,173965010,182300000,69823199,140795793,68915888,231976425,126216940,86369815,0,113374103,25504513,104155843,0,60251371,95608995,52277485,150483765,108758521,112544580,48169908,88058786,92219310,91353501,69307224,0,58405313,41954997,102984862,122200000,0,85416905,173930596,77477008,59901913,0,35323292,99423521,120072577,0,68766121,115505027,84606030,72436439,45479110,57120318,32483410,40263020,27107960,36098382,30353232,25105255,4100000,93246388,0,68369434,27388767,50363790,82087155,19478106,0,25871834,19701164,19294901,31083599,51680201,29882645,46216641,41512007,39340177,0,16519460,63215872,0,18317151,0,13678913,27409889,12206028,54674226,0,17508518,11560806,10089373,12506188,61181942,0,42064105,4651977,0,0,16838910,0,15000000,635096,25147786,10496317,0,348319861,14431253,32255440,15304890,11263966,2106557,187479518,63013281,19598588,0,0,27330000,40382659,243240178,79958599,173959438,0,64626786,140470746,62022014,0,54700105,27610873,40346186,0,572700000,22211426,113019290,24159934,173398518,152036382,0,60328000,80197993,288383523,126041322,50041732,48814909,69055695,21819348,83615414,147332697,36733909,77566815,9494789,31755742,0,60740827,85167639,18552460,30016165,0,18409891,53587404,0,27437881,3566637,0,5914908,0,89460381,42045846,106269971,14708696,128499205,161772375,210308099,174600318,24185781,53208180,68106245,104384188,115101622,306776732,234801895,287553595,373554033,350448145,196114570,15134293,136706683,199200000,115922175,167722310,191502426,212385533,165335153,116400000,327311859,210819611,140161792,156822020,216763646,176885658,115603229,160259319,155545279,103,74787599,160638883,163670000,105834556,116980662,47042000,0,254134910,114281051,105173115,92374674,63833449,0,114663461,69631118,96455697,151119219,0,83282296,118880016,70200000,0,51132598,152427960,192452832,156835339,93772522,129266061,0,45892212,54819301,117195061,42647449,84025816,91709827,90810892,65663276,0,159291809,51842679,53653224,75505973,66486080,84646831,38413606,38122105,38748395,63782078,51376861,36160375,82394288,34742066,41480851,0,48428063,63372757,0,14460000,39267515,29202884,31911598,0,24048000,60896147,0,108609310,22034832,53909751,21800302,51148651,31070211,35294470,19204929,17193231,0,102820008,16930884,25224242,26155781,0,37962774,31148328,15007991,15368897,13001257,24922237,30536013,0,0,0,0,30114487,12,13521829,18618284,64352607,8454301,62616646,18195610,26828365,0,18074539,0,0,3102550,35078241,0,480314,14711793,108348,0,0,2527904,0,0,0,0,0,0,140752617,287506194,186438883,37036004,0,0,33013805,16930185,78636257,0,0,24829644,21126225,504050219,201634991,333000000,100491683,105178561,48902953,98185582,140767956,92380927,133346506,0,64445708,102356381,94728529,17137302,71441250,90259536,134402450,195312802,77516304,101646581,60780981,97594140,39514713,92601050,96188903,40547440,33000337,100654149,121147947,33139618,31596911,52597999,54926886,0,20217080,38159905,8888143,45236543,8345056,14010832,7002261,16374328,5684789,17286299,60700000,23321954,68896829,187500000,219076518,95714875,43650785,27187653,49469904,24748670,96900000,0,60527873,115229890,44352417,0,129000000,56870414,56308881,21500000,15395087,20158808,27200316,0,11137801,76000000,29000000,13000000,0,85564310,93282604,14,4488529,21148829,6673422,0,0,183293131,110230332,109449237,289317794,53181600,201957688,101624843,65705772,68296293,61489265,50750000,57891803,90426405,71868327,67918658,86175291,0,38793283,0,43318349,28818995,142044638,35402320,29657751,14000000,36800000,0,0,0,0,20080020,30523226,82466670,611899420,441286195,412800000,269958228,29506464,226830568,35926213,411006740,321365567,124272124,8555008,181466833,0,114908830,0,80936232,170764026,78000000,76270454,171600000,153997819,281929795,152500343,124914842,119772232,147780440,56505065,91036760,60922980,117719158,99357138,137587063,116766556,0,77278331,122644820,90574188,46836394,58795814,122489822,65884703,0,43984230,63100000,0,77208711,0,0,41604473,39053061,64437847,70442940,36351350,38307627,66980456,0,63102666,59192128,56489558,41597830,33889159,229736344,70992898,2415472,66122026,82150642,50671850,29548291,100000000,34942188,0,28341469,39438674,25023434,39171130,74188937,27645491,42886719,46152800,21567853,22200000,114977104,23580000,36993168,40452643,17000000,20796847,0,0,0,0,15431177,33333531,0,24362772,19829957,30411183,51702483,0,42972994,14334401,10126458,13,28831145,0,15478800,13411957,24902723,11000000,0,23057115,16900000,25000000,11207130,10719357,13000000,85446075,10070000,10324441,11772461,0,27635305,5778353,0,0,0,4064495,0,19844979,2405420,27603069,0,34153101,777423,2336172,19255873,10589102,0,48531470,0,0,6500000,71009334,0,3052000,0,0,34670720,8784318,133000000,155721132,172363301,1397284,70181428,106371651,80035402,87055349,41895491,40002112,36609995,42105111,0,68729358,0,0,16980098,16290976,21049053,12372410,8434146,30551495,83188165,0,4562146,669276,0,23081726,234710455,102391382,185991646,538400000,141407024,86930411,53302314,75993061,53187659,0,47351251,36642838,6399],\"type\":\"scatter\"}],                        {\"template\":{\"data\":{\"histogram2dcontour\":[{\"type\":\"histogram2dcontour\",\"colorbar\":{\"outlinewidth\":0,\"ticks\":\"\"},\"colorscale\":[[0.0,\"#0d0887\"],[0.1111111111111111,\"#46039f\"],[0.2222222222222222,\"#7201a8\"],[0.3333333333333333,\"#9c179e\"],[0.4444444444444444,\"#bd3786\"],[0.5555555555555556,\"#d8576b\"],[0.6666666666666666,\"#ed7953\"],[0.7777777777777778,\"#fb9f3a\"],[0.8888888888888888,\"#fdca26\"],[1.0,\"#f0f921\"]]}],\"choropleth\":[{\"type\":\"choropleth\",\"colorbar\":{\"outlinewidth\":0,\"ticks\":\"\"}}],\"histogram2d\":[{\"type\":\"histogram2d\",\"colorbar\":{\"outlinewidth\":0,\"ticks\":\"\"},\"colorscale\":[[0.0,\"#0d0887\"],[0.1111111111111111,\"#46039f\"],[0.2222222222222222,\"#7201a8\"],[0.3333333333333333,\"#9c179e\"],[0.4444444444444444,\"#bd3786\"],[0.5555555555555556,\"#d8576b\"],[0.6666666666666666,\"#ed7953\"],[0.7777777777777778,\"#fb9f3a\"],[0.8888888888888888,\"#fdca26\"],[1.0,\"#f0f921\"]]}],\"heatmap\":[{\"type\":\"heatmap\",\"colorbar\":{\"outlinewidth\":0,\"ticks\":\"\"},\"colorscale\":[[0.0,\"#0d0887\"],[0.1111111111111111,\"#46039f\"],[0.2222222222222222,\"#7201a8\"],[0.3333333333333333,\"#9c179e\"],[0.4444444444444444,\"#bd3786\"],[0.5555555555555556,\"#d8576b\"],[0.6666666666666666,\"#ed7953\"],[0.7777777777777778,\"#fb9f3a\"],[0.8888888888888888,\"#fdca26\"],[1.0,\"#f0f921\"]]}],\"heatmapgl\":[{\"type\":\"heatmapgl\",\"colorbar\":{\"outlinewidth\":0,\"ticks\":\"\"},\"colorscale\":[[0.0,\"#0d0887\"],[0.1111111111111111,\"#46039f\"],[0.2222222222222222,\"#7201a8\"],[0.3333333333333333,\"#9c179e\"],[0.4444444444444444,\"#bd3786\"],[0.5555555555555556,\"#d8576b\"],[0.6666666666666666,\"#ed7953\"],[0.7777777777777778,\"#fb9f3a\"],[0.8888888888888888,\"#fdca26\"],[1.0,\"#f0f921\"]]}],\"contourcarpet\":[{\"type\":\"contourcarpet\",\"colorbar\":{\"outlinewidth\":0,\"ticks\":\"\"}}],\"contour\":[{\"type\":\"contour\",\"colorbar\":{\"outlinewidth\":0,\"ticks\":\"\"},\"colorscale\":[[0.0,\"#0d0887\"],[0.1111111111111111,\"#46039f\"],[0.2222222222222222,\"#7201a8\"],[0.3333333333333333,\"#9c179e\"],[0.4444444444444444,\"#bd3786\"],[0.5555555555555556,\"#d8576b\"],[0.6666666666666666,\"#ed7953\"],[0.7777777777777778,\"#fb9f3a\"],[0.8888888888888888,\"#fdca26\"],[1.0,\"#f0f921\"]]}],\"surface\":[{\"type\":\"surface\",\"colorbar\":{\"outlinewidth\":0,\"ticks\":\"\"},\"colorscale\":[[0.0,\"#0d0887\"],[0.1111111111111111,\"#46039f\"],[0.2222222222222222,\"#7201a8\"],[0.3333333333333333,\"#9c179e\"],[0.4444444444444444,\"#bd3786\"],[0.5555555555555556,\"#d8576b\"],[0.6666666666666666,\"#ed7953\"],[0.7777777777777778,\"#fb9f3a\"],[0.8888888888888888,\"#fdca26\"],[1.0,\"#f0f921\"]]}],\"mesh3d\":[{\"type\":\"mesh3d\",\"colorbar\":{\"outlinewidth\":0,\"ticks\":\"\"}}],\"scatter\":[{\"fillpattern\":{\"fillmode\":\"overlay\",\"size\":10,\"solidity\":0.2},\"type\":\"scatter\"}],\"parcoords\":[{\"type\":\"parcoords\",\"line\":{\"colorbar\":{\"outlinewidth\":0,\"ticks\":\"\"}}}],\"scatterpolargl\":[{\"type\":\"scatterpolargl\",\"marker\":{\"colorbar\":{\"outlinewidth\":0,\"ticks\":\"\"}}}],\"bar\":[{\"error_x\":{\"color\":\"#2a3f5f\"},\"error_y\":{\"color\":\"#2a3f5f\"},\"marker\":{\"line\":{\"color\":\"#E5ECF6\",\"width\":0.5},\"pattern\":{\"fillmode\":\"overlay\",\"size\":10,\"solidity\":0.2}},\"type\":\"bar\"}],\"scattergeo\":[{\"type\":\"scattergeo\",\"marker\":{\"colorbar\":{\"outlinewidth\":0,\"ticks\":\"\"}}}],\"scatterpolar\":[{\"type\":\"scatterpolar\",\"marker\":{\"colorbar\":{\"outlinewidth\":0,\"ticks\":\"\"}}}],\"histogram\":[{\"marker\":{\"pattern\":{\"fillmode\":\"overlay\",\"size\":10,\"solidity\":0.2}},\"type\":\"histogram\"}],\"scattergl\":[{\"type\":\"scattergl\",\"marker\":{\"colorbar\":{\"outlinewidth\":0,\"ticks\":\"\"}}}],\"scatter3d\":[{\"type\":\"scatter3d\",\"line\":{\"colorbar\":{\"outlinewidth\":0,\"ticks\":\"\"}},\"marker\":{\"colorbar\":{\"outlinewidth\":0,\"ticks\":\"\"}}}],\"scattermapbox\":[{\"type\":\"scattermapbox\",\"marker\":{\"colorbar\":{\"outlinewidth\":0,\"ticks\":\"\"}}}],\"scatterternary\":[{\"type\":\"scatterternary\",\"marker\":{\"colorbar\":{\"outlinewidth\":0,\"ticks\":\"\"}}}],\"scattercarpet\":[{\"type\":\"scattercarpet\",\"marker\":{\"colorbar\":{\"outlinewidth\":0,\"ticks\":\"\"}}}],\"carpet\":[{\"aaxis\":{\"endlinecolor\":\"#2a3f5f\",\"gridcolor\":\"white\",\"linecolor\":\"white\",\"minorgridcolor\":\"white\",\"startlinecolor\":\"#2a3f5f\"},\"baxis\":{\"endlinecolor\":\"#2a3f5f\",\"gridcolor\":\"white\",\"linecolor\":\"white\",\"minorgridcolor\":\"white\",\"startlinecolor\":\"#2a3f5f\"},\"type\":\"carpet\"}],\"table\":[{\"cells\":{\"fill\":{\"color\":\"#EBF0F8\"},\"line\":{\"color\":\"white\"}},\"header\":{\"fill\":{\"color\":\"#C8D4E3\"},\"line\":{\"color\":\"white\"}},\"type\":\"table\"}],\"barpolar\":[{\"marker\":{\"line\":{\"color\":\"#E5ECF6\",\"width\":0.5},\"pattern\":{\"fillmode\":\"overlay\",\"size\":10,\"solidity\":0.2}},\"type\":\"barpolar\"}],\"pie\":[{\"automargin\":true,\"type\":\"pie\"}]},\"layout\":{\"autotypenumbers\":\"strict\",\"colorway\":[\"#636efa\",\"#EF553B\",\"#00cc96\",\"#ab63fa\",\"#FFA15A\",\"#19d3f3\",\"#FF6692\",\"#B6E880\",\"#FF97FF\",\"#FECB52\"],\"font\":{\"color\":\"#2a3f5f\"},\"hovermode\":\"closest\",\"hoverlabel\":{\"align\":\"left\"},\"paper_bgcolor\":\"white\",\"plot_bgcolor\":\"#E5ECF6\",\"polar\":{\"bgcolor\":\"#E5ECF6\",\"angularaxis\":{\"gridcolor\":\"white\",\"linecolor\":\"white\",\"ticks\":\"\"},\"radialaxis\":{\"gridcolor\":\"white\",\"linecolor\":\"white\",\"ticks\":\"\"}},\"ternary\":{\"bgcolor\":\"#E5ECF6\",\"aaxis\":{\"gridcolor\":\"white\",\"linecolor\":\"white\",\"ticks\":\"\"},\"baxis\":{\"gridcolor\":\"white\",\"linecolor\":\"white\",\"ticks\":\"\"},\"caxis\":{\"gridcolor\":\"white\",\"linecolor\":\"white\",\"ticks\":\"\"}},\"coloraxis\":{\"colorbar\":{\"outlinewidth\":0,\"ticks\":\"\"}},\"colorscale\":{\"sequential\":[[0.0,\"#0d0887\"],[0.1111111111111111,\"#46039f\"],[0.2222222222222222,\"#7201a8\"],[0.3333333333333333,\"#9c179e\"],[0.4444444444444444,\"#bd3786\"],[0.5555555555555556,\"#d8576b\"],[0.6666666666666666,\"#ed7953\"],[0.7777777777777778,\"#fb9f3a\"],[0.8888888888888888,\"#fdca26\"],[1.0,\"#f0f921\"]],\"sequentialminus\":[[0.0,\"#0d0887\"],[0.1111111111111111,\"#46039f\"],[0.2222222222222222,\"#7201a8\"],[0.3333333333333333,\"#9c179e\"],[0.4444444444444444,\"#bd3786\"],[0.5555555555555556,\"#d8576b\"],[0.6666666666666666,\"#ed7953\"],[0.7777777777777778,\"#fb9f3a\"],[0.8888888888888888,\"#fdca26\"],[1.0,\"#f0f921\"]],\"diverging\":[[0,\"#8e0152\"],[0.1,\"#c51b7d\"],[0.2,\"#de77ae\"],[0.3,\"#f1b6da\"],[0.4,\"#fde0ef\"],[0.5,\"#f7f7f7\"],[0.6,\"#e6f5d0\"],[0.7,\"#b8e186\"],[0.8,\"#7fbc41\"],[0.9,\"#4d9221\"],[1,\"#276419\"]]},\"xaxis\":{\"gridcolor\":\"white\",\"linecolor\":\"white\",\"ticks\":\"\",\"title\":{\"standoff\":15},\"zerolinecolor\":\"white\",\"automargin\":true,\"zerolinewidth\":2},\"yaxis\":{\"gridcolor\":\"white\",\"linecolor\":\"white\",\"ticks\":\"\",\"title\":{\"standoff\":15},\"zerolinecolor\":\"white\",\"automargin\":true,\"zerolinewidth\":2},\"scene\":{\"xaxis\":{\"backgroundcolor\":\"#E5ECF6\",\"gridcolor\":\"white\",\"linecolor\":\"white\",\"showbackground\":true,\"ticks\":\"\",\"zerolinecolor\":\"white\",\"gridwidth\":2},\"yaxis\":{\"backgroundcolor\":\"#E5ECF6\",\"gridcolor\":\"white\",\"linecolor\":\"white\",\"showbackground\":true,\"ticks\":\"\",\"zerolinecolor\":\"white\",\"gridwidth\":2},\"zaxis\":{\"backgroundcolor\":\"#E5ECF6\",\"gridcolor\":\"white\",\"linecolor\":\"white\",\"showbackground\":true,\"ticks\":\"\",\"zerolinecolor\":\"white\",\"gridwidth\":2}},\"shapedefaults\":{\"line\":{\"color\":\"#2a3f5f\"}},\"annotationdefaults\":{\"arrowcolor\":\"#2a3f5f\",\"arrowhead\":0,\"arrowwidth\":1},\"geo\":{\"bgcolor\":\"white\",\"landcolor\":\"#E5ECF6\",\"subunitcolor\":\"white\",\"showland\":true,\"showlakes\":true,\"lakecolor\":\"white\"},\"title\":{\"x\":0.05},\"mapbox\":{\"style\":\"light\"}}}},                        {\"responsive\": true}                    ).then(function(){\n",
              "                            \n",
              "var gd = document.getElementById('e8a7dd52-bc08-489f-a248-baf708e12fe0');\n",
              "var x = new MutationObserver(function (mutations, observer) {{\n",
              "        var display = window.getComputedStyle(gd).display;\n",
              "        if (!display || display === 'none') {{\n",
              "            console.log([gd, 'removed!']);\n",
              "            Plotly.purge(gd);\n",
              "            observer.disconnect();\n",
              "        }}\n",
              "}});\n",
              "\n",
              "// Listen for the removal of the full notebook cells\n",
              "var notebookContainer = gd.closest('#notebook-container');\n",
              "if (notebookContainer) {{\n",
              "    x.observe(notebookContainer, {childList: true});\n",
              "}}\n",
              "\n",
              "// Listen for the clearing of the current output cell\n",
              "var outputEl = gd.closest('.output');\n",
              "if (outputEl) {{\n",
              "    x.observe(outputEl, {childList: true});\n",
              "}}\n",
              "\n",
              "                        })                };                            </script>        </div>\n",
              "</body>\n",
              "</html>"
            ]
          },
          "metadata": {}
        }
      ],
      "source": [
        "import plotly.graph_objects as go\n",
        "scatter = go.Scatter(x = years,\n",
        "                     y = revenues,\n",
        "                     hovertext=titles,\n",
        "                     mode = 'markers')\n",
        "fig = go.Figure(scatter)\n",
        "fig"
      ]
    },
    {
      "cell_type": "markdown",
      "metadata": {
        "id": "rJkrWeYj3OFg"
      },
      "source": [
        "> Answer: <img src=\"https://github.com/eng-6-22/mod-1-a-data-structures/blob/master/3-coercing-filtering-data/movie-revenue.png?raw=1\" width=\"60%\">"
      ]
    },
    {
      "cell_type": "markdown",
      "metadata": {
        "id": "8JH5Bcq13OFg"
      },
      "source": [
        "## 3. Coercing Data"
      ]
    },
    {
      "cell_type": "markdown",
      "metadata": {
        "id": "-vYC51_G3OFg"
      },
      "source": [
        "Let's take another look at the years of all of our movies, that we created above."
      ]
    },
    {
      "cell_type": "code",
      "execution_count": 20,
      "metadata": {
        "id": "glEEN2-P3OFg",
        "outputId": "599197c5-ce63-4a26-c9df-51bf230eefa6",
        "colab": {
          "base_uri": "https://localhost:8080/"
        }
      },
      "outputs": [
        {
          "output_type": "execute_result",
          "data": {
            "text/plain": [
              "[2009, 2007]"
            ]
          },
          "metadata": {},
          "execution_count": 20
        }
      ],
      "source": [
        "years[:2]\n",
        "# [2009, 2007]"
      ]
    },
    {
      "cell_type": "markdown",
      "metadata": {
        "id": "JbfKZABJ3OFg"
      },
      "source": [
        "We can see we only have movies from a certain number of years.  So now let's see the unique collection of years with the by turning our list into a `set`."
      ]
    },
    {
      "cell_type": "code",
      "execution_count": 21,
      "metadata": {
        "id": "x-M13WJW3OFg"
      },
      "outputs": [],
      "source": [
        "unique_years = set(years)"
      ]
    },
    {
      "cell_type": "code",
      "execution_count": 22,
      "metadata": {
        "id": "mi-RKthb3OFg",
        "outputId": "a8104c12-7aed-40fb-f37f-c1bdc5b43521",
        "colab": {
          "base_uri": "https://localhost:8080/"
        }
      },
      "outputs": [
        {
          "output_type": "execute_result",
          "data": {
            "text/plain": [
              "48"
            ]
          },
          "metadata": {},
          "execution_count": 22
        }
      ],
      "source": [
        "len(unique_years)\n",
        "# 48"
      ]
    },
    {
      "cell_type": "markdown",
      "metadata": {
        "id": "N3bpHi2Z3OFg"
      },
      "source": [
        "2. Also find unique list of genres in our collection of movies above."
      ]
    },
    {
      "cell_type": "markdown",
      "metadata": {
        "id": "w6r2LMS03OFh"
      },
      "source": [
        "> First collect all of the genres."
      ]
    },
    {
      "cell_type": "code",
      "execution_count": 24,
      "metadata": {
        "id": "lJi3zyoO3OFl",
        "outputId": "a381c45b-3cdb-4891-da7b-7520d52cca44",
        "colab": {
          "base_uri": "https://localhost:8080/"
        }
      },
      "outputs": [
        {
          "output_type": "execute_result",
          "data": {
            "text/plain": [
              "['Action', 'Adventure', 'Action']"
            ]
          },
          "metadata": {},
          "execution_count": 24
        }
      ],
      "source": [
        "genres = [movie['genre'] for movie in movies]\n",
        "\n",
        "genres[:3]"
      ]
    },
    {
      "cell_type": "markdown",
      "metadata": {
        "id": "6iYho1PL3OFl"
      },
      "source": [
        "Then assign a unique list of genres."
      ]
    },
    {
      "cell_type": "code",
      "execution_count": 28,
      "metadata": {
        "id": "7E4W-alf3OFl"
      },
      "outputs": [],
      "source": [
        "unique_genres = list(set(genres))"
      ]
    },
    {
      "cell_type": "code",
      "execution_count": 29,
      "metadata": {
        "id": "o-X_CBjy3OFm",
        "outputId": "60c54648-c33d-422b-840b-d8796212839a",
        "colab": {
          "base_uri": "https://localhost:8080/"
        }
      },
      "outputs": [
        {
          "output_type": "execute_result",
          "data": {
            "text/plain": [
              "12"
            ]
          },
          "metadata": {},
          "execution_count": 29
        }
      ],
      "source": [
        "len(unique_genres)\n",
        "# 12"
      ]
    },
    {
      "cell_type": "code",
      "execution_count": 30,
      "metadata": {
        "id": "SyN8U3Lx3OFm",
        "outputId": "c33f4a1d-02a8-490e-f24d-f68edb9584c6",
        "colab": {
          "base_uri": "https://localhost:8080/"
        }
      },
      "outputs": [
        {
          "output_type": "execute_result",
          "data": {
            "text/plain": [
              "['Science Fiction', 'Horror', 'Adventure', 'Action', 'Crime']"
            ]
          },
          "metadata": {},
          "execution_count": 30
        }
      ],
      "source": [
        "unique_genres[:5]\n",
        "# [nan, 'Science Fiction', 'Action', 'Romance', 'Horror']"
      ]
    },
    {
      "cell_type": "markdown",
      "metadata": {
        "id": "8ywxIM983OFm"
      },
      "source": [
        "2. Calculate the net revenue for each movie\n",
        "* net revenue = revenue - budget"
      ]
    },
    {
      "cell_type": "code",
      "execution_count": 31,
      "metadata": {
        "id": "xuwiaIK_3OFm"
      },
      "outputs": [],
      "source": [
        "net_revenues = [(movie['revenue'] - movie['budget']) for movie in movies]"
      ]
    },
    {
      "cell_type": "code",
      "execution_count": 32,
      "metadata": {
        "id": "wVS00KsE3OFm",
        "outputId": "eb4431d5-ba2c-4869-a367-fd2f58254a6a",
        "colab": {
          "base_uri": "https://localhost:8080/"
        }
      },
      "outputs": [
        {
          "output_type": "execute_result",
          "data": {
            "text/plain": [
              "[2550965087, 661000000, 635674609, 834939099, 24139100]"
            ]
          },
          "metadata": {},
          "execution_count": 32
        }
      ],
      "source": [
        "net_revenues[:5]\n",
        "# [2550965087, 661000000, 635674609, 834939099, 24139100]"
      ]
    },
    {
      "cell_type": "markdown",
      "metadata": {
        "id": "p9yEyxq13OFn"
      },
      "source": [
        "Now it would be great to plot the net revenue along with the genre.  To do so we need to replace each occurrence of a movie genre with a corresponding color.  For example, if we look at the first genre of each of the first five movies:"
      ]
    },
    {
      "cell_type": "code",
      "execution_count": 33,
      "metadata": {
        "id": "_KK6PRF43OFn",
        "outputId": "0bcb9c78-7183-46be-a6e3-d398cc5654d6",
        "colab": {
          "base_uri": "https://localhost:8080/"
        }
      },
      "outputs": [
        {
          "output_type": "execute_result",
          "data": {
            "text/plain": [
              "['Action', 'Adventure', 'Action', 'Action', 'Action']"
            ]
          },
          "metadata": {},
          "execution_count": 33
        }
      ],
      "source": [
        "genres[:5]\n",
        "# ['Action', 'Adventure', 'Action', 'Action', 'Action']"
      ]
    },
    {
      "cell_type": "markdown",
      "metadata": {
        "id": "I_S7G_ss3OFn"
      },
      "source": [
        "We could replace the first five elements below with:"
      ]
    },
    {
      "cell_type": "markdown",
      "metadata": {
        "id": "VjsIfoCi3OFn"
      },
      "source": [
        "`['Red', 'Blue', 'Red', 'Red', 'Red']`."
      ]
    },
    {
      "cell_type": "markdown",
      "metadata": {
        "id": "FueqcphH3OFn"
      },
      "source": [
        "So below, we'll create a dictionary for replacing each of the values to a corresponding color."
      ]
    },
    {
      "cell_type": "code",
      "execution_count": null,
      "metadata": {
        "id": "ne6jOALU3OFp",
        "outputId": "0788ba69-350f-413b-b78e-4e720cf134ba"
      },
      "outputs": [
        {
          "data": {
            "text/plain": [
              "[nan,\n",
              " 'Thriller',\n",
              " 'Adventure',\n",
              " 'Science Fiction',\n",
              " 'Animation',\n",
              " 'Comedy',\n",
              " 'Fantasy',\n",
              " 'Drama',\n",
              " 'Action',\n",
              " 'Horror',\n",
              " 'Crime',\n",
              " 'Romance']"
            ]
          },
          "execution_count": 28,
          "metadata": {},
          "output_type": "execute_result"
        }
      ],
      "source": [
        "unique_genres"
      ]
    },
    {
      "cell_type": "code",
      "execution_count": 34,
      "metadata": {
        "id": "F7zI40yT3OFp"
      },
      "outputs": [],
      "source": [
        "colors = ['black', 'yellow', 'yellow', 'red',\n",
        "          'purple', 'gold', 'gold', 'yellow',\n",
        "          'orange', 'green', 'yellow', 'blue']\n",
        "color_map = dict(zip(unique_genres, colors))"
      ]
    },
    {
      "cell_type": "code",
      "execution_count": 35,
      "metadata": {
        "id": "M2b9VJjQ3OFp",
        "outputId": "46974ef1-e0a7-456f-a4fc-1ae9ad063e44",
        "colab": {
          "base_uri": "https://localhost:8080/"
        }
      },
      "outputs": [
        {
          "output_type": "execute_result",
          "data": {
            "text/plain": [
              "['red', 'yellow', 'red']"
            ]
          },
          "metadata": {},
          "execution_count": 35
        }
      ],
      "source": [
        "colors = [color_map[genre] for genre in genres]\n",
        "\n",
        "colors[:3]"
      ]
    },
    {
      "cell_type": "code",
      "execution_count": 36,
      "metadata": {
        "id": "d0ZDXDPW3OFp",
        "outputId": "6da22a37-9ff8-4ba1-972a-d223bfc4be22",
        "colab": {
          "base_uri": "https://localhost:8080/",
          "height": 542
        }
      },
      "outputs": [
        {
          "output_type": "display_data",
          "data": {
            "text/html": [
              "<html>\n",
              "<head><meta charset=\"utf-8\" /></head>\n",
              "<body>\n",
              "    <div>            <script src=\"https://cdnjs.cloudflare.com/ajax/libs/mathjax/2.7.5/MathJax.js?config=TeX-AMS-MML_SVG\"></script><script type=\"text/javascript\">if (window.MathJax && window.MathJax.Hub && window.MathJax.Hub.Config) {window.MathJax.Hub.Config({SVG: {font: \"STIX-Web\"}});}</script>                <script type=\"text/javascript\">window.PlotlyConfig = {MathJaxConfig: 'local'};</script>\n",
              "        <script src=\"https://cdn.plot.ly/plotly-2.18.2.min.js\"></script>                <div id=\"bd4ffb7e-b9f2-4389-bbe3-42464e54548f\" class=\"plotly-graph-div\" style=\"height:525px; width:100%;\"></div>            <script type=\"text/javascript\">                                    window.PLOTLYENV=window.PLOTLYENV || {};                                    if (document.getElementById(\"bd4ffb7e-b9f2-4389-bbe3-42464e54548f\")) {                    Plotly.newPlot(                        \"bd4ffb7e-b9f2-4389-bbe3-42464e54548f\",                        [{\"hovertext\":[\"Avatar\",\"Pirates of the Caribbean: At World's End\",\"Spectre\",\"The Dark Knight Rises\",\"John Carter\",\"Spider-Man 3\",\"Tangled\",\"Avengers: Age of Ultron\",\"Harry Potter and the Half-Blood Prince\",\"Batman v Superman: Dawn of Justice\",\"Superman Returns\",\"Quantum of Solace\",\"Pirates of the Caribbean: Dead Man's Chest\",\"The Lone Ranger\",\"Man of Steel\",\"The Chronicles of Narnia: Prince Caspian\",\"The Avengers\",\"Pirates of the Caribbean: On Stranger Tides\",\"Men in Black 3\",\"The Hobbit: The Battle of the Five Armies\",\"The Amazing Spider-Man\",\"Robin Hood\",\"The Hobbit: The Desolation of Smaug\",\"The Golden Compass\",\"King Kong\",\"Titanic\",\"Captain America: Civil War\",\"Battleship\",\"Jurassic World\",\"Skyfall\",\"Spider-Man 2\",\"Iron Man 3\",\"Alice in Wonderland\",\"X-Men: The Last Stand\",\"Monsters University\",\"Transformers: Revenge of the Fallen\",\"Transformers: Age of Extinction\",\"Oz: The Great and Powerful\",\"The Amazing Spider-Man 2\",\"TRON: Legacy\",\"Cars 2\",\"Green Lantern\",\"Toy Story 3\",\"Terminator Salvation\",\"Furious 7\",\"World War Z\",\"X-Men: Days of Future Past\",\"Star Trek Into Darkness\",\"Jack the Giant Slayer\",\"The Great Gatsby\",\"Prince of Persia: The Sands of Time\",\"Pacific Rim\",\"Transformers: Dark of the Moon\",\"Indiana Jones and the Kingdom of the Crystal Skull\",\"The Good Dinosaur\",\"Brave\",\"Star Trek Beyond\",\"WALL\\u00b7E\",\"Rush Hour 3\",\"2012\",\"A Christmas Carol\",\"Jupiter Ascending\",\"The Legend of Tarzan\",\"The Chronicles of Narnia: The Lion, the Witch and the Wardrobe\",\"X-Men: Apocalypse\",\"The Dark Knight\",\"Up\",\"Monsters vs Aliens\",\"Iron Man\",\"Hugo\",\"Wild Wild West\",\"The Mummy: Tomb of the Dragon Emperor\",\"Suicide Squad\",\"Evan Almighty\",\"Edge of Tomorrow\",\"Waterworld\",\"G.I. Joe: The Rise of Cobra\",\"Inside Out\",\"The Jungle Book\",\"Iron Man 2\",\"Snow White and the Huntsman\",\"Maleficent\",\"Dawn of the Planet of the Apes\",\"The Lovers\",\"47 Ronin\",\"Captain America: The Winter Soldier\",\"Shrek Forever After\",\"Tomorrowland\",\"Big Hero 6\",\"Wreck-It Ralph\",\"The Polar Express\",\"Independence Day: Resurgence\",\"How to Train Your Dragon\",\"Terminator 3: Rise of the Machines\",\"Guardians of the Galaxy\",\"Interstellar\",\"Inception\",\"Shin Godzilla\",\"The Hobbit: An Unexpected Journey\",\"The Fast and the Furious\",\"The Curious Case of Benjamin Button\",\"X-Men: First Class\",\"The Hunger Games: Mockingjay - Part 2\",\"The Sorcerer's Apprentice\",\"Poseidon\",\"Alice Through the Looking Glass\",\"Shrek the Third\",\"Warcraft\",\"Terminator Genisys\",\"The Chronicles of Narnia: The Voyage of the Dawn Treader\",\"Pearl Harbor\",\"Transformers\",\"Alexander\",\"Harry Potter and the Order of the Phoenix\",\"Harry Potter and the Goblet of Fire\",\"Hancock\",\"I Am Legend\",\"Charlie and the Chocolate Factory\",\"Ratatouille\",\"Batman Begins\",\"Madagascar: Escape 2 Africa\",\"Night at the Museum: Battle of the Smithsonian\",\"X-Men Origins: Wolverine\",\"The Matrix Revolutions\",\"Frozen\",\"The Matrix Reloaded\",\"Thor: The Dark World\",\"Mad Max: Fury Road\",\"Angels & Demons\",\"Thor\",\"Bolt\",\"G-Force\",\"Wrath of the Titans\",\"Dark Shadows\",\"Mission: Impossible - Rogue Nation\",\"The Wolfman\",\"Bee Movie\",\"Kung Fu Panda 2\",\"The Last Airbender\",\"Mission: Impossible III\",\"White House Down\",\"Mars Needs Moms\",\"Flushed Away\",\"Pan\",\"Mr. Peabody & Sherman\",\"Troy\",\"Madagascar 3: Europe's Most Wanted\",\"Die Another Day\",\"Ghostbusters\",\"Armageddon\",\"Men in Black II\",\"Beowulf\",\"Kung Fu Panda 3\",\"Mission: Impossible - Ghost Protocol\",\"Rise of the Guardians\",\"Fun with Dick and Jane\",\"The Last Samurai\",\"Exodus: Gods and Kings\",\"Star Trek\",\"Spider-Man\",\"How to Train Your Dragon 2\",\"Gods of Egypt\",\"Stealth\",\"Watchmen\",\"Lethal Weapon 4\",\"Hulk\",\"G.I. Joe: Retaliation\",\"Sahara\",\"Final Fantasy: The Spirits Within\",\"Captain America: The First Avenger\",\"The World Is Not Enough\",\"Master and Commander: The Far Side of the World\",\"The Twilight Saga: Breaking Dawn - Part 2\",\"Happy Feet Two\",\"The Incredible Hulk\",\"The BFG\",\"The Revenant\",\"Turbo\",\"Rango\",\"Penguins of Madagascar\",\"The Bourne Ultimatum\",\"Kung Fu Panda\",\"Ant-Man\",\"The Hunger Games: Catching Fire\",\"Home\",\"War of the Worlds\",\"Bad Boys II\",\"Puss in Boots\",\"Salt\",\"Noah\",\"The Adventures of Tintin\",\"Harry Potter and the Prisoner of Azkaban\",\"Australia\",\"After Earth\",\"Dinosaur\",\"Night at the Museum: Secret of the Tomb\",\"Megamind\",\"Harry Potter and the Philosopher's Stone\",\"R.I.P.D.\",\"Pirates of the Caribbean: The Curse of the Black Pearl\",\"The Hunger Games: Mockingjay - Part 1\",\"The Da Vinci Code\",\"Rio 2\",\"X2\",\"Fast Five\",\"Sherlock Holmes: A Game of Shadows\",\"Clash of the Titans\",\"Total Recall\",\"The 13th Warrior\",\"The Bourne Legacy\",\"Batman & Robin\",\"How the Grinch Stole Christmas\",\"The Day After Tomorrow\",\"Mission: Impossible II\",\"The Perfect Storm\",\"Fantastic 4: Rise of the Silver Surfer\",\"Life of Pi\",\"Ghost Rider\",\"Jason Bourne\",\"Charlie's Angels: Full Throttle\",\"Prometheus\",\"Stuart Little 2\",\"Elysium\",\"The Chronicles of Riddick\",\"RoboCop\",\"Speed Racer\",\"How Do You Know\",\"Knight and Day\",\"Oblivion\",\"Star Wars: Episode III - Revenge of the Sith\",\"Star Wars: Episode II - Attack of the Clones\",\"Monsters, Inc.\",\"The Wolverine\",\"Star Wars: Episode I - The Phantom Menace\",\"The Croods\",\"Asterix at the Olympic Games\",\"Windtalkers\",\"The Huntsman: Winter's War\",\"Teenage Mutant Ninja Turtles\",\"Gravity\",\"Dante's Peak\",\"Teenage Mutant Ninja Turtles: Out of the Shadows\",\"Fantastic Four\",\"Night at the Museum\",\"San Andreas\",\"Tomorrow Never Dies\",\"The Patriot\",\"Ocean's Twelve\",\"Mr. & Mrs. Smith\",\"Insurgent\",\"The Aviator\",\"Gulliver's Travels\",\"The Green Hornet\",\"300: Rise of an Empire\",\"The Smurfs\",\"Home on the Range\",\"Allegiant\",\"Real Steel\",\"The Smurfs 2\",\"Speed 2: Cruise Control\",\"Ender's Game\",\"Live Free or Die Hard\",\"The Lord of the Rings: The Fellowship of the Ring\",\"Around the World in 80 Days\",\"Ali\",\"The Cat in the Hat\",\"I, Robot\",\"Kingdom of Heaven\",\"Stuart Little\",\"The Princess and the Frog\",\"The Martian\",\"The Island\",\"Town & Country\",\"Gone in Sixty Seconds\",\"Gladiator\",\"Minority Report\",\"Harry Potter and the Chamber of Secrets\",\"Casino Royale\",\"Planet of the Apes\",\"Terminator 2: Judgment Day\",\"Public Enemies\",\"American Gangster\",\"True Lies\",\"The Taking of Pelham 1 2 3\",\"Little Fockers\",\"The Other Guys\",\"Eraser\",\"Django Unchained\",\"The Hunchback of Notre Dame\",\"The Emperor's New Groove\",\"The Expendables 2\",\"National Treasure\",\"Eragon\",\"Where the Wild Things Are\",\"Epic\",\"The Tourist\",\"End of Days\",\"Blood Diamond\",\"The Wolf of Wall Street\",\"Batman Forever\",\"Starship Troopers\",\"Cloud Atlas\",\"Legend of the Guardians: The Owls of Ga'Hoole\",\"Catwoman\",\"Hercules\",\"Treasure Planet\",\"Land of the Lost\",\"The Expendables 3\",\"Point Break\",\"Son of the Mask\",\"In the Heart of the Sea\",\"The Adventures of Pluto Nash\",\"Green Zone\",\"The Peanuts Movie\",\"The Spanish Prisoner\",\"The Mummy Returns\",\"Gangs of New York\",\"The Flowers of War\",\"Surf's Up\",\"The Stepford Wives\",\"Black Hawk Down\",\"The Campaign\",\"The Fifth Element\",\"Sex and the City 2\",\"The Road to El Dorado\",\"Ice Age: Continental Drift\",\"Cinderella\",\"The Lovely Bones\",\"Finding Nemo\",\"The Lord of the Rings: The Return of the King\",\"The Lord of the Rings: The Two Towers\",\"Seventh Son\",\"Lara Croft: Tomb Raider\",\"Transcendence\",\"Jurassic Park III\",\"Rise of the Planet of the Apes\",\"The Spiderwick Chronicles\",\"A Good Day to Die Hard\",\"The Alamo\",\"The Incredibles\",\"Cutthroat Island\",\"Percy Jackson & the Olympians: The Lightning Thief\",\"Men in Black\",\"Toy Story 2\",\"Unstoppable\",\"Rush Hour 2\",\"What Lies Beneath\",\"Cloudy with a Chance of Meatballs\",\"Ice Age: Dawn of the Dinosaurs\",\"The Secret Life of Walter Mitty\",\"Charlie's Angels\",\"The Departed\",\"Mulan\",\"Tropic Thunder\",\"The Girl with the Dragon Tattoo\",\"Die Hard: With a Vengeance\",\"Sherlock Holmes\",\"Ben-Hur\",\"Atlantis: The Lost Empire\",\"Alvin and the Chipmunks: The Road Chip\",\"Valkyrie\",\"You Don't Mess with the Zohan\",\"Pixels\",\"A.I. Artificial Intelligence\",\"The Haunted Mansion\",\"Contact\",\"Hollow Man\",\"The Interpreter\",\"Percy Jackson: Sea of Monsters\",\"Lara Croft Tomb Raider: The Cradle of Life\",\"Now You See Me 2\",\"The Saint\",\"Spy Game\",\"Mission to Mars\",\"Rio\",\"Bicentennial Man\",\"Volcano\",\"The Devil's Own\",\"K-19: The Widowmaker\",\"Conan the Barbarian\",\"Cinderella Man\",\"The Nutcracker: The Untold Story\",\"Seabiscuit\",\"Twister\",\"Cast Away\",\"Happy Feet\",\"The Bourne Supremacy\",\"Air Force One\",\"Ocean's Eleven\",\"The Three Musketeers\",\"Hotel Transylvania\",\"Enchanted\",\"Safe House\",\"102 Dalmatians\",\"Tower Heist\",\"The Holiday\",\"Enemy of the State\",\"It's Complicated\",\"Ocean's Thirteen\",\"Open Season\",\"Divergent\",\"Enemy at the Gates\",\"The Rundown\",\"Last Action Hero\",\"Memoirs of a Geisha\",\"The Fast and the Furious: Tokyo Drift\",\"Arthur Christmas\",\"Meet Joe Black\",\"Collateral Damage\",\"All That Jazz\",\"Mirror Mirror\",\"Scott Pilgrim vs. the World\",\"The Core\",\"Nutty Professor II: The Klumps\",\"Scooby-Doo\",\"Dredd\",\"Click\",\"Creepshow\",\"Cats & Dogs 2 : The Revenge of Kitty Galore\",\"Jumper\",\"Hellboy II: The Golden Army\",\"Zodiac\",\"The 6th Day\",\"Bruce Almighty\",\"The Expendables\",\"Mission: Impossible\",\"The Hunger Games\",\"The Hangover Part II\",\"Batman Returns\",\"Over the Hedge\",\"Lilo & Stitch\",\"Charlotte's Web\",\"Deep Impact\",\"RED 2\",\"The Longest Yard\",\"Alvin and the Chipmunks: Chipwrecked\",\"Grown Ups 2\",\"Get Smart\",\"Something's Gotta Give\",\"Shutter Island\",\"Four Christmases\",\"Robots\",\"Face/Off\",\"Bedtime Stories\",\"Road to Perdition\",\"Just Go with It\",\"Con Air\",\"Eagle Eye\",\"Cold Mountain\",\"The Book of Eli\",\"Flubber\",\"The Haunting\",\"Space Jam\",\"The Pink Panther\",\"The Day the Earth Stood Still\",\"Conspiracy Theory\",\"Fury\",\"Six Days Seven Nights\",\"Yogi Bear\",\"Spirit: Stallion of the Cimarron\",\"Zookeeper\",\"Lost in Space\",\"The Manchurian Candidate\",\"D\\u00e9j\\u00e0 Vu\",\"Hotel Transylvania 2\",\"Fantasia 2000\",\"The Time Machine\",\"Mighty Joe Young\",\"Swordfish\",\"The Legend of Zorro\",\"What Dreams May Come\",\"Little Nicky\",\"The Brothers Grimm\",\"Mars Attacks!\",\"Evolution\",\"The Edge\",\"Surrogates\",\"Thirteen Days\",\"Daylight\",\"Walking With Dinosaurs\",\"Battlefield Earth\",\"Looney Tunes: Back in Action\",\"Nine\",\"Timeline\",\"The Postman\",\"Babe: Pig in the City\",\"The Last Witch Hunter\",\"Red Planet\",\"Arthur and the Invisibles\",\"Oceans\",\"A Sound of Thunder\",\"Pompeii\",\"Top Cat Begins\",\"A Beautiful Mind\",\"The Lion King\",\"Journey 2: The Mysterious Island\",\"Cloudy with a Chance of Meatballs 2\",\"Red Dragon\",\"Hidalgo\",\"Jack and Jill\",\"2 Fast 2 Furious\",\"The Little Prince\",\"The Invasion\",\"The Adventures of Rocky & Bullwinkle\",\"The Secret Life of Pets\",\"The League of Extraordinary Gentlemen\",\"Despicable Me 2\",\"Independence Day\",\"The Lost World: Jurassic Park\",\"Madagascar\",\"Children of Men\",\"X-Men\",\"Wanted\",\"The Rock\",\"Ice Age: The Meltdown\",\"50 First Dates\",\"Hairspray\",\"Exorcist: The Beginning\",\"Inspector Gadget\",\"Now You See Me\",\"Grown Ups\",\"The Terminal\",\"Hotel for Dogs\",\"Vertical Limit\",\"Charlie Wilson's War\",\"Shark Tale\",\"Dreamgirls\",\"Be Cool\",\"Munich\",\"Tears of the Sun\",\"Killers\",\"The Man from U.N.C.L.E.\",\"Spanglish\",\"Monster House\",\"Bandits\",\"First Knight\",\"Anna and the King\",\"Immortals\",\"Hostage\",\"Titan A.E.\",\"Hollywood Homicide\",\"Soldier\",\"Carriers\",\"Monkeybone\",\"Flight of the Phoenix\",\"Unbreakable\",\"Minions\",\"Sucker Punch\",\"Snake Eyes\",\"Sphere\",\"The Angry Birds Movie\",\"Fool's Gold\",\"Funny People\",\"The Kingdom\",\"Talladega Nights: The Ballad of Ricky Bobby\",\"Dr. Dolittle 2\",\"Braveheart\",\"Jarhead\",\"The Simpsons Movie\",\"The Majestic\",\"Driven\",\"Two Brothers\",\"The Village\",\"Doctor Dolittle\",\"Signs\",\"Shrek 2\",\"Cars\",\"Runaway Bride\",\"xXx\",\"The SpongeBob Movie: Sponge Out of Water\",\"Ransom\",\"Inglourious Basterds\",\"Hook\",\"Die Hard 2\",\"S.W.A.T.\",\"Vanilla Sky\",\"Lady in the Water\",\"AVP: Alien vs. Predator\",\"Alvin and the Chipmunks: The Squeakquel\",\"We Were Soldiers\",\"Olympus Has Fallen\",\"Star Trek: Insurrection\",\"Battle: Los Angeles\",\"Big Fish\",\"Wolf\",\"War Horse\",\"The Monuments Men\",\"The Abyss\",\"Wall Street: Money Never Sleeps\",\"Dracula Untold\",\"The Siege\",\"Stardust\",\"Seven Years in Tibet\",\"The Dilemma\",\"Bad Company\",\"Doom\",\"I Spy\",\"Underworld: Awakening\",\"Rock of Ages\",\"Hart's War\",\"Killer Elite\",\"Rollerball\",\"Ballistic: Ecks vs. Sever\",\"Hard Rain\",\"Osmosis Jones\",\"Legends of Oz: Dorothy's Return\",\"Blackhat\",\"Sky Captain and the World of Tomorrow\",\"Basic Instinct 2\",\"Escape Plan\",\"The Legend of Hercules\",\"The Sum of All Fears\",\"The Twilight Saga: Eclipse\",\"The Score\",\"Despicable Me\",\"Money Train\",\"Ted 2\",\"Agora\",\"Mystery Men\",\"Hall Pass\",\"The Insider\",\"The Finest Hours\",\"Body of Lies\",\"Dinner for Schmucks\",\"Abraham Lincoln: Vampire Hunter\",\"Entrapment\",\"The X Files\",\"The Last Legion\",\"Saving Private Ryan\",\"Need for Speed\",\"What Women Want\",\"Ice Age\",\"Dreamcatcher\",\"Lincoln\",\"The Matrix\",\"Apollo 13\",\"The Santa Clause 2\",\"Les Mis\\u00e9rables\",\"You've Got Mail\",\"Step Brothers\",\"The Mask of Zorro\",\"Due Date\",\"Unbroken\",\"Space Cowboys\",\"Cliffhanger\",\"Broken Arrow\",\"The Kid\",\"World Trade Center\",\"Mona Lisa Smile\",\"The Dictator\",\"Eyes Wide Shut\",\"Annie\",\"Focus\",\"This Means War\",\"Blade: Trinity\",\"Red Dawn\",\"Primary Colors\",\"Resident Evil: Retribution\",\"Death Race\",\"The Long Kiss Goodnight\",\"Proof of Life\",\"Zathura: A Space Adventure\",\"Fight Club\",\"We Are Marshall\",\"Hudson Hawk\",\"Lucky Numbers\",\"I, Frankenstein\",\"Oliver Twist\",\"Elektra\",\"Sin City: A Dame to Kill For\",\"Random Hearts\",\"Everest\",\"Perfume: The Story of a Murderer\",\"Austin Powers in Goldmember\",\"Astro Boy\",\"Jurassic Park\",\"Wyatt Earp\",\"Clear and Present Danger\",\"Dragon Blade\",\"Little Man\",\"U-571\",\"The American President\",\"The Love Guru\",\"3000 Miles to Graceland\",\"The Hateful Eight\",\"Blades of Glory\",\"Hop\",\"300\",\"Meet the Fockers\",\"Marley & Me\",\"The Green Mile\",\"Wild Hogs\",\"Chicken Little\",\"Gone Girl\",\"The Bourne Identity\",\"GoldenEye\",\"The General's Daughter\",\"The Truman Show\",\"The Prince of Egypt\",\"Daddy Day Care\",\"2 Guns\",\"Cats & Dogs\",\"The Italian Job\",\"Two Weeks Notice\",\"Antz\",\"Couples Retreat\",\"Days of Thunder\",\"Cheaper by the Dozen 2\",\"Maze Runner: The Scorch Trials\",\"Eat Pray Love\",\"The Family Man\",\"RED\",\"Any Given Sunday\",\"The Horse Whisperer\",\"Collateral\",\"The Scorpion King\",\"Ladder 49\",\"Jack Reacher\",\"Deep Blue Sea\",\"This Is It\",\"Contagion\",\"Kangaroo Jack\",\"Coraline\",\"The Happening\",\"Man on Fire\",\"The Shaggy Dog\",\"Starsky & Hutch\",\"Jingle All the Way\",\"Hellboy\",\"A Civil Action\",\"ParaNorman\",\"The Jackal\",\"Paycheck\",\"Up Close & Personal\",\"The Tale of Despereaux\",\"The Tuxedo\",\"Under Siege 2: Dark Territory\",\"Jack Ryan: Shadow Recruit\",\"Joy\",\"London Has Fallen\",\"Alien: Resurrection\",\"Shooter\",\"The Boxtrolls\",\"Practical Magic\",\"The Lego Movie\",\"Miss Congeniality 2: Armed and Fabulous\",\"Reign of Fire\",\"Gangster Squad\",\"Year One\",\"Invictus\",\"State of Play\",\"Duplicity\",\"My Favorite Martian\",\"The Sentinel\",\"Planet 51\",\"Star Trek: Nemesis\",\"Intolerable Cruelty\",\"Trouble with the Curve\",\"Edge of Darkness\",\"The Relic\",\"Analyze That\",\"Righteous Kill\",\"Mercury Rising\",\"The Soloist\",\"The Legend of Bagger Vance\",\"Almost Famous\",\"Garfield: A Tail of Two Kitties\",\"xXx: State of the Union\",\"Priest\",\"Sinbad: Legend of the Seven Seas\",\"Event Horizon\",\"Dragonfly\",\"The Black Dahlia\",\"Flyboys\",\"The Last Castle\",\"Supernova\",\"Winter's Tale\",\"The Mortal Instruments: City of Bones\",\"Meet Dave\",\"Dark Water\",\"Edtv\",\"Inkheart\",\"The Spirit\",\"Mortdecai\",\"In the Name of the King: A Dungeon Siege Tale\",\"Beyond Borders\",\"The Monkey King 2\",\"The Great Raid\",\"Deadpool\",\"Holy Man\",\"American Sniper\",\"Goosebumps\",\"Just Like Heaven\",\"The Flintstones in Viva Rock Vegas\",\"Rambo III\",\"Leatherheads\",\"The Ridiculous 6\",\"Did You Hear About the Morgans?\",\"The Internship\",\"Resident Evil: Afterlife\",\"Red Tails\",\"The Devil's Advocate\",\"That's My Boy\",\"DragonHeart\",\"After the Sunset\",\"Ghost Rider: Spirit of Vengeance\",\"Captain Corelli's Mandolin\",\"The Pacifier\",\"Walking Tall\",\"Forrest Gump\",\"Alvin and the Chipmunks\",\"Meet the Parents\",\"Pocahontas\",\"Superman\",\"The Nutty Professor\",\"Hitch\",\"George of the Jungle\",\"American Wedding\",\"Captain Phillips\",\"Date Night\",\"Casper\",\"The Equalizer\",\"Maid in Manhattan\",\"Crimson Tide\",\"The Pursuit of Happyness\",\"Flightplan\",\"Disclosure\",\"City of Angels\",\"Kill Bill: Vol. 1\",\"Bowfinger\",\"Kill Bill: Vol. 2\",\"Tango & Cash\",\"Death Becomes Her\",\"Shanghai Noon\",\"Executive Decision\",\"Mr. Popper's Penguins\",\"The Forbidden Kingdom\",\"Free Birds\",\"Alien\\u00b3\",\"Evita\",\"Ronin\",\"The Ghost and the Darkness\",\"Paddington\",\"The Watch\",\"The Hunted\",\"Instinct\",\"Stuck on You\",\"Semi-Pro\",\"The Pirates! In an Adventure with Scientists!\",\"Changeling\",\"Chain Reaction\",\"The Fan\",\"The Phantom of the Opera\",\"Elizabeth: The Golden Age\",\"\\u00c6on Flux\",\"Gods and Generals\",\"Turbulence\",\"Imagine That\",\"Muppets Most Wanted\",\"Thunderbirds\",\"Burlesque\",\"A Very Long Engagement\",\"Lolita\",\"D-Tox\",\"Blade II\",\"Seven Pounds\",\"Bullet to the Head\",\"The Godfather: Part III\",\"Elizabethtown\",\"You, Me and Dupree\",\"Superman II\",\"Gigli\",\"All the King's Men\",\"Shaft\",\"Anastasia\",\"Moulin Rouge!\",\"Domestic Disturbance\",\"Black Mass\",\"Flags of Our Fathers\",\"Law Abiding Citizen\",\"Grindhouse\",\"Beloved\",\"Lucky You\",\"Catch Me If You Can\",\"Zero Dark Thirty\",\"The Break-Up\",\"Mamma Mia!\",\"Valentine's Day\",\"The Dukes of Hazzard\",\"The Thin Red Line\",\"The Change-Up\",\"Man on the Moon\",\"Casino\",\"From Paris with Love\",\"Bulletproof Monk\",\"Me, Myself & Irene\",\"Barnyard\",\"Deck the Halls\",\"The Twilight Saga: New Moon\",\"Shrek\",\"The Adjustment Bureau\",\"Robin Hood: Prince of Thieves\",\"Jerry Maguire\",\"Ted\",\"As Good as It Gets\",\"Patch Adams\",\"Anchorman 2: The Legend Continues\",\"Mr. Deeds\",\"Super 8\",\"Erin Brockovich\",\"How to Lose a Guy in 10 Days\",\"22 Jump Street\",\"Interview with the Vampire\",\"Yes Man\",\"Central Intelligence\",\"Stepmom\",\"Daddy's Home\",\"Into the Woods\",\"Inside Man\",\"Payback\",\"Congo\",\"We Bought a Zoo\",\"Knowing\",\"Failure to Launch\",\"The Ring Two\",\"Crazy, Stupid, Love.\",\"Garfield\",\"Christmas with the Kranks\",\"Moneyball\",\"Outbreak\",\"Non-Stop\",\"Race to Witch Mountain\",\"V for Vendetta\",\"Shanghai Knights\",\"Curious George\",\"Herbie Fully Loaded\",\"Don't Say a Word\",\"Hansel & Gretel: Witch Hunters\",\"Unfaithful\",\"I Am Number Four\",\"Syriana\",\"13 Hours: The Secret Soldiers of Benghazi\",\"The Book of Life\",\"Firewall\",\"Absolute Power\",\"G.I. Jane\",\"The Game\",\"Silent Hill\",\"The Replacements\",\"American Reunion\",\"The Negotiator\",\"Into the Storm\",\"Beverly Hills Cop III\",\"Gremlins 2: The New Batch\",\"The Judge\",\"The Peacemaker\",\"Resident Evil: Apocalypse\",\"Bridget Jones: The Edge of Reason\",\"Out of Time\",\"On Deadly Ground\",\"The Adventures of Sharkboy and Lavagirl\",\"The Beach\",\"Raising Helen\",\"Ninja Assassin\",\"For Love of the Game\",\"Striptease\",\"Marmaduke\",\"Hereafter\",\"Murder by Numbers\",\"Assassins\",\"Hannibal Rising\",\"The Story of Us\",\"The Host\",\"Basic\",\"Blood Work\",\"The International\",\"Escape from L.A.\",\"The Iron Giant\",\"The Life Aquatic with Steve Zissou\",\"Free State of Jones\",\"The Life of David Gale\",\"Man of the House\",\"Run All Night\",\"Eastern Promises\",\"Into the Blue\",\"The Messenger: The Story of Joan of Arc\",\"Your Highness\",\"Dream House\",\"Mad City\",\"Baby's Day Out\",\"The Scarlet Letter\",\"Fair Game\",\"Domino\",\"Jade\",\"Gamer\",\"Beautiful Creatures\",\"Death to Smoochy\",\"Zoolander 2\",\"The Big Bounce\",\"What Planet Are You From?\",\"Drive Angry\",\"Street Fighter: The Legend of Chun-Li\",\"The One\",\"The Adventures of Ford Fairlane\",\"The Boat That Rocked\",\"Traffic\",\"Indiana Jones and the Last Crusade\",\"Anna Karenina\",\"Chappie\",\"The Bone Collector\",\"Panic Room\",\"The Tooth Fairy\",\"Three Kings\",\"Child 44\",\"Rat Race\",\"K-PAX\",\"Kate & Leopold\",\"Bedazzled\",\"The Cotton Club\",\"3:10 to Yuma\",\"Taken 3\",\"Out of Sight\",\"The Cable Guy\",\"Earth\",\"Dick Tracy\",\"The Thomas Crown Affair\",\"Riding in Cars with Boys\",\"First Blood\",\"Solaris\",\"Happily N'Ever After\",\"Mary Reilly\",\"My Best Friend's Wedding\",\"America's Sweethearts\",\"Insomnia\",\"Star Trek: First Contact\",\"Jonah Hex\",\"Courage Under Fire\",\"Liar Liar\",\"The Infiltrator\",\"Inchon\",\"The Flintstones\",\"Taken 2\",\"Scary Movie 3\",\"Miss Congeniality\",\"Journey to the Center of the Earth\",\"The Princess Diaries 2: Royal Engagement\",\"The Pelican Brief\",\"The Client\",\"The Bucket List\",\"Patriot Games\",\"Monster-in-Law\",\"Prisoners\",\"Training Day\",\"Galaxy Quest\",\"Scary Movie 2\",\"The Muppets\",\"Blade\",\"Coach Carter\",\"Changing Lanes\",\"Anaconda\",\"Coyote Ugly\",\"Love Actually\",\"A Bug's Life\",\"From Hell\",\"The Specialist\",\"Tin Cup\",\"Yours, Mine and Ours\",\"Kicking & Screaming\",\"The Hitchhiker's Guide to the Galaxy\",\"Fat Albert\",\"Resident Evil: Extinction\",\"Blended\",\"Last Holiday\",\"The River Wild\",\"The Indian in the Cupboard\",\"Savages\",\"Cellular\",\"Johnny English\",\"The Ant Bully\",\"Dune\",\"Across the Universe\",\"Revolutionary Road\",\"16 Blocks\",\"Babylon A.D.\",\"The Glimmer Man\",\"Multiplicity\",\"Aliens in the Attic\",\"The Pledge\",\"The Producers\",\"The Phantom\",\"All the Pretty Horses\",\"Nixon\",\"The Ghost Writer\",\"Deep Rising\",\"Miracle at St. Anna\",\"Curse of the Golden Flower\",\"Bangkok Dangerous\",\"Big Trouble\",\"Love in the Time of Cholera\",\"Shadow Conspiracy\",\"Johnny English Reborn\",\"Foodfight!\",\"Argo\",\"The Fugitive\",\"The Bounty Hunter\",\"Sleepers\",\"Rambo: First Blood Part II\",\"The Juror\",\"Pinocchio\",\"Heaven's Gate\",\"Underworld: Evolution\",\"Victor Frankenstein\",\"Finding Forrester\",\"28 Days\",\"Unleashed\",\"The Sweetest Thing\",\"The Firm\",\"Charlie St. Cloud\",\"The Mechanic\",\"21 Jump Street\",\"Notting Hill\",\"Chicken Run\",\"Along Came Polly\",\"Boomerang\",\"The Heat\",\"Cleopatra\",\"Here Comes the Boom\",\"High Crimes\",\"The Mirror Has Two Faces\",\"The Mothman Prophecies\",\"Br\\u00fcno\",\"Licence to Kill\",\"Red Riding Hood\",\"15 Minutes\",\"Super Mario Bros.\",\"Lord of War\",\"Hero\",\"One for the Money\",\"The Interview\",\"The Warrior's Way\",\"Micmacs\",\"8 Mile\",\"Why I Did (Not) Eat My Father\",\"A Knight's Tale\",\"The Medallion\",\"The Sixth Sense\",\"Man on a Ledge\",\"The Big Year\",\"The Karate Kid\",\"American Hustle\",\"The Proposal\",\"Double Jeopardy\",\"Back to the Future Part II\",\"Lucy\",\"Fifty Shades of Grey\",\"Spy Kids 3-D: Game Over\",\"A Time to Kill\",\"Cheaper by the Dozen\",\"Lone Survivor\",\"A League of Their Own\",\"The Conjuring 2\",\"The Social Network\",\"He's Just Not That Into You\",\"Scary Movie 4\",\"Scream 3\",\"Back to the Future Part III\",\"Get Hard\",\"Dracula\",\"Julie & Julia\",\"42\",\"The Talented Mr. Ripley\",\"Dumb and Dumber To\",\"Eight Below\",\"The Intern\",\"Ride Along 2\",\"The Last of the Mohicans\",\"Ray\",\"Sin City\",\"Vantage Point\",\"I Love You, Man\",\"Shallow Hal\",\"JFK\",\"Big Momma's House 2\",\"The Mexican\",\"17 Again\",\"The Other Woman\",\"The Final Destination\",\"Bridge of Spies\",\"Behind Enemy Lines\",\"Get Him to the Greek\",\"Shall We Dance?\",\"Small Soldiers\",\"Spawn\",\"The Count of Monte Cristo\",\"The Lincoln Lawyer\",\"Unknown\",\"The Prestige\",\"Horrible Bosses 2\",\"Escape from Planet Earth\",\"Apocalypto\",\"The Living Daylights\",\"Predators\",\"Legal Eagles\",\"Secret Window\",\"The Lake House\",\"The Skeleton Key\",\"The Odd Life of Timothy Green\",\"Made of Honor\",\"Jersey Boys\",\"The Rainmaker\",\"Gothika\",\"Amistad\",\"Medicine Man\",\"Aliens vs Predator: Requiem\",\"Ri\\u00a2hie Ri\\u00a2h\",\"Autumn in New York\",\"Music and Lyrics\",\"Paul\",\"The Guilt Trip\",\"Scream 4\",\"8MM\",\"The Doors\",\"Sex Tape\",\"Hanging Up\",\"Final Destination 5\",\"Mickey Blue Eyes\",\"Pay It Forward\",\"Fever Pitch\",\"Drillbit Taylor\",\"A Million Ways to Die in the West\",\"The Shadow\",\"Extremely Loud & Incredibly Close\",\"Morning Glory\",\"Get Rich or Die Tryin'\",\"The Art of War\",\"Rent\",\"Bless the Child\",\"The Out-of-Towners\",\"The Island of Dr. Moreau\",\"The Musketeer\",\"The Other Boleyn Girl\",\"Sweet November\",\"The Reaping\",\"Mean Streets\",\"Renaissance Man\",\"Colombiana\",\"Quest for Camelot\",\"City By The Sea\",\"At First Sight\",\"Torque\",\"City Hall\",\"Showgirls\",\"Marie Antoinette\",\"Kiss of Death\",\"Get Carter\",\"The Impossible\",\"Ishtar\",\"Fantastic Mr. Fox\",\"Life or Something Like It\",\"Memoirs of an Invisible Man\",\"Am\\u00e9lie\",\"New York Minute\",\"Alfie\",\"Big Miracle\",\"The Deep End of the Ocean\",\"FearDotCom\",\"Cirque du Freak: The Vampire's Assistant\",\"Duplex\",\"Soul Men\",\"Raise the Titanic\",\"Universal Soldier: The Return\",\"Pandorum\",\"Impostor\",\"Extreme Ops\",\"Just Visiting\",\"Sunshine\",\"A Thousand Words\",\"Delgo\",\"The Gunman\",\"Stormbreaker\",\"Disturbia\",\"Hackers\",\"The Hunting Party\",\"The Hudsucker Proxy\",\"The Warlords\",\"Nomad: The Warrior\",\"Snowpiercer\",\"A Monster in Paris\",\"The Last Shot\",\"The Crow\",\"Baahubali: The Beginning\",\"The Time Traveler's Wife\",\"Because I Said So\",\"Frankenweenie\",\"Serenity\",\"Against the Ropes\",\"Superman III\",\"Grudge Match\",\"Red Cliff\",\"Sweet Home Alabama\",\"The Ugly Truth\",\"Sgt. Bilko\",\"Spy Kids 2: The Island of Lost Dreams\",\"Star Trek: Generations\",\"The Grandmaster\",\"Water for Elephants\",\"Dragon Nest: Warriors' Dawn\",\"The Hurricane\",\"Enough\",\"Heartbreakers\",\"Paul Blart: Mall Cop 2\",\"Angel Eyes\",\"Joe Somebody\",\"The Ninth Gate\",\"Extreme Measures\",\"Rock Star\",\"Precious\",\"White Squall\",\"The Thing\",\"Riddick\",\"Switchback\",\"Texas Rangers\",\"City of Ember\",\"The Master\",\"Virgin Territory\",\"The Express\",\"The 5th Wave\",\"Creed\",\"The Town\",\"What to Expect When You're Expecting\",\"Burn After Reading\",\"Nim's Island\",\"Rush\",\"Magnolia\",\"Cop Out\",\"How to Be Single\",\"Dolphin Tale\",\"Twilight\",\"John Q\",\"Blue Streak\",\"We're the Millers\",\"The Inhabited Island\",\"Breakdown\",\"Never Say Never Again\",\"Hot Tub Time Machine\",\"Dolphin Tale 2\",\"Reindeer Games\",\"A Man Apart\",\"Aloha\",\"Ghosts of Mississippi\",\"Snow Falling on Cedars\",\"The Rite\",\"Gattaca\",\"Isn't She Great\",\"Space Chimps\",\"Head of State\",\"The Hangover\",\"Ip Man 3\",\"Austin Powers: The Spy Who Shagged Me\",\"Batman\",\"There Be Dragons\",\"Lethal Weapon 3\",\"The Blind Side\",\"Spy Kids\",\"Horrible Bosses\",\"True Grit\",\"The Devil Wears Prada\",\"Star Trek: The Motion Picture\",\"Identity Thief\",\"Cape Fear\",\"21\",\"Trainwreck\",\"Guess Who\",\"The English Patient\",\"L.A. Confidential\",\"Sky High\",\"In & Out\",\"Species\",\"A Nightmare on Elm Street\",\"The Cell\",\"The Man in the Iron Mask\",\"Secretariat\",\"TMNT\",\"Radio\",\"Friends with Benefits\",\"Neighbors 2: Sorority Rising\",\"Saving Mr. Banks\",\"Malcolm X\",\"This Is 40\",\"Old Dogs\",\"Underworld: Rise of the Lycans\",\"License to Wed\",\"The Benchwarmers\",\"Must Love Dogs\",\"Donnie Brasco\",\"Resident Evil\",\"Poltergeist\",\"The Ladykillers\",\"Max Payne\",\"In Time\",\"The Back-Up Plan\",\"Something Borrowed\",\"Black Knight\",\"The Bad News Bears\",\"Street Fighter\",\"The Pianist\",\"The Nativity Story\",\"House of Wax\",\"Closer\",\"J. Edgar\",\"Mirrors\",\"Queen of the Damned\",\"Predator 2\",\"Untraceable\",\"Blast from the Past\",\"Flash Gordon\",\"Jersey Girl\",\"Alex Cross\",\"Midnight in the Garden of Good and Evil\",\"Heist\",\"Nanny McPhee and the Big Bang\",\"Hoffa\",\"The X Files: I Want to Believe\",\"Ella Enchanted\",\"Concussion\",\"Abduction\",\"Valiant\",\"Wonder Boys\",\"Superhero Movie\",\"Broken City\",\"Cursed\",\"Premium Rush\",\"Hot Pursuit\",\"The Four Feathers\",\"Parker\",\"Wimbledon\",\"Furry Vengeance\",\"Bait\",\"Krull\",\"Lions for Lambs\",\"Flight of the Intruder\",\"Walk Hard: The Dewey Cox Story\",\"The Shipping News\",\"American Outlaws\",\"The Young Victoria\",\"Whiteout\",\"The Tree of Life\",\"Knock Off\",\"Sabotage\",\"The Order\",\"Punisher: War Zone\",\"Zoom\",\"The Walk\",\"Warriors of Virtue\",\"A Good Year\",\"Radio Flyer\",\"Bound by Honor\",\"Smilla's Sense of Snow\",\"Femme Fatale\",\"Lion of the Desert\",\"The Horseman on the Roof\",\"Ride with the Devil\",\"Biutiful\",\"Bandidas\",\"Black Water Transit\",\"The Maze Runner\",\"Unfinished Business\",\"The Age of Innocence\",\"The Fountain\",\"Chill Factor\",\"Stolen\",\"Ponyo\",\"The Longest Ride\",\"The Astronaut's Wife\",\"I Dreamed of Africa\",\"Playing for Keeps\",\"Mandela: Long Walk to Freedom\",\"Reds\",\"A Few Good Men\",\"Exit Wounds\",\"Big Momma's House\",\"Thunder and the House of Magic\",\"The Darkest Hour\",\"Step Up Revolution\",\"Snakes on a Plane\",\"The Watcher\",\"The Punisher\",\"Goal!: The Dream Begins\",\"Safe\",\"Pushing Tin\",\"Return of the Jedi\",\"Doomsday\",\"The Reader\",\"Wanderlust\",\"Elf\",\"Phenomenon\",\"Snow Dogs\",\"Scrooged\",\"Nacho Libre\",\"Bridesmaids\",\"This Is the End\",\"Stigmata\",\"Men of Honor\",\"Takers\",\"The Big Wedding\",\"Big Mommas: Like Father, Like Son\",\"Source Code\",\"Alive\",\"The Number 23\",\"The Young and Prodigious T.S. Spivet\",\"1941\",\"Dreamer: Inspired By a True Story\",\"A History of Violence\",\"Transporter 2\",\"The Quick and the Dead\",\"Laws of Attraction\",\"Bringing Out the Dead\",\"Repo Men\",\"Dragon Wars: D-War\",\"Bogus\",\"The Incredible Burt Wonderstone\",\"Cats Don't Dance\",\"Cradle Will Rock\",\"The Good German\",\"George and the Dragon\",\"Apocalypse Now\",\"Going the Distance\",\"Mr. Holland's Opus\",\"Criminal\",\"Out of Africa\",\"Flight\",\"Moonraker\",\"The Grand Budapest Hotel\",\"Hearts in Atlantis\",\"Arachnophobia\",\"Frequency\",\"Vacation\",\"Get Shorty\",\"Chicago\",\"Big Daddy\",\"American Pie 2\",\"Toy Story\",\"Speed\",\"The Vow\",\"Extraordinary Measures\",\"Remember the Titans\",\"The Hunt for Red October\",\"The Butler\",\"DodgeBall: A True Underdog Story\",\"The Addams Family\",\"Ace Ventura: When Nature Calls\",\"The Princess Diaries\",\"The First Wives Club\",\"Se7en\",\"District 9\",\"The SpongeBob SquarePants Movie\",\"Mystic River\",\"Million Dollar Baby\",\"Analyze This\",\"The Notebook\",\"27 Dresses\",\"Hannah Montana: The Movie\",\"Rugrats in Paris: The Movie\",\"The Prince of Tides\",\"Legends of the Fall\",\"Up in the Air\",\"About Schmidt\",\"Warm Bodies\",\"Looper\",\"Down to Earth\",\"Babe\",\"Hope Springs\",\"Forgetting Sarah Marshall\",\"Four Brothers\",\"Baby Mama\",\"Hope Floats\",\"Bride Wars\",\"Without a Paddle\",\"13 Going on 30\",\"Midnight in Paris\",\"The Nut Job\",\"Blow\",\"Message in a Bottle\",\"Star Trek V: The Final Frontier\",\"Like Mike\",\"The Naked Gun 33\\u2153: The Final Insult\",\"A View to a Kill\",\"The Curse of the Were-Rabbit\",\"P.S. I Love You\",\"Racing Stripes\",\"Atonement\",\"Letters to Juliet\",\"Black Rain\",\"The Three Stooges\",\"Corpse Bride\",\"Glory Road\",\"Sicario\",\"Southpaw\",\"Drag Me to Hell\",\"The Age of Adaline\",\"Secondhand Lions\",\"Step Up 3D\",\"Blue Crush\",\"Stranger Than Fiction\",\"30 Days of Night\",\"The Cabin in the Woods\",\"Meet the Spartans\",\"Midnight Run\",\"The Running Man\",\"Little Shop of Horrors\",\"Hanna\",\"Mortal Kombat: Annihilation\",\"Larry Crowne\",\"Carrie\",\"Take the Lead\",\"Gridiron Gang\",\"What's the Worst That Could Happen?\",\"9\",\"Side Effects\",\"The Prince & Me\",\"Winnie the Pooh\",\"Dumb and Dumberer: When Harry Met Lloyd\",\"Bulworth\",\"Get on Up\",\"One True Thing\",\"Virtuosity\",\"My Super Ex-Girlfriend\",\"Deliver Us from Evil\",\"Sanctum\",\"Little Black Book\",\"The Five-Year Engagement\",\"Mr. 3000\",\"The Next Three Days\",\"Ultraviolet\",\"Assault on Precinct 13\",\"The Replacement Killers\",\"Fled\",\"Eight Legged Freaks\",\"Love & Other Drugs\",\"88 Minutes\",\"North Country\",\"The Whole Ten Yards\",\"Splice\",\"Howard the Duck\",\"Pride and Glory\",\"The Cave\",\"Alex & Emma\",\"Wicker Park\",\"Fright Night\",\"The New World\",\"Wing Commander\",\"In Dreams\",\"Dragonball Evolution\",\"The Last Stand\",\"Godsend\",\"Chasing Liberty\",\"Hoodwinked Too! Hood VS. Evil\",\"An Unfinished Life\",\"The Imaginarium of Doctor Parnassus\",\"Barney's Version\",\"Runner Runner\",\"Antitrust\",\"Glory\",\"Once Upon a Time in America\",\"Dead Man Down\",\"The Merchant of Venice\",\"The Good Thief\",\"Supercross\",\"Miss Potter\",\"The Promise\",\"DOA: Dead or Alive\",\"The Assassination of Jesse James by the Coward Robert Ford\",\"1911\",\"Little Nicholas\",\"Wild Card\",\"Machine Gun Preacher\",\"Animals United\",\"Goodbye Bafana\",\"United Passions\",\"Grace of Monaco\",\"Savva. Heart of the Warrior\",\"Ripley's Game\",\"Sausage Party\",\"Pitch Perfect 2\",\"Walk the Line\",\"Keeping the Faith\",\"The Borrowers\",\"Frost/Nixon\",\"Confessions of a Dangerous Mind\",\"Serving Sara\",\"The Boss\",\"Cry Freedom\",\"Mumford\",\"Seed of Chucky\",\"The Jacket\",\"Aladdin\",\"Straight Outta Compton\",\"Indiana Jones and the Temple of Doom\",\"The Rugrats Movie\",\"Along Came a Spider\",\"Florence Foster Jenkins\",\"Once Upon a Time in Mexico\",\"Die Hard\",\"Role Models\",\"The Big Short\",\"Taking Woodstock\",\"Miracle\",\"Dawn of the Dead\",\"The Wedding Planner\",\"Space Pirate Captain Harlock\",\"The Royal Tenenbaums\",\"Identity\",\"Last Vegas\",\"For Your Eyes Only\",\"Serendipity\",\"Timecop\",\"Zoolander\",\"Safe Haven\",\"Hocus Pocus\",\"No Reservations\",\"Kick-Ass\",\"30 Minutes or Less\",\"Dracula 2000\",\"Alexander and the Terrible, Horrible, No Good, Very Bad Day\",\"Pride & Prejudice\",\"Blade Runner\",\"Rob Roy\",\"3 Days to Kill\",\"We Own the Night\",\"Lost Souls\",\"Winged Migration\",\"Just My Luck\",\"Mystery, Alaska\",\"The Spy Next Door\",\"A Simple Wish\",\"Ghosts of Mars\",\"Our Brand Is Crisis\",\"Pride and Prejudice and Zombies\",\"Kundun\",\"How to Lose Friends & Alienate People\",\"Kick-Ass 2\",\"Alatriste\",\"Brick Mansions\",\"Octopussy\",\"Knocked Up\",\"My Sister's Keeper\",\"Welcome Home Roscoe Jenkins\",\"A Passage to India\",\"Notes on a Scandal\",\"Rendition\",\"Star Trek VI: The Undiscovered Country\",\"Divine Secrets of the Ya-Ya Sisterhood\",\"Kiss the Girls\",\"The Blues Brothers\",\"The Sisterhood of the Traveling Pants 2\",\"Joyful Noise\",\"About a Boy\",\"Lake Placid\",\"Lucky Number Slevin\",\"The Right Stuff\",\"Anonymous\",\"The NeverEnding Story\",\"Dark City\",\"The Duchess\",\"Return to Oz\",\"The Newton Boys\",\"Case 39\",\"Suspect Zero\",\"Martian Child\",\"Spy Kids: All the Time in the World\",\"Money Monster\",\"The 51st State\",\"Flawless\",\"Mindhunters\",\"What Just Happened\",\"The Statement\",\"The Magic Flute\",\"Paul Blart: Mall Cop\",\"Freaky Friday\",\"The 40 Year Old Virgin\",\"Shakespeare in Love\",\"A Walk Among the Tombstones\",\"Kindergarten Cop\",\"Pineapple Express\",\"Ever After: A Cinderella Story\",\"Open Range\",\"Flatliners\",\"A Bridge Too Far\",\"Red Eye\",\"Final Destination 2\",\"O Brother, Where Art Thou?\",\"Legion\",\"Pain & Gain\",\"In Good Company\",\"Clockstoppers\",\"Silverado\",\"Brothers\",\"Agent Cody Banks 2: Destination London\",\"New Year's Eve\",\"Original Sin\",\"The Raven\",\"Welcome to Mooseport\",\"Highlander: The Final Dimension\",\"Blood and Wine\",\"Snow White: A Tale of Terror\",\"The Curse of the Jade Scorpion\",\"Accidental Love\",\"Flipper\",\"Self/less\",\"The Constant Gardener\",\"The Passion of the Christ\",\"Mrs. Doubtfire\",\"Rain Man\",\"Gran Torino\",\"W.\",\"Taken\",\"The Best of Me\",\"The Bodyguard\",\"Schindler's List\",\"The Help\",\"The Fifth Estate\",\"Scooby-Doo 2: Monsters Unleashed\",\"Forbidden Kingdom\",\"Freddy vs. Jason\",\"The Face of an Angel\",\"Jimmy Neutron: Boy Genius\",\"Cloverfield\",\"Teenage Mutant Ninja Turtles II: The Secret of the Ooze\",\"The Untouchables\",\"No Country for Old Men\",\"Ride Along\",\"Bridget Jones's Diary\",\"Chocolat\",\"Legally Blonde 2: Red, White & Blonde\",\"Parental Guidance\",\"No Strings Attached\",\"Tombstone\",\"Romeo Must Die\",\"The Omen\",\"Final Destination 3\",\"The Lucky One\",\"Bridge to Terabithia\",\"Finding Neverland\",\"A Madea Christmas\",\"The Grey\",\"Hide and Seek\",\"Anchorman: The Legend of Ron Burgundy\",\"GoodFellas\",\"Agent Cody Banks\",\"Nanny McPhee\",\"Scarface\",\"Nothing to Lose\",\"The Last Emperor\",\"Contraband\",\"Money Talks\",\"There Will Be Blood\",\"The Wild Thornberrys Movie\",\"Rugrats Go Wild\",\"Undercover Brother\",\"The Sisterhood of the Traveling Pants\",\"Kiss of the Dragon\",\"The House Bunny\",\"Beauty Shop\",\"Million Dollar Arm\",\"The Giver\",\"What a Girl Wants\",\"Jeepers Creepers 2\",\"Good Luck Chuck\",\"Cradle 2 the Grave\",\"The Hours\",\"She's the Man\",\"Mr. Bean's Holiday\",\"Anacondas: The Hunt for the Blood Orchid\",\"Blood Ties\",\"August Rush\",\"Elizabeth\",\"Bride of Chucky\",\"Tora! Tora! Tora!\",\"Spice World\",\"The Sitter\",\"Dance Flick\",\"The Shawshank Redemption\",\"Crocodile Dundee in Los Angeles\",\"Kingpin\",\"The Gambler\",\"August: Osage County\",\"Ice Princess\",\"A Lot Like Love\",\"Eddie the Eagle\",\"He Got Game\",\"Don Juan DeMarco\",\"Dear John\",\"The Losers\",\"Don't Be Afraid of the Dark\",\"War\",\"Punch-Drunk Love\",\"EuroTrip\",\"Half Past Dead\",\"Unaccompanied Minors\",\"Bright Lights, Big City\",\"The Adventures of Pinocchio\",\"The Greatest Game Ever Played\",\"The Box\",\"The Ruins\",\"The Next Best Thing\",\"My Soul to Take\",\"The Girl Next Door\",\"Maximum Risk\",\"Stealing Harvard\",\"Legend\",\"Hot Rod\",\"Shark Night\",\"Angela's Ashes\",\"Draft Day\",\"Lifeforce\",\"The Conspirator\",\"Lords of Dogtown\",\"The 33\",\"Big Trouble in Little China\",\"Fly Me to the Moon\",\"Warrior\",\"Michael Collins\",\"Gettysburg\",\"Stop-Loss\",\"Abandon\",\"Brokedown Palace\",\"The Possession\",\"Mrs. Winterbourne\",\"Straw Dogs\",\"The Hoax\",\"Stone Cold\",\"The Road\",\"Sheena\",\"Underclassman\",\"Say It Isn't So\",\"The World's Fastest Indian\",\"Tank Girl\",\"King's Ransom\",\"Blindness\",\"BloodRayne\",\"Carnage\",\"Where the Truth Lies\",\"Cirque du Soleil: Worlds Away\",\"Without Limits\",\"Me and Orson Welles\",\"The Best Offer\",\"The Bad Lieutenant: Port of Call - New Orleans\",\"A Turtle's Tale: Sammy's Adventures\",\"Little White Lies\",\"Love Ranch\",\"The True Story of Puss 'n Boots\",\"Space Dogs\",\"The Counselor\",\"Ironclad\",\"Waterloo\",\"Kung Fu Jungle\",\"Red Sky\",\"Dangerous Liaisons\",\"On the Road\",\"Star Trek IV: The Voyage Home\",\"Rocky Balboa\",\"Scream 2\",\"Jane Got a Gun\",\"Think Like a Man Too\",\"The Whole Nine Yards\",\"Footloose\",\"Old School\",\"The Fisher King\",\"I Still Know What You Did Last Summer\",\"Return to Me\",\"Zack and Miri Make a Porno\",\"Nurse Betty\",\"The Men Who Stare at Goats\",\"Double Take\",\"Girl, Interrupted\",\"Win a Date with Tad Hamilton!\",\"Muppets from Space\",\"The Wiz\",\"Ready to Rumble\",\"Play It to the Bone\",\"I Don't Know How She Does It\",\"Piranha 3D\",\"Beyond the Sea\",\"Meet the Deedles\",\"The Thief and the Cobbler\",\"The Bridge of San Luis Rey\",\"Faster\",\"Howl's Moving Castle\",\"Zombieland\",\"The Waterboy\",\"The Empire Strikes Back\",\"Bad Boys\",\"The Naked Gun 2\\u00bd: The Smell of Fear\",\"Final Destination\",\"The Ides of March\",\"Pitch Black\",\"Someone Like You...\",\"Her\",\"Joy Ride\",\"The Adventurer: The Curse of the Midas Box\"],\"marker\":{\"color\":[\"red\",\"yellow\",\"red\",\"red\",\"red\",\"orange\",\"green\",\"red\",\"yellow\",\"red\",\"yellow\",\"yellow\",\"yellow\",\"red\",\"red\",\"yellow\",\"black\",\"yellow\",\"red\",\"red\",\"red\",\"red\",\"yellow\",\"yellow\",\"yellow\",\"gold\",\"yellow\",\"blue\",\"red\",\"red\",\"red\",\"red\",\"yellow\",\"yellow\",\"green\",\"black\",\"black\",\"orange\",\"red\",\"yellow\",\"green\",\"yellow\",\"green\",\"red\",\"red\",\"red\",\"red\",\"red\",\"red\",\"gold\",\"yellow\",\"red\",\"red\",\"yellow\",\"yellow\",\"green\",\"red\",\"green\",\"red\",\"red\",\"green\",\"black\",\"red\",\"yellow\",\"black\",\"gold\",\"green\",\"green\",\"red\",\"yellow\",\"red\",\"yellow\",\"red\",\"orange\",\"red\",\"yellow\",\"yellow\",\"gold\",\"yellow\",\"yellow\",\"yellow\",\"orange\",\"black\",\"red\",\"gold\",\"red\",\"yellow\",\"yellow\",\"yellow\",\"yellow\",\"yellow\",\"red\",\"orange\",\"red\",\"red\",\"yellow\",\"red\",\"red\",\"yellow\",\"red\",\"orange\",\"red\",\"red\",\"orange\",\"yellow\",\"orange\",\"orange\",\"red\",\"black\",\"yellow\",\"yellow\",\"yellow\",\"yellow\",\"yellow\",\"yellow\",\"orange\",\"gold\",\"yellow\",\"green\",\"red\",\"yellow\",\"yellow\",\"yellow\",\"yellow\",\"green\",\"yellow\",\"red\",\"red\",\"blue\",\"yellow\",\"green\",\"orange\",\"yellow\",\"yellow\",\"red\",\"gold\",\"yellow\",\"green\",\"red\",\"yellow\",\"red\",\"yellow\",\"yellow\",\"yellow\",\"green\",\"yellow\",\"green\",\"yellow\",\"red\",\"red\",\"red\",\"yellow\",\"red\",\"red\",\"orange\",\"yellow\",\"gold\",\"yellow\",\"black\",\"orange\",\"orange\",\"orange\",\"red\",\"red\",\"red\",\"gold\",\"yellow\",\"red\",\"yellow\",\"red\",\"yellow\",\"yellow\",\"yellow\",\"green\",\"black\",\"yellow\",\"yellow\",\"green\",\"green\",\"yellow\",\"red\",\"yellow\",\"black\",\"yellow\",\"orange\",\"yellow\",\"yellow\",\"red\",\"red\",\"gold\",\"yellow\",\"yellow\",\"gold\",\"black\",\"green\",\"yellow\",\"green\",\"yellow\",\"orange\",\"yellow\",\"black\",\"blue\",\"green\",\"yellow\",\"red\",\"yellow\",\"yellow\",\"red\",\"yellow\",\"red\",\"red\",\"yellow\",\"red\",\"yellow\",\"gold\",\"yellow\",\"yellow\",\"blue\",\"red\",\"red\",\"black\",\"yellow\",\"black\",\"red\",\"red\",\"red\",\"yellow\",\"red\",\"red\",\"black\",\"yellow\",\"green\",\"red\",\"yellow\",\"yellow\",\"orange\",\"gold\",\"red\",\"black\",\"black\",\"red\",\"orange\",\"red\",\"red\",\"red\",\"yellow\",\"gold\",\"blue\",\"red\",\"yellow\",\"gold\",\"yellow\",\"red\",\"red\",\"green\",\"green\",\"yellow\",\"red\",\"orange\",\"red\",\"black\",\"red\",\"yellow\",\"red\",\"gold\",\"yellow\",\"red\",\"gold\",\"green\",\"gold\",\"gold\",\"red\",\"yellow\",\"red\",\"red\",\"red\",\"yellow\",\"yellow\",\"blue\",\"red\",\"yellow\",\"gold\",\"red\",\"blue\",\"yellow\",\"red\",\"red\",\"gold\",\"gold\",\"yellow\",\"red\",\"yellow\",\"orange\",\"yellow\",\"green\",\"red\",\"red\",\"gold\",\"purple\",\"red\",\"yellow\",\"gold\",\"green\",\"red\",\"red\",\"yellow\",\"yellow\",\"red\",\"red\",\"orange\",\"blue\",\"red\",\"yellow\",\"green\",\"purple\",\"yellow\",\"gold\",\"gold\",\"green\",\"red\",\"red\",\"yellow\",\"yellow\",\"yellow\",\"yellow\",\"green\",\"gold\",\"orange\",\"green\",\"yellow\",\"yellow\",\"yellow\",\"yellow\",\"blue\",\"yellow\",\"blue\",\"yellow\",\"red\",\"yellow\",\"red\",\"red\",\"yellow\",\"red\",\"green\",\"red\",\"red\",\"gold\",\"green\",\"green\",\"yellow\",\"red\",\"gold\",\"green\",\"red\",\"blue\",\"red\",\"red\",\"gold\",\"green\",\"yellow\",\"gold\",\"yellow\",\"red\",\"gold\",\"blue\",\"gold\",\"red\",\"purple\",\"yellow\",\"red\",\"red\",\"blue\",\"red\",\"black\",\"green\",\"yellow\",\"black\",\"purple\",\"gold\",\"yellow\",\"gold\",\"orange\",\"gold\",\"red\",\"yellow\",\"green\",\"red\",\"red\",\"blue\",\"yellow\",\"green\",\"yellow\",\"red\",\"yellow\",\"red\",\"yellow\",\"red\",\"yellow\",\"purple\",\"yellow\",\"yellow\",\"yellow\",\"yellow\",\"yellow\",\"gold\",\"red\",\"gold\",\"orange\",\"red\",\"gold\",\"yellow\",\"red\",\"red\",\"orange\",\"yellow\",\"red\",\"yellow\",\"yellow\",\"yellow\",\"yellow\",\"yellow\",\"purple\",\"black\",\"orange\",\"blue\",\"yellow\",\"black\",\"yellow\",\"red\",\"yellow\",\"green\",\"yellow\",\"red\",\"red\",\"yellow\",\"yellow\",\"yellow\",\"red\",\"gold\",\"gold\",\"yellow\",\"green\",\"red\",\"orange\",\"blue\",\"gold\",\"red\",\"yellow\",\"gold\",\"red\",\"yellow\",\"yellow\",\"green\",\"red\",\"gold\",\"red\",\"yellow\",\"red\",\"yellow\",\"yellow\",\"yellow\",\"yellow\",\"gold\",\"gold\",\"green\",\"green\",\"black\",\"red\",\"red\",\"red\",\"gold\",\"yellow\",\"yellow\",\"yellow\",\"yellow\",\"red\",\"red\",\"gold\",\"red\",\"green\",\"red\",\"green\",\"gold\",\"red\",\"gold\",\"yellow\",\"orange\",\"blue\",\"yellow\",\"yellow\",\"blue\",\"red\",\"yellow\",\"gold\",\"yellow\",\"yellow\",\"green\",\"purple\",\"yellow\",\"yellow\",\"red\",\"yellow\",\"black\",\"red\",\"green\",\"orange\",\"green\",\"red\",\"yellow\",\"yellow\",\"gold\",\"yellow\",\"red\",\"red\",\"green\",\"yellow\",\"yellow\",\"yellow\",\"red\",\"blue\",\"yellow\",\"yellow\",\"yellow\",\"red\",\"yellow\",\"green\",\"gold\",\"yellow\",\"gold\",\"red\",\"red\",\"yellow\",\"yellow\",\"green\",\"red\",\"red\",\"gold\",\"orange\",\"yellow\",\"green\",\"red\",\"red\",\"red\",\"yellow\",\"red\",\"black\",\"yellow\",\"red\",\"purple\",\"black\",\"yellow\",\"gold\",\"yellow\",\"blue\",\"yellow\",\"yellow\",\"red\",\"gold\",\"green\",\"gold\",\"red\",\"yellow\",\"gold\",\"yellow\",\"gold\",\"yellow\",\"green\",\"yellow\",\"red\",\"green\",\"red\",\"gold\",\"yellow\",\"red\",\"red\",\"gold\",\"gold\",\"yellow\",\"yellow\",\"red\",\"red\",\"black\",\"red\",\"yellow\",\"orange\",\"gold\",\"yellow\",\"yellow\",\"gold\",\"yellow\",\"gold\",\"yellow\",\"yellow\",\"yellow\",\"red\",\"yellow\",\"red\",\"orange\",\"yellow\",\"gold\",\"red\",\"red\",\"red\",\"blue\",\"yellow\",\"green\",\"purple\",\"yellow\",\"purple\",\"red\",\"red\",\"blue\",\"yellow\",\"red\",\"green\",\"red\",\"yellow\",\"yellow\",\"yellow\",\"yellow\",\"gold\",\"red\",\"red\",\"yellow\",\"red\",\"gold\",\"yellow\",\"red\",\"gold\",\"red\",\"yellow\",\"green\",\"gold\",\"yellow\",\"red\",\"gold\",\"orange\",\"gold\",\"yellow\",\"yellow\",\"red\",\"yellow\",\"gold\",\"red\",\"red\",\"red\",\"orange\",\"gold\",\"gold\",\"yellow\",\"yellow\",\"yellow\",\"gold\",\"red\",\"black\",\"red\",\"yellow\",\"red\",\"red\",\"purple\",\"red\",\"yellow\",\"gold\",\"gold\",\"red\",\"red\",\"yellow\",\"purple\",\"red\",\"purple\",\"gold\",\"yellow\",\"purple\",\"yellow\",\"green\",\"yellow\",\"gold\",\"red\",\"red\",\"yellow\",\"red\",\"yellow\",\"yellow\",\"red\",\"purple\",\"red\",\"green\",\"red\",\"yellow\",\"yellow\",\"orange\",\"red\",\"green\",\"yellow\",\"red\",\"yellow\",\"purple\",\"yellow\",\"yellow\",\"yellow\",\"red\",\"yellow\",\"red\",\"gold\",\"yellow\",\"yellow\",\"yellow\",\"yellow\",\"red\",\"gold\",\"yellow\",\"red\",\"gold\",\"gold\",\"gold\",\"red\",\"gold\",\"purple\",\"red\",\"yellow\",\"gold\",\"yellow\",\"green\",\"blue\",\"red\",\"yellow\",\"yellow\",\"yellow\",\"orange\",\"gold\",\"yellow\",\"red\",\"red\",\"gold\",\"yellow\",\"blue\",\"red\",\"red\",\"gold\",\"red\",\"black\",\"red\",\"green\",\"gold\",\"yellow\",\"red\",\"yellow\",\"purple\",\"yellow\",\"gold\",\"red\",\"gold\",\"yellow\",\"red\",\"black\",\"black\",\"purple\",\"gold\",\"purple\",\"yellow\",\"yellow\",\"red\",\"red\",\"gold\",\"orange\",\"gold\",\"green\",\"red\",\"red\",\"yellow\",\"yellow\",\"gold\",\"gold\",\"red\",\"red\",\"yellow\",\"gold\",\"red\",\"yellow\",\"gold\",\"yellow\",\"yellow\",\"red\",\"yellow\",\"yellow\",\"gold\",\"red\",\"red\",\"red\",\"gold\",\"yellow\",\"yellow\",\"yellow\",\"black\",\"red\",\"yellow\",\"yellow\",\"yellow\",\"yellow\",\"red\",\"gold\",\"gold\",\"yellow\",\"orange\",\"red\",\"red\",\"gold\",\"red\",\"yellow\",\"yellow\",\"yellow\",\"yellow\",\"yellow\",\"red\",\"orange\",\"yellow\",\"yellow\",\"yellow\",\"red\",\"yellow\",\"orange\",\"blue\",\"yellow\",\"red\",\"gold\",\"blue\",\"gold\",\"gold\",\"red\",\"yellow\",\"red\",\"red\",\"orange\",\"yellow\",\"red\",\"yellow\",\"red\",\"green\",\"black\",\"yellow\",\"red\",\"yellow\",\"yellow\",\"yellow\",\"gold\",\"gold\",\"yellow\",\"yellow\",\"green\",\"purple\",\"red\",\"gold\",\"blue\",\"gold\",\"red\",\"gold\",\"red\",\"yellow\",\"yellow\",\"red\",\"gold\",\"gold\",\"gold\",\"red\",\"orange\",\"gold\",\"red\",\"purple\",\"yellow\",\"yellow\",\"red\",\"gold\",\"gold\",\"red\",\"green\",\"gold\",\"yellow\",\"purple\",\"yellow\",\"gold\",\"blue\",\"gold\",\"gold\",\"gold\",\"blue\",\"gold\",\"yellow\",\"yellow\",\"red\",\"gold\",\"yellow\",\"yellow\",\"gold\",\"red\",\"red\",\"yellow\",\"green\",\"yellow\",\"yellow\",\"yellow\",\"black\",\"yellow\",\"yellow\",\"yellow\",\"yellow\",\"yellow\",\"yellow\",\"yellow\",\"blue\",\"gold\",\"yellow\",\"purple\",\"yellow\",\"yellow\",\"red\",\"gold\",\"yellow\",\"orange\",\"purple\",\"gold\",\"red\",\"gold\",\"red\",\"yellow\",\"gold\",\"yellow\",\"green\",\"yellow\",\"gold\",\"red\",\"red\",\"yellow\",\"red\",\"red\",\"yellow\",\"yellow\",\"blue\",\"orange\",\"blue\",\"red\",\"gold\",\"red\",\"gold\",\"blue\",\"purple\",\"red\",\"gold\",\"yellow\",\"yellow\",\"yellow\",\"red\",\"red\",\"red\",\"yellow\",\"gold\",\"red\",\"yellow\",\"yellow\",\"blue\",\"red\",\"yellow\",\"gold\",\"gold\",\"red\",\"gold\",\"gold\",\"yellow\",\"gold\",\"purple\",\"red\",\"purple\",\"yellow\",\"red\",\"red\",\"purple\",\"gold\",\"red\",\"yellow\",\"yellow\",\"yellow\",\"gold\",\"yellow\",\"red\",\"blue\",\"red\",\"yellow\",\"yellow\",\"gold\",\"red\",\"red\",\"gold\",\"gold\",\"red\",\"red\",\"red\",\"orange\",\"yellow\",\"yellow\",\"yellow\",\"yellow\",\"orange\",\"red\",\"red\",\"red\",\"gold\",\"blue\",\"yellow\",\"gold\",\"purple\",\"gold\",\"purple\",\"yellow\",\"red\",\"purple\",\"yellow\",\"gold\",\"yellow\",\"orange\",\"yellow\",\"yellow\",\"blue\",\"gold\",\"yellow\",\"gold\",\"yellow\",\"gold\",\"yellow\",\"red\",\"gold\",\"green\",\"gold\",\"yellow\",\"yellow\",\"purple\",\"black\",\"red\",\"gold\",\"yellow\",\"purple\",\"gold\",\"orange\",\"red\",\"yellow\",\"yellow\",\"red\",\"yellow\",\"gold\",\"gold\",\"gold\",\"gold\",\"gold\",\"gold\",\"red\",\"yellow\",\"yellow\",\"yellow\",\"yellow\",\"gold\",\"red\",\"yellow\",\"yellow\",\"yellow\",\"yellow\",\"yellow\",\"red\",\"yellow\",\"yellow\",\"gold\",\"yellow\",\"yellow\",\"yellow\",\"yellow\",\"yellow\",\"red\",\"yellow\",\"purple\",\"red\",\"yellow\",\"orange\",\"red\",\"yellow\",\"gold\",\"red\",\"red\",\"red\",\"yellow\",\"yellow\",\"purple\",\"yellow\",\"yellow\",\"gold\",\"yellow\",\"blue\",\"yellow\",\"gold\",\"red\",\"red\",\"red\",\"gold\",\"red\",\"purple\",\"green\",\"gold\",\"yellow\",\"red\",\"purple\",\"red\",\"gold\",\"green\",\"red\",\"orange\",\"gold\",\"gold\",\"yellow\",\"red\",\"gold\",\"gold\",\"gold\",\"red\",\"red\",\"gold\",\"green\",\"yellow\",\"yellow\",\"red\",\"gold\",\"yellow\",\"gold\",\"yellow\",\"gold\",\"yellow\",\"yellow\",\"orange\",\"red\",\"yellow\",\"purple\",\"gold\",\"red\",\"red\",\"yellow\",\"red\",\"gold\",\"yellow\",\"yellow\",\"blue\",\"yellow\",\"red\",\"yellow\",\"gold\",\"gold\",\"yellow\",\"purple\",\"yellow\",\"red\",\"gold\",\"red\",\"purple\",\"yellow\",\"red\",\"yellow\",\"yellow\",\"gold\",\"yellow\",\"yellow\",\"yellow\",\"yellow\",\"yellow\",\"gold\",\"gold\",\"gold\",\"blue\",\"yellow\",\"yellow\",\"yellow\",\"red\",\"red\",\"gold\",\"red\",\"gold\",\"yellow\",\"yellow\",\"gold\",\"yellow\",\"red\",\"yellow\",\"yellow\",\"yellow\",\"blue\",\"red\",\"yellow\",\"gold\",\"yellow\",\"red\",\"red\",\"purple\",\"red\",\"gold\",\"yellow\",\"green\",\"red\",\"red\",\"red\",\"yellow\",\"blue\",\"gold\",\"gold\",\"orange\",\"yellow\",\"yellow\",\"gold\",\"yellow\",\"gold\",\"yellow\",\"orange\",\"yellow\",\"gold\",\"yellow\",\"yellow\",\"yellow\",\"yellow\",\"blue\",\"gold\",\"yellow\",\"yellow\",\"yellow\",\"yellow\",\"gold\",\"yellow\",\"yellow\",\"yellow\",\"yellow\",\"gold\",\"yellow\",\"gold\",\"purple\",\"gold\",\"gold\",\"yellow\",\"orange\",\"red\",\"gold\",\"gold\",\"yellow\",\"gold\",\"yellow\",\"red\",\"orange\",\"purple\",\"gold\",\"red\",\"gold\",\"gold\",\"gold\",\"red\",\"red\",\"blue\",\"red\",\"yellow\",\"yellow\",\"yellow\",\"yellow\",\"yellow\",\"yellow\",\"yellow\",\"gold\",\"yellow\",\"yellow\",\"red\",\"yellow\",\"red\",\"red\",\"red\",\"red\",\"red\",\"yellow\",\"black\",\"gold\",\"yellow\",\"red\",\"yellow\",\"blue\",\"red\",\"red\",\"yellow\",\"red\",\"red\",\"red\",\"yellow\",\"red\",\"orange\",\"red\",\"gold\",\"yellow\",\"green\",\"black\",\"gold\",\"yellow\",\"yellow\",\"yellow\",\"yellow\",\"yellow\",\"yellow\",\"red\",\"black\",\"red\",\"gold\",\"yellow\",\"gold\",\"gold\",\"purple\",\"red\",\"gold\",\"yellow\",\"yellow\",\"gold\",\"yellow\",\"gold\",\"red\",\"yellow\",\"black\",\"red\",\"red\",\"yellow\",\"gold\",\"yellow\",\"gold\",\"yellow\",\"gold\",\"purple\",\"gold\",\"yellow\",\"yellow\",\"gold\",\"gold\",\"red\",\"yellow\",\"gold\",\"yellow\",\"gold\",\"red\",\"yellow\",\"red\",\"gold\",\"yellow\",\"black\",\"yellow\",\"blue\",\"red\",\"gold\",\"yellow\",\"gold\",\"gold\",\"blue\",\"gold\",\"green\",\"yellow\",\"yellow\",\"red\",\"yellow\",\"orange\",\"gold\",\"yellow\",\"gold\",\"red\",\"yellow\",\"gold\",\"yellow\",\"black\",\"yellow\",\"purple\",\"gold\",\"yellow\",\"yellow\",\"gold\",\"purple\",\"yellow\",\"yellow\",\"black\",\"yellow\",\"yellow\",\"red\",\"gold\",\"yellow\",\"gold\",\"gold\",\"yellow\",\"yellow\",\"gold\",\"yellow\",\"yellow\",\"orange\",\"yellow\",\"yellow\",\"yellow\",\"purple\",\"yellow\",\"yellow\",\"yellow\",\"red\",\"red\",\"yellow\",\"yellow\",\"yellow\",\"yellow\",\"red\",\"gold\",\"gold\",\"yellow\",\"gold\",\"gold\",\"yellow\",\"gold\",\"black\",\"gold\",\"yellow\",\"black\",\"yellow\",\"red\",\"purple\",\"purple\",\"yellow\",\"purple\",\"gold\",\"yellow\",\"gold\",\"blue\",\"green\",\"yellow\",\"red\",\"blue\",\"yellow\",\"purple\",\"red\",\"yellow\",\"red\",\"yellow\",\"yellow\",\"red\",\"orange\",\"red\",\"red\",\"yellow\",\"gold\",\"red\",\"gold\",\"red\",\"gold\",\"red\",\"red\",\"gold\",\"red\",\"yellow\",\"yellow\",\"orange\",\"yellow\",\"gold\",\"red\",\"red\",\"blue\",\"red\",\"yellow\",\"gold\",\"gold\",\"red\",\"gold\",\"red\",\"yellow\",\"gold\",\"gold\",\"red\",\"red\",\"green\",\"gold\",\"gold\",\"gold\",\"yellow\",\"gold\",\"gold\",\"gold\",\"red\",\"purple\",\"yellow\",\"yellow\",\"yellow\",\"red\",\"yellow\",\"red\",\"gold\",\"red\",\"yellow\",\"yellow\",\"red\",\"gold\",\"yellow\",\"yellow\",\"gold\",\"yellow\",\"orange\",\"yellow\",\"yellow\",\"red\",\"yellow\",\"gold\",\"red\",\"yellow\",\"purple\",\"blue\",\"red\",\"blue\",\"yellow\",\"red\",\"gold\",\"gold\",\"red\",\"red\",\"red\",\"gold\",\"red\",\"orange\",\"orange\",\"yellow\",\"green\",\"gold\",\"yellow\",\"yellow\",\"gold\",\"yellow\",\"yellow\",\"red\",\"gold\",\"gold\",\"red\",\"yellow\",\"gold\",\"yellow\",\"purple\",\"yellow\",\"yellow\",\"red\",\"yellow\",\"yellow\",\"green\",\"red\",\"gold\",\"gold\",\"gold\",\"red\",\"gold\",\"yellow\",\"yellow\",\"purple\",\"yellow\",\"yellow\",\"purple\",\"black\",\"green\",\"blue\",\"gold\",\"yellow\",\"gold\",\"yellow\",\"yellow\",\"yellow\",\"gold\",\"yellow\",\"gold\",\"gold\",\"yellow\",\"red\",\"orange\",\"orange\",\"gold\",\"yellow\",\"red\",\"yellow\",\"gold\",\"yellow\",\"red\",\"yellow\",\"orange\",\"green\",\"purple\",\"gold\",\"black\",\"yellow\",\"yellow\",\"yellow\",\"yellow\",\"gold\",\"yellow\",\"gold\",\"yellow\",\"red\",\"yellow\",\"gold\",\"gold\",\"red\",\"red\",\"yellow\",\"orange\",\"yellow\",\"gold\",\"yellow\",\"yellow\",\"yellow\",\"yellow\",\"yellow\",\"yellow\",\"red\",\"yellow\",\"red\",\"red\",\"yellow\",\"gold\",\"yellow\",\"red\",\"red\",\"red\",\"blue\",\"yellow\",\"green\",\"yellow\",\"yellow\",\"gold\",\"gold\",\"red\",\"orange\",\"blue\",\"red\",\"yellow\",\"yellow\",\"yellow\",\"gold\",\"black\",\"blue\",\"red\",\"red\",\"red\",\"gold\",\"purple\",\"gold\",\"yellow\",\"yellow\",\"yellow\",\"blue\",\"red\",\"yellow\",\"gold\",\"yellow\",\"gold\",\"red\",\"gold\",\"red\",\"red\",\"gold\",\"yellow\",\"yellow\",\"gold\",\"yellow\",\"yellow\",\"purple\",\"red\",\"yellow\",\"gold\",\"blue\",\"gold\",\"purple\",\"red\",\"gold\",\"orange\",\"yellow\",\"red\",\"yellow\",\"yellow\",\"blue\",\"red\",\"green\",\"yellow\",\"gold\",\"gold\",\"orange\",\"purple\",\"yellow\",\"yellow\",\"gold\",\"yellow\",\"yellow\",\"gold\",\"yellow\",\"yellow\",\"yellow\",\"gold\",\"yellow\",\"gold\",\"gold\",\"green\",\"gold\",\"yellow\",\"green\",\"purple\",\"yellow\",\"red\",\"red\",\"yellow\",\"yellow\",\"yellow\",\"gold\",\"orange\",\"yellow\",\"green\",\"yellow\",\"yellow\",\"yellow\",\"yellow\",\"yellow\",\"blue\",\"yellow\",\"gold\",\"yellow\",\"yellow\",\"red\",\"red\",\"blue\",\"yellow\",\"gold\",\"black\",\"yellow\",\"red\",\"gold\",\"yellow\",\"yellow\",\"yellow\",\"gold\",\"red\",\"yellow\",\"red\",\"yellow\",\"gold\",\"gold\",\"yellow\",\"red\",\"red\",\"red\",\"yellow\",\"yellow\",\"gold\",\"yellow\",\"gold\",\"gold\",\"gold\",\"black\",\"yellow\",\"gold\",\"yellow\",\"yellow\",\"yellow\",\"gold\",\"yellow\",\"gold\",\"gold\",\"gold\",\"gold\",\"yellow\",\"gold\",\"yellow\",\"purple\",\"yellow\",\"purple\",\"gold\",\"yellow\",\"blue\",\"blue\",\"yellow\",\"yellow\",\"yellow\",\"gold\",\"yellow\",\"red\",\"yellow\",\"yellow\",\"gold\",\"purple\",\"yellow\",\"red\",\"gold\",\"yellow\",\"gold\",\"gold\",\"yellow\",\"yellow\",\"red\",\"yellow\",\"blue\",\"yellow\",\"yellow\",\"red\",\"gold\",\"yellow\",\"yellow\",\"gold\",\"purple\",\"yellow\",\"red\",\"purple\",\"orange\",\"yellow\",\"gold\",\"yellow\",\"black\",\"gold\",\"gold\",\"yellow\",\"gold\",\"gold\",\"gold\",\"red\",\"gold\",\"blue\",\"gold\",\"gold\",\"gold\",\"yellow\",\"blue\",\"yellow\",\"blue\",\"red\",\"red\",\"black\",\"purple\",\"purple\",\"red\",\"yellow\",\"yellow\",\"yellow\",\"yellow\",\"yellow\",\"red\",\"red\",\"yellow\",\"yellow\",\"gold\",\"yellow\",\"gold\",\"yellow\",\"red\",\"yellow\",\"yellow\",\"gold\",\"red\",\"orange\",\"red\",\"red\",\"gold\",\"blue\",\"red\",\"gold\",\"green\",\"green\",\"red\",\"gold\",\"red\",\"gold\",\"yellow\",\"gold\",\"gold\",\"yellow\",\"yellow\",\"yellow\",\"red\",\"gold\",\"yellow\",\"yellow\",\"yellow\",\"blue\",\"gold\",\"gold\",\"yellow\",\"yellow\",\"yellow\",\"yellow\",\"red\",\"gold\",\"yellow\",\"yellow\",\"blue\",\"yellow\",\"gold\",\"yellow\",\"yellow\",\"gold\",\"gold\",\"gold\",\"red\",\"orange\",\"red\",\"yellow\",\"yellow\",\"purple\",\"yellow\",\"gold\",\"green\",\"gold\",\"blue\",\"gold\",\"yellow\",\"gold\",\"yellow\",\"red\",\"red\",\"purple\",\"red\",\"yellow\",\"gold\",\"gold\",\"orange\",\"purple\",\"gold\",\"gold\",\"red\",\"yellow\",\"red\",\"gold\",\"yellow\",\"gold\",\"gold\",\"gold\",\"yellow\",\"yellow\",\"gold\",\"yellow\",\"red\",\"yellow\",\"red\",\"red\",\"yellow\",\"gold\",\"red\",\"yellow\",\"gold\",\"red\",\"yellow\",\"gold\",\"orange\",\"gold\",\"yellow\",\"gold\",\"gold\",\"green\",\"yellow\",\"gold\",\"yellow\",\"yellow\",\"blue\",\"gold\",\"yellow\",\"purple\",\"red\",\"gold\",\"yellow\",\"black\",\"gold\",\"yellow\",\"red\",\"yellow\",\"yellow\",\"gold\",\"yellow\",\"yellow\",\"yellow\",\"gold\",\"yellow\",\"yellow\",\"yellow\",\"yellow\",\"gold\",\"yellow\",\"orange\",\"yellow\",\"red\",\"yellow\",\"gold\",\"yellow\",\"gold\",\"green\",\"yellow\",\"gold\",\"purple\",\"orange\",\"yellow\",\"yellow\",\"yellow\",\"red\",\"yellow\",\"yellow\",\"gold\",\"blue\",\"yellow\",\"gold\",\"yellow\",\"orange\"],\"size\":8},\"mode\":\"markers\",\"x\":[2009,2007,2015,2012,2012,2007,2010,2015,2009,2016,2006,2008,2006,2013,2013,2008,2012,2011,2012,2014,2012,2010,2013,2007,2005,1997,2016,2012,2015,2012,2004,2013,2010,2006,2013,2009,2014,2013,2014,2010,2011,2011,2010,2009,2015,2013,2014,2013,2013,2013,2010,2013,2011,2008,2015,2012,2016,2008,2007,2009,2009,2015,2016,2005,2016,2008,2009,2009,2008,2011,1999,2008,2016,2007,2014,1995,2009,2015,2016,2010,2012,2014,2014,2015,2013,2014,2010,2015,2014,2012,2004,2016,2010,2003,2014,2014,2010,2016,2012,2001,2008,2011,2015,2010,2006,2016,2007,2016,2015,2010,2001,2007,2004,2007,2005,2008,2007,2005,2007,2005,2008,2009,2009,2003,2013,2003,2013,2015,2009,2011,2008,2009,2012,2012,2015,2010,2007,2011,2010,2006,2013,2011,2006,2015,2014,2004,2012,2002,2016,1998,2002,2007,2016,2011,2012,2005,2003,2014,2009,2002,2014,2016,2005,2009,1998,2003,2013,2005,2001,2011,1999,2003,2012,2011,2008,2016,2015,2013,2011,2014,2007,2008,2015,2013,2015,2005,2003,2011,2010,2014,2011,2004,2008,2013,2000,2014,2010,2001,2013,2003,2014,2006,2014,2003,2011,2011,2010,1990,1999,2012,1997,2000,2004,2000,2000,2007,2012,2007,2016,2003,2012,2002,2013,2004,2014,2008,2010,2010,2013,2005,2002,2001,2013,1999,2013,2008,2002,2016,2014,2013,1997,2016,2015,2006,2015,1997,2000,2004,2005,2015,2004,2010,2011,2014,2011,2004,2016,2011,2013,1997,2013,2007,2001,2004,2001,2003,2004,2005,1999,2009,2015,2005,2001,2000,2000,2002,2002,2006,2001,1991,2009,2007,1994,2009,2010,2010,1996,2012,1996,2000,2012,2004,2006,2009,2013,2010,1999,2006,2013,1995,1997,2012,2010,2004,2014,2002,2009,2014,2015,2005,2015,2002,2010,2015,1997,2001,2002,2011,2007,2004,2001,2012,1997,2010,2000,2012,2015,2009,2003,2003,2002,2014,2001,2014,2001,2011,2008,2013,2004,2004,1995,2010,1997,1999,2010,2001,2000,2009,2009,2013,2000,2006,1998,2008,2011,1995,2009,2016,2001,2015,2008,2008,2015,2001,2003,1997,2000,2005,2013,2003,2016,1997,2001,2000,2011,1999,1997,1997,2002,1982,2005,2010,2003,1996,2000,2006,2004,1997,2001,2011,2012,2007,2012,2000,2011,2006,1998,2009,2007,2006,2014,2001,2003,1993,2005,2006,2011,1998,2002,1979,2012,2010,2003,2000,2002,2012,2006,1982,2010,2008,2008,2007,2000,2003,2010,1996,2012,2011,1992,2006,2002,2006,1998,2013,2005,2011,2013,2008,2003,2010,2008,2005,1997,2008,2002,2011,1997,2008,2003,2010,1997,1999,1996,2006,2008,1997,2014,1998,2010,2002,2011,1998,2004,1998,2015,1999,2002,1998,2001,2005,1998,2000,2005,1996,2015,1997,2009,2000,1996,2013,2000,2003,2009,2003,1997,1998,2015,2000,2006,2009,2005,2014,2015,2001,1994,2012,2013,2002,2004,2011,2003,2015,2007,2000,2016,2003,2013,1996,1997,2005,2006,2000,2008,1996,2006,2004,2007,2004,1999,2013,2010,2004,2009,2000,2007,2004,2006,2005,2005,2003,2010,2015,2004,2006,2001,1995,1999,2011,2005,2000,2003,1998,2009,2001,2004,2000,2015,2011,1998,1998,2016,2008,2009,2007,2006,2001,1995,2005,2007,2001,2001,2004,2004,1998,2002,2004,2006,1999,2002,2015,1996,2009,1991,1990,2003,2001,2006,2004,2009,2002,2013,1998,2011,2003,1994,2011,2014,1989,2010,2014,1998,2007,1997,2011,2002,2005,2002,2012,2012,2002,2011,2002,2002,1998,2001,2013,2015,2004,2006,2013,2014,2002,2010,2001,2010,1995,2015,2009,1999,2011,1999,2016,2008,2010,2012,1999,1998,2007,1998,2014,2000,2002,2003,2012,1999,1995,2002,2012,1998,2008,1998,2010,2014,2000,1993,1996,2000,2006,2003,2012,1999,2014,2015,2012,2004,1984,1998,2012,2008,1996,2000,2005,1999,2006,1991,2000,2014,2005,2005,2014,1999,2015,2006,2002,2009,1993,1994,1994,2015,2006,2000,1995,2008,2001,2015,2007,2011,2006,2004,2008,1999,2007,2005,2014,2002,1995,1999,1998,1998,2003,2013,2001,2003,2002,1998,2009,1990,2005,2015,2010,2000,2010,1999,1998,2004,2002,2004,2012,1999,2009,2011,2003,2009,2008,2004,2006,2004,1996,2004,1998,2012,1997,2003,1996,2008,2002,1995,2014,2015,2016,1997,2007,2014,1998,2014,2005,2002,2013,2009,2009,2009,2009,1999,2006,2009,2002,2003,2012,2010,1997,2002,2008,1998,2009,2000,2000,2006,2005,2011,2003,1997,2002,2006,2006,2001,2000,2014,2013,2008,2005,1999,2008,2008,2015,2007,2003,2016,2005,2016,1998,2014,2015,2005,2000,1988,2008,2015,2009,2013,2010,2012,1997,2012,1996,2004,2011,2001,2005,2004,1994,2007,2000,1995,1978,1996,2005,1997,2003,2013,2010,1995,2014,2002,1995,2006,2005,1994,1998,2003,1999,2004,1989,1992,2000,1996,2011,2008,2013,1992,1996,1998,1996,2014,2012,2003,1999,2003,2008,2012,2008,1996,1996,2004,2007,2005,2003,1997,2009,2014,2004,2010,2004,1962,2002,2002,2008,2013,1990,2005,2006,1980,2003,2006,2000,1997,2001,2001,2015,2006,2009,2007,1998,2007,2002,2012,2006,2008,2010,2005,1998,2011,1999,1995,2010,2003,2000,2006,2006,2009,2001,2011,1991,1996,2012,1997,1998,2013,2002,2011,2000,2003,2014,1994,2008,2016,1998,2015,2014,2006,1999,1995,2011,2009,2006,2005,2011,2004,2004,2011,1995,2014,2009,2006,2003,2006,2005,2001,2013,2002,2011,2005,2016,2014,2006,1997,1997,1997,2006,2000,2012,1998,2014,1994,1990,2014,1997,2004,2004,2003,1994,2005,2000,2004,2009,1999,1996,2010,2010,2002,1995,2007,1999,2013,2003,2002,2009,1996,1999,2004,2016,2003,2005,2015,2007,2005,1999,2011,2011,1997,1994,1995,2010,2005,1995,2009,2013,2002,2016,2004,2000,2011,2009,2001,1990,2009,2000,1989,2012,2015,1999,2002,2006,1999,2015,2001,2001,2001,2000,1984,2007,2014,1998,1996,1998,1990,1999,2001,1982,1972,2006,1996,1997,2001,2002,1996,2010,1996,1997,2016,1981,1994,2012,2003,2000,2008,2004,1993,1994,2007,1992,2005,2013,2001,1999,2001,2011,1998,2005,2002,1997,2000,2003,1998,2001,1994,1996,1968,2005,2005,2004,2007,2014,2006,1994,1995,2012,2004,2003,2006,1984,2007,2008,2006,2008,1996,1996,2009,2001,2005,1996,2000,1995,2010,1998,2008,2006,2008,2002,2007,1997,2011,2012,2012,1993,2010,1996,1985,1996,1940,1980,2006,2015,2000,2000,2005,2002,1993,2010,2011,2012,1999,2000,2004,1992,2013,1963,2012,2002,1996,2002,2009,1989,2011,2001,1993,2005,2002,2012,2014,2010,2009,2002,2015,2001,2003,1999,2012,2011,1984,2013,2009,1999,1989,2014,2015,2003,1996,2003,2013,1992,2016,2010,2009,2006,2000,1990,2015,1992,2009,2013,1999,2014,2006,2015,2016,1992,2004,2005,2008,2009,2001,1991,2006,2001,2009,2014,2009,2015,2001,2010,2004,1998,1997,2002,2011,2011,2006,2014,2013,2006,1987,2010,1986,2004,2006,2005,2012,2008,2014,1997,2003,1997,1992,2007,1994,2000,2007,2011,2012,2011,1999,1991,2014,2000,2011,1999,2000,2005,2008,2014,1994,2011,2010,2005,2000,2005,2000,1999,1996,2001,2008,2001,2007,1973,1994,2011,1998,2002,1999,2004,1996,1995,2006,1995,2000,2012,1987,2009,2002,1992,2001,2004,2004,2012,1999,2002,2009,2003,2008,1980,1999,2009,2001,2002,2001,2007,2012,2008,2015,2006,2007,1995,2007,1994,2007,2005,2013,2011,2004,1994,2015,2009,2007,2012,2005,2004,1983,2013,2008,2002,2009,1996,2002,1994,2013,2011,2014,1999,2002,2001,2015,2001,2001,1999,1996,2001,2009,1996,1982,2013,1997,2001,2008,2012,2007,2008,2016,2015,2010,2012,2008,2008,2013,1999,2010,2016,2011,2008,2002,1999,2013,2008,1997,1983,2010,2014,2000,2003,2015,1996,1999,2011,1997,2000,2008,2003,2009,2015,1999,1989,2011,1992,2009,2001,2011,2010,2006,1979,2013,1991,2008,2015,2005,1996,1997,2005,1997,1995,1984,2000,1998,2010,2007,2003,2011,2016,2013,1992,2012,2009,2009,2007,2006,2005,1997,2002,1982,2004,2008,2011,2010,2011,2001,1976,1994,2002,2006,2005,2004,2011,2008,2002,1990,2008,1999,1980,2004,2012,1997,2015,2010,1992,2008,2004,2015,2011,2005,2000,2008,2013,2005,2012,2015,2002,2013,2004,2010,2012,1983,2007,1991,2007,2001,2001,2009,2009,2011,1998,2014,2003,2008,2006,2015,1997,2006,1992,1993,1997,2002,1981,1995,1999,2010,2006,2009,2014,2015,1993,2006,1999,2012,2008,2015,1999,2000,2012,2013,1981,1992,2001,2000,2013,2011,2012,2006,2000,2004,2005,2012,1999,1983,2008,2008,2012,2003,1996,2002,1988,2006,2011,2013,1999,2000,2010,2013,2011,2011,1993,2007,2013,1979,2005,2005,2005,1995,2004,1999,2010,2007,1996,2013,1997,1999,2006,2004,1979,2010,1995,2016,1985,2012,1979,2014,2001,1990,2000,2015,1995,2002,1999,2001,1995,1994,2012,2010,2000,1990,2013,2004,1991,1995,2001,1996,1995,2009,2004,2003,2004,1999,2004,2008,2009,2000,1991,1994,2009,2002,2013,2012,2001,1995,2012,2008,2005,2008,1998,2009,2004,2004,2011,2014,2001,1999,1989,2002,1994,1985,2005,2007,2005,2007,2010,1989,2012,2005,2006,2015,2015,2009,2015,2003,2010,2002,2006,2007,2012,2008,1988,1987,1986,2011,1997,2011,2013,2006,2006,2001,2009,2013,2004,2011,2003,1998,2014,1998,1995,2006,2014,2011,2004,2012,2004,2010,2006,2005,1998,1996,2002,2010,2007,2005,2004,2009,1986,2008,2005,2003,2004,2011,2005,1999,1999,2009,2013,2004,2004,2011,2005,2009,2010,2013,2001,1989,1984,2013,2004,2003,2005,2006,2005,2006,2007,2011,2009,2015,2011,2010,2007,2014,2014,2015,2002,2016,2015,2005,2000,1997,2008,2002,2002,2016,1987,1999,2004,2005,1992,2015,1984,1998,2001,2016,2003,1988,2008,2015,2009,2004,2004,2001,2013,2001,2003,2013,1981,2001,1994,2001,2013,1993,2007,2010,2011,2000,2014,2005,1982,1995,2014,2007,2000,2001,2006,1999,2010,1997,2001,2015,2016,1997,2008,2013,2006,2014,1983,2007,2009,2008,1984,2006,2007,1991,2002,1997,1980,2008,2012,2002,1999,2006,1983,2011,1984,1998,2008,1985,1998,2009,2004,2007,2011,2016,2001,1999,2004,2008,2003,2006,2009,2003,2005,1998,2014,1990,2008,1998,2003,1990,1977,2005,2003,2000,2010,2013,2004,2002,1985,2009,2004,2011,2001,2012,2004,1994,1996,1997,2001,2015,1996,2015,2005,2004,1993,1988,2008,2008,2008,2014,1992,1993,2011,2013,2004,2014,2003,2014,2001,2008,1991,1987,2007,2014,2001,2000,2003,2012,2011,1993,2000,1976,2006,2012,2007,2004,2013,2012,2005,2004,1990,2003,2005,1983,1997,1987,2012,1997,2007,2002,2003,2002,2005,2001,2008,2005,2014,2014,2003,2003,2007,2003,2002,2006,2007,2004,2013,2007,1998,1998,1970,1997,2011,2009,1994,2001,1996,2014,2013,2005,2005,2016,1998,1994,2010,2010,2010,2007,2002,2004,2002,2006,1988,1996,2005,2009,2008,2000,2010,2004,1996,2002,2015,2007,2011,1999,2014,1985,2010,2005,2015,1986,2012,2011,1996,1993,2008,2002,1999,2012,1996,2011,2006,1991,2009,1984,2005,2001,2005,1995,2005,2008,2005,2011,2005,2012,1998,2009,2013,2009,2010,2010,2010,2009,2010,2013,2011,1970,2014,2014,1988,2012,1986,2006,1997,2016,2014,2000,1984,2003,1991,1998,2000,2008,2000,2009,2001,1999,2004,1999,1978,2000,1999,2011,2010,2004,1998,1993,2004,2010,2004,2009,1998,1980,1995,1991,2000,2011,2000,2001,2013,2001,2013],\"y\":[2550965087,661000000,635674609,834939099,24139100,632871626,331794936,1125403694,683959197,623260194,121081192,386090727,865659812,-165710090,437845518,194651413,1299557910,665713802,399026776,706019788,537215857,110669540,708400000,192234864,343000000,1645034188,903304495,94025485,1363528810,908561013,583766341,1015439994,825491110,249359555,543559607,686297228,881405097,291868548,505717432,230062763,359852396,19851172,866969703,171353001,1316249360,331865000,497862775,277365246,2687603,246040419,185154643,227602906,928746996,601636033,156926147,353983207,158471816,341311860,118022233,569653595,125233863,7987720,176743061,568806957,365934787,819558444,560099082,206509870,445174222,15770160,52104681,256128639,570000000,-2000000,192541256,89218220,127469017,682611174,791550600,423933331,226600000,578539785,540644566,-27000000,-24037525,544766572,587600867,19154322,487105443,306222889,140875730,224681935,329878759,235000000,603328629,510120017,665532764,62000000,771103568,169283925,183932083,193624124,493428261,65283742,21674817,129370084,638958165,273677183,285603537,260686217,309220945,559709780,12298192,788212738,745921036,474029371,435349010,324968763,473722818,224218673,453900354,263106170,223062864,274988211,1124219009,588599701,474571402,228858340,206613439,299326618,159979994,142817841,151000000,95527149,532330139,-150000000,137594577,515692281,168502923,247850012,55366737,-111007242,-84540684,-21611680,127912430,322409852,601921274,291971116,85147509,413799566,301818803,125735876,376170825,549713380,161941670,102026112,316758981,128031828,235680446,682708551,464123048,10680864,-58067057,55258983,145444603,108360480,241876278,-10730514,-51868170,230569774,226832400,62011111,709000000,20406466,13712074,43345589,397950503,147570682,110724603,241552094,372824138,501744560,389311965,717423452,233871007,459739379,143339556,424987477,183329073,237637473,241940071,659804554,-80445998,113843127,226748063,222424282,191887208,851475550,-68351500,515011224,627100229,642820459,397188435,297711549,501137675,209615000,107713139,196317921,-98301101,146572938,113207122,222141403,419272402,421388105,205756637,159047763,489016565,118738393,295484914,139175788,273170142,49956806,171140700,10772733,122688965,-26054234,-71331093,144930431,166168572,737000000,529398328,447816256,295440673,809317558,450178928,35649600,-37371735,49602163,352200000,611392705,62127760,110623848,47977596,464480841,360490832,223011068,105294342,252744280,368207520,185238201,-14000000,125382724,107817248,227580051,453749323,-6048539,69246868,189268508,242434178,4508066,15537191,273531464,778368364,-37821105,-19286175,0,227234916,81643158,167135367,162045765,522161890,36949164,-79627709,147202299,354640427,256372926,776688482,449045960,262211740,420000000,134104620,166465037,263882411,50166126,210650585,70432927,142295562,325368238,138851,69327687,212573423,247451894,149288105,86793,168426634,178731369,111989043,70877916,292000694,236529144,16214377,28482868,60073390,-17897621,143400000,-30421885,-31311169,116172544,28718711,-84000000,-6179242,-92896027,-5117111,147233113,3835130,335013274,93772504,1311434,64044513,12000000,80989651,104907746,173920180,188347692,-18567273,782244782,448514353,28525586,846335536,1024888979,847287400,19178613,159703340,3039258,275780809,389860185,72839667,212654182,-119180039,539442092,-87982678,131497209,499390539,407366869,67805466,257325802,55464351,142988466,796686817,98133322,172105545,199847354,214320254,96072649,142617430,276101666,434028679,-5938689,66053725,233755553,125276000,111596308,155637091,135926552,92290266,81120329,95213455,82944923,84578751,61505388,244901337,50063304,51049560,-29125385,394635760,-6300000,-90000000,50807547,-64831034,59114085,20539911,-73821041,61336445,402471524,339632142,284335608,213500217,230156409,365717150,57274484,273375603,255487652,123076205,98611771,77930623,109168700,160649836,134103655,226312624,112309027,203747895,28976270,-4083508,52298489,77242962,73468292,0,52940100,-6617567,37823676,98018522,-12335441,14208267,39307945,191650703,-8962258,155181299,13028755,27483764,137231186,75388063,19785914,14085477,404572835,194470394,377696359,616210692,174455986,200000000,263397247,65771527,59000000,65464664,-84000000,108320568,267695435,166984278,150685453,186728738,214804195,83733697,185696994,165676146,132874442,101001478,134918407,149012234,98066569,94013509,77107755,97977226,11188905,170200000,0,153093859,61982834,143817906,94000000,121584141,42563539,89852759,56159423,16105964,0,393226958,10874570,43729176,-90000000,45080413,67400065,-13514957,-85000000,17316267,31371017,0,43312294,42444772,-45433254,79212469,46546518,-22600000,-11485156,-26174485,-60519261,-62373766,-20868140,56936910,-46536031,21944236,19406406,-74010360,-12168369,-8000000,253542341,743241776,276692760,170384621,131196298,8103450,70673788,160350661,33571250,-64928486,-40865180,800958308,101265204,894761885,741969268,156074524,457680671,-6040249,221339527,183270008,260062621,580940780,121482882,40450008,-1999414,-75000000,42698894,191430189,159417255,38034460,140663859,44000410,292275019,84937680,42226116,60358911,15632458,23159963,33145109,-24958633,65175006,-7368097,72600435,-75000000,151904017,25944725,-38245366,-23857341,-60432117,5802422,-69590483,-23990820,173118121,1082730962,7792502,30891409,-61900000,276779543,41231041,-13541018,16658558,90466177,106104344,138000000,24889998,452068851,-34682442,-39255262,-12327950,196697520,223456605,336247917,769838758,341983149,239457509,207448382,237594032,229492681,249131050,230854823,170031094,36643346,135388341,-32714831,101183863,368140005,39660784,91025640,48000000,132466756,52919055,0,111584879,84984035,20000098,64748021,145529201,46672912,65560026,61457682,-2887336,-4022705,-4012679,-36438863,90112671,-15581387,-37712956,-8222894,0,-50075967,-50129433,-61403089,-51337973,-52247060,-12041304,-31370522,72915111,-8720548,125000000,630491347,3069884,474513985,-24568887,149022588,-30958495,-38237989,47160734,-29710088,-27900910,43280098,17387857,43265139,146404396,123198313,-41696962,411840909,137277636,304111707,324257136,7715436,210293450,400517383,303237933,107855065,380809770,185821495,63107642,155288523,146780824,98442937,63884132,185000211,100270147,4700000,99945894,-65000000,114379533,97091208,68821816,103862963,91974557,63905366,34176497,-65000000,175159255,28762516,24456761,-65000000,-678499,37853753,-21454636,-47781920,-65000000,6154592,-7906294,13681566,-25592384,10608570,148427584,82180323,233655431,-20908933,857100000,-37948000,153887717,56545703,37595121,65666415,45879496,-20180936,-43279825,111760117,-53000000,120953723,357610419,436642939,184082376,224600000,253625427,164432665,308330363,154034224,294194034,89705852,204118201,148613188,104433867,70940411,33375151,116070171,33354918,111757863,101844840,97920733,69181830,250256926,144594016,-60000000,13664962,45230832,126883563,152764291,105333180,14541707,158340595,13648228,-60000000,77551594,0,64596398,103403799,60293714,11112916,110268750,69832389,33318987,-13297099,47139399,99330280,36269812,-60000000,-9122855,0,44324083,-9450893,41134059,145754447,92000000,34696996,48255770,-28316623,409160692,0,-16938018,45200903,2357900,62233971,27784194,-18146652,-28149899,17920346,34945765,7312826,59940815,0,-5098661,-26043392,-4996865,13174566,-60000000,-28279842,-40540573,-12616311,141702264,11073932,18309131,-33711680,-33326758,-7677600,-888798,-42200000,-44357293,-75171919,-29199769,30565421,-9349921,-4526907,-80000000,-2509626,-20968663,-29581440,-60000000,-35000000,125187158,-69833498,725112979,-60000000,483507423,100162788,44854431,-23531725,126015611,-16700508,-60000000,27280250,-14000000,240228084,-7634623,95944660,-11941633,58267375,1347797,92217355,5112895,57006880,1223890,622945399,301366633,275444045,291079773,245218018,74769345,298100420,-55000000,176449203,40000000,97263880,237928194,137330738,99906693,104387195,252077295,168387299,159015089,143685114,150949000,-55000000,122159461,8408614,94022650,1932305,66969216,132361754,72906624,55000000,109773545,86047179,-13389116,25000000,204207227,267862,-20765992,-80000000,-21171682,33472850,58338361,58020255,10209334,-36373581,84648887,19237563,-9695999,-43076064,-43533912,-55000000,30383290,-28716363,34519773,-47000000,7250000,-48583698,101010032,113167691,-45510171,82766062,-4965111,76431368,136458706,-46733791,-45549103,61196498,86804348,126713434,-20750706,45837872,-24099751,73690726,-41962103,0,5761917,300114312,92820716,152999686,557841637,164485654,60803676,46126565,23450437,-34565570,64112375,826594,-52000000,98270999,21779000,47231070,659827462,424409218,77669379,342493908,223552592,499368315,264178011,152292902,123649015,121269535,210095987,204271286,127371441,138441614,163664608,155990978,166972543,0,192786137,162902372,139376254,71626121,102022101,70081841,105446362,38715192,111451538,92851197,150804534,-60000000,60206216,139859560,172809600,56303988,78511035,38323487,19834815,16002004,50020092,174803475,69137784,94492830,44000000,19411370,47437106,37800000,68310,-1830844,59423648,47607453,0,184989584,-5452319,110602194,69208989,-8517793,33719388,-50000000,84394835,-9796980,5495563,-1000000,19425966,104056873,-281389,20462347,-50000000,63309743,33761844,55197635,6714147,-19696928,32169884,8900031,19327201,-7207439,-23800483,10161391,-7722635,-46840695,-15191597,-24964050,-11044402,-40000000,21561644,3612356,-5565561,6976317,-23778362,-11497660,-39458477,-33328495,-39617593,2188922,-27055498,-40148390,-9171460,52138,-55000000,5969000,-43191450,-60000000,-21068599,-37235799,23700000,-28576611,-13651216,159515725,426171806,68929150,55399548,78493655,148397415,0,33000000,-46675670,37498534,2315140,0,42383208,-32071279,15016220,277771424,29745568,55825796,528972,56738726,76305181,-12256692,110212904,0,-8914222,-34620598,261288605,0,67714830,104000000,-36461000,54860818,136000000,-9563192,-40800000,295631208,331141306,172673217,167000000,56702060,55149435,150268056,72615211,130372502,133051587,111749918,76126687,59876233,45683916,96220678,120184237,86183530,46669806,49935764,91885767,68916474,204931766,243258859,39558115,125362582,8854588,0,11070433,54478416,0,103412065,83494610,-6600039,-45000000,-45000000,37966152,31422687,120583018,5181129,-9074310,0,40225693,10664721,2108608,-45000000,-45000000,12881056,-5600000,-6941665,-27699111,-57000000,-30318235,15222298,-33796974,-35676167,-110,-2512610,-31506110,-40392392,-42845460,115078586,-64926294,187824128,324875760,96000000,121615285,256400432,-44000000,81700000,-40515669,61340801,-5772702,37049764,-43000000,5871113,25696770,228248367,4190704,11070807,159585328,321889678,179834564,129963386,30100000,115674180,39885000,73100172,21781810,-42000000,23157539,-42000000,124167015,47162162,-3640020,-27084535,-17872105,146394432,-3106279,-31657368,-30912431,-19000000,174000000,0,52487473,-41000000,632806292,4221189,-33551615,82815558,211171807,277375031,107841558,292000000,86546825,531006128,159011982,112266007,150212113,109295601,67458785,280170008,184920315,137259441,133262620,121834276,204527583,71811453,175862692,89540499,55020213,88798265,129837010,80455994,159564672,84827316,35505856,84731534,118733820,111161491,50636986,101069860,165405498,98259062,90845033,116267476,156781193,146167139,125478348,51753202,50029656,120128460,14682547,47840042,40395048,45412898,100786397,69676311,65670357,34597643,80175290,151185897,86248813,0,52913171,74830111,48974818,51854875,44601681,27347013,5916769,101591324,38000000,-40000000,1797066,-40000000,-65000000,105896422,57552050,1863726,57138686,56618699,-3583107,86069509,-3962091,110887643,0,15707411,20451307,-40000000,0,23063435,15247881,18785180,6442528,-9800895,-8329380,-40000000,-46000000,9627779,-12946185,-35000000,25754228,22771059,2500000,-15667676,20965854,-1827500,-17566085,0,6546197,0,-24649246,20474340,-40000000,-44187007,138274123,-40624819,6471023,-23127329,-25641967,163921954,0,-46604061,-15280785,-9878900,-21097985,-11830329,-20677865,0,0,-34332107,-12354673,-40000000,-29040525,0,-17982197,-17955723,-40000000,-26355708,-16062130,97760134,-12436272,0,-30000000,-40000000,-25000000,47558912,-25000000,0,79000000,60000000,62229792,69485490,-3712212,-130536,-32385720,36850624,4907260,47473609,150622424,167298907,0,81723358,82000000,60216736,76156230,-40000000,23956241,13801187,-35000000,69597242,-23300000,-38000000,20401898,-20619874,-40008098,37536959,-27700000,4629760,60337295,-30517805,0,-37130952,-3741940,-32589251,-30206504,71906372,136567581,117026136,39700000,126720069,63076342,52247624,11451803,25583804,74343513,58404397,355616625,66244770,52758500,232994119,-14665155,14159144,124000000,28572262,16424533,-9831030,8350926,-10749980,0,0,59047633,-23467223,-32996704,26800345,0,424270619,120844753,277940086,376348924,0,286731527,280208309,112934180,82000000,214276927,291551094,104000000,138965010,147300000,34823199,105795793,33915888,204976425,91216940,51369815,-35000000,78374103,23704513,71155843,0,25251371,61608995,20277485,115483765,73758521,77544580,14169908,53058786,57219310,56353501,34307224,0,28405313,6954997,69984862,111500000,0,50416905,133930596,42477008,24901913,0,323292,64423521,85072577,-35000000,28766121,88505027,49606030,37436439,10479110,22120318,-2516590,5263020,-7892040,1098382,-14646768,-9894745,-4800000,58246388,-35000000,38369434,-3611233,15363790,47087155,-15521894,-35000000,-9128166,-36298836,-15705099,-3916401,16680201,-5117355,11216641,10512007,4340177,-30000000,-10480540,28215872,-35000000,-16682849,0,-21321087,-7590111,-27793972,22674226,-33000000,-17491482,-23439194,-10410627,-22493812,26181942,0,7064105,-30348023,-35000000,-35000000,-18161090,-35000000,-20000000,-37364904,25147786,-24503683,0,314319861,-20568747,-1744560,-19695110,-58736034,-32893443,145801819,29013281,-55401412,-34000000,-35000000,-7670000,8382659,203240178,29958599,143959438,-34000000,34626786,107470746,29022014,-33000000,21700105,-2389127,10346186,-33000000,540350000,-7788574,81019290,-10840066,141398518,120036382,-33000000,60328000,48197993,255883523,94041322,21041732,16814909,37055695,-13180652,51615414,115332697,4733909,47566815,-23505211,-3244258,0,28740827,53167639,-13447540,2016165,-32000000,-13590109,-16412596,-32000000,-2562119,-28433363,0,-26085092,-32000000,57960381,10045846,106269971,-16791304,97499205,130772375,176308099,144600318,-6814219,22208180,37106245,73384188,84851622,261776732,200601895,257553595,343554033,320448145,166114570,-15865707,106706683,169200000,90922175,147722310,161502426,182385533,128335153,90400000,294311859,180819611,110161792,131822020,186763646,96885658,86603229,130259319,120545279,73,44787599,130638883,138670000,75834556,81980662,17042000,0,224134910,84281051,75173115,47374674,33833449,0,84663461,50631118,59455697,121119219,0,30282296,38880016,40200000,-30000000,21132598,122427960,162452832,126835339,63772522,99266061,-30000000,15892212,24819301,77195061,42647449,54025816,61709827,60810892,40663276,0,129291809,26842679,23653224,45505973,36486080,54646831,8413606,11122105,13748395,33782078,21376861,6160375,52394288,4742066,11480851,-45000000,18428063,33372757,0,-15540000,20267515,-797116,31911598,0,-5952000,60896147,-30000000,78609310,-12965168,23909751,-8199698,21148651,1070211,5294470,-10795071,-7806769,0,72820008,-13069116,-9775758,-13844219,-26000000,962774,1148328,-14992009,-14631103,-16998743,7922237,536013,-30000000,0,-100000000,-30000000,5114487,-22999988,-16478171,-11381716,34352607,-21545699,32616646,-11804390,8828365,-30000000,18074539,0,0,3102550,5078241,0,-20519686,-15288207,-29891652,0,-30000000,-27472096,0,-30000000,-27000000,-30000000,-30000000,-30000000,121752617,258506194,158438883,7036004,-29000000,0,3013805,-12069815,49636257,0,0,12829644,-7873775,476050219,173634991,305000000,70491683,45178561,19902953,69185582,112767956,64380927,105346506,0,36445708,74356381,59728529,-12862698,50441250,60259536,106402450,167312802,49516304,74646581,32780981,69594140,11514713,64601050,68188903,12547440,5000337,72654149,93147947,5139618,3596911,24597999,33926886,0,-15649317,10159905,-19111857,17236543,-19654944,-13989168,-20997739,-11625672,-22315211,-9713701,32700000,-678046,40896829,160000000,189076518,65714875,8650785,19187653,34469904,-2751330,69900000,-27000000,33527873,88229890,17352417,0,102000000,29870414,29308881,-5500000,-14604913,-6841192,200316,0,-13862199,49000000,2000000,-14000000,0,58564310,66282604,-14,4488529,-5851171,-18326578,0,0,157293131,84230332,83449237,264317794,25181600,186957688,74624843,39705772,46296293,35489265,28750000,31891803,64426405,45868327,41918658,61175291,0,12793283,-26000000,17318349,2818995,86044638,-6597680,3657751,-16000000,10800000,-26000000,-26000000,0,-26000000,-5449980,4523226,57466670,581899420,416286195,387800000,236958228,4406464,201830568,9926213,386006740,299365567,99272124,-19444992,181466833,-26000000,84908830,0,55936232,145764026,53000000,51270454,146600000,128997819,256929795,127500343,79914842,94772232,122780440,31505065,66036760,58122980,92719158,74357138,77587063,91766556,0,52278331,97644820,64574188,21836394,30795814,97489822,40884703,-25000000,20984230,38100000,0,52208711,-35000000,0,16604473,14053061,39437847,45442940,11351350,13307627,41980456,0,46102666,34192128,31489558,16597830,13889159,204736344,50992898,-23084528,41122026,52150642,25671850,4063291,75000000,9942188,0,3341469,18288674,-1976566,14171130,49188937,2645491,12886719,23152800,-3432147,-2800000,89977104,-1420000,11993168,15452643,-8000000,-4203153,-13000000,-26000000,0,0,-9568823,3333531,-8000000,-637228,-5170043,5411183,26702483,0,17972994,14334401,-17873542,-12,3831145,-25000000,-9521200,-11588043,-97277,-14000000,0,-1942885,-11100000,25000000,-13792870,-14280643,-12000000,71446075,-14930000,-14675559,-13227539,0,-4364695,-19221647,0,-25000000,-25000000,-20935505,0,-5155021,-22594580,2603069,-25000000,34153101,-24222577,-22663828,5755873,-14410898,0,23531470,0,0,-18500000,46009334,-25000000,-21948000,-25000000,-25000000,20670720,-16215682,109000000,131721132,148363301,-23602716,46181428,65071651,71835402,63055349,17895491,-24997888,12609995,18105111,-24000000,44729358,0,-40000000,-19902,-7709024,-2950947,-11627590,-15565854,6551495,59188165,-23000000,-19437854,-27330724,0,-918274,210710455,78791382,162991646,520400000,122407024,63930411,30302314,63493061,30187659,-23000000,24351251,13642838,-24993601],\"type\":\"scatter\"}],                        {\"template\":{\"data\":{\"histogram2dcontour\":[{\"type\":\"histogram2dcontour\",\"colorbar\":{\"outlinewidth\":0,\"ticks\":\"\"},\"colorscale\":[[0.0,\"#0d0887\"],[0.1111111111111111,\"#46039f\"],[0.2222222222222222,\"#7201a8\"],[0.3333333333333333,\"#9c179e\"],[0.4444444444444444,\"#bd3786\"],[0.5555555555555556,\"#d8576b\"],[0.6666666666666666,\"#ed7953\"],[0.7777777777777778,\"#fb9f3a\"],[0.8888888888888888,\"#fdca26\"],[1.0,\"#f0f921\"]]}],\"choropleth\":[{\"type\":\"choropleth\",\"colorbar\":{\"outlinewidth\":0,\"ticks\":\"\"}}],\"histogram2d\":[{\"type\":\"histogram2d\",\"colorbar\":{\"outlinewidth\":0,\"ticks\":\"\"},\"colorscale\":[[0.0,\"#0d0887\"],[0.1111111111111111,\"#46039f\"],[0.2222222222222222,\"#7201a8\"],[0.3333333333333333,\"#9c179e\"],[0.4444444444444444,\"#bd3786\"],[0.5555555555555556,\"#d8576b\"],[0.6666666666666666,\"#ed7953\"],[0.7777777777777778,\"#fb9f3a\"],[0.8888888888888888,\"#fdca26\"],[1.0,\"#f0f921\"]]}],\"heatmap\":[{\"type\":\"heatmap\",\"colorbar\":{\"outlinewidth\":0,\"ticks\":\"\"},\"colorscale\":[[0.0,\"#0d0887\"],[0.1111111111111111,\"#46039f\"],[0.2222222222222222,\"#7201a8\"],[0.3333333333333333,\"#9c179e\"],[0.4444444444444444,\"#bd3786\"],[0.5555555555555556,\"#d8576b\"],[0.6666666666666666,\"#ed7953\"],[0.7777777777777778,\"#fb9f3a\"],[0.8888888888888888,\"#fdca26\"],[1.0,\"#f0f921\"]]}],\"heatmapgl\":[{\"type\":\"heatmapgl\",\"colorbar\":{\"outlinewidth\":0,\"ticks\":\"\"},\"colorscale\":[[0.0,\"#0d0887\"],[0.1111111111111111,\"#46039f\"],[0.2222222222222222,\"#7201a8\"],[0.3333333333333333,\"#9c179e\"],[0.4444444444444444,\"#bd3786\"],[0.5555555555555556,\"#d8576b\"],[0.6666666666666666,\"#ed7953\"],[0.7777777777777778,\"#fb9f3a\"],[0.8888888888888888,\"#fdca26\"],[1.0,\"#f0f921\"]]}],\"contourcarpet\":[{\"type\":\"contourcarpet\",\"colorbar\":{\"outlinewidth\":0,\"ticks\":\"\"}}],\"contour\":[{\"type\":\"contour\",\"colorbar\":{\"outlinewidth\":0,\"ticks\":\"\"},\"colorscale\":[[0.0,\"#0d0887\"],[0.1111111111111111,\"#46039f\"],[0.2222222222222222,\"#7201a8\"],[0.3333333333333333,\"#9c179e\"],[0.4444444444444444,\"#bd3786\"],[0.5555555555555556,\"#d8576b\"],[0.6666666666666666,\"#ed7953\"],[0.7777777777777778,\"#fb9f3a\"],[0.8888888888888888,\"#fdca26\"],[1.0,\"#f0f921\"]]}],\"surface\":[{\"type\":\"surface\",\"colorbar\":{\"outlinewidth\":0,\"ticks\":\"\"},\"colorscale\":[[0.0,\"#0d0887\"],[0.1111111111111111,\"#46039f\"],[0.2222222222222222,\"#7201a8\"],[0.3333333333333333,\"#9c179e\"],[0.4444444444444444,\"#bd3786\"],[0.5555555555555556,\"#d8576b\"],[0.6666666666666666,\"#ed7953\"],[0.7777777777777778,\"#fb9f3a\"],[0.8888888888888888,\"#fdca26\"],[1.0,\"#f0f921\"]]}],\"mesh3d\":[{\"type\":\"mesh3d\",\"colorbar\":{\"outlinewidth\":0,\"ticks\":\"\"}}],\"scatter\":[{\"fillpattern\":{\"fillmode\":\"overlay\",\"size\":10,\"solidity\":0.2},\"type\":\"scatter\"}],\"parcoords\":[{\"type\":\"parcoords\",\"line\":{\"colorbar\":{\"outlinewidth\":0,\"ticks\":\"\"}}}],\"scatterpolargl\":[{\"type\":\"scatterpolargl\",\"marker\":{\"colorbar\":{\"outlinewidth\":0,\"ticks\":\"\"}}}],\"bar\":[{\"error_x\":{\"color\":\"#2a3f5f\"},\"error_y\":{\"color\":\"#2a3f5f\"},\"marker\":{\"line\":{\"color\":\"#E5ECF6\",\"width\":0.5},\"pattern\":{\"fillmode\":\"overlay\",\"size\":10,\"solidity\":0.2}},\"type\":\"bar\"}],\"scattergeo\":[{\"type\":\"scattergeo\",\"marker\":{\"colorbar\":{\"outlinewidth\":0,\"ticks\":\"\"}}}],\"scatterpolar\":[{\"type\":\"scatterpolar\",\"marker\":{\"colorbar\":{\"outlinewidth\":0,\"ticks\":\"\"}}}],\"histogram\":[{\"marker\":{\"pattern\":{\"fillmode\":\"overlay\",\"size\":10,\"solidity\":0.2}},\"type\":\"histogram\"}],\"scattergl\":[{\"type\":\"scattergl\",\"marker\":{\"colorbar\":{\"outlinewidth\":0,\"ticks\":\"\"}}}],\"scatter3d\":[{\"type\":\"scatter3d\",\"line\":{\"colorbar\":{\"outlinewidth\":0,\"ticks\":\"\"}},\"marker\":{\"colorbar\":{\"outlinewidth\":0,\"ticks\":\"\"}}}],\"scattermapbox\":[{\"type\":\"scattermapbox\",\"marker\":{\"colorbar\":{\"outlinewidth\":0,\"ticks\":\"\"}}}],\"scatterternary\":[{\"type\":\"scatterternary\",\"marker\":{\"colorbar\":{\"outlinewidth\":0,\"ticks\":\"\"}}}],\"scattercarpet\":[{\"type\":\"scattercarpet\",\"marker\":{\"colorbar\":{\"outlinewidth\":0,\"ticks\":\"\"}}}],\"carpet\":[{\"aaxis\":{\"endlinecolor\":\"#2a3f5f\",\"gridcolor\":\"white\",\"linecolor\":\"white\",\"minorgridcolor\":\"white\",\"startlinecolor\":\"#2a3f5f\"},\"baxis\":{\"endlinecolor\":\"#2a3f5f\",\"gridcolor\":\"white\",\"linecolor\":\"white\",\"minorgridcolor\":\"white\",\"startlinecolor\":\"#2a3f5f\"},\"type\":\"carpet\"}],\"table\":[{\"cells\":{\"fill\":{\"color\":\"#EBF0F8\"},\"line\":{\"color\":\"white\"}},\"header\":{\"fill\":{\"color\":\"#C8D4E3\"},\"line\":{\"color\":\"white\"}},\"type\":\"table\"}],\"barpolar\":[{\"marker\":{\"line\":{\"color\":\"#E5ECF6\",\"width\":0.5},\"pattern\":{\"fillmode\":\"overlay\",\"size\":10,\"solidity\":0.2}},\"type\":\"barpolar\"}],\"pie\":[{\"automargin\":true,\"type\":\"pie\"}]},\"layout\":{\"autotypenumbers\":\"strict\",\"colorway\":[\"#636efa\",\"#EF553B\",\"#00cc96\",\"#ab63fa\",\"#FFA15A\",\"#19d3f3\",\"#FF6692\",\"#B6E880\",\"#FF97FF\",\"#FECB52\"],\"font\":{\"color\":\"#2a3f5f\"},\"hovermode\":\"closest\",\"hoverlabel\":{\"align\":\"left\"},\"paper_bgcolor\":\"white\",\"plot_bgcolor\":\"#E5ECF6\",\"polar\":{\"bgcolor\":\"#E5ECF6\",\"angularaxis\":{\"gridcolor\":\"white\",\"linecolor\":\"white\",\"ticks\":\"\"},\"radialaxis\":{\"gridcolor\":\"white\",\"linecolor\":\"white\",\"ticks\":\"\"}},\"ternary\":{\"bgcolor\":\"#E5ECF6\",\"aaxis\":{\"gridcolor\":\"white\",\"linecolor\":\"white\",\"ticks\":\"\"},\"baxis\":{\"gridcolor\":\"white\",\"linecolor\":\"white\",\"ticks\":\"\"},\"caxis\":{\"gridcolor\":\"white\",\"linecolor\":\"white\",\"ticks\":\"\"}},\"coloraxis\":{\"colorbar\":{\"outlinewidth\":0,\"ticks\":\"\"}},\"colorscale\":{\"sequential\":[[0.0,\"#0d0887\"],[0.1111111111111111,\"#46039f\"],[0.2222222222222222,\"#7201a8\"],[0.3333333333333333,\"#9c179e\"],[0.4444444444444444,\"#bd3786\"],[0.5555555555555556,\"#d8576b\"],[0.6666666666666666,\"#ed7953\"],[0.7777777777777778,\"#fb9f3a\"],[0.8888888888888888,\"#fdca26\"],[1.0,\"#f0f921\"]],\"sequentialminus\":[[0.0,\"#0d0887\"],[0.1111111111111111,\"#46039f\"],[0.2222222222222222,\"#7201a8\"],[0.3333333333333333,\"#9c179e\"],[0.4444444444444444,\"#bd3786\"],[0.5555555555555556,\"#d8576b\"],[0.6666666666666666,\"#ed7953\"],[0.7777777777777778,\"#fb9f3a\"],[0.8888888888888888,\"#fdca26\"],[1.0,\"#f0f921\"]],\"diverging\":[[0,\"#8e0152\"],[0.1,\"#c51b7d\"],[0.2,\"#de77ae\"],[0.3,\"#f1b6da\"],[0.4,\"#fde0ef\"],[0.5,\"#f7f7f7\"],[0.6,\"#e6f5d0\"],[0.7,\"#b8e186\"],[0.8,\"#7fbc41\"],[0.9,\"#4d9221\"],[1,\"#276419\"]]},\"xaxis\":{\"gridcolor\":\"white\",\"linecolor\":\"white\",\"ticks\":\"\",\"title\":{\"standoff\":15},\"zerolinecolor\":\"white\",\"automargin\":true,\"zerolinewidth\":2},\"yaxis\":{\"gridcolor\":\"white\",\"linecolor\":\"white\",\"ticks\":\"\",\"title\":{\"standoff\":15},\"zerolinecolor\":\"white\",\"automargin\":true,\"zerolinewidth\":2},\"scene\":{\"xaxis\":{\"backgroundcolor\":\"#E5ECF6\",\"gridcolor\":\"white\",\"linecolor\":\"white\",\"showbackground\":true,\"ticks\":\"\",\"zerolinecolor\":\"white\",\"gridwidth\":2},\"yaxis\":{\"backgroundcolor\":\"#E5ECF6\",\"gridcolor\":\"white\",\"linecolor\":\"white\",\"showbackground\":true,\"ticks\":\"\",\"zerolinecolor\":\"white\",\"gridwidth\":2},\"zaxis\":{\"backgroundcolor\":\"#E5ECF6\",\"gridcolor\":\"white\",\"linecolor\":\"white\",\"showbackground\":true,\"ticks\":\"\",\"zerolinecolor\":\"white\",\"gridwidth\":2}},\"shapedefaults\":{\"line\":{\"color\":\"#2a3f5f\"}},\"annotationdefaults\":{\"arrowcolor\":\"#2a3f5f\",\"arrowhead\":0,\"arrowwidth\":1},\"geo\":{\"bgcolor\":\"white\",\"landcolor\":\"#E5ECF6\",\"subunitcolor\":\"white\",\"showland\":true,\"showlakes\":true,\"lakecolor\":\"white\"},\"title\":{\"x\":0.05},\"mapbox\":{\"style\":\"light\"}}}},                        {\"responsive\": true}                    ).then(function(){\n",
              "                            \n",
              "var gd = document.getElementById('bd4ffb7e-b9f2-4389-bbe3-42464e54548f');\n",
              "var x = new MutationObserver(function (mutations, observer) {{\n",
              "        var display = window.getComputedStyle(gd).display;\n",
              "        if (!display || display === 'none') {{\n",
              "            console.log([gd, 'removed!']);\n",
              "            Plotly.purge(gd);\n",
              "            observer.disconnect();\n",
              "        }}\n",
              "}});\n",
              "\n",
              "// Listen for the removal of the full notebook cells\n",
              "var notebookContainer = gd.closest('#notebook-container');\n",
              "if (notebookContainer) {{\n",
              "    x.observe(notebookContainer, {childList: true});\n",
              "}}\n",
              "\n",
              "// Listen for the clearing of the current output cell\n",
              "var outputEl = gd.closest('.output');\n",
              "if (outputEl) {{\n",
              "    x.observe(outputEl, {childList: true});\n",
              "}}\n",
              "\n",
              "                        })                };                            </script>        </div>\n",
              "</body>\n",
              "</html>"
            ]
          },
          "metadata": {}
        }
      ],
      "source": [
        "import plotly.graph_objects as go\n",
        "scatter = go.Scatter(x = years,\n",
        "                     y = net_revenues,\n",
        "                     hovertext=titles,\n",
        "                    marker = dict(size=8, color=colors),\n",
        "                     mode = 'markers')\n",
        "fig = go.Figure(scatter)\n",
        "fig"
      ]
    },
    {
      "cell_type": "markdown",
      "metadata": {
        "id": "-Lw2NtpX3OFq"
      },
      "source": [
        "<img src=\"https://github.com/eng-6-22/mod-1-a-data-structures/blob/master/3-coercing-filtering-data/revenue-genres.png?raw=1\" width=\"60%\">"
      ]
    },
    {
      "cell_type": "markdown",
      "metadata": {
        "id": "RXeZnSE43OFq"
      },
      "source": [
        "> No one said it was gonna be pretty."
      ]
    },
    {
      "cell_type": "markdown",
      "metadata": {
        "id": "04Ye5gbV3OFq"
      },
      "source": [
        "### Creating new dictionaries"
      ]
    },
    {
      "cell_type": "markdown",
      "metadata": {
        "id": "2UsKZ0IG3OFq"
      },
      "source": [
        "Now let's create new dictionaries of movie titles, revenues and dates.  \n",
        "\n",
        "We'll do so in steps.  First, let's first pair together the lists of `titles`, `net_revenues` and `dates`.  The paired data should be a list where each element contains this data for each movie."
      ]
    },
    {
      "cell_type": "code",
      "execution_count": 77,
      "metadata": {
        "id": "sYyvzNj33OFq"
      },
      "outputs": [],
      "source": [
        "titles_revenues = list(zip(titles, net_revenues))"
      ]
    },
    {
      "cell_type": "code",
      "execution_count": 79,
      "metadata": {
        "id": "PRgtyvs23OFq",
        "outputId": "a111fab2-6797-4424-dd9d-e7dddef68f90",
        "colab": {
          "base_uri": "https://localhost:8080/"
        }
      },
      "outputs": [
        {
          "output_type": "execute_result",
          "data": {
            "text/plain": [
              "[('Avatar', 2550965087),\n",
              " (\"Pirates of the Caribbean: At World's End\", 661000000),\n",
              " ('Spectre', 635674609)]"
            ]
          },
          "metadata": {},
          "execution_count": 79
        }
      ],
      "source": [
        "titles_revenues[:3]\n",
        "# [('Avatar', 2550965087, datetime.datetime(2009, 12, 1, 0, 0)),\n",
        "#  (\"Pirates of the Caribbean: At World's End\",\n",
        "#   661000000,\n",
        "#   datetime.datetime(2007, 5, 1, 0, 0)),\n",
        "#  ('Spectre', 635674609, datetime.datetime(2015, 10, 1, 0, 0))]"
      ]
    },
    {
      "cell_type": "markdown",
      "metadata": {
        "id": "mztjysw53OFr"
      },
      "source": [
        "Now from here, create a list of dictionaries, where there is a new dictionary for every movie.  The keys are defined below."
      ]
    },
    {
      "cell_type": "code",
      "execution_count": 80,
      "metadata": {
        "id": "rQCwl-1G3OFr"
      },
      "outputs": [],
      "source": [
        "keys = ['title', 'net_revenue']"
      ]
    },
    {
      "cell_type": "markdown",
      "metadata": {
        "id": "dA_gRVzj3OFr"
      },
      "source": [
        "Use the paired data above to create the new dictionaries."
      ]
    },
    {
      "cell_type": "code",
      "execution_count": 82,
      "metadata": {
        "id": "yPdTDiuU3OFr",
        "outputId": "b0b07db2-4eb0-462e-9b0d-e5fc0d6ac132",
        "colab": {
          "base_uri": "https://localhost:8080/"
        }
      },
      "outputs": [
        {
          "output_type": "execute_result",
          "data": {
            "text/plain": [
              "[{'title': 'Avatar', 'net_revenue': 2550965087},\n",
              " {'title': \"Pirates of the Caribbean: At World's End\",\n",
              "  'net_revenue': 661000000},\n",
              " {'title': 'Spectre', 'net_revenue': 635674609},\n",
              " {'title': 'The Dark Knight Rises', 'net_revenue': 834939099},\n",
              " {'title': 'John Carter', 'net_revenue': 24139100},\n",
              " {'title': 'Spider-Man 3', 'net_revenue': 632871626},\n",
              " {'title': 'Tangled', 'net_revenue': 331794936},\n",
              " {'title': 'Avengers: Age of Ultron', 'net_revenue': 1125403694},\n",
              " {'title': 'Harry Potter and the Half-Blood Prince', 'net_revenue': 683959197},\n",
              " {'title': 'Batman v Superman: Dawn of Justice', 'net_revenue': 623260194},\n",
              " {'title': 'Superman Returns', 'net_revenue': 121081192},\n",
              " {'title': 'Quantum of Solace', 'net_revenue': 386090727},\n",
              " {'title': \"Pirates of the Caribbean: Dead Man's Chest\",\n",
              "  'net_revenue': 865659812},\n",
              " {'title': 'The Lone Ranger', 'net_revenue': -165710090},\n",
              " {'title': 'Man of Steel', 'net_revenue': 437845518},\n",
              " {'title': 'The Chronicles of Narnia: Prince Caspian',\n",
              "  'net_revenue': 194651413},\n",
              " {'title': 'The Avengers', 'net_revenue': 1299557910},\n",
              " {'title': 'Pirates of the Caribbean: On Stranger Tides',\n",
              "  'net_revenue': 665713802},\n",
              " {'title': 'Men in Black 3', 'net_revenue': 399026776},\n",
              " {'title': 'The Hobbit: The Battle of the Five Armies',\n",
              "  'net_revenue': 706019788},\n",
              " {'title': 'The Amazing Spider-Man', 'net_revenue': 537215857},\n",
              " {'title': 'Robin Hood', 'net_revenue': 110669540},\n",
              " {'title': 'The Hobbit: The Desolation of Smaug', 'net_revenue': 708400000},\n",
              " {'title': 'The Golden Compass', 'net_revenue': 192234864},\n",
              " {'title': 'King Kong', 'net_revenue': 343000000},\n",
              " {'title': 'Titanic', 'net_revenue': 1645034188},\n",
              " {'title': 'Captain America: Civil War', 'net_revenue': 903304495},\n",
              " {'title': 'Battleship', 'net_revenue': 94025485},\n",
              " {'title': 'Jurassic World', 'net_revenue': 1363528810},\n",
              " {'title': 'Skyfall', 'net_revenue': 908561013},\n",
              " {'title': 'Spider-Man 2', 'net_revenue': 583766341},\n",
              " {'title': 'Iron Man 3', 'net_revenue': 1015439994},\n",
              " {'title': 'Alice in Wonderland', 'net_revenue': 825491110},\n",
              " {'title': 'X-Men: The Last Stand', 'net_revenue': 249359555},\n",
              " {'title': 'Monsters University', 'net_revenue': 543559607},\n",
              " {'title': 'Transformers: Revenge of the Fallen', 'net_revenue': 686297228},\n",
              " {'title': 'Transformers: Age of Extinction', 'net_revenue': 881405097},\n",
              " {'title': 'Oz: The Great and Powerful', 'net_revenue': 291868548},\n",
              " {'title': 'The Amazing Spider-Man 2', 'net_revenue': 505717432},\n",
              " {'title': 'TRON: Legacy', 'net_revenue': 230062763},\n",
              " {'title': 'Cars 2', 'net_revenue': 359852396},\n",
              " {'title': 'Green Lantern', 'net_revenue': 19851172},\n",
              " {'title': 'Toy Story 3', 'net_revenue': 866969703},\n",
              " {'title': 'Terminator Salvation', 'net_revenue': 171353001},\n",
              " {'title': 'Furious 7', 'net_revenue': 1316249360},\n",
              " {'title': 'World War Z', 'net_revenue': 331865000},\n",
              " {'title': 'X-Men: Days of Future Past', 'net_revenue': 497862775},\n",
              " {'title': 'Star Trek Into Darkness', 'net_revenue': 277365246},\n",
              " {'title': 'Jack the Giant Slayer', 'net_revenue': 2687603},\n",
              " {'title': 'The Great Gatsby', 'net_revenue': 246040419},\n",
              " {'title': 'Prince of Persia: The Sands of Time', 'net_revenue': 185154643},\n",
              " {'title': 'Pacific Rim', 'net_revenue': 227602906},\n",
              " {'title': 'Transformers: Dark of the Moon', 'net_revenue': 928746996},\n",
              " {'title': 'Indiana Jones and the Kingdom of the Crystal Skull',\n",
              "  'net_revenue': 601636033},\n",
              " {'title': 'The Good Dinosaur', 'net_revenue': 156926147},\n",
              " {'title': 'Brave', 'net_revenue': 353983207},\n",
              " {'title': 'Star Trek Beyond', 'net_revenue': 158471816},\n",
              " {'title': 'WALL·E', 'net_revenue': 341311860},\n",
              " {'title': 'Rush Hour 3', 'net_revenue': 118022233},\n",
              " {'title': '2012', 'net_revenue': 569653595},\n",
              " {'title': 'A Christmas Carol', 'net_revenue': 125233863},\n",
              " {'title': 'Jupiter Ascending', 'net_revenue': 7987720},\n",
              " {'title': 'The Legend of Tarzan', 'net_revenue': 176743061},\n",
              " {'title': 'The Chronicles of Narnia: The Lion, the Witch and the Wardrobe',\n",
              "  'net_revenue': 568806957},\n",
              " {'title': 'X-Men: Apocalypse', 'net_revenue': 365934787},\n",
              " {'title': 'The Dark Knight', 'net_revenue': 819558444},\n",
              " {'title': 'Up', 'net_revenue': 560099082},\n",
              " {'title': 'Monsters vs Aliens', 'net_revenue': 206509870},\n",
              " {'title': 'Iron Man', 'net_revenue': 445174222},\n",
              " {'title': 'Hugo', 'net_revenue': 15770160},\n",
              " {'title': 'Wild Wild West', 'net_revenue': 52104681},\n",
              " {'title': 'The Mummy: Tomb of the Dragon Emperor', 'net_revenue': 256128639},\n",
              " {'title': 'Suicide Squad', 'net_revenue': 570000000},\n",
              " {'title': 'Evan Almighty', 'net_revenue': -2000000},\n",
              " {'title': 'Edge of Tomorrow', 'net_revenue': 192541256},\n",
              " {'title': 'Waterworld', 'net_revenue': 89218220},\n",
              " {'title': 'G.I. Joe: The Rise of Cobra', 'net_revenue': 127469017},\n",
              " {'title': 'Inside Out', 'net_revenue': 682611174},\n",
              " {'title': 'The Jungle Book', 'net_revenue': 791550600},\n",
              " {'title': 'Iron Man 2', 'net_revenue': 423933331},\n",
              " {'title': 'Snow White and the Huntsman', 'net_revenue': 226600000},\n",
              " {'title': 'Maleficent', 'net_revenue': 578539785},\n",
              " {'title': 'Dawn of the Planet of the Apes', 'net_revenue': 540644566},\n",
              " {'title': 'The Lovers', 'net_revenue': -27000000},\n",
              " {'title': '47 Ronin', 'net_revenue': -24037525},\n",
              " {'title': 'Captain America: The Winter Soldier', 'net_revenue': 544766572},\n",
              " {'title': 'Shrek Forever After', 'net_revenue': 587600867},\n",
              " {'title': 'Tomorrowland', 'net_revenue': 19154322},\n",
              " {'title': 'Big Hero 6', 'net_revenue': 487105443},\n",
              " {'title': 'Wreck-It Ralph', 'net_revenue': 306222889},\n",
              " {'title': 'The Polar Express', 'net_revenue': 140875730},\n",
              " {'title': 'Independence Day: Resurgence', 'net_revenue': 224681935},\n",
              " {'title': 'How to Train Your Dragon', 'net_revenue': 329878759},\n",
              " {'title': 'Terminator 3: Rise of the Machines', 'net_revenue': 235000000},\n",
              " {'title': 'Guardians of the Galaxy', 'net_revenue': 603328629},\n",
              " {'title': 'Interstellar', 'net_revenue': 510120017},\n",
              " {'title': 'Inception', 'net_revenue': 665532764},\n",
              " {'title': 'Shin Godzilla', 'net_revenue': 62000000},\n",
              " {'title': 'The Hobbit: An Unexpected Journey', 'net_revenue': 771103568},\n",
              " {'title': 'The Fast and the Furious', 'net_revenue': 169283925},\n",
              " {'title': 'The Curious Case of Benjamin Button', 'net_revenue': 183932083},\n",
              " {'title': 'X-Men: First Class', 'net_revenue': 193624124},\n",
              " {'title': 'The Hunger Games: Mockingjay - Part 2', 'net_revenue': 493428261},\n",
              " {'title': \"The Sorcerer's Apprentice\", 'net_revenue': 65283742},\n",
              " {'title': 'Poseidon', 'net_revenue': 21674817},\n",
              " {'title': 'Alice Through the Looking Glass', 'net_revenue': 129370084},\n",
              " {'title': 'Shrek the Third', 'net_revenue': 638958165},\n",
              " {'title': 'Warcraft', 'net_revenue': 273677183},\n",
              " {'title': 'Terminator Genisys', 'net_revenue': 285603537},\n",
              " {'title': 'The Chronicles of Narnia: The Voyage of the Dawn Treader',\n",
              "  'net_revenue': 260686217},\n",
              " {'title': 'Pearl Harbor', 'net_revenue': 309220945},\n",
              " {'title': 'Transformers', 'net_revenue': 559709780},\n",
              " {'title': 'Alexander', 'net_revenue': 12298192},\n",
              " {'title': 'Harry Potter and the Order of the Phoenix',\n",
              "  'net_revenue': 788212738},\n",
              " {'title': 'Harry Potter and the Goblet of Fire', 'net_revenue': 745921036},\n",
              " {'title': 'Hancock', 'net_revenue': 474029371},\n",
              " {'title': 'I Am Legend', 'net_revenue': 435349010},\n",
              " {'title': 'Charlie and the Chocolate Factory', 'net_revenue': 324968763},\n",
              " {'title': 'Ratatouille', 'net_revenue': 473722818},\n",
              " {'title': 'Batman Begins', 'net_revenue': 224218673},\n",
              " {'title': 'Madagascar: Escape 2 Africa', 'net_revenue': 453900354},\n",
              " {'title': 'Night at the Museum: Battle of the Smithsonian',\n",
              "  'net_revenue': 263106170},\n",
              " {'title': 'X-Men Origins: Wolverine', 'net_revenue': 223062864},\n",
              " {'title': 'The Matrix Revolutions', 'net_revenue': 274988211},\n",
              " {'title': 'Frozen', 'net_revenue': 1124219009},\n",
              " {'title': 'The Matrix Reloaded', 'net_revenue': 588599701},\n",
              " {'title': 'Thor: The Dark World', 'net_revenue': 474571402},\n",
              " {'title': 'Mad Max: Fury Road', 'net_revenue': 228858340},\n",
              " {'title': 'Angels & Demons', 'net_revenue': 206613439},\n",
              " {'title': 'Thor', 'net_revenue': 299326618},\n",
              " {'title': 'Bolt', 'net_revenue': 159979994},\n",
              " {'title': 'G-Force', 'net_revenue': 142817841},\n",
              " {'title': 'Wrath of the Titans', 'net_revenue': 151000000},\n",
              " {'title': 'Dark Shadows', 'net_revenue': 95527149},\n",
              " {'title': 'Mission: Impossible - Rogue Nation', 'net_revenue': 532330139},\n",
              " {'title': 'The Wolfman', 'net_revenue': -150000000},\n",
              " {'title': 'Bee Movie', 'net_revenue': 137594577},\n",
              " {'title': 'Kung Fu Panda 2', 'net_revenue': 515692281},\n",
              " {'title': 'The Last Airbender', 'net_revenue': 168502923},\n",
              " {'title': 'Mission: Impossible III', 'net_revenue': 247850012},\n",
              " {'title': 'White House Down', 'net_revenue': 55366737},\n",
              " {'title': 'Mars Needs Moms', 'net_revenue': -111007242},\n",
              " {'title': 'Flushed Away', 'net_revenue': -84540684},\n",
              " {'title': 'Pan', 'net_revenue': -21611680},\n",
              " {'title': 'Mr. Peabody & Sherman', 'net_revenue': 127912430},\n",
              " {'title': 'Troy', 'net_revenue': 322409852},\n",
              " {'title': \"Madagascar 3: Europe's Most Wanted\", 'net_revenue': 601921274},\n",
              " {'title': 'Die Another Day', 'net_revenue': 291971116},\n",
              " {'title': 'Ghostbusters', 'net_revenue': 85147509},\n",
              " {'title': 'Armageddon', 'net_revenue': 413799566},\n",
              " {'title': 'Men in Black II', 'net_revenue': 301818803},\n",
              " {'title': 'Beowulf', 'net_revenue': 125735876},\n",
              " {'title': 'Kung Fu Panda 3', 'net_revenue': 376170825},\n",
              " {'title': 'Mission: Impossible - Ghost Protocol', 'net_revenue': 549713380},\n",
              " {'title': 'Rise of the Guardians', 'net_revenue': 161941670},\n",
              " {'title': 'Fun with Dick and Jane', 'net_revenue': 102026112},\n",
              " {'title': 'The Last Samurai', 'net_revenue': 316758981},\n",
              " {'title': 'Exodus: Gods and Kings', 'net_revenue': 128031828},\n",
              " {'title': 'Star Trek', 'net_revenue': 235680446},\n",
              " {'title': 'Spider-Man', 'net_revenue': 682708551},\n",
              " {'title': 'How to Train Your Dragon 2', 'net_revenue': 464123048},\n",
              " {'title': 'Gods of Egypt', 'net_revenue': 10680864},\n",
              " {'title': 'Stealth', 'net_revenue': -58067057},\n",
              " {'title': 'Watchmen', 'net_revenue': 55258983},\n",
              " {'title': 'Lethal Weapon 4', 'net_revenue': 145444603},\n",
              " {'title': 'Hulk', 'net_revenue': 108360480},\n",
              " {'title': 'G.I. Joe: Retaliation', 'net_revenue': 241876278},\n",
              " {'title': 'Sahara', 'net_revenue': -10730514},\n",
              " {'title': 'Final Fantasy: The Spirits Within', 'net_revenue': -51868170},\n",
              " {'title': 'Captain America: The First Avenger', 'net_revenue': 230569774},\n",
              " {'title': 'The World Is Not Enough', 'net_revenue': 226832400},\n",
              " {'title': 'Master and Commander: The Far Side of the World',\n",
              "  'net_revenue': 62011111},\n",
              " {'title': 'The Twilight Saga: Breaking Dawn - Part 2',\n",
              "  'net_revenue': 709000000},\n",
              " {'title': 'Happy Feet Two', 'net_revenue': 20406466},\n",
              " {'title': 'The Incredible Hulk', 'net_revenue': 13712074},\n",
              " {'title': 'The BFG', 'net_revenue': 43345589},\n",
              " {'title': 'The Revenant', 'net_revenue': 397950503},\n",
              " {'title': 'Turbo', 'net_revenue': 147570682},\n",
              " {'title': 'Rango', 'net_revenue': 110724603},\n",
              " {'title': 'Penguins of Madagascar', 'net_revenue': 241552094},\n",
              " {'title': 'The Bourne Ultimatum', 'net_revenue': 372824138},\n",
              " {'title': 'Kung Fu Panda', 'net_revenue': 501744560},\n",
              " {'title': 'Ant-Man', 'net_revenue': 389311965},\n",
              " {'title': 'The Hunger Games: Catching Fire', 'net_revenue': 717423452},\n",
              " {'title': 'Home', 'net_revenue': 233871007},\n",
              " {'title': 'War of the Worlds', 'net_revenue': 459739379},\n",
              " {'title': 'Bad Boys II', 'net_revenue': 143339556},\n",
              " {'title': 'Puss in Boots', 'net_revenue': 424987477},\n",
              " {'title': 'Salt', 'net_revenue': 183329073},\n",
              " {'title': 'Noah', 'net_revenue': 237637473},\n",
              " {'title': 'The Adventures of Tintin', 'net_revenue': 241940071},\n",
              " {'title': 'Harry Potter and the Prisoner of Azkaban',\n",
              "  'net_revenue': 659804554},\n",
              " {'title': 'Australia', 'net_revenue': -80445998},\n",
              " {'title': 'After Earth', 'net_revenue': 113843127},\n",
              " {'title': 'Dinosaur', 'net_revenue': 226748063},\n",
              " {'title': 'Night at the Museum: Secret of the Tomb',\n",
              "  'net_revenue': 222424282},\n",
              " {'title': 'Megamind', 'net_revenue': 191887208},\n",
              " {'title': \"Harry Potter and the Philosopher's Stone\",\n",
              "  'net_revenue': 851475550},\n",
              " {'title': 'R.I.P.D.', 'net_revenue': -68351500},\n",
              " {'title': 'Pirates of the Caribbean: The Curse of the Black Pearl',\n",
              "  'net_revenue': 515011224},\n",
              " {'title': 'The Hunger Games: Mockingjay - Part 1', 'net_revenue': 627100229},\n",
              " {'title': 'The Da Vinci Code', 'net_revenue': 642820459},\n",
              " {'title': 'Rio 2', 'net_revenue': 397188435},\n",
              " {'title': 'X2', 'net_revenue': 297711549},\n",
              " {'title': 'Fast Five', 'net_revenue': 501137675},\n",
              " {'title': 'Sherlock Holmes: A Game of Shadows', 'net_revenue': 209615000},\n",
              " {'title': 'Clash of the Titans', 'net_revenue': 107713139},\n",
              " {'title': 'Total Recall', 'net_revenue': 196317921},\n",
              " {'title': 'The 13th Warrior', 'net_revenue': -98301101},\n",
              " {'title': 'The Bourne Legacy', 'net_revenue': 146572938},\n",
              " {'title': 'Batman & Robin', 'net_revenue': 113207122},\n",
              " {'title': 'How the Grinch Stole Christmas', 'net_revenue': 222141403},\n",
              " {'title': 'The Day After Tomorrow', 'net_revenue': 419272402},\n",
              " {'title': 'Mission: Impossible II', 'net_revenue': 421388105},\n",
              " {'title': 'The Perfect Storm', 'net_revenue': 205756637},\n",
              " {'title': 'Fantastic 4: Rise of the Silver Surfer', 'net_revenue': 159047763},\n",
              " {'title': 'Life of Pi', 'net_revenue': 489016565},\n",
              " {'title': 'Ghost Rider', 'net_revenue': 118738393},\n",
              " {'title': 'Jason Bourne', 'net_revenue': 295484914},\n",
              " {'title': \"Charlie's Angels: Full Throttle\", 'net_revenue': 139175788},\n",
              " {'title': 'Prometheus', 'net_revenue': 273170142},\n",
              " {'title': 'Stuart Little 2', 'net_revenue': 49956806},\n",
              " {'title': 'Elysium', 'net_revenue': 171140700},\n",
              " {'title': 'The Chronicles of Riddick', 'net_revenue': 10772733},\n",
              " {'title': 'RoboCop', 'net_revenue': 122688965},\n",
              " {'title': 'Speed Racer', 'net_revenue': -26054234},\n",
              " {'title': 'How Do You Know', 'net_revenue': -71331093},\n",
              " {'title': 'Knight and Day', 'net_revenue': 144930431},\n",
              " {'title': 'Oblivion', 'net_revenue': 166168572},\n",
              " {'title': 'Star Wars: Episode III - Revenge of the Sith',\n",
              "  'net_revenue': 737000000},\n",
              " {'title': 'Star Wars: Episode II - Attack of the Clones',\n",
              "  'net_revenue': 529398328},\n",
              " {'title': 'Monsters, Inc.', 'net_revenue': 447816256},\n",
              " {'title': 'The Wolverine', 'net_revenue': 295440673},\n",
              " {'title': 'Star Wars: Episode I - The Phantom Menace',\n",
              "  'net_revenue': 809317558},\n",
              " {'title': 'The Croods', 'net_revenue': 450178928},\n",
              " {'title': 'Asterix at the Olympic Games', 'net_revenue': 35649600},\n",
              " {'title': 'Windtalkers', 'net_revenue': -37371735},\n",
              " {'title': \"The Huntsman: Winter's War\", 'net_revenue': 49602163},\n",
              " {'title': 'Teenage Mutant Ninja Turtles', 'net_revenue': 352200000},\n",
              " {'title': 'Gravity', 'net_revenue': 611392705},\n",
              " {'title': \"Dante's Peak\", 'net_revenue': 62127760},\n",
              " {'title': 'Teenage Mutant Ninja Turtles: Out of the Shadows',\n",
              "  'net_revenue': 110623848},\n",
              " {'title': 'Fantastic Four', 'net_revenue': 47977596},\n",
              " {'title': 'Night at the Museum', 'net_revenue': 464480841},\n",
              " {'title': 'San Andreas', 'net_revenue': 360490832},\n",
              " {'title': 'Tomorrow Never Dies', 'net_revenue': 223011068},\n",
              " {'title': 'The Patriot', 'net_revenue': 105294342},\n",
              " {'title': \"Ocean's Twelve\", 'net_revenue': 252744280},\n",
              " {'title': 'Mr. & Mrs. Smith', 'net_revenue': 368207520},\n",
              " {'title': 'Insurgent', 'net_revenue': 185238201},\n",
              " {'title': 'The Aviator', 'net_revenue': -14000000},\n",
              " {'title': \"Gulliver's Travels\", 'net_revenue': 125382724},\n",
              " {'title': 'The Green Hornet', 'net_revenue': 107817248},\n",
              " {'title': '300: Rise of an Empire', 'net_revenue': 227580051},\n",
              " {'title': 'The Smurfs', 'net_revenue': 453749323},\n",
              " {'title': 'Home on the Range', 'net_revenue': -6048539},\n",
              " {'title': 'Allegiant', 'net_revenue': 69246868},\n",
              " {'title': 'Real Steel', 'net_revenue': 189268508},\n",
              " {'title': 'The Smurfs 2', 'net_revenue': 242434178},\n",
              " {'title': 'Speed 2: Cruise Control', 'net_revenue': 4508066},\n",
              " {'title': \"Ender's Game\", 'net_revenue': 15537191},\n",
              " {'title': 'Live Free or Die Hard', 'net_revenue': 273531464},\n",
              " {'title': 'The Lord of the Rings: The Fellowship of the Ring',\n",
              "  'net_revenue': 778368364},\n",
              " {'title': 'Around the World in 80 Days', 'net_revenue': -37821105},\n",
              " {'title': 'Ali', 'net_revenue': -19286175},\n",
              " {'title': 'The Cat in the Hat', 'net_revenue': 0},\n",
              " {'title': 'I, Robot', 'net_revenue': 227234916},\n",
              " {'title': 'Kingdom of Heaven', 'net_revenue': 81643158},\n",
              " {'title': 'Stuart Little', 'net_revenue': 167135367},\n",
              " {'title': 'The Princess and the Frog', 'net_revenue': 162045765},\n",
              " {'title': 'The Martian', 'net_revenue': 522161890},\n",
              " {'title': 'The Island', 'net_revenue': 36949164},\n",
              " {'title': 'Town & Country', 'net_revenue': -79627709},\n",
              " {'title': 'Gone in Sixty Seconds', 'net_revenue': 147202299},\n",
              " {'title': 'Gladiator', 'net_revenue': 354640427},\n",
              " {'title': 'Minority Report', 'net_revenue': 256372926},\n",
              " {'title': 'Harry Potter and the Chamber of Secrets',\n",
              "  'net_revenue': 776688482},\n",
              " {'title': 'Casino Royale', 'net_revenue': 449045960},\n",
              " {'title': 'Planet of the Apes', 'net_revenue': 262211740},\n",
              " {'title': 'Terminator 2: Judgment Day', 'net_revenue': 420000000},\n",
              " {'title': 'Public Enemies', 'net_revenue': 134104620},\n",
              " {'title': 'American Gangster', 'net_revenue': 166465037},\n",
              " {'title': 'True Lies', 'net_revenue': 263882411},\n",
              " {'title': 'The Taking of Pelham 1 2 3', 'net_revenue': 50166126},\n",
              " {'title': 'Little Fockers', 'net_revenue': 210650585},\n",
              " {'title': 'The Other Guys', 'net_revenue': 70432927},\n",
              " {'title': 'Eraser', 'net_revenue': 142295562},\n",
              " {'title': 'Django Unchained', 'net_revenue': 325368238},\n",
              " {'title': 'The Hunchback of Notre Dame', 'net_revenue': 138851},\n",
              " {'title': \"The Emperor's New Groove\", 'net_revenue': 69327687},\n",
              " {'title': 'The Expendables 2', 'net_revenue': 212573423},\n",
              " {'title': 'National Treasure', 'net_revenue': 247451894},\n",
              " {'title': 'Eragon', 'net_revenue': 149288105},\n",
              " {'title': 'Where the Wild Things Are', 'net_revenue': 86793},\n",
              " {'title': 'Epic', 'net_revenue': 168426634},\n",
              " {'title': 'The Tourist', 'net_revenue': 178731369},\n",
              " {'title': 'End of Days', 'net_revenue': 111989043},\n",
              " {'title': 'Blood Diamond', 'net_revenue': 70877916},\n",
              " {'title': 'The Wolf of Wall Street', 'net_revenue': 292000694},\n",
              " {'title': 'Batman Forever', 'net_revenue': 236529144},\n",
              " {'title': 'Starship Troopers', 'net_revenue': 16214377},\n",
              " {'title': 'Cloud Atlas', 'net_revenue': 28482868},\n",
              " {'title': \"Legend of the Guardians: The Owls of Ga'Hoole\",\n",
              "  'net_revenue': 60073390},\n",
              " {'title': 'Catwoman', 'net_revenue': -17897621},\n",
              " {'title': 'Hercules', 'net_revenue': 143400000},\n",
              " {'title': 'Treasure Planet', 'net_revenue': -30421885},\n",
              " {'title': 'Land of the Lost', 'net_revenue': -31311169},\n",
              " {'title': 'The Expendables 3', 'net_revenue': 116172544},\n",
              " {'title': 'Point Break', 'net_revenue': 28718711},\n",
              " {'title': 'Son of the Mask', 'net_revenue': -84000000},\n",
              " {'title': 'In the Heart of the Sea', 'net_revenue': -6179242},\n",
              " {'title': 'The Adventures of Pluto Nash', 'net_revenue': -92896027},\n",
              " {'title': 'Green Zone', 'net_revenue': -5117111},\n",
              " {'title': 'The Peanuts Movie', 'net_revenue': 147233113},\n",
              " {'title': 'The Spanish Prisoner', 'net_revenue': 3835130},\n",
              " {'title': 'The Mummy Returns', 'net_revenue': 335013274},\n",
              " {'title': 'Gangs of New York', 'net_revenue': 93772504},\n",
              " {'title': 'The Flowers of War', 'net_revenue': 1311434},\n",
              " {'title': \"Surf's Up\", 'net_revenue': 64044513},\n",
              " {'title': 'The Stepford Wives', 'net_revenue': 12000000},\n",
              " {'title': 'Black Hawk Down', 'net_revenue': 80989651},\n",
              " {'title': 'The Campaign', 'net_revenue': 104907746},\n",
              " {'title': 'The Fifth Element', 'net_revenue': 173920180},\n",
              " {'title': 'Sex and the City 2', 'net_revenue': 188347692},\n",
              " {'title': 'The Road to El Dorado', 'net_revenue': -18567273},\n",
              " {'title': 'Ice Age: Continental Drift', 'net_revenue': 782244782},\n",
              " {'title': 'Cinderella', 'net_revenue': 448514353},\n",
              " {'title': 'The Lovely Bones', 'net_revenue': 28525586},\n",
              " {'title': 'Finding Nemo', 'net_revenue': 846335536},\n",
              " {'title': 'The Lord of the Rings: The Return of the King',\n",
              "  'net_revenue': 1024888979},\n",
              " {'title': 'The Lord of the Rings: The Two Towers', 'net_revenue': 847287400},\n",
              " {'title': 'Seventh Son', 'net_revenue': 19178613},\n",
              " {'title': 'Lara Croft: Tomb Raider', 'net_revenue': 159703340},\n",
              " {'title': 'Transcendence', 'net_revenue': 3039258},\n",
              " {'title': 'Jurassic Park III', 'net_revenue': 275780809},\n",
              " {'title': 'Rise of the Planet of the Apes', 'net_revenue': 389860185},\n",
              " {'title': 'The Spiderwick Chronicles', 'net_revenue': 72839667},\n",
              " {'title': 'A Good Day to Die Hard', 'net_revenue': 212654182},\n",
              " {'title': 'The Alamo', 'net_revenue': -119180039},\n",
              " {'title': 'The Incredibles', 'net_revenue': 539442092},\n",
              " {'title': 'Cutthroat Island', 'net_revenue': -87982678},\n",
              " {'title': 'Percy Jackson & the Olympians: The Lightning Thief',\n",
              "  'net_revenue': 131497209},\n",
              " {'title': 'Men in Black', 'net_revenue': 499390539},\n",
              " {'title': 'Toy Story 2', 'net_revenue': 407366869},\n",
              " {'title': 'Unstoppable', 'net_revenue': 67805466},\n",
              " {'title': 'Rush Hour 2', 'net_revenue': 257325802},\n",
              " {'title': 'What Lies Beneath', 'net_revenue': 55464351},\n",
              " {'title': 'Cloudy with a Chance of Meatballs', 'net_revenue': 142988466},\n",
              " {'title': 'Ice Age: Dawn of the Dinosaurs', 'net_revenue': 796686817},\n",
              " {'title': 'The Secret Life of Walter Mitty', 'net_revenue': 98133322},\n",
              " {'title': \"Charlie's Angels\", 'net_revenue': 172105545},\n",
              " {'title': 'The Departed', 'net_revenue': 199847354},\n",
              " {'title': 'Mulan', 'net_revenue': 214320254},\n",
              " {'title': 'Tropic Thunder', 'net_revenue': 96072649},\n",
              " {'title': 'The Girl with the Dragon Tattoo', 'net_revenue': 142617430},\n",
              " {'title': 'Die Hard: With a Vengeance', 'net_revenue': 276101666},\n",
              " {'title': 'Sherlock Holmes', 'net_revenue': 434028679},\n",
              " {'title': 'Ben-Hur', 'net_revenue': -5938689},\n",
              " {'title': 'Atlantis: The Lost Empire', 'net_revenue': 66053725},\n",
              " {'title': 'Alvin and the Chipmunks: The Road Chip', 'net_revenue': 233755553},\n",
              " {'title': 'Valkyrie', 'net_revenue': 125276000},\n",
              " {'title': \"You Don't Mess with the Zohan\", 'net_revenue': 111596308},\n",
              " {'title': 'Pixels', 'net_revenue': 155637091},\n",
              " {'title': 'A.I. Artificial Intelligence', 'net_revenue': 135926552},\n",
              " {'title': 'The Haunted Mansion', 'net_revenue': 92290266},\n",
              " {'title': 'Contact', 'net_revenue': 81120329},\n",
              " {'title': 'Hollow Man', 'net_revenue': 95213455},\n",
              " {'title': 'The Interpreter', 'net_revenue': 82944923},\n",
              " {'title': 'Percy Jackson: Sea of Monsters', 'net_revenue': 84578751},\n",
              " {'title': 'Lara Croft Tomb Raider: The Cradle of Life',\n",
              "  'net_revenue': 61505388},\n",
              " {'title': 'Now You See Me 2', 'net_revenue': 244901337},\n",
              " {'title': 'The Saint', 'net_revenue': 50063304},\n",
              " {'title': 'Spy Game', 'net_revenue': 51049560},\n",
              " {'title': 'Mission to Mars', 'net_revenue': -29125385},\n",
              " {'title': 'Rio', 'net_revenue': 394635760},\n",
              " {'title': 'Bicentennial Man', 'net_revenue': -6300000},\n",
              " {'title': 'Volcano', 'net_revenue': -90000000},\n",
              " {'title': \"The Devil's Own\", 'net_revenue': 50807547},\n",
              " {'title': 'K-19: The Widowmaker', 'net_revenue': -64831034},\n",
              " {'title': 'Conan the Barbarian', 'net_revenue': 59114085},\n",
              " {'title': 'Cinderella Man', 'net_revenue': 20539911},\n",
              " {'title': 'The Nutcracker: The Untold Story', 'net_revenue': -73821041},\n",
              " {'title': 'Seabiscuit', 'net_revenue': 61336445},\n",
              " {'title': 'Twister', 'net_revenue': 402471524},\n",
              " {'title': 'Cast Away', 'net_revenue': 339632142},\n",
              " {'title': 'Happy Feet', 'net_revenue': 284335608},\n",
              " {'title': 'The Bourne Supremacy', 'net_revenue': 213500217},\n",
              " {'title': 'Air Force One', 'net_revenue': 230156409},\n",
              " {'title': \"Ocean's Eleven\", 'net_revenue': 365717150},\n",
              " {'title': 'The Three Musketeers', 'net_revenue': 57274484},\n",
              " {'title': 'Hotel Transylvania', 'net_revenue': 273375603},\n",
              " {'title': 'Enchanted', 'net_revenue': 255487652},\n",
              " {'title': 'Safe House', 'net_revenue': 123076205},\n",
              " {'title': '102 Dalmatians', 'net_revenue': 98611771},\n",
              " {'title': 'Tower Heist', 'net_revenue': 77930623},\n",
              " {'title': 'The Holiday', 'net_revenue': 109168700},\n",
              " {'title': 'Enemy of the State', 'net_revenue': 160649836},\n",
              " {'title': \"It's Complicated\", 'net_revenue': 134103655},\n",
              " {'title': \"Ocean's Thirteen\", 'net_revenue': 226312624},\n",
              " {'title': 'Open Season', 'net_revenue': 112309027},\n",
              " {'title': 'Divergent', 'net_revenue': 203747895},\n",
              " {'title': 'Enemy at the Gates', 'net_revenue': 28976270},\n",
              " {'title': 'The Rundown', 'net_revenue': -4083508},\n",
              " {'title': 'Last Action Hero', 'net_revenue': 52298489},\n",
              " {'title': 'Memoirs of a Geisha', 'net_revenue': 77242962},\n",
              " {'title': 'The Fast and the Furious: Tokyo Drift', 'net_revenue': 73468292},\n",
              " {'title': 'Arthur Christmas', 'net_revenue': 0},\n",
              " {'title': 'Meet Joe Black', 'net_revenue': 52940100},\n",
              " {'title': 'Collateral Damage', 'net_revenue': -6617567},\n",
              " {'title': 'All That Jazz', 'net_revenue': 37823676},\n",
              " {'title': 'Mirror Mirror', 'net_revenue': 98018522},\n",
              " {'title': 'Scott Pilgrim vs. the World', 'net_revenue': -12335441},\n",
              " {'title': 'The Core', 'net_revenue': 14208267},\n",
              " {'title': 'Nutty Professor II: The Klumps', 'net_revenue': 39307945},\n",
              " {'title': 'Scooby-Doo', 'net_revenue': 191650703},\n",
              " {'title': 'Dredd', 'net_revenue': -8962258},\n",
              " {'title': 'Click', 'net_revenue': 155181299},\n",
              " {'title': 'Creepshow', 'net_revenue': 13028755},\n",
              " {'title': 'Cats & Dogs 2 : The Revenge of Kitty Galore',\n",
              "  'net_revenue': 27483764},\n",
              " {'title': 'Jumper', 'net_revenue': 137231186},\n",
              " {'title': 'Hellboy II: The Golden Army', 'net_revenue': 75388063},\n",
              " {'title': 'Zodiac', 'net_revenue': 19785914},\n",
              " {'title': 'The 6th Day', 'net_revenue': 14085477},\n",
              " {'title': 'Bruce Almighty', 'net_revenue': 404572835},\n",
              " {'title': 'The Expendables', 'net_revenue': 194470394},\n",
              " {'title': 'Mission: Impossible', 'net_revenue': 377696359},\n",
              " {'title': 'The Hunger Games', 'net_revenue': 616210692},\n",
              " {'title': 'The Hangover Part II', 'net_revenue': 174455986},\n",
              " {'title': 'Batman Returns', 'net_revenue': 200000000},\n",
              " {'title': 'Over the Hedge', 'net_revenue': 263397247},\n",
              " {'title': 'Lilo & Stitch', 'net_revenue': 65771527},\n",
              " {'title': \"Charlotte's Web\", 'net_revenue': 59000000},\n",
              " {'title': 'Deep Impact', 'net_revenue': 65464664},\n",
              " {'title': 'RED 2', 'net_revenue': -84000000},\n",
              " {'title': 'The Longest Yard', 'net_revenue': 108320568},\n",
              " {'title': 'Alvin and the Chipmunks: Chipwrecked', 'net_revenue': 267695435},\n",
              " {'title': 'Grown Ups 2', 'net_revenue': 166984278},\n",
              " {'title': 'Get Smart', 'net_revenue': 150685453},\n",
              " {'title': \"Something's Gotta Give\", 'net_revenue': 186728738},\n",
              " {'title': 'Shutter Island', 'net_revenue': 214804195},\n",
              " {'title': 'Four Christmases', 'net_revenue': 83733697},\n",
              " {'title': 'Robots', 'net_revenue': 185696994},\n",
              " {'title': 'Face/Off', 'net_revenue': 165676146},\n",
              " {'title': 'Bedtime Stories', 'net_revenue': 132874442},\n",
              " {'title': 'Road to Perdition', 'net_revenue': 101001478},\n",
              " {'title': 'Just Go with It', 'net_revenue': 134918407},\n",
              " {'title': 'Con Air', 'net_revenue': 149012234},\n",
              " {'title': 'Eagle Eye', 'net_revenue': 98066569},\n",
              " {'title': 'Cold Mountain', 'net_revenue': 94013509},\n",
              " {'title': 'The Book of Eli', 'net_revenue': 77107755},\n",
              " {'title': 'Flubber', 'net_revenue': 97977226},\n",
              " {'title': 'The Haunting', 'net_revenue': 11188905},\n",
              " {'title': 'Space Jam', 'net_revenue': 170200000},\n",
              " {'title': 'The Pink Panther', 'net_revenue': 0},\n",
              " {'title': 'The Day the Earth Stood Still', 'net_revenue': 153093859},\n",
              " {'title': 'Conspiracy Theory', 'net_revenue': 61982834},\n",
              " {'title': 'Fury', 'net_revenue': 143817906},\n",
              " {'title': 'Six Days Seven Nights', 'net_revenue': 94000000},\n",
              " {'title': 'Yogi Bear', 'net_revenue': 121584141},\n",
              " {'title': 'Spirit: Stallion of the Cimarron', 'net_revenue': 42563539},\n",
              " {'title': 'Zookeeper', 'net_revenue': 89852759},\n",
              " {'title': 'Lost in Space', 'net_revenue': 56159423},\n",
              " {'title': 'The Manchurian Candidate', 'net_revenue': 16105964},\n",
              " {'title': 'Déjà Vu', 'net_revenue': 0},\n",
              " {'title': 'Hotel Transylvania 2', 'net_revenue': 393226958},\n",
              " {'title': 'Fantasia 2000', 'net_revenue': 10874570},\n",
              " {'title': 'The Time Machine', 'net_revenue': 43729176},\n",
              " {'title': 'Mighty Joe Young', 'net_revenue': -90000000},\n",
              " {'title': 'Swordfish', 'net_revenue': 45080413},\n",
              " {'title': 'The Legend of Zorro', 'net_revenue': 67400065},\n",
              " {'title': 'What Dreams May Come', 'net_revenue': -13514957},\n",
              " {'title': 'Little Nicky', 'net_revenue': -85000000},\n",
              " {'title': 'The Brothers Grimm', 'net_revenue': 17316267},\n",
              " {'title': 'Mars Attacks!', 'net_revenue': 31371017},\n",
              " {'title': 'Evolution', 'net_revenue': 0},\n",
              " {'title': 'The Edge', 'net_revenue': 43312294},\n",
              " {'title': 'Surrogates', 'net_revenue': 42444772},\n",
              " {'title': 'Thirteen Days', 'net_revenue': -45433254},\n",
              " {'title': 'Daylight', 'net_revenue': 79212469},\n",
              " {'title': 'Walking With Dinosaurs', 'net_revenue': 46546518},\n",
              " {'title': 'Battlefield Earth', 'net_revenue': -22600000},\n",
              " {'title': 'Looney Tunes: Back in Action', 'net_revenue': -11485156},\n",
              " {'title': 'Nine', 'net_revenue': -26174485},\n",
              " {'title': 'Timeline', 'net_revenue': -60519261},\n",
              " {'title': 'The Postman', 'net_revenue': -62373766},\n",
              " {'title': 'Babe: Pig in the City', 'net_revenue': -20868140},\n",
              " {'title': 'The Last Witch Hunter', 'net_revenue': 56936910},\n",
              " {'title': 'Red Planet', 'net_revenue': -46536031},\n",
              " {'title': 'Arthur and the Invisibles', 'net_revenue': 21944236},\n",
              " {'title': 'Oceans', 'net_revenue': 19406406},\n",
              " {'title': 'A Sound of Thunder', 'net_revenue': -74010360},\n",
              " {'title': 'Pompeii', 'net_revenue': -12168369},\n",
              " {'title': 'Top Cat Begins', 'net_revenue': -8000000},\n",
              " {'title': 'A Beautiful Mind', 'net_revenue': 253542341},\n",
              " {'title': 'The Lion King', 'net_revenue': 743241776},\n",
              " {'title': 'Journey 2: The Mysterious Island', 'net_revenue': 276692760},\n",
              " {'title': 'Cloudy with a Chance of Meatballs 2', 'net_revenue': 170384621},\n",
              " {'title': 'Red Dragon', 'net_revenue': 131196298},\n",
              " {'title': 'Hidalgo', 'net_revenue': 8103450},\n",
              " {'title': 'Jack and Jill', 'net_revenue': 70673788},\n",
              " {'title': '2 Fast 2 Furious', 'net_revenue': 160350661},\n",
              " {'title': 'The Little Prince', 'net_revenue': 33571250},\n",
              " {'title': 'The Invasion', 'net_revenue': -64928486},\n",
              " {'title': 'The Adventures of Rocky & Bullwinkle', 'net_revenue': -40865180},\n",
              " {'title': 'The Secret Life of Pets', 'net_revenue': 800958308},\n",
              " {'title': 'The League of Extraordinary Gentlemen', 'net_revenue': 101265204},\n",
              " {'title': 'Despicable Me 2', 'net_revenue': 894761885},\n",
              " {'title': 'Independence Day', 'net_revenue': 741969268},\n",
              " {'title': 'The Lost World: Jurassic Park', 'net_revenue': 156074524},\n",
              " {'title': 'Madagascar', 'net_revenue': 457680671},\n",
              " {'title': 'Children of Men', 'net_revenue': -6040249},\n",
              " {'title': 'X-Men', 'net_revenue': 221339527},\n",
              " {'title': 'Wanted', 'net_revenue': 183270008},\n",
              " {'title': 'The Rock', 'net_revenue': 260062621},\n",
              " {'title': 'Ice Age: The Meltdown', 'net_revenue': 580940780},\n",
              " {'title': '50 First Dates', 'net_revenue': 121482882},\n",
              " {'title': 'Hairspray', 'net_revenue': 40450008},\n",
              " {'title': 'Exorcist: The Beginning', 'net_revenue': -1999414},\n",
              " {'title': 'Inspector Gadget', 'net_revenue': -75000000},\n",
              " {'title': 'Now You See Me', 'net_revenue': 42698894},\n",
              " {'title': 'Grown Ups', 'net_revenue': 191430189},\n",
              " {'title': 'The Terminal', 'net_revenue': 159417255},\n",
              " {'title': 'Hotel for Dogs', 'net_revenue': 38034460},\n",
              " {'title': 'Vertical Limit', 'net_revenue': 140663859},\n",
              " {'title': \"Charlie Wilson's War\", 'net_revenue': 44000410},\n",
              " {'title': 'Shark Tale', 'net_revenue': 292275019},\n",
              " {'title': 'Dreamgirls', 'net_revenue': 84937680},\n",
              " {'title': 'Be Cool', 'net_revenue': 42226116},\n",
              " {'title': 'Munich', 'net_revenue': 60358911},\n",
              " {'title': 'Tears of the Sun', 'net_revenue': 15632458},\n",
              " {'title': 'Killers', 'net_revenue': 23159963},\n",
              " {'title': 'The Man from U.N.C.L.E.', 'net_revenue': 33145109},\n",
              " {'title': 'Spanglish', 'net_revenue': -24958633},\n",
              " {'title': 'Monster House', 'net_revenue': 65175006},\n",
              " {'title': 'Bandits', 'net_revenue': -7368097},\n",
              " {'title': 'First Knight', 'net_revenue': 72600435},\n",
              " {'title': 'Anna and the King', 'net_revenue': -75000000},\n",
              " {'title': 'Immortals', 'net_revenue': 151904017},\n",
              " {'title': 'Hostage', 'net_revenue': 25944725},\n",
              " {'title': 'Titan A.E.', 'net_revenue': -38245366},\n",
              " {'title': 'Hollywood Homicide', 'net_revenue': -23857341},\n",
              " {'title': 'Soldier', 'net_revenue': -60432117},\n",
              " {'title': 'Carriers', 'net_revenue': 5802422},\n",
              " {'title': 'Monkeybone', 'net_revenue': -69590483},\n",
              " {'title': 'Flight of the Phoenix', 'net_revenue': -23990820},\n",
              " {'title': 'Unbreakable', 'net_revenue': 173118121},\n",
              " {'title': 'Minions', 'net_revenue': 1082730962},\n",
              " {'title': 'Sucker Punch', 'net_revenue': 7792502},\n",
              " {'title': 'Snake Eyes', 'net_revenue': 30891409},\n",
              " {'title': 'Sphere', 'net_revenue': -61900000},\n",
              " {'title': 'The Angry Birds Movie', 'net_revenue': 276779543},\n",
              " {'title': \"Fool's Gold\", 'net_revenue': 41231041},\n",
              " {'title': 'Funny People', 'net_revenue': -13541018},\n",
              " {'title': 'The Kingdom', 'net_revenue': 16658558},\n",
              " {'title': 'Talladega Nights: The Ballad of Ricky Bobby',\n",
              "  'net_revenue': 90466177},\n",
              " {'title': 'Dr. Dolittle 2', 'net_revenue': 106104344},\n",
              " {'title': 'Braveheart', 'net_revenue': 138000000},\n",
              " {'title': 'Jarhead', 'net_revenue': 24889998},\n",
              " {'title': 'The Simpsons Movie', 'net_revenue': 452068851},\n",
              " {'title': 'The Majestic', 'net_revenue': -34682442},\n",
              " {'title': 'Driven', 'net_revenue': -39255262},\n",
              " {'title': 'Two Brothers', 'net_revenue': -12327950},\n",
              " {'title': 'The Village', 'net_revenue': 196697520},\n",
              " {'title': 'Doctor Dolittle', 'net_revenue': 223456605},\n",
              " {'title': 'Signs', 'net_revenue': 336247917},\n",
              " {'title': 'Shrek 2', 'net_revenue': 769838758},\n",
              " {'title': 'Cars', 'net_revenue': 341983149},\n",
              " {'title': 'Runaway Bride', 'net_revenue': 239457509},\n",
              " {'title': 'xXx', 'net_revenue': 207448382},\n",
              " {'title': 'The SpongeBob Movie: Sponge Out of Water',\n",
              "  'net_revenue': 237594032},\n",
              " {'title': 'Ransom', 'net_revenue': 229492681},\n",
              " {'title': 'Inglourious Basterds', 'net_revenue': 249131050},\n",
              " {'title': 'Hook', 'net_revenue': 230854823},\n",
              " {'title': 'Die Hard 2', 'net_revenue': 170031094},\n",
              " {'title': 'S.W.A.T.', 'net_revenue': 36643346},\n",
              " {'title': 'Vanilla Sky', 'net_revenue': 135388341},\n",
              " {'title': 'Lady in the Water', 'net_revenue': -32714831},\n",
              " {'title': 'AVP: Alien vs. Predator', 'net_revenue': 101183863},\n",
              " {'title': 'Alvin and the Chipmunks: The Squeakquel',\n",
              "  'net_revenue': 368140005},\n",
              " {'title': 'We Were Soldiers', 'net_revenue': 39660784},\n",
              " {'title': 'Olympus Has Fallen', 'net_revenue': 91025640},\n",
              " {'title': 'Star Trek: Insurrection', 'net_revenue': 48000000},\n",
              " {'title': 'Battle: Los Angeles', 'net_revenue': 132466756},\n",
              " {'title': 'Big Fish', 'net_revenue': 52919055},\n",
              " {'title': 'Wolf', 'net_revenue': 0},\n",
              " {'title': 'War Horse', 'net_revenue': 111584879},\n",
              " {'title': 'The Monuments Men', 'net_revenue': 84984035},\n",
              " {'title': 'The Abyss', 'net_revenue': 20000098},\n",
              " {'title': 'Wall Street: Money Never Sleeps', 'net_revenue': 64748021},\n",
              " {'title': 'Dracula Untold', 'net_revenue': 145529201},\n",
              " {'title': 'The Siege', 'net_revenue': 46672912},\n",
              " {'title': 'Stardust', 'net_revenue': 65560026},\n",
              " {'title': 'Seven Years in Tibet', 'net_revenue': 61457682},\n",
              " {'title': 'The Dilemma', 'net_revenue': -2887336},\n",
              " {'title': 'Bad Company', 'net_revenue': -4022705},\n",
              " {'title': 'Doom', 'net_revenue': -4012679},\n",
              " {'title': 'I Spy', 'net_revenue': -36438863},\n",
              " {'title': 'Underworld: Awakening', 'net_revenue': 90112671},\n",
              " {'title': 'Rock of Ages', 'net_revenue': -15581387},\n",
              " {'title': \"Hart's War\", 'net_revenue': -37712956},\n",
              " {'title': 'Killer Elite', 'net_revenue': -8222894},\n",
              " {'title': 'Rollerball', 'net_revenue': 0},\n",
              " {'title': 'Ballistic: Ecks vs. Sever', 'net_revenue': -50075967},\n",
              " {'title': 'Hard Rain', 'net_revenue': -50129433},\n",
              " {'title': 'Osmosis Jones', 'net_revenue': -61403089},\n",
              " {'title': \"Legends of Oz: Dorothy's Return\", 'net_revenue': -51337973},\n",
              " {'title': 'Blackhat', 'net_revenue': -52247060},\n",
              " {'title': 'Sky Captain and the World of Tomorrow', 'net_revenue': -12041304},\n",
              " {'title': 'Basic Instinct 2', 'net_revenue': -31370522},\n",
              " {'title': 'Escape Plan', 'net_revenue': 72915111},\n",
              " {'title': 'The Legend of Hercules', 'net_revenue': -8720548},\n",
              " {'title': 'The Sum of All Fears', 'net_revenue': 125000000},\n",
              " {'title': 'The Twilight Saga: Eclipse', 'net_revenue': 630491347},\n",
              " {'title': 'The Score', 'net_revenue': 3069884},\n",
              " {'title': 'Despicable Me', 'net_revenue': 474513985},\n",
              " {'title': 'Money Train', 'net_revenue': -24568887},\n",
              " {'title': 'Ted 2', 'net_revenue': 149022588},\n",
              " {'title': 'Agora', 'net_revenue': -30958495},\n",
              " {'title': 'Mystery Men', 'net_revenue': -38237989},\n",
              " {'title': 'Hall Pass', 'net_revenue': 47160734},\n",
              " {'title': 'The Insider', 'net_revenue': -29710088},\n",
              " {'title': 'The Finest Hours', 'net_revenue': -27900910},\n",
              " {'title': 'Body of Lies', 'net_revenue': 43280098},\n",
              " {'title': 'Dinner for Schmucks', 'net_revenue': 17387857},\n",
              " {'title': 'Abraham Lincoln: Vampire Hunter', 'net_revenue': 43265139},\n",
              " {'title': 'Entrapment', 'net_revenue': 146404396},\n",
              " {'title': 'The X Files', 'net_revenue': 123198313},\n",
              " {'title': 'The Last Legion', 'net_revenue': -41696962},\n",
              " {'title': 'Saving Private Ryan', 'net_revenue': 411840909},\n",
              " {'title': 'Need for Speed', 'net_revenue': 137277636},\n",
              " {'title': 'What Women Want', 'net_revenue': 304111707},\n",
              " {'title': 'Ice Age', 'net_revenue': 324257136},\n",
              " {'title': 'Dreamcatcher', 'net_revenue': 7715436},\n",
              " {'title': 'Lincoln', 'net_revenue': 210293450},\n",
              " {'title': 'The Matrix', 'net_revenue': 400517383},\n",
              " {'title': 'Apollo 13', 'net_revenue': 303237933},\n",
              " {'title': 'The Santa Clause 2', 'net_revenue': 107855065},\n",
              " {'title': 'Les Misérables', 'net_revenue': 380809770},\n",
              " {'title': \"You've Got Mail\", 'net_revenue': 185821495},\n",
              " {'title': 'Step Brothers', 'net_revenue': 63107642},\n",
              " {'title': 'The Mask of Zorro', 'net_revenue': 155288523},\n",
              " {'title': 'Due Date', 'net_revenue': 146780824},\n",
              " {'title': 'Unbroken', 'net_revenue': 98442937},\n",
              " {'title': 'Space Cowboys', 'net_revenue': 63884132},\n",
              " {'title': 'Cliffhanger', 'net_revenue': 185000211},\n",
              " {'title': 'Broken Arrow', 'net_revenue': 100270147},\n",
              " {'title': 'The Kid', 'net_revenue': 4700000},\n",
              " {'title': 'World Trade Center', 'net_revenue': 99945894},\n",
              " {'title': 'Mona Lisa Smile', 'net_revenue': -65000000},\n",
              " {'title': 'The Dictator', 'net_revenue': 114379533},\n",
              " {'title': 'Eyes Wide Shut', 'net_revenue': 97091208},\n",
              " {'title': 'Annie', 'net_revenue': 68821816},\n",
              " {'title': 'Focus', 'net_revenue': 103862963},\n",
              " {'title': 'This Means War', 'net_revenue': 91974557},\n",
              " {'title': 'Blade: Trinity', 'net_revenue': 63905366},\n",
              " {'title': 'Red Dawn', 'net_revenue': 34176497},\n",
              " {'title': 'Primary Colors', 'net_revenue': -65000000},\n",
              " {'title': 'Resident Evil: Retribution', 'net_revenue': 175159255},\n",
              " {'title': 'Death Race', 'net_revenue': 28762516},\n",
              " {'title': 'The Long Kiss Goodnight', 'net_revenue': 24456761},\n",
              " {'title': 'Proof of Life', 'net_revenue': -65000000},\n",
              " {'title': 'Zathura: A Space Adventure', 'net_revenue': -678499},\n",
              " {'title': 'Fight Club', 'net_revenue': 37853753},\n",
              " {'title': 'We Are Marshall', 'net_revenue': -21454636},\n",
              " {'title': 'Hudson Hawk', 'net_revenue': -47781920},\n",
              " {'title': 'Lucky Numbers', 'net_revenue': -65000000},\n",
              " {'title': 'I, Frankenstein', 'net_revenue': 6154592},\n",
              " {'title': 'Oliver Twist', 'net_revenue': -7906294},\n",
              " {'title': 'Elektra', 'net_revenue': 13681566},\n",
              " {'title': 'Sin City: A Dame to Kill For', 'net_revenue': -25592384},\n",
              " {'title': 'Random Hearts', 'net_revenue': 10608570},\n",
              " {'title': 'Everest', 'net_revenue': 148427584},\n",
              " {'title': 'Perfume: The Story of a Murderer', 'net_revenue': 82180323},\n",
              " {'title': 'Austin Powers in Goldmember', 'net_revenue': 233655431},\n",
              " {'title': 'Astro Boy', 'net_revenue': -20908933},\n",
              " {'title': 'Jurassic Park', 'net_revenue': 857100000},\n",
              " {'title': 'Wyatt Earp', 'net_revenue': -37948000},\n",
              " {'title': 'Clear and Present Danger', 'net_revenue': 153887717},\n",
              " {'title': 'Dragon Blade', 'net_revenue': 56545703},\n",
              " {'title': 'Little Man', 'net_revenue': 37595121},\n",
              " {'title': 'U-571', 'net_revenue': 65666415},\n",
              " {'title': 'The American President', 'net_revenue': 45879496},\n",
              " {'title': 'The Love Guru', 'net_revenue': -20180936},\n",
              " {'title': '3000 Miles to Graceland', 'net_revenue': -43279825},\n",
              " {'title': 'The Hateful Eight', 'net_revenue': 111760117},\n",
              " {'title': 'Blades of Glory', 'net_revenue': -53000000},\n",
              " {'title': 'Hop', 'net_revenue': 120953723},\n",
              " {'title': '300', 'net_revenue': 357610419},\n",
              " {'title': 'Meet the Fockers', 'net_revenue': 436642939},\n",
              " {'title': 'Marley & Me', 'net_revenue': 184082376},\n",
              " {'title': 'The Green Mile', 'net_revenue': 224600000},\n",
              " {'title': 'Wild Hogs', 'net_revenue': 253625427},\n",
              " {'title': 'Chicken Little', 'net_revenue': 164432665},\n",
              " {'title': 'Gone Girl', 'net_revenue': 308330363},\n",
              " {'title': 'The Bourne Identity', 'net_revenue': 154034224},\n",
              " {'title': 'GoldenEye', 'net_revenue': 294194034},\n",
              " {'title': \"The General's Daughter\", 'net_revenue': 89705852},\n",
              " {'title': 'The Truman Show', 'net_revenue': 204118201},\n",
              " {'title': 'The Prince of Egypt', 'net_revenue': 148613188},\n",
              " {'title': 'Daddy Day Care', 'net_revenue': 104433867},\n",
              " {'title': '2 Guns', 'net_revenue': 70940411},\n",
              " {'title': 'Cats & Dogs', 'net_revenue': 33375151},\n",
              " {'title': 'The Italian Job', 'net_revenue': 116070171},\n",
              " {'title': 'Two Weeks Notice', 'net_revenue': 33354918},\n",
              " {'title': 'Antz', 'net_revenue': 111757863},\n",
              " {'title': 'Couples Retreat', 'net_revenue': 101844840},\n",
              " {'title': 'Days of Thunder', 'net_revenue': 97920733},\n",
              " {'title': 'Cheaper by the Dozen 2', 'net_revenue': 69181830},\n",
              " {'title': 'Maze Runner: The Scorch Trials', 'net_revenue': 250256926},\n",
              " {'title': 'Eat Pray Love', 'net_revenue': 144594016},\n",
              " {'title': 'The Family Man', 'net_revenue': -60000000},\n",
              " {'title': 'RED', 'net_revenue': 13664962},\n",
              " {'title': 'Any Given Sunday', 'net_revenue': 45230832},\n",
              " {'title': 'The Horse Whisperer', 'net_revenue': 126883563},\n",
              " {'title': 'Collateral', 'net_revenue': 152764291},\n",
              " {'title': 'The Scorpion King', 'net_revenue': 105333180},\n",
              " {'title': 'Ladder 49', 'net_revenue': 14541707},\n",
              " {'title': 'Jack Reacher', 'net_revenue': 158340595},\n",
              " {'title': 'Deep Blue Sea', 'net_revenue': 13648228},\n",
              " {'title': 'This Is It', 'net_revenue': -60000000},\n",
              " {'title': 'Contagion', 'net_revenue': 77551594},\n",
              " {'title': 'Kangaroo Jack', 'net_revenue': 0},\n",
              " {'title': 'Coraline', 'net_revenue': 64596398},\n",
              " {'title': 'The Happening', 'net_revenue': 103403799},\n",
              " {'title': 'Man on Fire', 'net_revenue': 60293714},\n",
              " {'title': 'The Shaggy Dog', 'net_revenue': 11112916},\n",
              " {'title': 'Starsky & Hutch', 'net_revenue': 110268750},\n",
              " {'title': 'Jingle All the Way', 'net_revenue': 69832389},\n",
              " {'title': 'Hellboy', 'net_revenue': 33318987},\n",
              " {'title': 'A Civil Action', 'net_revenue': -13297099},\n",
              " {'title': 'ParaNorman', 'net_revenue': 47139399},\n",
              " {'title': 'The Jackal', 'net_revenue': 99330280},\n",
              " {'title': 'Paycheck', 'net_revenue': 36269812},\n",
              " {'title': 'Up Close & Personal', 'net_revenue': -60000000},\n",
              " {'title': 'The Tale of Despereaux', 'net_revenue': -9122855},\n",
              " {'title': 'The Tuxedo', 'net_revenue': 0},\n",
              " {'title': 'Under Siege 2: Dark Territory', 'net_revenue': 44324083},\n",
              " {'title': 'Jack Ryan: Shadow Recruit', 'net_revenue': -9450893},\n",
              " {'title': 'Joy', 'net_revenue': 41134059},\n",
              " {'title': 'London Has Fallen', 'net_revenue': 145754447},\n",
              " {'title': 'Alien: Resurrection', 'net_revenue': 92000000},\n",
              " {'title': 'Shooter', 'net_revenue': 34696996},\n",
              " {'title': 'The Boxtrolls', 'net_revenue': 48255770},\n",
              " {'title': 'Practical Magic', 'net_revenue': -28316623},\n",
              " {'title': 'The Lego Movie', 'net_revenue': 409160692},\n",
              " {'title': 'Miss Congeniality 2: Armed and Fabulous', 'net_revenue': 0},\n",
              " {'title': 'Reign of Fire', 'net_revenue': -16938018},\n",
              " {'title': 'Gangster Squad', 'net_revenue': 45200903},\n",
              " {'title': 'Year One', 'net_revenue': 2357900},\n",
              " {'title': 'Invictus', 'net_revenue': 62233971},\n",
              " {'title': 'State of Play', 'net_revenue': 27784194},\n",
              " {'title': 'Duplicity', 'net_revenue': -18146652},\n",
              " {'title': 'My Favorite Martian', 'net_revenue': -28149899},\n",
              " {'title': 'The Sentinel', 'net_revenue': 17920346},\n",
              " {'title': 'Planet 51', 'net_revenue': 34945765},\n",
              " {'title': 'Star Trek: Nemesis', 'net_revenue': 7312826},\n",
              " {'title': 'Intolerable Cruelty', 'net_revenue': 59940815},\n",
              " {'title': 'Trouble with the Curve', 'net_revenue': 0},\n",
              " {'title': 'Edge of Darkness', 'net_revenue': -5098661},\n",
              " {'title': 'The Relic', 'net_revenue': -26043392},\n",
              " {'title': 'Analyze That', 'net_revenue': -4996865},\n",
              " {'title': 'Righteous Kill', 'net_revenue': 13174566},\n",
              " {'title': 'Mercury Rising', 'net_revenue': -60000000},\n",
              " {'title': 'The Soloist', 'net_revenue': -28279842},\n",
              " {'title': 'The Legend of Bagger Vance', 'net_revenue': -40540573},\n",
              " {'title': 'Almost Famous', 'net_revenue': -12616311},\n",
              " {'title': 'Garfield: A Tail of Two Kitties', 'net_revenue': 141702264},\n",
              " {'title': 'xXx: State of the Union', 'net_revenue': 11073932},\n",
              " {'title': 'Priest', 'net_revenue': 18309131},\n",
              " {'title': 'Sinbad: Legend of the Seven Seas', 'net_revenue': -33711680},\n",
              " {'title': 'Event Horizon', 'net_revenue': -33326758},\n",
              " {'title': 'Dragonfly', 'net_revenue': -7677600},\n",
              " {'title': 'The Black Dahlia', 'net_revenue': -888798},\n",
              " {'title': 'Flyboys', 'net_revenue': -42200000},\n",
              " {'title': 'The Last Castle', 'net_revenue': -44357293},\n",
              " {'title': 'Supernova', 'net_revenue': -75171919},\n",
              " {'title': \"Winter's Tale\", 'net_revenue': -29199769},\n",
              " {'title': 'The Mortal Instruments: City of Bones', 'net_revenue': 30565421},\n",
              " {'title': 'Meet Dave', 'net_revenue': -9349921},\n",
              " {'title': 'Dark Water', 'net_revenue': -4526907},\n",
              " {'title': 'Edtv', 'net_revenue': -80000000},\n",
              " {'title': 'Inkheart', 'net_revenue': -2509626},\n",
              " {'title': 'The Spirit', 'net_revenue': -20968663},\n",
              " {'title': 'Mortdecai', 'net_revenue': -29581440},\n",
              " {'title': 'In the Name of the King: A Dungeon Siege Tale',\n",
              "  'net_revenue': -60000000},\n",
              " {'title': 'Beyond Borders', 'net_revenue': -35000000},\n",
              " {'title': 'The Monkey King 2', 'net_revenue': 125187158},\n",
              " {'title': 'The Great Raid', 'net_revenue': -69833498},\n",
              " {'title': 'Deadpool', 'net_revenue': 725112979},\n",
              " {'title': 'Holy Man', 'net_revenue': -60000000},\n",
              " {'title': 'American Sniper', 'net_revenue': 483507423},\n",
              " {'title': 'Goosebumps', 'net_revenue': 100162788},\n",
              " {'title': 'Just Like Heaven', 'net_revenue': 44854431},\n",
              " {'title': 'The Flintstones in Viva Rock Vegas', 'net_revenue': -23531725},\n",
              " {'title': 'Rambo III', 'net_revenue': 126015611},\n",
              " {'title': 'Leatherheads', 'net_revenue': -16700508},\n",
              " {'title': 'The Ridiculous 6', 'net_revenue': -60000000},\n",
              " {'title': 'Did You Hear About the Morgans?', 'net_revenue': 27280250},\n",
              " {'title': 'The Internship', 'net_revenue': -14000000},\n",
              " {'title': 'Resident Evil: Afterlife', 'net_revenue': 240228084},\n",
              " {'title': 'Red Tails', 'net_revenue': -7634623},\n",
              " {'title': \"The Devil's Advocate\", 'net_revenue': 95944660},\n",
              " {'title': \"That's My Boy\", 'net_revenue': -11941633},\n",
              " {'title': 'DragonHeart', 'net_revenue': 58267375},\n",
              " {'title': 'After the Sunset', 'net_revenue': 1347797},\n",
              " {'title': 'Ghost Rider: Spirit of Vengeance', 'net_revenue': 92217355},\n",
              " {'title': \"Captain Corelli's Mandolin\", 'net_revenue': 5112895},\n",
              " {'title': 'The Pacifier', 'net_revenue': 57006880},\n",
              " {'title': 'Walking Tall', 'net_revenue': 1223890},\n",
              " {'title': 'Forrest Gump', 'net_revenue': 622945399},\n",
              " {'title': 'Alvin and the Chipmunks', 'net_revenue': 301366633},\n",
              " {'title': 'Meet the Parents', 'net_revenue': 275444045},\n",
              " {'title': 'Pocahontas', 'net_revenue': 291079773},\n",
              " {'title': 'Superman', 'net_revenue': 245218018},\n",
              " {'title': 'The Nutty Professor', 'net_revenue': 74769345},\n",
              " {'title': 'Hitch', 'net_revenue': 298100420},\n",
              " {'title': 'George of the Jungle', 'net_revenue': -55000000},\n",
              " {'title': 'American Wedding', 'net_revenue': 176449203},\n",
              " {'title': 'Captain Phillips', 'net_revenue': 40000000},\n",
              " {'title': 'Date Night', 'net_revenue': 97263880},\n",
              " {'title': 'Casper', 'net_revenue': 237928194},\n",
              " {'title': 'The Equalizer', 'net_revenue': 137330738},\n",
              " {'title': 'Maid in Manhattan', 'net_revenue': 99906693},\n",
              " {'title': 'Crimson Tide', 'net_revenue': 104387195},\n",
              " {'title': 'The Pursuit of Happyness', 'net_revenue': 252077295},\n",
              " {'title': 'Flightplan', 'net_revenue': 168387299},\n",
              " {'title': 'Disclosure', 'net_revenue': 159015089},\n",
              " {'title': 'City of Angels', 'net_revenue': 143685114},\n",
              " {'title': 'Kill Bill: Vol. 1', 'net_revenue': 150949000},\n",
              " {'title': 'Bowfinger', 'net_revenue': -55000000},\n",
              " {'title': 'Kill Bill: Vol. 2', 'net_revenue': 122159461},\n",
              " {'title': 'Tango & Cash', 'net_revenue': 8408614},\n",
              " {'title': 'Death Becomes Her', 'net_revenue': 94022650},\n",
              " {'title': 'Shanghai Noon', 'net_revenue': 1932305},\n",
              " {'title': 'Executive Decision', 'net_revenue': 66969216},\n",
              " {'title': \"Mr. Popper's Penguins\", 'net_revenue': 132361754},\n",
              " {'title': 'The Forbidden Kingdom', 'net_revenue': 72906624},\n",
              " {'title': 'Free Birds', 'net_revenue': 55000000},\n",
              " {'title': 'Alien³', 'net_revenue': 109773545},\n",
              " {'title': 'Evita', 'net_revenue': 86047179},\n",
              " {'title': 'Ronin', 'net_revenue': -13389116},\n",
              " {'title': 'The Ghost and the Darkness', 'net_revenue': 25000000},\n",
              " {'title': 'Paddington', 'net_revenue': 204207227},\n",
              " {'title': 'The Watch', 'net_revenue': 267862},\n",
              " {'title': 'The Hunted', 'net_revenue': -20765992},\n",
              " {'title': 'Instinct', 'net_revenue': -80000000},\n",
              " {'title': 'Stuck on You', 'net_revenue': -21171682},\n",
              " {'title': 'Semi-Pro', 'net_revenue': 33472850},\n",
              " {'title': 'The Pirates! In an Adventure with Scientists!',\n",
              "  'net_revenue': 58338361},\n",
              " {'title': 'Changeling', 'net_revenue': 58020255},\n",
              " {'title': 'Chain Reaction', 'net_revenue': 10209334},\n",
              " {'title': 'The Fan', 'net_revenue': -36373581},\n",
              " {'title': 'The Phantom of the Opera', 'net_revenue': 84648887},\n",
              " {'title': 'Elizabeth: The Golden Age', 'net_revenue': 19237563},\n",
              " {'title': 'Æon Flux', 'net_revenue': -9695999},\n",
              " {'title': 'Gods and Generals', 'net_revenue': -43076064},\n",
              " {'title': 'Turbulence', 'net_revenue': -43533912},\n",
              " {'title': 'Imagine That', 'net_revenue': -55000000},\n",
              " {'title': 'Muppets Most Wanted', 'net_revenue': 30383290},\n",
              " {'title': 'Thunderbirds', 'net_revenue': -28716363},\n",
              " {'title': 'Burlesque', 'net_revenue': 34519773},\n",
              " {'title': 'A Very Long Engagement', 'net_revenue': -47000000},\n",
              " {'title': 'Lolita', 'net_revenue': 7250000},\n",
              " {'title': 'D-Tox', 'net_revenue': -48583698},\n",
              " {'title': 'Blade II', 'net_revenue': 101010032},\n",
              " {'title': 'Seven Pounds', 'net_revenue': 113167691},\n",
              " {'title': 'Bullet to the Head', 'net_revenue': -45510171},\n",
              " {'title': 'The Godfather: Part III', 'net_revenue': 82766062},\n",
              " {'title': 'Elizabethtown', 'net_revenue': -4965111},\n",
              " {'title': 'You, Me and Dupree', 'net_revenue': 76431368},\n",
              " {'title': 'Superman II', 'net_revenue': 136458706},\n",
              " {'title': 'Gigli', 'net_revenue': -46733791},\n",
              " {'title': \"All the King's Men\", 'net_revenue': -45549103},\n",
              " {'title': 'Shaft', 'net_revenue': 61196498},\n",
              " {'title': 'Anastasia', 'net_revenue': 86804348},\n",
              " {'title': 'Moulin Rouge!', 'net_revenue': 126713434},\n",
              " {'title': 'Domestic Disturbance', 'net_revenue': -20750706},\n",
              " {'title': 'Black Mass', 'net_revenue': 45837872},\n",
              " {'title': 'Flags of Our Fathers', 'net_revenue': -24099751},\n",
              " {'title': 'Law Abiding Citizen', 'net_revenue': 73690726},\n",
              " {'title': 'Grindhouse', 'net_revenue': -41962103},\n",
              " {'title': 'Beloved', 'net_revenue': 0},\n",
              " {'title': 'Lucky You', 'net_revenue': 5761917},\n",
              " {'title': 'Catch Me If You Can', 'net_revenue': 300114312},\n",
              " {'title': 'Zero Dark Thirty', 'net_revenue': 92820716},\n",
              " {'title': 'The Break-Up', 'net_revenue': 152999686},\n",
              " {'title': 'Mamma Mia!', 'net_revenue': 557841637},\n",
              " {'title': \"Valentine's Day\", 'net_revenue': 164485654},\n",
              " {'title': 'The Dukes of Hazzard', 'net_revenue': 60803676},\n",
              " {'title': 'The Thin Red Line', 'net_revenue': 46126565},\n",
              " {'title': 'The Change-Up', 'net_revenue': 23450437},\n",
              " {'title': 'Man on the Moon', 'net_revenue': -34565570},\n",
              " {'title': 'Casino', 'net_revenue': 64112375},\n",
              " {'title': 'From Paris with Love', 'net_revenue': 826594},\n",
              " {'title': 'Bulletproof Monk', 'net_revenue': -52000000},\n",
              " {'title': 'Me, Myself & Irene', 'net_revenue': 98270999},\n",
              " {'title': 'Barnyard', 'net_revenue': 21779000},\n",
              " {'title': 'Deck the Halls', 'net_revenue': 47231070},\n",
              " {'title': 'The Twilight Saga: New Moon', 'net_revenue': 659827462},\n",
              " {'title': 'Shrek', 'net_revenue': 424409218},\n",
              " {'title': 'The Adjustment Bureau', 'net_revenue': 77669379},\n",
              " {'title': 'Robin Hood: Prince of Thieves', 'net_revenue': 342493908},\n",
              " {'title': 'Jerry Maguire', 'net_revenue': 223552592},\n",
              " {'title': 'Ted', 'net_revenue': 499368315},\n",
              " {'title': 'As Good as It Gets', 'net_revenue': 264178011},\n",
              " {'title': 'Patch Adams', 'net_revenue': 152292902},\n",
              " {'title': 'Anchorman 2: The Legend Continues', 'net_revenue': 123649015},\n",
              " {'title': 'Mr. Deeds', 'net_revenue': 121269535},\n",
              " {'title': 'Super 8', 'net_revenue': 210095987},\n",
              " {'title': 'Erin Brockovich', 'net_revenue': 204271286},\n",
              " {'title': 'How to Lose a Guy in 10 Days', 'net_revenue': 127371441},\n",
              " {'title': '22 Jump Street', 'net_revenue': 138441614},\n",
              " {'title': 'Interview with the Vampire', 'net_revenue': 163664608},\n",
              " {'title': 'Yes Man', 'net_revenue': 155990978},\n",
              " {'title': 'Central Intelligence', 'net_revenue': 166972543},\n",
              " {'title': 'Stepmom', 'net_revenue': 0},\n",
              " {'title': \"Daddy's Home\", 'net_revenue': 192786137},\n",
              " {'title': 'Into the Woods', 'net_revenue': 162902372},\n",
              " {'title': 'Inside Man', 'net_revenue': 139376254},\n",
              " {'title': 'Payback', 'net_revenue': 71626121},\n",
              " {'title': 'Congo', 'net_revenue': 102022101},\n",
              " {'title': 'We Bought a Zoo', 'net_revenue': 70081841},\n",
              " {'title': 'Knowing', 'net_revenue': 105446362},\n",
              " {'title': 'Failure to Launch', 'net_revenue': 38715192},\n",
              " {'title': 'The Ring Two', 'net_revenue': 111451538},\n",
              " {'title': 'Crazy, Stupid, Love.', 'net_revenue': 92851197},\n",
              " {'title': 'Garfield', 'net_revenue': 150804534},\n",
              " {'title': 'Christmas with the Kranks', 'net_revenue': -60000000},\n",
              " {'title': 'Moneyball', 'net_revenue': 60206216},\n",
              " {'title': 'Outbreak', 'net_revenue': 139859560},\n",
              " {'title': 'Non-Stop', 'net_revenue': 172809600},\n",
              " {'title': 'Race to Witch Mountain', 'net_revenue': 56303988},\n",
              " {'title': 'V for Vendetta', 'net_revenue': 78511035},\n",
              " {'title': 'Shanghai Knights', 'net_revenue': 38323487},\n",
              " {'title': 'Curious George', 'net_revenue': 19834815},\n",
              " {'title': 'Herbie Fully Loaded', 'net_revenue': 16002004},\n",
              " {'title': \"Don't Say a Word\", 'net_revenue': 50020092},\n",
              " {'title': 'Hansel & Gretel: Witch Hunters', 'net_revenue': 174803475},\n",
              " {'title': 'Unfaithful', 'net_revenue': 69137784},\n",
              " {'title': 'I Am Number Four', 'net_revenue': 94492830},\n",
              " {'title': 'Syriana', 'net_revenue': 44000000},\n",
              " {'title': '13 Hours: The Secret Soldiers of Benghazi',\n",
              "  'net_revenue': 19411370},\n",
              " {'title': 'The Book of Life', 'net_revenue': 47437106},\n",
              " {'title': 'Firewall', 'net_revenue': 37800000},\n",
              " {'title': 'Absolute Power', 'net_revenue': 68310},\n",
              " {'title': 'G.I. Jane', 'net_revenue': -1830844},\n",
              " {'title': 'The Game', 'net_revenue': 59423648},\n",
              " {'title': 'Silent Hill', 'net_revenue': 47607453},\n",
              " {'title': 'The Replacements', 'net_revenue': 0},\n",
              " {'title': 'American Reunion', 'net_revenue': 184989584},\n",
              " {'title': 'The Negotiator', 'net_revenue': -5452319},\n",
              " {'title': 'Into the Storm', 'net_revenue': 110602194},\n",
              " {'title': 'Beverly Hills Cop III', 'net_revenue': 69208989},\n",
              " {'title': 'Gremlins 2: The New Batch', 'net_revenue': -8517793},\n",
              " {'title': 'The Judge', 'net_revenue': 33719388},\n",
              " {'title': 'The Peacemaker', 'net_revenue': -50000000},\n",
              " {'title': 'Resident Evil: Apocalypse', 'net_revenue': 84394835},\n",
              " {'title': 'Bridget Jones: The Edge of Reason', 'net_revenue': -9796980},\n",
              " {'title': 'Out of Time', 'net_revenue': 5495563},\n",
              " {'title': 'On Deadly Ground', 'net_revenue': -1000000},\n",
              " {'title': 'The Adventures of Sharkboy and Lavagirl', 'net_revenue': 19425966},\n",
              " {'title': 'The Beach', 'net_revenue': 104056873},\n",
              " {'title': 'Raising Helen', 'net_revenue': -281389},\n",
              " {'title': 'Ninja Assassin', 'net_revenue': 20462347},\n",
              " {'title': 'For Love of the Game', 'net_revenue': -50000000},\n",
              " {'title': 'Striptease', 'net_revenue': 63309743},\n",
              " {'title': 'Marmaduke', 'net_revenue': 33761844},\n",
              " {'title': 'Hereafter', 'net_revenue': 55197635},\n",
              " {'title': 'Murder by Numbers', 'net_revenue': 6714147},\n",
              " {'title': 'Assassins', 'net_revenue': -19696928},\n",
              " {'title': 'Hannibal Rising', 'net_revenue': 32169884},\n",
              " {'title': 'The Story of Us', 'net_revenue': 8900031},\n",
              " {'title': 'The Host', 'net_revenue': 19327201},\n",
              " {'title': 'Basic', 'net_revenue': -7207439},\n",
              " {'title': 'Blood Work', 'net_revenue': -23800483},\n",
              " {'title': 'The International', 'net_revenue': 10161391},\n",
              " {'title': 'Escape from L.A.', 'net_revenue': -7722635},\n",
              " {'title': 'The Iron Giant', 'net_revenue': -46840695},\n",
              " {'title': 'The Life Aquatic with Steve Zissou', 'net_revenue': -15191597},\n",
              " {'title': 'Free State of Jones', 'net_revenue': -24964050},\n",
              " {'title': 'The Life of David Gale', 'net_revenue': -11044402},\n",
              " {'title': 'Man of the House', 'net_revenue': -40000000},\n",
              " {'title': 'Run All Night', 'net_revenue': 21561644},\n",
              " {'title': 'Eastern Promises', 'net_revenue': 3612356},\n",
              " {'title': 'Into the Blue', 'net_revenue': -5565561},\n",
              " {'title': 'The Messenger: The Story of Joan of Arc', 'net_revenue': 6976317},\n",
              " {'title': 'Your Highness', 'net_revenue': -23778362},\n",
              " {'title': 'Dream House', 'net_revenue': -11497660},\n",
              " {'title': 'Mad City', 'net_revenue': -39458477},\n",
              " {'title': \"Baby's Day Out\", 'net_revenue': -33328495},\n",
              " {'title': 'The Scarlet Letter', 'net_revenue': -39617593},\n",
              " {'title': 'Fair Game', 'net_revenue': 2188922},\n",
              " {'title': 'Domino', 'net_revenue': -27055498},\n",
              " {'title': 'Jade', 'net_revenue': -40148390},\n",
              " {'title': 'Gamer', 'net_revenue': -9171460},\n",
              " {'title': 'Beautiful Creatures', 'net_revenue': 52138},\n",
              " {'title': 'Death to Smoochy', 'net_revenue': -55000000},\n",
              " {'title': 'Zoolander 2', 'net_revenue': 5969000},\n",
              " {'title': 'The Big Bounce', 'net_revenue': -43191450},\n",
              " {'title': 'What Planet Are You From?', 'net_revenue': -60000000},\n",
              " ...]"
            ]
          },
          "metadata": {},
          "execution_count": 82
        }
      ],
      "source": [
        "movie_summaries = [dict(zip(keys, movie)) for movie in titles_revenues]\n",
        "movie_summaries"
      ]
    },
    {
      "cell_type": "code",
      "execution_count": 83,
      "metadata": {
        "id": "Ml5SyKeU3OFr",
        "outputId": "5701972c-9a9a-4684-c039-f939771d16d6",
        "colab": {
          "base_uri": "https://localhost:8080/"
        }
      },
      "outputs": [
        {
          "output_type": "execute_result",
          "data": {
            "text/plain": [
              "[{'title': 'Avatar', 'net_revenue': 2550965087},\n",
              " {'title': \"Pirates of the Caribbean: At World's End\",\n",
              "  'net_revenue': 661000000},\n",
              " {'title': 'Spectre', 'net_revenue': 635674609}]"
            ]
          },
          "metadata": {},
          "execution_count": 83
        }
      ],
      "source": [
        "movie_summaries[:3]\n",
        "# [{'title': 'Avatar', 'net_revenue': 2550965087},\n",
        "#  {'title': \"Pirates of the Caribbean: At World's End\",\n",
        "#   'net_revenue': 661000000},\n",
        "#  {'title': 'Spectre', 'net_revenue': 635674609}]"
      ]
    },
    {
      "cell_type": "markdown",
      "metadata": {
        "id": "8JahkCl83OFs"
      },
      "source": [
        "Then sort the movies by the amount of net revenue they earned, from most to least."
      ]
    },
    {
      "cell_type": "code",
      "execution_count": 84,
      "metadata": {
        "id": "aWfPepqU3OFs"
      },
      "outputs": [],
      "source": [
        "sorted_movies = sorted(movie_summaries, key=lambda x: x['net_revenue'])"
      ]
    },
    {
      "cell_type": "code",
      "execution_count": null,
      "metadata": {
        "id": "KHQRUfQa3OFt",
        "outputId": "e12a90fd-c384-4b58-ca75-39c7f121f56e"
      },
      "outputs": [
        {
          "data": {
            "text/plain": [
              "[{'title': 'Avatar', 'net_revenue': 2550965087},\n",
              " {'title': 'Titanic', 'net_revenue': 1645034188},\n",
              " {'title': 'Jurassic World', 'net_revenue': 1363528810},\n",
              " {'title': 'Furious 7', 'net_revenue': 1316249360},\n",
              " {'title': 'The Avengers', 'net_revenue': 1299557910}]"
            ]
          },
          "execution_count": 59,
          "metadata": {},
          "output_type": "execute_result"
        }
      ],
      "source": [
        "sorted_movies[:5]"
      ]
    },
    {
      "cell_type": "markdown",
      "metadata": {
        "id": "5bSDJliV3OFt"
      },
      "source": [
        "### Summary"
      ]
    },
    {
      "cell_type": "markdown",
      "metadata": {
        "id": "uWN1z2KT3OFt"
      },
      "source": [
        "In this lesson we practiced using loops and list comprehensions to coerce our data.  We saw that both loops and list comprehensions perform the same operation, but that a list comprehension is shorter syntactically ."
      ]
    },
    {
      "cell_type": "markdown",
      "metadata": {
        "id": "20FonHGm3OFt"
      },
      "source": [
        "```python\n",
        "# ordinary loops\n",
        "titles = []\n",
        "for movie in movies:\n",
        "    titles.append(movie['title'])\n",
        "    \n",
        "# list comprehensions\n",
        "titles = [movie['title'] for movie in movies]\n",
        "```"
      ]
    },
    {
      "cell_type": "markdown",
      "metadata": {
        "id": "THRc2ise3OFt"
      },
      "source": [
        "We also practiced pairing up two lists of data with the `zip` method."
      ]
    }
  ],
  "metadata": {
    "kernelspec": {
      "display_name": "Python 3 (ipykernel)",
      "language": "python",
      "name": "python3"
    },
    "language_info": {
      "codemirror_mode": {
        "name": "ipython",
        "version": 3
      },
      "file_extension": ".py",
      "mimetype": "text/x-python",
      "name": "python",
      "nbconvert_exporter": "python",
      "pygments_lexer": "ipython3",
      "version": "3.10.6"
    },
    "colab": {
      "provenance": []
    }
  },
  "nbformat": 4,
  "nbformat_minor": 0
}