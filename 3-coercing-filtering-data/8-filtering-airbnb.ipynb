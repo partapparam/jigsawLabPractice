{
  "cells": [
    {
      "cell_type": "markdown",
      "metadata": {
        "id": "ltcb1NNe9MYs"
      },
      "source": [
        "# Filtering Airbnb"
      ]
    },
    {
      "cell_type": "markdown",
      "metadata": {
        "id": "DagKTnaq9MYz"
      },
      "source": [
        "### Introduction"
      ]
    },
    {
      "cell_type": "markdown",
      "metadata": {
        "id": "tQmshatt9MY0"
      },
      "source": [
        "In this lesson, we'll use our knowledge of loops and filtering to work with Airbnb data in New York City. Let's get started."
      ]
    },
    {
      "cell_type": "markdown",
      "metadata": {
        "id": "BAFv1mNA9MY1"
      },
      "source": [
        "### Loading and Exploring our Data"
      ]
    },
    {
      "cell_type": "markdown",
      "metadata": {
        "id": "W3i0MqgG9MY1"
      },
      "source": [
        "Let's start by loading up our data."
      ]
    },
    {
      "cell_type": "code",
      "execution_count": 1,
      "metadata": {
        "id": "1Y2LPXzd9MY1"
      },
      "outputs": [],
      "source": [
        "import pandas as pd\n",
        "listings_df = pd.read_csv('https://raw.githubusercontent.com/eng-6-22/mod-1-a-data-structures/master/3-coercing-filtering-data/AB_NYC_2019.csv')\n",
        "\n",
        "listings = listings_df.to_dict('records')"
      ]
    },
    {
      "cell_type": "markdown",
      "metadata": {
        "id": "sHTke-I89MY2"
      },
      "source": [
        "Let's start by seeing the number of listings we have gathered."
      ]
    },
    {
      "cell_type": "code",
      "execution_count": 2,
      "metadata": {
        "colab": {
          "base_uri": "https://localhost:8080/"
        },
        "id": "JXERry-l9MY3",
        "outputId": "f8b09e0b-e79e-4738-aa13-9af556c95696"
      },
      "outputs": [
        {
          "output_type": "execute_result",
          "data": {
            "text/plain": [
              "48895"
            ]
          },
          "metadata": {},
          "execution_count": 2
        }
      ],
      "source": [
        "len(listings)\n",
        "\n",
        "# 48895"
      ]
    },
    {
      "cell_type": "markdown",
      "metadata": {
        "id": "sSAih2Sn9MY4"
      },
      "source": [
        "And now, let's see which attributes are available to us on each listing.  Look at the keys available on a single listing."
      ]
    },
    {
      "cell_type": "code",
      "execution_count": 5,
      "metadata": {
        "colab": {
          "base_uri": "https://localhost:8080/"
        },
        "id": "QUKkkFAS9MY4",
        "outputId": "935d9b7f-8cb3-4547-e875-40f6aafa2998"
      },
      "outputs": [
        {
          "output_type": "execute_result",
          "data": {
            "text/plain": [
              "dict_keys(['id', 'name', 'host_id', 'host_name', 'neighbourhood_group', 'neighbourhood', 'latitude', 'longitude', 'room_type', 'price', 'minimum_nights', 'number_of_reviews', 'last_review', 'reviews_per_month', 'calculated_host_listings_count', 'availability_365'])"
            ]
          },
          "metadata": {},
          "execution_count": 5
        }
      ],
      "source": [
        "listings[0].keys()\n",
        "\n",
        "\n",
        "# dict_keys(['id', 'name', 'host_id', 'host_name', 'neighbourhood_group',\n",
        "# 'neighbourhood', 'latitude', 'longitude', 'room_type', 'price',\n",
        "# 'minimum_nights', 'number_of_reviews', 'last_review', 'reviews_per_month',\n",
        "# 'calculated_host_listings_count', 'availability_365'])"
      ]
    },
    {
      "cell_type": "markdown",
      "metadata": {
        "id": "OrKwROZ79MY5"
      },
      "source": [
        "Now we'll like to calculate some statistics with this data.  Before doing so, let's get a sense of how recent our data is.  "
      ]
    },
    {
      "cell_type": "markdown",
      "metadata": {
        "id": "lL2pftkl9MY5"
      },
      "source": [
        "To start, let's select just the `last_review` value from each element.  \n",
        "> Use list comprehension to create a list of `last_reviews`, one for each listing."
      ]
    },
    {
      "cell_type": "code",
      "execution_count": 6,
      "metadata": {
        "id": "93NbVT9Z9MY5"
      },
      "outputs": [],
      "source": [
        "last_reviews = [listing['last_review'] for listing in listings]"
      ]
    },
    {
      "cell_type": "code",
      "execution_count": 7,
      "metadata": {
        "colab": {
          "base_uri": "https://localhost:8080/"
        },
        "id": "S3xlxNDV9MY5",
        "outputId": "5692defd-0f8d-4d64-e5ef-a6b739896fa0"
      },
      "outputs": [
        {
          "output_type": "execute_result",
          "data": {
            "text/plain": [
              "['2018-10-19', '2019-05-21', nan, '2019-07-05', '2018-11-19']"
            ]
          },
          "metadata": {},
          "execution_count": 7
        }
      ],
      "source": [
        "last_reviews[:5]\n",
        "\n",
        "# ['2018-10-19', '2019-05-21', nan, '2019-07-05', '2018-11-19']"
      ]
    },
    {
      "cell_type": "markdown",
      "metadata": {
        "id": "e3m2rDai9MY5"
      },
      "source": [
        "We can see from the above that some of our listings have `nan` values.  \n",
        "> As we may know `nan` stands for not a number and is generally used to represent missing values.  \n",
        "\n",
        "Let's filter out the listings with last_review values of `nan`.  Removing only `nan` values can be tricky.  So here's a hint to get you started:"
      ]
    },
    {
      "cell_type": "markdown",
      "metadata": {
        "id": "Wr0fOXkp9MY5"
      },
      "source": [
        "> nan is of type `float`.  So to check if the our value is `nan` we can use something like the following."
      ]
    },
    {
      "cell_type": "code",
      "execution_count": null,
      "metadata": {
        "id": "oZQq8bI49MY6",
        "outputId": "add27ada-e27a-407a-ebc5-a6d7eaac2d1e"
      },
      "outputs": [
        {
          "data": {
            "text/plain": [
              "False"
            ]
          },
          "execution_count": 100,
          "metadata": {},
          "output_type": "execute_result"
        }
      ],
      "source": [
        "type(last_reviews[0]) == float"
      ]
    },
    {
      "cell_type": "code",
      "execution_count": null,
      "metadata": {
        "id": "U-ZX_j1B9MY6",
        "outputId": "8868fdc6-7cd6-44ee-e811-a99a55bc2c09"
      },
      "outputs": [
        {
          "data": {
            "text/plain": [
              "True"
            ]
          },
          "execution_count": 101,
          "metadata": {},
          "output_type": "execute_result"
        }
      ],
      "source": [
        "type(last_reviews[2]) == float"
      ]
    },
    {
      "cell_type": "code",
      "execution_count": null,
      "metadata": {
        "id": "DZJvHh5D9MY6"
      },
      "outputs": [],
      "source": [
        "last_reviews[0], last_reviews[2]\n",
        "# ('2018-10-19', nan)"
      ]
    },
    {
      "cell_type": "markdown",
      "metadata": {
        "id": "661mTBB39MY6"
      },
      "source": [
        "Now, use what you learned from above to select *listings* that do not have a `last_review` value of nan."
      ]
    },
    {
      "cell_type": "code",
      "execution_count": 8,
      "metadata": {
        "id": "iQPeyT_Z9MY6"
      },
      "outputs": [],
      "source": [
        "listings_not_nan = [listing for listing in listings if type(listing['last_review']) != float ]"
      ]
    },
    {
      "cell_type": "code",
      "execution_count": 9,
      "metadata": {
        "colab": {
          "base_uri": "https://localhost:8080/"
        },
        "id": "h2AgeAac9MY7",
        "outputId": "7360b7cd-9a1a-4135-e89e-0c4aabc06a34"
      },
      "outputs": [
        {
          "output_type": "execute_result",
          "data": {
            "text/plain": [
              "38843"
            ]
          },
          "metadata": {},
          "execution_count": 9
        }
      ],
      "source": [
        "len(listings_not_nan)\n",
        "\n",
        "# 38843"
      ]
    },
    {
      "cell_type": "markdown",
      "metadata": {
        "id": "kUrwj9cf9MY7"
      },
      "source": [
        "Calculate the percentage of listings we have left."
      ]
    },
    {
      "cell_type": "code",
      "execution_count": 11,
      "metadata": {
        "colab": {
          "base_uri": "https://localhost:8080/"
        },
        "id": "n1BemWTF9MY7",
        "outputId": "b0bd52f5-e66a-4ed9-c62c-3484031283bc"
      },
      "outputs": [
        {
          "output_type": "execute_result",
          "data": {
            "text/plain": [
              "0.7944166070150323"
            ]
          },
          "metadata": {},
          "execution_count": 11
        }
      ],
      "source": [
        "len(listings_not_nan)/len(listings)\n",
        "\n",
        "# 0.7944166070150323"
      ]
    },
    {
      "cell_type": "markdown",
      "metadata": {
        "id": "CqsczI8O9MY7"
      },
      "source": [
        "Ok, not amazing, but not bad."
      ]
    },
    {
      "cell_type": "markdown",
      "metadata": {
        "id": "j_26_t3f9MY7"
      },
      "source": [
        "### Back on Track"
      ]
    },
    {
      "cell_type": "markdown",
      "metadata": {
        "id": "7uh5-Lyc9MY7"
      },
      "source": [
        "Now that we've removed our listings with a last_review of nan, let's make sure that we are working with relatively recent reviews."
      ]
    },
    {
      "cell_type": "markdown",
      "metadata": {
        "id": "mzzyNaBs9MY7"
      },
      "source": [
        "Our first step is to change the first `last_review` value from to a Python string to a datetime object.\n",
        "\n",
        "> Let's practice this on a single element first."
      ]
    },
    {
      "cell_type": "markdown",
      "metadata": {
        "id": "4BZHfSG-9MY8"
      },
      "source": [
        "> See [this post](https://www.digitalocean.com/community/tutorials/python-string-to-datetime-strptime) for coercing data to a datetime to do so."
      ]
    },
    {
      "cell_type": "code",
      "execution_count": 12,
      "metadata": {
        "id": "Caeiou6u9MY8"
      },
      "outputs": [],
      "source": [
        "first_listing = listings[0]"
      ]
    },
    {
      "cell_type": "code",
      "execution_count": 14,
      "metadata": {
        "colab": {
          "base_uri": "https://localhost:8080/",
          "height": 35
        },
        "id": "AcPeN5X29MY8",
        "outputId": "8c58c494-3052-4a4e-a0f6-b668cbd33d98"
      },
      "outputs": [
        {
          "output_type": "execute_result",
          "data": {
            "text/plain": [
              "'2018-10-19'"
            ],
            "application/vnd.google.colaboratory.intrinsic+json": {
              "type": "string"
            }
          },
          "metadata": {},
          "execution_count": 14
        }
      ],
      "source": [
        "last_review = first_listing['last_review']\n",
        "last_review"
      ]
    },
    {
      "cell_type": "code",
      "execution_count": 18,
      "metadata": {
        "id": "oZG4m6C09MY8"
      },
      "outputs": [],
      "source": [
        "from datetime import datetime\n",
        "\n",
        "last_review_datetime = datetime.strptime(last_review, '%Y-%m-%d')"
      ]
    },
    {
      "cell_type": "code",
      "execution_count": 19,
      "metadata": {
        "colab": {
          "base_uri": "https://localhost:8080/"
        },
        "id": "9iYwS0Fu9MY8",
        "outputId": "dd653361-2d48-4d75-d065-cb854d5ce030"
      },
      "outputs": [
        {
          "output_type": "execute_result",
          "data": {
            "text/plain": [
              "(2018, 10)"
            ]
          },
          "metadata": {},
          "execution_count": 19
        }
      ],
      "source": [
        "last_review_datetime.year, last_review_datetime.month"
      ]
    },
    {
      "cell_type": "code",
      "execution_count": 20,
      "metadata": {
        "id": "YrbTBlTc9MY8"
      },
      "outputs": [],
      "source": [
        "listings_not_nan_copied = listings_not_nan.copy()"
      ]
    },
    {
      "cell_type": "markdown",
      "metadata": {
        "id": "wQpoD_TN9MY8"
      },
      "source": [
        "> Now iterate through the copy of `listings_not_nan_copied` and change each `last_review` to a datetime."
      ]
    },
    {
      "cell_type": "code",
      "execution_count": 21,
      "metadata": {
        "id": "SmpQZQvU9MY9"
      },
      "outputs": [],
      "source": [
        "# write code here to change the dictionaries in listings_not_nan_copied\n",
        "for listing in listings_not_nan_copied:\n",
        "  listing['last_review'] = datetime.strptime(listing['last_review'], '%Y-%m-%d')"
      ]
    },
    {
      "cell_type": "markdown",
      "metadata": {
        "id": "dITqA2LO9MY9"
      },
      "source": [
        "> We can check that each `last_review` is now a datetime object."
      ]
    },
    {
      "cell_type": "code",
      "execution_count": 22,
      "metadata": {
        "colab": {
          "base_uri": "https://localhost:8080/"
        },
        "id": "puqLSOiv9MY9",
        "outputId": "efc4d9f3-fbd4-48f0-a761-17a210b308ea"
      },
      "outputs": [
        {
          "output_type": "execute_result",
          "data": {
            "text/plain": [
              "[datetime.datetime(2018, 10, 19, 0, 0), datetime.datetime(2019, 5, 21, 0, 0)]"
            ]
          },
          "metadata": {},
          "execution_count": 22
        }
      ],
      "source": [
        "updated_last_reviews = [listing['last_review']\n",
        "                        for listing in listings_not_nan_copied]\n",
        "\n",
        "updated_last_reviews[:2]\n",
        "\n",
        "# [datetime.datetime(2018, 10, 19, 0, 0), datetime.datetime(2019, 5, 21, 0, 0)]"
      ]
    },
    {
      "cell_type": "markdown",
      "metadata": {
        "id": "EwX5P7BC9MY9"
      },
      "source": [
        "Ok, now find the listing with the oldest last_review, and then we'll find the listing with the most recent last review."
      ]
    },
    {
      "cell_type": "code",
      "execution_count": 27,
      "metadata": {
        "id": "Fstc5pzN9MZB"
      },
      "outputs": [],
      "source": [
        "earliest_listing = min(listings_not_nan_copied, key=lambda listing: listing['last_review'])"
      ]
    },
    {
      "cell_type": "code",
      "execution_count": 28,
      "metadata": {
        "colab": {
          "base_uri": "https://localhost:8080/"
        },
        "id": "Wczp8UeE9MZB",
        "outputId": "b3f3fdbf-d4c0-4ab0-fe94-ea3d2463ba7c"
      },
      "outputs": [
        {
          "output_type": "execute_result",
          "data": {
            "text/plain": [
              "datetime.datetime(2011, 3, 28, 0, 0)"
            ]
          },
          "metadata": {},
          "execution_count": 28
        }
      ],
      "source": [
        "earliest_listing['last_review']\n",
        "\n",
        "# datetime.datetime(2011, 3, 28, 0, 0)"
      ]
    },
    {
      "cell_type": "code",
      "execution_count": 29,
      "metadata": {
        "id": "Rz6Py3kk9MZC"
      },
      "outputs": [],
      "source": [
        "latest_listing = max(listings_not_nan_copied, key=lambda listing: listing['last_review'])\n"
      ]
    },
    {
      "cell_type": "code",
      "execution_count": 33,
      "metadata": {
        "colab": {
          "base_uri": "https://localhost:8080/"
        },
        "id": "ZIJaUBQS9MZC",
        "outputId": "71a537c9-b2a0-4899-95c3-0653ed1dbe3f"
      },
      "outputs": [
        {
          "output_type": "execute_result",
          "data": {
            "text/plain": [
              "2019"
            ]
          },
          "metadata": {},
          "execution_count": 33
        }
      ],
      "source": [
        "latest_listing['last_review'].year\n",
        "\n",
        "# datetime.datetime(2019, 7, 8, 0, 0)"
      ]
    },
    {
      "cell_type": "markdown",
      "metadata": {
        "id": "Kq3Gsq4f9MZC"
      },
      "source": [
        "So we can see that our data ranges from 2011 to July 2019.  Let's limit our data so that we only are working with data from July 2017 to July 2019."
      ]
    },
    {
      "cell_type": "code",
      "execution_count": 40,
      "metadata": {
        "id": "o2UuK3UQ9MZC"
      },
      "outputs": [],
      "source": [
        "recent_listings = [listing for listing in listings_not_nan_copied if listing['last_review']> datetime(2017, 6, 30)]"
      ]
    },
    {
      "cell_type": "code",
      "execution_count": 41,
      "metadata": {
        "colab": {
          "base_uri": "https://localhost:8080/"
        },
        "id": "xP7aUzg89MZC",
        "outputId": "e570d61e-5809-4ac2-ab45-00bc7d94d657"
      },
      "outputs": [
        {
          "output_type": "execute_result",
          "data": {
            "text/plain": [
              "33259"
            ]
          },
          "metadata": {},
          "execution_count": 41
        }
      ],
      "source": [
        "len(recent_listings)\n",
        "\n",
        "# 33259"
      ]
    },
    {
      "cell_type": "markdown",
      "metadata": {
        "id": "8vSSJfp89MZC"
      },
      "source": [
        "So now we have about 11000 recent listings."
      ]
    },
    {
      "cell_type": "markdown",
      "metadata": {
        "id": "cWeGJ-FR9MZD"
      },
      "source": [
        "### Listings by Neighborhood"
      ]
    },
    {
      "cell_type": "markdown",
      "metadata": {
        "id": "Z0Z5QILH9MZD"
      },
      "source": [
        "Let's getter a better sense of some of these recent listings.  Begin by creating a list of each `neighbourhood_group` of our recent listings."
      ]
    },
    {
      "cell_type": "code",
      "execution_count": 42,
      "metadata": {
        "colab": {
          "base_uri": "https://localhost:8080/"
        },
        "id": "xb79csKy9MZD",
        "outputId": "5deff354-019d-4400-f702-d8118605584a"
      },
      "outputs": [
        {
          "output_type": "execute_result",
          "data": {
            "text/plain": [
              "['Staten Island', 'Bronx', 'Brooklyn', 'Queens', 'Manhattan']"
            ]
          },
          "metadata": {},
          "execution_count": 42
        }
      ],
      "source": [
        "# write code here\n",
        "list(set([listing['neighbourhood_group'] for listing in recent_listings]))\n",
        "\n",
        "# ['Queens', 'Brooklyn', 'Bronx', 'Manhattan', 'Staten Island']"
      ]
    },
    {
      "cell_type": "markdown",
      "metadata": {
        "id": "_Yg5dtRg9MZD"
      },
      "source": [
        "Ok, so it looks like the five boroughs.  Now let's find the number `recent_listings` in Manhattan that were less than or equal to 50 dollars."
      ]
    },
    {
      "cell_type": "code",
      "execution_count": 43,
      "metadata": {
        "id": "_oytHX759MZD"
      },
      "outputs": [],
      "source": [
        "cheaper_manhattan_listings = [listing for listing in recent_listings if listing['neighbourhood_group'] == 'Manhattan' and listing['price'] <= 50]"
      ]
    },
    {
      "cell_type": "code",
      "execution_count": 44,
      "metadata": {
        "colab": {
          "base_uri": "https://localhost:8080/"
        },
        "id": "8ivkTUwW9MZE",
        "outputId": "99a86589-74d3-4ac9-d526-1c61ac3f1137"
      },
      "outputs": [
        {
          "output_type": "execute_result",
          "data": {
            "text/plain": [
              "640"
            ]
          },
          "metadata": {},
          "execution_count": 44
        }
      ],
      "source": [
        "len(cheaper_manhattan_listings)\n",
        "\n",
        "# 640"
      ]
    },
    {
      "cell_type": "markdown",
      "metadata": {
        "id": "5PMkS3sr9MZE"
      },
      "source": [
        "### Summary"
      ]
    },
    {
      "cell_type": "markdown",
      "metadata": {
        "id": "LgUKaf7m9MZE"
      },
      "source": [
        "In this lesson, we saw how to use filtering to reduce our dataset down to higher quality data and to then query our data.  We also worked to remove `nan` values by looking to see if the datatype of our data was a float.  As an alternative, we could have also used the function from the math library."
      ]
    },
    {
      "cell_type": "code",
      "execution_count": 39,
      "metadata": {
        "colab": {
          "base_uri": "https://localhost:8080/"
        },
        "id": "Vy3qGJtp9MZE",
        "outputId": "38443b06-9b87-4e82-d80d-ed576276bdc5"
      },
      "outputs": [
        {
          "output_type": "execute_result",
          "data": {
            "text/plain": [
              "True"
            ]
          },
          "metadata": {},
          "execution_count": 39
        }
      ],
      "source": [
        "import math\n",
        "import numpy as np\n",
        "\n",
        "math.isnan(np.nan)"
      ]
    }
  ],
  "metadata": {
    "kernelspec": {
      "display_name": "Python 3 (ipykernel)",
      "language": "python",
      "name": "python3"
    },
    "language_info": {
      "codemirror_mode": {
        "name": "ipython",
        "version": 3
      },
      "file_extension": ".py",
      "mimetype": "text/x-python",
      "name": "python",
      "nbconvert_exporter": "python",
      "pygments_lexer": "ipython3",
      "version": "3.10.6"
    },
    "colab": {
      "provenance": []
    }
  },
  "nbformat": 4,
  "nbformat_minor": 0
}