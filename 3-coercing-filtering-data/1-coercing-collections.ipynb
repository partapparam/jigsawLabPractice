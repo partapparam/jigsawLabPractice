{
  "cells": [
    {
      "cell_type": "markdown",
      "metadata": {
        "id": "Ze4Q-NAvqxnc"
      },
      "source": [
        "# Coercing Collections"
      ]
    },
    {
      "cell_type": "markdown",
      "metadata": {
        "id": "N7T14O5Eqxnf"
      },
      "source": [
        "### Introduction"
      ]
    },
    {
      "cell_type": "markdown",
      "metadata": {
        "id": "z1FNpb5qqxnf"
      },
      "source": [
        "So far we have learned about lists and dictionaries - and we have thought about the purpose of each.  One thing to explore further is how change our data from one form or another.  Doing so will allow us to take advantage of different methods and purposes of each datapoint."
      ]
    },
    {
      "cell_type": "markdown",
      "metadata": {
        "id": "mN0Xm3Qzqxnf"
      },
      "source": [
        "### Lists and Sets"
      ]
    },
    {
      "cell_type": "markdown",
      "metadata": {
        "id": "xV9AD4hQqxng"
      },
      "source": [
        "For example, two datatypes that are similar are lists and sets.  Here is a list of ages of employees."
      ]
    },
    {
      "cell_type": "code",
      "execution_count": 1,
      "metadata": {
        "id": "pXuOs_fBqxng"
      },
      "outputs": [],
      "source": [
        "ages = [22, 23, 22, 35, 40]"
      ]
    },
    {
      "cell_type": "markdown",
      "metadata": {
        "id": "GqFNSgP-qxnh"
      },
      "source": [
        "And below we coerce the list into a set."
      ]
    },
    {
      "cell_type": "code",
      "execution_count": 2,
      "metadata": {
        "id": "MFvINgRPqxnh",
        "outputId": "89fecece-99b1-4343-b0b7-a7ddf13621f4",
        "colab": {
          "base_uri": "https://localhost:8080/"
        }
      },
      "outputs": [
        {
          "output_type": "execute_result",
          "data": {
            "text/plain": [
              "{22, 23, 35, 40}"
            ]
          },
          "metadata": {},
          "execution_count": 2
        }
      ],
      "source": [
        "ages_set = set(ages)\n",
        "ages_set"
      ]
    },
    {
      "cell_type": "markdown",
      "metadata": {
        "id": "mdpmfMF5qxni"
      },
      "source": [
        "So as we can see, the set is a collection of unique items.  We can do a couple of things with sets.  Like seeing if there is an element in the set, or calculating the length of a set."
      ]
    },
    {
      "cell_type": "code",
      "execution_count": 3,
      "metadata": {
        "id": "xBpRcvG4qxnj",
        "outputId": "afca8fdb-8788-4956-a194-ac5b7588408e",
        "colab": {
          "base_uri": "https://localhost:8080/"
        }
      },
      "outputs": [
        {
          "output_type": "execute_result",
          "data": {
            "text/plain": [
              "True"
            ]
          },
          "metadata": {},
          "execution_count": 3
        }
      ],
      "source": [
        "22 in ages_set"
      ]
    },
    {
      "cell_type": "markdown",
      "metadata": {
        "id": "j9QrVG4aqxnj"
      },
      "source": [
        "But sets do not have a sense of order like a list does, and because of that there is no sense of an index in a set."
      ]
    },
    {
      "cell_type": "code",
      "execution_count": 4,
      "metadata": {
        "id": "UZet6oO-qxnj",
        "outputId": "5a4da96b-9034-4712-ee33-ee9ce04729a4",
        "colab": {
          "base_uri": "https://localhost:8080/",
          "height": 179
        }
      },
      "outputs": [
        {
          "output_type": "error",
          "ename": "TypeError",
          "evalue": "ignored",
          "traceback": [
            "\u001b[0;31m---------------------------------------------------------------------------\u001b[0m",
            "\u001b[0;31mTypeError\u001b[0m                                 Traceback (most recent call last)",
            "\u001b[0;32m<ipython-input-4-16cbc41ac6a6>\u001b[0m in \u001b[0;36m<cell line: 1>\u001b[0;34m()\u001b[0m\n\u001b[0;32m----> 1\u001b[0;31m \u001b[0mages_set\u001b[0m\u001b[0;34m[\u001b[0m\u001b[0;36m0\u001b[0m\u001b[0;34m]\u001b[0m\u001b[0;34m\u001b[0m\u001b[0;34m\u001b[0m\u001b[0m\n\u001b[0m",
            "\u001b[0;31mTypeError\u001b[0m: 'set' object is not subscriptable"
          ]
        }
      ],
      "source": [
        "ages_set[0]"
      ]
    },
    {
      "cell_type": "markdown",
      "metadata": {
        "id": "KzcQkOGuqxnk"
      },
      "source": [
        "For that we need a list."
      ]
    },
    {
      "cell_type": "code",
      "execution_count": 5,
      "metadata": {
        "id": "xf7auMRDqxnk",
        "outputId": "5de402f2-8410-4e41-ba7d-0cace36891a7",
        "colab": {
          "base_uri": "https://localhost:8080/"
        }
      },
      "outputs": [
        {
          "output_type": "execute_result",
          "data": {
            "text/plain": [
              "[40, 35, 22, 23]"
            ]
          },
          "metadata": {},
          "execution_count": 5
        }
      ],
      "source": [
        "list(ages_set)"
      ]
    },
    {
      "cell_type": "markdown",
      "metadata": {
        "id": "PrMlDrKJqxnk"
      },
      "source": [
        "### Dictionaries and Lists"
      ]
    },
    {
      "cell_type": "markdown",
      "metadata": {
        "id": "WJebkhe0qxnk"
      },
      "source": [
        "Let's take a look at a dictionary."
      ]
    },
    {
      "cell_type": "code",
      "execution_count": 6,
      "metadata": {
        "id": "QQIXPRIdqxnk"
      },
      "outputs": [],
      "source": [
        "nyc = {'name': 'nyc', 'state': 'NY', 'population': 8000000}"
      ]
    },
    {
      "cell_type": "markdown",
      "metadata": {
        "id": "d6MRIzoCqxnl"
      },
      "source": [
        "Now if we were to break down this dictionary, we might say that there is a list of keys and a list of values.  Let's access each of these components."
      ]
    },
    {
      "cell_type": "code",
      "execution_count": 7,
      "metadata": {
        "id": "Y5XNo5Z9qxnl",
        "outputId": "389894da-7152-4fbf-c54f-d5bdb3af3728",
        "colab": {
          "base_uri": "https://localhost:8080/"
        }
      },
      "outputs": [
        {
          "output_type": "execute_result",
          "data": {
            "text/plain": [
              "dict_keys(['name', 'state', 'population'])"
            ]
          },
          "metadata": {},
          "execution_count": 7
        }
      ],
      "source": [
        "nyc.keys()"
      ]
    },
    {
      "cell_type": "code",
      "execution_count": 8,
      "metadata": {
        "id": "oe8fS4TLqxnl",
        "outputId": "3d328ba3-b1c3-4362-e7c9-cba2d65393d5",
        "colab": {
          "base_uri": "https://localhost:8080/"
        }
      },
      "outputs": [
        {
          "output_type": "execute_result",
          "data": {
            "text/plain": [
              "dict_values(['nyc', 'NY', 8000000])"
            ]
          },
          "metadata": {},
          "execution_count": 8
        }
      ],
      "source": [
        "nyc.values()"
      ]
    },
    {
      "cell_type": "markdown",
      "metadata": {
        "id": "jZlaPr-kqxnl"
      },
      "source": [
        "Each of these returns a `dict_keys` object.  Unfortunately, we cannot directly access the elements of a dictkeys object.  But we can if we change this object into a list."
      ]
    },
    {
      "cell_type": "code",
      "execution_count": 9,
      "metadata": {
        "id": "faufTDpsqxnm",
        "outputId": "a301af80-6b93-43b4-ed16-bce5cf6815a8",
        "colab": {
          "base_uri": "https://localhost:8080/",
          "height": 35
        }
      },
      "outputs": [
        {
          "output_type": "execute_result",
          "data": {
            "text/plain": [
              "'population'"
            ],
            "application/vnd.google.colaboratory.intrinsic+json": {
              "type": "string"
            }
          },
          "metadata": {},
          "execution_count": 9
        }
      ],
      "source": [
        "city_keys = list(nyc.keys())\n",
        "city_keys[-1]"
      ]
    },
    {
      "cell_type": "markdown",
      "metadata": {
        "id": "hlQfTmd8qxnm"
      },
      "source": [
        "### From lists to dictionaries"
      ]
    },
    {
      "cell_type": "markdown",
      "metadata": {
        "id": "DpoAD0cdqxnm"
      },
      "source": [
        "Finally, if we have a list of keys and a list of values, we can turn them into a dictionary.  For example, here are the list of keys from `nyc`."
      ]
    },
    {
      "cell_type": "code",
      "execution_count": 10,
      "metadata": {
        "id": "BwqLmlZqqxnm",
        "outputId": "1e6ef16e-3bff-4cd5-a96b-7842de850a5d",
        "colab": {
          "base_uri": "https://localhost:8080/"
        }
      },
      "outputs": [
        {
          "output_type": "execute_result",
          "data": {
            "text/plain": [
              "['name', 'state', 'population']"
            ]
          },
          "metadata": {},
          "execution_count": 10
        }
      ],
      "source": [
        "city_keys"
      ]
    },
    {
      "cell_type": "markdown",
      "metadata": {
        "id": "Flr3_eY1qxnn"
      },
      "source": [
        "Let's say that we want to pair these with the values of a new city, Chicago.  We could do so with the following."
      ]
    },
    {
      "cell_type": "code",
      "execution_count": 11,
      "metadata": {
        "id": "FiMko0Rnqxnn"
      },
      "outputs": [],
      "source": [
        "chicago_vals = ['Chicago', 'Illinois', 4000000]"
      ]
    },
    {
      "cell_type": "code",
      "execution_count": 12,
      "metadata": {
        "id": "mMkjUcmjqxnn",
        "outputId": "fec89064-e92a-4821-d071-03ff0d364903",
        "colab": {
          "base_uri": "https://localhost:8080/"
        }
      },
      "outputs": [
        {
          "output_type": "execute_result",
          "data": {
            "text/plain": [
              "[('name', 'Chicago'), ('state', 'Illinois'), ('population', 4000000)]"
            ]
          },
          "metadata": {},
          "execution_count": 12
        }
      ],
      "source": [
        "paired_data = list(zip(city_keys, chicago_vals))\n",
        "paired_data"
      ]
    },
    {
      "cell_type": "markdown",
      "metadata": {
        "id": "M9kkveC8qxnn"
      },
      "source": [
        "So using `zip` we have paired up the keys and values.  And from there, we can turn this into a dictionary."
      ]
    },
    {
      "cell_type": "code",
      "execution_count": 13,
      "metadata": {
        "id": "j6Bk6d_8qxnn",
        "outputId": "01290f52-1f49-49f2-abbc-9c1ecb7dd3a3",
        "colab": {
          "base_uri": "https://localhost:8080/"
        }
      },
      "outputs": [
        {
          "output_type": "execute_result",
          "data": {
            "text/plain": [
              "{'name': 'Chicago', 'state': 'Illinois', 'population': 4000000}"
            ]
          },
          "metadata": {},
          "execution_count": 13
        }
      ],
      "source": [
        "chicago = dict(paired_data)\n",
        "chicago"
      ]
    },
    {
      "cell_type": "code",
      "execution_count": 14,
      "metadata": {
        "id": "izUU5Azlqxno",
        "outputId": "f4d9e25a-e731-45ec-903c-f1bf5ffe56bd",
        "colab": {
          "base_uri": "https://localhost:8080/",
          "height": 35
        }
      },
      "outputs": [
        {
          "output_type": "execute_result",
          "data": {
            "text/plain": [
              "'Illinois'"
            ],
            "application/vnd.google.colaboratory.intrinsic+json": {
              "type": "string"
            }
          },
          "metadata": {},
          "execution_count": 14
        }
      ],
      "source": [
        "chicago['state']"
      ]
    },
    {
      "cell_type": "markdown",
      "metadata": {
        "id": "H5pH9Oovqxno"
      },
      "source": [
        "### Summary"
      ]
    },
    {
      "cell_type": "markdown",
      "metadata": {
        "id": "CIVnwKrHqxno"
      },
      "source": [
        "In this lesson we saw how we can coerce our data into different types of collections.  We first went from a list to a set, which is an unordered collection that has a unique collection of items.  And saw how we can go from set to list.\n",
        "\n",
        "We also saw how we can extract a list of a dictionary's keys or values.  \n",
        "\n",
        "Finally, we saw how we can `zip` two lists together, and turn the result into a dictionary."
      ]
    }
  ],
  "metadata": {
    "kernelspec": {
      "display_name": "Python 3 (ipykernel)",
      "language": "python",
      "name": "python3"
    },
    "language_info": {
      "codemirror_mode": {
        "name": "ipython",
        "version": 3
      },
      "file_extension": ".py",
      "mimetype": "text/x-python",
      "name": "python",
      "nbconvert_exporter": "python",
      "pygments_lexer": "ipython3",
      "version": "3.10.6"
    },
    "colab": {
      "provenance": []
    }
  },
  "nbformat": 4,
  "nbformat_minor": 0
}