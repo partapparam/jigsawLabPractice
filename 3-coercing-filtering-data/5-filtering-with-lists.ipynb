{
  "cells": [
    {
      "cell_type": "markdown",
      "metadata": {
        "id": "lCUiuj34VqU_"
      },
      "source": [
        "# Filtering With Lists"
      ]
    },
    {
      "cell_type": "markdown",
      "metadata": {
        "id": "D3H1HwwaVqVG"
      },
      "source": [
        "### Introduction"
      ]
    },
    {
      "cell_type": "markdown",
      "metadata": {
        "id": "N21pZ19BVqVG"
      },
      "source": [
        "In the last couple lessons, we saw how we can loop through a collection of items in a list.  We did so to both select specific information from each element, as well as to make new calculations from each element.  In other words, we saw how to use loops to reject components of each element, as well as how to coerce each element.  \n",
        "\n",
        "In this lesson, we'll see how to remove entire elements with filtering."
      ]
    },
    {
      "cell_type": "markdown",
      "metadata": {
        "id": "QodqICEtVqVI"
      },
      "source": [
        "### What's filtering?"
      ]
    },
    {
      "cell_type": "markdown",
      "metadata": {
        "id": "RcY8yOnjVqVJ"
      },
      "source": [
        "With filtering, we will only select certain elements from our list."
      ]
    },
    {
      "cell_type": "markdown",
      "metadata": {
        "id": "-iEItZRpVqVK"
      },
      "source": [
        "For example, let's say that we have a list of numbers, we could select just those numbers that are greater than zero."
      ]
    },
    {
      "cell_type": "code",
      "execution_count": 1,
      "metadata": {
        "colab": {
          "base_uri": "https://localhost:8080/"
        },
        "id": "X-Yw8bgrVqVK",
        "outputId": "d53868aa-e7fe-4dae-c853-b41360a3aebd"
      },
      "outputs": [
        {
          "output_type": "execute_result",
          "data": {
            "text/plain": [
              "[-6, 8, -8, -2, -7, -3, 2, 4, 3, 0]"
            ]
          },
          "metadata": {},
          "execution_count": 1
        }
      ],
      "source": [
        "rand_list = [-6, 8, -8, -2, -7, -3, 2, 4, 3, 0]\n",
        "rand_list"
      ]
    },
    {
      "cell_type": "code",
      "execution_count": 2,
      "metadata": {
        "id": "jXioXbPpVqVN"
      },
      "outputs": [],
      "source": [
        "pos_numbers = []\n",
        "for num in rand_list:\n",
        "    if num > 0: pos_numbers.append(num)"
      ]
    },
    {
      "cell_type": "code",
      "execution_count": 3,
      "metadata": {
        "colab": {
          "base_uri": "https://localhost:8080/"
        },
        "id": "yeZNRRzEVqVN",
        "outputId": "3055e3c6-0f1a-4a86-84f5-7dc9f458d32d"
      },
      "outputs": [
        {
          "output_type": "execute_result",
          "data": {
            "text/plain": [
              "[8, 2, 4, 3]"
            ]
          },
          "metadata": {},
          "execution_count": 3
        }
      ],
      "source": [
        "pos_numbers"
      ]
    },
    {
      "cell_type": "markdown",
      "metadata": {
        "id": "6JldCLbkVqVO"
      },
      "source": [
        "Or let's say that we have data that has a mix of names but also empty strings.  We can remove the strings that are empty like so."
      ]
    },
    {
      "cell_type": "code",
      "execution_count": 4,
      "metadata": {
        "id": "LhaIpz1aVqVO"
      },
      "outputs": [],
      "source": [
        "names = ['sal', 'don', '', 'betty']\n",
        "clean_names = []\n",
        "for name in names:\n",
        "    if name: clean_names.append(name)"
      ]
    },
    {
      "cell_type": "code",
      "execution_count": 5,
      "metadata": {
        "colab": {
          "base_uri": "https://localhost:8080/"
        },
        "id": "Z4ZcYOtwVqVO",
        "outputId": "38c7556a-c3bf-4656-de9b-dc10ad0d191e"
      },
      "outputs": [
        {
          "output_type": "execute_result",
          "data": {
            "text/plain": [
              "['sal', 'don', 'betty']"
            ]
          },
          "metadata": {},
          "execution_count": 5
        }
      ],
      "source": [
        "clean_names"
      ]
    },
    {
      "cell_type": "markdown",
      "metadata": {
        "id": "eLbr66Y4VqVP"
      },
      "source": [
        "> Notice the use of a one line `if` statement."
      ]
    },
    {
      "cell_type": "markdown",
      "metadata": {
        "id": "64YWjcVvVqVP"
      },
      "source": [
        "Above we take advantage of the fact that only a string with contents is truthy."
      ]
    },
    {
      "cell_type": "markdown",
      "metadata": {
        "id": "ZnYEDBVNVqVP"
      },
      "source": [
        "### Selecting with List Comprehension"
      ]
    },
    {
      "cell_type": "markdown",
      "metadata": {
        "id": "Yt_sxttbVqVP"
      },
      "source": [
        "Above we selected sepecific elements through using a for loop.  But notice that we can also perform filtering through list comprehensions."
      ]
    },
    {
      "cell_type": "markdown",
      "metadata": {
        "id": "MNkyQhDBVqVP"
      },
      "source": [
        "For example, here are our list of numbers."
      ]
    },
    {
      "cell_type": "code",
      "execution_count": 6,
      "metadata": {
        "id": "YGvjh9tgVqVP"
      },
      "outputs": [],
      "source": [
        "rand_nums = [-6, 8, -8, -2, -7, -3, 2, 4, 3, 0]"
      ]
    },
    {
      "cell_type": "markdown",
      "metadata": {
        "id": "GDm3GB33VqVQ"
      },
      "source": [
        "And we can use list comprehension to select the numbers like so."
      ]
    },
    {
      "cell_type": "code",
      "execution_count": 7,
      "metadata": {
        "colab": {
          "base_uri": "https://localhost:8080/"
        },
        "id": "-mAXqGExVqVQ",
        "outputId": "299fd050-a15c-4d28-898d-5f59ef0a023b"
      },
      "outputs": [
        {
          "output_type": "execute_result",
          "data": {
            "text/plain": [
              "[8, 2, 4, 3]"
            ]
          },
          "metadata": {},
          "execution_count": 7
        }
      ],
      "source": [
        "[num for num in rand_nums if num > 0]"
      ]
    },
    {
      "cell_type": "markdown",
      "metadata": {
        "id": "3C3i8Ie5VqVQ"
      },
      "source": [
        "So breaking it down, this follows the following sequence.\n",
        "\n",
        "`[return_val for var in sequence if condition]`"
      ]
    },
    {
      "cell_type": "markdown",
      "metadata": {
        "id": "rOPUecD8VqVQ"
      },
      "source": [
        "So we can divide the list comprehension into a couple of parts."
      ]
    },
    {
      "cell_type": "markdown",
      "metadata": {
        "id": "WwjZ6OlWVqVQ"
      },
      "source": [
        "> The first two parts are the return value, and then the loop."
      ]
    },
    {
      "cell_type": "code",
      "execution_count": 8,
      "metadata": {
        "colab": {
          "base_uri": "https://localhost:8080/"
        },
        "id": "Ut1Kik9iVqVQ",
        "outputId": "8e110ff4-eb1f-404e-be90-c9ae6d8dbd67"
      },
      "outputs": [
        {
          "output_type": "execute_result",
          "data": {
            "text/plain": [
              "[-6, 8, -8, -2, -7, -3, 2, 4, 3, 0]"
            ]
          },
          "metadata": {},
          "execution_count": 8
        }
      ],
      "source": [
        "[num for num in rand_nums]\n",
        "#return val, loop"
      ]
    },
    {
      "cell_type": "markdown",
      "metadata": {
        "id": "Q3SPgN-FVqVR"
      },
      "source": [
        "And we end with the conditional."
      ]
    },
    {
      "cell_type": "code",
      "execution_count": 9,
      "metadata": {
        "colab": {
          "base_uri": "https://localhost:8080/"
        },
        "id": "dAk_9IE8VqVR",
        "outputId": "26f90a9c-69f5-4332-9cbb-b174b693f8d0"
      },
      "outputs": [
        {
          "output_type": "execute_result",
          "data": {
            "text/plain": [
              "[8, 2, 4, 3]"
            ]
          },
          "metadata": {},
          "execution_count": 9
        }
      ],
      "source": [
        "[num for num in rand_nums if num > 0]\n",
        "                        # conditional"
      ]
    },
    {
      "cell_type": "markdown",
      "metadata": {
        "id": "Y8rl6Q_pVqVR"
      },
      "source": [
        "> Now it's your turn."
      ]
    },
    {
      "cell_type": "markdown",
      "metadata": {
        "id": "ryRtMFj6VqVR"
      },
      "source": [
        "Use list comprehension to select only strings that are non-empty in the list below."
      ]
    },
    {
      "cell_type": "code",
      "execution_count": null,
      "metadata": {
        "id": "t6AU9KDaVqVR"
      },
      "outputs": [],
      "source": [
        "names = ['sal', 'don', '', 'betty']"
      ]
    },
    {
      "cell_type": "code",
      "execution_count": 10,
      "metadata": {
        "colab": {
          "base_uri": "https://localhost:8080/"
        },
        "id": "XeQgDJzRVqVS",
        "outputId": "f810ae8b-52db-42fc-9bea-26ca17a571cf"
      },
      "outputs": [
        {
          "output_type": "execute_result",
          "data": {
            "text/plain": [
              "['sal', 'don', 'betty']"
            ]
          },
          "metadata": {},
          "execution_count": 10
        }
      ],
      "source": [
        "# write code here\n",
        "new_names = [name for name in names if name]\n",
        "new_names\n",
        "# ['sal', 'don', 'betty']"
      ]
    },
    {
      "cell_type": "markdown",
      "metadata": {
        "id": "YIG91kXkVqVS"
      },
      "source": [
        "### Filtering and Mapping"
      ]
    },
    {
      "cell_type": "markdown",
      "metadata": {
        "id": "AI6-Z8fmVqVS"
      },
      "source": [
        "Finally, by altering the return value, we can both reduce the number of elements and coerce the elements that remain."
      ]
    },
    {
      "cell_type": "markdown",
      "metadata": {
        "id": "lsChtbtXVqVS"
      },
      "source": [
        "> For example, here we filter out the numbers that are negative."
      ]
    },
    {
      "cell_type": "code",
      "execution_count": 11,
      "metadata": {
        "colab": {
          "base_uri": "https://localhost:8080/"
        },
        "id": "u7xuFQ1GVqVT",
        "outputId": "3aac5fa6-4d85-4d13-f141-54887799afab"
      },
      "outputs": [
        {
          "output_type": "execute_result",
          "data": {
            "text/plain": [
              "[8, 2, 4, 3]"
            ]
          },
          "metadata": {},
          "execution_count": 11
        }
      ],
      "source": [
        "[num for num in rand_nums if num > 0]"
      ]
    },
    {
      "cell_type": "markdown",
      "metadata": {
        "id": "ezcM3kY3VqVT"
      },
      "source": [
        "And here we filter those numbers out, but multiply our remaining numbers by 100."
      ]
    },
    {
      "cell_type": "code",
      "execution_count": 12,
      "metadata": {
        "colab": {
          "base_uri": "https://localhost:8080/"
        },
        "id": "3FEeanttVqVT",
        "outputId": "17662b76-c3e0-4dfd-df1e-1b0e47cbee1c"
      },
      "outputs": [
        {
          "output_type": "execute_result",
          "data": {
            "text/plain": [
              "[800, 200, 400, 300]"
            ]
          },
          "metadata": {},
          "execution_count": 12
        }
      ],
      "source": [
        "[100*num for num in rand_nums if num > 0]"
      ]
    },
    {
      "cell_type": "markdown",
      "metadata": {
        "id": "E2UgoJqxVqVT"
      },
      "source": [
        "### Summary"
      ]
    },
    {
      "cell_type": "markdown",
      "metadata": {
        "id": "8ticDaC8VqVT"
      },
      "source": [
        "In this lesson, we saw how to only add certain elements to a list.  We first did this with a for loop.\n",
        "\n",
        "One by one, we only added the element `if` is passed a certain criteria."
      ]
    },
    {
      "cell_type": "markdown",
      "metadata": {
        "id": "xNZBdVawVqVT"
      },
      "source": [
        "```python\n",
        "rand_list = [-6, 8, -8, -2, -7, -3, 4, 3, 0]\n",
        "pos_numbers = []\n",
        "for num in rand_list:\n",
        "    if num > 0: pos_numbers.append(num)\n",
        "```"
      ]
    },
    {
      "cell_type": "markdown",
      "metadata": {
        "id": "p_SBveGKVqVY"
      },
      "source": [
        "Then we saw how to perform the equivalent operation with a list comprehension."
      ]
    },
    {
      "cell_type": "code",
      "execution_count": 13,
      "metadata": {
        "colab": {
          "base_uri": "https://localhost:8080/"
        },
        "id": "Gn35urYjVqVZ",
        "outputId": "116785d8-d3a9-4dca-fb99-d2ac041f0dde"
      },
      "outputs": [
        {
          "output_type": "execute_result",
          "data": {
            "text/plain": [
              "[8, 2, 4, 3]"
            ]
          },
          "metadata": {},
          "execution_count": 13
        }
      ],
      "source": [
        "rand_nums = [-6, 8, -8, -2, -7, -3, 2, 4, 3, 0]\n",
        "[num for num in rand_nums if num > 0]"
      ]
    },
    {
      "cell_type": "markdown",
      "metadata": {
        "id": "AfSFtcfjVqVZ"
      },
      "source": [
        "Finally, we saw that we can combine filtering, and then adjusting the return value of the selected elements in one statement."
      ]
    },
    {
      "cell_type": "code",
      "execution_count": 14,
      "metadata": {
        "colab": {
          "base_uri": "https://localhost:8080/"
        },
        "id": "lZDWgMFNVqVZ",
        "outputId": "eaf96440-f3b2-4e74-d7a5-87a1949ab279"
      },
      "outputs": [
        {
          "output_type": "execute_result",
          "data": {
            "text/plain": [
              "[4.0, 1.0, 2.0, 1.5]"
            ]
          },
          "metadata": {},
          "execution_count": 14
        }
      ],
      "source": [
        "[num/2 for num in rand_nums if num > 0]"
      ]
    }
  ],
  "metadata": {
    "kernelspec": {
      "display_name": "Python 3 (ipykernel)",
      "language": "python",
      "name": "python3"
    },
    "language_info": {
      "codemirror_mode": {
        "name": "ipython",
        "version": 3
      },
      "file_extension": ".py",
      "mimetype": "text/x-python",
      "name": "python",
      "nbconvert_exporter": "python",
      "pygments_lexer": "ipython3",
      "version": "3.9.7"
    },
    "colab": {
      "provenance": []
    }
  },
  "nbformat": 4,
  "nbformat_minor": 0
}