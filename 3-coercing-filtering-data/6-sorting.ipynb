{
  "cells": [
    {
      "cell_type": "markdown",
      "metadata": {
        "id": "0iFi-lYWKdEv"
      },
      "source": [
        "# Sorting"
      ]
    },
    {
      "cell_type": "markdown",
      "metadata": {
        "id": "Tg1IgOL4KdFA"
      },
      "source": [
        "### Introduction"
      ]
    },
    {
      "cell_type": "markdown",
      "metadata": {
        "id": "TtQq2-3XKdFA"
      },
      "source": [
        "In the last lesson, we saw how we can select elements based on their criteria.  One other feature of Python is that we can sort elements by certain criteria.  \n",
        "\n",
        "Let's take a look."
      ]
    },
    {
      "cell_type": "markdown",
      "metadata": {
        "id": "4O9rkybxKdFB"
      },
      "source": [
        "### Working with Sorting"
      ]
    },
    {
      "cell_type": "markdown",
      "metadata": {
        "id": "p7-17psCKdFB"
      },
      "source": [
        "There are two ways to sort a list in Python."
      ]
    },
    {
      "cell_type": "markdown",
      "metadata": {
        "id": "UtxL3V30KdFB"
      },
      "source": [
        "1. Using the `sorted` method."
      ]
    },
    {
      "cell_type": "code",
      "execution_count": null,
      "metadata": {
        "id": "ueq0As3IKdFD"
      },
      "outputs": [],
      "source": [
        "rand_nums = [-6, 8, -8, -2, -7, -3, 2, 4, 3, 0]"
      ]
    },
    {
      "cell_type": "code",
      "execution_count": null,
      "metadata": {
        "id": "JY_o7hCoKdFJ",
        "outputId": "2d4b45f6-e627-454d-f172-25d114c220c2"
      },
      "outputs": [
        {
          "data": {
            "text/plain": [
              "[-8, -7, -6, -3, -2, 0, 2, 3, 4, 8]"
            ]
          },
          "execution_count": 7,
          "metadata": {},
          "output_type": "execute_result"
        }
      ],
      "source": [
        "sorted(rand_nums)"
      ]
    },
    {
      "cell_type": "markdown",
      "metadata": {
        "id": "FEQnBYCUKdFK"
      },
      "source": [
        "> Using the sorted method returns a new list of sorted elements."
      ]
    },
    {
      "cell_type": "markdown",
      "metadata": {
        "id": "Si3UuOgbKdFL"
      },
      "source": [
        "2. Using the `sort` method."
      ]
    },
    {
      "cell_type": "code",
      "execution_count": null,
      "metadata": {
        "id": "QEECytQbKdFL"
      },
      "outputs": [],
      "source": [
        "rand_nums.sort()"
      ]
    },
    {
      "cell_type": "code",
      "execution_count": null,
      "metadata": {
        "id": "LsjS7-oHKdFM",
        "outputId": "41a0997b-efb5-4732-e3ce-3933fae43cd9"
      },
      "outputs": [
        {
          "data": {
            "text/plain": [
              "[-8, -7, -6, -3, -2, 0, 2, 3, 4, 8]"
            ]
          },
          "execution_count": 9,
          "metadata": {},
          "output_type": "execute_result"
        }
      ],
      "source": [
        "rand_nums"
      ]
    },
    {
      "cell_type": "markdown",
      "metadata": {
        "id": "J9xuRWPZKdFM"
      },
      "source": [
        "> The `sort` method alters the original list."
      ]
    },
    {
      "cell_type": "markdown",
      "metadata": {
        "id": "n9Mp-PQOKdFM"
      },
      "source": [
        "We can choose to sort in a descending order (from highest to lowest) like so."
      ]
    },
    {
      "cell_type": "code",
      "execution_count": null,
      "metadata": {
        "id": "nkjWycBNKdFM",
        "outputId": "5e7ebbc6-9985-4016-dd28-908775f23550"
      },
      "outputs": [
        {
          "data": {
            "text/plain": [
              "[8, 4, 3, 2, 0, -2, -3, -6, -7, -8]"
            ]
          },
          "execution_count": 10,
          "metadata": {},
          "output_type": "execute_result"
        }
      ],
      "source": [
        "sorted(rand_nums, reverse = True)"
      ]
    },
    {
      "cell_type": "markdown",
      "metadata": {
        "id": "POjxY4w5KdFN"
      },
      "source": [
        "### Sorting Nested Data"
      ]
    },
    {
      "cell_type": "markdown",
      "metadata": {
        "id": "mHpsJOKeKdFN"
      },
      "source": [
        "The `sorted` method also allows us to sort a nested list of data."
      ]
    },
    {
      "cell_type": "code",
      "execution_count": 3,
      "metadata": {
        "id": "jnC6j8UMKdFN"
      },
      "outputs": [],
      "source": [
        "cities = [\n",
        "{'name': 'Chicago', 'population': 2700000},\n",
        "{'name': 'Nyc', 'population':8000000},\n",
        "{'name': 'Los Angeles', 'population': 4000000}\n",
        "]"
      ]
    },
    {
      "cell_type": "markdown",
      "metadata": {
        "id": "lVvhvZZeKdFN"
      },
      "source": [
        "For example, here is how we can sort a list of cities by their population."
      ]
    },
    {
      "cell_type": "code",
      "execution_count": 4,
      "metadata": {
        "id": "5Ad55TIfKdFO",
        "outputId": "75d332ac-107f-4c15-8d6b-3a1e352e7398",
        "colab": {
          "base_uri": "https://localhost:8080/"
        }
      },
      "outputs": [
        {
          "output_type": "execute_result",
          "data": {
            "text/plain": [
              "[{'name': 'Chicago', 'population': 2700000},\n",
              " {'name': 'Los Angeles', 'population': 4000000},\n",
              " {'name': 'Nyc', 'population': 8000000}]"
            ]
          },
          "metadata": {},
          "execution_count": 4
        }
      ],
      "source": [
        "sorted(cities, key = lambda city: city['population'])"
      ]
    },
    {
      "cell_type": "markdown",
      "metadata": {
        "id": "HxWIjn6IKdFO"
      },
      "source": [
        "Let's break down the above.  We provide the `key = ` argument a `lambda` statement.  This works kind of like selecting elements from a dictionary in a loop.  `city` is our block variable that takes turns being each element in the list.  And we sort by the return value of the `lambda` statement - here, each city's population."
      ]
    },
    {
      "cell_type": "markdown",
      "metadata": {
        "id": "iYzRI7w6KdFO"
      },
      "source": [
        "Now it's your turn. Try placing the list of cities in alphabetical order using the `sorted` method."
      ]
    },
    {
      "cell_type": "code",
      "execution_count": 5,
      "metadata": {
        "id": "ZTtjNcXuKdFO"
      },
      "outputs": [],
      "source": [
        "alpha_sorted = sorted(cities, key = lambda city: city['name'])\n",
        "# [{'name': 'Chicago', 'population': 2700000},\n",
        "#  {'name': 'Los Angeles', 'population': 4000000},\n",
        "#  {'name': 'Nyc', 'population': 8000000}]"
      ]
    },
    {
      "cell_type": "markdown",
      "metadata": {
        "id": "OGa1MUlkKdFO"
      },
      "source": [
        "Note that Python also has `min` and `max` functions that work similarly."
      ]
    },
    {
      "cell_type": "code",
      "execution_count": 6,
      "metadata": {
        "id": "PvXTpJRfKdFO",
        "outputId": "5bfe0d10-1ea7-47eb-cfa4-965c94e9c35a",
        "colab": {
          "base_uri": "https://localhost:8080/"
        }
      },
      "outputs": [
        {
          "output_type": "execute_result",
          "data": {
            "text/plain": [
              "{'name': 'Chicago', 'population': 2700000}"
            ]
          },
          "metadata": {},
          "execution_count": 6
        }
      ],
      "source": [
        "min(cities, key = lambda city: city['population'])"
      ]
    },
    {
      "cell_type": "markdown",
      "metadata": {
        "id": "T515qCFjKdFU"
      },
      "source": [
        "> Above we used the `max` method to find the city with the largest population."
      ]
    },
    {
      "cell_type": "markdown",
      "metadata": {
        "id": "biYXV-x5KdFU"
      },
      "source": [
        "Your turn.  Use the `max` method to find the city that comes last alphabetically."
      ]
    },
    {
      "cell_type": "code",
      "execution_count": 7,
      "metadata": {
        "id": "lY8NvEDvKdFU"
      },
      "outputs": [],
      "source": [
        "last_city = max(cities, key = lambda city: city['name'])\n",
        "# {'name': 'Nyc', 'population': 8000000}"
      ]
    },
    {
      "cell_type": "markdown",
      "metadata": {
        "id": "RJxbax-kKdFU"
      },
      "source": [
        "### Summary"
      ]
    },
    {
      "cell_type": "markdown",
      "metadata": {
        "id": "hTNLm6eAKdFU"
      },
      "source": [
        "In this lesson we saw how to `sort` elements of our list in Python.  We can do so either using the `sort` method -- which alters the original list -- or the `sorted` method, which returns a new list.\n",
        "\n",
        "We saw that we can sort by different criteria with the element `key = lambda x:` pattern."
      ]
    }
  ],
  "metadata": {
    "kernelspec": {
      "display_name": "Python 3 (ipykernel)",
      "language": "python",
      "name": "python3"
    },
    "language_info": {
      "codemirror_mode": {
        "name": "ipython",
        "version": 3
      },
      "file_extension": ".py",
      "mimetype": "text/x-python",
      "name": "python",
      "nbconvert_exporter": "python",
      "pygments_lexer": "ipython3",
      "version": "3.9.10"
    },
    "colab": {
      "provenance": []
    }
  },
  "nbformat": 4,
  "nbformat_minor": 0
}