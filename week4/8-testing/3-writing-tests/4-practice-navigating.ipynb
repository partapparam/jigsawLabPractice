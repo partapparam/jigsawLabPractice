{
  "cells": [
    {
      "cell_type": "markdown",
      "metadata": {
        "id": "dd7LOSGQHYCh"
      },
      "source": [
        "# Writing FourSquare Tests"
      ]
    },
    {
      "cell_type": "markdown",
      "metadata": {
        "id": "u2wWHMyCHYC1"
      },
      "source": [
        "### Introduction"
      ]
    },
    {
      "cell_type": "markdown",
      "metadata": {
        "id": "L-S4Ay8kHYC2"
      },
      "source": [
        "Now in this lesson, let's practice working with the Foursquare API and writing functions to better help us navigate the API.  In this lesson we'll try to use test driven development.  This means that we should write the tests first, and then can move onto the code."
      ]
    },
    {
      "cell_type": "markdown",
      "metadata": {
        "id": "87rxro_EHYC2"
      },
      "source": [
        "### A. Setup the files"
      ]
    },
    {
      "cell_type": "markdown",
      "metadata": {
        "id": "DCr7fI4mHYC3"
      },
      "source": [
        "Let's review some functions tasks from the FourSquare lab, and use them to practice writing tests."
      ]
    },
    {
      "cell_type": "markdown",
      "metadata": {
        "id": "gAJkI-RQHYC3"
      },
      "source": [
        "Begin by creating `index.py` and `test_index.py` files."
      ]
    },
    {
      "cell_type": "code",
      "source": [
        "!touch index.py test_index.py"
      ],
      "metadata": {
        "id": "8agLCcagHozm"
      },
      "execution_count": 1,
      "outputs": []
    },
    {
      "cell_type": "markdown",
      "metadata": {
        "id": "TuQqa2u2HYC3"
      },
      "source": [
        "### B. The Querying Params method\n",
        "\n",
        "Let's rewrite the `params_string` method."
      ]
    },
    {
      "cell_type": "markdown",
      "metadata": {
        "id": "hWSAGhBUHYC4"
      },
      "source": [
        "#### 1. Write the tests first.\n",
        "\n",
        "Let's begin by writing the tests for params string.  "
      ]
    },
    {
      "cell_type": "code",
      "source": [
        "params = {'ll': \"40.7,-74\", \"query\": \"tacos\"}\n",
        "strings = [f'&{k}={v}' for k, v in params.items()]\n",
        "''.join(strings)"
      ],
      "metadata": {
        "id": "3eWNOG-IJP-p",
        "outputId": "30648690-5973-403e-c0af-0b0c5d2b0eb8",
        "colab": {
          "base_uri": "https://localhost:8080/",
          "height": 36
        }
      },
      "execution_count": 4,
      "outputs": [
        {
          "output_type": "execute_result",
          "data": {
            "text/plain": [
              "'&ll=40.7,-74&query=tacos'"
            ],
            "application/vnd.google.colaboratory.intrinsic+json": {
              "type": "string"
            }
          },
          "metadata": {},
          "execution_count": 4
        }
      ]
    },
    {
      "cell_type": "markdown",
      "metadata": {
        "id": "dR_y4wgPHYC5"
      },
      "source": [
        "a) The first test should check for the following."
      ]
    },
    {
      "cell_type": "markdown",
      "metadata": {
        "id": "ROG53KMVHYC5"
      },
      "source": [
        "* Input: `params = {'ll': \"40.7,-74\", \"query\": \"tacos\"}`\n",
        "* Output: `'&ll=40.7,-74&query=tacos'`"
      ]
    },
    {
      "cell_type": "markdown",
      "metadata": {
        "id": "o5x6GOb4HYDB"
      },
      "source": [
        "> Write this in the `test_index.py` file."
      ]
    },
    {
      "cell_type": "markdown",
      "metadata": {
        "id": "2qUJtS2HHYDB"
      },
      "source": [
        "b. Next, write another test that passes through *three* key value pairs, and checks that the proper output is returned."
      ]
    },
    {
      "cell_type": "markdown",
      "metadata": {
        "id": "SdpIxDe7HYDB"
      },
      "source": [
        "#### 2. Then the code\n",
        "\n",
        "Finally write the `params_string` function to pass both tests.  We can write that code in the `index.py` file."
      ]
    },
    {
      "cell_type": "code",
      "execution_count": null,
      "metadata": {
        "id": "laBQtS_wHYDD"
      },
      "outputs": [],
      "source": [
        "def params_string(params):\n",
        "    pass\n"
      ]
    },
    {
      "cell_type": "markdown",
      "metadata": {
        "id": "dJi8BHX0HYDF"
      },
      "source": [
        "### 3. Run the tests"
      ]
    },
    {
      "cell_type": "markdown",
      "metadata": {
        "id": "RWMwAoFGHYDF"
      },
      "source": [
        "Then, run the tests by running `pytest` from the terminal to see if the code was written properly."
      ]
    },
    {
      "cell_type": "code",
      "execution_count": 7,
      "metadata": {
        "id": "5lRQfyxrHYDG",
        "outputId": "03266254-ce27-452d-a4ff-0d6d6a2994b1",
        "colab": {
          "base_uri": "https://localhost:8080/"
        }
      },
      "outputs": [
        {
          "output_type": "stream",
          "name": "stdout",
          "text": [
            "\u001b[1m======================================= test session starts ========================================\u001b[0m\n",
            "platform linux -- Python 3.10.12, pytest-7.4.3, pluggy-1.3.0\n",
            "rootdir: /content\n",
            "plugins: anyio-3.7.1\n",
            "\u001b[1mcollecting ... \u001b[0m\u001b[1m\rcollected 2 items                                                                                  \u001b[0m\n",
            "\n",
            "test_index.py \u001b[32m.\u001b[0m\u001b[32m.\u001b[0m\u001b[32m                                                                             [100%]\u001b[0m\n",
            "\n",
            "\u001b[32m======================================== \u001b[32m\u001b[1m2 passed\u001b[0m\u001b[32m in 0.02s\u001b[0m\u001b[32m =========================================\u001b[0m\n"
          ]
        }
      ],
      "source": [
        "!pytest"
      ]
    },
    {
      "cell_type": "markdown",
      "metadata": {
        "id": "fCkcLxItHYDG"
      },
      "source": [
        "### Extract Venues"
      ]
    },
    {
      "cell_type": "markdown",
      "metadata": {
        "id": "55Tzh-EMHYDG"
      },
      "source": [
        "* `extract_details_from_venue` method"
      ]
    },
    {
      "cell_type": "markdown",
      "metadata": {
        "id": "bL3IlKKNHYDG"
      },
      "source": [
        "*  Here, we want to write a method that will take a venue, and just return the id, name, and location as values"
      ]
    },
    {
      "cell_type": "markdown",
      "metadata": {
        "id": "9EX5a5zhHYDG"
      },
      "source": [
        "1. Begin by writing a test that takes in the input and checks that the appropriate output is returned."
      ]
    },
    {
      "cell_type": "markdown",
      "metadata": {
        "id": "Bjz5b5nXHYDG"
      },
      "source": [
        "2. Then write a function that accomplishes this"
      ]
    },
    {
      "cell_type": "code",
      "execution_count": null,
      "metadata": {
        "id": "HuS5SpnCHYDH"
      },
      "outputs": [],
      "source": [
        "def extract_details_from_venue(venue):\n",
        "    pass"
      ]
    },
    {
      "cell_type": "code",
      "execution_count": null,
      "metadata": {
        "id": "EquYN3omHYDH"
      },
      "outputs": [],
      "source": [
        "extract_details_from_venue(venue)\n",
        "# {'id': '5b2932a0f5e9d70039787cf2',\n",
        "#  'name': 'Los Tacos Al Pastor',\n",
        "#  'location': [40.70243624175102, -73.98753900608666]}"
      ]
    },
    {
      "cell_type": "markdown",
      "metadata": {
        "id": "FH9Crv5lHYDH"
      },
      "source": [
        "### Working with an Individual Venue"
      ]
    },
    {
      "cell_type": "markdown",
      "metadata": {
        "id": "WsQKpdSCHYDH"
      },
      "source": [
        "1. Write a function that retrieves the details of an individual restaurant"
      ]
    },
    {
      "cell_type": "code",
      "execution_count": 12,
      "metadata": {
        "id": "vq1wXUw_HYDH"
      },
      "outputs": [],
      "source": [
        "restaurant_id = \"5b2932a0f5e9d70039787cf2\"\n",
        "\n",
        "# def get_details(restaurant_id, auth):\n",
        "#     pass"
      ]
    },
    {
      "cell_type": "code",
      "source": [
        "!pytest"
      ],
      "metadata": {
        "id": "eYgD5C4wQmdu",
        "outputId": "13c28f29-4b01-4028-974e-2e9c29d1ee65",
        "colab": {
          "base_uri": "https://localhost:8080/"
        }
      },
      "execution_count": 14,
      "outputs": [
        {
          "output_type": "stream",
          "name": "stdout",
          "text": [
            "\u001b[1m======================================= test session starts ========================================\u001b[0m\n",
            "platform linux -- Python 3.10.12, pytest-7.4.3, pluggy-1.3.0\n",
            "rootdir: /content\n",
            "plugins: anyio-3.7.1\n",
            "\u001b[1mcollecting ... \u001b[0m\u001b[1m\rcollected 4 items                                                                                  \u001b[0m\n",
            "\n",
            "test_index.py \u001b[32m.\u001b[0m\u001b[32m.\u001b[0m\u001b[32m.\u001b[0m\u001b[32m.\u001b[0m\u001b[32m                                                                           [100%]\u001b[0m\n",
            "\n",
            "\u001b[32m======================================== \u001b[32m\u001b[1m4 passed\u001b[0m\u001b[32m in 0.02s\u001b[0m\u001b[32m =========================================\u001b[0m\n"
          ]
        }
      ]
    },
    {
      "cell_type": "markdown",
      "metadata": {
        "id": "bMgiIt4OHYDI"
      },
      "source": [
        "2. Write the tests for the `extract_likes` function\n",
        "\n",
        "* The function should take in the details of a restaurant, and return the following `{'rating': 8.2, 'signals': 60, 'likes_count': 45}`"
      ]
    }
  ],
  "metadata": {
    "kernelspec": {
      "display_name": "Python 3",
      "language": "python",
      "name": "python3"
    },
    "language_info": {
      "codemirror_mode": {
        "name": "ipython",
        "version": 3
      },
      "file_extension": ".py",
      "mimetype": "text/x-python",
      "name": "python",
      "nbconvert_exporter": "python",
      "pygments_lexer": "ipython3",
      "version": "3.7.4"
    },
    "colab": {
      "provenance": []
    }
  },
  "nbformat": 4,
  "nbformat_minor": 0
}