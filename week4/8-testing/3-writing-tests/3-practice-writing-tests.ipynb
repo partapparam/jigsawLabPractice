{
  "cells": [
    {
      "cell_type": "markdown",
      "metadata": {
        "id": "cIhQnRNN-bk_"
      },
      "source": [
        "# Practice Writing Tests"
      ]
    },
    {
      "cell_type": "markdown",
      "metadata": {
        "id": "1Kr9TDfZ-blM"
      },
      "source": [
        "### Introduction"
      ]
    },
    {
      "cell_type": "markdown",
      "metadata": {
        "id": "dvjoRkq6-blO"
      },
      "source": [
        "In the last lesson, we saw some of the mechanics about how the `pytest` library works.  As we know, a testing frame just automates checking that our functions return the correct value, given certain inputs.  \n",
        "\n",
        "With `pytest`, it helps us automate this by looking for all of the test files when `pytest` is run.  And it does this by looking for files that begin with `test_`.  Then inside of each of these files, it looks for functions that begins with `test_`."
      ]
    },
    {
      "cell_type": "markdown",
      "metadata": {
        "id": "Pvkd0sav-bpF"
      },
      "source": [
        "### 1. Doing the Work"
      ]
    },
    {
      "cell_type": "markdown",
      "metadata": {
        "id": "aW81UuBF-bpH"
      },
      "source": [
        "Ok, now it's your turn to practice writing some tests."
      ]
    },
    {
      "cell_type": "markdown",
      "metadata": {
        "id": "67LJJ1Zv-bpI"
      },
      "source": [
        "a) Setup the Data\n",
        "\n",
        "Start by creating a file called `test_songs.py`, and copy the list of `songs` below into the file."
      ]
    },
    {
      "cell_type": "code",
      "execution_count": 1,
      "metadata": {
        "id": "pv3Ya-Wr-bpJ"
      },
      "outputs": [],
      "source": [
        "songs = [{'rank': 1, 'song': 'Like a Rolling Stone', 'artist': 'Bob Dylan', 'year': 1965},\n",
        "         {'rank': 2, 'song': 'Satisfaction', 'artist': 'The Rolling Stones', 'year': 1965},\n",
        "         {'rank': 5, 'song': 'Respect', 'artist': 'Aretha Franklin', 'year': 1967}]"
      ]
    },
    {
      "cell_type": "code",
      "source": [
        "!touch test_songs.py"
      ],
      "metadata": {
        "id": "OU5PJPHO-rPb"
      },
      "execution_count": 2,
      "outputs": []
    },
    {
      "cell_type": "code",
      "source": [
        "!pytest test_songs.py"
      ],
      "metadata": {
        "id": "9QkObEGyAZkv",
        "outputId": "6755f086-4537-450b-b7b4-d2a6991bb61e",
        "colab": {
          "base_uri": "https://localhost:8080/"
        }
      },
      "execution_count": 14,
      "outputs": [
        {
          "output_type": "stream",
          "name": "stdout",
          "text": [
            "\u001b[1m======================================= test session starts ========================================\u001b[0m\n",
            "platform linux -- Python 3.10.12, pytest-7.4.3, pluggy-1.3.0\n",
            "rootdir: /content\n",
            "plugins: anyio-3.7.1\n",
            "\u001b[1mcollecting ... \u001b[0m\u001b[1m\rcollected 6 items                                                                                  \u001b[0m\n",
            "\n",
            "test_songs.py \u001b[32m.\u001b[0m\u001b[32m.\u001b[0m\u001b[32m.\u001b[0m\u001b[32m.\u001b[0m\u001b[32m.\u001b[0m\u001b[32m.\u001b[0m\u001b[32m                                                                         [100%]\u001b[0m\n",
            "\n",
            "\u001b[32m======================================== \u001b[32m\u001b[1m6 passed\u001b[0m\u001b[32m in 0.03s\u001b[0m\u001b[32m =========================================\u001b[0m\n"
          ]
        }
      ]
    },
    {
      "cell_type": "markdown",
      "metadata": {
        "id": "8HP31oWq-bpW"
      },
      "source": [
        "b) Write the tests and code"
      ]
    },
    {
      "cell_type": "markdown",
      "metadata": {
        "id": "CWQo34Fm-bpY"
      },
      "source": [
        "Next, let's write the folowing functions.  \n",
        "\n",
        "> For each of the below, start by writing the tests for the function, and then after writing the tests for an individual function, write the corresponding function."
      ]
    },
    {
      "cell_type": "markdown",
      "metadata": {
        "id": "y9jdGF7n-bpY"
      },
      "source": [
        "1. `find_by_artist(songs, artist_name)` (write two tests)\n",
        "    * The function should take in two arguments of `songs` and an `artist_name`.\n",
        "    * This should return a list of songs with the matching artist.  \n",
        "    * It should return an empty list if there are no matches.  \n",
        "    \n",
        "2. `display_song_names(songs)` (write one test)\n",
        "    * It should take in a list of songs (as dictionaries), and return a list of the corresponding song names.\n",
        "    \n",
        "3. `alphebatize(songs)` (write two tests)\n",
        "    * It should take in a list of songs in alphabetical order and return a list of songs in alphabetical order.\n",
        "    * It should take an optional argument where we reverse the alphabetical order of the song.\n",
        "    * The return value in each case should be a list of dictionaries.\n",
        "    \n",
        "4. `tracks_from(album)`\n",
        "    * It takes in an album, and returns the list of song names\n",
        "    "
      ]
    },
    {
      "cell_type": "markdown",
      "metadata": {
        "id": "L-On2wNf-bpb"
      },
      "source": [
        "### 2. Using Different Files"
      ]
    },
    {
      "cell_type": "code",
      "source": [
        "!touch songs.py"
      ],
      "metadata": {
        "id": "oSZtUDuyGEtJ"
      },
      "execution_count": 16,
      "outputs": []
    },
    {
      "cell_type": "code",
      "source": [
        "!pytest"
      ],
      "metadata": {
        "id": "yI0YG8plG0Ku",
        "outputId": "1e42c1a5-5ed7-4ad9-e95b-0eae9c4d6a1e",
        "colab": {
          "base_uri": "https://localhost:8080/"
        }
      },
      "execution_count": 18,
      "outputs": [
        {
          "output_type": "stream",
          "name": "stdout",
          "text": [
            "\u001b[1m======================================= test session starts ========================================\u001b[0m\n",
            "platform linux -- Python 3.10.12, pytest-7.4.3, pluggy-1.3.0\n",
            "rootdir: /content\n",
            "plugins: anyio-3.7.1\n",
            "\u001b[1mcollecting ... \u001b[0m\u001b[1m\rcollected 6 items                                                                                  \u001b[0m\n",
            "\n",
            "test_songs.py \u001b[32m.\u001b[0m\u001b[32m.\u001b[0m\u001b[32m.\u001b[0m\u001b[32m.\u001b[0m\u001b[32m.\u001b[0m\u001b[32m.\u001b[0m\u001b[32m                                                                         [100%]\u001b[0m\n",
            "\n",
            "\u001b[32m======================================== \u001b[32m\u001b[1m6 passed\u001b[0m\u001b[32m in 0.02s\u001b[0m\u001b[32m =========================================\u001b[0m\n"
          ]
        }
      ]
    },
    {
      "cell_type": "markdown",
      "metadata": {
        "id": "wCK6G4lA-bpb"
      },
      "source": [
        "Finally, now that we have written the tests and code in one file, let's use two different files.  \n",
        "\n",
        "Create a new file called `songs.py`, and move the code that is not related to the tests into that file (that is the four functions specified above.)\n",
        "\n",
        "Then, in the `test_songs.py` file, import the functions from the `songs.py` file, then run the tests again to see that they pass."
      ]
    },
    {
      "cell_type": "markdown",
      "metadata": {
        "id": "4iaFr-F7-bpb"
      },
      "source": [
        "### Summary"
      ]
    },
    {
      "cell_type": "markdown",
      "metadata": {
        "id": "eLJG724h-bpb"
      },
      "source": [
        "In this lesson, we practiced writing tests.  We did so by thinking about the different requirements of each function, writing tests to assert that the function met those requirements, and then filling in the functions so that they passed those tests.  Finally, we separated our functions and the tests for those functions into different files."
      ]
    }
  ],
  "metadata": {
    "kernelspec": {
      "display_name": "Python 3",
      "language": "python",
      "name": "python3"
    },
    "language_info": {
      "codemirror_mode": {
        "name": "ipython",
        "version": 3
      },
      "file_extension": ".py",
      "mimetype": "text/x-python",
      "name": "python",
      "nbconvert_exporter": "python",
      "pygments_lexer": "ipython3",
      "version": "3.8.3"
    },
    "colab": {
      "provenance": []
    }
  },
  "nbformat": 4,
  "nbformat_minor": 0
}