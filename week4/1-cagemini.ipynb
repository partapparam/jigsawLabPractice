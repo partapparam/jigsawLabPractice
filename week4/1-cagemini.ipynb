{
  "cells": [
    {
      "cell_type": "markdown",
      "id": "ecb2edfd-f6c1-4936-b36a-97e587a7298c",
      "metadata": {
        "id": "ecb2edfd-f6c1-4936-b36a-97e587a7298c"
      },
      "source": [
        "# Capgemini Reviews Dataset"
      ]
    },
    {
      "cell_type": "markdown",
      "id": "81129152-ac58-472d-a64c-66f19dbc2390",
      "metadata": {
        "id": "81129152-ac58-472d-a64c-66f19dbc2390"
      },
      "source": [
        "### Introduction"
      ]
    },
    {
      "cell_type": "markdown",
      "id": "1c5712a6-15c2-42bb-9611-0bfb45cf3735",
      "metadata": {
        "id": "1c5712a6-15c2-42bb-9611-0bfb45cf3735"
      },
      "source": [
        "In this lesson, we'll look at some of the reviews of Capgemini.  Let's get started."
      ]
    },
    {
      "cell_type": "markdown",
      "id": "c992a27a-46f4-4f47-bea4-5c64690e15a8",
      "metadata": {
        "id": "c992a27a-46f4-4f47-bea4-5c64690e15a8"
      },
      "source": [
        "### Loading the data"
      ]
    },
    {
      "cell_type": "markdown",
      "id": "74be8777-c74a-4426-95a8-807902467e68",
      "metadata": {
        "id": "74be8777-c74a-4426-95a8-807902467e68"
      },
      "source": [
        "Let's get started by loading our Capgemini data."
      ]
    },
    {
      "cell_type": "code",
      "execution_count": 1,
      "id": "b24d6ca3-9ef3-4e46-a043-ffc58bdd2a8c",
      "metadata": {
        "id": "b24d6ca3-9ef3-4e46-a043-ffc58bdd2a8c"
      },
      "outputs": [],
      "source": [
        "import pandas as pd\n",
        "url = \"https://raw.githubusercontent.com/python-fundamentals-jigsaw/capgemini-review/main/reviews.csv\"\n",
        "df = pd.read_csv(url)"
      ]
    },
    {
      "cell_type": "code",
      "execution_count": 2,
      "id": "22215dcf-108d-4f06-b309-d31bfb0f4e93",
      "metadata": {
        "id": "22215dcf-108d-4f06-b309-d31bfb0f4e93"
      },
      "outputs": [],
      "source": [
        "reviews = df.to_dict('records')"
      ]
    },
    {
      "cell_type": "markdown",
      "id": "b0bef910-563c-45cf-95e3-8a4b90fb7873",
      "metadata": {
        "id": "b0bef910-563c-45cf-95e3-8a4b90fb7873"
      },
      "source": [
        "### Exploring the data"
      ]
    },
    {
      "cell_type": "markdown",
      "id": "2a03991d-f680-42dc-a15c-42e387f04da4",
      "metadata": {
        "id": "2a03991d-f680-42dc-a15c-42e387f04da4"
      },
      "source": [
        "Let's begin by exploring the data.  Remember that our first step can be to explore the grain of the data, and then we can move onto getting an overview of the data."
      ]
    },
    {
      "cell_type": "markdown",
      "id": "3f17d79c-f275-4cb0-85fc-c2552feaad26",
      "metadata": {
        "id": "3f17d79c-f275-4cb0-85fc-c2552feaad26"
      },
      "source": [
        "Begin by selecting a the first review and looking at it's keys."
      ]
    },
    {
      "cell_type": "code",
      "execution_count": 3,
      "id": "926eef24-b241-45ab-b95e-b9892bdc4bee",
      "metadata": {
        "id": "926eef24-b241-45ab-b95e-b9892bdc4bee"
      },
      "outputs": [],
      "source": [
        "first_review = reviews[0]\n",
        "\n",
        "\n",
        "\n",
        "# dict_keys(['Title', 'Place', 'Job_type', 'Department', 'Date', 'Overall_rating', 'work_life_balance', 'skill_development', 'salary_and_benefits', 'job_security',\n",
        "# 'career_growth', 'work_satisfaction', 'Likes', 'Dislikes'])"
      ]
    },
    {
      "cell_type": "markdown",
      "id": "af5bbaad-9ffd-4c85-b6a9-be9cdccaef8b",
      "metadata": {
        "id": "af5bbaad-9ffd-4c85-b6a9-be9cdccaef8b"
      },
      "source": [
        "And from there, look at the corresponding values."
      ]
    },
    {
      "cell_type": "code",
      "execution_count": 4,
      "id": "ebca1799-b1e8-4e92-834b-0de2d28dc868",
      "metadata": {
        "id": "ebca1799-b1e8-4e92-834b-0de2d28dc868"
      },
      "outputs": [],
      "source": [
        "\n",
        "\n",
        "# dict_values(['Senior Consultant', 'Pune', 'Full Time', 'General Insurance Department',\n",
        "# '8 Sep 2023', 4.0, 4.0, 3.0, 3.0, 4.0, 4.0, 4.0, 'Deserved candidates are promoted promptly.\\nUnbiased in providing opportunities to employees, regardless of their gender or any other thing', 'With designation promotions good salary increment is also required'])"
      ]
    },
    {
      "cell_type": "markdown",
      "id": "a0e260ed-c2ec-4665-ab3f-10d9c4136731",
      "metadata": {
        "id": "a0e260ed-c2ec-4665-ab3f-10d9c4136731"
      },
      "source": [
        "### Coercing the data"
      ]
    },
    {
      "cell_type": "markdown",
      "id": "ca574cc6-e6b9-4339-a124-b5caf9c72a60",
      "metadata": {
        "id": "ca574cc6-e6b9-4339-a124-b5caf9c72a60"
      },
      "source": [
        "Now before we get started, let's change the data a bit.  \n",
        "\n",
        "Create a new list of dictionaries -- it should look just like the old list of reviews, but each should review should have a key of `day`, `month` and `year`, with the day month and year coming from each review's date value.  The date key value pair can be excluded.  Day and year should both be integers.\n",
        "\n",
        "If there are is a nan for the date, there should still be keys for day, month and year -- but values can be None."
      ]
    },
    {
      "cell_type": "code",
      "source": [
        "from numpy import NaN\n",
        "# add new list\n",
        "new_list = []\n",
        "for review in reviews[:5]:\n",
        "  review_copy = review.copy()\n",
        "  if type(review_copy['Date']) != str:\n",
        "    day, month, year = None\n",
        "  else:\n",
        "    day, month, year = review['Date'].split(' ')\n",
        "  review_copy['day'] = int(day)\n",
        "  review_copy['month'] = month\n",
        "  review_copy['year'] = int(year)\n",
        "  new_list.append(review_copy)\n"
      ],
      "metadata": {
        "id": "-eXFwJetzgmE"
      },
      "id": "-eXFwJetzgmE",
      "execution_count": 9,
      "outputs": []
    },
    {
      "cell_type": "code",
      "execution_count": 17,
      "id": "c7f4130e-00b1-4097-9afa-f28d8eee14a7",
      "metadata": {
        "id": "c7f4130e-00b1-4097-9afa-f28d8eee14a7"
      },
      "outputs": [],
      "source": [
        "def build_dated_reviews(reviews):\n",
        "  reviews_list = []\n",
        "  for review in reviews:\n",
        "    review_copy = review.copy()\n",
        "    if type(review_copy['Date']) != str:\n",
        "      review_copy['day'] = None\n",
        "      review_copy['month'] = None\n",
        "      review_copy['year'] = None\n",
        "    else:\n",
        "      day, month, year = review['Date'].split(' ')\n",
        "      review_copy['day'] = int(day)\n",
        "      review_copy['month'] = month\n",
        "      review_copy['year'] = int(year)\n",
        "    reviews_list.append(review_copy)\n",
        "\n",
        "  return reviews_list"
      ]
    },
    {
      "cell_type": "markdown",
      "id": "55e27830-08cf-4e7d-bc05-4e1cc136f608",
      "metadata": {
        "id": "55e27830-08cf-4e7d-bc05-4e1cc136f608"
      },
      "source": [
        "* Now wrap the code in a function.  The function can be called `build_dated_reviews`, and it takes an argument of `reviews` and returns a new list of dictionaries."
      ]
    },
    {
      "cell_type": "code",
      "execution_count": 18,
      "id": "9d7cad51-dc00-4fda-abec-d536b03d12e4",
      "metadata": {
        "id": "9d7cad51-dc00-4fda-abec-d536b03d12e4",
        "outputId": "758ebe49-8820-4a74-f897-a873bd815abb",
        "colab": {
          "base_uri": "https://localhost:8080/"
        }
      },
      "outputs": [
        {
          "output_type": "execute_result",
          "data": {
            "text/plain": [
              "26993"
            ]
          },
          "metadata": {},
          "execution_count": 18
        }
      ],
      "source": [
        "dated_reviews = build_dated_reviews(reviews)\n",
        "len(dated_reviews)"
      ]
    },
    {
      "cell_type": "code",
      "execution_count": 19,
      "id": "6fc4900e-68df-4140-a840-e8083f1e180b",
      "metadata": {
        "id": "6fc4900e-68df-4140-a840-e8083f1e180b",
        "outputId": "f399daae-d281-460e-efba-5b8479fe9021",
        "colab": {
          "base_uri": "https://localhost:8080/"
        }
      },
      "outputs": [
        {
          "output_type": "stream",
          "name": "stdout",
          "text": [
            "{'Title': 'Senior Consultant', 'Place': 'Pune', 'Job_type': 'Full Time', 'Department': 'General Insurance Department', 'Date': '8 Sep 2023', 'Overall_rating': 4.0, 'work_life_balance': 4.0, 'skill_development': 3.0, 'salary_and_benefits': 3.0, 'job_security': 4.0, 'career_growth': 4.0, 'work_satisfaction': 4.0, 'Likes': 'Deserved candidates are promoted promptly.\\nUnbiased in providing opportunities to employees, regardless of their gender or any other thing', 'Dislikes': 'With designation promotions good salary increment is also required', 'day': 8, 'month': 'Sep', 'year': 2023}\n"
          ]
        }
      ],
      "source": [
        "print(dated_reviews[0])\n",
        "\n",
        "# {'Title': 'Senior Consultant', 'Place': 'Pune',\n",
        "# 'Job_type': 'Full Time', 'Department': 'General Insurance Department',\n",
        "# 'Date': '8 Sep 2023', 'Overall_rating': 4.0,\n",
        "# 'work_life_balance': 4.0, 'skill_development': 3.0, 'salary_and_benefits': 3.0, 'job_security': 4.0, 'career_growth': 4.0, 'work_satisfaction': 4.0, 'Likes': 'Deserved candidates are promoted promptly.\\nUnbiased in providing opportunities to employees, regardless of their gender or any other thing', 'Dislikes': 'With designation promotions good salary increment is also required', 'day': 8, 'month': 'Sep', 'year': 2023}"
      ]
    },
    {
      "cell_type": "markdown",
      "id": "0438d2cc-bac8-48e9-891a-04d45ebf9dd1",
      "metadata": {
        "id": "0438d2cc-bac8-48e9-891a-04d45ebf9dd1"
      },
      "source": [
        "Now let's look at a single review -- to see how these new keys look."
      ]
    },
    {
      "cell_type": "code",
      "execution_count": 20,
      "id": "caf73a3a-c1ff-4982-a7c0-b5d5a4462e99",
      "metadata": {
        "id": "caf73a3a-c1ff-4982-a7c0-b5d5a4462e99",
        "outputId": "4dae2360-756c-4480-84a8-a5c7ac488a7f",
        "colab": {
          "base_uri": "https://localhost:8080/"
        }
      },
      "outputs": [
        {
          "output_type": "execute_result",
          "data": {
            "text/plain": [
              "(8, 'Sep', 2023)"
            ]
          },
          "metadata": {},
          "execution_count": 20
        }
      ],
      "source": [
        "first_dated_review = dated_reviews[0]\n",
        "first_dated_review['day'], first_dated_review['month'], first_dated_review['year']\n",
        "# (8, 'Sep', 2023)"
      ]
    },
    {
      "cell_type": "markdown",
      "id": "8f42bb25-5f1d-4264-b61c-375f57e51746",
      "metadata": {
        "id": "8f42bb25-5f1d-4264-b61c-375f57e51746"
      },
      "source": [
        "* And now let's write a function that provided a review, will just return the specified attributes of that review."
      ]
    },
    {
      "cell_type": "code",
      "execution_count": 25,
      "id": "b202c439-f641-4566-9468-2e38f7b0771c",
      "metadata": {
        "id": "b202c439-f641-4566-9468-2e38f7b0771c"
      },
      "outputs": [],
      "source": [
        "def build_selected_review(review, attrs):\n",
        "    return {k:v for k, v in review.items() if k in attrs}"
      ]
    },
    {
      "cell_type": "code",
      "execution_count": 26,
      "id": "69c11fe1-4ca5-4767-86e8-ff7e4ba18d98",
      "metadata": {
        "id": "69c11fe1-4ca5-4767-86e8-ff7e4ba18d98",
        "outputId": "7825ee36-65a0-4f03-d548-430575d014a6",
        "colab": {
          "base_uri": "https://localhost:8080/"
        }
      },
      "outputs": [
        {
          "output_type": "stream",
          "name": "stdout",
          "text": [
            "{'Title': 'Senior Consultant', 'Job_type': 'Full Time', 'Department': 'General Insurance Department', 'Overall_rating': 4.0, 'day': 8, 'month': 'Sep', 'year': 2023}\n"
          ]
        }
      ],
      "source": [
        "selected_attrs = ['Title', 'Job_type', 'Department', 'Overall_rating',\n",
        "                  'day', 'month', 'year']\n",
        "\n",
        "first_selected = build_selected_review(first_dated_review, selected_attrs)\n",
        "\n",
        "print(first_selected)\n",
        "\n",
        "# {'Title': 'Senior Consultant', 'Place': 'Pune',\n",
        "#  'Job_type': 'Full Time', 'Department': 'General Insurance Department', 'Date': '8 Sep 2023',\n",
        "#  'Overall_rating': 4.0, 'day': 8, 'month': 'Sep', 'year': 2023}"
      ]
    },
    {
      "cell_type": "markdown",
      "id": "3c2db67e-7c3d-423b-8543-2d3ab3963084",
      "metadata": {
        "id": "3c2db67e-7c3d-423b-8543-2d3ab3963084"
      },
      "source": [
        "And now write a function called `build_selected_reviews` that only returns the specified attributes for each of the reviews."
      ]
    },
    {
      "cell_type": "code",
      "execution_count": 27,
      "id": "c5039b82-1235-4340-ba76-aea768494b8a",
      "metadata": {
        "id": "c5039b82-1235-4340-ba76-aea768494b8a"
      },
      "outputs": [],
      "source": [
        "def build_selected_reviews(reviews, attrs):\n",
        "    return [build_selected_review(review, attrs) for review in reviews]"
      ]
    },
    {
      "cell_type": "markdown",
      "id": "abde3ec3-8755-4071-ae82-c5b6a5633c65",
      "metadata": {
        "id": "abde3ec3-8755-4071-ae82-c5b6a5633c65"
      },
      "source": [
        "Ok, so we can see that we have attributes of the job title, location of the job, department, date, and various ratings."
      ]
    },
    {
      "cell_type": "code",
      "execution_count": 28,
      "id": "b1108642-f6fc-4693-8407-fb0743727552",
      "metadata": {
        "id": "b1108642-f6fc-4693-8407-fb0743727552"
      },
      "outputs": [],
      "source": [
        "selected_attrs = ['Title', 'Job_type', 'Department', 'Overall_rating',\n",
        "                  'day', 'month', 'year']\n",
        "\n",
        "selected_reviews = build_selected_reviews(dated_reviews, selected_attrs)\n"
      ]
    },
    {
      "cell_type": "code",
      "execution_count": 29,
      "id": "0ff3ae65-043f-4012-b8a0-4b15a722b3a4",
      "metadata": {
        "id": "0ff3ae65-043f-4012-b8a0-4b15a722b3a4",
        "outputId": "e20277b5-7baf-4901-b881-a4ae2b21753d",
        "colab": {
          "base_uri": "https://localhost:8080/"
        }
      },
      "outputs": [
        {
          "output_type": "execute_result",
          "data": {
            "text/plain": [
              "{'Title': 'Senior Consultant',\n",
              " 'Job_type': 'Full Time',\n",
              " 'Department': 'General Insurance Department',\n",
              " 'Overall_rating': 4.0,\n",
              " 'day': 8,\n",
              " 'month': 'Sep',\n",
              " 'year': 2023}"
            ]
          },
          "metadata": {},
          "execution_count": 29
        }
      ],
      "source": [
        "selected_reviews[0]\n",
        "# {'Title': 'Senior Consultant',\n",
        "#  'Job_type': 'Full Time',\n",
        "#  'Department': 'General Insurance Department',\n",
        "#  'Overall_rating': 4.0,\n",
        "#  'day': 8,\n",
        "#  'month': 'Sep',\n",
        "#  'year': 2023}\n"
      ]
    },
    {
      "cell_type": "markdown",
      "id": "6a86ea27-b310-4025-8368-98519acc013f",
      "metadata": {
        "id": "6a86ea27-b310-4025-8368-98519acc013f"
      },
      "source": [
        "### Exploring the data"
      ]
    },
    {
      "cell_type": "markdown",
      "id": "5434b3e1-9b99-4310-91ed-c8a02bee893a",
      "metadata": {
        "id": "5434b3e1-9b99-4310-91ed-c8a02bee893a"
      },
      "source": [
        "Now we can explore some of the data.  The first step is to get an overview of the data."
      ]
    },
    {
      "cell_type": "markdown",
      "id": "d8218ed6-6c6c-42f0-a92e-db972615e917",
      "metadata": {
        "id": "d8218ed6-6c6c-42f0-a92e-db972615e917"
      },
      "source": [
        "Begin by finding the number of unique titles across the selected_reviews."
      ]
    },
    {
      "cell_type": "code",
      "execution_count": 31,
      "id": "e7ce6c60-baec-47b3-b900-d9cf6ebf7808",
      "metadata": {
        "id": "e7ce6c60-baec-47b3-b900-d9cf6ebf7808",
        "outputId": "96552a4e-5118-4d62-e40d-16bb6c3dc0f8",
        "colab": {
          "base_uri": "https://localhost:8080/"
        }
      },
      "outputs": [
        {
          "output_type": "execute_result",
          "data": {
            "text/plain": [
              "4241"
            ]
          },
          "metadata": {},
          "execution_count": 31
        }
      ],
      "source": [
        "len(list(set(review['Title'] for review in dated_reviews)))\n",
        "# 4241"
      ]
    },
    {
      "cell_type": "markdown",
      "id": "578027e0-5f35-4b4b-862b-921254373246",
      "metadata": {
        "id": "578027e0-5f35-4b4b-862b-921254373246"
      },
      "source": [
        "Ok, that's a lot."
      ]
    },
    {
      "cell_type": "markdown",
      "id": "b4f6e995-587d-434a-9c1d-0aa9cb1691e0",
      "metadata": {
        "id": "b4f6e995-587d-434a-9c1d-0aa9cb1691e0"
      },
      "source": [
        "Now write a function that given a year, finds only the `selected_reviews` written in that year."
      ]
    },
    {
      "cell_type": "code",
      "execution_count": 32,
      "id": "4c89cbf6-fd05-4e09-b865-e556c1508364",
      "metadata": {
        "id": "4c89cbf6-fd05-4e09-b865-e556c1508364",
        "outputId": "9e5d3ac9-1235-4414-cad9-c9d151ad9a57",
        "colab": {
          "base_uri": "https://localhost:8080/"
        }
      },
      "outputs": [
        {
          "output_type": "execute_result",
          "data": {
            "text/plain": [
              "{'Title': 'Senior Consultant',\n",
              " 'Job_type': 'Full Time',\n",
              " 'Department': 'General Insurance Department',\n",
              " 'Overall_rating': 4.0,\n",
              " 'day': 8,\n",
              " 'month': 'Sep',\n",
              " 'year': 2023}"
            ]
          },
          "metadata": {},
          "execution_count": 32
        }
      ],
      "source": [
        "selected_reviews[0]"
      ]
    },
    {
      "cell_type": "code",
      "execution_count": 34,
      "id": "56fae6c6-e64c-447d-ab44-b6c882a4d626",
      "metadata": {
        "id": "56fae6c6-e64c-447d-ab44-b6c882a4d626"
      },
      "outputs": [],
      "source": [
        "def reviews_for_year(reviews, year):\n",
        "    return [review for review in reviews if review['year'] == year]"
      ]
    },
    {
      "cell_type": "code",
      "execution_count": 35,
      "id": "ec9d6d47-a283-4dad-a365-d21033a15f8f",
      "metadata": {
        "id": "ec9d6d47-a283-4dad-a365-d21033a15f8f",
        "outputId": "4145a16b-d5ed-43cb-f62e-c5ce5c032d1d",
        "colab": {
          "base_uri": "https://localhost:8080/"
        }
      },
      "outputs": [
        {
          "output_type": "execute_result",
          "data": {
            "text/plain": [
              "6203"
            ]
          },
          "metadata": {},
          "execution_count": 35
        }
      ],
      "source": [
        "selected_reviews_2023 = reviews_for_year(selected_reviews, 2023)\n",
        "len(selected_reviews_2023)\n",
        "\n",
        "# 6203"
      ]
    },
    {
      "cell_type": "markdown",
      "id": "b8600e91-eaa2-432e-ab56-7bf7711dcb1d",
      "metadata": {
        "id": "b8600e91-eaa2-432e-ab56-7bf7711dcb1d"
      },
      "source": [
        "Now *use the function above* to create a dictionary that has keys of the years 2017 through 2023, and values of the number of reviews per each year."
      ]
    },
    {
      "cell_type": "code",
      "execution_count": 39,
      "id": "f530423e-66eb-4609-95ab-91d4c2b95bc7",
      "metadata": {
        "id": "f530423e-66eb-4609-95ab-91d4c2b95bc7",
        "outputId": "1d02d766-dfbe-49eb-d63d-caf4939f8749",
        "colab": {
          "base_uri": "https://localhost:8080/"
        }
      },
      "outputs": [
        {
          "output_type": "execute_result",
          "data": {
            "text/plain": [
              "{2017: 491,\n",
              " 2018: 4065,\n",
              " 2019: 3103,\n",
              " 2020: 1163,\n",
              " 2021: 2804,\n",
              " 2022: 8086,\n",
              " 2023: 6203}"
            ]
          },
          "metadata": {},
          "execution_count": 39
        }
      ],
      "source": [
        "years = [2017, 2018, 2019, 2020, 2021, 2022, 2023]\n",
        "def reviews_per_year(reviews, years):\n",
        "  review_count = {}\n",
        "  for year in years:\n",
        "    reviews_in_year = reviews_for_year(reviews, year)\n",
        "    review_count[year] = len(reviews_in_year)\n",
        "  return review_count\n",
        "\n",
        "reviews_per_year(dated_reviews, years)\n",
        "\n",
        "# {2017: 491, 2018: 4065,\n",
        "# 2019: 3103, 2020: 1163, 2021: 2804, 2022: 8086, 2023: 6203}"
      ]
    },
    {
      "cell_type": "markdown",
      "id": "fe365606-cc78-4e5a-beac-94c74f56d056",
      "metadata": {
        "id": "fe365606-cc78-4e5a-beac-94c74f56d056"
      },
      "source": [
        "Next create a dictionary of the average `Overall_rating` per year -- this can be referred to as `hist` (for histogram)."
      ]
    },
    {
      "cell_type": "code",
      "source": [
        "scores = {}\n",
        "for year in years:\n",
        "  ratings = [review['Overall_rating'] for review in dated_reviews if review['year'] == year and float(review[\"Overall_rating\"]) == True]\n",
        "  print(year, ratings)\n",
        "  avg_score = sum(ratings) / len(ratings)\n",
        "  scores[year] = avg_score\n",
        "scores"
      ],
      "metadata": {
        "id": "ppMOGPmP8O-X",
        "outputId": "16aaae9c-9c8f-4681-bf89-298708f908d5",
        "colab": {
          "base_uri": "https://localhost:8080/"
        }
      },
      "id": "ppMOGPmP8O-X",
      "execution_count": 58,
      "outputs": [
        {
          "output_type": "stream",
          "name": "stdout",
          "text": [
            "2017 [1.0, 1.0, 1.0, 1.0, 1.0, 1.0, 1.0, 1.0, 1.0, 1.0, 1.0, 1.0, 1.0, 1.0, 1.0, 1.0, 1.0, 1.0, 1.0, 1.0, 1.0, 1.0, 1.0, 1.0, 1.0, 1.0, 1.0, 1.0, 1.0, 1.0, 1.0, 1.0, 1.0, 1.0, 1.0, 1.0, 1.0, 1.0, 1.0, 1.0, 1.0, 1.0, 1.0, 1.0, 1.0, 1.0, 1.0, 1.0, 1.0, 1.0, 1.0, 1.0, 1.0, 1.0, 1.0, 1.0, 1.0, 1.0, 1.0, 1.0, 1.0, 1.0, 1.0, 1.0, 1.0, 1.0, 1.0, 1.0, 1.0, 1.0, 1.0, 1.0, 1.0, 1.0]\n",
            "2018 [1.0, 1.0, 1.0, 1.0, 1.0, 1.0, 1.0, 1.0, 1.0, 1.0, 1.0, 1.0, 1.0, 1.0, 1.0, 1.0, 1.0, 1.0, 1.0, 1.0, 1.0, 1.0, 1.0, 1.0, 1.0, 1.0, 1.0, 1.0, 1.0, 1.0, 1.0, 1.0, 1.0, 1.0, 1.0, 1.0, 1.0, 1.0, 1.0, 1.0, 1.0, 1.0, 1.0, 1.0, 1.0, 1.0, 1.0, 1.0, 1.0, 1.0, 1.0, 1.0, 1.0, 1.0, 1.0, 1.0, 1.0, 1.0, 1.0, 1.0, 1.0, 1.0, 1.0, 1.0, 1.0, 1.0, 1.0, 1.0, 1.0, 1.0, 1.0, 1.0, 1.0, 1.0, 1.0, 1.0, 1.0, 1.0, 1.0, 1.0, 1.0, 1.0, 1.0, 1.0, 1.0, 1.0, 1.0, 1.0, 1.0, 1.0, 1.0, 1.0, 1.0, 1.0, 1.0, 1.0, 1.0, 1.0, 1.0, 1.0, 1.0, 1.0, 1.0, 1.0, 1.0, 1.0, 1.0, 1.0, 1.0, 1.0, 1.0, 1.0, 1.0, 1.0, 1.0, 1.0, 1.0, 1.0, 1.0, 1.0, 1.0, 1.0, 1.0, 1.0, 1.0, 1.0, 1.0, 1.0, 1.0, 1.0, 1.0, 1.0, 1.0, 1.0, 1.0, 1.0, 1.0, 1.0, 1.0, 1.0, 1.0, 1.0, 1.0, 1.0, 1.0, 1.0, 1.0, 1.0, 1.0, 1.0, 1.0, 1.0, 1.0, 1.0, 1.0, 1.0, 1.0, 1.0, 1.0, 1.0, 1.0, 1.0, 1.0, 1.0, 1.0, 1.0, 1.0, 1.0, 1.0, 1.0, 1.0, 1.0, 1.0, 1.0, 1.0, 1.0, 1.0, 1.0, 1.0, 1.0, 1.0, 1.0, 1.0, 1.0, 1.0, 1.0, 1.0, 1.0, 1.0, 1.0, 1.0, 1.0, 1.0, 1.0, 1.0, 1.0, 1.0, 1.0, 1.0, 1.0, 1.0, 1.0, 1.0, 1.0, 1.0, 1.0, 1.0, 1.0, 1.0, 1.0, 1.0, 1.0, 1.0, 1.0, 1.0, 1.0, 1.0, 1.0, 1.0, 1.0, 1.0, 1.0, 1.0, 1.0, 1.0, 1.0, 1.0, 1.0, 1.0, 1.0, 1.0, 1.0, 1.0, 1.0, 1.0, 1.0, 1.0, 1.0, 1.0, 1.0, 1.0, 1.0, 1.0, 1.0, 1.0, 1.0, 1.0, 1.0, 1.0, 1.0, 1.0, 1.0, 1.0, 1.0, 1.0, 1.0, 1.0, 1.0, 1.0, 1.0, 1.0, 1.0, 1.0, 1.0, 1.0, 1.0, 1.0, 1.0, 1.0, 1.0, 1.0, 1.0, 1.0, 1.0, 1.0, 1.0, 1.0, 1.0, 1.0, 1.0, 1.0, 1.0, 1.0, 1.0, 1.0, 1.0, 1.0, 1.0, 1.0, 1.0, 1.0, 1.0, 1.0, 1.0, 1.0, 1.0, 1.0, 1.0, 1.0, 1.0, 1.0, 1.0, 1.0, 1.0, 1.0, 1.0, 1.0, 1.0, 1.0, 1.0, 1.0, 1.0, 1.0, 1.0, 1.0, 1.0, 1.0, 1.0, 1.0, 1.0, 1.0, 1.0, 1.0, 1.0, 1.0, 1.0, 1.0, 1.0, 1.0, 1.0, 1.0, 1.0, 1.0, 1.0, 1.0, 1.0, 1.0, 1.0, 1.0, 1.0, 1.0, 1.0, 1.0, 1.0, 1.0, 1.0, 1.0, 1.0, 1.0, 1.0, 1.0, 1.0, 1.0, 1.0, 1.0, 1.0, 1.0, 1.0, 1.0, 1.0, 1.0, 1.0, 1.0, 1.0, 1.0, 1.0, 1.0, 1.0, 1.0, 1.0, 1.0, 1.0, 1.0, 1.0, 1.0, 1.0, 1.0, 1.0, 1.0, 1.0, 1.0, 1.0, 1.0, 1.0, 1.0, 1.0, 1.0, 1.0, 1.0, 1.0, 1.0, 1.0, 1.0, 1.0, 1.0, 1.0, 1.0, 1.0, 1.0, 1.0, 1.0, 1.0, 1.0, 1.0, 1.0, 1.0, 1.0, 1.0, 1.0, 1.0, 1.0, 1.0, 1.0, 1.0, 1.0, 1.0, 1.0, 1.0, 1.0, 1.0, 1.0, 1.0, 1.0, 1.0, 1.0, 1.0, 1.0, 1.0, 1.0, 1.0, 1.0, 1.0, 1.0, 1.0, 1.0, 1.0, 1.0, 1.0, 1.0, 1.0, 1.0, 1.0, 1.0, 1.0, 1.0, 1.0, 1.0, 1.0, 1.0, 1.0, 1.0, 1.0, 1.0, 1.0, 1.0, 1.0, 1.0, 1.0, 1.0, 1.0, 1.0, 1.0, 1.0, 1.0, 1.0, 1.0, 1.0, 1.0, 1.0, 1.0, 1.0, 1.0, 1.0, 1.0, 1.0, 1.0, 1.0, 1.0, 1.0, 1.0, 1.0, 1.0, 1.0, 1.0, 1.0, 1.0, 1.0, 1.0, 1.0, 1.0, 1.0, 1.0, 1.0, 1.0, 1.0, 1.0, 1.0, 1.0, 1.0, 1.0, 1.0, 1.0, 1.0, 1.0, 1.0, 1.0, 1.0, 1.0, 1.0, 1.0, 1.0, 1.0, 1.0, 1.0, 1.0, 1.0, 1.0, 1.0, 1.0, 1.0, 1.0, 1.0, 1.0, 1.0, 1.0, 1.0, 1.0, 1.0, 1.0, 1.0, 1.0, 1.0, 1.0, 1.0, 1.0, 1.0, 1.0, 1.0, 1.0, 1.0, 1.0, 1.0, 1.0, 1.0, 1.0, 1.0, 1.0, 1.0, 1.0, 1.0, 1.0, 1.0, 1.0, 1.0, 1.0, 1.0, 1.0, 1.0, 1.0, 1.0, 1.0, 1.0, 1.0, 1.0, 1.0, 1.0, 1.0, 1.0, 1.0, 1.0, 1.0, 1.0, 1.0, 1.0, 1.0, 1.0, 1.0, 1.0, 1.0, 1.0, 1.0, 1.0, 1.0, 1.0, 1.0, 1.0, 1.0, 1.0, 1.0, 1.0, 1.0, 1.0, 1.0, 1.0, 1.0, 1.0, 1.0, 1.0, 1.0, 1.0, 1.0, 1.0, 1.0, 1.0, 1.0, 1.0, 1.0, 1.0, 1.0, 1.0, 1.0, 1.0, 1.0, 1.0, 1.0, 1.0, 1.0, 1.0, 1.0, 1.0, 1.0, 1.0, 1.0, 1.0, 1.0, 1.0, 1.0, 1.0, 1.0, 1.0, 1.0, 1.0, 1.0, 1.0, 1.0, 1.0, 1.0, 1.0, 1.0, 1.0, 1.0, 1.0, 1.0, 1.0, 1.0, 1.0, 1.0, 1.0, 1.0, 1.0, 1.0, 1.0, 1.0, 1.0, 1.0, 1.0, 1.0, 1.0, 1.0, 1.0, 1.0, 1.0, 1.0, 1.0, 1.0, 1.0, 1.0, 1.0, 1.0, 1.0, 1.0, 1.0, 1.0, 1.0, 1.0, 1.0, 1.0, 1.0, 1.0, 1.0, 1.0, 1.0, 1.0, 1.0, 1.0, 1.0, 1.0, 1.0, 1.0, 1.0, 1.0, 1.0, 1.0, 1.0, 1.0, 1.0, 1.0, 1.0, 1.0, 1.0, 1.0, 1.0, 1.0, 1.0, 1.0, 1.0, 1.0, 1.0, 1.0, 1.0, 1.0, 1.0, 1.0, 1.0, 1.0, 1.0, 1.0, 1.0, 1.0, 1.0, 1.0, 1.0, 1.0, 1.0, 1.0, 1.0, 1.0, 1.0, 1.0, 1.0, 1.0, 1.0, 1.0, 1.0, 1.0, 1.0, 1.0, 1.0, 1.0, 1.0]\n",
            "2019 [1.0, 1.0, 1.0, 1.0, 1.0, 1.0, 1.0, 1.0, 1.0, 1.0, 1.0, 1.0, 1.0, 1.0, 1.0, 1.0, 1.0, 1.0, 1.0, 1.0, 1.0, 1.0, 1.0, 1.0, 1.0, 1.0, 1.0, 1.0, 1.0, 1.0, 1.0, 1.0, 1.0, 1.0, 1.0, 1.0, 1.0, 1.0, 1.0, 1.0, 1.0, 1.0, 1.0, 1.0, 1.0, 1.0, 1.0, 1.0, 1.0, 1.0, 1.0, 1.0, 1.0, 1.0, 1.0, 1.0, 1.0, 1.0, 1.0, 1.0, 1.0, 1.0, 1.0, 1.0, 1.0, 1.0, 1.0, 1.0, 1.0, 1.0, 1.0, 1.0, 1.0, 1.0, 1.0, 1.0, 1.0, 1.0, 1.0, 1.0, 1.0, 1.0, 1.0, 1.0, 1.0, 1.0, 1.0, 1.0, 1.0, 1.0, 1.0, 1.0, 1.0, 1.0, 1.0, 1.0, 1.0, 1.0, 1.0, 1.0, 1.0, 1.0, 1.0, 1.0, 1.0, 1.0, 1.0, 1.0, 1.0, 1.0, 1.0, 1.0, 1.0, 1.0, 1.0, 1.0, 1.0, 1.0, 1.0, 1.0, 1.0, 1.0, 1.0, 1.0, 1.0, 1.0, 1.0, 1.0, 1.0, 1.0, 1.0, 1.0, 1.0, 1.0, 1.0, 1.0, 1.0, 1.0, 1.0, 1.0, 1.0, 1.0, 1.0, 1.0, 1.0, 1.0, 1.0, 1.0, 1.0, 1.0, 1.0, 1.0, 1.0, 1.0, 1.0, 1.0, 1.0, 1.0, 1.0, 1.0, 1.0, 1.0, 1.0, 1.0, 1.0, 1.0, 1.0, 1.0, 1.0, 1.0, 1.0, 1.0, 1.0, 1.0, 1.0, 1.0, 1.0, 1.0, 1.0, 1.0, 1.0, 1.0, 1.0, 1.0, 1.0, 1.0, 1.0, 1.0, 1.0, 1.0, 1.0, 1.0, 1.0, 1.0, 1.0, 1.0, 1.0, 1.0, 1.0, 1.0, 1.0, 1.0, 1.0, 1.0, 1.0, 1.0, 1.0, 1.0, 1.0, 1.0, 1.0, 1.0, 1.0, 1.0, 1.0, 1.0, 1.0, 1.0, 1.0, 1.0, 1.0, 1.0, 1.0, 1.0, 1.0, 1.0, 1.0, 1.0, 1.0, 1.0, 1.0, 1.0, 1.0, 1.0, 1.0, 1.0, 1.0, 1.0, 1.0, 1.0, 1.0, 1.0, 1.0, 1.0, 1.0, 1.0, 1.0, 1.0, 1.0, 1.0, 1.0, 1.0, 1.0, 1.0, 1.0, 1.0, 1.0, 1.0, 1.0, 1.0, 1.0, 1.0, 1.0, 1.0, 1.0, 1.0, 1.0, 1.0, 1.0, 1.0, 1.0, 1.0, 1.0, 1.0, 1.0, 1.0, 1.0, 1.0, 1.0, 1.0, 1.0, 1.0, 1.0, 1.0, 1.0, 1.0, 1.0, 1.0, 1.0, 1.0, 1.0, 1.0, 1.0, 1.0, 1.0, 1.0, 1.0, 1.0, 1.0, 1.0, 1.0, 1.0, 1.0, 1.0, 1.0, 1.0, 1.0, 1.0, 1.0, 1.0, 1.0, 1.0, 1.0, 1.0, 1.0, 1.0, 1.0, 1.0, 1.0, 1.0, 1.0, 1.0, 1.0, 1.0, 1.0, 1.0, 1.0, 1.0, 1.0, 1.0, 1.0, 1.0, 1.0, 1.0, 1.0, 1.0, 1.0, 1.0, 1.0, 1.0, 1.0, 1.0, 1.0, 1.0, 1.0, 1.0, 1.0, 1.0, 1.0, 1.0, 1.0, 1.0, 1.0, 1.0, 1.0, 1.0, 1.0, 1.0, 1.0, 1.0, 1.0, 1.0, 1.0, 1.0, 1.0, 1.0, 1.0, 1.0, 1.0, 1.0, 1.0, 1.0, 1.0, 1.0, 1.0, 1.0, 1.0, 1.0, 1.0, 1.0, 1.0, 1.0, 1.0, 1.0, 1.0, 1.0, 1.0, 1.0, 1.0, 1.0, 1.0, 1.0, 1.0, 1.0, 1.0, 1.0, 1.0, 1.0, 1.0, 1.0, 1.0, 1.0, 1.0, 1.0, 1.0, 1.0, 1.0, 1.0, 1.0, 1.0, 1.0, 1.0, 1.0, 1.0, 1.0, 1.0, 1.0, 1.0, 1.0, 1.0, 1.0, 1.0]\n",
            "2020 [1.0, 1.0, 1.0, 1.0, 1.0, 1.0, 1.0, 1.0, 1.0, 1.0, 1.0, 1.0, 1.0, 1.0, 1.0, 1.0, 1.0, 1.0, 1.0, 1.0, 1.0, 1.0, 1.0, 1.0, 1.0, 1.0, 1.0, 1.0, 1.0, 1.0, 1.0, 1.0, 1.0, 1.0, 1.0, 1.0, 1.0, 1.0, 1.0, 1.0, 1.0, 1.0, 1.0, 1.0, 1.0, 1.0, 1.0, 1.0, 1.0, 1.0, 1.0, 1.0, 1.0, 1.0, 1.0, 1.0, 1.0, 1.0, 1.0, 1.0, 1.0, 1.0, 1.0, 1.0, 1.0, 1.0, 1.0, 1.0, 1.0, 1.0, 1.0, 1.0, 1.0, 1.0, 1.0, 1.0, 1.0, 1.0, 1.0, 1.0, 1.0, 1.0, 1.0, 1.0, 1.0, 1.0, 1.0, 1.0, 1.0, 1.0, 1.0, 1.0, 1.0, 1.0, 1.0, 1.0, 1.0, 1.0, 1.0, 1.0, 1.0, 1.0, 1.0, 1.0, 1.0, 1.0, 1.0, 1.0, 1.0, 1.0, 1.0, 1.0, 1.0, 1.0, 1.0, 1.0, 1.0, 1.0, 1.0, 1.0, 1.0, 1.0, 1.0, 1.0, 1.0, 1.0, 1.0, 1.0, 1.0]\n",
            "2021 [1.0, 1.0, 1.0, 1.0, 1.0, 1.0, 1.0, 1.0, 1.0, 1.0, 1.0, 1.0, 1.0, 1.0, 1.0, 1.0, 1.0, 1.0, 1.0, 1.0, 1.0, 1.0, 1.0, 1.0, 1.0, 1.0, 1.0, 1.0, 1.0, 1.0, 1.0, 1.0, 1.0, 1.0, 1.0, 1.0, 1.0, 1.0, 1.0, 1.0, 1.0, 1.0, 1.0, 1.0, 1.0, 1.0, 1.0, 1.0, 1.0, 1.0, 1.0, 1.0, 1.0, 1.0, 1.0, 1.0, 1.0, 1.0, 1.0, 1.0, 1.0, 1.0, 1.0, 1.0, 1.0, 1.0, 1.0, 1.0, 1.0, 1.0, 1.0, 1.0, 1.0, 1.0, 1.0, 1.0, 1.0, 1.0, 1.0, 1.0, 1.0, 1.0, 1.0, 1.0, 1.0, 1.0, 1.0, 1.0, 1.0, 1.0, 1.0, 1.0, 1.0, 1.0, 1.0, 1.0, 1.0, 1.0, 1.0, 1.0, 1.0, 1.0, 1.0, 1.0, 1.0, 1.0, 1.0, 1.0, 1.0, 1.0, 1.0, 1.0, 1.0, 1.0, 1.0, 1.0, 1.0, 1.0, 1.0, 1.0, 1.0, 1.0, 1.0, 1.0, 1.0, 1.0, 1.0, 1.0, 1.0, 1.0, 1.0, 1.0, 1.0, 1.0, 1.0, 1.0, 1.0, 1.0, 1.0, 1.0, 1.0, 1.0, 1.0, 1.0, 1.0, 1.0, 1.0, 1.0, 1.0, 1.0, 1.0, 1.0, 1.0, 1.0, 1.0, 1.0, 1.0, 1.0, 1.0, 1.0, 1.0, 1.0, 1.0, 1.0, 1.0, 1.0, 1.0, 1.0, 1.0, 1.0, 1.0, 1.0, 1.0, 1.0, 1.0, 1.0, 1.0, 1.0]\n",
            "2022 [1.0, 1.0, 1.0, 1.0, 1.0, 1.0, 1.0, 1.0, 1.0, 1.0, 1.0, 1.0, 1.0, 1.0, 1.0, 1.0, 1.0, 1.0, 1.0, 1.0, 1.0, 1.0, 1.0, 1.0, 1.0, 1.0, 1.0, 1.0, 1.0, 1.0, 1.0, 1.0, 1.0, 1.0, 1.0, 1.0, 1.0, 1.0, 1.0, 1.0, 1.0, 1.0, 1.0, 1.0, 1.0, 1.0, 1.0, 1.0, 1.0, 1.0, 1.0, 1.0, 1.0, 1.0, 1.0, 1.0, 1.0, 1.0, 1.0, 1.0, 1.0, 1.0, 1.0, 1.0, 1.0, 1.0, 1.0, 1.0, 1.0, 1.0, 1.0, 1.0, 1.0, 1.0, 1.0, 1.0, 1.0, 1.0, 1.0, 1.0, 1.0, 1.0, 1.0, 1.0, 1.0, 1.0, 1.0, 1.0, 1.0, 1.0, 1.0, 1.0, 1.0, 1.0, 1.0, 1.0, 1.0, 1.0, 1.0, 1.0, 1.0, 1.0, 1.0, 1.0, 1.0, 1.0, 1.0, 1.0, 1.0, 1.0, 1.0, 1.0, 1.0, 1.0, 1.0, 1.0, 1.0, 1.0, 1.0, 1.0, 1.0, 1.0, 1.0, 1.0, 1.0, 1.0, 1.0, 1.0, 1.0, 1.0, 1.0, 1.0, 1.0, 1.0, 1.0, 1.0, 1.0, 1.0, 1.0, 1.0, 1.0, 1.0, 1.0, 1.0, 1.0, 1.0, 1.0, 1.0, 1.0, 1.0, 1.0, 1.0, 1.0, 1.0, 1.0, 1.0, 1.0, 1.0, 1.0, 1.0, 1.0, 1.0, 1.0, 1.0, 1.0, 1.0, 1.0, 1.0, 1.0, 1.0, 1.0, 1.0, 1.0, 1.0, 1.0, 1.0, 1.0, 1.0, 1.0, 1.0, 1.0, 1.0, 1.0, 1.0, 1.0, 1.0, 1.0, 1.0, 1.0, 1.0, 1.0, 1.0, 1.0, 1.0, 1.0, 1.0, 1.0, 1.0, 1.0, 1.0, 1.0, 1.0, 1.0, 1.0, 1.0, 1.0, 1.0, 1.0, 1.0, 1.0, 1.0, 1.0, 1.0, 1.0, 1.0, 1.0, 1.0, 1.0, 1.0, 1.0, 1.0, 1.0, 1.0, 1.0, 1.0, 1.0, 1.0, 1.0, 1.0, 1.0, 1.0, 1.0, 1.0, 1.0, 1.0, 1.0, 1.0, 1.0, 1.0, 1.0, 1.0, 1.0, 1.0, 1.0, 1.0, 1.0, 1.0, 1.0, 1.0, 1.0, 1.0, 1.0, 1.0, 1.0, 1.0, 1.0, 1.0, 1.0, 1.0, 1.0, 1.0, 1.0, 1.0, 1.0, 1.0, 1.0, 1.0, 1.0, 1.0, 1.0, 1.0, 1.0, 1.0, 1.0, 1.0, 1.0, 1.0, 1.0, 1.0, 1.0, 1.0, 1.0, 1.0, 1.0, 1.0, 1.0, 1.0, 1.0, 1.0, 1.0, 1.0, 1.0, 1.0, 1.0, 1.0, 1.0, 1.0, 1.0, 1.0, 1.0, 1.0, 1.0, 1.0, 1.0, 1.0, 1.0, 1.0, 1.0, 1.0, 1.0, 1.0, 1.0, 1.0, 1.0, 1.0, 1.0, 1.0, 1.0, 1.0, 1.0, 1.0, 1.0, 1.0, 1.0, 1.0, 1.0, 1.0, 1.0, 1.0, 1.0, 1.0, 1.0, 1.0, 1.0, 1.0, 1.0, 1.0, 1.0, 1.0, 1.0, 1.0, 1.0, 1.0, 1.0, 1.0, 1.0, 1.0, 1.0, 1.0, 1.0, 1.0, 1.0, 1.0, 1.0, 1.0, 1.0, 1.0, 1.0, 1.0, 1.0, 1.0, 1.0, 1.0, 1.0, 1.0, 1.0, 1.0, 1.0, 1.0, 1.0, 1.0, 1.0, 1.0, 1.0, 1.0, 1.0, 1.0, 1.0, 1.0, 1.0, 1.0, 1.0, 1.0, 1.0, 1.0, 1.0, 1.0, 1.0, 1.0, 1.0, 1.0, 1.0, 1.0, 1.0, 1.0, 1.0, 1.0, 1.0, 1.0, 1.0, 1.0, 1.0, 1.0, 1.0, 1.0, 1.0, 1.0, 1.0, 1.0, 1.0, 1.0, 1.0, 1.0, 1.0, 1.0, 1.0, 1.0, 1.0, 1.0, 1.0, 1.0, 1.0, 1.0, 1.0, 1.0, 1.0, 1.0, 1.0, 1.0, 1.0, 1.0, 1.0, 1.0, 1.0, 1.0, 1.0, 1.0, 1.0, 1.0, 1.0, 1.0, 1.0, 1.0, 1.0, 1.0, 1.0, 1.0, 1.0, 1.0, 1.0, 1.0, 1.0, 1.0, 1.0, 1.0, 1.0, 1.0, 1.0, 1.0, 1.0, 1.0, 1.0, 1.0, 1.0, 1.0, 1.0, 1.0, 1.0, 1.0, 1.0, 1.0, 1.0, 1.0, 1.0, 1.0, 1.0, 1.0, 1.0, 1.0, 1.0, 1.0, 1.0, 1.0, 1.0, 1.0, 1.0, 1.0, 1.0, 1.0, 1.0, 1.0, 1.0, 1.0, 1.0, 1.0, 1.0, 1.0, 1.0, 1.0, 1.0, 1.0, 1.0, 1.0, 1.0, 1.0, 1.0]\n",
            "2023 [1.0, 1.0, 1.0, 1.0, 1.0, 1.0, 1.0, 1.0, 1.0, 1.0, 1.0, 1.0, 1.0, 1.0, 1.0, 1.0, 1.0, 1.0, 1.0, 1.0, 1.0, 1.0, 1.0, 1.0, 1.0, 1.0, 1.0, 1.0, 1.0, 1.0, 1.0, 1.0, 1.0, 1.0, 1.0, 1.0, 1.0, 1.0, 1.0, 1.0, 1.0, 1.0, 1.0, 1.0, 1.0, 1.0, 1.0, 1.0, 1.0, 1.0, 1.0, 1.0, 1.0, 1.0, 1.0, 1.0, 1.0, 1.0, 1.0, 1.0, 1.0, 1.0, 1.0, 1.0, 1.0, 1.0, 1.0, 1.0, 1.0, 1.0, 1.0, 1.0, 1.0, 1.0, 1.0, 1.0, 1.0, 1.0, 1.0, 1.0, 1.0, 1.0, 1.0, 1.0, 1.0, 1.0, 1.0, 1.0, 1.0, 1.0, 1.0, 1.0, 1.0, 1.0, 1.0, 1.0, 1.0, 1.0, 1.0, 1.0, 1.0, 1.0, 1.0, 1.0, 1.0, 1.0, 1.0, 1.0, 1.0, 1.0, 1.0, 1.0, 1.0, 1.0, 1.0, 1.0, 1.0, 1.0, 1.0, 1.0, 1.0, 1.0, 1.0, 1.0, 1.0, 1.0, 1.0, 1.0, 1.0, 1.0, 1.0, 1.0, 1.0, 1.0, 1.0, 1.0, 1.0, 1.0, 1.0, 1.0, 1.0, 1.0, 1.0, 1.0, 1.0, 1.0, 1.0, 1.0, 1.0, 1.0, 1.0, 1.0, 1.0, 1.0, 1.0, 1.0, 1.0, 1.0, 1.0, 1.0, 1.0, 1.0, 1.0, 1.0, 1.0, 1.0, 1.0, 1.0, 1.0, 1.0, 1.0, 1.0, 1.0, 1.0, 1.0, 1.0, 1.0, 1.0, 1.0, 1.0, 1.0, 1.0, 1.0, 1.0, 1.0, 1.0, 1.0, 1.0, 1.0, 1.0, 1.0, 1.0, 1.0, 1.0, 1.0, 1.0, 1.0, 1.0, 1.0, 1.0, 1.0, 1.0, 1.0, 1.0, 1.0, 1.0, 1.0, 1.0, 1.0, 1.0, 1.0, 1.0, 1.0, 1.0, 1.0, 1.0, 1.0, 1.0, 1.0, 1.0, 1.0, 1.0, 1.0, 1.0, 1.0, 1.0, 1.0, 1.0, 1.0, 1.0, 1.0, 1.0, 1.0, 1.0, 1.0, 1.0, 1.0, 1.0, 1.0, 1.0, 1.0, 1.0, 1.0, 1.0, 1.0, 1.0, 1.0, 1.0, 1.0, 1.0, 1.0, 1.0, 1.0, 1.0, 1.0, 1.0, 1.0, 1.0, 1.0, 1.0, 1.0, 1.0, 1.0, 1.0, 1.0, 1.0, 1.0, 1.0, 1.0, 1.0, 1.0, 1.0, 1.0, 1.0, 1.0, 1.0, 1.0, 1.0, 1.0, 1.0, 1.0, 1.0, 1.0, 1.0, 1.0, 1.0, 1.0, 1.0, 1.0, 1.0, 1.0, 1.0, 1.0, 1.0, 1.0, 1.0, 1.0, 1.0, 1.0, 1.0, 1.0, 1.0, 1.0, 1.0, 1.0, 1.0, 1.0, 1.0, 1.0, 1.0, 1.0, 1.0, 1.0, 1.0, 1.0, 1.0, 1.0, 1.0, 1.0, 1.0, 1.0, 1.0, 1.0, 1.0, 1.0, 1.0, 1.0, 1.0, 1.0, 1.0, 1.0, 1.0, 1.0, 1.0, 1.0, 1.0, 1.0, 1.0, 1.0, 1.0, 1.0, 1.0, 1.0, 1.0, 1.0, 1.0, 1.0, 1.0, 1.0, 1.0, 1.0, 1.0, 1.0, 1.0, 1.0, 1.0, 1.0, 1.0, 1.0, 1.0, 1.0, 1.0, 1.0, 1.0, 1.0, 1.0, 1.0, 1.0, 1.0, 1.0, 1.0, 1.0, 1.0, 1.0, 1.0, 1.0, 1.0, 1.0, 1.0, 1.0, 1.0, 1.0, 1.0, 1.0, 1.0, 1.0, 1.0, 1.0, 1.0, 1.0, 1.0, 1.0, 1.0, 1.0, 1.0, 1.0, 1.0, 1.0, 1.0, 1.0, 1.0, 1.0, 1.0, 1.0, 1.0, 1.0, 1.0, 1.0, 1.0, 1.0, 1.0, 1.0, 1.0, 1.0, 1.0, 1.0, 1.0, 1.0, 1.0, 1.0, 1.0, 1.0, 1.0, 1.0, 1.0, 1.0, 1.0, 1.0, 1.0, 1.0, 1.0, 1.0, 1.0, 1.0, 1.0, 1.0, 1.0, 1.0, 1.0, 1.0, 1.0, 1.0, 1.0, 1.0, 1.0, 1.0, 1.0, 1.0, 1.0, 1.0, 1.0, 1.0, 1.0, 1.0, 1.0, 1.0, 1.0, 1.0, 1.0, 1.0, 1.0, 1.0, 1.0, 1.0, 1.0, 1.0, 1.0, 1.0, 1.0, 1.0, 1.0, 1.0, 1.0, 1.0, 1.0, 1.0, 1.0, 1.0, 1.0]\n"
          ]
        },
        {
          "output_type": "execute_result",
          "data": {
            "text/plain": [
              "{2017: 1.0, 2018: 1.0, 2019: 1.0, 2020: 1.0, 2021: 1.0, 2022: 1.0, 2023: 1.0}"
            ]
          },
          "metadata": {},
          "execution_count": 58
        }
      ]
    },
    {
      "cell_type": "code",
      "execution_count": 45,
      "id": "165e9594-6e06-4cd3-b74e-c62c5b99eea3",
      "metadata": {
        "id": "165e9594-6e06-4cd3-b74e-c62c5b99eea3"
      },
      "outputs": [],
      "source": [
        "def overall_rating_per_year(reviews, year):\n",
        "  scores = {}\n",
        "  for year in years:\n",
        "    ratings = [review['Overall_rating'] for review in reviews if review['year'] == year]\n",
        "    avg_score = sum(ratings) / len(ratings)\n",
        "    scores[year] = avg_score\n",
        "  return scores\n"
      ]
    },
    {
      "cell_type": "code",
      "execution_count": 46,
      "id": "39de568b-4af0-4570-95bb-ef04e6f3ec86",
      "metadata": {
        "id": "39de568b-4af0-4570-95bb-ef04e6f3ec86",
        "outputId": "28b4acd0-a779-4489-debb-976db9d0e5d1",
        "colab": {
          "base_uri": "https://localhost:8080/"
        }
      },
      "outputs": [
        {
          "output_type": "execute_result",
          "data": {
            "text/plain": [
              "{2017: nan,\n",
              " 2018: nan,\n",
              " 2019: nan,\n",
              " 2020: 3.748925193465176,\n",
              " 2021: 3.835592011412268,\n",
              " 2022: 3.9802127133316842,\n",
              " 2023: 3.780428824762212}"
            ]
          },
          "metadata": {},
          "execution_count": 46
        }
      ],
      "source": [
        "hist = overall_rating_per_year(dated_reviews, years)\n",
        "hist\n",
        "\n",
        "# {2017: 3.35,\n",
        "#  2018: 3.16,\n",
        "#  2019: 3.48,\n",
        "#  2020: 3.75,\n",
        "#  2021: 3.84,\n",
        "#  2022: 3.98,\n",
        "#  2023: 3.78}"
      ]
    },
    {
      "cell_type": "markdown",
      "id": "1b7bde10-dc27-4fa8-b9b1-67b23f9b5681",
      "metadata": {
        "id": "1b7bde10-dc27-4fa8-b9b1-67b23f9b5681"
      },
      "source": [
        "> Hint: If you are getting getting nan values, it is likely because there are nan values in some of the reviews.  You can exclude these records by adding something like the following to your code.\n",
        "\n",
        "```python\n",
        "import math\n",
        "if not math.isnan(review['Overall_rating'])\n",
        "```"
      ]
    }
  ],
  "metadata": {
    "kernelspec": {
      "display_name": "Python 3 (ipykernel)",
      "language": "python",
      "name": "python3"
    },
    "language_info": {
      "codemirror_mode": {
        "name": "ipython",
        "version": 3
      },
      "file_extension": ".py",
      "mimetype": "text/x-python",
      "name": "python",
      "nbconvert_exporter": "python",
      "pygments_lexer": "ipython3",
      "version": "3.9.12"
    },
    "colab": {
      "provenance": []
    }
  },
  "nbformat": 4,
  "nbformat_minor": 5
}