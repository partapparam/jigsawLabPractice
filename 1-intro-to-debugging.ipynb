{
  "cells": [
    {
      "cell_type": "markdown",
      "metadata": {
        "id": "JgAKYq6XWa4b"
      },
      "source": [
        "# Intro to Debugging"
      ]
    },
    {
      "cell_type": "markdown",
      "metadata": {
        "tags": [],
        "id": "aQvVIoHJWa4c"
      },
      "source": [
        "### Introduction"
      ]
    },
    {
      "cell_type": "markdown",
      "metadata": {
        "id": "ThAS3kv1Wa4d"
      },
      "source": [
        "One of the tricky parts of programming, is that a single mistyped character can prevent a program from working.  But the nice thing about programming, is that Python tries to tell you what is going wrong.  It accomplishes this with error messages.  \n",
        "\n",
        "In this lesson, we'll take a look at some common error messages, and practice debugging our code."
      ]
    },
    {
      "cell_type": "markdown",
      "metadata": {
        "id": "ED4QaSFGWa4d"
      },
      "source": [
        "### 1. Reading the error message"
      ]
    },
    {
      "cell_type": "markdown",
      "metadata": {
        "id": "a-IlzJbnWa4d"
      },
      "source": [
        "Our first step in debugging should be to read and understand the error message.  Let's take a look.  For example, let's try to select the first element from a set."
      ]
    },
    {
      "cell_type": "code",
      "execution_count": null,
      "metadata": {
        "id": "YV7DGdyMWa4d"
      },
      "outputs": [],
      "source": [
        "cities = set(['nyc', 'la', 'chicago'])"
      ]
    },
    {
      "cell_type": "code",
      "execution_count": null,
      "metadata": {
        "id": "KnBY79-KWa4e",
        "outputId": "d0f3df4a-fa24-4744-9bd8-4af5564f021a"
      },
      "outputs": [
        {
          "data": {
            "text/plain": [
              "'chicago'"
            ]
          },
          "execution_count": 18,
          "metadata": {},
          "output_type": "execute_result"
        }
      ],
      "source": [
        "list(cities)[0]"
      ]
    },
    {
      "cell_type": "code",
      "execution_count": null,
      "metadata": {
        "id": "LzHFr9XSWa4f",
        "outputId": "a3a47ea1-f8dd-48b1-c221-29ab4fb25954"
      },
      "outputs": [
        {
          "ename": "TypeError",
          "evalue": "'set' object is not subscriptable",
          "output_type": "error",
          "traceback": [
            "\u001b[0;31m---------------------------------------------------------------------------\u001b[0m",
            "\u001b[0;31mTypeError\u001b[0m                                 Traceback (most recent call last)",
            "\u001b[0;32m/var/folders/kx/pltjhhp51mv3hjlcsp0dwlfw0000gn/T/ipykernel_59198/1083240252.py\u001b[0m in \u001b[0;36m<module>\u001b[0;34m\u001b[0m\n\u001b[0;32m----> 1\u001b[0;31m \u001b[0mcities\u001b[0m\u001b[0;34m[\u001b[0m\u001b[0;36m0\u001b[0m\u001b[0;34m]\u001b[0m\u001b[0;34m\u001b[0m\u001b[0;34m\u001b[0m\u001b[0m\n\u001b[0m",
            "\u001b[0;31mTypeError\u001b[0m: 'set' object is not subscriptable"
          ]
        }
      ],
      "source": [
        "cities[0]"
      ]
    },
    {
      "cell_type": "markdown",
      "metadata": {
        "id": "y4TARRoxWa4f"
      },
      "source": [
        "### 2. Look at what's hidden"
      ]
    },
    {
      "cell_type": "markdown",
      "metadata": {
        "id": "5DCij0PZWa4f"
      },
      "source": [
        "If the first step is to read the error message, the second step is to look at what's hidden.  Let's see an example."
      ]
    },
    {
      "cell_type": "code",
      "execution_count": 15,
      "metadata": {
        "id": "45QDETN2Wa4f"
      },
      "outputs": [],
      "source": [
        "employees = ['sam', 'fred', 'barbara']\n",
        "\n",
        "employees.append('susan')"
      ]
    },
    {
      "cell_type": "code",
      "execution_count": 16,
      "metadata": {
        "colab": {
          "base_uri": "https://localhost:8080/",
          "height": 35
        },
        "id": "nvyX318HWa4g",
        "outputId": "30a43727-c3e2-4b09-b2af-fa2499c5d5a5"
      },
      "outputs": [
        {
          "output_type": "execute_result",
          "data": {
            "text/plain": [
              "'susan'"
            ],
            "application/vnd.google.colaboratory.intrinsic+json": {
              "type": "string"
            }
          },
          "metadata": {},
          "execution_count": 16
        }
      ],
      "source": [
        "employees[-1]"
      ]
    },
    {
      "cell_type": "markdown",
      "metadata": {
        "id": "zyc1QEpSWa4g"
      },
      "source": [
        "Ok, so here we see that `subscriptable` error again, but this time it's telling us that `NoneType` is not subscriptable.  Where did `None` come from.  \n",
        "\n",
        "**Stop**\n",
        "\n",
        "Now that we read the error message, our next step should not be to go directly into fixing the error, but to look at data contained in the variable.  \n",
        "\n",
        "How do we do that?  Just type in the variable name."
      ]
    },
    {
      "cell_type": "markdown",
      "metadata": {
        "id": "NpB_VNLQWa4g"
      },
      "source": [
        "> Press shift + return below."
      ]
    },
    {
      "cell_type": "code",
      "execution_count": 14,
      "metadata": {
        "colab": {
          "base_uri": "https://localhost:8080/"
        },
        "id": "lioCEqvZWa4g",
        "outputId": "8ef59556-7c03-4613-9276-17c7573bf9bc"
      },
      "outputs": [
        {
          "output_type": "stream",
          "name": "stdout",
          "text": [
            "None\n"
          ]
        }
      ],
      "source": [
        "print(employees)"
      ]
    },
    {
      "cell_type": "markdown",
      "metadata": {
        "id": "gziq4RlCWa4g"
      },
      "source": [
        "See that, `employees` shows something different than we expected.  When we don't see anything displayed with the variable name this means that employees is equal to `None`."
      ]
    },
    {
      "cell_type": "code",
      "execution_count": null,
      "metadata": {
        "id": "Xzu940rzWa4g",
        "outputId": "bd672811-c0f2-488d-edd4-f020f77f88ad"
      },
      "outputs": [
        {
          "data": {
            "text/plain": [
              "True"
            ]
          },
          "execution_count": 27,
          "metadata": {},
          "output_type": "execute_result"
        }
      ],
      "source": [
        "employees == None"
      ]
    },
    {
      "cell_type": "markdown",
      "metadata": {
        "id": "ke_VAIKmWa4h"
      },
      "source": [
        "### 3. Move backwards"
      ]
    },
    {
      "cell_type": "markdown",
      "metadata": {
        "id": "ATRuGX6mWa4h"
      },
      "source": [
        "So now that we saw that employees is different than we expected, the next step is to discover why.  Sometimes, we can just look at the code, and see where the error is."
      ]
    },
    {
      "cell_type": "markdown",
      "metadata": {
        "id": "NiwEq_tdWa4h"
      },
      "source": [
        "But a safer method for identifying the error is to start where the code *is* what we expected, and then find the spot where things changed.  Ok, now let's do this."
      ]
    },
    {
      "cell_type": "markdown",
      "metadata": {
        "id": "U-oCqNYhWa4h"
      },
      "source": [
        "> Our code looks like the following:"
      ]
    },
    {
      "cell_type": "code",
      "execution_count": null,
      "metadata": {
        "id": "Rc6GYuLhWa4h"
      },
      "outputs": [],
      "source": [
        "employees = ['sam', 'fred', 'barbara']\n",
        "\n",
        "employees = employees.append('susan')"
      ]
    },
    {
      "cell_type": "markdown",
      "metadata": {
        "id": "EGxgIZ6lWa4h"
      },
      "source": [
        "Ok, so now we'll start where we're relatively confident the variable is what we expect."
      ]
    },
    {
      "cell_type": "code",
      "execution_count": null,
      "metadata": {
        "id": "xImnpjlpWa4h"
      },
      "outputs": [],
      "source": [
        "employees = ['sam', 'fred', 'barbara']"
      ]
    },
    {
      "cell_type": "code",
      "execution_count": null,
      "metadata": {
        "id": "SZxOgv6_Wa4h",
        "outputId": "acadf54c-b59c-40b0-fee2-8c7c5abf4e6b"
      },
      "outputs": [
        {
          "data": {
            "text/plain": [
              "['sam', 'fred', 'barbara']"
            ]
          },
          "execution_count": 30,
          "metadata": {},
          "output_type": "execute_result"
        }
      ],
      "source": [
        "employees"
      ]
    },
    {
      "cell_type": "markdown",
      "metadata": {
        "id": "dmgx6HzfWa4i"
      },
      "source": [
        "Ok, so that part looks good.  Onto the next line.  We can breakdown the next line by removing the variable name."
      ]
    },
    {
      "cell_type": "code",
      "execution_count": 17,
      "metadata": {
        "id": "Yrm47ovWWa4i"
      },
      "outputs": [],
      "source": [
        "employees.append('barbara')"
      ]
    },
    {
      "cell_type": "markdown",
      "metadata": {
        "id": "4aaAANHXWa4i"
      },
      "source": [
        "Notice that we don't see any result on the line above.  This is where the error is coming from.  The append method returns `None`, and we were then doing:"
      ]
    },
    {
      "cell_type": "code",
      "execution_count": 18,
      "metadata": {
        "id": "dpD7FSICWa4i"
      },
      "outputs": [],
      "source": [
        "employees = employees.append('barbara')"
      ]
    },
    {
      "cell_type": "markdown",
      "metadata": {
        "id": "gFBY1k9rWa4i"
      },
      "source": [
        "This reassigns the variable `employees` from our list to the return value of `append`, `None`.  "
      ]
    },
    {
      "cell_type": "code",
      "execution_count": 19,
      "metadata": {
        "id": "7s7F_CaiWa4i"
      },
      "outputs": [],
      "source": [
        "employees"
      ]
    },
    {
      "cell_type": "markdown",
      "metadata": {
        "id": "4fWiNJvvWa4j"
      },
      "source": [
        "We'll learn more about return values, when we discuss functions in the future.  But for now the point is that when we first run into an error, our procedure should not be to directly fix the issue, but first to look and understand the problem.  From there, we want to identify code that operates as we expect, and continue moving through our code until we identify where our variables are different that we expect."
      ]
    },
    {
      "cell_type": "markdown",
      "metadata": {
        "id": "vlY4BBttWa4j"
      },
      "source": [
        "### Summary"
      ]
    },
    {
      "cell_type": "markdown",
      "metadata": {
        "id": "iYhmk8q_Wa4j"
      },
      "source": [
        "In this lesson, we learned about debugging.  The first step to debugging is simply to read the error message.  When we read the error message, note that there is an arrow that guesses where the error is originating.  Then there is a *category* of the error -- for example, with the `TypeError`, we are performing an operation that is not permitted on that type.  And finally, we can understand the error message (often with the help of Google).\n",
        "\n",
        "Then we saw the second step of debugging our error messages.  This is to *look* at what's hidden.  And for us right now, what's hidden is what's in a variable.  So before trying to make the fix, we first want to find code that operates as we expect, and from there move identify where the code operates differently than our expectation.  \n",
        "\n",
        "That's the cause of our bug."
      ]
    }
  ],
  "metadata": {
    "kernelspec": {
      "display_name": "Python 3 (ipykernel)",
      "language": "python",
      "name": "python3"
    },
    "language_info": {
      "codemirror_mode": {
        "name": "ipython",
        "version": 3
      },
      "file_extension": ".py",
      "mimetype": "text/x-python",
      "name": "python",
      "nbconvert_exporter": "python",
      "pygments_lexer": "ipython3",
      "version": "3.10.6"
    },
    "colab": {
      "provenance": []
    }
  },
  "nbformat": 4,
  "nbformat_minor": 0
}