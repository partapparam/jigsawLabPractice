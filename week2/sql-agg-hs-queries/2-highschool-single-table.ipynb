{
  "cells": [
    {
      "cell_type": "markdown",
      "metadata": {
        "id": "P5o8j8gv-L6u"
      },
      "source": [
        "# NYC High Schools Aggregates"
      ]
    },
    {
      "cell_type": "markdown",
      "metadata": {
        "id": "Msr8ucLA-L6z"
      },
      "source": [
        "### Introduction\n",
        "In this lab we will practice using aggregate SQL functions. These functions, such as AVG, MIN, and MAX, allow us to perform mathematical operations on a set of numbers, and return one value. We will also use the GROUP BY function. GROUP BY allows us to group rows that have identical values in a column (or columns), often with the intention of performing an aggregate function on these groups. In the database we are using in this lab, each row represents a school, with each column representing some metric or information about that school. We could use an aggregate function to find the MAX total students of all the schools listed. But what if we wanted to know the MAX number of students by Boro? Previously we might have used a WHERE clause, but that would require a separate statement for each boro. Thats where GROUP BY clauses come in. In this example we could use GROUP BY boro, and the query would return the results of our aggregate function for each boro."
      ]
    },
    {
      "cell_type": "markdown",
      "metadata": {
        "id": "NghWEEoY-L60"
      },
      "source": [
        "Lets begin by using the `sqlite3` library to connect to the database"
      ]
    },
    {
      "cell_type": "code",
      "execution_count": 9,
      "metadata": {
        "id": "dzWm77Pq-L61",
        "outputId": "c7cbf2d8-576b-4379-9eaf-9f56500a88ad",
        "colab": {
          "base_uri": "https://localhost:8080/"
        }
      },
      "outputs": [
        {
          "output_type": "execute_result",
          "data": {
            "text/plain": [
              "356"
            ]
          },
          "metadata": {},
          "execution_count": 9
        }
      ],
      "source": [
        "import sqlite3\n",
        "import pandas as pd\n",
        "conn = sqlite3.connect('nyc_schools.db')\n",
        "cursor = conn.cursor()\n",
        "hs_url = \"https://raw.githubusercontent.com/eng-6-22/mod-1-sql-curriculum/master/sql-agg-hs-queries/highschools.csv\"\n",
        "high_school_df = pd.read_csv(hs_url)\n",
        "high_school_df.head()\n",
        "high_school_df.to_sql('high_schools', conn, index = False, if_exists = 'replace')\n"
      ]
    },
    {
      "cell_type": "code",
      "source": [
        "high_school_df.head()\n"
      ],
      "metadata": {
        "id": "Omk4y8Ju_WxZ",
        "outputId": "105674a7-a8f7-43a0-f73f-9aeff038cfa9",
        "colab": {
          "base_uri": "https://localhost:8080/",
          "height": 241
        }
      },
      "execution_count": 10,
      "outputs": [
        {
          "output_type": "execute_result",
          "data": {
            "text/plain": [
              "   id     dbn                                               name  \\\n",
              "0   0  01M292      HENRY STREET SCHOOL FOR INTERNATIONAL STUDIES   \n",
              "1   1  01M448                UNIVERSITY NEIGHBORHOOD HIGH SCHOOL   \n",
              "2   2  01M450                         EAST SIDE COMMUNITY SCHOOL   \n",
              "3   3  01M509                            MARTA VALLE HIGH SCHOOL   \n",
              "4   4  01M539  NEW EXPLORATIONS INTO SCIENCE, TECHNOLOGY AND ...   \n",
              "\n",
              "   num_test_takers  reading_avg  math_avg  writing_score boro  total_students  \\\n",
              "0             29.0        355.0     404.0          363.0    M             171   \n",
              "1             91.0        383.0     423.0          366.0    M             465   \n",
              "2             70.0        377.0     402.0          370.0    M             683   \n",
              "3             44.0        390.0     433.0          384.0    M             148   \n",
              "4            159.0        522.0     574.0          525.0    M            1734   \n",
              "\n",
              "   graduation_rate  attendance_rate  college_career_rate  \n",
              "0             0.66             0.87                 0.36  \n",
              "1             0.90             0.93                 0.70  \n",
              "2             0.92             0.94                 0.77  \n",
              "3             0.74             0.79                 0.49  \n",
              "4             0.97             0.95                 0.85  "
            ],
            "text/html": [
              "\n",
              "  <div id=\"df-27d7bf38-9230-42ed-9307-8ce4604c61eb\" class=\"colab-df-container\">\n",
              "    <div>\n",
              "<style scoped>\n",
              "    .dataframe tbody tr th:only-of-type {\n",
              "        vertical-align: middle;\n",
              "    }\n",
              "\n",
              "    .dataframe tbody tr th {\n",
              "        vertical-align: top;\n",
              "    }\n",
              "\n",
              "    .dataframe thead th {\n",
              "        text-align: right;\n",
              "    }\n",
              "</style>\n",
              "<table border=\"1\" class=\"dataframe\">\n",
              "  <thead>\n",
              "    <tr style=\"text-align: right;\">\n",
              "      <th></th>\n",
              "      <th>id</th>\n",
              "      <th>dbn</th>\n",
              "      <th>name</th>\n",
              "      <th>num_test_takers</th>\n",
              "      <th>reading_avg</th>\n",
              "      <th>math_avg</th>\n",
              "      <th>writing_score</th>\n",
              "      <th>boro</th>\n",
              "      <th>total_students</th>\n",
              "      <th>graduation_rate</th>\n",
              "      <th>attendance_rate</th>\n",
              "      <th>college_career_rate</th>\n",
              "    </tr>\n",
              "  </thead>\n",
              "  <tbody>\n",
              "    <tr>\n",
              "      <th>0</th>\n",
              "      <td>0</td>\n",
              "      <td>01M292</td>\n",
              "      <td>HENRY STREET SCHOOL FOR INTERNATIONAL STUDIES</td>\n",
              "      <td>29.0</td>\n",
              "      <td>355.0</td>\n",
              "      <td>404.0</td>\n",
              "      <td>363.0</td>\n",
              "      <td>M</td>\n",
              "      <td>171</td>\n",
              "      <td>0.66</td>\n",
              "      <td>0.87</td>\n",
              "      <td>0.36</td>\n",
              "    </tr>\n",
              "    <tr>\n",
              "      <th>1</th>\n",
              "      <td>1</td>\n",
              "      <td>01M448</td>\n",
              "      <td>UNIVERSITY NEIGHBORHOOD HIGH SCHOOL</td>\n",
              "      <td>91.0</td>\n",
              "      <td>383.0</td>\n",
              "      <td>423.0</td>\n",
              "      <td>366.0</td>\n",
              "      <td>M</td>\n",
              "      <td>465</td>\n",
              "      <td>0.90</td>\n",
              "      <td>0.93</td>\n",
              "      <td>0.70</td>\n",
              "    </tr>\n",
              "    <tr>\n",
              "      <th>2</th>\n",
              "      <td>2</td>\n",
              "      <td>01M450</td>\n",
              "      <td>EAST SIDE COMMUNITY SCHOOL</td>\n",
              "      <td>70.0</td>\n",
              "      <td>377.0</td>\n",
              "      <td>402.0</td>\n",
              "      <td>370.0</td>\n",
              "      <td>M</td>\n",
              "      <td>683</td>\n",
              "      <td>0.92</td>\n",
              "      <td>0.94</td>\n",
              "      <td>0.77</td>\n",
              "    </tr>\n",
              "    <tr>\n",
              "      <th>3</th>\n",
              "      <td>3</td>\n",
              "      <td>01M509</td>\n",
              "      <td>MARTA VALLE HIGH SCHOOL</td>\n",
              "      <td>44.0</td>\n",
              "      <td>390.0</td>\n",
              "      <td>433.0</td>\n",
              "      <td>384.0</td>\n",
              "      <td>M</td>\n",
              "      <td>148</td>\n",
              "      <td>0.74</td>\n",
              "      <td>0.79</td>\n",
              "      <td>0.49</td>\n",
              "    </tr>\n",
              "    <tr>\n",
              "      <th>4</th>\n",
              "      <td>4</td>\n",
              "      <td>01M539</td>\n",
              "      <td>NEW EXPLORATIONS INTO SCIENCE, TECHNOLOGY AND ...</td>\n",
              "      <td>159.0</td>\n",
              "      <td>522.0</td>\n",
              "      <td>574.0</td>\n",
              "      <td>525.0</td>\n",
              "      <td>M</td>\n",
              "      <td>1734</td>\n",
              "      <td>0.97</td>\n",
              "      <td>0.95</td>\n",
              "      <td>0.85</td>\n",
              "    </tr>\n",
              "  </tbody>\n",
              "</table>\n",
              "</div>\n",
              "    <div class=\"colab-df-buttons\">\n",
              "\n",
              "  <div class=\"colab-df-container\">\n",
              "    <button class=\"colab-df-convert\" onclick=\"convertToInteractive('df-27d7bf38-9230-42ed-9307-8ce4604c61eb')\"\n",
              "            title=\"Convert this dataframe to an interactive table.\"\n",
              "            style=\"display:none;\">\n",
              "\n",
              "  <svg xmlns=\"http://www.w3.org/2000/svg\" height=\"24px\" viewBox=\"0 -960 960 960\">\n",
              "    <path d=\"M120-120v-720h720v720H120Zm60-500h600v-160H180v160Zm220 220h160v-160H400v160Zm0 220h160v-160H400v160ZM180-400h160v-160H180v160Zm440 0h160v-160H620v160ZM180-180h160v-160H180v160Zm440 0h160v-160H620v160Z\"/>\n",
              "  </svg>\n",
              "    </button>\n",
              "\n",
              "  <style>\n",
              "    .colab-df-container {\n",
              "      display:flex;\n",
              "      gap: 12px;\n",
              "    }\n",
              "\n",
              "    .colab-df-convert {\n",
              "      background-color: #E8F0FE;\n",
              "      border: none;\n",
              "      border-radius: 50%;\n",
              "      cursor: pointer;\n",
              "      display: none;\n",
              "      fill: #1967D2;\n",
              "      height: 32px;\n",
              "      padding: 0 0 0 0;\n",
              "      width: 32px;\n",
              "    }\n",
              "\n",
              "    .colab-df-convert:hover {\n",
              "      background-color: #E2EBFA;\n",
              "      box-shadow: 0px 1px 2px rgba(60, 64, 67, 0.3), 0px 1px 3px 1px rgba(60, 64, 67, 0.15);\n",
              "      fill: #174EA6;\n",
              "    }\n",
              "\n",
              "    .colab-df-buttons div {\n",
              "      margin-bottom: 4px;\n",
              "    }\n",
              "\n",
              "    [theme=dark] .colab-df-convert {\n",
              "      background-color: #3B4455;\n",
              "      fill: #D2E3FC;\n",
              "    }\n",
              "\n",
              "    [theme=dark] .colab-df-convert:hover {\n",
              "      background-color: #434B5C;\n",
              "      box-shadow: 0px 1px 3px 1px rgba(0, 0, 0, 0.15);\n",
              "      filter: drop-shadow(0px 1px 2px rgba(0, 0, 0, 0.3));\n",
              "      fill: #FFFFFF;\n",
              "    }\n",
              "  </style>\n",
              "\n",
              "    <script>\n",
              "      const buttonEl =\n",
              "        document.querySelector('#df-27d7bf38-9230-42ed-9307-8ce4604c61eb button.colab-df-convert');\n",
              "      buttonEl.style.display =\n",
              "        google.colab.kernel.accessAllowed ? 'block' : 'none';\n",
              "\n",
              "      async function convertToInteractive(key) {\n",
              "        const element = document.querySelector('#df-27d7bf38-9230-42ed-9307-8ce4604c61eb');\n",
              "        const dataTable =\n",
              "          await google.colab.kernel.invokeFunction('convertToInteractive',\n",
              "                                                    [key], {});\n",
              "        if (!dataTable) return;\n",
              "\n",
              "        const docLinkHtml = 'Like what you see? Visit the ' +\n",
              "          '<a target=\"_blank\" href=https://colab.research.google.com/notebooks/data_table.ipynb>data table notebook</a>'\n",
              "          + ' to learn more about interactive tables.';\n",
              "        element.innerHTML = '';\n",
              "        dataTable['output_type'] = 'display_data';\n",
              "        await google.colab.output.renderOutput(dataTable, element);\n",
              "        const docLink = document.createElement('div');\n",
              "        docLink.innerHTML = docLinkHtml;\n",
              "        element.appendChild(docLink);\n",
              "      }\n",
              "    </script>\n",
              "  </div>\n",
              "\n",
              "\n",
              "<div id=\"df-add80c9e-8db6-406d-8423-c67f8ca2e1e5\">\n",
              "  <button class=\"colab-df-quickchart\" onclick=\"quickchart('df-add80c9e-8db6-406d-8423-c67f8ca2e1e5')\"\n",
              "            title=\"Suggest charts.\"\n",
              "            style=\"display:none;\">\n",
              "\n",
              "<svg xmlns=\"http://www.w3.org/2000/svg\" height=\"24px\"viewBox=\"0 0 24 24\"\n",
              "     width=\"24px\">\n",
              "    <g>\n",
              "        <path d=\"M19 3H5c-1.1 0-2 .9-2 2v14c0 1.1.9 2 2 2h14c1.1 0 2-.9 2-2V5c0-1.1-.9-2-2-2zM9 17H7v-7h2v7zm4 0h-2V7h2v10zm4 0h-2v-4h2v4z\"/>\n",
              "    </g>\n",
              "</svg>\n",
              "  </button>\n",
              "\n",
              "<style>\n",
              "  .colab-df-quickchart {\n",
              "      --bg-color: #E8F0FE;\n",
              "      --fill-color: #1967D2;\n",
              "      --hover-bg-color: #E2EBFA;\n",
              "      --hover-fill-color: #174EA6;\n",
              "      --disabled-fill-color: #AAA;\n",
              "      --disabled-bg-color: #DDD;\n",
              "  }\n",
              "\n",
              "  [theme=dark] .colab-df-quickchart {\n",
              "      --bg-color: #3B4455;\n",
              "      --fill-color: #D2E3FC;\n",
              "      --hover-bg-color: #434B5C;\n",
              "      --hover-fill-color: #FFFFFF;\n",
              "      --disabled-bg-color: #3B4455;\n",
              "      --disabled-fill-color: #666;\n",
              "  }\n",
              "\n",
              "  .colab-df-quickchart {\n",
              "    background-color: var(--bg-color);\n",
              "    border: none;\n",
              "    border-radius: 50%;\n",
              "    cursor: pointer;\n",
              "    display: none;\n",
              "    fill: var(--fill-color);\n",
              "    height: 32px;\n",
              "    padding: 0;\n",
              "    width: 32px;\n",
              "  }\n",
              "\n",
              "  .colab-df-quickchart:hover {\n",
              "    background-color: var(--hover-bg-color);\n",
              "    box-shadow: 0 1px 2px rgba(60, 64, 67, 0.3), 0 1px 3px 1px rgba(60, 64, 67, 0.15);\n",
              "    fill: var(--button-hover-fill-color);\n",
              "  }\n",
              "\n",
              "  .colab-df-quickchart-complete:disabled,\n",
              "  .colab-df-quickchart-complete:disabled:hover {\n",
              "    background-color: var(--disabled-bg-color);\n",
              "    fill: var(--disabled-fill-color);\n",
              "    box-shadow: none;\n",
              "  }\n",
              "\n",
              "  .colab-df-spinner {\n",
              "    border: 2px solid var(--fill-color);\n",
              "    border-color: transparent;\n",
              "    border-bottom-color: var(--fill-color);\n",
              "    animation:\n",
              "      spin 1s steps(1) infinite;\n",
              "  }\n",
              "\n",
              "  @keyframes spin {\n",
              "    0% {\n",
              "      border-color: transparent;\n",
              "      border-bottom-color: var(--fill-color);\n",
              "      border-left-color: var(--fill-color);\n",
              "    }\n",
              "    20% {\n",
              "      border-color: transparent;\n",
              "      border-left-color: var(--fill-color);\n",
              "      border-top-color: var(--fill-color);\n",
              "    }\n",
              "    30% {\n",
              "      border-color: transparent;\n",
              "      border-left-color: var(--fill-color);\n",
              "      border-top-color: var(--fill-color);\n",
              "      border-right-color: var(--fill-color);\n",
              "    }\n",
              "    40% {\n",
              "      border-color: transparent;\n",
              "      border-right-color: var(--fill-color);\n",
              "      border-top-color: var(--fill-color);\n",
              "    }\n",
              "    60% {\n",
              "      border-color: transparent;\n",
              "      border-right-color: var(--fill-color);\n",
              "    }\n",
              "    80% {\n",
              "      border-color: transparent;\n",
              "      border-right-color: var(--fill-color);\n",
              "      border-bottom-color: var(--fill-color);\n",
              "    }\n",
              "    90% {\n",
              "      border-color: transparent;\n",
              "      border-bottom-color: var(--fill-color);\n",
              "    }\n",
              "  }\n",
              "</style>\n",
              "\n",
              "  <script>\n",
              "    async function quickchart(key) {\n",
              "      const quickchartButtonEl =\n",
              "        document.querySelector('#' + key + ' button');\n",
              "      quickchartButtonEl.disabled = true;  // To prevent multiple clicks.\n",
              "      quickchartButtonEl.classList.add('colab-df-spinner');\n",
              "      try {\n",
              "        const charts = await google.colab.kernel.invokeFunction(\n",
              "            'suggestCharts', [key], {});\n",
              "      } catch (error) {\n",
              "        console.error('Error during call to suggestCharts:', error);\n",
              "      }\n",
              "      quickchartButtonEl.classList.remove('colab-df-spinner');\n",
              "      quickchartButtonEl.classList.add('colab-df-quickchart-complete');\n",
              "    }\n",
              "    (() => {\n",
              "      let quickchartButtonEl =\n",
              "        document.querySelector('#df-add80c9e-8db6-406d-8423-c67f8ca2e1e5 button');\n",
              "      quickchartButtonEl.style.display =\n",
              "        google.colab.kernel.accessAllowed ? 'block' : 'none';\n",
              "    })();\n",
              "  </script>\n",
              "</div>\n",
              "    </div>\n",
              "  </div>\n"
            ]
          },
          "metadata": {},
          "execution_count": 10
        }
      ]
    },
    {
      "cell_type": "code",
      "execution_count": 2,
      "metadata": {
        "id": "Q4UQ2OVG-L63",
        "outputId": "28f6e6bd-5ddf-4b18-dde2-c6aa1cf77e07",
        "colab": {
          "base_uri": "https://localhost:8080/"
        }
      },
      "outputs": [
        {
          "output_type": "execute_result",
          "data": {
            "text/plain": [
              "[('high_schools',)]"
            ]
          },
          "metadata": {},
          "execution_count": 2
        }
      ],
      "source": [
        "cursor.execute('SELECT name from sqlite_master where type= \"table\"')\n",
        "cursor.fetchall()"
      ]
    },
    {
      "cell_type": "code",
      "execution_count": 3,
      "metadata": {
        "id": "yDPB92fe-L63",
        "outputId": "faebd93d-c665-4d97-8e4e-a8b9a451cca8",
        "colab": {
          "base_uri": "https://localhost:8080/"
        }
      },
      "outputs": [
        {
          "output_type": "execute_result",
          "data": {
            "text/plain": [
              "[(0, 'id', 'INTEGER', 0, None, 0),\n",
              " (1, 'dbn', 'TEXT', 0, None, 0),\n",
              " (2, 'name', 'TEXT', 0, None, 0),\n",
              " (3, 'num_test_takers', 'REAL', 0, None, 0),\n",
              " (4, 'reading_avg', 'REAL', 0, None, 0),\n",
              " (5, 'math_avg', 'REAL', 0, None, 0),\n",
              " (6, 'writing_score', 'REAL', 0, None, 0),\n",
              " (7, 'boro', 'TEXT', 0, None, 0),\n",
              " (8, 'total_students', 'INTEGER', 0, None, 0),\n",
              " (9, 'graduation_rate', 'REAL', 0, None, 0),\n",
              " (10, 'attendance_rate', 'REAL', 0, None, 0),\n",
              " (11, 'college_career_rate', 'REAL', 0, None, 0)]"
            ]
          },
          "metadata": {},
          "execution_count": 3
        }
      ],
      "source": [
        "cursor.execute('PRAGMA table_info(high_schools)')\n",
        "cursor.fetchall()"
      ]
    },
    {
      "cell_type": "markdown",
      "metadata": {
        "id": "q5QuLdx--L64"
      },
      "source": [
        "### Aggregates"
      ]
    },
    {
      "cell_type": "markdown",
      "metadata": {
        "id": "M2lVKbGs-L64"
      },
      "source": [
        "For each of the questions below, use a SQL aggregate function to find the solution. (Note that in the database, the boro column consists of the values \"M\" for Manhattan, \"X\" for the Bronx, \"K\" for Brooklyn, and \"Q\" for Queens)"
      ]
    },
    {
      "cell_type": "markdown",
      "metadata": {
        "id": "fQGuGXki-L65"
      },
      "source": [
        "* What's the average number of students in Manhattan?"
      ]
    },
    {
      "cell_type": "code",
      "execution_count": 13,
      "metadata": {
        "id": "kagh1NOk-L65",
        "outputId": "107a2b8e-2722-4b14-a683-d0a73917b300",
        "colab": {
          "base_uri": "https://localhost:8080/"
        }
      },
      "outputs": [
        {
          "output_type": "execute_result",
          "data": {
            "text/plain": [
              "[(601.9666666666667,)]"
            ]
          },
          "metadata": {},
          "execution_count": 13
        }
      ],
      "source": [
        "def avg_students_manhattan():\n",
        "    statement = \"\"\"SELECT AVG(total_students) FROM high_schools WHERE boro = 'M'\"\"\"\n",
        "    cursor.execute(statement)\n",
        "    return cursor.fetchall()\n",
        "\n",
        "avg_students_manhattan()\n",
        "# [(601.9666666666667,)]"
      ]
    },
    {
      "cell_type": "markdown",
      "metadata": {
        "id": "rcNsGBhm-L66"
      },
      "source": [
        "* What's the average attendance in Manhattan?"
      ]
    },
    {
      "cell_type": "code",
      "execution_count": 14,
      "metadata": {
        "id": "wJGzGB0l-L66",
        "outputId": "2420ee7c-fc85-42b5-aea5-c16c1b6e84a2",
        "colab": {
          "base_uri": "https://localhost:8080/"
        }
      },
      "outputs": [
        {
          "output_type": "execute_result",
          "data": {
            "text/plain": [
              "[(0.8782222222222222,)]"
            ]
          },
          "metadata": {},
          "execution_count": 14
        }
      ],
      "source": [
        "def avg_attendance_rate_in_hs():\n",
        "    statement = \"\"\"SELECT AVG(attendance_rate) FROM high_schools WHERE boro = 'M'\"\"\"\n",
        "    cursor.execute(statement)\n",
        "    return cursor.fetchall()\n",
        "\n",
        "avg_attendance_rate_in_hs()\n",
        "# [(0.8782222222222222,)]\n"
      ]
    },
    {
      "cell_type": "markdown",
      "metadata": {
        "id": "S16FYtxe-L67"
      },
      "source": [
        "* What's the largest difference between graduation_rate and college_career_rate?"
      ]
    },
    {
      "cell_type": "code",
      "execution_count": 18,
      "metadata": {
        "id": "2ZJTIJ1s-L67",
        "outputId": "baca2f8b-9be3-4e14-b007-d06c37412640",
        "colab": {
          "base_uri": "https://localhost:8080/"
        }
      },
      "outputs": [
        {
          "output_type": "execute_result",
          "data": {
            "text/plain": [
              "[(0.55,)]"
            ]
          },
          "metadata": {},
          "execution_count": 18
        }
      ],
      "source": [
        "def largest_diff_btwn_grad_rate_and_college_career_rate():\n",
        "    statement = \"\"\"SELECT MAX(graduation_rate - college_career_rate) FROM high_schools\"\"\"\n",
        "    cursor.execute(statement)\n",
        "    return cursor.fetchall()\n",
        "largest_diff_btwn_grad_rate_and_college_career_rate()\n",
        "# [(0.55,)]"
      ]
    },
    {
      "cell_type": "markdown",
      "metadata": {
        "id": "eOZ9Qxfe-L67"
      },
      "source": [
        "* What is the highest math_avg in queens"
      ]
    },
    {
      "cell_type": "code",
      "execution_count": 21,
      "metadata": {
        "id": "2jIOL2CI-L67",
        "outputId": "dda48810-1a17-47a5-a0e9-9117a192d284",
        "colab": {
          "base_uri": "https://localhost:8080/"
        }
      },
      "outputs": [
        {
          "output_type": "execute_result",
          "data": {
            "text/plain": [
              "[(660.0,)]"
            ]
          },
          "metadata": {},
          "execution_count": 21
        }
      ],
      "source": [
        "def highest_math_avg_queens():\n",
        "    statement = \"\"\"SELECT MAX(math_avg) FROM high_schools WHERE boro = 'Q'\"\"\"\n",
        "    cursor.execute(statement)\n",
        "    return cursor.fetchall()\n",
        "highest_math_avg_queens()\n",
        "# [(660.0,)]"
      ]
    },
    {
      "cell_type": "markdown",
      "metadata": {
        "id": "0Tfk3T_O-L68"
      },
      "source": [
        "* What is the highest math_avg in manhattan?"
      ]
    },
    {
      "cell_type": "code",
      "execution_count": 22,
      "metadata": {
        "id": "A7WrHpsc-L68",
        "outputId": "ba0017fb-e796-454a-f4b1-2a27596b4335",
        "colab": {
          "base_uri": "https://localhost:8080/"
        }
      },
      "outputs": [
        {
          "output_type": "execute_result",
          "data": {
            "text/plain": [
              "[(735.0,)]"
            ]
          },
          "metadata": {},
          "execution_count": 22
        }
      ],
      "source": [
        "def highest_math_avg_manhattan():\n",
        "    statement = \"\"\"SELECT MAX(math_avg) FROM high_schools WHERE boro = 'M'\"\"\"\n",
        "    cursor.execute(statement)\n",
        "    return cursor.fetchall()\n",
        "highest_math_avg_manhattan()"
      ]
    },
    {
      "cell_type": "code",
      "execution_count": null,
      "metadata": {
        "id": "TfnPFYM4-L68"
      },
      "outputs": [],
      "source": []
    },
    {
      "cell_type": "markdown",
      "metadata": {
        "id": "lnZ-Jtxt-L68"
      },
      "source": [
        "* What is the highest combined score in manhattan?"
      ]
    },
    {
      "cell_type": "code",
      "execution_count": 25,
      "metadata": {
        "id": "1fKMFNB_-L68",
        "outputId": "dc6b366f-cd86-46e1-be35-c9931f4b474d",
        "colab": {
          "base_uri": "https://localhost:8080/"
        }
      },
      "outputs": [
        {
          "output_type": "execute_result",
          "data": {
            "text/plain": [
              "[(1414.0,)]"
            ]
          },
          "metadata": {},
          "execution_count": 25
        }
      ],
      "source": [
        "def highest_combined_score():\n",
        "    statement = \"\"\"SELECT MAX(math_avg + reading_avg) FROM high_schools WHERE boro = 'M'\"\"\"\n",
        "    cursor.execute(statement)\n",
        "    return cursor.fetchall()\n",
        "highest_combined_score()\n",
        "# [(1414.0,)]"
      ]
    },
    {
      "cell_type": "markdown",
      "metadata": {
        "id": "D2JiKwfA-L69"
      },
      "source": [
        "### Group By"
      ]
    },
    {
      "cell_type": "markdown",
      "metadata": {
        "id": "SLo6voSp-L6-"
      },
      "source": [
        "* What's the average number of students in each borough"
      ]
    },
    {
      "cell_type": "code",
      "execution_count": 27,
      "metadata": {
        "id": "st6mkx5P-L6-",
        "outputId": "a372ba14-733e-4e73-cb52-7821eb81bc84",
        "colab": {
          "base_uri": "https://localhost:8080/"
        }
      },
      "outputs": [
        {
          "output_type": "execute_result",
          "data": {
            "text/plain": [
              "[('K', 740.2884615384615),\n",
              " ('M', 601.9666666666667),\n",
              " ('Q', 1135.4615384615386),\n",
              " ('R', 1863.2),\n",
              " ('X', 523.4827586206897)]"
            ]
          },
          "metadata": {},
          "execution_count": 27
        }
      ],
      "source": [
        "def avg_num_of_students_per_borough():\n",
        "    statement = \"\"\"SELECT boro, AVG(total_students) FROM high_schools GROUP BY boro\"\"\"\n",
        "    cursor.execute(statement)\n",
        "    return cursor.fetchall()\n",
        "avg_num_of_students_per_borough()\n",
        "# [('K', 740.2884615384615),\n",
        "#         ('M', 601.9666666666667),\n",
        "#         ('Q', 1135.4615384615386),\n",
        "#         ('R', 1863.2),\n",
        "#         ('X', 523.4827586206897)]"
      ]
    },
    {
      "cell_type": "markdown",
      "metadata": {
        "id": "b2Th7YMh-L6-"
      },
      "source": [
        "* What's the average difference between graduation_rate and college_career_rate by borough"
      ]
    },
    {
      "cell_type": "code",
      "execution_count": 28,
      "metadata": {
        "id": "wqqbaH3X-L6-",
        "outputId": "d1a0b655-243b-4e39-c64e-6a3919e04fae",
        "colab": {
          "base_uri": "https://localhost:8080/"
        }
      },
      "outputs": [
        {
          "output_type": "execute_result",
          "data": {
            "text/plain": [
              "[('K', 0.22480392156862752),\n",
              " ('M', 0.17298850574712643),\n",
              " ('Q', 0.1706153846153846),\n",
              " ('R', 0.23200000000000004),\n",
              " ('X', 0.21264367816091953)]"
            ]
          },
          "metadata": {},
          "execution_count": 28
        }
      ],
      "source": [
        "def avg_diff_btwn_grad_rate_and_college_career_rate_by_boro():\n",
        "    statement = \"\"\"SELECT boro, AVG(graduation_rate - college_career_rate) FROM high_schools GROUP BY boro\"\"\"\n",
        "    cursor.execute(statement)\n",
        "    return cursor.fetchall()\n",
        "\n",
        "avg_diff_btwn_grad_rate_and_college_career_rate_by_boro()\n",
        "\n",
        "# [('K', 0.22480392156862752),\n",
        "#             ('M', 0.17298850574712643),\n",
        "#             ('Q', 0.1706153846153846),\n",
        "#             ('R', 0.23200000000000004),\n",
        "#             ('X', 0.21264367816091953)]"
      ]
    },
    {
      "cell_type": "markdown",
      "metadata": {
        "id": "4vIyXlOa-L6_"
      },
      "source": [
        "* What's the avg college career rate grouped by math_avg scores (Hint: https://stackoverflow.com/questions/30929526/sqlite-group-by-range-of-1000s)"
      ]
    },
    {
      "cell_type": "code",
      "execution_count": 36,
      "metadata": {
        "id": "gZsz0EOG-L6_",
        "outputId": "21fe2c0a-8d68-4e40-92d8-c9c7e7e0f3b5",
        "colab": {
          "base_uri": "https://localhost:8080/"
        }
      },
      "outputs": [
        {
          "output_type": "execute_result",
          "data": {
            "text/plain": [
              "[(None, 0.6124999999999999),\n",
              " (312.0, 0.41),\n",
              " (315.0, 0.43),\n",
              " (320.0, 0.76),\n",
              " (322.0, 0.49),\n",
              " (323.0, 0.27999999999999997),\n",
              " (324.0, 0.42),\n",
              " (333.0, 0.47),\n",
              " (335.0, 0.5),\n",
              " (339.0, 0.74),\n",
              " (342.0, 0.3),\n",
              " (346.0, 0.37),\n",
              " (349.0, 0.43833333333333324),\n",
              " (350.0, 0.72),\n",
              " (351.0, 0.5),\n",
              " (353.0, 0.5800000000000001),\n",
              " (355.0, 0.53),\n",
              " (356.0, 0.32),\n",
              " (357.0, 0.46),\n",
              " (358.0, 0.4766666666666666),\n",
              " (359.0, 0.53),\n",
              " (360.0, 0.35),\n",
              " (361.0, 0.23),\n",
              " (362.0, 0.46),\n",
              " (363.0, 0.45),\n",
              " (364.0, 0.5319999999999999),\n",
              " (365.0, 0.48),\n",
              " (366.0, 0.44),\n",
              " (367.0, 0.5675),\n",
              " (368.0, 0.465),\n",
              " (369.0, 0.33),\n",
              " (370.0, 0.48),\n",
              " (371.0, 0.372),\n",
              " (372.0, 0.44),\n",
              " (373.0, 0.69),\n",
              " (374.0, 0.42),\n",
              " (375.0, 0.5275),\n",
              " (376.0, 0.39),\n",
              " (377.0, 0.48),\n",
              " (378.0, 0.5357142857142857),\n",
              " (379.0, 0.45599999999999996),\n",
              " (380.0, 0.52),\n",
              " (381.0, 0.5187499999999999),\n",
              " (382.0, 0.57),\n",
              " (384.0, 0.4779999999999999),\n",
              " (385.0, 0.405),\n",
              " (386.0, 0.42400000000000004),\n",
              " (387.0, 0.64),\n",
              " (388.0, 0.61),\n",
              " (390.0, 0.54),\n",
              " (391.0, 0.5383333333333333),\n",
              " (392.0, 0.58),\n",
              " (393.0, 0.6100000000000001),\n",
              " (394.0, 0.5475),\n",
              " (395.0, 0.48),\n",
              " (396.0, 0.3),\n",
              " (397.0, 0.45999999999999996),\n",
              " (398.0, 0.5433333333333333),\n",
              " (399.0, 0.48666666666666664),\n",
              " (400.0, 0.42333333333333334),\n",
              " (401.0, 0.475),\n",
              " (402.0, 0.5900000000000001),\n",
              " (403.0, 0.68),\n",
              " (404.0, 0.5499999999999999),\n",
              " (406.0, 0.585),\n",
              " (408.0, 0.78),\n",
              " (409.0, 0.5375),\n",
              " (410.0, 0.74),\n",
              " (411.0, 0.56),\n",
              " (412.0, 0.66),\n",
              " (413.0, 0.5866666666666666),\n",
              " (414.0, 0.22),\n",
              " (415.0, 0.56),\n",
              " (416.0, 0.5533333333333333),\n",
              " (417.0, 0.6966666666666667),\n",
              " (418.0, 0.59),\n",
              " (419.0, 0.78),\n",
              " (420.0, 0.5266666666666666),\n",
              " (421.0, 0.71),\n",
              " (422.0, 0.345),\n",
              " (423.0, 0.6866666666666666),\n",
              " (424.0, 0.47),\n",
              " (425.0, 0.46),\n",
              " (426.0, 0.522),\n",
              " (427.0, 0.6000000000000001),\n",
              " (429.0, 0.76),\n",
              " (432.0, 0.75),\n",
              " (433.0, 0.4033333333333333),\n",
              " (434.0, 0.69),\n",
              " (435.0, 0.6499999999999999),\n",
              " (436.0, 0.35),\n",
              " (437.0, 0.505),\n",
              " (438.0, 0.6033333333333334),\n",
              " (440.0, 0.5633333333333334),\n",
              " (441.0, 0.64),\n",
              " (443.0, 0.88),\n",
              " (445.0, 0.735),\n",
              " (446.0, 0.925),\n",
              " (447.0, 0.72),\n",
              " (449.0, 0.59),\n",
              " (451.0, 0.7350000000000001),\n",
              " (452.0, 0.73),\n",
              " (454.0, 0.77),\n",
              " (455.0, 0.71),\n",
              " (456.0, 0.74),\n",
              " (458.0, 0.67),\n",
              " (460.0, 0.56),\n",
              " (462.0, 0.83),\n",
              " (463.0, 0.87),\n",
              " (464.0, 0.76),\n",
              " (465.0, 0.74),\n",
              " (468.0, 0.57),\n",
              " (471.0, 0.7),\n",
              " (472.0, 0.775),\n",
              " (473.0, 0.91),\n",
              " (474.0, 0.6766666666666666),\n",
              " (475.0, 0.595),\n",
              " (478.0, 0.715),\n",
              " (480.0, 0.75),\n",
              " (481.0, 0.8),\n",
              " (483.0, 0.91),\n",
              " (486.0, 0.565),\n",
              " (488.0, 0.59),\n",
              " (489.0, 0.835),\n",
              " (490.0, 0.74),\n",
              " (491.0, 0.82),\n",
              " (492.0, 0.81),\n",
              " (493.0, 0.67),\n",
              " (496.0, 0.7566666666666667),\n",
              " (497.0, 0.73),\n",
              " (498.0, 0.97),\n",
              " (499.0, 0.77),\n",
              " (506.0, 0.88),\n",
              " (514.0, 0.8),\n",
              " (519.0, 0.81),\n",
              " (523.0, 0.88),\n",
              " (533.0, 0.79),\n",
              " (537.0, 0.98),\n",
              " (539.0, 0.75),\n",
              " (545.0, 0.77),\n",
              " (553.0, 0.91),\n",
              " (561.0, 0.75),\n",
              " (563.0, 0.94),\n",
              " (564.0, 0.82),\n",
              " (568.0, 0.945),\n",
              " (574.0, 0.85),\n",
              " (575.0, 0.87),\n",
              " (581.0, 0.86),\n",
              " (584.0, 0.85),\n",
              " (590.0, 0.87),\n",
              " (594.0, 0.9),\n",
              " (604.0, 0.98),\n",
              " (648.0, 1.0),\n",
              " (651.0, 1.0),\n",
              " (654.0, 0.99),\n",
              " (659.0, 0.95),\n",
              " (660.0, 0.91),\n",
              " (682.0, 0.88),\n",
              " (688.0, 0.98),\n",
              " (735.0, 0.98)]"
            ]
          },
          "metadata": {},
          "execution_count": 36
        }
      ],
      "source": [
        "def avg_college_career_rate_by_math_avg():\n",
        "    statement = \"\"\"SELECT math_avg as range, AVG(college_career_rate) FROM high_schools GROUP BY range\"\"\"\n",
        "    cursor.execute(statement)\n",
        "    return cursor.fetchall()\n",
        "avg_college_career_rate_by_math_avg()"
      ]
    },
    {
      "cell_type": "markdown",
      "metadata": {
        "id": "aqa5MKNx-L6_"
      },
      "source": [
        "### HAVING\n",
        "One important thing to note is that once we use the GROUP BY clause, we can no longer use the WHERE clause for aggregate functions. For example, let's say we wanted to know the average number of students in each boro, but we only wanted the results for boros with an average of more than 1000. Here we would use the HAVING clause. See the example below and then use the HAVING clause to find the solution for the the next question."
      ]
    },
    {
      "cell_type": "code",
      "execution_count": 37,
      "metadata": {
        "id": "GxXbbnYI-L6_",
        "outputId": "bda87d8b-a8d3-4563-edee-3bbc9f5b0029",
        "colab": {
          "base_uri": "https://localhost:8080/"
        }
      },
      "outputs": [
        {
          "output_type": "execute_result",
          "data": {
            "text/plain": [
              "[('Q', 1135.4615384615386), ('R', 1863.2)]"
            ]
          },
          "metadata": {},
          "execution_count": 37
        }
      ],
      "source": [
        "cursor.execute('''SELECT boro, AVG(total_students)\n",
        "FROM high_schools\n",
        "GROUP BY boro HAVING AVG(total_students) > 1000''')\n",
        "cursor.fetchall()"
      ]
    },
    {
      "cell_type": "code",
      "execution_count": 39,
      "metadata": {
        "id": "QetEVYjF-L6_",
        "outputId": "d79f8ef3-f319-4713-c650-0b86f8883ae3",
        "colab": {
          "base_uri": "https://localhost:8080/"
        }
      },
      "outputs": [
        {
          "output_type": "execute_result",
          "data": {
            "text/plain": [
              "[('Q', 1135.4615384615386), ('R', 1863.2)]"
            ]
          },
          "metadata": {},
          "execution_count": 39
        }
      ],
      "source": [
        "def boroughs_with_avg_total_students_over_one_thousand():\n",
        "    cursor.execute('''SELECT boro, AVG(total_students)\n",
        "FROM high_schools\n",
        "GROUP BY boro HAVING AVG(total_students) > 1000''')\n",
        "    return cursor.fetchall()\n",
        "\n",
        "boroughs_with_avg_total_students_over_one_thousand()\n",
        "# [('Q', 1135.4615384615386), ('R', 1863.2)]"
      ]
    },
    {
      "cell_type": "markdown",
      "metadata": {
        "id": "259eZFc9-L7A"
      },
      "source": [
        "What is the average college career rate for each boro, selecting only boros with an average college career rate less than .6?"
      ]
    },
    {
      "cell_type": "code",
      "execution_count": 41,
      "metadata": {
        "id": "GWN1KHx0-L7A",
        "outputId": "2771a085-faba-44cc-a113-c3cdac3b24e7",
        "colab": {
          "base_uri": "https://localhost:8080/"
        }
      },
      "outputs": [
        {
          "output_type": "execute_result",
          "data": {
            "text/plain": [
              "[('K', 0.5471568627450981), ('X', 0.5295402298850576)]"
            ]
          },
          "metadata": {},
          "execution_count": 41
        }
      ],
      "source": [
        "def boroughs_with_avg_college_career_under_point_six():\n",
        "    cursor.execute('''SELECT boro, AVG(college_career_rate) FROM high_schools GROUP BY boro HAVING AVG(college_career_rate) < 0.6''')\n",
        "    return cursor.fetchall()\n",
        "boroughs_with_avg_college_career_under_point_six()\n",
        "# [('K', 0.5471568627450981), ('X', 0.5295402298850576)]"
      ]
    },
    {
      "cell_type": "markdown",
      "metadata": {
        "id": "MjgFlRjc-L7B"
      },
      "source": [
        "### Conclusion\n",
        "In this lab, we performed aggregate functions on our data. This allows us to perform mathematical operations on a set of values in our database. We also used the GROUP BY clause, which gave us the ability to perform the aggregate functions on different subsets of the data at once. Finally, we used the HAVING clause to filter our results in GROUP BY queries."
      ]
    }
  ],
  "metadata": {
    "kernelspec": {
      "display_name": "Python 3 (ipykernel)",
      "language": "python",
      "name": "python3"
    },
    "language_info": {
      "codemirror_mode": {
        "name": "ipython",
        "version": 3
      },
      "file_extension": ".py",
      "mimetype": "text/x-python",
      "name": "python",
      "nbconvert_exporter": "python",
      "pygments_lexer": "ipython3",
      "version": "3.9.10"
    },
    "colab": {
      "provenance": []
    }
  },
  "nbformat": 4,
  "nbformat_minor": 0
}