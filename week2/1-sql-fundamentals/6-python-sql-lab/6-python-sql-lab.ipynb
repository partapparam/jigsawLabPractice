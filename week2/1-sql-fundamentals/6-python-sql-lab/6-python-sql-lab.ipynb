{
  "cells": [
    {
      "cell_type": "markdown",
      "metadata": {
        "id": "sQFGe7hrWBaZ"
      },
      "source": [
        "# Python SQL Lab"
      ]
    },
    {
      "cell_type": "markdown",
      "metadata": {
        "jp-MarkdownHeadingCollapsed": true,
        "tags": [],
        "id": "nM9JOYPIWBan"
      },
      "source": [
        "### Introduction\n",
        "In this lab we will practice using the *Python library* called `sqlite3` to execute our SQL calls. This library makes it easy for us to connect to and analyze data in a SQL database within a Python environment. We'll start out by setting up the database in the terminal as we have previously, then we will use the `sqlite3` library set up a connection with the library, create a cursor to call different sql commands, and then execute some sql statements using the cursor."
      ]
    },
    {
      "cell_type": "markdown",
      "metadata": {
        "id": "dpBXoTSEWBao"
      },
      "source": [
        "### Setup"
      ]
    },
    {
      "cell_type": "markdown",
      "metadata": {
        "id": "LulTkLLoWBap"
      },
      "source": [
        "We can do so by pressing shift + return on the following cells.  \n",
        "> Let's not try to understand the setup below right now."
      ]
    },
    {
      "cell_type": "code",
      "execution_count": 1,
      "metadata": {
        "id": "cMf86aZYWBap"
      },
      "outputs": [],
      "source": [
        "import pandas as pd\n",
        "employees_url = \"https://raw.githubusercontent.com/eng-6-22/mod-1-sql-curriculum/master/1-sql-fundamentals/6-python-sql-lab/employees.csv\"\n",
        "employees_df = pd.read_csv(employees_url)\n",
        "ingredients_url = \"https://raw.githubusercontent.com/eng-6-22/mod-1-sql-curriculum/master/1-sql-fundamentals/6-python-sql-lab/ingredients.csv\"\n",
        "ingredients_df = pd.read_csv(ingredients_url)"
      ]
    },
    {
      "cell_type": "code",
      "execution_count": 15,
      "metadata": {
        "id": "qa8mtzfFWBas"
      },
      "outputs": [],
      "source": [
        "import sqlite3\n",
        "conn = sqlite3.connect('./saladshop.db')"
      ]
    },
    {
      "cell_type": "code",
      "execution_count": 3,
      "metadata": {
        "id": "PluijVUlWBat",
        "outputId": "cfb50732-d69f-4171-ed7f-c013fef7a148",
        "colab": {
          "base_uri": "https://localhost:8080/"
        }
      },
      "outputs": [
        {
          "output_type": "execute_result",
          "data": {
            "text/plain": [
              "5"
            ]
          },
          "metadata": {},
          "execution_count": 3
        }
      ],
      "source": [
        "employees_df.to_sql('employees', conn, index = False)"
      ]
    },
    {
      "cell_type": "code",
      "execution_count": 4,
      "metadata": {
        "id": "YaAvSo-iWBat",
        "outputId": "742dccfb-0b23-401b-878b-63480b70a278",
        "colab": {
          "base_uri": "https://localhost:8080/"
        }
      },
      "outputs": [
        {
          "output_type": "execute_result",
          "data": {
            "text/plain": [
              "5"
            ]
          },
          "metadata": {},
          "execution_count": 4
        }
      ],
      "source": [
        "ingredients_df.to_sql('ingredients', conn, index = False)"
      ]
    },
    {
      "cell_type": "markdown",
      "metadata": {
        "id": "fxxvJwkEWBau"
      },
      "source": [
        "### Getting our library ready"
      ]
    },
    {
      "cell_type": "markdown",
      "metadata": {
        "id": "EwTahDGlWBav"
      },
      "source": [
        "Ok, now that we have created the tables and loaded the data, it's time to practice using our `sqlite` library."
      ]
    },
    {
      "cell_type": "markdown",
      "metadata": {
        "id": "AV-DpcFDWBav"
      },
      "source": [
        "* First import the necessary `pip` library"
      ]
    },
    {
      "cell_type": "code",
      "execution_count": 6,
      "metadata": {
        "id": "1qEFE_HBWBc2"
      },
      "outputs": [],
      "source": [
        "import sqlite3"
      ]
    },
    {
      "cell_type": "code",
      "source": [
        ""
      ],
      "metadata": {
        "id": "LX5JzaBdZple"
      },
      "execution_count": null,
      "outputs": []
    },
    {
      "cell_type": "markdown",
      "metadata": {
        "id": "g9yFWe7PWBc2"
      },
      "source": [
        "* Then use the sqlite3 library to connect to the created database"
      ]
    },
    {
      "cell_type": "code",
      "execution_count": 17,
      "metadata": {
        "id": "0gfY4TWpWBc2"
      },
      "outputs": [],
      "source": [
        "conn = sqlite3.connect('./saladshop.db')"
      ]
    },
    {
      "cell_type": "markdown",
      "metadata": {
        "id": "J_XhA-d3WBc2"
      },
      "source": [
        "Finally, create a cursor so that we are ready to call different sql commands on our database."
      ]
    },
    {
      "cell_type": "code",
      "execution_count": 18,
      "metadata": {
        "id": "sD1UOUCXWBc3"
      },
      "outputs": [],
      "source": [
        "cursor = conn.cursor()"
      ]
    },
    {
      "cell_type": "markdown",
      "metadata": {
        "id": "-O1shwHrWBc3"
      },
      "source": [
        "### Executing sql"
      ]
    },
    {
      "cell_type": "markdown",
      "metadata": {
        "id": "98aukdIJWBc3"
      },
      "source": [
        "Use the sqlite3 python library to select all of the employees in the database."
      ]
    },
    {
      "cell_type": "code",
      "execution_count": 10,
      "metadata": {
        "id": "XsZlozcvWBc7"
      },
      "outputs": [],
      "source": [
        "statement = 'SELECT * FROM employees;'"
      ]
    },
    {
      "cell_type": "markdown",
      "metadata": {
        "id": "XCxz7_20WBc7"
      },
      "source": [
        "Run the command in the cell below. It should return the employees table.\n",
        "\n",
        "> Hint: This requires two commands, one using `cursor.execute()` followed by `cursor.fetchall()`"
      ]
    },
    {
      "cell_type": "code",
      "execution_count": 19,
      "metadata": {
        "id": "kjFW396lWBc9",
        "outputId": "559a6d29-4895-4f55-d823-523283637e63",
        "colab": {
          "base_uri": "https://localhost:8080/"
        }
      },
      "outputs": [
        {
          "output_type": "execute_result",
          "data": {
            "text/plain": [
              "[(1, 'Tom', 'manager', '2019-05-20', 10001, '212-438-3984'),\n",
              " (2, 'Alison', 'salad maker', '2020-01-04', 10023, '212-329-2489'),\n",
              " (3, 'Jerry', 'delivery driver', '2019-12-15', 10001, '212-219-1029'),\n",
              " (4, 'Brian', 'salad maker', '2019-12-04', 10002, '646-328-2309'),\n",
              " (5, 'Vanessa', 'clerk', '2019-11-14', 11201, '718-348-2348')]"
            ]
          },
          "metadata": {},
          "execution_count": 19
        }
      ],
      "source": [
        "cursor.execute(statement)\n",
        "cursor.fetchall()"
      ]
    },
    {
      "cell_type": "markdown",
      "metadata": {
        "id": "y8D2yUdFWBc-"
      },
      "source": [
        "Use the `sqlite3` python library to select all of the ingredients in the database."
      ]
    },
    {
      "cell_type": "code",
      "execution_count": 20,
      "metadata": {
        "id": "xewOaxKvWBdC"
      },
      "outputs": [],
      "source": [
        "statement = 'SELECT * FROM ingredients'"
      ]
    },
    {
      "cell_type": "markdown",
      "metadata": {
        "id": "dxlwh-dFWBdC"
      },
      "source": [
        "Run the command in the cell below. It should return the data in the ingredients table."
      ]
    },
    {
      "cell_type": "code",
      "execution_count": 21,
      "metadata": {
        "id": "dcpj4DsLWBdC",
        "outputId": "d7c1c39b-cb91-41e3-e19d-c64c08c203fb",
        "colab": {
          "base_uri": "https://localhost:8080/"
        }
      },
      "outputs": [
        {
          "output_type": "execute_result",
          "data": {
            "text/plain": [
              "[(1, 'baby spinach', 0.19, 7, '2020-02-05'),\n",
              " (2, 'kale', 0.5, 10, '2020-02-10'),\n",
              " (3, 'tomatoes', 1.25, 5, '2020-01-30'),\n",
              " (4, 'broccoli', 1.15, 45, '2020-02-10'),\n",
              " (5, 'chicken', 3.5, 60, '2020-02-07')]"
            ]
          },
          "metadata": {},
          "execution_count": 21
        }
      ],
      "source": [
        "cursor.execute(statement)\n",
        "cursor.fetchall()"
      ]
    },
    {
      "cell_type": "markdown",
      "metadata": {
        "id": "49CpvkuyWBdD"
      },
      "source": [
        "### Conclusion"
      ]
    },
    {
      "cell_type": "markdown",
      "metadata": {
        "id": "84ZUzCFDWBdD"
      },
      "source": [
        "In this lab we focused on how we can use the python library `sqlite3` to connect with a sql database and execute sql commands. First, we created a connection with the salad shop database. We then used this connection to create a cursor object which can be used to execute sql statements. We finished off the lab by using our cursor to select all the data from the two tables in our database."
      ]
    }
  ],
  "metadata": {
    "kernelspec": {
      "display_name": "Python 3 (ipykernel)",
      "language": "python",
      "name": "python3"
    },
    "language_info": {
      "codemirror_mode": {
        "name": "ipython",
        "version": 3
      },
      "file_extension": ".py",
      "mimetype": "text/x-python",
      "name": "python",
      "nbconvert_exporter": "python",
      "pygments_lexer": "ipython3",
      "version": "3.10.6"
    },
    "colab": {
      "provenance": []
    }
  },
  "nbformat": 4,
  "nbformat_minor": 0
}