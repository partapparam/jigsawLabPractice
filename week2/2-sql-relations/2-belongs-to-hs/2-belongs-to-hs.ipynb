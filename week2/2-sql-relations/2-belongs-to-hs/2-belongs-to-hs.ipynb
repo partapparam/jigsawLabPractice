{
  "cells": [
    {
      "cell_type": "markdown",
      "metadata": {
        "id": "lKxyYRO7WvM7"
      },
      "source": [
        "# Belongs To High School Data"
      ]
    },
    {
      "cell_type": "markdown",
      "metadata": {
        "id": "zC8oBppNWvNI"
      },
      "source": [
        "### Introduction\n",
        "The database we are looking at in this lab has two tables, `sat_records` and `high_schools`. Each row of the `sat_records` table represents a school also found in the `high_schools` table. The records in the `sat_records` table \"belong to\" the schools in the `high_schools` table. Both tables have a key in the column \"dbn\" that is a unique identifier for each school, and will be our way of connecting the data between the two tables. We do this by using a JOIN clause."
      ]
    },
    {
      "cell_type": "markdown",
      "metadata": {
        "id": "JKEaxzuXWvNK"
      },
      "source": [
        "Let's begin by connecting to the database and reviewing the structure of the tables:"
      ]
    },
    {
      "cell_type": "code",
      "execution_count": 1,
      "metadata": {
        "id": "yDOyFm3tWvNL"
      },
      "outputs": [],
      "source": [
        "import sqlite3\n",
        "conn = sqlite3.connect('schools.db')\n",
        "cursor = conn.cursor()"
      ]
    },
    {
      "cell_type": "code",
      "execution_count": 2,
      "metadata": {
        "id": "WmHPfGgIWvNN",
        "outputId": "30905eee-5907-4686-bd80-9d1d74372ce8",
        "colab": {
          "base_uri": "https://localhost:8080/"
        }
      },
      "outputs": [
        {
          "output_type": "execute_result",
          "data": {
            "text/plain": [
              "478"
            ]
          },
          "metadata": {},
          "execution_count": 2
        }
      ],
      "source": [
        "import pandas as pd\n",
        "highschools_url = \"https://raw.githubusercontent.com/sql-fundamentals-jigsaw/mod-1-sql-curriculum/master/2-sql-relations/2-belongs-to-hs/data/highschools.csv\"\n",
        "sat_records_url = \"https://raw.githubusercontent.com/sql-fundamentals-jigsaw/mod-1-sql-curriculum/master/2-sql-relations/2-belongs-to-hs/data/sat_records.csv\"\n",
        "df_hs = pd.read_csv(highschools_url)\n",
        "df_sat = pd.read_csv(sat_records_url)\n",
        "df_hs.to_sql('high_schools' ,conn, index = False, if_exists = 'replace')\n",
        "df_sat.to_sql('sat_records' ,conn, index = False, if_exists = 'replace')"
      ]
    },
    {
      "cell_type": "code",
      "execution_count": 3,
      "metadata": {
        "id": "1wEzM9UkWvNO",
        "outputId": "b2c3a4e4-d407-4d0b-ec72-9cd6b08e70d5",
        "colab": {
          "base_uri": "https://localhost:8080/",
          "height": 81
        }
      },
      "outputs": [
        {
          "output_type": "execute_result",
          "data": {
            "text/plain": [
              "   id     dbn                                  school_name boro  \\\n",
              "0   0  16K498  Brooklyn High School for Law and Technology    K   \n",
              "\n",
              "   total_students  graduation_rate  attendance_rate  college_career_rate  \n",
              "0             594             0.74             0.85                 0.49  "
            ],
            "text/html": [
              "\n",
              "  <div id=\"df-61b98931-e242-4387-b7e9-384a18f8bce4\" class=\"colab-df-container\">\n",
              "    <div>\n",
              "<style scoped>\n",
              "    .dataframe tbody tr th:only-of-type {\n",
              "        vertical-align: middle;\n",
              "    }\n",
              "\n",
              "    .dataframe tbody tr th {\n",
              "        vertical-align: top;\n",
              "    }\n",
              "\n",
              "    .dataframe thead th {\n",
              "        text-align: right;\n",
              "    }\n",
              "</style>\n",
              "<table border=\"1\" class=\"dataframe\">\n",
              "  <thead>\n",
              "    <tr style=\"text-align: right;\">\n",
              "      <th></th>\n",
              "      <th>id</th>\n",
              "      <th>dbn</th>\n",
              "      <th>school_name</th>\n",
              "      <th>boro</th>\n",
              "      <th>total_students</th>\n",
              "      <th>graduation_rate</th>\n",
              "      <th>attendance_rate</th>\n",
              "      <th>college_career_rate</th>\n",
              "    </tr>\n",
              "  </thead>\n",
              "  <tbody>\n",
              "    <tr>\n",
              "      <th>0</th>\n",
              "      <td>0</td>\n",
              "      <td>16K498</td>\n",
              "      <td>Brooklyn High School for Law and Technology</td>\n",
              "      <td>K</td>\n",
              "      <td>594</td>\n",
              "      <td>0.74</td>\n",
              "      <td>0.85</td>\n",
              "      <td>0.49</td>\n",
              "    </tr>\n",
              "  </tbody>\n",
              "</table>\n",
              "</div>\n",
              "    <div class=\"colab-df-buttons\">\n",
              "\n",
              "  <div class=\"colab-df-container\">\n",
              "    <button class=\"colab-df-convert\" onclick=\"convertToInteractive('df-61b98931-e242-4387-b7e9-384a18f8bce4')\"\n",
              "            title=\"Convert this dataframe to an interactive table.\"\n",
              "            style=\"display:none;\">\n",
              "\n",
              "  <svg xmlns=\"http://www.w3.org/2000/svg\" height=\"24px\" viewBox=\"0 -960 960 960\">\n",
              "    <path d=\"M120-120v-720h720v720H120Zm60-500h600v-160H180v160Zm220 220h160v-160H400v160Zm0 220h160v-160H400v160ZM180-400h160v-160H180v160Zm440 0h160v-160H620v160ZM180-180h160v-160H180v160Zm440 0h160v-160H620v160Z\"/>\n",
              "  </svg>\n",
              "    </button>\n",
              "\n",
              "  <style>\n",
              "    .colab-df-container {\n",
              "      display:flex;\n",
              "      gap: 12px;\n",
              "    }\n",
              "\n",
              "    .colab-df-convert {\n",
              "      background-color: #E8F0FE;\n",
              "      border: none;\n",
              "      border-radius: 50%;\n",
              "      cursor: pointer;\n",
              "      display: none;\n",
              "      fill: #1967D2;\n",
              "      height: 32px;\n",
              "      padding: 0 0 0 0;\n",
              "      width: 32px;\n",
              "    }\n",
              "\n",
              "    .colab-df-convert:hover {\n",
              "      background-color: #E2EBFA;\n",
              "      box-shadow: 0px 1px 2px rgba(60, 64, 67, 0.3), 0px 1px 3px 1px rgba(60, 64, 67, 0.15);\n",
              "      fill: #174EA6;\n",
              "    }\n",
              "\n",
              "    .colab-df-buttons div {\n",
              "      margin-bottom: 4px;\n",
              "    }\n",
              "\n",
              "    [theme=dark] .colab-df-convert {\n",
              "      background-color: #3B4455;\n",
              "      fill: #D2E3FC;\n",
              "    }\n",
              "\n",
              "    [theme=dark] .colab-df-convert:hover {\n",
              "      background-color: #434B5C;\n",
              "      box-shadow: 0px 1px 3px 1px rgba(0, 0, 0, 0.15);\n",
              "      filter: drop-shadow(0px 1px 2px rgba(0, 0, 0, 0.3));\n",
              "      fill: #FFFFFF;\n",
              "    }\n",
              "  </style>\n",
              "\n",
              "    <script>\n",
              "      const buttonEl =\n",
              "        document.querySelector('#df-61b98931-e242-4387-b7e9-384a18f8bce4 button.colab-df-convert');\n",
              "      buttonEl.style.display =\n",
              "        google.colab.kernel.accessAllowed ? 'block' : 'none';\n",
              "\n",
              "      async function convertToInteractive(key) {\n",
              "        const element = document.querySelector('#df-61b98931-e242-4387-b7e9-384a18f8bce4');\n",
              "        const dataTable =\n",
              "          await google.colab.kernel.invokeFunction('convertToInteractive',\n",
              "                                                    [key], {});\n",
              "        if (!dataTable) return;\n",
              "\n",
              "        const docLinkHtml = 'Like what you see? Visit the ' +\n",
              "          '<a target=\"_blank\" href=https://colab.research.google.com/notebooks/data_table.ipynb>data table notebook</a>'\n",
              "          + ' to learn more about interactive tables.';\n",
              "        element.innerHTML = '';\n",
              "        dataTable['output_type'] = 'display_data';\n",
              "        await google.colab.output.renderOutput(dataTable, element);\n",
              "        const docLink = document.createElement('div');\n",
              "        docLink.innerHTML = docLinkHtml;\n",
              "        element.appendChild(docLink);\n",
              "      }\n",
              "    </script>\n",
              "  </div>\n",
              "\n",
              "    </div>\n",
              "  </div>\n"
            ]
          },
          "metadata": {},
          "execution_count": 3
        }
      ],
      "source": [
        "pd.read_sql('select * from high_schools limit 1;',conn)"
      ]
    },
    {
      "cell_type": "code",
      "execution_count": 4,
      "metadata": {
        "id": "BmGmv5bZWvNP",
        "outputId": "f802a533-f52a-493c-a41b-623d66127a5e",
        "colab": {
          "base_uri": "https://localhost:8080/",
          "height": 81
        }
      },
      "outputs": [
        {
          "output_type": "execute_result",
          "data": {
            "text/plain": [
              "   id     dbn                                           name  num_test_takers  \\\n",
              "0   0  01M292  HENRY STREET SCHOOL FOR INTERNATIONAL STUDIES             29.0   \n",
              "\n",
              "   reading_avg  math_avg  writing_score  \n",
              "0        355.0     404.0          363.0  "
            ],
            "text/html": [
              "\n",
              "  <div id=\"df-560eeb76-b5fe-465a-a73a-af7fd5af2642\" class=\"colab-df-container\">\n",
              "    <div>\n",
              "<style scoped>\n",
              "    .dataframe tbody tr th:only-of-type {\n",
              "        vertical-align: middle;\n",
              "    }\n",
              "\n",
              "    .dataframe tbody tr th {\n",
              "        vertical-align: top;\n",
              "    }\n",
              "\n",
              "    .dataframe thead th {\n",
              "        text-align: right;\n",
              "    }\n",
              "</style>\n",
              "<table border=\"1\" class=\"dataframe\">\n",
              "  <thead>\n",
              "    <tr style=\"text-align: right;\">\n",
              "      <th></th>\n",
              "      <th>id</th>\n",
              "      <th>dbn</th>\n",
              "      <th>name</th>\n",
              "      <th>num_test_takers</th>\n",
              "      <th>reading_avg</th>\n",
              "      <th>math_avg</th>\n",
              "      <th>writing_score</th>\n",
              "    </tr>\n",
              "  </thead>\n",
              "  <tbody>\n",
              "    <tr>\n",
              "      <th>0</th>\n",
              "      <td>0</td>\n",
              "      <td>01M292</td>\n",
              "      <td>HENRY STREET SCHOOL FOR INTERNATIONAL STUDIES</td>\n",
              "      <td>29.0</td>\n",
              "      <td>355.0</td>\n",
              "      <td>404.0</td>\n",
              "      <td>363.0</td>\n",
              "    </tr>\n",
              "  </tbody>\n",
              "</table>\n",
              "</div>\n",
              "    <div class=\"colab-df-buttons\">\n",
              "\n",
              "  <div class=\"colab-df-container\">\n",
              "    <button class=\"colab-df-convert\" onclick=\"convertToInteractive('df-560eeb76-b5fe-465a-a73a-af7fd5af2642')\"\n",
              "            title=\"Convert this dataframe to an interactive table.\"\n",
              "            style=\"display:none;\">\n",
              "\n",
              "  <svg xmlns=\"http://www.w3.org/2000/svg\" height=\"24px\" viewBox=\"0 -960 960 960\">\n",
              "    <path d=\"M120-120v-720h720v720H120Zm60-500h600v-160H180v160Zm220 220h160v-160H400v160Zm0 220h160v-160H400v160ZM180-400h160v-160H180v160Zm440 0h160v-160H620v160ZM180-180h160v-160H180v160Zm440 0h160v-160H620v160Z\"/>\n",
              "  </svg>\n",
              "    </button>\n",
              "\n",
              "  <style>\n",
              "    .colab-df-container {\n",
              "      display:flex;\n",
              "      gap: 12px;\n",
              "    }\n",
              "\n",
              "    .colab-df-convert {\n",
              "      background-color: #E8F0FE;\n",
              "      border: none;\n",
              "      border-radius: 50%;\n",
              "      cursor: pointer;\n",
              "      display: none;\n",
              "      fill: #1967D2;\n",
              "      height: 32px;\n",
              "      padding: 0 0 0 0;\n",
              "      width: 32px;\n",
              "    }\n",
              "\n",
              "    .colab-df-convert:hover {\n",
              "      background-color: #E2EBFA;\n",
              "      box-shadow: 0px 1px 2px rgba(60, 64, 67, 0.3), 0px 1px 3px 1px rgba(60, 64, 67, 0.15);\n",
              "      fill: #174EA6;\n",
              "    }\n",
              "\n",
              "    .colab-df-buttons div {\n",
              "      margin-bottom: 4px;\n",
              "    }\n",
              "\n",
              "    [theme=dark] .colab-df-convert {\n",
              "      background-color: #3B4455;\n",
              "      fill: #D2E3FC;\n",
              "    }\n",
              "\n",
              "    [theme=dark] .colab-df-convert:hover {\n",
              "      background-color: #434B5C;\n",
              "      box-shadow: 0px 1px 3px 1px rgba(0, 0, 0, 0.15);\n",
              "      filter: drop-shadow(0px 1px 2px rgba(0, 0, 0, 0.3));\n",
              "      fill: #FFFFFF;\n",
              "    }\n",
              "  </style>\n",
              "\n",
              "    <script>\n",
              "      const buttonEl =\n",
              "        document.querySelector('#df-560eeb76-b5fe-465a-a73a-af7fd5af2642 button.colab-df-convert');\n",
              "      buttonEl.style.display =\n",
              "        google.colab.kernel.accessAllowed ? 'block' : 'none';\n",
              "\n",
              "      async function convertToInteractive(key) {\n",
              "        const element = document.querySelector('#df-560eeb76-b5fe-465a-a73a-af7fd5af2642');\n",
              "        const dataTable =\n",
              "          await google.colab.kernel.invokeFunction('convertToInteractive',\n",
              "                                                    [key], {});\n",
              "        if (!dataTable) return;\n",
              "\n",
              "        const docLinkHtml = 'Like what you see? Visit the ' +\n",
              "          '<a target=\"_blank\" href=https://colab.research.google.com/notebooks/data_table.ipynb>data table notebook</a>'\n",
              "          + ' to learn more about interactive tables.';\n",
              "        element.innerHTML = '';\n",
              "        dataTable['output_type'] = 'display_data';\n",
              "        await google.colab.output.renderOutput(dataTable, element);\n",
              "        const docLink = document.createElement('div');\n",
              "        docLink.innerHTML = docLinkHtml;\n",
              "        element.appendChild(docLink);\n",
              "      }\n",
              "    </script>\n",
              "  </div>\n",
              "\n",
              "    </div>\n",
              "  </div>\n"
            ]
          },
          "metadata": {},
          "execution_count": 4
        }
      ],
      "source": [
        "pd.read_sql('select * from sat_records limit 1;',conn)"
      ]
    },
    {
      "cell_type": "markdown",
      "metadata": {
        "id": "ViDFzbEzWvNQ"
      },
      "source": [
        "### Exploring the Data"
      ]
    },
    {
      "cell_type": "code",
      "execution_count": 5,
      "metadata": {
        "id": "x8f21XS1WvNQ",
        "outputId": "fb2fdd96-da08-49bf-99c5-bc1dea89ecb7",
        "colab": {
          "base_uri": "https://localhost:8080/"
        }
      },
      "outputs": [
        {
          "output_type": "execute_result",
          "data": {
            "text/plain": [
              "[('high_schools',), ('sat_records',)]"
            ]
          },
          "metadata": {},
          "execution_count": 5
        }
      ],
      "source": [
        "cursor.execute('SELECT name from sqlite_master where type= \"table\"')\n",
        "cursor.fetchall()"
      ]
    },
    {
      "cell_type": "code",
      "execution_count": 6,
      "metadata": {
        "id": "kIabLnMUWvNR",
        "outputId": "b3f38bd5-a0fd-4880-da91-6fc0f03d24cc",
        "colab": {
          "base_uri": "https://localhost:8080/"
        }
      },
      "outputs": [
        {
          "output_type": "execute_result",
          "data": {
            "text/plain": [
              "[(0, 'id', 'INTEGER', 0, None, 0),\n",
              " (1, 'dbn', 'TEXT', 0, None, 0),\n",
              " (2, 'school_name', 'TEXT', 0, None, 0),\n",
              " (3, 'boro', 'TEXT', 0, None, 0),\n",
              " (4, 'total_students', 'INTEGER', 0, None, 0),\n",
              " (5, 'graduation_rate', 'REAL', 0, None, 0),\n",
              " (6, 'attendance_rate', 'REAL', 0, None, 0),\n",
              " (7, 'college_career_rate', 'REAL', 0, None, 0)]"
            ]
          },
          "metadata": {},
          "execution_count": 6
        }
      ],
      "source": [
        "cursor.execute('PRAGMA table_info(high_schools)')\n",
        "cursor.fetchall()"
      ]
    },
    {
      "cell_type": "code",
      "execution_count": 7,
      "metadata": {
        "id": "05oEX8EGWvNU",
        "outputId": "90b83e90-4ddd-489c-dfea-6e76ded8fad4",
        "colab": {
          "base_uri": "https://localhost:8080/"
        }
      },
      "outputs": [
        {
          "output_type": "execute_result",
          "data": {
            "text/plain": [
              "[(0, 'id', 'INTEGER', 0, None, 0),\n",
              " (1, 'dbn', 'TEXT', 0, None, 0),\n",
              " (2, 'name', 'TEXT', 0, None, 0),\n",
              " (3, 'num_test_takers', 'REAL', 0, None, 0),\n",
              " (4, 'reading_avg', 'REAL', 0, None, 0),\n",
              " (5, 'math_avg', 'REAL', 0, None, 0),\n",
              " (6, 'writing_score', 'REAL', 0, None, 0)]"
            ]
          },
          "metadata": {},
          "execution_count": 7
        }
      ],
      "source": [
        "cursor.execute('PRAGMA table_info(sat_records)')\n",
        "cursor.fetchall()"
      ]
    },
    {
      "cell_type": "markdown",
      "metadata": {
        "id": "yLOn4Z10WvNU"
      },
      "source": [
        "Each of the following questions require information in both of the tables in the database. Use the JOIN clause to find the solution."
      ]
    },
    {
      "cell_type": "markdown",
      "metadata": {
        "id": "SEkYXJSCWvNV"
      },
      "source": [
        "* In which boro is the school that has the highest writing score?"
      ]
    },
    {
      "cell_type": "code",
      "execution_count": 21,
      "metadata": {
        "id": "PsNLGwD5WvNV",
        "outputId": "33f821b2-0e0f-49dc-dbb0-1e04fcd06355",
        "colab": {
          "base_uri": "https://localhost:8080/"
        }
      },
      "outputs": [
        {
          "output_type": "execute_result",
          "data": {
            "text/plain": [
              "[('M', 682.0)]"
            ]
          },
          "metadata": {},
          "execution_count": 21
        }
      ],
      "source": [
        "cursor.execute('''SELECT h.boro, MAX(s.writing_score)\n",
        "FROM high_schools h\n",
        "JOIN sat_records s ON h.dbn = s.dbn\n",
        "''')\n",
        "cursor.fetchall()\n",
        "\n",
        "\n",
        "# [('M', 682.0)]"
      ]
    },
    {
      "cell_type": "markdown",
      "metadata": {
        "id": "RvacDsjoWvNV"
      },
      "source": [
        "* In which boro is the school with the lowest math average?"
      ]
    },
    {
      "cell_type": "code",
      "execution_count": 22,
      "metadata": {
        "id": "spgC2Ei1WvNV",
        "outputId": "4b3b27b0-b91f-4fdb-a589-14053aff8ef1",
        "colab": {
          "base_uri": "https://localhost:8080/"
        }
      },
      "outputs": [
        {
          "output_type": "execute_result",
          "data": {
            "text/plain": [
              "[('X', 312.0)]"
            ]
          },
          "metadata": {},
          "execution_count": 22
        }
      ],
      "source": [
        "cursor.execute('''SELECT h.boro, MIN(s.math_avg)\n",
        "FROM high_schools h\n",
        "JOIN sat_records s ON h.dbn = s.dbn\n",
        "''')\n",
        "cursor.fetchall()\n",
        "\n",
        "# [('X', 312.0)]"
      ]
    },
    {
      "cell_type": "markdown",
      "metadata": {
        "id": "k9KvSMwZWvNW"
      },
      "source": [
        "* What is the highest math_avg for schools with more than 1000 students?"
      ]
    },
    {
      "cell_type": "code",
      "execution_count": 23,
      "metadata": {
        "id": "cxC__hFeWvNW",
        "outputId": "a742345d-46d5-413c-8559-00c1de574d92",
        "colab": {
          "base_uri": "https://localhost:8080/"
        }
      },
      "outputs": [
        {
          "output_type": "execute_result",
          "data": {
            "text/plain": [
              "[(735.0,)]"
            ]
          },
          "metadata": {},
          "execution_count": 23
        }
      ],
      "source": [
        "cursor.execute('''SELECT MAX(s.math_avg)\n",
        "FROM high_schools h\n",
        "JOIN sat_records s ON h.dbn = s.dbn\n",
        "WHERE h.total_students > 1000\n",
        "''')\n",
        "cursor.fetchall()\n",
        "\n",
        "# [(735.0,)]"
      ]
    },
    {
      "cell_type": "markdown",
      "metadata": {
        "id": "hqm-pxp4WvNW"
      },
      "source": [
        "* What is the average number of test takers in each boro?"
      ]
    },
    {
      "cell_type": "code",
      "execution_count": 31,
      "metadata": {
        "id": "3gUSbY6YWvNW",
        "outputId": "6886e5eb-2aea-4aa1-9bfe-a61bc8070a22",
        "colab": {
          "base_uri": "https://localhost:8080/"
        }
      },
      "outputs": [
        {
          "output_type": "execute_result",
          "data": {
            "text/plain": [
              "[('K', 126.33673469387755),\n",
              " ('M', 110.34177215189874),\n",
              " ('Q', 199.51666666666668),\n",
              " ('R', 300.5),\n",
              " ('X', 80.3875)]"
            ]
          },
          "metadata": {},
          "execution_count": 31
        }
      ],
      "source": [
        "cursor.execute('''SELECT h.boro, AVG(s.num_test_takers)\n",
        "FROM high_schools h\n",
        "JOIN sat_records s ON h.dbn = s.dbn\n",
        "GROUP BY 1\n",
        "''')\n",
        "cursor.fetchall()\n",
        "\n",
        "# [('K', 126.33673469387755),\n",
        "#  ('M', 110.34177215189874),\n",
        "#  ('Q', 199.51666666666668),\n",
        "#  ('R', 300.5),\n",
        "#  ('X', 80.3875)]"
      ]
    },
    {
      "cell_type": "markdown",
      "metadata": {
        "id": "pZpqragVWvNW"
      },
      "source": [
        "* What is the attendance rate of schools with math_avg greater than 500? Order your results by the attendance rate (descending) limit to the first five results"
      ]
    },
    {
      "cell_type": "code",
      "execution_count": 36,
      "metadata": {
        "id": "6pL6gThuWvNX",
        "outputId": "ca248b22-7c71-4532-da59-7b6269eb2067",
        "colab": {
          "base_uri": "https://localhost:8080/"
        }
      },
      "outputs": [
        {
          "output_type": "execute_result",
          "data": {
            "text/plain": [
              "[(0.98,), (0.97,), (0.97,), (0.97,), (0.97,)]"
            ]
          },
          "metadata": {},
          "execution_count": 36
        }
      ],
      "source": [
        "cursor.execute('''SELECT h.attendance_rate\n",
        "FROM high_schools h\n",
        "JOIN sat_records s ON h.dbn = s.dbn\n",
        "WHERE s.math_avg > 500\n",
        "ORDER BY 1 DESC\n",
        "LIMIT 5\n",
        "''')\n",
        "cursor.fetchall()\n",
        "\n",
        "\n",
        "\n",
        "# [(0.98,), (0.97,), (0.97,), (0.97,), (0.97,)]\n"
      ]
    },
    {
      "cell_type": "markdown",
      "metadata": {
        "id": "AMYXHvpzWvNX"
      },
      "source": [
        "* What is the graduation rate of schools with a math_avg less than 500? Order your results by the graduation rate (ascending) limit to ten results"
      ]
    },
    {
      "cell_type": "code",
      "execution_count": 40,
      "metadata": {
        "id": "Pk9jPh0AWvNX",
        "outputId": "dc0ef71f-1ff5-4cff-879d-0a84c1cfac23",
        "colab": {
          "base_uri": "https://localhost:8080/"
        }
      },
      "outputs": [
        {
          "output_type": "execute_result",
          "data": {
            "text/plain": [
              "[(None,),\n",
              " (None,),\n",
              " (None,),\n",
              " (None,),\n",
              " (0.39,),\n",
              " (0.46,),\n",
              " (0.47,),\n",
              " (0.49,),\n",
              " (0.5,),\n",
              " (0.5,)]"
            ]
          },
          "metadata": {},
          "execution_count": 40
        }
      ],
      "source": [
        "cursor.execute('''SELECT hs.graduation_rate\n",
        "FROM high_schools hs\n",
        "JOIN sat_records sr ON hs.dbn = sr.dbn\n",
        "WHERE sr.math_avg < 500\n",
        "ORDER BY 1 ASC\n",
        "LIMIT 10\n",
        "''')\n",
        "cursor.fetchall()\n",
        "\n",
        "\n",
        "\n",
        "# [(None,),\n",
        "#  (None,),\n",
        "#  (None,),\n",
        "#  (None,),\n",
        "#  (0.39,),\n",
        "#  (0.46,),\n",
        "#  (0.47,),\n",
        "#  (0.49,),\n",
        "#  (0.5,),\n",
        "#  (0.5,)]"
      ]
    },
    {
      "cell_type": "markdown",
      "metadata": {
        "id": "UOZjgWC7WvNX"
      },
      "source": [
        "* For schools with a math avg greater than 500, what is the average graduation rate?"
      ]
    },
    {
      "cell_type": "code",
      "execution_count": 43,
      "metadata": {
        "id": "HTJziUFgWvNX",
        "outputId": "52b85c97-f5b9-4020-f03b-2d66ca35f391",
        "colab": {
          "base_uri": "https://localhost:8080/"
        }
      },
      "outputs": [
        {
          "output_type": "execute_result",
          "data": {
            "text/plain": [
              "[(0.9769999999999999,)]"
            ]
          },
          "metadata": {},
          "execution_count": 43
        }
      ],
      "source": [
        "cursor.execute('''SELECT AVG(hs.graduation_rate)\n",
        "FROM high_schools hs\n",
        "JOIN sat_records sr ON hs.dbn = sr.dbn\n",
        "WHERE sr.math_avg > 500\n",
        "''')\n",
        "cursor.fetchall()\n",
        "\n",
        "\n",
        "# [(0.9769999999999999,)]"
      ]
    },
    {
      "cell_type": "markdown",
      "metadata": {
        "id": "C_qAkf6ZWvNX"
      },
      "source": [
        "* What is the total number of test takers in each boro?"
      ]
    },
    {
      "cell_type": "code",
      "execution_count": 45,
      "metadata": {
        "id": "VjbCncFbWvNX",
        "outputId": "65434fbf-52f5-4db3-e70c-ebc975179444",
        "colab": {
          "base_uri": "https://localhost:8080/"
        }
      },
      "outputs": [
        {
          "output_type": "execute_result",
          "data": {
            "text/plain": [
              "[('K', 12381.0), ('M', 8717.0), ('Q', 11971.0), ('R', 3005.0), ('X', 6431.0)]"
            ]
          },
          "metadata": {},
          "execution_count": 45
        }
      ],
      "source": [
        "cursor.execute('''SELECT hs.boro, sum(sr.num_test_takers)\n",
        "FROM high_schools hs\n",
        "JOIN sat_records sr ON hs.dbn = sr.dbn\n",
        "GROUP BY 1\n",
        "''')\n",
        "cursor.fetchall()\n",
        "\n",
        "# [('K', 12381.0), ('M', 8717.0), ('Q', 11971.0), ('R', 3005.0), ('X', 6431.0)]"
      ]
    },
    {
      "cell_type": "markdown",
      "metadata": {
        "id": "glfIRDX7WvNY"
      },
      "source": [
        "* What is the average combined reading and math scores for each boro?"
      ]
    },
    {
      "cell_type": "code",
      "execution_count": 46,
      "metadata": {
        "id": "cWOLEEaLWvNY",
        "outputId": "d6adf1dc-1077-4237-e5d2-f84dfd103348",
        "colab": {
          "base_uri": "https://localhost:8080/"
        }
      },
      "outputs": [
        {
          "output_type": "execute_result",
          "data": {
            "text/plain": [
              "[('K', 795.2857142857143),\n",
              " ('M', 869.5822784810126),\n",
              " ('Q', 874.5666666666667),\n",
              " ('R', 930.0),\n",
              " ('X', 778.2375)]"
            ]
          },
          "metadata": {},
          "execution_count": 46
        }
      ],
      "source": [
        "cursor.execute('''SELECT hs.boro, AVG(sr.math_avg + sr.reading_avg)\n",
        "FROM high_schools hs\n",
        "JOIN sat_records sr ON hs.dbn = sr.dbn\n",
        "GROUP BY 1\n",
        "''')\n",
        "cursor.fetchall()\n",
        "\n",
        "# [('K', 795.2857142857143),\n",
        "#  ('M', 869.5822784810126),\n",
        "#  ('Q', 874.5666666666667),\n",
        "#  ('R', 930.0),\n",
        "#  ('X', 778.2375)]"
      ]
    },
    {
      "cell_type": "markdown",
      "metadata": {
        "id": "wzDM7MsGWvNY"
      },
      "source": [
        "* Find the top five schools that have the largest differences between num_test_takers and total_students"
      ]
    },
    {
      "cell_type": "code",
      "execution_count": 51,
      "metadata": {
        "id": "B0lT0qnXWvNY",
        "outputId": "f865504d-9932-456f-883d-1a61b474eb96",
        "colab": {
          "base_uri": "https://localhost:8080/"
        }
      },
      "outputs": [
        {
          "output_type": "execute_result",
          "data": {
            "text/plain": [
              "[('Brooklyn Technical High School', 4561.0),\n",
              " ('Fort Hamilton High School', 3888.0),\n",
              " ('Francis Lewis High School', 3623.0),\n",
              " ('Midwood High School', 3234.0),\n",
              " ('James Madison High School', 3139.0)]"
            ]
          },
          "metadata": {},
          "execution_count": 51
        }
      ],
      "source": [
        "cursor.execute('''SELECT hs.school_name, (hs.total_students - sr.num_test_takers) as difference\n",
        "FROM high_schools hs\n",
        "JOIN sat_records sr ON hs.dbn = sr.dbn\n",
        "ORDER BY 2 DESC\n",
        "LIMIT 5\n",
        "''')\n",
        "cursor.fetchall()\n",
        "\n",
        "# [('Brooklyn Technical High School', 4561.0),\n",
        "#  ('Fort Hamilton High School', 3888.0),\n",
        "#  ('Francis Lewis High School', 3623.0),\n",
        "#  ('Midwood High School', 3234.0),\n",
        "#  ('James Madison High School', 3139.0)]"
      ]
    },
    {
      "cell_type": "markdown",
      "metadata": {
        "id": "xdEQsszUWvNY"
      },
      "source": [
        "* What is the difference between total students and number of test takers for each boro? Order your answer in ascending order"
      ]
    },
    {
      "cell_type": "code",
      "execution_count": 53,
      "metadata": {
        "id": "qmVcuVurWvNY",
        "outputId": "a22e39b3-abe7-4742-8504-2cbd3c1c5ac6",
        "colab": {
          "base_uri": "https://localhost:8080/"
        }
      },
      "outputs": [
        {
          "output_type": "execute_result",
          "data": {
            "text/plain": [
              "[('R', 15627.0),\n",
              " ('X', 35972.0),\n",
              " ('M', 41118.0),\n",
              " ('Q', 58712.0),\n",
              " ('K', 61192.0)]"
            ]
          },
          "metadata": {},
          "execution_count": 53
        }
      ],
      "source": [
        "cursor.execute('''SELECT hs.boro, SUM(hs.total_students - sr.num_test_takers) as difference\n",
        "FROM high_schools hs\n",
        "JOIN sat_records sr ON hs.dbn = sr.dbn\n",
        "GROUP BY 1\n",
        "ORDER BY 2 ASC\n",
        "LIMIT 5\n",
        "''')\n",
        "cursor.fetchall()\n",
        "\n",
        "# [('R', 15627.0),\n",
        "#  ('X', 35972.0),\n",
        "#  ('M', 41118.0),\n",
        "#  ('Q', 58712.0),\n",
        "#  ('K', 61192.0)]"
      ]
    },
    {
      "cell_type": "markdown",
      "metadata": {
        "id": "9Ivgq2WaWvNY"
      },
      "source": [
        "### Conclusion\n",
        "This lab presented us with a database in which records from one table \"belong to\" records from another table. Specifically, we saw that the data in the `sat_records` table belonged to the schools in the `high_schools` table. We used JOIN clauses to combine the data in both tables to find solutions to questions that required information in both tables."
      ]
    },
    {
      "cell_type": "markdown",
      "metadata": {
        "id": "ukDdjNqnWvNY"
      },
      "source": [
        "### Resources\n",
        "\n",
        "[School District Breakdown](https://data.cityofnewyork.us/Education/School-District-Breakdowns/g3vh-kbnw)"
      ]
    },
    {
      "cell_type": "markdown",
      "metadata": {
        "id": "QPR6LWywWvNY"
      },
      "source": [
        "[SAT Results](https://data.cityofnewyork.us/Education/2012-SAT-Results/f9bf-2cp4)"
      ]
    }
  ],
  "metadata": {
    "kernelspec": {
      "display_name": "Python 3 (ipykernel)",
      "language": "python",
      "name": "python3"
    },
    "language_info": {
      "codemirror_mode": {
        "name": "ipython",
        "version": 3
      },
      "file_extension": ".py",
      "mimetype": "text/x-python",
      "name": "python",
      "nbconvert_exporter": "python",
      "pygments_lexer": "ipython3",
      "version": "3.10.6"
    },
    "colab": {
      "provenance": []
    }
  },
  "nbformat": 4,
  "nbformat_minor": 0
}