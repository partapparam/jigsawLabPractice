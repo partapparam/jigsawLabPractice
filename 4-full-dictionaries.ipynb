{
  "cells": [
    {
      "cell_type": "markdown",
      "metadata": {
        "id": "MHGeItOHbWzH"
      },
      "source": [
        "# Dictionaries Methods in Python"
      ]
    },
    {
      "cell_type": "markdown",
      "metadata": {
        "id": "6yDtDMeObW0b"
      },
      "source": [
        "### Introduction"
      ]
    },
    {
      "cell_type": "markdown",
      "metadata": {
        "id": "sYIkmdsfbW0d"
      },
      "source": [
        "Previously, we saw that dictionaries are a set of key value pairs.  We know that we can initialize a dictonary with the following:"
      ]
    },
    {
      "cell_type": "code",
      "execution_count": 2,
      "metadata": {
        "id": "HDPwmwqBbW0f",
        "outputId": "7f66325b-bc60-4fe7-d55f-3721fa31c036",
        "colab": {
          "base_uri": "https://localhost:8080/",
          "height": 35
        }
      },
      "outputs": [
        {
          "output_type": "execute_result",
          "data": {
            "text/plain": [
              "'chipotle'"
            ],
            "application/vnd.google.colaboratory.intrinsic+json": {
              "type": "string"
            }
          },
          "metadata": {},
          "execution_count": 2
        }
      ],
      "source": [
        "chipotle = {'name': 'chipotle', 'hq': 'newport beach', 'num_of_locations': 2500}\n",
        "chipotle['name']"
      ]
    },
    {
      "cell_type": "markdown",
      "metadata": {
        "id": "EXsMdyUPbW0k"
      },
      "source": [
        "And that we can retrieve a specific value from the dictionary with the following:"
      ]
    },
    {
      "cell_type": "code",
      "execution_count": 3,
      "metadata": {
        "id": "QkdbJtXObW0l",
        "outputId": "13520f70-b07e-40a7-e466-6890e001cb53",
        "colab": {
          "base_uri": "https://localhost:8080/",
          "height": 35
        }
      },
      "outputs": [
        {
          "output_type": "execute_result",
          "data": {
            "text/plain": [
              "'chipotle'"
            ],
            "application/vnd.google.colaboratory.intrinsic+json": {
              "type": "string"
            }
          },
          "metadata": {},
          "execution_count": 3
        }
      ],
      "source": [
        "chipotle['name']"
      ]
    },
    {
      "cell_type": "markdown",
      "metadata": {
        "id": "bUC38-VQbW0m"
      },
      "source": [
        "In this lesson, we'll learn how to access multiple components from a dictionary - like the keys, values, and items."
      ]
    },
    {
      "cell_type": "markdown",
      "metadata": {
        "id": "0kTzekcVbW0n"
      },
      "source": [
        "### Changing our dictionaries"
      ]
    },
    {
      "cell_type": "markdown",
      "metadata": {
        "id": "ZEAfwXkGbW0o"
      },
      "source": [
        "Now that we know the different mechanisms to retrieve a value from a dictionary, let's make sure that we know how to update a dictionary."
      ]
    },
    {
      "cell_type": "markdown",
      "metadata": {
        "id": "DQWlpSmkbW0o"
      },
      "source": [
        "For example, let's add in that key of `num_of_employees` to chipotle."
      ]
    },
    {
      "cell_type": "code",
      "execution_count": 4,
      "metadata": {
        "id": "ddueKlO7bW0o",
        "outputId": "f43f23ca-b705-4e81-b815-14cbbc8d9256",
        "colab": {
          "base_uri": "https://localhost:8080/"
        }
      },
      "outputs": [
        {
          "output_type": "execute_result",
          "data": {
            "text/plain": [
              "{'name': 'chipotle', 'hq': 'newport beach', 'num_of_locations': 2500}"
            ]
          },
          "metadata": {},
          "execution_count": 4
        }
      ],
      "source": [
        "chipotle"
      ]
    },
    {
      "cell_type": "code",
      "execution_count": 9,
      "metadata": {
        "id": "zugn8nG0bW0p"
      },
      "outputs": [],
      "source": [
        "chipotle['num_of_employees'] = 64570\n",
        "chipotle['cuisines'] = 'mexican'"
      ]
    },
    {
      "cell_type": "code",
      "execution_count": 10,
      "metadata": {
        "id": "0okWhGPLbW0p",
        "outputId": "a144bf02-2362-4dfa-b124-5ac21d10bad8",
        "colab": {
          "base_uri": "https://localhost:8080/"
        }
      },
      "outputs": [
        {
          "output_type": "execute_result",
          "data": {
            "text/plain": [
              "{'name': 'chipotle',\n",
              " 'hq': 'newport beach',\n",
              " 'num_of_locations': 2500,\n",
              " 'num_of_employees': 64570,\n",
              " 'cusines': 'mexican',\n",
              " 'cuisines': 'mexican'}"
            ]
          },
          "metadata": {},
          "execution_count": 10
        }
      ],
      "source": [
        "chipotle"
      ]
    },
    {
      "cell_type": "markdown",
      "metadata": {
        "id": "MAwZv74SbW0p"
      },
      "source": [
        "So we added a new key value pair with the following pattern:"
      ]
    },
    {
      "cell_type": "markdown",
      "metadata": {
        "id": "wDpcs6j-bW0p"
      },
      "source": [
        "```python\n",
        "dictionary['key'] = 'value'\n",
        "```"
      ]
    },
    {
      "cell_type": "markdown",
      "metadata": {
        "id": "qDuONTvjbW0q"
      },
      "source": [
        "Let's see this again by now updating the name to be capitalized."
      ]
    },
    {
      "cell_type": "code",
      "execution_count": 11,
      "metadata": {
        "id": "rK6jksXpbW0q"
      },
      "outputs": [],
      "source": [
        "chipotle['name'] = 'Chipotle'"
      ]
    },
    {
      "cell_type": "code",
      "execution_count": 12,
      "metadata": {
        "id": "QAvzAgs3bW0q",
        "outputId": "e79dc01e-fca5-4a8f-ff1a-19c93eb49c63",
        "colab": {
          "base_uri": "https://localhost:8080/"
        }
      },
      "outputs": [
        {
          "output_type": "execute_result",
          "data": {
            "text/plain": [
              "{'name': 'Chipotle',\n",
              " 'hq': 'newport beach',\n",
              " 'num_of_locations': 2500,\n",
              " 'num_of_employees': 64570,\n",
              " 'cusines': 'mexican',\n",
              " 'cuisines': 'mexican'}"
            ]
          },
          "metadata": {},
          "execution_count": 12
        }
      ],
      "source": [
        "chipotle"
      ]
    },
    {
      "cell_type": "markdown",
      "metadata": {
        "id": "E2GVmC6ObW0q"
      },
      "source": [
        "Ok, so we can see that by sticking to that pattern of `dictionary['key'] = 'value'` we not only can update our dictionary with a new key value pair, but can also change an existing value."
      ]
    },
    {
      "cell_type": "code",
      "execution_count": 15,
      "metadata": {
        "id": "byYXG3tQbW0q"
      },
      "outputs": [],
      "source": [
        "chipotle['cuisines'] = 'Mexican'"
      ]
    },
    {
      "cell_type": "markdown",
      "metadata": {
        "id": "gh_qe7j-bW0q"
      },
      "source": [
        "### Exploring Dictionary Methods"
      ]
    },
    {
      "cell_type": "markdown",
      "metadata": {
        "id": "jqrqVoWibW0r"
      },
      "source": [
        "Now our lesson wouldn't be complete without a little more exploration into what methods are available to us on a dictionary.  Let's see what methods are available by pressing a dot after the dictionary and then pressing tab."
      ]
    },
    {
      "cell_type": "code",
      "execution_count": 16,
      "metadata": {
        "id": "-LQvoe8WbW0r",
        "outputId": "f1f2dace-7952-400e-e63b-231597b4d4ed",
        "colab": {
          "base_uri": "https://localhost:8080/",
          "height": 143
        }
      },
      "outputs": [
        {
          "output_type": "error",
          "ename": "SyntaxError",
          "evalue": "ignored",
          "traceback": [
            "\u001b[0;36m  File \u001b[0;32m\"<ipython-input-16-16a8af915d65>\"\u001b[0;36m, line \u001b[0;32m1\u001b[0m\n\u001b[0;31m    chipotle.\u001b[0m\n\u001b[0m             ^\u001b[0m\n\u001b[0;31mSyntaxError\u001b[0m\u001b[0;31m:\u001b[0m invalid syntax\n"
          ]
        }
      ],
      "source": [
        "chipotle."
      ]
    },
    {
      "cell_type": "markdown",
      "metadata": {
        "id": "13QF36TubW0r"
      },
      "source": [
        "Ok, so of the methods that we saw listed, there are two that are mainly important to us. The `keys` and `values` methods.  Lets start with the keys method."
      ]
    },
    {
      "cell_type": "code",
      "execution_count": 18,
      "metadata": {
        "id": "MwqBwLxHbW0r",
        "outputId": "0db7efd2-9d7b-4ad2-c99e-61274963293f",
        "colab": {
          "base_uri": "https://localhost:8080/"
        }
      },
      "outputs": [
        {
          "output_type": "execute_result",
          "data": {
            "text/plain": [
              "dict_values(['Chipotle', 'newport beach', 2500, 64570, 'mexican', 'Mexican'])"
            ]
          },
          "metadata": {},
          "execution_count": 18
        }
      ],
      "source": [
        "chipotle.keys()\n",
        "chipotle.values()"
      ]
    },
    {
      "cell_type": "markdown",
      "metadata": {
        "id": "u5LumvMSbW0s"
      },
      "source": [
        "Ok, so oftentimes we'll use the keys method to get an overview of a large dictionary.  It's a way to see what data is available to us.  Above, we see that we have the four pieces of information about the restaurant.  "
      ]
    },
    {
      "cell_type": "markdown",
      "metadata": {
        "id": "YgiegtORbW0s"
      },
      "source": [
        "We can also access a dictionary's values method."
      ]
    },
    {
      "cell_type": "code",
      "execution_count": null,
      "metadata": {
        "id": "_6GKN-7fbW0s",
        "outputId": "fc71983f-6fe7-4dff-f53d-88a645152dbd"
      },
      "outputs": [
        {
          "data": {
            "text/plain": [
              "dict_values(['Chipotle', 'newport beach', 2500, 64570])"
            ]
          },
          "execution_count": 23,
          "metadata": {},
          "output_type": "execute_result"
        }
      ],
      "source": [
        "chipotle.values()"
      ]
    },
    {
      "cell_type": "markdown",
      "metadata": {
        "id": "1ELp9Q1EbW0t"
      },
      "source": [
        "> Notice that when we call `keys()` or `values()`, we are returned the `dict_keys` or `dict_values` datatype, which we can just understand as being pretty similar to a list.  \n",
        "\n",
        "We can coerce our `dict_keys` or `dict_values` into a list by wrapping the result in the `list` method:"
      ]
    },
    {
      "cell_type": "code",
      "execution_count": 20,
      "metadata": {
        "id": "ko2cUh7sbW0t",
        "outputId": "42b4d9e2-b7f8-4659-d8f8-6fbd7593116d",
        "colab": {
          "base_uri": "https://localhost:8080/"
        }
      },
      "outputs": [
        {
          "output_type": "execute_result",
          "data": {
            "text/plain": [
              "['name', 'hq', 'num_of_locations', 'num_of_employees', 'cusines', 'cuisines']"
            ]
          },
          "metadata": {},
          "execution_count": 20
        }
      ],
      "source": [
        "list(chipotle.values())\n",
        "keys = list(chipotle.keys())\n",
        "keys"
      ]
    },
    {
      "cell_type": "markdown",
      "metadata": {
        "id": "T9A_3juPbW0t"
      },
      "source": [
        "Finally, if we wish to access both the key value pairs as a list, we can do so with a call to items."
      ]
    },
    {
      "cell_type": "code",
      "execution_count": 21,
      "metadata": {
        "id": "Umz55bLvbW0t",
        "outputId": "4f8b6157-799f-41e2-94c5-6c52199a3ef4",
        "colab": {
          "base_uri": "https://localhost:8080/"
        }
      },
      "outputs": [
        {
          "output_type": "execute_result",
          "data": {
            "text/plain": [
              "dict_items([('name', 'Chipotle'), ('hq', 'newport beach'), ('num_of_locations', 2500), ('num_of_employees', 64570), ('cusines', 'mexican'), ('cuisines', 'Mexican')])"
            ]
          },
          "metadata": {},
          "execution_count": 21
        }
      ],
      "source": [
        "chipotle.items()"
      ]
    },
    {
      "cell_type": "markdown",
      "metadata": {
        "id": "eiG2uAwYbW0u"
      },
      "source": [
        "Remember that if we try slice just a subset of our items, we can't do so as we are not currently working with a list."
      ]
    },
    {
      "cell_type": "code",
      "execution_count": 23,
      "metadata": {
        "id": "Bh3MKwYFbW0u",
        "outputId": "d573ee73-4322-44bb-9ec9-79bc6c37e6e2",
        "colab": {
          "base_uri": "https://localhost:8080/"
        }
      },
      "outputs": [
        {
          "output_type": "execute_result",
          "data": {
            "text/plain": [
              "[('name', 'Chipotle'), ('hq', 'newport beach'), ('num_of_locations', 2500)]"
            ]
          },
          "metadata": {},
          "execution_count": 23
        }
      ],
      "source": [
        "list(chipotle.items())[:3]"
      ]
    },
    {
      "cell_type": "markdown",
      "metadata": {
        "id": "DNm0wzSlbW0u"
      },
      "source": [
        "> Pay attention to the `is not subscriptable` error message.  Oftentimes, we'll see this message when we *think* that we are working with a list, but really we are working with something else.  Like in the above case, our `dict_items`."
      ]
    },
    {
      "cell_type": "markdown",
      "metadata": {
        "id": "J2lyG8A5bW0u"
      },
      "source": [
        "Ok, so before we slice pairs of elements from the above, we need to first coerce our data into a list."
      ]
    },
    {
      "cell_type": "code",
      "execution_count": 28,
      "metadata": {
        "id": "qW5-tqjKbW0u",
        "outputId": "3e6b04b9-cabf-403d-a038-34b0658809aa",
        "colab": {
          "base_uri": "https://localhost:8080/"
        }
      },
      "outputs": [
        {
          "output_type": "execute_result",
          "data": {
            "text/plain": [
              "{'name': 'Chipotle',\n",
              " 'hq': 'newport beach',\n",
              " 'num_of_locations': 2500,\n",
              " 'num_of_employees': 64570,\n",
              " 'cusines': 'mexican',\n",
              " 'cuisines': 'Mexican'}"
            ]
          },
          "metadata": {},
          "execution_count": 28
        }
      ],
      "source": [
        "chipotle_items = list(chipotle.items())\n",
        "dict(chipotle_items)"
      ]
    },
    {
      "cell_type": "code",
      "execution_count": 25,
      "metadata": {
        "id": "eJdHqX28bW0u",
        "outputId": "1c039cc3-062c-4470-8185-2188c9cad280",
        "colab": {
          "base_uri": "https://localhost:8080/"
        }
      },
      "outputs": [
        {
          "output_type": "execute_result",
          "data": {
            "text/plain": [
              "list"
            ]
          },
          "metadata": {},
          "execution_count": 25
        }
      ],
      "source": [
        "type(chipotle_items)"
      ]
    },
    {
      "cell_type": "markdown",
      "metadata": {
        "id": "of1mGIv8bW0u"
      },
      "source": [
        "Now we can slice."
      ]
    },
    {
      "cell_type": "code",
      "execution_count": 26,
      "metadata": {
        "id": "kAzddw06bW02",
        "outputId": "537b755f-9d3d-4e9f-c4e9-1e40180bdd0b",
        "colab": {
          "base_uri": "https://localhost:8080/"
        }
      },
      "outputs": [
        {
          "output_type": "execute_result",
          "data": {
            "text/plain": [
              "[('name', 'Chipotle'), ('hq', 'newport beach'), ('num_of_locations', 2500)]"
            ]
          },
          "metadata": {},
          "execution_count": 26
        }
      ],
      "source": [
        "chipotle_items[:3]"
      ]
    },
    {
      "cell_type": "markdown",
      "metadata": {
        "id": "vQeXfY9jbW03"
      },
      "source": [
        "Finally, we can coerce any list of tuples into a dictionary with a call of dict.  Let's create a dictionary of just the first three key value pairs."
      ]
    },
    {
      "cell_type": "code",
      "execution_count": 27,
      "metadata": {
        "id": "nnz3EcdFbW03",
        "outputId": "0b00b943-c5b3-4cc8-8410-540ab776f534",
        "colab": {
          "base_uri": "https://localhost:8080/"
        }
      },
      "outputs": [
        {
          "output_type": "execute_result",
          "data": {
            "text/plain": [
              "{'name': 'Chipotle', 'hq': 'newport beach', 'num_of_locations': 2500}"
            ]
          },
          "metadata": {},
          "execution_count": 27
        }
      ],
      "source": [
        "dict(list(chipotle.items())[:3])"
      ]
    },
    {
      "cell_type": "markdown",
      "metadata": {
        "id": "yphVHKFPbW04"
      },
      "source": [
        "### Summary"
      ]
    },
    {
      "cell_type": "markdown",
      "metadata": {
        "id": "6eGtWKpxbW04"
      },
      "source": [
        "In this lesson, we learned some more advanced methods with dictionaries.  We saw that an we can add new data to our dictionaries with the pattern:\n",
        "\n",
        "```python\n",
        "dictionary['key'] = 'value'\n",
        "```"
      ]
    },
    {
      "cell_type": "markdown",
      "metadata": {
        "id": "oSS9D54jbW04"
      },
      "source": [
        "And we saw that we can access certain components of a dictionary with a call to the `keys()`, `values()` or `items()` methods.  One thing to pay atttention to is, the type of data we are working with.  Oftentimes, because we want access to the list methods, we'll need to coerce the return value into a list, by wrapping this in the `list()` method."
      ]
    },
    {
      "cell_type": "code",
      "execution_count": null,
      "metadata": {
        "id": "ofykSV-tbW04",
        "outputId": "e6f34591-27b5-44a9-c0a4-2b4a1ce7f6dc"
      },
      "outputs": [
        {
          "data": {
            "text/plain": [
              "[('name', 'Chipotle'),\n",
              " ('hq', 'newport beach'),\n",
              " ('num_of_locations', 2500),\n",
              " ('num_of_employees', 64570)]"
            ]
          },
          "execution_count": 38,
          "metadata": {},
          "output_type": "execute_result"
        }
      ],
      "source": [
        "chipotle_items = list(chipotle.items())\n",
        "\n",
        "chipotle_items"
      ]
    },
    {
      "cell_type": "markdown",
      "metadata": {
        "id": "aAaIVuPxbW04"
      },
      "source": [
        "Then if we wish to coerce this list of nested tuples back into a dictionary, we can do so by wrapping this in `dict`."
      ]
    },
    {
      "cell_type": "code",
      "execution_count": null,
      "metadata": {
        "id": "tUcOHXhnbW05",
        "outputId": "d902ab30-c383-469a-b280-8f4b2d80ea9d"
      },
      "outputs": [
        {
          "data": {
            "text/plain": [
              "{'name': 'Chipotle',\n",
              " 'hq': 'newport beach',\n",
              " 'num_of_locations': 2500,\n",
              " 'num_of_employees': 64570}"
            ]
          },
          "execution_count": 40,
          "metadata": {},
          "output_type": "execute_result"
        }
      ],
      "source": [
        "dict(chipotle_items)"
      ]
    }
  ],
  "metadata": {
    "kernelspec": {
      "display_name": "Python 3 (ipykernel)",
      "language": "python",
      "name": "python3"
    },
    "language_info": {
      "codemirror_mode": {
        "name": "ipython",
        "version": 3
      },
      "file_extension": ".py",
      "mimetype": "text/x-python",
      "name": "python",
      "nbconvert_exporter": "python",
      "pygments_lexer": "ipython3",
      "version": "3.9.7"
    },
    "colab": {
      "provenance": []
    }
  },
  "nbformat": 4,
  "nbformat_minor": 0
}