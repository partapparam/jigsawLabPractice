{
  "cells": [
    {
      "cell_type": "markdown",
      "metadata": {
        "id": "_yaA1Eicjibs"
      },
      "source": [
        "# Coercing Strings Lab"
      ]
    },
    {
      "cell_type": "markdown",
      "metadata": {
        "id": "pWUgMF7jjiby"
      },
      "source": [
        "### Introduction"
      ]
    },
    {
      "cell_type": "markdown",
      "metadata": {
        "id": "5ss8vKgOjiby"
      },
      "source": [
        "In this lesson, let's practice working with string data in Python.  We'll do so by looking at the Yelp reviews for Max's Wine Bar in Texas."
      ]
    },
    {
      "cell_type": "markdown",
      "metadata": {
        "id": "Kwfot84Jjibz"
      },
      "source": [
        "### Loading The Data"
      ]
    },
    {
      "cell_type": "markdown",
      "metadata": {
        "id": "aGSLuNp1jibz"
      },
      "source": [
        "We start by loading up the data, and then selecting the text from the reviews."
      ]
    },
    {
      "cell_type": "code",
      "execution_count": 4,
      "metadata": {
        "id": "IKvFwjLrjibz"
      },
      "outputs": [],
      "source": [
        "import pandas as pd\n",
        "url = \"https://raw.githubusercontent.com/eng-6-22/mod-1-a-data-structures/master/5-coercing-strings/updated-reviews.json\"\n",
        "df = pd.read_json(url)"
      ]
    },
    {
      "cell_type": "code",
      "execution_count": 5,
      "metadata": {
        "id": "T6K4By4Wjib1"
      },
      "outputs": [],
      "source": [
        "reviews = list(df.text)"
      ]
    },
    {
      "cell_type": "code",
      "execution_count": 6,
      "metadata": {
        "colab": {
          "base_uri": "https://localhost:8080/"
        },
        "id": "r97pnQw3jib2",
        "outputId": "5cfa7295-eb7f-49a2-d050-40b2a07479f1"
      },
      "outputs": [
        {
          "output_type": "execute_result",
          "data": {
            "text/plain": [
              "['Chicken and waffles are bombomski!!!! So yum 100% recommend. Outdoor area is good! Will be back.',\n",
              " \"This place holds great memories for me and my family.... \\xa0It was one of the last outtings with my mother.... Now it's closed down! The food was really good and it was a great ambience with the diverse crowd that was out. \\xa0We had a table for about 20 or so for our guest. Our waitress did not miss a beat! \\xa0She was able to get everyone's order and come back to make sure we were taken care of. \\xa0Top Notch! \\xa0Max hit the spot of providing a little of something for everyone from the menu. \\xa0The cocktails were also really good with a nice kick! The comfort food hit the spot for me.... \\xa0I was really loving the greens and fried chicken. Now when I added the waffles to the dish it makes the perfect combination. They had no problem with splitting the bill with such a large crowd. Everyone had a nice time and enjoyed the occasion as well as food....\"]"
            ]
          },
          "metadata": {},
          "execution_count": 6
        }
      ],
      "source": [
        "reviews[:2]"
      ]
    },
    {
      "cell_type": "markdown",
      "metadata": {
        "id": "hei-F1nzjib3"
      },
      "source": [
        "### Finding and Counting"
      ]
    },
    {
      "cell_type": "markdown",
      "metadata": {
        "id": "0DoasmMojib3"
      },
      "source": [
        "Let's start by practicing with the `find` method in Python.  We'll start by selecting the seventh review."
      ]
    },
    {
      "cell_type": "code",
      "execution_count": 5,
      "metadata": {
        "colab": {
          "base_uri": "https://localhost:8080/",
          "height": 35
        },
        "id": "6t1AXgdrjib3",
        "outputId": "15b3d1c7-9cbb-4db4-bb59-24f7a2c44ccc"
      },
      "outputs": [
        {
          "output_type": "execute_result",
          "data": {
            "text/plain": [
              "'The friend chicken here is del'"
            ],
            "application/vnd.google.colaboratory.intrinsic+json": {
              "type": "string"
            }
          },
          "metadata": {},
          "execution_count": 5
        }
      ],
      "source": [
        "seventh_review = reviews[6]\n",
        "seventh_review[:30]"
      ]
    },
    {
      "cell_type": "markdown",
      "metadata": {
        "id": "q3qxfuPHjib4"
      },
      "source": [
        "Now imagine that we want to write a method that selects characters before and after the word chicken to see what it is often associated with."
      ]
    },
    {
      "cell_type": "markdown",
      "metadata": {
        "id": "nXbJ7G3Ejib4"
      },
      "source": [
        "> Begin by finding the index of the string in the `seventh_review` where the word `'chicken'` begins."
      ]
    },
    {
      "cell_type": "code",
      "execution_count": 6,
      "metadata": {
        "id": "pp_H0TKojib4"
      },
      "outputs": [],
      "source": [
        "char_chicken = seventh_review.find('chicken')\n",
        "# 11"
      ]
    },
    {
      "cell_type": "markdown",
      "metadata": {
        "id": "hvSVYoUHjib4"
      },
      "source": [
        "Next, write a method that selects ten characters before the word chicken and after the word chicken.  "
      ]
    },
    {
      "cell_type": "code",
      "execution_count": 10,
      "metadata": {
        "id": "mYIib80ojib4"
      },
      "outputs": [],
      "source": [
        "def select_text(review):\n",
        "    char = review.find('chicken')\n",
        "    length = len('chicken')\n",
        "    return review[(char-10):(char+length+10)]"
      ]
    },
    {
      "cell_type": "code",
      "execution_count": 11,
      "metadata": {
        "colab": {
          "base_uri": "https://localhost:8080/",
          "height": 35
        },
        "id": "67VsIJkijib4",
        "outputId": "5dd15f9c-1c54-416d-f5a2-f209e801831c"
      },
      "outputs": [
        {
          "output_type": "execute_result",
          "data": {
            "text/plain": [
              "'he friend chicken here is d'"
            ],
            "application/vnd.google.colaboratory.intrinsic+json": {
              "type": "string"
            }
          },
          "metadata": {},
          "execution_count": 11
        }
      ],
      "source": [
        "select_text(seventh_review)\n",
        "# 'he friend chicken here is d'"
      ]
    },
    {
      "cell_type": "markdown",
      "metadata": {
        "id": "iYP1OkWojib5"
      },
      "source": [
        "Now write a method that can take any string and word as an argument and return ten characters before and after that word."
      ]
    },
    {
      "cell_type": "code",
      "execution_count": 12,
      "metadata": {
        "id": "imDvSclFjib5"
      },
      "outputs": [],
      "source": [
        "def select_text_around(review, word):\n",
        "    char = review.find(word)\n",
        "    length = len(word)\n",
        "    return review[(char-10):(char+length+10)]"
      ]
    },
    {
      "cell_type": "code",
      "execution_count": 13,
      "metadata": {
        "colab": {
          "base_uri": "https://localhost:8080/",
          "height": 35
        },
        "id": "PpM3JXYqjib5",
        "outputId": "0c21c2a5-5726-46b2-d469-0415329bb276"
      },
      "outputs": [
        {
          "output_type": "execute_result",
          "data": {
            "text/plain": [
              "'e classic fried chicken, '"
            ],
            "application/vnd.google.colaboratory.intrinsic+json": {
              "type": "string"
            }
          },
          "metadata": {},
          "execution_count": 13
        }
      ],
      "source": [
        "select_text_around(seventh_review, 'fried')\n",
        "# 'e classic fried chicken, '"
      ]
    },
    {
      "cell_type": "markdown",
      "metadata": {
        "id": "S0IQ8bvEjib5"
      },
      "source": [
        "2. Using Count"
      ]
    },
    {
      "cell_type": "markdown",
      "metadata": {
        "id": "lENs8nipjib5"
      },
      "source": [
        "Next, let's write a function that counts up the number of exclamation points in a review."
      ]
    },
    {
      "cell_type": "markdown",
      "metadata": {
        "id": "Zrspxys2jib5"
      },
      "source": [
        "> Do so with the `count` method."
      ]
    },
    {
      "cell_type": "code",
      "execution_count": 14,
      "metadata": {
        "id": "VeyUT-0yjib6"
      },
      "outputs": [],
      "source": [
        "def count_exclamations(review):\n",
        "    return review.count('!')"
      ]
    },
    {
      "cell_type": "code",
      "execution_count": 15,
      "metadata": {
        "colab": {
          "base_uri": "https://localhost:8080/"
        },
        "id": "L1k7KavQjib6",
        "outputId": "8afd8071-94ef-4df7-b374-8c89cf1f7d82"
      },
      "outputs": [
        {
          "output_type": "execute_result",
          "data": {
            "text/plain": [
              "5"
            ]
          },
          "metadata": {},
          "execution_count": 15
        }
      ],
      "source": [
        "first_review = reviews[0]\n",
        "count_exclamations(first_review)\n",
        "# 5"
      ]
    },
    {
      "cell_type": "markdown",
      "metadata": {
        "id": "1_pItjPdjib6"
      },
      "source": [
        "There are other ways to do this.  For example, note that we can iterate through the characters of a string."
      ]
    },
    {
      "cell_type": "markdown",
      "metadata": {
        "id": "NObwn-bKjib6"
      },
      "source": [
        "> See this by uncommenting and executing the cell below."
      ]
    },
    {
      "cell_type": "code",
      "execution_count": 19,
      "metadata": {
        "colab": {
          "base_uri": "https://localhost:8080/"
        },
        "id": "oylF1sR5jib6",
        "outputId": "893c9001-d3e0-4c6e-f20b-fe411f5314a3"
      },
      "outputs": [
        {
          "output_type": "execute_result",
          "data": {
            "text/plain": [
              "['C',\n",
              " 'h',\n",
              " 'i',\n",
              " 'c',\n",
              " 'k',\n",
              " 'e',\n",
              " 'n',\n",
              " ' ',\n",
              " 'a',\n",
              " 'n',\n",
              " 'd',\n",
              " ' ',\n",
              " 'w',\n",
              " 'a',\n",
              " 'f',\n",
              " 'f',\n",
              " 'l',\n",
              " 'e',\n",
              " 's',\n",
              " ' ',\n",
              " 'a',\n",
              " 'r',\n",
              " 'e',\n",
              " ' ',\n",
              " 'b',\n",
              " 'o',\n",
              " 'm',\n",
              " 'b',\n",
              " 'o',\n",
              " 'm',\n",
              " 's',\n",
              " 'k',\n",
              " 'i',\n",
              " '!',\n",
              " '!',\n",
              " '!',\n",
              " '!',\n",
              " ' ',\n",
              " 'S',\n",
              " 'o',\n",
              " ' ',\n",
              " 'y',\n",
              " 'u',\n",
              " 'm',\n",
              " ' ',\n",
              " '1',\n",
              " '0',\n",
              " '0',\n",
              " '%',\n",
              " ' ',\n",
              " 'r',\n",
              " 'e',\n",
              " 'c',\n",
              " 'o',\n",
              " 'm',\n",
              " 'm',\n",
              " 'e',\n",
              " 'n',\n",
              " 'd',\n",
              " '.',\n",
              " ' ',\n",
              " 'O',\n",
              " 'u',\n",
              " 't',\n",
              " 'd',\n",
              " 'o',\n",
              " 'o',\n",
              " 'r',\n",
              " ' ',\n",
              " 'a',\n",
              " 'r',\n",
              " 'e',\n",
              " 'a',\n",
              " ' ',\n",
              " 'i',\n",
              " 's',\n",
              " ' ',\n",
              " 'g',\n",
              " 'o',\n",
              " 'o',\n",
              " 'd',\n",
              " '!',\n",
              " ' ',\n",
              " 'W',\n",
              " 'i',\n",
              " 'l',\n",
              " 'l',\n",
              " ' ',\n",
              " 'b',\n",
              " 'e',\n",
              " ' ',\n",
              " 'b',\n",
              " 'a',\n",
              " 'c',\n",
              " 'k',\n",
              " '.']"
            ]
          },
          "metadata": {},
          "execution_count": 19
        }
      ],
      "source": [
        "[char for char in first_review]"
      ]
    },
    {
      "cell_type": "markdown",
      "metadata": {
        "id": "5efnmoIBjib6"
      },
      "source": [
        "So use list comprehension to count up the number of exclamation points in a string."
      ]
    },
    {
      "cell_type": "code",
      "execution_count": 21,
      "metadata": {
        "id": "1jthr2vejib6"
      },
      "outputs": [],
      "source": [
        "def count_exclamations(first_review):\n",
        "    sum = 0\n",
        "    for char in first_review:\n",
        "      if char == '!':\n",
        "        sum = 1 + sum\n",
        "    print(sum)"
      ]
    },
    {
      "cell_type": "markdown",
      "metadata": {
        "id": "TcvENT5ojib7"
      },
      "source": [
        "### Back to Split"
      ]
    },
    {
      "cell_type": "markdown",
      "metadata": {
        "id": "9Z18k2Ggjib7"
      },
      "source": [
        "Let's return to our method where we found the text that surrounds the word  `chicken` using the find method.  Now another way that we could do this is by splitting the review by word, and then selecting the words before and after the specified word in a reviww.  \n",
        "\n",
        "> To do this, we'll need a way to find the `index` where our word is located, so look at:\n",
        "\n",
        "* `enumerate` in Python\n",
        "* using `range()` to iterate through a list"
      ]
    },
    {
      "cell_type": "code",
      "execution_count": 1,
      "metadata": {
        "id": "vFZjyQCAjib7"
      },
      "outputs": [],
      "source": [
        "def review_word(review, selected_word):\n",
        "    split_review = review.split(' ')\n",
        "    enumerated = enumerate(split_review)\n",
        "    word_index = None\n",
        "    all = []\n",
        "    for index, word in enumerated:\n",
        "        if word == selected_word:\n",
        "            word_index = index\n",
        "            low = word_index-2 if word_index-2 >= 0 else 0\n",
        "            high = word_index+2\n",
        "            all.append(' '.join(split_review[low:high]))\n",
        "    print(all)"
      ]
    },
    {
      "cell_type": "code",
      "execution_count": 7,
      "metadata": {
        "colab": {
          "base_uri": "https://localhost:8080/"
        },
        "id": "FWGjYK8zjib7",
        "outputId": "be73cabe-b377-4a06-8442-4e135f9c436f"
      },
      "outputs": [
        {
          "output_type": "stream",
          "name": "stdout",
          "text": [
            "Service was slow even though the place wasn't crowded. I ordered the chicken and waffles. The waffle was cold with no butter the chicken was good but I had to ask for syrup. I think the dish was over priced as well 18$ for a waffle and three chicken wings. Luckily I got a Groupon deal on the meal the total for our table would have been 65$ without the deal. The only way I would eat here again is through Groupon def not worth full price.\n",
            "['Service was slow', 'The waffle was cold', 'the chicken was good', 'the dish was over']\n"
          ]
        }
      ],
      "source": [
        "chosen_review = reviews[13]\n",
        "print(chosen_review)\n",
        "review_word(chosen_review, \"was\")\n",
        "# ['Service was slow',\n",
        "#  'The waffle was cold',\n",
        "#  'the chicken was good',\n",
        "#  'the dish was over']"
      ]
    },
    {
      "cell_type": "markdown",
      "metadata": {
        "id": "1SICnl7gjib7"
      },
      "source": [
        "> The above is hard so please split it into steps and try to make progress."
      ]
    }
  ],
  "metadata": {
    "kernelspec": {
      "display_name": "Python 3 (ipykernel)",
      "language": "python",
      "name": "python3"
    },
    "language_info": {
      "codemirror_mode": {
        "name": "ipython",
        "version": 3
      },
      "file_extension": ".py",
      "mimetype": "text/x-python",
      "name": "python",
      "nbconvert_exporter": "python",
      "pygments_lexer": "ipython3",
      "version": "3.9.10"
    },
    "colab": {
      "provenance": []
    }
  },
  "nbformat": 4,
  "nbformat_minor": 0
}