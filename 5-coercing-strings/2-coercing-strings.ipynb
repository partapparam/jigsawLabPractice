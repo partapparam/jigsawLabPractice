{
  "cells": [
    {
      "cell_type": "markdown",
      "metadata": {
        "id": "8jKLmCvGcxy8"
      },
      "source": [
        "# Coercing and Creating Strings"
      ]
    },
    {
      "cell_type": "markdown",
      "metadata": {
        "id": "3ljMFqfIcxzE"
      },
      "source": [
        "### Introduction"
      ]
    },
    {
      "cell_type": "markdown",
      "metadata": {
        "id": "sijS1QZBcxzE"
      },
      "source": [
        "One of the reasons why programming skills are so essential is because data is rarely in the format that we prefer.  As burgeoning data scientists, it's our job to both think about the ideal way to represent our data.  Over the next several lessons, we'll learn how to do this."
      ]
    },
    {
      "cell_type": "markdown",
      "metadata": {
        "id": "R-rIY06icxzF"
      },
      "source": [
        "### Coercing Strings"
      ]
    },
    {
      "cell_type": "markdown",
      "metadata": {
        "id": "6Dly08ZdcxzF"
      },
      "source": [
        "Imagine that we want to write a method that extracts data from the strings."
      ]
    },
    {
      "cell_type": "code",
      "execution_count": 1,
      "metadata": {
        "id": "8C5nFhuvcxzF"
      },
      "outputs": [],
      "source": [
        "restaurant_names = ['AIMBRIDGE CONCESSIONS, INC.']"
      ]
    },
    {
      "cell_type": "markdown",
      "metadata": {
        "id": "gOyGQSZvcxzG"
      },
      "source": [
        "For example, perhaps we can get some information based on the type of corporation of the restaurant.  Perhaps we could use it as a proxy for the size of the restaurant, or whether or not it is a chain.  "
      ]
    },
    {
      "cell_type": "markdown",
      "metadata": {
        "id": "ZqtvIRcscxzH"
      },
      "source": [
        "Let's try to explore some string methods that can extract information about the company type."
      ]
    },
    {
      "cell_type": "code",
      "execution_count": 2,
      "metadata": {
        "id": "FlP5LoBycxzH"
      },
      "outputs": [],
      "source": [
        "first_restaurant = restaurant_names[0]"
      ]
    },
    {
      "cell_type": "markdown",
      "metadata": {
        "id": "tJwef3pXcxzI"
      },
      "source": [
        "### Limiting Our String"
      ]
    },
    {
      "cell_type": "markdown",
      "metadata": {
        "id": "IuHSMF45cxzI"
      },
      "source": [
        "The first thing to realize is that we can select characters from a string the same way that we would from a list."
      ]
    },
    {
      "cell_type": "code",
      "execution_count": null,
      "metadata": {
        "id": "yTS2_x1UcxzI",
        "outputId": "7558d92f-1ee3-4161-f987-e981fb7d65d1"
      },
      "outputs": [
        {
          "data": {
            "text/plain": [
              "'AIMBRIDGE CONCESSIONS, INC.'"
            ]
          },
          "execution_count": 3,
          "metadata": {},
          "output_type": "execute_result"
        }
      ],
      "source": [
        "first_restaurant"
      ]
    },
    {
      "cell_type": "code",
      "execution_count": null,
      "metadata": {
        "id": "INYph1XacxzJ",
        "outputId": "d3fb688d-e134-472e-b43a-0743e4a8f1b7"
      },
      "outputs": [
        {
          "data": {
            "text/plain": [
              "'A'"
            ]
          },
          "execution_count": 4,
          "metadata": {},
          "output_type": "execute_result"
        }
      ],
      "source": [
        "first_restaurant[0]"
      ]
    },
    {
      "cell_type": "markdown",
      "metadata": {
        "id": "YPgveJRccxzJ"
      },
      "source": [
        "So for example, if we want to select just the last five characters from a string, we can do so with the following:"
      ]
    },
    {
      "cell_type": "code",
      "execution_count": null,
      "metadata": {
        "id": "tHf6T9gGcxzJ",
        "outputId": "f41c9fe6-9150-4b21-8c67-e4a84758e46e"
      },
      "outputs": [
        {
          "data": {
            "text/plain": [
              "' INC.'"
            ]
          },
          "execution_count": 27,
          "metadata": {},
          "output_type": "execute_result"
        }
      ],
      "source": [
        "first_restaurant[-5:]"
      ]
    },
    {
      "cell_type": "markdown",
      "metadata": {
        "id": "FEh3Zl8dcxzJ"
      },
      "source": [
        "Practice selecting the just the first ten characters from a our string."
      ]
    },
    {
      "cell_type": "code",
      "execution_count": 3,
      "metadata": {
        "id": "U4-lQ32McxzM",
        "outputId": "9f9f6531-b224-4d49-cd6d-1bd430d40271",
        "colab": {
          "base_uri": "https://localhost:8080/",
          "height": 35
        }
      },
      "outputs": [
        {
          "output_type": "execute_result",
          "data": {
            "text/plain": [
              "'AIMBRIDGE '"
            ],
            "application/vnd.google.colaboratory.intrinsic+json": {
              "type": "string"
            }
          },
          "metadata": {},
          "execution_count": 3
        }
      ],
      "source": [
        "first_restaurant = 'AIMBRIDGE CONCESSIONS, INC.'\n",
        "first_restaurant[:10]\n",
        "# 'AIMBRIDGE '"
      ]
    },
    {
      "cell_type": "markdown",
      "metadata": {
        "id": "unvKay0ycxzM"
      },
      "source": [
        "Now practice selecting the last 10 characters from our string."
      ]
    },
    {
      "cell_type": "code",
      "execution_count": 6,
      "metadata": {
        "id": "jJmRZoZjcxzN",
        "outputId": "111fbc6a-c0be-40fb-eebf-266e15dfa386",
        "colab": {
          "base_uri": "https://localhost:8080/",
          "height": 35
        }
      },
      "outputs": [
        {
          "output_type": "execute_result",
          "data": {
            "text/plain": [
              "'IONS, INC.'"
            ],
            "application/vnd.google.colaboratory.intrinsic+json": {
              "type": "string"
            }
          },
          "metadata": {},
          "execution_count": 6
        }
      ],
      "source": [
        "first_restaurant = 'AIMBRIDGE CONCESSIONS, INC.'\n",
        "first_restaurant[-10:]\n",
        "# 'IONS, INC.'"
      ]
    },
    {
      "cell_type": "markdown",
      "metadata": {
        "id": "EoRDad4RcxzN"
      },
      "source": [
        "### Find and Split"
      ]
    },
    {
      "cell_type": "markdown",
      "metadata": {
        "id": "lvkgAzbfcxzN"
      },
      "source": [
        "Of course it would be nice if we could detect if certain characters were in the string, and then select those characters.  Well here's one way we could do this."
      ]
    },
    {
      "cell_type": "code",
      "execution_count": 8,
      "metadata": {
        "id": "PXT7sjfBcxzN",
        "outputId": "382c7724-619c-443b-e2fd-6236b60f60fb",
        "colab": {
          "base_uri": "https://localhost:8080/"
        }
      },
      "outputs": [
        {
          "output_type": "execute_result",
          "data": {
            "text/plain": [
              "23"
            ]
          },
          "metadata": {},
          "execution_count": 8
        }
      ],
      "source": [
        "first_restaurant = 'AIMBRIDGE CONCESSIONS, INC.'\n",
        "first_restaurant.find('INC')"
      ]
    },
    {
      "cell_type": "markdown",
      "metadata": {
        "id": "AeNNuK57cxzN"
      },
      "source": [
        "We can see that the `find` method returns the index of the start of our matching string."
      ]
    },
    {
      "cell_type": "code",
      "execution_count": 7,
      "metadata": {
        "id": "uvHCrw9acxzN",
        "outputId": "a761b7d2-4b77-42aa-b374-3bc44d4d28d9",
        "colab": {
          "base_uri": "https://localhost:8080/",
          "height": 35
        }
      },
      "outputs": [
        {
          "output_type": "execute_result",
          "data": {
            "text/plain": [
              "'I'"
            ],
            "application/vnd.google.colaboratory.intrinsic+json": {
              "type": "string"
            }
          },
          "metadata": {},
          "execution_count": 7
        }
      ],
      "source": [
        "first_restaurant[23]"
      ]
    },
    {
      "cell_type": "markdown",
      "metadata": {
        "id": "WmO-VwE8cxzO"
      },
      "source": [
        "So now let's write a method where we can pass through a string, and then just select the characters from `LLC` on."
      ]
    },
    {
      "cell_type": "code",
      "execution_count": 11,
      "metadata": {
        "id": "pUwDJCbscxzO"
      },
      "outputs": [],
      "source": [
        "first_restaurant = 'SUPER CREAM LLC'\n",
        "\n",
        "def select_characters(string):\n",
        "    llc = first_restaurant.find('LLC')\n",
        "    return first_restaurant[llc:]\n"
      ]
    },
    {
      "cell_type": "code",
      "execution_count": 10,
      "metadata": {
        "id": "9rrwtXSBcxzO"
      },
      "outputs": [],
      "source": [
        "first_restaurant = 'SUPER CREAM LLC'\n",
        "select_characters(first_restaurant)\n",
        "# 'LLC'"
      ]
    },
    {
      "cell_type": "code",
      "execution_count": 12,
      "metadata": {
        "id": "oYYnI-WKcxzO",
        "outputId": "ca37e6eb-d9b1-4d00-c85b-977fe5501048",
        "colab": {
          "base_uri": "https://localhost:8080/",
          "height": 35
        }
      },
      "outputs": [
        {
          "output_type": "execute_result",
          "data": {
            "text/plain": [
              "'LLC'"
            ],
            "application/vnd.google.colaboratory.intrinsic+json": {
              "type": "string"
            }
          },
          "metadata": {},
          "execution_count": 12
        }
      ],
      "source": [
        "second_restaurant = \"ANGEL'S ICEHOUSE, LLC\"\n",
        "select_characters(second_restaurant)"
      ]
    },
    {
      "cell_type": "markdown",
      "metadata": {
        "id": "Kl_-aX3IcxzO"
      },
      "source": [
        "### Concatenating Strings"
      ]
    },
    {
      "cell_type": "markdown",
      "metadata": {
        "id": "EVB7ZpONcxzO"
      },
      "source": [
        "Finally, Python has methods that allow us to create new strings programatically.  Let's look at the format method."
      ]
    },
    {
      "cell_type": "code",
      "execution_count": 13,
      "metadata": {
        "id": "uabbmqeLcxzP",
        "outputId": "d8e9e017-dc0c-483a-9b2d-09d3b25534f5",
        "colab": {
          "base_uri": "https://localhost:8080/",
          "height": 35
        }
      },
      "outputs": [
        {
          "output_type": "execute_result",
          "data": {
            "text/plain": [
              "'Please try the chicken.'"
            ],
            "application/vnd.google.colaboratory.intrinsic+json": {
              "type": "string"
            }
          },
          "metadata": {},
          "execution_count": 13
        }
      ],
      "source": [
        "\"Please try the {}.\".format(\"chicken\")"
      ]
    },
    {
      "cell_type": "markdown",
      "metadata": {
        "id": "tUzi9XyicxzP"
      },
      "source": [
        "> So we pass through the string to format, and then the `{}` indicates the location of the argument."
      ]
    },
    {
      "cell_type": "markdown",
      "metadata": {
        "id": "dfO8Y_D4cxzP"
      },
      "source": [
        "It also works with multiple arguments."
      ]
    },
    {
      "cell_type": "code",
      "execution_count": 14,
      "metadata": {
        "id": "_GvnI1B_cxzQ",
        "outputId": "7714e8bd-42b8-4799-fca4-02afee9be1c0",
        "colab": {
          "base_uri": "https://localhost:8080/",
          "height": 35
        }
      },
      "outputs": [
        {
          "output_type": "execute_result",
          "data": {
            "text/plain": [
              "'Please try the chicken and broccoli.'"
            ],
            "application/vnd.google.colaboratory.intrinsic+json": {
              "type": "string"
            }
          },
          "metadata": {},
          "execution_count": 14
        }
      ],
      "source": [
        "\"Please try the {} and {}.\".format(\"chicken\", \"broccoli\")"
      ]
    },
    {
      "cell_type": "markdown",
      "metadata": {
        "id": "KHoQJcIJcxzQ"
      },
      "source": [
        "Or keyword arguments."
      ]
    },
    {
      "cell_type": "code",
      "execution_count": 15,
      "metadata": {
        "id": "VgO91YzfcxzQ",
        "outputId": "3041b66b-2468-403d-b32a-c90d68efb627",
        "colab": {
          "base_uri": "https://localhost:8080/",
          "height": 35
        }
      },
      "outputs": [
        {
          "output_type": "execute_result",
          "data": {
            "text/plain": [
              "'Please try the broccoli and chicken.'"
            ],
            "application/vnd.google.colaboratory.intrinsic+json": {
              "type": "string"
            }
          },
          "metadata": {},
          "execution_count": 15
        }
      ],
      "source": [
        "\"Please try the {side} and {main}.\".format(main = \"chicken\", side = \"broccoli\")"
      ]
    },
    {
      "cell_type": "markdown",
      "metadata": {
        "id": "9Tr8CqdqcxzQ"
      },
      "source": [
        "An alternative to the format method is the `f` string."
      ]
    },
    {
      "cell_type": "code",
      "execution_count": null,
      "metadata": {
        "id": "J-7lyHRjcxzQ",
        "outputId": "34386400-8ada-4a64-f691-d0d53c728f1a"
      },
      "outputs": [
        {
          "data": {
            "text/plain": [
              "'hello broccoli and turkey!'"
            ]
          },
          "execution_count": 12,
          "metadata": {},
          "output_type": "execute_result"
        }
      ],
      "source": [
        "side = 'broccoli'\n",
        "main = 'turkey'\n",
        "f'hello {side} and {main}!'"
      ]
    },
    {
      "cell_type": "markdown",
      "metadata": {
        "id": "17ATxAFXcxzQ"
      },
      "source": [
        "> Take some time to try them both out below."
      ]
    },
    {
      "cell_type": "code",
      "execution_count": 18,
      "metadata": {
        "id": "HqzBT3JDcxzV",
        "outputId": "b20a25ff-1781-4bea-d61d-add4d95da740",
        "colab": {
          "base_uri": "https://localhost:8080/",
          "height": 35
        }
      },
      "outputs": [
        {
          "output_type": "execute_result",
          "data": {
            "text/plain": [
              "'hello potatoes'"
            ],
            "application/vnd.google.colaboratory.intrinsic+json": {
              "type": "string"
            }
          },
          "metadata": {},
          "execution_count": 18
        }
      ],
      "source": [
        "\"Please try the {} and {}\".format('red', 'blue')\n",
        "\"please skip lessons {one} and {two}\".format(one = 'python', two = 'JS')\n",
        "side = 'potatoes'\n",
        "f'hello {side}'"
      ]
    },
    {
      "cell_type": "markdown",
      "metadata": {
        "id": "aCw2c5UscxzV"
      },
      "source": [
        "### Summary"
      ]
    },
    {
      "cell_type": "markdown",
      "metadata": {
        "id": "N2TJ587WcxzW"
      },
      "source": [
        "In this lesson, we took a deeper dive into how to work with strings.  We saw that we can select characters from a string with the bracket accessors, the same way that we would from a list."
      ]
    },
    {
      "cell_type": "code",
      "execution_count": 19,
      "metadata": {
        "id": "_agRcCkNcxzW",
        "outputId": "77a8a3be-9b09-4ee2-d180-e2d27a9df56d",
        "colab": {
          "base_uri": "https://localhost:8080/",
          "height": 35
        }
      },
      "outputs": [
        {
          "output_type": "execute_result",
          "data": {
            "text/plain": [
              "'llc'"
            ],
            "application/vnd.google.colaboratory.intrinsic+json": {
              "type": "string"
            }
          },
          "metadata": {},
          "execution_count": 19
        }
      ],
      "source": [
        "\"angel's icehouse, llc\"[-3:]"
      ]
    },
    {
      "cell_type": "markdown",
      "metadata": {
        "id": "kbQMY3UBcxzW"
      },
      "source": [
        "Then we saw that we can find the index that matches a string."
      ]
    },
    {
      "cell_type": "code",
      "execution_count": 20,
      "metadata": {
        "id": "ZKY7QlKacxzW",
        "outputId": "3d964f15-cb6e-40f2-dd34-aa2b5177b516",
        "colab": {
          "base_uri": "https://localhost:8080/"
        }
      },
      "outputs": [
        {
          "output_type": "execute_result",
          "data": {
            "text/plain": [
              "18"
            ]
          },
          "metadata": {},
          "execution_count": 20
        }
      ],
      "source": [
        "\"angel's icehouse, llc\".find('llc')"
      ]
    },
    {
      "cell_type": "markdown",
      "metadata": {
        "id": "Q3XFj-YHcxzW"
      },
      "source": [
        "And that we can divide our string into different elements of a list with the `split` method."
      ]
    },
    {
      "cell_type": "code",
      "execution_count": 21,
      "metadata": {
        "id": "kW4fSRnrcxzW",
        "outputId": "14d1d2ba-3dc1-4b9f-cd4a-1318f614d45b",
        "colab": {
          "base_uri": "https://localhost:8080/"
        }
      },
      "outputs": [
        {
          "output_type": "execute_result",
          "data": {
            "text/plain": [
              "[\"angel's icehouse\", 'llc']"
            ]
          },
          "metadata": {},
          "execution_count": 21
        }
      ],
      "source": [
        "\"angel's icehouse, llc\".split(', ')"
      ]
    },
    {
      "cell_type": "markdown",
      "metadata": {
        "id": "XzTw2hshcxzX"
      },
      "source": [
        "And select elements of the returned list."
      ]
    },
    {
      "cell_type": "code",
      "execution_count": 22,
      "metadata": {
        "id": "CkGFC9bEcxzX",
        "outputId": "4bdf4bf6-8b2d-4417-fcd6-12ead91728a4",
        "colab": {
          "base_uri": "https://localhost:8080/",
          "height": 35
        }
      },
      "outputs": [
        {
          "output_type": "execute_result",
          "data": {
            "text/plain": [
              "'llc'"
            ],
            "application/vnd.google.colaboratory.intrinsic+json": {
              "type": "string"
            }
          },
          "metadata": {},
          "execution_count": 22
        }
      ],
      "source": [
        "\"angel's icehouse, llc\".split(', ')[-1]"
      ]
    }
  ],
  "metadata": {
    "kernelspec": {
      "display_name": "Python 3 (ipykernel)",
      "language": "python",
      "name": "python3"
    },
    "language_info": {
      "codemirror_mode": {
        "name": "ipython",
        "version": 3
      },
      "file_extension": ".py",
      "mimetype": "text/x-python",
      "name": "python",
      "nbconvert_exporter": "python",
      "pygments_lexer": "ipython3",
      "version": "3.9.10"
    },
    "colab": {
      "provenance": []
    }
  },
  "nbformat": 4,
  "nbformat_minor": 0
}