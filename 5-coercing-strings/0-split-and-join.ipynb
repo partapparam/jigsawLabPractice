{
  "cells": [
    {
      "cell_type": "markdown",
      "metadata": {
        "id": "PJjS80YFvNYm"
      },
      "source": [
        "# Cleaning Strings with Split and Join"
      ]
    },
    {
      "cell_type": "markdown",
      "metadata": {
        "id": "7gmCgnDHvNYs"
      },
      "source": [
        "### Introduction"
      ]
    },
    {
      "cell_type": "markdown",
      "metadata": {
        "id": "dBVbZ4UfvNYt"
      },
      "source": [
        "As we program more and more, we'll tend to fall in love with lists.  Lists are really good because they allow us to both select elements and also loop through elements of a list.\n",
        "\n",
        "In this lesson we'll see how we can turn a string into a list with the `split` method.  And then we'll move onto the join method."
      ]
    },
    {
      "cell_type": "markdown",
      "metadata": {
        "id": "yrx9h6pVvNYt"
      },
      "source": [
        "### Introducing Split"
      ]
    },
    {
      "cell_type": "markdown",
      "metadata": {
        "id": "Ssb2qOI7vNYu"
      },
      "source": [
        "Let's say that we get some text that is consists of a person's first and last name. And we want to write a method that selects the person's last name."
      ]
    },
    {
      "cell_type": "code",
      "execution_count": 1,
      "metadata": {
        "id": "lCDT56EMvNYu"
      },
      "outputs": [],
      "source": [
        "name = 'bob smith'"
      ]
    },
    {
      "cell_type": "markdown",
      "metadata": {
        "id": "tftDlKvsvNYv"
      },
      "source": [
        "We think of the task as separating the string into two words, and then selecting the last word.  A good way to perform this is with the split method.  "
      ]
    },
    {
      "cell_type": "code",
      "execution_count": null,
      "metadata": {
        "id": "ou163o1WvNYw"
      },
      "outputs": [],
      "source": []
    },
    {
      "cell_type": "code",
      "execution_count": 2,
      "metadata": {
        "id": "GlXtuzpSvNYw",
        "outputId": "68c29f92-2dad-469f-8104-40618b28d657",
        "colab": {
          "base_uri": "https://localhost:8080/"
        }
      },
      "outputs": [
        {
          "output_type": "execute_result",
          "data": {
            "text/plain": [
              "['bob', 'smith']"
            ]
          },
          "metadata": {},
          "execution_count": 2
        }
      ],
      "source": [
        "name.split(' ')"
      ]
    },
    {
      "cell_type": "markdown",
      "metadata": {
        "id": "WZU9_SpbvNYx"
      },
      "source": [
        "We can call the split method on a string.  And as it's argument, we indicate what character to separate our string by.  Here, every time we see a space, we want to separate our string into a different element."
      ]
    },
    {
      "cell_type": "markdown",
      "metadata": {
        "id": "aGSNkuDHvNYy"
      },
      "source": [
        "Then we can select the last element."
      ]
    },
    {
      "cell_type": "code",
      "execution_count": 3,
      "metadata": {
        "id": "02MXTsCrvNYy",
        "outputId": "6f4c55ac-66c6-4a6e-c50d-785eec1e3589",
        "colab": {
          "base_uri": "https://localhost:8080/",
          "height": 35
        }
      },
      "outputs": [
        {
          "output_type": "execute_result",
          "data": {
            "text/plain": [
              "'smith'"
            ],
            "application/vnd.google.colaboratory.intrinsic+json": {
              "type": "string"
            }
          },
          "metadata": {},
          "execution_count": 3
        }
      ],
      "source": [
        "name.split(' ')[-1]"
      ]
    },
    {
      "cell_type": "markdown",
      "metadata": {
        "id": "acapQ7WLvNYy"
      },
      "source": [
        "### Change then recombine."
      ]
    },
    {
      "cell_type": "markdown",
      "metadata": {
        "id": "-70BcVMNvNYy"
      },
      "source": [
        "Now we just saw how we can split with a string, let's see how we can use split to format our text. For example, let's say that we want to capitalize each word in our string.  One way to do this is with split."
      ]
    },
    {
      "cell_type": "code",
      "execution_count": 4,
      "metadata": {
        "id": "m0SvUI7svNYy",
        "outputId": "bfa0116a-f163-47b6-a047-93b968d788ff",
        "colab": {
          "base_uri": "https://localhost:8080/"
        }
      },
      "outputs": [
        {
          "output_type": "execute_result",
          "data": {
            "text/plain": [
              "['Bob', 'Smith']"
            ]
          },
          "metadata": {},
          "execution_count": 4
        }
      ],
      "source": [
        "names = name.split(' ')\n",
        "cap_words = [word.capitalize() for word in names]\n",
        "cap_words"
      ]
    },
    {
      "cell_type": "markdown",
      "metadata": {
        "id": "7lYyhWvwvNY0"
      },
      "source": [
        "So this is a common task in programming - the need to format components of a string in the same way.  So to do so, we can break parts of our string into elements of a list, and then format each of the elements."
      ]
    },
    {
      "cell_type": "markdown",
      "metadata": {
        "id": "umwrEOTvvNY0"
      },
      "source": [
        "Finally, we may want to recombine our list of elements.  We can do this with join."
      ]
    },
    {
      "cell_type": "code",
      "execution_count": 5,
      "metadata": {
        "id": "zbkybIfFvNY0",
        "outputId": "785d28df-74cb-4e86-df8a-d5369f53c67a",
        "colab": {
          "base_uri": "https://localhost:8080/",
          "height": 35
        }
      },
      "outputs": [
        {
          "output_type": "execute_result",
          "data": {
            "text/plain": [
              "'Bob Smith'"
            ],
            "application/vnd.google.colaboratory.intrinsic+json": {
              "type": "string"
            }
          },
          "metadata": {},
          "execution_count": 5
        }
      ],
      "source": [
        "' '.join(cap_words)"
      ]
    },
    {
      "cell_type": "markdown",
      "metadata": {
        "id": "6qla4DdHvNY0"
      },
      "source": [
        "So in the join method, we can recombine our the elements of our list.  And we `join` our elements by the string we call join on.  For example, let's join our two elements with a comma."
      ]
    },
    {
      "cell_type": "code",
      "execution_count": 6,
      "metadata": {
        "id": "RAa6RmwfvNY1",
        "outputId": "8ed133b9-0a8a-4592-e3b4-9d9dc8137ef0",
        "colab": {
          "base_uri": "https://localhost:8080/",
          "height": 35
        }
      },
      "outputs": [
        {
          "output_type": "execute_result",
          "data": {
            "text/plain": [
              "'Bob, Smith'"
            ],
            "application/vnd.google.colaboratory.intrinsic+json": {
              "type": "string"
            }
          },
          "metadata": {},
          "execution_count": 6
        }
      ],
      "source": [
        "', '.join(cap_words)"
      ]
    },
    {
      "cell_type": "markdown",
      "metadata": {
        "id": "KoVjK_GMvNY1"
      },
      "source": [
        "### Do it again"
      ]
    },
    {
      "cell_type": "markdown",
      "metadata": {
        "id": "v4hUfQUivNY1"
      },
      "source": [
        "Let's recap what we just saw.  We saw that we can more easily work with strings by first changing them into lists, performing an operation, and then joining components of the list back together."
      ]
    },
    {
      "cell_type": "code",
      "execution_count": 7,
      "metadata": {
        "id": "NW_W41DLvNY1",
        "outputId": "67e863f7-a664-4f44-c6b4-17c5f562f091",
        "colab": {
          "base_uri": "https://localhost:8080/"
        }
      },
      "outputs": [
        {
          "output_type": "execute_result",
          "data": {
            "text/plain": [
              "['Bob', 'Smith']"
            ]
          },
          "metadata": {},
          "execution_count": 7
        }
      ],
      "source": [
        "name = 'bob smith'\n",
        "\n",
        "names = [word.capitalize()\n",
        "          for word in name.split()]\n",
        "names"
      ]
    },
    {
      "cell_type": "code",
      "execution_count": 8,
      "metadata": {
        "id": "PZebrRshvNY1",
        "outputId": "cda3dbc9-748b-46d9-a35c-1f50e150543d",
        "colab": {
          "base_uri": "https://localhost:8080/",
          "height": 35
        }
      },
      "outputs": [
        {
          "output_type": "execute_result",
          "data": {
            "text/plain": [
              "'Bob Smith'"
            ],
            "application/vnd.google.colaboratory.intrinsic+json": {
              "type": "string"
            }
          },
          "metadata": {},
          "execution_count": 8
        }
      ],
      "source": [
        "' '.join(names)"
      ]
    },
    {
      "cell_type": "markdown",
      "metadata": {
        "tags": [],
        "id": "ctdmVetIvNY2"
      },
      "source": [
        "### Summary"
      ]
    },
    {
      "cell_type": "markdown",
      "metadata": {
        "id": "1TOC8R8FvNY2"
      },
      "source": [
        "In this lesson we saw how we can clean strings by using the `split` method followed by the `join` method.\n",
        "\n",
        "We can use the split method to separate our string into elements of a list.  Then we can loop throug our list and coerce each element.  Finally, we can recombine our elements into a string using the `join` method.\n",
        "\n"
      ]
    }
  ],
  "metadata": {
    "kernelspec": {
      "display_name": "Python 3 (ipykernel)",
      "language": "python",
      "name": "python3"
    },
    "language_info": {
      "codemirror_mode": {
        "name": "ipython",
        "version": 3
      },
      "file_extension": ".py",
      "mimetype": "text/x-python",
      "name": "python",
      "nbconvert_exporter": "python",
      "pygments_lexer": "ipython3",
      "version": "3.9.7"
    },
    "colab": {
      "provenance": []
    }
  },
  "nbformat": 4,
  "nbformat_minor": 0
}